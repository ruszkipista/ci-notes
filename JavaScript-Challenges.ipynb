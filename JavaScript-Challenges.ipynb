{
 "cells": [
  {
   "cell_type": "markdown",
   "metadata": {},
   "source": [
    "## CodeSignal and Code Institute challenges\n",
    "- [Bits and pieces](#Bits-and-pieces)"
   ]
  },
  {
   "cell_type": "markdown",
   "metadata": {},
   "source": [
    "## banknoteDispenser\n",
    "The National Bank wants the ATM to dispense any requested amount using the minimum number of banknotes, assuming that the supply of banknotes of each denomination is unlimited. Help the National Bank to solve this problem. \n",
    "\n",
    "The program must take `2` arguments. The first argument of the input contains an array with `n` different natural numbers $x_1$, $x_2$, ..., $x_n$, not exceeding `1.000.000`. The second argument must take a natural number `S` not exceeding `5.000.000`.\n",
    "The program must find the representation of the number `S` as a sum of terms from the set {$x_i$} containing the minimum number of terms and display this representation on the screen. If there are several such representations, the program must display any (one) of them. If such a representation does not exist, then the program should print the sentence **this amount cannot be issued**.\n",
    "\n",
    "**Examples**\n",
    "\n",
    "|banknote denominations|sum to be dispensed|issued notes|\n",
    "|:-|:-|:-|\n",
    "|1 3 7 12 32 |40 |1 7 32\n",
    "|10 50 100 500 1000 |99 |this amount cannot be issued \n",
    "|1 7 20 50 |89 |1 1 1 1 1 7 7 20 50\n"
   ]
  },
  {
   "cell_type": "markdown",
   "metadata": {},
   "source": [
    "#### first solution with `while` loop and comments"
   ]
  },
  {
   "cell_type": "code",
   "execution_count": 1,
   "metadata": {},
   "outputs": [
    {
     "data": {
      "text/plain": [
       "[ [ 1, 7, 32 ],\n",
       "  'this amount cannot be issued',\n",
       "  [ 1, 1, 1, 1, 1, 7, 7, 20, 50 ] ]"
      ]
     },
     "execution_count": 1,
     "metadata": {},
     "output_type": "execute_result"
    }
   ],
   "source": [
    "function banknoteDispenser(notes,sum){\n",
    "  dispense = [];\n",
    "  // there is no promise that the \"arr\" is sorted in any way, so let's sort it for the algorithm to work\n",
    "  // descending order, so the exit criteria can address the first element of \"notes\"\n",
    "  notes = notes.sort((a,b)=>a>b);\n",
    "  // start from the highest denominated note\n",
    "  let i = notes.length-1;\n",
    "  // do until the leftover dispensable amount is not less than the smallest denomination\n",
    "  while (sum>=notes[0]){\n",
    "    // how many notes needed from the actual note\n",
    "    const count = Math.floor(sum/notes[i]);\n",
    "    // add \"count\" number of notes from the actual note to the solution\n",
    "    if (count>0) dispense = Array(count).fill(notes[i]).concat(dispense);\n",
    "    // decrease the sum to be dispensed\n",
    "    sum = sum % notes[i];\n",
    "    // take next note\n",
    "    i--;\n",
    "  }\n",
    "  // is the leftover amount decreased to 0, we have a solution, otherwise not\n",
    "  return (sum===0) ? dispense : \"this amount cannot be issued\";\n",
    "}\n",
    "\n",
    "// test cases\n",
    "[ banknoteDispenser([1, 3, 7, 12, 32], 40),         // expected [1, 7, 32]\n",
    "  banknoteDispenser([10, 50, 100, 500, 1000], 99),  // expected \"this amount cannot be issued\"\n",
    "  banknoteDispenser([1, 7, 20, 50], 89) ]           // expected [1, 1, 1, 1, 1, 7, 7, 20, 50]"
   ]
  },
  {
   "cell_type": "markdown",
   "metadata": {},
   "source": [
    "#### second, (functional) solution, derived from first"
   ]
  },
  {
   "cell_type": "code",
   "execution_count": 2,
   "metadata": {},
   "outputs": [
    {
     "data": {
      "text/plain": [
       "[ [ 1, 7, 32 ],\n",
       "  'this amount cannot be issued',\n",
       "  [ 1, 1, 1, 1, 1, 7, 7, 20, 50 ] ]"
      ]
     },
     "execution_count": 2,
     "metadata": {},
     "output_type": "execute_result"
    }
   ],
   "source": [
    "function banknoteDispenser(notes,sum){\n",
    "  const issue = notes.sort((a,b)=>a<b).reduce((disp,note,i,arr)=>(disp = Array(sum/note|0).fill(note).concat(disp), sum=sum%note, disp),[]);\n",
    "  return (sum===0) ? issue : \"this amount cannot be issued\";\n",
    "}\n",
    "\n",
    "// test cases\n",
    "[ banknoteDispenser([1, 3, 7, 12, 32], 40),         // expected [1, 7, 32]\n",
    "  banknoteDispenser([10, 50, 100, 500, 1000], 99),  // expected \"this amount cannot be issued\"\n",
    "  banknoteDispenser([1, 7, 20, 50], 89) ]           // expected [1, 1, 1, 1, 1, 7, 7, 20, 50]"
   ]
  },
  {
   "cell_type": "markdown",
   "metadata": {},
   "source": [
    "this second solution sacrifices\n",
    "- the early exit when the `sum` decreases below of the smallest denomination\n",
    "- the decision on to append (`concat`) the dispensable notes if the current note can not be used\n",
    "\n",
    "Also there are 2 lines within the function `banknoteDispenser`, so I am not sure if the code still classifies as functional. Anyway, removing the need of use of variable `issue` would further complicate the code for no real gain.\n",
    "\n",
    "So, in a production environment, I would use the first solution."
   ]
  },
  {
   "cell_type": "markdown",
   "metadata": {},
   "source": [
    "## indexInStrangeNaturalNumbers\n",
    "In connection with the reform of education in the 10th Kingdom, a new subject was introduced. The name of this subject is *strange mathematics*. Its main difference from ordinary mathematics is that the numbers in it are ordered not in ascending order, but lexicographically, that is, as in a dictionary (first by the first digit, then, if the first digit is equal, by the second, and so on). In addition, not an infinite set of natural numbers is considered, but only the first `n` numbers. So, for example, if `n = 11`, then the numbers in strange mathematics are ordered as follows: `1`, `10`, `11`, `2`, `3`, `4`, `5`, `6`, `7`, `8`, `9`.\n",
    "\n",
    "Help students in the study of this subject - write a program that, given `n`, finds the place of a given number `k` in the order defined in strange mathematics. \n",
    "\n",
    "**Example**\n",
    "\n",
    "\tInput: n = 11, k = 2  =>  Output = 4\n"
   ]
  },
  {
   "cell_type": "markdown",
   "metadata": {},
   "source": [
    "#### first solution\n",
    "In the description there is no constraint on the size of `n`. The following solution assumes infinite memory to calculate the answer, therfore its application is limited by the memory size of the computing unit. N=10^7 took 20 sec on my laptop."
   ]
  },
  {
   "cell_type": "code",
   "execution_count": 3,
   "metadata": {},
   "outputs": [
    {
     "data": {
      "text/plain": [
       "[ 1, 4, 2, -1 ]"
      ]
     },
     "execution_count": 3,
     "metadata": {},
     "output_type": "execute_result"
    }
   ],
   "source": [
    "function indexInStrangeNaturalNumbers1(n,k) {\n",
    "  if (k>n || n<1) return -1;\n",
    "  let count = 0;\n",
    "  return Array(n).fill(0).map(e=>++count).sort().indexOf(k)+1;\n",
    "}\n",
    "\n",
    "// tests\n",
    "[ indexInStrangeNaturalNumbers1(11,1),    // expected 1\n",
    "  indexInStrangeNaturalNumbers1(11,2),    // expected 4\n",
    "  indexInStrangeNaturalNumbers1(11,10),   // expected 2\n",
    "  indexInStrangeNaturalNumbers1(11,12) ]  // expected -1"
   ]
  },
  {
   "cell_type": "markdown",
   "metadata": {},
   "source": [
    "#### second solution\n",
    "found this [article](https://stackoverflow.com/questions/39060106/#39060474) on StackOverflow and modified the function `oneToNLexicographical()` to stop at `k`\n",
    ">Example implementation that uses O(n) runtime and O(1) space, where you don't have to generate and sort all the numbers up front before you can output the first one: [demonstration](http://ideone.com/1Nr8Sy)"
   ]
  },
  {
   "cell_type": "code",
   "execution_count": 4,
   "metadata": {},
   "outputs": [
    {
     "data": {
      "text/plain": [
       "[ 4, 1111113 ]"
      ]
     },
     "execution_count": 4,
     "metadata": {},
     "output_type": "execute_result"
    }
   ],
   "source": [
    "function indexInStrangeNaturalNumbers2(n,k) {\n",
    "    if (k>n || n<1) return -1;\n",
    " \n",
    "    // count max digits\n",
    "    let digits = 1, m = n, max_digit11 = 1, max_digit10 = 1;\n",
    "    while(m >= 10) {\n",
    "        m /= 10; \n",
    "        digits++; \n",
    "        max_digit11 *= 11;\n",
    "        max_digit10 *= 10;\n",
    "    }\n",
    "    \n",
    "    let count = 0;\n",
    "    let found_n = false;\n",
    "    // count up starting from max_digit * 2 (first valid value with no leading spaces)\n",
    "    let val = max_digit10;\n",
    "    for (let i = max_digit11 * 2; ; i++) {\n",
    "        let trailing_spaces = 0, pow11 = 1, pow10 = 1;\n",
    "        let j = i;\n",
    "        while (j % 11 == 0) {\n",
    "            trailing_spaces++;\n",
    "            pow11 *= 11;\n",
    "            pow10 *= 10;\n",
    "            j /= 11;\n",
    "        }\n",
    " \n",
    "        let output_val = val / pow10;       \n",
    "        if (output_val <= n) {\n",
    "            count++;\n",
    "            if (output_val == k) return count;\n",
    "        }\n",
    "        if (output_val == n) found_n = true;\n",
    " \n",
    "        if (trailing_spaces > 1) \n",
    "            i += (pow11 / 11) - 1;\n",
    "        else if (found_n && (trailing_spaces == 1)) {\n",
    "            i += 10;\n",
    "            val += 10;\n",
    "        }\n",
    "        else if (trailing_spaces == 0)  \n",
    "            val++;\n",
    "    }\n",
    "}\n",
    "\n",
    "// tests\n",
    "[ indexInStrangeNaturalNumbers2(11,2),        // expected 4\n",
    "  indexInStrangeNaturalNumbers2(10000000,2)]  // expected 8888890 "
   ]
  },
  {
   "cell_type": "markdown",
   "metadata": {},
   "source": [
    "#### third solution\n",
    "used the `Test()` function from [this](https://www.careercup.com/question?id=6185570560638976) article to get the numbers from `1` to `n` in lexicographical order and refactored with built in stoppage at `k`"
   ]
  },
  {
   "cell_type": "code",
   "execution_count": 5,
   "metadata": {},
   "outputs": [
    {
     "data": {
      "text/plain": [
       "[ 4, 8888890 ]"
      ]
     },
     "execution_count": 5,
     "metadata": {},
     "output_type": "execute_result"
    }
   ],
   "source": [
    "function indexInStrangeNaturalNumbers3(n,k) {\n",
    "    if (k>n || n<1) return -1;\n",
    "    let count = 0;\n",
    "    const oneToNLexicographical = (next)=>{\n",
    "        if (next > n) return;\n",
    "        for (let i = 0; i<10 && next <= n; i++) {\n",
    "            // console.log(next)\n",
    "            count++;\n",
    "            if (next===k || oneToNLexicographical(next*10)) return count;\n",
    "            if (++next % 10 == 0) return;\n",
    "        }\n",
    "    }\n",
    "    return oneToNLexicographical(1);\n",
    "}\n",
    "\n",
    "[ indexInStrangeNaturalNumbers3(11,2),        // expected 4\n",
    "  indexInStrangeNaturalNumbers3(10000000,9)]  // expected 8888890 "
   ]
  },
  {
   "cell_type": "markdown",
   "metadata": {},
   "source": [
    "Tested the three solutions on one test case for speed and memory usage:"
   ]
  },
  {
   "cell_type": "code",
   "execution_count": 6,
   "metadata": {},
   "outputs": [
    {
     "name": "stdout",
     "output_type": "stream",
     "text": [
      "Runtime for indexInStrangeNaturalNumbers1, Runtime: 32083 ms, Heap usage: 165074.8 KB\n",
      "Runtime for indexInStrangeNaturalNumbers2, Runtime: 220 ms, Heap usage: 5.5 KB\n",
      "Runtime for indexInStrangeNaturalNumbers3, Runtime: 220 ms, Heap usage: 7.7 KB\n"
     ]
    }
   ],
   "source": [
    "function testFunction(functionName, times, n, k){\n",
    "    let used = process.memoryUsage().heapUsed / 1024;\n",
    "    let t1;\n",
    "    let t2;\n",
    "    t1 = new Date().getTime();\n",
    "    for (let i=0;i<times;i++)\n",
    "        functionName(n,k)\n",
    "    t2 = new Date().getTime();\n",
    "    used = process.memoryUsage().heapUsed / 1024 - used;\n",
    "    console.log(`Runtime for ${functionName.name}, Runtime: ${(t2-t1)/times} ms, Heap usage: ${Math.round(used * 10) / 10} KB`);\n",
    "}\n",
    "testFunction(indexInStrangeNaturalNumbers1,1, 10000000,9)\n",
    "testFunction(indexInStrangeNaturalNumbers2,1, 10000000,9)\n",
    "testFunction(indexInStrangeNaturalNumbers3,1, 10000000,9)"
   ]
  },
  {
   "cell_type": "markdown",
   "metadata": {},
   "source": [
    "The second and third solution runs about the same time, but the third uses more memory than second and also the second's memory usage is constant while the third's depends on the `n`. My recommendation would be:\n",
    "- `n < 1000` - use any of the three solution\n",
    "- `n > 1000` - second or third\n",
    "- really big `n`: use only the second solution"
   ]
  },
  {
   "cell_type": "markdown",
   "metadata": {},
   "source": [
    "## whoHasWinningStrategy\n",
    "There are `N` candies on the table. Two players take turns taking `1`, `2` or `5` candies. The one who takes the last candy wins. \n",
    "\n",
    "The program should display the number of the player (`1` or `2`)  who has a winning strategy, and in case if it's the first player, then it should display the initial amount of candies that the player needs to take in order to win. Note that the first player always takes the candy first.   \n",
    "\n",
    "The program should take only one argument - the number of candies `N`. \n",
    "\n",
    "**Example**\n",
    "\n",
    "|Number of Candies |Who has Winning Strategy |Given Player 1's start| Correct Player 1's start|\n",
    "|:-|:-|:-|:-|\n",
    "|6 | Player 2 |\n",
    "|7 | Player 1 | take 1 candy| take 1\n",
    "|11 | Player 1 | take 2 candies| take 2 or 5\n",
    "| 5 | Player 1 | take 0 candies| take 2 or 5\n",
    "|27 | Player 2 |\n",
    "|32 | Player 1 | take 5 candies| take 2 or 5\n"
   ]
  },
  {
   "cell_type": "markdown",
   "metadata": {},
   "source": [
    "#### first solution\n",
    "This is an experimental solution using the known outcomes of the first 5 numbers. The code builds up the the winnability of the game for Player 1 incrementally up to `n`."
   ]
  },
  {
   "cell_type": "code",
   "execution_count": 7,
   "metadata": {},
   "outputs": [
    {
     "data": {
      "text/plain": [
       "[ [ 1, [ 1 ] ],\n",
       "  [ 1, [ 2 ] ],\n",
       "  2,\n",
       "  [ 1, [ 1 ] ],\n",
       "  [ 1, [ 2, 5 ] ],\n",
       "  2,\n",
       "  [ 1, [ 1 ] ],\n",
       "  [ 1, [ 2, 5 ] ],\n",
       "  2,\n",
       "  [ 1, [ 2, 5 ] ] ]"
      ]
     },
     "execution_count": 7,
     "metadata": {},
     "output_type": "execute_result"
    }
   ],
   "source": [
    "function whoHasWinningStrategy(n, debug=false) {\n",
    "    const moves = [1,2,5];\n",
    "    const winnable = [false,true,true,false,true,true];\n",
    "    for (let i=6; i<=n; i++) \n",
    "        if (moves.every(e=>winnable[i-e])) winnable.push(false)\n",
    "        else winnable.push(true);\n",
    "    if (debug) winnable.forEach((e,i)=>(!e)?console.log(i,':',e):0);\n",
    "    const start = moves.filter(e=>(n-e)>=0 && !winnable[n-e]);\n",
    "    return (winnable[n]) ? [1,start] : 2;\n",
    "}\n",
    "[ whoHasWinningStrategy(1),   // expected 1, [1]\n",
    "  whoHasWinningStrategy(2),   // expected 1, [2]\n",
    "  whoHasWinningStrategy(3),   // expected 2\n",
    "  whoHasWinningStrategy(4),   // expected 1, [1]\n",
    "  whoHasWinningStrategy(5),   // expected 1, [2,5]\n",
    "  whoHasWinningStrategy(6),   // expected 2\n",
    "  whoHasWinningStrategy(7),   // expected 1, [1]\n",
    "  whoHasWinningStrategy(11),  // expected 1, [2,5]\n",
    "  whoHasWinningStrategy(27),  // expected 2\n",
    "  whoHasWinningStrategy(32) ] // expected 1, [2,5]"
   ]
  },
  {
   "cell_type": "markdown",
   "metadata": {},
   "source": [
    "After analysing the first solution, this is the logic to determine who has winning strategy:\n",
    "- Player 2 has a winning strategy if `n` divisible by 3\n",
    "- Player 1 has a winning strategy otherwise. \n",
    "  * If `n` modulo 3 equals 2, Player 1 should start with taking 2 or 5 candies.\n",
    "  * If `n` modulo 3 equals 1, Player 1 should start with taking 1 candy.\n",
    "  * If `n` modulo 3 equals 0, Player 1 does not have a winning strategy\n",
    "  \n",
    "Any player's strategy at start or during the game:\n",
    "\n",
    "* On each turn take 1 or 2 or 5 candies, whichever leaves the number of candies divisible by 3 on the table."
   ]
  },
  {
   "cell_type": "markdown",
   "metadata": {},
   "source": [
    "#### second solution\n",
    "Implementing the result of the analysis of the first solution, with a little twist to easily get the possible start moves for the Player 1, if they have a winning strategy."
   ]
  },
  {
   "cell_type": "code",
   "execution_count": 8,
   "metadata": {},
   "outputs": [
    {
     "data": {
      "text/plain": [
       "[ [ 1, [ 1 ] ],\n",
       "  [ 1, [ 2 ] ],\n",
       "  2,\n",
       "  [ 1, [ 1 ] ],\n",
       "  [ 1, [ 2, 5 ] ],\n",
       "  2,\n",
       "  [ 1, [ 1 ] ],\n",
       "  [ 1, [ 2, 5 ] ],\n",
       "  2,\n",
       "  [ 1, [ 2, 5 ] ] ]"
      ]
     },
     "execution_count": 8,
     "metadata": {},
     "output_type": "execute_result"
    }
   ],
   "source": [
    "function whoHasWinningStrategy(n, debug=false) {\n",
    "    const start = [1,2,5].filter(e=>(n-e)>=0 && !((n-e)%3));\n",
    "    return (start.length) ? [1,start] : 2;\n",
    "}\n",
    "[ whoHasWinningStrategy(1),   // expected 1, [1]\n",
    "  whoHasWinningStrategy(2),   // expected 1, [2]\n",
    "  whoHasWinningStrategy(3),   // expected 2\n",
    "  whoHasWinningStrategy(4),   // expected 1, [1]\n",
    "  whoHasWinningStrategy(5),   // expected 1, [2,5]\n",
    "  whoHasWinningStrategy(6),   // expected 2\n",
    "  whoHasWinningStrategy(7),   // expected 1, [1]\n",
    "  whoHasWinningStrategy(11),  // expected 1, [2,5]\n",
    "  whoHasWinningStrategy(27),  // expected 2\n",
    "  whoHasWinningStrategy(32) ] // expected 1, [2,5]"
   ]
  },
  {
   "cell_type": "markdown",
   "metadata": {},
   "source": [
    "## Three Dinosaurs\n",
    "The three dinosaurs had a great New Years Eve party. But the next day, it turned out that one of those dinosaurs ate your friend Joseph (poor Joseph, what else to say). After that, you, as his friend, decided to save Joseph and went to the dinosaurs. \n",
    "\n",
    "One of the dinosaurs, let's call him Mike, said that you still have a chance to save your friend if you make a good guess which dinosaur ate your friend. \n",
    "\n",
    "After your guess (you said that it was Mike!), one of the dinosaurs, let's call him Kyle, said that he didn't eat your friend and decided not to participate in this game (Kyle is known to everyone as a dinosaur who never lies!). After there were only two dinosaurs left in the game, Mike asked you if you want to change your mind and choose another dinosaur (let's call him Albert), or do you still think that it was Mike who ate your friend. \n",
    "\n",
    "**Explain whether you would change your mind or stay with the same opinion and why exactly?**"
   ]
  },
  {
   "cell_type": "markdown",
   "metadata": {},
   "source": [
    "#### Solution\n",
    "I had a vague memory of this problem I saw in my kid's homework. After googling the query of *\"logical puzzle guess and then you are allowed to change your guess\"*. Found top hit Wikipedia article [Monty Hall problem](https://en.wikipedia.org/wiki/Monty_Hall_problem). The current puzzle seems a variation of it.\n",
    "\n",
    "Similarities:\n",
    "- Contestant have 3 options, 1 winning and 2 losing\n",
    "- Contestant has to choose one option\n",
    "- Initially each option has 1/3 probability from the contestant point of view\n",
    "- Contestant chooses one (hidden) option\n",
    "- One losing option is eliminated\n",
    "- Host offers a switch to the contestant to choose the other (hidden) remaining option\n",
    "- Host has interest to see the contestant loosing\n",
    "\n",
    "As I understand, \"always switching\" after the initial selection has 2/3 probability of winning given the host eliminates a losing option after the contestant picks it's first choice. This strategy depends on 3 standard assumptions:\n",
    "\n",
    "> 1. The host must always eliminate one losing option that was not picked by the contestant.\n",
    "> 2. The host must always eliminate one losing option and never the winning option.\n",
    "> 3. The host must always offer the chance to switch between the originally chosen option and the remaining option.\n",
    "\n",
    "However, this game is different, because these 3 standard assumptions does not stand.\n",
    "\n",
    "- The host does not have to offer the chance to switch between the originally chosen option and the remaining option\n",
    "- The game seems like a one-off play, not possible to observe the hosts behaviour on offering the switch (wether it always offers the switch or not)\n",
    "- The host can have the following thinking that alters the recommended strategy for me:\n",
    "  * The host knows about the the recommended \"always switch\" strategy of the contestants, \n",
    "  * The host assumes that the contestant aware of it too and assumes that the contestant finds similar enough to follow the recommended strategy. So the host assumes that he is the cleverer one.\n",
    "  * Assuming, that the first pick was correct (the host ate our friend), the host offers the switch to decrease the probability of contestant winning from 1 to 1/3. So the host has clear interest to offer the switch in this case.\n",
    "  * Assuming, that the first pick was wrong, the host offering the switch would increase the chance of contestant winning from 0 to 2/3 - but why would the host would do such thing?\n",
    "        \n",
    "**So assuming the indepenence on the hosts decision wether to offer a switch or not, I would stick to the original pick that Mike ate my friend Joseph.**"
   ]
  },
  {
   "cell_type": "markdown",
   "metadata": {},
   "source": [
    "## Two Programmers and Three Kids\n",
    "Two programmers, who had not seen each other for a long time, met by chance on the street. They had the following dialogue:\n",
    "\n",
    "- I heard you have children.\n",
    "- Yes, three sons.\n",
    "- And how old are they?\n",
    "- Well ... In total - thirteen!\n",
    "- Hmm ... This information is not enough!  What else can you say?\n",
    "- If you multiply the ages, then you get a number equal to the number of windows in the building opposite us.\n",
    "\n",
    "The programmer counts the windows and thinks about the options...\n",
    "\n",
    "- But this is still not enough for an answer!\n",
    "- I can add that my eldest son has red hair.\n",
    "- Well, now it's a completely different matter. They are... (the answer follows).\n",
    "- Correctly!\n",
    "\n",
    "**How old were they? And how was the first able to calculate the ages?**"
   ]
  },
  {
   "cell_type": "markdown",
   "metadata": {},
   "source": [
    "#### Solution\n",
    "Is there `0` year old among the kids? - no, because the product of their age is greater than 0, because the programmer counts the windows on the building. 0 Windows does not require counting, so there is at least `1` window on the building.\n",
    "\n",
    "* => So I close out the `0` and `13` years as possibility from the combinations:"
   ]
  },
  {
   "cell_type": "code",
   "execution_count": 9,
   "metadata": {},
   "outputs": [
    {
     "name": "stdout",
     "output_type": "stream",
     "text": [
      "[ { combination: [ 1, 1, 11 ], product: 11 },\n",
      "  { combination: [ 1, 2, 10 ], product: 20 },\n",
      "  { combination: [ 1, 3, 9 ], product: 27 },\n",
      "  { combination: [ 1, 4, 8 ], product: 32 },\n",
      "  { combination: [ 1, 5, 7 ], product: 35 },\n",
      "  { combination: [ 1, 6, 6 ], product: 36 },\n",
      "  { combination: [ 2, 2, 9 ], product: 36 },\n",
      "  { combination: [ 2, 3, 8 ], product: 48 },\n",
      "  { combination: [ 2, 4, 7 ], product: 56 },\n",
      "  { combination: [ 2, 5, 6 ], product: 60 },\n",
      "  { combination: [ 3, 3, 7 ], product: 63 },\n",
      "  { combination: [ 3, 4, 6 ], product: 72 },\n",
      "  { combination: [ 3, 5, 5 ], product: 75 },\n",
      "  { combination: [ 4, 4, 5 ], product: 80 } ]\n"
     ]
    }
   ],
   "source": [
    "function getAgeCombinationsOfThree(sumOfAges) {\n",
    "    const ages = [];\n",
    "    for (let i=1; i<sumOfAges; i++) {\n",
    "        for (let j=i; j<sumOfAges; j++) {\n",
    "            k = sumOfAges-i-j;\n",
    "            if (k>0 && k>=j) {\n",
    "                c = [i, j, k];\n",
    "                ages.push( {'combination':c, 'product':(c[0]*c[1]*c[2])} );\n",
    "            }\n",
    "        }\n",
    "    }\n",
    "    return ages;\n",
    "}\n",
    "var ageCombinations = getAgeCombinationsOfThree(13);\n",
    "console.log(ageCombinations);"
   ]
  },
  {
   "cell_type": "markdown",
   "metadata": {},
   "source": [
    "So we found `14` different possible age combinations which each adds up to `13`. The combinations are conveniently sorted by their product as well.\n",
    "\n",
    "At this point the first programmer counts the windows and can not decide. This means, there are more than one combinations exist with the same product."
   ]
  },
  {
   "cell_type": "code",
   "execution_count": 10,
   "metadata": {},
   "outputs": [
    {
     "name": "stdout",
     "output_type": "stream",
     "text": [
      "[ { combination: [ 1, 6, 6 ], product: 36 },\n",
      "  { combination: [ 2, 2, 9 ], product: 36 } ]\n"
     ]
    }
   ],
   "source": [
    "function getNotUnique(ages) {\n",
    "    const counts = ages.reduce((counts,e,_,arr) => (counts[e['product']]=-~counts[e['product']],counts),{});\n",
    "    return ages.filter(e => counts[e['product']] > 1);\n",
    "}\n",
    "ageCombinations = getNotUnique(ageCombinations);\n",
    "console.log(ageCombinations);"
   ]
  },
  {
   "cell_type": "markdown",
   "metadata": {},
   "source": [
    "The non-unique product(s) (as above) are calculated from the following age combinations:\n",
    "\n",
    "`(1, 6, 6)` and `(2, 2, 9)`, each has the product of `36`\n",
    "    \n",
    "Then first programmer asks for an other clue, and gets the information that there is an \"eldest son\". \n",
    "\n",
    "Let's filter those combinations where the eldest is older than the second oldest:"
   ]
  },
  {
   "cell_type": "code",
   "execution_count": 11,
   "metadata": {},
   "outputs": [
    {
     "name": "stdout",
     "output_type": "stream",
     "text": [
      "[ { combination: [ 2, 2, 9 ], product: 36 } ]\n"
     ]
    }
   ],
   "source": [
    "console.log(ageCombinations.filter(e => e['combination'][2] > e['combination'][1] ));"
   ]
  },
  {
   "cell_type": "markdown",
   "metadata": {},
   "source": [
    "This narrows down to one possible case, where there is a single (not twin) eldest son, which is the `(2,2,9)` combination."
   ]
  },
  {
   "cell_type": "markdown",
   "metadata": {},
   "source": [
    "## Array: firstDuplicate\n",
    "Write a function that given an array of integers, return the first duplicate number for which the second occurrence has the minimal index. If no duplicates can be found, return `-1`."
   ]
  },
  {
   "cell_type": "code",
   "execution_count": 12,
   "metadata": {},
   "outputs": [
    {
     "data": {
      "text/plain": [
       "[ 3, 2, -1, 6, 1 ]"
      ]
     },
     "execution_count": 12,
     "metadata": {},
     "output_type": "execute_result"
    }
   ],
   "source": [
    "function firstDuplicate(a) {\n",
    "  const set = new Set();\n",
    "  for (let i=0; i<a.length; i++){\n",
    "      if (set.has(a[i])) return a[i];\n",
    "      set.add(a[i]);\n",
    "  }\n",
    "  return -1;\n",
    "}\n",
    "[ firstDuplicate([2, 1, 3, 5, 3, 2]),             // expected 3\n",
    "  firstDuplicate([2, 2]),                         // expected 2\n",
    "  firstDuplicate([2, 4, 3, 5, 1]),                // expected -1\n",
    "  firstDuplicate([8, 4, 6, 2, 6, 4, 7, 9, 5, 8]), // expected 6\n",
    "  firstDuplicate([1, 1, 2, 2, 1])]                // expected 1 "
   ]
  },
  {
   "cell_type": "code",
   "execution_count": 13,
   "metadata": {},
   "outputs": [
    {
     "data": {
      "text/plain": [
       "[ 3, 2, -1, 6, 1 ]"
      ]
     },
     "execution_count": 13,
     "metadata": {},
     "output_type": "execute_result"
    }
   ],
   "source": [
    "// shorter, without storing the seen elements, but slower because of more comparisons\n",
    "function firstDuplicate(a) {\n",
    "  for (let i=1; i<a.length; i++)\n",
    "      if (a.indexOf(a[i])<i) return a[i];\n",
    "  return -1;\n",
    "}\n",
    "[ firstDuplicate([2, 1, 3, 5, 3, 2]),             // expected 3\n",
    "  firstDuplicate([2, 2]),                         // expected 2\n",
    "  firstDuplicate([2, 4, 3, 5, 1]),                // expected -1\n",
    "  firstDuplicate([8, 4, 6, 2, 6, 4, 7, 9, 5, 8]), // expected 6\n",
    "  firstDuplicate([1, 1, 2, 2, 1])]                // expected 1 "
   ]
  },
  {
   "cell_type": "markdown",
   "metadata": {},
   "source": [
    "## Array: firstNotRepeatingCharacter"
   ]
  },
  {
   "cell_type": "code",
   "execution_count": 14,
   "metadata": {},
   "outputs": [
    {
     "data": {
      "text/plain": [
       "'_'"
      ]
     },
     "execution_count": 14,
     "metadata": {},
     "output_type": "execute_result"
    }
   ],
   "source": [
    "function firstNotRepeatingCharacter(s) {\n",
    "  let coll = {};\n",
    "  for (let char of s)\n",
    "    coll[char] = (char in coll);\n",
    "  for (let char in coll)\n",
    "    if (!coll[char]) return char;\n",
    "  return '_';\n",
    "}\n",
    "firstNotRepeatingCharacter('bcccccccb');"
   ]
  },
  {
   "cell_type": "code",
   "execution_count": 15,
   "metadata": {},
   "outputs": [
    {
     "data": {
      "text/plain": [
       "'c'"
      ]
     },
     "execution_count": 15,
     "metadata": {},
     "output_type": "execute_result"
    }
   ],
   "source": [
    "firstNotRepeatingCharacter('abacabad');"
   ]
  },
  {
   "cell_type": "markdown",
   "metadata": {},
   "source": [
    "## Array: rotateImage90DegClockwise"
   ]
  },
  {
   "cell_type": "code",
   "execution_count": 16,
   "metadata": {},
   "outputs": [
    {
     "data": {
      "text/plain": [
       "[ [ 7, 4, 1 ], [ 8, 5, 2 ], [ 9, 6, 3 ] ]"
      ]
     },
     "execution_count": 16,
     "metadata": {},
     "output_type": "execute_result"
    }
   ],
   "source": [
    "function rotateImage(a) {\n",
    "    return a.map((row, rowIndex) => a.map(val => val[rowIndex]).reverse());\n",
    "}\n",
    "\n",
    "rotateImage([[1,2,3],\n",
    "             [4,5,6],\n",
    "             [7,8,9]]);"
   ]
  },
  {
   "cell_type": "markdown",
   "metadata": {},
   "source": [
    "## Array: isValidSudokuGrid\n",
    "Sudoku is a number-placement puzzle. The objective is to fill a 9 × 9 grid with numbers in such a way that each column, each row, and each of the nine 3 × 3 sub-grids that compose the grid all contain all of the numbers from 1 to 9 one time.\n",
    "\n",
    "Implement an algorithm that will check whether the given grid of numbers represents a valid Sudoku puzzle according to the layout rules described above. Note that the puzzle represented by grid does not have to be solvable.\n",
    "\n",
    "This algorithm should check if the given grid of numbers represents a correct solution to Sudoku."
   ]
  },
  {
   "cell_type": "code",
   "execution_count": 17,
   "metadata": {},
   "outputs": [
    {
     "data": {
      "text/plain": [
       "true"
      ]
     },
     "execution_count": 17,
     "metadata": {},
     "output_type": "execute_result"
    }
   ],
   "source": [
    "function isValidSudokuGrid(grid) {\n",
    "  let total=true, e;\n",
    "  for (let row=0; row<9; row++){\n",
    "    const coll = [{},{},{}];\n",
    "    for (let col=0; col<9; col++){\n",
    "      coll[0][grid[row][col]] = (grid[row][col] in coll[0]);\n",
    "      coll[1][grid[col][row]] = (grid[col][row] in coll[1]);\n",
    "      e = grid[(row/3|0)*3+(col/3|0)][row % 3*3+col % 3];\n",
    "      coll[2][e] = (e in coll[2]);\n",
    "    }\n",
    "    coll.forEach(e=>e['.']=false);\n",
    "    total = total && coll.every(e=>Object.values(e).every(f=>!f));\n",
    "  }\n",
    "  return total;\n",
    "}\n",
    "grid = [['.', '.', '.', '1', '4', '.', '.', '2', '.'],\n",
    "        ['.', '.', '6', '.', '.', '.', '.', '.', '.'],\n",
    "        ['.', '.', '.', '.', '.', '.', '.', '.', '.'],\n",
    "        ['.', '.', '1', '.', '.', '.', '.', '.', '.'],\n",
    "        ['.', '6', '7', '.', '.', '.', '.', '.', '9'],\n",
    "        ['.', '.', '.', '.', '.', '.', '8', '1', '.'],\n",
    "        ['.', '3', '.', '.', '.', '.', '.', '.', '6'],\n",
    "        ['.', '.', '.', '.', '.', '7', '.', '.', '.'],\n",
    "        ['.', '.', '.', '5', '.', '.', '.', '7', '.']];\n",
    "isValidSudokuGrid(grid);"
   ]
  },
  {
   "cell_type": "code",
   "execution_count": 18,
   "metadata": {},
   "outputs": [
    {
     "data": {
      "text/plain": [
       "false"
      ]
     },
     "execution_count": 18,
     "metadata": {},
     "output_type": "execute_result"
    }
   ],
   "source": [
    "grid = [['.', '.', '.', '.', '2', '.', '.', '9', '.'],\n",
    "        ['.', '.', '.', '.', '6', '.', '.', '.', '.'],\n",
    "        ['7', '1', '.', '.', '7', '5', '.', '.', '.'],\n",
    "        ['.', '7', '.', '.', '.', '.', '.', '.', '.'],\n",
    "        ['.', '.', '.', '.', '8', '3', '.', '.', '.'],\n",
    "        ['.', '.', '8', '.', '.', '7', '.', '6', '.'],\n",
    "        ['.', '.', '.', '.', '.', '2', '.', '.', '.'], // \"2\" in the middle 3x3\n",
    "        ['.', '1', '.', '2', '.', '.', '.', '.', '.'], // \"2\" in the middle 3x3\n",
    "        ['.', '2', '.', '.', '3', '.', '.', '.', '.']];\n",
    "isValidSudokuGrid(grid);"
   ]
  },
  {
   "cell_type": "code",
   "execution_count": 19,
   "metadata": {},
   "outputs": [
    {
     "data": {
      "text/plain": [
       "false"
      ]
     },
     "execution_count": 19,
     "metadata": {},
     "output_type": "execute_result"
    }
   ],
   "source": [
    "grid = grid = [[1,3,2,5,4,6,9,2,7], // 2x'2'\n",
    " [4,6,5,8,7,9,3,8,1], \n",
    " [7,9,8,2,1,3,6,5,4], \n",
    " [9,2,1,4,3,5,8,7,6], \n",
    " [3,5,4,7,6,8,2,1,9], \n",
    " [6,8,7,1,9,2,5,4,3], \n",
    " [5,7,6,9,8,1,4,3,2], \n",
    " [2,4,3,6,5,7,1,9,8], \n",
    " [8,1,9,3,2,4,7,6,5]]\n",
    "isValidSudokuGrid(grid);"
   ]
  },
  {
   "cell_type": "markdown",
   "metadata": {},
   "source": [
    "## Array: isCryptSolution"
   ]
  },
  {
   "cell_type": "code",
   "execution_count": 20,
   "metadata": {},
   "outputs": [],
   "source": [
    "function isCryptSolution(crypt, solution) {\n",
    "  const dict = new Map(solution);\n",
    "  const ns = crypt.map(word => word.split(\"\").map(letter=>dict.get(letter)).join(''));\n",
    "  return !(ns.map(s=>(s[0]==='0' && s.length>1)).reduce((a, c) => a||c))\n",
    "       && (parseInt(ns[0])+parseInt(ns[1]) === parseInt(ns[2]));\n",
    "}"
   ]
  },
  {
   "cell_type": "code",
   "execution_count": 21,
   "metadata": {},
   "outputs": [
    {
     "data": {
      "text/plain": [
       "true"
      ]
     },
     "execution_count": 21,
     "metadata": {},
     "output_type": "execute_result"
    }
   ],
   "source": [
    "crypt = [\"SEND\", \"MORE\", \"MONEY\"];\n",
    "solution = [['O', '0'],\n",
    "            ['M', '1'],\n",
    "            ['Y', '2'],\n",
    "            ['E', '5'],\n",
    "            ['N', '6'],\n",
    "            ['D', '7'],\n",
    "            ['R', '8'],\n",
    "            ['S', '9']];\n",
    "isCryptSolution(crypt, solution);"
   ]
  },
  {
   "cell_type": "code",
   "execution_count": 22,
   "metadata": {},
   "outputs": [
    {
     "data": {
      "text/plain": [
       "false"
      ]
     },
     "execution_count": 22,
     "metadata": {},
     "output_type": "execute_result"
    }
   ],
   "source": [
    "crypt = [\"TEN\", \"TWO\", \"ONE\"];\n",
    "solution = [['O', '1'],\n",
    "            ['T', '0'],\n",
    "            ['W', '9'],\n",
    "            ['E', '5'],\n",
    "            ['N', '4']];\n",
    "isCryptSolution(crypt, solution);"
   ]
  },
  {
   "cell_type": "markdown",
   "metadata": {},
   "source": [
    "## Array: commonCharacterCount"
   ]
  },
  {
   "cell_type": "code",
   "execution_count": 23,
   "metadata": {},
   "outputs": [
    {
     "data": {
      "text/plain": [
       "3"
      ]
     },
     "execution_count": 23,
     "metadata": {},
     "output_type": "execute_result"
    }
   ],
   "source": [
    "function commonCharacterCount(s1, s2) {\n",
    "  [c1,c2] = [s1,s2].map(e=>e.split('').reduce((a,e)=>{a[e]=(e in a)?a[e]+1:1; return a;},{}));\n",
    "  return Object.keys(c1).filter(e=>e in c2).reduce((a,e)=>a+Math.min(c1[e],c2[e]),0);\n",
    "}\n",
    "commonCharacterCount(\"aabcc\",\"adcaa\");"
   ]
  },
  {
   "cell_type": "code",
   "execution_count": 24,
   "metadata": {},
   "outputs": [
    {
     "data": {
      "text/plain": [
       "3"
      ]
     },
     "execution_count": 24,
     "metadata": {},
     "output_type": "execute_result"
    }
   ],
   "source": [
    "commonCharacterCount(\"abca\",\"xyzbac\");"
   ]
  },
  {
   "cell_type": "markdown",
   "metadata": {},
   "source": [
    "## Array: sortByHeight\n",
    "Some people are standing in a row in a park. There are trees between them which cannot be moved. Your task is to rearrange the people by their heights in a non-descending order without moving the trees.\n",
    "If `a[i] = -1`, then the ith position is occupied by a tree. Otherwise `a[i]` is the height of a person standing in the ith position."
   ]
  },
  {
   "cell_type": "code",
   "execution_count": 25,
   "metadata": {},
   "outputs": [
    {
     "data": {
      "text/plain": [
       "[ -1, 150, 160, 170, -1, -1, 180, 190 ]"
      ]
     },
     "execution_count": 25,
     "metadata": {},
     "output_type": "execute_result"
    }
   ],
   "source": [
    "function sortByHeight(a) {\n",
    "  people = a.filter(e=>e>0).sort((x,y)=>x>y?1:-1);\n",
    "  i=0;\n",
    "  return a.map(e=>e<0?e:people[i++]);\n",
    "}\n",
    "sortByHeight([-1, 150, 190, 170, -1, -1, 160, 180]);"
   ]
  },
  {
   "cell_type": "code",
   "execution_count": 26,
   "metadata": {},
   "outputs": [
    {
     "data": {
      "text/plain": [
       "[ 2, 2, 4, 9, 11, 16 ]"
      ]
     },
     "execution_count": 26,
     "metadata": {},
     "output_type": "execute_result"
    }
   ],
   "source": [
    "sortByHeight([4, 2, 9, 11, 2, 16]);"
   ]
  },
  {
   "cell_type": "markdown",
   "metadata": {},
   "source": [
    "## Array: alternatingSums\n",
    "You are given an array of positive integers - the weights of the people. Return an array of two integers, where the first element is the total weight of team 1, and the second element is the total weight of team 2 after the division is complete."
   ]
  },
  {
   "cell_type": "code",
   "execution_count": 27,
   "metadata": {},
   "outputs": [
    {
     "data": {
      "text/plain": [
       "[ 180, 105 ]"
      ]
     },
     "execution_count": 27,
     "metadata": {},
     "output_type": "execute_result"
    }
   ],
   "source": [
    "function alternatingSums(a) {\n",
    "  return a.reduce((acc,curr,indx)=>(acc[indx&1]+=curr,acc),[0,0]);\n",
    "}\n",
    "alternatingSums([50, 60, 60, 45, 70]);"
   ]
  },
  {
   "cell_type": "markdown",
   "metadata": {},
   "source": [
    "## Array: areSimilar\n",
    "Two arrays are called similar if one can be obtained from another by swapping at most one pair of elements in one of the arrays."
   ]
  },
  {
   "cell_type": "code",
   "execution_count": 28,
   "metadata": {},
   "outputs": [
    {
     "data": {
      "text/plain": [
       "true"
      ]
     },
     "execution_count": 28,
     "metadata": {},
     "output_type": "execute_result"
    }
   ],
   "source": [
    "function areSimilar(a, b) {\n",
    "  da=a.filter((e,i)=>e!==b[i]);\n",
    "  db=b.filter((e,i)=>e!==a[i]);\n",
    "  return da.length===0 || da.length===2 && da[0]===db[1] && da[1]===db[0];\n",
    "}\n",
    "\n",
    "areSimilar([1, 2, 3],[2, 1, 3])"
   ]
  },
  {
   "cell_type": "markdown",
   "metadata": {},
   "source": [
    "## Array: arrayChange\n",
    "You are given an array of integers. On each move you are allowed to increase exactly one of its element by one. Find the minimal number of moves required to obtain a strictly increasing sequence from the input."
   ]
  },
  {
   "cell_type": "code",
   "execution_count": 29,
   "metadata": {},
   "outputs": [
    {
     "data": {
      "text/plain": [
       "3"
      ]
     },
     "execution_count": 29,
     "metadata": {},
     "output_type": "execute_result"
    }
   ],
   "source": [
    "function arrayChange(inputArray) {\n",
    "  let total=0;\n",
    "  inputArray.reduce((prev,curr) => (prev<curr)? curr : (total += prev - curr + 1, ++prev) )\n",
    "  return total;\n",
    "}\n",
    "arrayChange([1,3,1]);"
   ]
  },
  {
   "cell_type": "markdown",
   "metadata": {},
   "source": [
    "## Array: arrayMaximalAdjacentDifference\n",
    "Given an array of integers, find the maximal absolute difference between any two of its adjacent elements."
   ]
  },
  {
   "cell_type": "code",
   "execution_count": 30,
   "metadata": {},
   "outputs": [
    {
     "data": {
      "text/plain": [
       "3"
      ]
     },
     "execution_count": 30,
     "metadata": {},
     "output_type": "execute_result"
    }
   ],
   "source": [
    "function arrayMaximalAdjacentDifference(inputArray) {\n",
    "  return inputArray.reduce((diff,curr,i,a)=>(i<a.length-1)?Math.max(Math.abs(curr-a[i+1]),diff):diff,0)\n",
    "}\n",
    "arrayMaximalAdjacentDifference([2, 4, 1, 0])"
   ]
  },
  {
   "cell_type": "markdown",
   "metadata": {},
   "source": [
    "## Array: avoidObstacles\n",
    "You are given an array of integers representing coordinates of obstacles situated on a straight line.\n",
    "\n",
    "Assume that you are jumping from the point with coordinate 0 to the right. You are allowed only to make jumps of the same length represented by some integer.\n",
    "\n",
    "Find the minimal length of the jump enough to avoid all the obstacles."
   ]
  },
  {
   "cell_type": "code",
   "execution_count": 31,
   "metadata": {},
   "outputs": [
    {
     "data": {
      "text/plain": [
       "4"
      ]
     },
     "execution_count": 31,
     "metadata": {},
     "output_type": "execute_result"
    }
   ],
   "source": [
    "function avoidObstacles(inputArray) {\n",
    "  for (let j=2; ; j++) if (!inputArray.some(e=>e%j==0)) return j;\n",
    "}\n",
    "avoidObstacles([5, 3, 6, 7, 9])"
   ]
  },
  {
   "cell_type": "markdown",
   "metadata": {},
   "source": [
    "## Array: boxBlur\n",
    "Last night you partied a little too hard. Now there's a black and white photo of you that's about to go viral! You can't let this ruin your reputation, so you want to apply the box blur algorithm to the photo to hide its content.\n",
    "\n",
    "The pixels in the input image are represented as integers. The algorithm distorts the input image in the following way: Every pixel x in the output image has a value equal to the average value of the pixel values from the 3 × 3 square that has its center at x, including x itself. All the pixels on the border of x are then removed.\n",
    "\n",
    "Return the blurred image as an integer, with the fractions rounded down."
   ]
  },
  {
   "cell_type": "code",
   "execution_count": 32,
   "metadata": {},
   "outputs": [
    {
     "data": {
      "text/plain": [
       "[ [ 1 ] ]"
      ]
     },
     "execution_count": 32,
     "metadata": {},
     "output_type": "execute_result"
    }
   ],
   "source": [
    "function boxBlur(i){\n",
    "    let n=[];\n",
    "    for (let row=1; row<i.length-1; row++){\n",
    "        n.push([]);\n",
    "        for (let col=1; col<i[0].length-1; col++)\n",
    "            n[row-1][col-1] = ((i[row-1][col-1]+i[row-1][col]+i[row-1][col+1]\n",
    "                              +i[row][col-1]+i[row][col]+i[row][col+1]\n",
    "                              +i[row+1][col-1]+i[row+1][col]+i[row+1][col+1]) / 9) | 0;\n",
    "    }\n",
    "    return n;\n",
    "}\n",
    "\n",
    "image = [[1, 1, 1], \n",
    "         [1, 7, 1], \n",
    "         [1, 1, 1]];\n",
    "boxBlur(image)"
   ]
  },
  {
   "cell_type": "code",
   "execution_count": 33,
   "metadata": {},
   "outputs": [
    {
     "data": {
      "text/plain": [
       "[ [ 5, 4 ], [ 4, 4 ] ]"
      ]
     },
     "execution_count": 33,
     "metadata": {},
     "output_type": "execute_result"
    }
   ],
   "source": [
    "image = [[7, 4, 0, 1], \n",
    "         [5, 6, 2, 2], \n",
    "         [6, 10, 7, 8], \n",
    "         [1, 4, 2, 0]];\n",
    "boxBlur(image)"
   ]
  },
  {
   "cell_type": "markdown",
   "metadata": {},
   "source": [
    "## Simply Linked List: removeKFromList"
   ]
  },
  {
   "cell_type": "code",
   "execution_count": 34,
   "metadata": {},
   "outputs": [],
   "source": [
    "// Definition for singly-linked list:\n",
    "// function ListNode(x) {\n",
    "//   this.value = x;\n",
    "//   this.next = null;\n",
    "\n",
    "function removeKFromList(l, k) {\n",
    "  const node0 = new ListNode();\n",
    "  node0.next = l;\n",
    "  let curr = node0;    \n",
    "  while (curr.next) \n",
    "    if (curr.next.value === k) curr.next = curr.next.next; \n",
    "    else curr = curr.next;\n",
    "  return node0.next;\n",
    "}"
   ]
  },
  {
   "cell_type": "markdown",
   "metadata": {},
   "source": [
    "## Simply Linked List: isListPalindrome\n",
    "Given a singly linked list of integers, determine whether or not it's a palindrome.\n",
    "\n",
    "Note: Try to solve this task in `O(n)` time using `O(1)` additional space, where `n` is the number of elements in `list`\n",
    "\n",
    "    For l = [0, 1, 0], the output should be\n",
    "    isListPalindrome(l) = true;\n",
    "\n",
    "    For l = [1, 2, 2, 3], the output should be\n",
    "    isListPalindrome(l) = false."
   ]
  },
  {
   "cell_type": "code",
   "execution_count": 35,
   "metadata": {},
   "outputs": [],
   "source": [
    "// Singly-linked lists are already defined with this interface:\n",
    "// function ListNode(x) {\n",
    "//   this.value = x;\n",
    "//   this.next = null;\n",
    "// }\n",
    "\n",
    "// this solution does not use additional memory over the 6 variables\n",
    "function isListPalindrome(l) {\n",
    "    let prev = null;\n",
    "    let next;\n",
    "    let currH = currT = l;\n",
    "    // walk to center node\n",
    "    while (currT && currT.next) {\n",
    "        currT = currT.next.next;\n",
    "        next = currH.next;\n",
    "        // direct the \"next\" pointer to previous to enable walking towards the head\n",
    "        currH.next = prev;\n",
    "        prev = currH;\n",
    "        currH = next;\n",
    "    }\n",
    "    // if currT not null, there are odd number of nodes\n",
    "    if (currT) currT = currH.next; else currT = currH;\n",
    "    let result = true;\n",
    "    // from center node walk towards head and tail simultaniously\n",
    "    while (prev) {\n",
    "        currH = prev;\n",
    "        if (currH.value !== currT.value) result = false;\n",
    "        prev = currH.next\n",
    "        // restore the \"next\" pointer\n",
    "        currH.next = next;\n",
    "        next = currH;\n",
    "        currT = currT.next;\n",
    "    }\n",
    "    return result;\n",
    "}"
   ]
  },
  {
   "cell_type": "markdown",
   "metadata": {},
   "source": [
    "## Array: differentSquares\n",
    "Given a rectangular matrix containing only digits, calculate the number of different 2 × 2 squares in it."
   ]
  },
  {
   "cell_type": "code",
   "execution_count": 36,
   "metadata": {},
   "outputs": [
    {
     "data": {
      "text/plain": [
       "6"
      ]
     },
     "execution_count": 36,
     "metadata": {},
     "output_type": "execute_result"
    }
   ],
   "source": [
    "function differentSquares(m) {\n",
    "    let m2x2 = new Set();\n",
    "    for (let row=1; row<m.length; row++){\n",
    "        for (let col=1; col<m[0].length; col++)\n",
    "            m2x2.add( m[row-1][col-1]*1000+m[row-1][col]*100\n",
    "                      +m[row][col-1]*10  +m[row][col]);\n",
    "    }\n",
    "    return m2x2.size;    \n",
    "}\n",
    "matrix = [[1, 2, 1],\n",
    "          [2, 2, 2],\n",
    "          [2, 2, 2],\n",
    "          [1, 2, 3],\n",
    "          [2, 2, 1]]\n",
    "differentSquares(matrix);"
   ]
  },
  {
   "cell_type": "markdown",
   "metadata": {},
   "source": [
    "## Array: sumDiagonals\n",
    "Write a function that receives a (square) matrix and calculates the sum of both diagonals .\n",
    ">Matrix = array of `n` length whose elements are `n` length arrays of integers.\n",
    "\n",
    "**Example:**\n",
    "```javascript\n",
    "sumDiagonals([\n",
    "  [ 1, 2, 3 ],\n",
    "  [ 4, 5, 6 ],\n",
    "  [ 7, 8, 9 ]\n",
    "]); \n",
    "returns -> 30 // 1 + 5 + 9 + 3 + 5 + 7\n",
    "```"
   ]
  },
  {
   "cell_type": "code",
   "execution_count": 37,
   "metadata": {},
   "outputs": [
    {
     "data": {
      "text/plain": [
       "[ 30, 116, 6 ]"
      ]
     },
     "execution_count": 37,
     "metadata": {},
     "output_type": "execute_result"
    }
   ],
   "source": [
    "function sumDiagonals(matrix) {\n",
    "    let right = matrix.length;\n",
    "    return matrix.reduce((sum,row,i,a)=> sum + row[i] + row[--right], 0);\n",
    "};\n",
    "\n",
    "[ sumDiagonals([[1,2,3], [4,5,6], [7,8,9]]), // expected 30\n",
    "  sumDiagonals([[7,8,9,10], [11,12,13,14], [15, 16,17,18], [19,20,21,22]]),// expected 116\n",
    "  sumDiagonals([[1,2], [1,2]])]              // expected 6"
   ]
  },
  {
   "cell_type": "markdown",
   "metadata": {},
   "source": [
    "## Array: minesweeper\n",
    "In the popular Minesweeper game you have a board with some mines and those cells that don't contain a mine have a number in it that indicates the total number of mines in the neighboring cells. Starting off with some arrangement of mines we want to create a Minesweeper game setup."
   ]
  },
  {
   "cell_type": "code",
   "execution_count": 38,
   "metadata": {},
   "outputs": [
    {
     "data": {
      "text/plain": [
       "[ [ 1, 2, 1 ], [ 2, 1, 1 ], [ 1, 1, 1 ] ]"
      ]
     },
     "execution_count": 38,
     "metadata": {},
     "output_type": "execute_result"
    }
   ],
   "source": [
    "function minesweeper(matrix) {\n",
    "    // put a \"false\" frame around matrix\n",
    "    const frameRow = [false].concat(matrix[0].map(e=>false)).concat([false]);\n",
    "    m =[frameRow].concat(matrix.map(r=>[false].concat(r).concat([false]))).concat([frameRow]);\n",
    "    \n",
    "    let n=[];\n",
    "    for (let row=1; row<m.length-1; row++){\n",
    "        n.push([]);\n",
    "        for (let col=1; col<m[0].length-1; col++)\n",
    "            n[row-1][col-1] = m[row-1][col-1]+m[row-1][col]+m[row-1][col+1]\n",
    "                            + m[row][col-1]                +m[row][col+1]\n",
    "                            + m[row+1][col-1]+m[row+1][col]+m[row+1][col+1];\n",
    "    }\n",
    "    return n;    \n",
    "}\n",
    "matrix = [[true, false, false],\n",
    "          [false, true, false],\n",
    "          [false, false, false]]\n",
    "minesweeper(matrix);"
   ]
  },
  {
   "cell_type": "code",
   "execution_count": 39,
   "metadata": {},
   "outputs": [
    {
     "data": {
      "text/plain": [
       "[ [ 1, 2, 1 ], [ 2, 1, 1 ], [ 1, 1, 1 ] ]"
      ]
     },
     "execution_count": 39,
     "metadata": {},
     "output_type": "execute_result"
    }
   ],
   "source": [
    "function minesweeper(m) {\n",
    "    const diff = [[1, -1],  [1, 0],  [1, 1], \n",
    "                  [0, -1],           [0, 1],\n",
    "                  [-1, -1], [-1, 0], [-1, 1]]\n",
    "    return m.map((row,r)=>\n",
    "                  row.map((_,c)=>\n",
    "                    diff.reduce((sum,d)=> sum + !!(m[r+d[0]] && m[r+d[0]][c+d[1]]), 0 )));\n",
    "}\n",
    "matrix = [[true, false, false],\n",
    "          [false, true, false],\n",
    "          [false, false, false]]\n",
    "minesweeper(matrix);"
   ]
  },
  {
   "cell_type": "markdown",
   "metadata": {},
   "source": [
    "## Number: areEquallyStrong\n",
    "Call two arms equally strong if the heaviest weights they each are able to lift are equal.\n",
    "\n",
    "Call two people equally strong if their strongest arms are equally strong (the strongest arm can be both the right and the left), and so are their weakest arms.\n",
    "\n",
    "Given your and your friend's arms' lifting capabilities find out if you two are equally strong."
   ]
  },
  {
   "cell_type": "code",
   "execution_count": 40,
   "metadata": {},
   "outputs": [
    {
     "data": {
      "text/plain": [
       "true"
      ]
     },
     "execution_count": 40,
     "metadata": {},
     "output_type": "execute_result"
    }
   ],
   "source": [
    "function areEquallyStrong(yourLeft, yourRight, friendsLeft, friendsRight) {\n",
    "  return Math.max(yourLeft, yourRight) === Math.max(friendsLeft, friendsRight)\n",
    "      && Math.min(yourLeft, yourRight) === Math.min(friendsLeft, friendsRight);\n",
    "}\n",
    "areEquallyStrong(10,15,15,10)"
   ]
  },
  {
   "cell_type": "markdown",
   "metadata": {},
   "source": [
    "## Number: isLucky\n",
    "Ticket numbers usually consist of an even number of digits. A ticket number is considered lucky if the sum of the first half of the digits is equal to the sum of the second half.\n",
    "\n",
    "Given a ticket number n, determine if it's lucky or not."
   ]
  },
  {
   "cell_type": "code",
   "execution_count": 41,
   "metadata": {},
   "outputs": [
    {
     "data": {
      "text/plain": [
       "true"
      ]
     },
     "execution_count": 41,
     "metadata": {},
     "output_type": "execute_result"
    }
   ],
   "source": [
    "function isLucky(n) {\n",
    "  const half=(n>99999)?3:(n>999)?2:1;\n",
    "  let total=0;\n",
    "  let count=0;\n",
    "  while (n>0){\n",
    "    const digit=n%10;\n",
    "    total += (count<half)? digit : -1*digit;\n",
    "    n=(n-digit)/10;\n",
    "    count++;\n",
    "  }\n",
    "  return 0 === total;\n",
    "}\n",
    "isLucky(1230);"
   ]
  },
  {
   "cell_type": "code",
   "execution_count": 42,
   "metadata": {},
   "outputs": [
    {
     "data": {
      "text/plain": [
       "false"
      ]
     },
     "execution_count": 42,
     "metadata": {},
     "output_type": "execute_result"
    }
   ],
   "source": [
    "isLucky(1231);"
   ]
  },
  {
   "cell_type": "markdown",
   "metadata": {},
   "source": [
    "## Number: evenDigitsOnly\n",
    "Check if all digits of the given integer are even."
   ]
  },
  {
   "cell_type": "code",
   "execution_count": 43,
   "metadata": {},
   "outputs": [
    {
     "data": {
      "text/plain": [
       "[ true, false ]"
      ]
     },
     "execution_count": 43,
     "metadata": {},
     "output_type": "execute_result"
    }
   ],
   "source": [
    "function evenDigitsOnly(n) {\n",
    "  while (n) \n",
    "    if ((m = n%10)%2) return false; \n",
    "    else n = (n-m)/10;\n",
    "  return true;\n",
    "}\n",
    "[evenDigitsOnly(248622), evenDigitsOnly(642386)]"
   ]
  },
  {
   "cell_type": "markdown",
   "metadata": {},
   "source": [
    "## Number: depositProfit\n",
    "You have deposited a specific amount of money into your bank account. Each year your balance increases at the same growth `rate`. With the assumption that you don't make any additional deposits, find out how long it would take for your balance to pass a specific `threshold`."
   ]
  },
  {
   "cell_type": "code",
   "execution_count": 44,
   "metadata": {},
   "outputs": [
    {
     "data": {
      "text/plain": [
       "3"
      ]
     },
     "execution_count": 44,
     "metadata": {},
     "output_type": "execute_result"
    }
   ],
   "source": [
    "function depositProfit(deposit, rate, threshold) {\n",
    "    return Math.ceil(Math.log(threshold/deposit) / Math.log(1+rate/100));\n",
    "}\n",
    "depositProfit(100, 20, 170)"
   ]
  },
  {
   "cell_type": "markdown",
   "metadata": {},
   "source": [
    "## Number: absoluteValuesSumMinimization\n",
    "Given a sorted array of integers a, your task is to determine which element of a is closest to all other values of a. In other words, find the element x in a, which minimizes the following sum:\n",
    "\n",
    "`abs(a[0] - x) + abs(a[1] - x) + ... + abs(a[a.length - 1] - x)`\n",
    "\n",
    "(where `abs` denotes the absolute value)\n",
    "\n",
    "If there are several possible answers, output the smallest one."
   ]
  },
  {
   "cell_type": "code",
   "execution_count": 45,
   "metadata": {},
   "outputs": [
    {
     "data": {
      "text/plain": [
       "1"
      ]
     },
     "execution_count": 45,
     "metadata": {},
     "output_type": "execute_result"
    }
   ],
   "source": [
    "function absoluteValuesSumMinimization(a) {\n",
    "  return a[a.map((e)=>\n",
    "                 a.reduce((prev,curr,ind,arr)=>\n",
    "                          prev+Math.abs(curr-e),0)).reduce((pi,c,i,ar)=>\n",
    "                                                           (c<ar[pi])?i:pi,0)];\n",
    "}\n",
    "absoluteValuesSumMinimization([0,1,2,100])"
   ]
  },
  {
   "cell_type": "code",
   "execution_count": 46,
   "metadata": {},
   "outputs": [
    {
     "data": {
      "text/plain": [
       "1"
      ]
     },
     "execution_count": 46,
     "metadata": {},
     "output_type": "execute_result"
    }
   ],
   "source": [
    "function absoluteValuesSumMinimization(a) {\n",
    "    return a[(a.length - 1) >> 1];\n",
    "}\n",
    "absoluteValuesSumMinimization([0,1,2,100])"
   ]
  },
  {
   "cell_type": "markdown",
   "metadata": {},
   "source": [
    "## Number: digitsProduct\n",
    "Given an integer product, find the smallest positive (i.e. greater than 0) integer the product of whose digits is equal to product. If there is no such integer, return -1 instead."
   ]
  },
  {
   "cell_type": "code",
   "execution_count": 47,
   "metadata": {},
   "outputs": [
    {
     "data": {
      "text/plain": [
       "[ 26, -1, 2559, -1 ]"
      ]
     },
     "execution_count": 47,
     "metadata": {},
     "output_type": "execute_result"
    }
   ],
   "source": [
    "function digitsProduct(product) {\n",
    "  if (product===0) return 10;\n",
    "  if (product===1) return 1;\n",
    "  let result = 0;\n",
    "  let multiplier = 1;\n",
    "  let n=product;\n",
    "  for (let d=9;d>1;d--) {\n",
    "      while (n%d === 0) {\n",
    "          n /= d;\n",
    "          result += d*multiplier;\n",
    "          multiplier *= 10;\n",
    "      }\n",
    "  }\n",
    "  return (n>1)?-1:result;\n",
    "}\n",
    "[digitsProduct(12),digitsProduct(19),digitsProduct(450),digitsProduct(77)] // expected: 26, -1, 2559"
   ]
  },
  {
   "cell_type": "markdown",
   "metadata": {},
   "source": [
    "## Permutation: stringsRearrangement\n",
    "Given an array of equal-length strings, you'd like to know if it's possible to rearrange the order of the elements in such a way that each consecutive pair of strings differ by exactly one character. Return true if it's possible, and false if not.\n",
    "\n",
    "Note: You're only rearranging the order of the strings, not the order of the letters within the strings!\n",
    "- generate one permutation\n",
    "- check end criteria on permutation\n",
    "- continue with next permutation"
   ]
  },
  {
   "cell_type": "code",
   "execution_count": 48,
   "metadata": {},
   "outputs": [
    {
     "data": {
      "text/plain": [
       "true"
      ]
     },
     "execution_count": 48,
     "metadata": {},
     "output_type": "execute_result"
    }
   ],
   "source": [
    "function stringsRearrangement(inputArray) {\n",
    "\n",
    "  const permute = (arr, m=[]) => {\n",
    "    if (arr.length === 0) {\n",
    "      isPermOneDiff=true;\n",
    "      for (let i=1; i<m.length;i++) isPermOneDiff &= isDiffOne(m[i-1],m[i]);\n",
    "      if (isPermOneDiff) return true;\n",
    "    }\n",
    "    else {\n",
    "      for (let i in arr) {\n",
    "        let curr = arr.slice();\n",
    "        let next = curr.splice(i, 1);\n",
    "        if (permute(curr.slice(), m.concat(next))) return true;\n",
    "      }\n",
    "    }\n",
    "  }\n",
    "  const isDiffOne = (a,b, count=0)=> {\n",
    "    for (let i in a) if (a[i]!==b[i]) if (count===1) return false; else count++;\n",
    "    return count===1;\n",
    "  }\n",
    "\n",
    "  return permute(inputArray) || false;\n",
    "}\n",
    "\n",
    "stringsRearrangement([\"ab\", \"bb\", \"aa\"])"
   ]
  },
  {
   "cell_type": "markdown",
   "metadata": {},
   "source": [
    "## Array: arrayMaxConsecutiveSum\n",
    "Given array of integers, find the maximal possible sum of some of its k consecutive elements."
   ]
  },
  {
   "cell_type": "code",
   "execution_count": 49,
   "metadata": {},
   "outputs": [
    {
     "data": {
      "text/plain": [
       "9"
      ]
     },
     "execution_count": 49,
     "metadata": {},
     "output_type": "execute_result"
    }
   ],
   "source": [
    "function arrayMaxConsecutiveSum(inputArray, k) {\n",
    "  let sum = inputArray.slice(0,k).reduce((s,e)=>s+e);\n",
    "  return inputArray.reduce((max,e,i,a)=> (i<a.length-k) ? Math.max(max, sum-=e-a[i+k]) : max, sum)\n",
    "}\n",
    "arrayMaxConsecutiveSum([1, 3, 2, 4],3)"
   ]
  },
  {
   "cell_type": "markdown",
   "metadata": {},
   "source": [
    "## Array: knapsackLight\n",
    "You found two items in a treasure chest! The first item weighs `weight1` and is worth `value1`, and the second item weighs `weight2` and is worth `value2`. What is the total maximum value of the items you can take with you, assuming that your max weight capacity is `maxW` and you can't come back for the items later?\n",
    "\n",
    "Note that there are only two items and you can't bring more than one item of each type, i.e. you can't take two first items or two second items."
   ]
  },
  {
   "cell_type": "code",
   "execution_count": 50,
   "metadata": {},
   "outputs": [
    {
     "data": {
      "text/plain": [
       "6"
      ]
     },
     "execution_count": 50,
     "metadata": {},
     "output_type": "execute_result"
    }
   ],
   "source": [
    "function knapsackLight(value0, weight0, value1, weight1, maxW, maxQ0=1, maxQ1=1) {\n",
    "  const maximizeValue2Items = (i0,i1,mW) =>\n",
    "    // create quantity combinations for [item0,item1]: [0,0] [0,1] [1,0] [1,1]\n",
    "    [].concat(...[...Array(i0[2]+1).keys()]\n",
    "                 .map(e0=>[...Array(i0[2]+1).keys()]\n",
    "    // then calculate [value,weight] pairs from the quantity combinations\n",
    "                 .map(e1=>[e0*i0[0]+e1*i1[0],e0*i0[1]+e1*i1[1]])))\n",
    "      .reduce((mV,c)=>(c[1]<=mW && c[0]>mV)?c[0]:mV,0);\n",
    "\n",
    "  return maximizeValue2Items([value0,weight0,maxQ0], [value1,weight1,maxQ1], maxW);\n",
    "}\n",
    "knapsackLight(2,3,4,5,10)"
   ]
  },
  {
   "cell_type": "code",
   "execution_count": 51,
   "metadata": {},
   "outputs": [
    {
     "data": {
      "text/plain": [
       "6"
      ]
     },
     "execution_count": 51,
     "metadata": {},
     "output_type": "execute_result"
    }
   ],
   "source": [
    "function knapsackLight(value1, weight1, value2, weight2, maxW) {\n",
    "    return Math.max(\n",
    "        maxW >= weight1 && value1,\n",
    "        maxW >= weight2 && value2,\n",
    "        maxW >= weight1 + weight2 && value1 + value2\n",
    "    );\n",
    "}\n",
    "knapsackLight(2,3,4,5,10)"
   ]
  },
  {
   "cell_type": "markdown",
   "metadata": {},
   "source": [
    "## Number: digitDegree\n",
    "Given an integer, find its digit degree.\n",
    "\n",
    "Let's define digit degree of some positive integer as the number of times we need to replace this number with the sum of its digits until we get to a one digit number."
   ]
  },
  {
   "cell_type": "code",
   "execution_count": 52,
   "metadata": {},
   "outputs": [
    {
     "data": {
      "text/plain": [
       "2"
      ]
     },
     "execution_count": 52,
     "metadata": {},
     "output_type": "execute_result"
    }
   ],
   "source": [
    "function digitDegree(n) {\n",
    "  let degree = 0, m, d;\n",
    "  while (n>9){\n",
    "    degree++;\n",
    "    [m,n] = [n,0];\n",
    "    while (m>0) [n,m] = [n+(d=m%10), (m-d)/10];\n",
    "  }\n",
    "  return degree;\n",
    "}\n",
    "digitDegree(91)"
   ]
  },
  {
   "cell_type": "markdown",
   "metadata": {},
   "source": [
    "## String: reverseInParentheses\n",
    "Write a function that reverses characters in (possibly nested) parentheses in the input string.\n",
    "Input strings will always be well-formed with matching ()s."
   ]
  },
  {
   "cell_type": "code",
   "execution_count": 53,
   "metadata": {},
   "outputs": [
    {
     "data": {
      "text/plain": [
       "'neversaynever'"
      ]
     },
     "execution_count": 53,
     "metadata": {},
     "output_type": "execute_result"
    }
   ],
   "source": [
    "function reverseInParentheses(inputString) {\n",
    "    while ((open = inputString.lastIndexOf('(')) >=0){\n",
    "        const close = inputString.indexOf(')',open+1);\n",
    "        inputString = inputString.substr(0,open)\n",
    "                    + Array.from(inputString.substr(open+1,close-open-1)).reverse().join('')\n",
    "                    + inputString.substr(close+1);\n",
    "    }\n",
    "    return inputString;\n",
    "}\n",
    "reverseInParentheses('nev((say)re)ne(ev)r');"
   ]
  },
  {
   "cell_type": "markdown",
   "metadata": {},
   "source": [
    "## String: addBorder\n",
    "Given a rectangular matrix of characters, add a border of asterisks(*) to it."
   ]
  },
  {
   "cell_type": "code",
   "execution_count": 54,
   "metadata": {},
   "outputs": [
    {
     "data": {
      "text/plain": [
       "[ '*****', '*abc*', '*ded*', '*****' ]"
      ]
     },
     "execution_count": 54,
     "metadata": {},
     "output_type": "execute_result"
    }
   ],
   "source": [
    "function addBorder(picture) {\n",
    "   const frame = '*'.repeat(picture[0].length+2);\n",
    "   return [frame].concat(picture.map(e=>'*'+e+'*')).concat([frame]);\n",
    "}\n",
    "picture = [\"abc\",\n",
    "           \"ded\"];\n",
    "addBorder(picture)"
   ]
  },
  {
   "cell_type": "markdown",
   "metadata": {},
   "source": [
    "## String: isBeautifulString\n",
    "Given a string, check whether it is beautiful.\n",
    "\n",
    "A string is said to be beautiful if each letter in the string appears at most as many times as the previous letter in the alphabet within the string; ie: `b` occurs no more times than `a`; `c` occurs no more times than `b`; etc. Note that letter `a` has no previous letter."
   ]
  },
  {
   "cell_type": "code",
   "execution_count": 55,
   "metadata": {},
   "outputs": [
    {
     "data": {
      "text/plain": [
       "false"
      ]
     },
     "execution_count": 55,
     "metadata": {},
     "output_type": "execute_result"
    }
   ],
   "source": [
    "function isBeautifulString(inputString) {\n",
    "  return Object.entries(Array.from(inputString).reduce((count,e)=>(count[e]=-~count[e],count),{}))\n",
    "         .sort((a,b)=>a[0].charCodeAt()-b[0].charCodeAt())\n",
    "         .reduce((result,count,i,arr)=>(i===0)?(count[0]==='a'):result&&(count[1]<=arr[i-1][1])&&count[0].charCodeAt()-1===arr[i-1][0].charCodeAt(),0);\n",
    "}\n",
    "isBeautifulString('bbc')"
   ]
  },
  {
   "cell_type": "code",
   "execution_count": 56,
   "metadata": {},
   "outputs": [
    {
     "data": {
      "text/plain": [
       "true"
      ]
     },
     "execution_count": 56,
     "metadata": {},
     "output_type": "execute_result"
    }
   ],
   "source": [
    "isBeautifulString('bbbaacdafe')"
   ]
  },
  {
   "cell_type": "code",
   "execution_count": 57,
   "metadata": {},
   "outputs": [
    {
     "data": {
      "text/plain": [
       "false"
      ]
     },
     "execution_count": 57,
     "metadata": {},
     "output_type": "execute_result"
    }
   ],
   "source": [
    "function isBeautifulString(inputString) {\n",
    "    s = \"abcdefghijklmnopqrstuvwxyz\"\n",
    "    for (i = 1; i < s.length; i++)\n",
    "        if (inputString.split(s[i]).length-1 > inputString.split(s[i-1]).length-1)\n",
    "            return false\n",
    "    return true\n",
    "}\n",
    "isBeautifulString('aabbb')"
   ]
  },
  {
   "cell_type": "markdown",
   "metadata": {},
   "source": [
    "## String: findEmailDomain\n",
    "Given a valid email address, find its domain part.\n",
    "\n",
    "An email address such as `John.Smith@example.com` is made up of a local part `John.Smith`, an `@` symbol, then a domain part `example.com`\n",
    "\n",
    "The domain name part of an email address may only consist of letters, digits, hyphens and dots. The local part, however, also allows a lot of different special characters. Here you can look at several examples of correct and incorrect email addresses.\n",
    "\n",
    "For address `prettyandsimple@example.com`, the output should be `example.com`\n",
    "\n",
    "For address `fully-qualified-domain@codesignal.com`, the output should be `codesignal.com`"
   ]
  },
  {
   "cell_type": "code",
   "execution_count": 58,
   "metadata": {},
   "outputs": [
    {
     "data": {
      "text/plain": [
       "'usual.com'"
      ]
     },
     "execution_count": 58,
     "metadata": {},
     "output_type": "execute_result"
    }
   ],
   "source": [
    "function findEmailDomain(address) {\n",
    "  return address.substr(address.lastIndexOf('@')+1)\n",
    "}\n",
    "findEmailDomain(\"\\\"very.unusual.@.unusual.com\\\"@usual.com\")"
   ]
  },
  {
   "cell_type": "markdown",
   "metadata": {},
   "source": [
    "## String: palindromeRearranging\n",
    "Given a string, find out if its characters can be rearranged to form a palindrome: doesn't change when reversed (it reads the same backward and forward)."
   ]
  },
  {
   "cell_type": "code",
   "execution_count": 61,
   "metadata": {},
   "outputs": [
    {
     "data": {
      "text/plain": [
       "false"
      ]
     },
     "execution_count": 61,
     "metadata": {},
     "output_type": "execute_result"
    }
   ],
   "source": [
    "function palindromeRearranging(inputString) {\n",
    "  return Object.values(Array.from(inputString).reduce((a,c)=>(a[c]=-~a[c],a),{}))\n",
    "         .filter(e=>e%2).length < 2\n",
    "}\n",
    "palindromeRearranging('acxabb');"
   ]
  },
  {
   "cell_type": "code",
   "execution_count": 62,
   "metadata": {},
   "outputs": [
    {
     "data": {
      "text/plain": [
       "true"
      ]
     },
     "execution_count": 62,
     "metadata": {},
     "output_type": "execute_result"
    }
   ],
   "source": [
    "palindromeRearranging('acabb');"
   ]
  },
  {
   "cell_type": "markdown",
   "metadata": {},
   "source": [
    "## String: buildPalindrome\n",
    "Given a string, find the shortest possible string which can be achieved by adding characters to the end of initial string to make it a palindrome.\n",
    "\n",
    "For `abcdc`, the output should be `abcdcba`"
   ]
  },
  {
   "cell_type": "code",
   "execution_count": 63,
   "metadata": {},
   "outputs": [
    {
     "data": {
      "text/plain": [
       "'abcdcba'"
      ]
     },
     "execution_count": 63,
     "metadata": {},
     "output_type": "execute_result"
    }
   ],
   "source": [
    "function buildPalindrome(st) {\n",
    "    // find longest palindrome in input: from any position till the end of input\n",
    "    let i=0;\n",
    "    for (i=0; i<st.length-1;i++) {\n",
    "      let isPalindrome = true;\n",
    "      for (let j=0; j<(st.length-1-i)/2; j++) \n",
    "          if (st[i+j]!==st[st.length-j-1]) {\n",
    "              isPalindrome = false;\n",
    "              break;\n",
    "      }\n",
    "      if (isPalindrome) break;\n",
    "    }\n",
    "    return st+Array.from(st.substr(0,i)).reverse().join(\"\")\n",
    "}\n",
    "\n",
    "buildPalindrome('abcdc')"
   ]
  },
  {
   "cell_type": "code",
   "execution_count": 64,
   "metadata": {},
   "outputs": [
    {
     "data": {
      "text/plain": [
       "[ false, true, true ]"
      ]
     },
     "execution_count": 64,
     "metadata": {},
     "output_type": "execute_result"
    }
   ],
   "source": [
    "function isPalindrome(st){\n",
    "  const indxLast = st.length-1;\n",
    "  for (let j=0; j<indxLast/2; j++) \n",
    "    if (st[j]!==st[indxLast-j]) return false;\n",
    "  return true;\n",
    "}\n",
    "[isPalindrome('abac'), // expected false\n",
    " isPalindrome('abcba'), // expected true\n",
    " isPalindrome('abccba')] // expected true"
   ]
  },
  {
   "cell_type": "markdown",
   "metadata": {},
   "source": [
    "## Array: electionsWinners\n",
    "Given an array of the numbers of votes given to each of the candidates so far, and an integer k equal to the number of voters who haven't cast their vote yet, find the number of candidates who still have a chance to win the election.\n",
    "\n",
    "The winner of the election must secure strictly more votes than any other candidate. If two or more candidates receive the same (maximum) number of votes, assume there is no winner at all."
   ]
  },
  {
   "cell_type": "code",
   "execution_count": 65,
   "metadata": {},
   "outputs": [
    {
     "data": {
      "text/plain": [
       "1"
      ]
     },
     "execution_count": 65,
     "metadata": {},
     "output_type": "execute_result"
    }
   ],
   "source": [
    "function electionsWinners(votes, k) {\n",
    "  let couldWin = 0;\n",
    "  let isMax;\n",
    "  for (let i=0; i<votes.length;i++){\n",
    "      couldWin++;\n",
    "      for (let j=0;j<votes.length;j++){\n",
    "          if (votes[i]+k<=votes[j] && i!=j) {\n",
    "              couldWin--;\n",
    "              break;\n",
    "          }\n",
    "      }\n",
    "  }\n",
    "  return couldWin;\n",
    "}\n",
    "\n",
    "electionsWinners([5, 1, 3, 4, 1],0)"
   ]
  },
  {
   "cell_type": "code",
   "execution_count": 66,
   "metadata": {},
   "outputs": [
    {
     "data": {
      "text/plain": [
       "2"
      ]
     },
     "execution_count": 66,
     "metadata": {},
     "output_type": "execute_result"
    }
   ],
   "source": [
    "function electionsWinners(votes, k) {\n",
    "  var max=Math.max(...votes)\n",
    "  var r=votes.filter(x=>x+k>max||x===max).length\n",
    "  return k?r:r==1?1:0\n",
    "}\n",
    "electionsWinners([2, 3, 5, 2],3) //expects 2"
   ]
  },
  {
   "cell_type": "markdown",
   "metadata": {},
   "source": [
    "## Array: fileNaming\n",
    "You are given an array of desired filenames in the order of their creation. Since two files cannot have equal names, the one which comes later will have an addition to its name in a form of `(k)`, where `k` is the smallest positive integer such that the obtained name is not used yet.\n",
    "\n",
    "Return an array of names that will be given to the files."
   ]
  },
  {
   "cell_type": "code",
   "execution_count": 67,
   "metadata": {},
   "outputs": [
    {
     "data": {
      "text/plain": [
       "[ 'doc', 'doc(1)', 'image', 'doc(1)(1)', 'doc(2)' ]"
      ]
     },
     "execution_count": 67,
     "metadata": {},
     "output_type": "execute_result"
    }
   ],
   "source": [
    "function fileNaming(names) {\n",
    "  return names.reduce((newNames,name) => {\n",
    "    let newName = name;\n",
    "    let i=0;\n",
    "    while (newNames.includes(newName)) newName=`${name}(${++i})`;\n",
    "    newNames.push(newName);\n",
    "    return newNames;\n",
    "  },[]);\n",
    "}\n",
    "names=[\"doc\", \"doc\", \"image\", \"doc(1)\", \"doc\"];\n",
    "fileNaming(names)"
   ]
  },
  {
   "cell_type": "markdown",
   "metadata": {},
   "source": [
    "## RegEx: firstDigit"
   ]
  },
  {
   "cell_type": "code",
   "execution_count": 68,
   "metadata": {},
   "outputs": [
    {
     "data": {
      "text/plain": [
       "'1'"
      ]
     },
     "execution_count": 68,
     "metadata": {},
     "output_type": "execute_result"
    }
   ],
   "source": [
    "function firstDigit(inputString) {\n",
    "  return /\\d/.exec(inputString)[0]\n",
    "}\n",
    "firstDigit('var_12__Int')"
   ]
  },
  {
   "cell_type": "markdown",
   "metadata": {},
   "source": [
    "## RegEx: variableName\n",
    "Correct variable names consist only of English letters, digits and underscores and they can't start with a digit.\n",
    "\n",
    "Check if the given string is a correct variable name. [Regular Expressions](https://developer.mozilla.org/en-US/docs/Web/JavaScript/Guide/Regular_Expressions)\n",
    "\n",
    "    ^        // Match at the beginning\n",
    "    [_a-z]   // Match either \"_\", or \"a-z\" at the beginning \n",
    "    \\w       // Match one character of [a-zA-Z0-9_]\n",
    "    *        // Match zero or more of previous character\n",
    "    $        // Till the end\n",
    "    i        // Flag: ignore cases, so [a-z] becomes [a-zA-Z]"
   ]
  },
  {
   "cell_type": "code",
   "execution_count": 69,
   "metadata": {},
   "outputs": [
    {
     "data": {
      "text/plain": [
       "[ true, false ]"
      ]
     },
     "execution_count": 69,
     "metadata": {},
     "output_type": "execute_result"
    }
   ],
   "source": [
    "function variableName(name) {\n",
    "  return /^[_a-z]\\w*$/i.test(name);\n",
    "}\n",
    "[variableName('var_1__Int'),variableName('qq-q')]"
   ]
  },
  {
   "cell_type": "markdown",
   "metadata": {},
   "source": [
    "## RegEx: alphabeticShift\n",
    "Given a string, your task is to replace each of its characters by the next one in the English alphabet; i.e. replace `a` with `b`, replace `b` with `c`, etc (`z` would be replaced by `a`).\n",
    "Input is a non-empty string consisting of lowercase English characters."
   ]
  },
  {
   "cell_type": "code",
   "execution_count": 70,
   "metadata": {},
   "outputs": [
    {
     "data": {
      "text/plain": [
       "'dsbaz'"
      ]
     },
     "execution_count": 70,
     "metadata": {},
     "output_type": "execute_result"
    }
   ],
   "source": [
    "function alphabeticShift(inputString) {\n",
    "  return inputString.replace(/./g,c=>(c==='z')?'a':String.fromCharCode((c.charCodeAt()+1)));\n",
    "}\n",
    "alphabeticShift('crazy')"
   ]
  },
  {
   "cell_type": "code",
   "execution_count": 71,
   "metadata": {},
   "outputs": [
    {
     "data": {
      "text/plain": [
       "'dsbaz'"
      ]
     },
     "execution_count": 71,
     "metadata": {},
     "output_type": "execute_result"
    }
   ],
   "source": [
    "function alphabeticShift(s) {\n",
    "  var c=\"abcdefghijklmnopqrstuvwxyza\"\n",
    "  return s.replace(/./g,x=>c[c.indexOf(x)+1])\n",
    "}\n",
    "alphabeticShift('crazy')"
   ]
  },
  {
   "cell_type": "markdown",
   "metadata": {},
   "source": [
    "## RegEx: longestWord\n",
    "Define a *word* as a sequence of consecutive English letters. Find the longest word from the given string."
   ]
  },
  {
   "cell_type": "code",
   "execution_count": 72,
   "metadata": {},
   "outputs": [
    {
     "data": {
      "text/plain": [
       "'steady'"
      ]
     },
     "execution_count": 72,
     "metadata": {},
     "output_type": "execute_result"
    }
   ],
   "source": [
    "function longestWord(text) {\n",
    "  return text.match(/[a-z]+/ig).reduce((longest,word)=>(longest.length<word.length)?word:longest)\n",
    "}\n",
    "longestWord('Ready, steady, go!')"
   ]
  },
  {
   "cell_type": "code",
   "execution_count": 73,
   "metadata": {},
   "outputs": [
    {
     "data": {
      "text/plain": [
       "'steady'"
      ]
     },
     "execution_count": 73,
     "metadata": {},
     "output_type": "execute_result"
    }
   ],
   "source": [
    "function longestWord(text) {\n",
    "  return text.split(/[^a-z]+/ig).reduce((longest,word)=>(longest.length<word.length)?word:longest)\n",
    "}\n",
    "longestWord('Ready, steady, go!')"
   ]
  },
  {
   "cell_type": "code",
   "execution_count": 74,
   "metadata": {},
   "outputs": [
    {
     "data": {
      "text/plain": [
       "'steady'"
      ]
     },
     "execution_count": 74,
     "metadata": {},
     "output_type": "execute_result"
    }
   ],
   "source": [
    "function longestWord(text) {\n",
    "  return text.replace(/[^a-z]+/ig,' ').split(' ').reduce((longest,word)=>((longest.length<word.length)?word:longest),\"\")\n",
    "}\n",
    "longestWord('Ready, steady, go!')"
   ]
  },
  {
   "cell_type": "markdown",
   "metadata": {},
   "source": [
    "## RegEx: validTime\n",
    "Check if the given string is a correct time representation of the 24-hour clock."
   ]
  },
  {
   "cell_type": "code",
   "execution_count": 75,
   "metadata": {},
   "outputs": [
    {
     "data": {
      "text/plain": [
       "true"
      ]
     },
     "execution_count": 75,
     "metadata": {},
     "output_type": "execute_result"
    }
   ],
   "source": [
    "function validTime(time) {\n",
    "  return /^(2[0-3]|[01]\\d):[0-5]\\d$/.test(time)\n",
    "}\n",
    "validTime('13:58')"
   ]
  },
  {
   "cell_type": "markdown",
   "metadata": {},
   "source": [
    "## RegEx: sumUpNumbers\n",
    "CodeMaster has just returned from shopping. He scanned the check of the items he bought and gave the resulting string to Ratiorg to figure out the total number of purchased items. Since Ratiorg is a bot he is definitely going to automate it, so he needs a program that sums up all the numbers which appear in the given input.\n",
    "\n",
    "Help Ratiorg by writing a function that returns the sum of numbers that appear in the given `inputString`."
   ]
  },
  {
   "cell_type": "code",
   "execution_count": 76,
   "metadata": {},
   "outputs": [
    {
     "data": {
      "text/plain": [
       "14"
      ]
     },
     "execution_count": 76,
     "metadata": {},
     "output_type": "execute_result"
    }
   ],
   "source": [
    "function sumUpNumbers(inputString) {\n",
    "  let sum = 0;\n",
    "  inputString.replace(/\\d+/g, (a)=>sum+= +a);\n",
    "  return sum;\n",
    "}\n",
    "sumUpNumbers('2 apples, 12 oranges')"
   ]
  },
  {
   "cell_type": "code",
   "execution_count": 77,
   "metadata": {},
   "outputs": [],
   "source": [
    "function sumUpNumbers(inputString) {\n",
    "  return (inputString.match(/\\d+/g)||[]).reduce((sum,e)=>sum+ +e,0);\n",
    "}"
   ]
  },
  {
   "cell_type": "markdown",
   "metadata": {},
   "source": [
    "## RegEx, String: lineEncoding, lineDecoding\n",
    "Given a string, return its encoding defined as follows:\n",
    "\n",
    "First, the string is divided into the least possible number of disjoint substrings consisting of identical characters\n",
    "for example, `aabbbc` is divided into `aa`,`bbb`,`c`\n",
    "Next, each substring with length greater than one is replaced with a concatenation of its length and the repeating character\n",
    "for example, substring `bbb` is replaced by `3b`\n",
    "Finally, all the new strings are concatenated together in the same order and a new string is returned."
   ]
  },
  {
   "cell_type": "code",
   "execution_count": 78,
   "metadata": {},
   "outputs": [
    {
     "data": {
      "text/plain": [
       "'2a3bc'"
      ]
     },
     "execution_count": 78,
     "metadata": {},
     "output_type": "execute_result"
    }
   ],
   "source": [
    "function lineEncoding(s) {\n",
    "  return Array.from(s).reduce((s,char,i,a)=>(s[0]&&s[s.length-1][0]===char?s[s.length-1][1]++:s.push([char,1]),s),[])\n",
    "      .map(c=>(c[1]===1)?c[0]:c[1]+c[0]).join(\"\")\n",
    "}\n",
    "lineEncoding('aabbbc') // expected 2a3bc"
   ]
  },
  {
   "cell_type": "markdown",
   "metadata": {},
   "source": [
    "    (.)    this is capturing group #1, \".\" captures One of \"any characters, except line breaks\"\n",
    "    \\1     Matches the result of capture group #1, so if (.) was a \"x\" character, (.)\\1 is \"xx\"\n",
    "    *      Matches 0 or more occurence of the previous token\n",
    "    (.)\\1* Matches 1 or more long same character literals, like \"x\" or \"xx\" or \"xxx\", and so on\n",
    "    g      Flag: global - Retain the index of the last match, allowing subsequent searches to start from the end of the previous match.\n",
    "    \n",
    "Below the anonymous call back function is called 3 times on the `aabbbc` example.\n",
    "\n",
    "* `match` - this is the string matches the RegEx, at flag `g` all matches are processed, in this case `aa`, `bbbb` and `c`\n",
    "* `p1`    - the `#1` capture group's value (which is `(.)`), takes up the values `a`, `b` and `c`"
   ]
  },
  {
   "cell_type": "code",
   "execution_count": 79,
   "metadata": {},
   "outputs": [
    {
     "data": {
      "text/plain": [
       "'2a3bc'"
      ]
     },
     "execution_count": 79,
     "metadata": {},
     "output_type": "execute_result"
    }
   ],
   "source": [
    "function lineEncoding(s) {\n",
    "  return s.replace(/(.)\\1*/g, (match,p1) => match==p1 ? p1 : match.length+p1)\n",
    "}\n",
    "lineEncoding('aabbbc') // expected 2a3bc"
   ]
  },
  {
   "cell_type": "code",
   "execution_count": 80,
   "metadata": {},
   "outputs": [
    {
     "data": {
      "text/plain": [
       "'aabbbc'"
      ]
     },
     "execution_count": 80,
     "metadata": {},
     "output_type": "execute_result"
    }
   ],
   "source": [
    "function lineDecoding(s) {\n",
    "  return s.replace(/([\\d]*)([a-z])/ig, (match,p1,p2) => (p1.length==0) ? p2 : p2.repeat(parseInt(p1)))\n",
    "}\n",
    "lineDecoding('2a3bc') // expected aabbbc"
   ]
  },
  {
   "cell_type": "markdown",
   "metadata": {},
   "source": [
    "## RegEx: htmlEndTagByStartTag\n",
    "You are implementing your own HTML editor. To make it more comfortable for developers you would like to add an auto-completion feature to it.\n",
    "\n",
    "Given the starting HTML tag, find the appropriate end tag which your editor should propose."
   ]
  },
  {
   "cell_type": "code",
   "execution_count": 81,
   "metadata": {},
   "outputs": [
    {
     "data": {
      "text/plain": [
       "[ '</button>', '</i>' ]"
      ]
     },
     "execution_count": 81,
     "metadata": {},
     "output_type": "execute_result"
    }
   ],
   "source": [
    "function htmlEndTagByStartTag(startTag) {\n",
    "  const match = /^<([\\w]+)[\\s>]/.exec(startTag);\n",
    "  if (match) return '</'+match[1]+'>';\n",
    "}\n",
    "[htmlEndTagByStartTag(\"<button type='button' disabled>\"), // expected </button>\n",
    " htmlEndTagByStartTag('<i>')] // expected </i>"
   ]
  },
  {
   "cell_type": "code",
   "execution_count": 82,
   "metadata": {},
   "outputs": [
    {
     "data": {
      "text/plain": [
       "[ '</button>', '</i>' ]"
      ]
     },
     "execution_count": 82,
     "metadata": {},
     "output_type": "execute_result"
    }
   ],
   "source": [
    "function htmlEndTagByStartTag(startTag){\n",
    "    return `</${startTag.match(/\\w+/)}>`;\n",
    "}\n",
    "[htmlEndTagByStartTag(\"<button type='button' disabled>\"), // expected </button>\n",
    " htmlEndTagByStartTag('<i>')] // expected </i>"
   ]
  },
  {
   "cell_type": "markdown",
   "metadata": {},
   "source": [
    "## String: isIPv4Address\n",
    "An IP address is a numerical label assigned to each device (e.g., computer, printer) participating in a computer network that uses the Internet Protocol for communication. There are two versions of the Internet protocol, and thus two versions of addresses. One of them is the IPv4 address.\n",
    "\n",
    "Given a string, find out if it satisfies the IPv4 address naming rules."
   ]
  },
  {
   "cell_type": "code",
   "execution_count": 83,
   "metadata": {},
   "outputs": [
    {
     "data": {
      "text/plain": [
       "true"
      ]
     },
     "execution_count": 83,
     "metadata": {},
     "output_type": "execute_result"
    }
   ],
   "source": [
    "function isIPv4Address(inputString) {\n",
    "  let blocks = inputString.split(\".\");\n",
    "  return blocks.length === 4\n",
    "      && blocks.every(b=> !isNaN(b) \n",
    "                      && (b[0]!='0' || b.length ===1)\n",
    "                      && parseInt(b,10) >=0 \n",
    "                      && parseInt(b,10) < 256)\n",
    "}\n",
    "isIPv4Address('1.2.3.4')"
   ]
  },
  {
   "cell_type": "code",
   "execution_count": 84,
   "metadata": {},
   "outputs": [
    {
     "data": {
      "text/plain": [
       "false"
      ]
     },
     "execution_count": 84,
     "metadata": {},
     "output_type": "execute_result"
    }
   ],
   "source": [
    "isIPv4Address('01..3a.4')"
   ]
  },
  {
   "cell_type": "code",
   "execution_count": 85,
   "metadata": {},
   "outputs": [],
   "source": [
    "function isIPv4Address(inputString) {\n",
    "  /^((25[0-5]|2[0-4]\\d|1\\d{2}|[1-9]?\\d)(\\.(?!$)|$)){4}$/.test(inputString);\n",
    "}"
   ]
  },
  {
   "cell_type": "markdown",
   "metadata": {},
   "source": [
    "## RegEx: : isMAC48Address\n",
    "A media access control address (MAC address) is a unique identifier assigned to network interfaces for communications on the physical network segment.\n",
    "\n",
    "The standard (IEEE 802) format for printing MAC-48 addresses in human-friendly form is six groups of two hexadecimal digits (`0` to `9` or `A` to `F`), separated by hyphens (e.g. `01-23-45-67-89-AB`).\n",
    "\n",
    "Your task is to check by given string inputString whether it corresponds to MAC-48 address or not.\n",
    "\n",
    "    ^        start at the beginning of the string\n",
    "    [\\dA-F]  one hexadecimal character, where \\d is equivalent to [0-9]\n",
    "    {2}      repeat the previous token 2 times\n",
    "    (...)    group of characters\n",
    "    i        Flag: ignore case"
   ]
  },
  {
   "cell_type": "code",
   "execution_count": 86,
   "metadata": {},
   "outputs": [
    {
     "data": {
      "text/plain": [
       "true"
      ]
     },
     "execution_count": 86,
     "metadata": {},
     "output_type": "execute_result"
    }
   ],
   "source": [
    "function isMAC48Address(inputString) {\n",
    "  return /^[\\dA-F]{2}(-[\\dA-F]{2}){5}$/i.test(inputString)\n",
    "}\n",
    "isMAC48Address('00-1B-63-84-45-E6')"
   ]
  },
  {
   "cell_type": "markdown",
   "metadata": {},
   "source": [
    "## String: chessBoardCellColor\n",
    "Given two cells on the standard chess board, determine whether they have the same color or not.\n",
    "\n",
    "    A1,C1,E1,G1: black\n",
    "    A2,C2,E2,G2: white"
   ]
  },
  {
   "cell_type": "code",
   "execution_count": 87,
   "metadata": {},
   "outputs": [
    {
     "data": {
      "text/plain": [
       "true"
      ]
     },
     "execution_count": 87,
     "metadata": {},
     "output_type": "execute_result"
    }
   ],
   "source": [
    "function chessBoardCellColor(a, b) {\n",
    "   return !((a.charCodeAt(0)+a.charCodeAt(1)+b.charCodeAt(0)+b.charCodeAt(1))%2)\n",
    "}\n",
    "chessBoardCellColor('A1','B2')"
   ]
  },
  {
   "cell_type": "markdown",
   "metadata": {},
   "source": [
    "## String, Chess: bishopAndPawn\n",
    "Given the positions of a white bishop and a black pawn on the standard chess board, determine whether the bishop can capture the pawn in one move.\n",
    "\n",
    "The bishop has no restrictions in distance for each move, but is limited to diagonal movement."
   ]
  },
  {
   "cell_type": "code",
   "execution_count": 88,
   "metadata": {},
   "outputs": [
    {
     "data": {
      "text/plain": [
       "true"
      ]
     },
     "execution_count": 88,
     "metadata": {},
     "output_type": "execute_result"
    }
   ],
   "source": [
    "function bishopAndPawn(bishop, pawn) {\n",
    "  bi=[bishop.toUpperCase().charCodeAt(0)-64, bishop.charCodeAt(1)-48];\n",
    "  pa=[pawn.toUpperCase().charCodeAt(0)-64, pawn.charCodeAt(1)-48];\n",
    "  // Bishop's capture range y=1*x+b1 and y=-x+b2\n",
    "  // calculate intercepts\n",
    "  b1=bi[1]-bi[0]; // y-1*x => b1\n",
    "  b2=bi[1]+bi[0]; // y+1*x => b2\n",
    "  // check if pawn is in the range: pawn's coordinates lie on the capture range\n",
    "  return pa[1]===pa[0]+b1 || pa[1]===-pa[0]+b2;\n",
    "}\n",
    "\n",
    "bishopAndPawn('A1', 'C3')"
   ]
  },
  {
   "cell_type": "code",
   "execution_count": 89,
   "metadata": {},
   "outputs": [
    {
     "data": {
      "text/plain": [
       "true"
      ]
     },
     "execution_count": 89,
     "metadata": {},
     "output_type": "execute_result"
    }
   ],
   "source": [
    "function bishopAndPawn(bishop, pawn) {\n",
    "  // difference in X coordinates equals the difference in Y coordinates\n",
    "  return Math.abs(bishop[0].charCodeAt()-pawn[0].charCodeAt())===Math.abs(bishop[1]-pawn[1])\n",
    "}\n",
    "bishopAndPawn('A1', 'C3')"
   ]
  },
  {
   "cell_type": "markdown",
   "metadata": {},
   "source": [
    "## String, Chess: chessKnight\n",
    "Given a position of a knight on the standard chessboard, find the number of different moves the knight can perform.\n",
    "\n",
    "The knight can move to a square that is two squares horizontally and one square vertically, or two squares vertically and one square horizontally away from it. The complete move therefore looks like the letter L. Check out the image below to see all valid moves for a knight piece that is placed on one of the central squares."
   ]
  },
  {
   "cell_type": "code",
   "execution_count": 90,
   "metadata": {},
   "outputs": [
    {
     "data": {
      "text/plain": [
       "2"
      ]
     },
     "execution_count": 90,
     "metadata": {},
     "output_type": "execute_result"
    }
   ],
   "source": [
    "function chessKnight(cell) {\n",
    "  const moves = [[2,1],[1,2],[-1,2],[-2,1],[-2,-1],[-1,-2],[1,-2],[2,-1]];\n",
    "  const p = [cell.charCodeAt(0)-96,cell.charCodeAt(1)-48];\n",
    "  return moves.filter(d=>0<p[0]+d[0]&&p[0]+d[0]<9&&0<p[1]+d[1]&&p[1]+d[1]<9).length\n",
    "}\n",
    "chessKnight('a1')"
   ]
  },
  {
   "cell_type": "code",
   "execution_count": 91,
   "metadata": {},
   "outputs": [
    {
     "data": {
      "text/plain": [
       "2"
      ]
     },
     "execution_count": 91,
     "metadata": {},
     "output_type": "execute_result"
    }
   ],
   "source": [
    "function chessKnight(cell) {\n",
    "    const movesOnBoard = [\n",
    "        [2,3,4,4,4,4,3,2],\n",
    "        [3,4,6,6,6,6,4,3],\n",
    "        [4,6,8,8,8,8,6,4],\n",
    "        [4,6,8,8,8,8,6,4],\n",
    "        [4,6,8,8,8,8,6,4],\n",
    "        [4,6,8,8,8,8,6,4],\n",
    "        [3,4,6,6,6,6,4,3],\n",
    "        [2,3,4,4,4,4,3,2]];\n",
    "    const x = cell[0].charCodeAt() - 97;\n",
    "    const y = cell.charCodeAt(1) - 49;\n",
    "    return movesOnBoard[y][x];\n",
    "}\n",
    "chessKnight('a1')"
   ]
  },
  {
   "cell_type": "markdown",
   "metadata": {},
   "source": [
    "## Number: deleteDigit\n",
    "Given some integer, find the maximal number you can obtain by deleting exactly one digit of the given number."
   ]
  },
  {
   "cell_type": "code",
   "execution_count": 92,
   "metadata": {},
   "outputs": [
    {
     "data": {
      "text/plain": [
       "52"
      ]
     },
     "execution_count": 92,
     "metadata": {},
     "output_type": "execute_result"
    }
   ],
   "source": [
    "function deleteDigit(n) {\n",
    "  const digits = [];\n",
    "  while (n>0){\n",
    "      d=n%10;\n",
    "      digits.unshift(d);\n",
    "      n=(n-d)/10;\n",
    "  }\n",
    "  let removed = false;\n",
    "  const last = digits.length-1;\n",
    "  return digits.reduce((n,d,i)=>((!removed&&((i<last && digits[i]<digits[i+1]) || i===last))?(removed=true,n):n*10+d),0);\n",
    "}\n",
    "deleteDigit(152)"
   ]
  },
  {
   "cell_type": "code",
   "execution_count": 93,
   "metadata": {},
   "outputs": [
    {
     "data": {
      "text/plain": [
       "2"
      ]
     },
     "execution_count": 93,
     "metadata": {},
     "output_type": "execute_result"
    }
   ],
   "source": [
    "function deleteDigit(n) {\n",
    "    let m = 0;\n",
    "    for(let d = 1;d <= n; d *= 10){\n",
    "        let t = n%d + (Math.floor(Math.floor(n/d)/10)*d)\n",
    "        m = Math.max(m,t);\n",
    "    }\n",
    "    return m;\n",
    "}\n",
    "deleteDigit(21)"
   ]
  },
  {
   "cell_type": "code",
   "execution_count": 94,
   "metadata": {},
   "outputs": [
    {
     "data": {
      "text/plain": [
       "'Ready steady go '"
      ]
     },
     "execution_count": 94,
     "metadata": {},
     "output_type": "execute_result"
    }
   ],
   "source": [
    "\"Ready, steady, go!\".replace(/[^a-z]+/ig,' ')"
   ]
  },
  {
   "cell_type": "markdown",
   "metadata": {},
   "source": [
    "## String, RegEx: messageFromBinaryCode\n",
    "You are taking part in an Escape Room challenge designed specifically for programmers. In your efforts to find a clue, you've found a binary code written on the wall behind a vase, and realized that it must be an encrypted message. After some thought, your first guess is that each consecutive 8 bits of the code stand for the character with the corresponding extended ASCII code.\n",
    "\n",
    "Assuming that your hunch is correct, decode the message."
   ]
  },
  {
   "cell_type": "code",
   "execution_count": 95,
   "metadata": {},
   "outputs": [
    {
     "data": {
      "text/plain": [
       "'Hello!'"
      ]
     },
     "execution_count": 95,
     "metadata": {},
     "output_type": "execute_result"
    }
   ],
   "source": [
    "function messageFromBinaryCode(code) {\n",
    "  return code.replace(/[01]{8}/g,e=>String.fromCharCode(parseInt(e,2)))\n",
    "}\n",
    "messageFromBinaryCode('010010000110010101101100011011000110111100100001')"
   ]
  },
  {
   "cell_type": "markdown",
   "metadata": {},
   "source": [
    "## Array: spiralNumbers\n",
    "Construct a square matrix with a size N × N containing integers from 1 to N * N in a spiral order, starting from top-left and in clockwise direction."
   ]
  },
  {
   "cell_type": "code",
   "execution_count": 96,
   "metadata": {},
   "outputs": [
    {
     "data": {
      "text/plain": [
       "[ [ 1, 2, 3 ], [ 8, 9, 4 ], [ 7, 6, 5 ] ]"
      ]
     },
     "execution_count": 96,
     "metadata": {},
     "output_type": "execute_result"
    }
   ],
   "source": [
    "function spiralNumbers(n) {\n",
    "  const diff=[0, 1,0,-1,0]\n",
    "  let i,col=0,row=0;\n",
    "  const m=[];  \n",
    "  for (i=n;i>0;i--) m.push(Array(n));\n",
    "  let step=n-1;\n",
    "  out: while (true){\n",
    "    for (let r=0;r<4;r++){\n",
    "        for (let s=0;s<step;s++) {\n",
    "            m[row][col]=++i;\n",
    "            row+=diff[r];\n",
    "            col+=diff[r+1]\n",
    "            if (i==n*n) break out;\n",
    "        }\n",
    "    }\n",
    "    step=(step<3)?1:step-2;\n",
    "    row++;\n",
    "    col++;\n",
    "  }\n",
    "  return m;\n",
    "}\n",
    "spiralNumbers(3)"
   ]
  },
  {
   "cell_type": "code",
   "execution_count": 97,
   "metadata": {},
   "outputs": [
    {
     "data": {
      "text/plain": [
       "[ [ 1, 2, 3, 4 ],\n",
       "  [ 12, 13, 14, 5 ],\n",
       "  [ 11, 16, 15, 6 ],\n",
       "  [ 10, 9, 8, 7 ] ]"
      ]
     },
     "execution_count": 97,
     "metadata": {},
     "output_type": "execute_result"
    }
   ],
   "source": [
    "function spiralNumbers(n) {\n",
    "  const m=[], diff=[0,1,0,-1,0,1]\n",
    "  let i,row=0,col=0,d=0;\n",
    "  // generate Nxn array\n",
    "  for (i=n;i>0;i--) m.push(Array(n));\n",
    "  // count from 1 to N^N\n",
    "  for (i=1;i<=n*n;i++){\n",
    "     // put down the number\n",
    "     m[row][col]=i;\n",
    "     // step foward\n",
    "     row+=diff[d];\n",
    "     col+=diff[d+1];\n",
    "     // if stepped over boundary or the cell is taken\n",
    "     if (row<0||row==n||col<0||col==n||m[row][col]>0){\n",
    "       // step backward, turn right, step forward\n",
    "       row+=-diff[d]   + diff[d+1];\n",
    "       col+=-diff[d+1] + diff[d+2];    \n",
    "       d = ++d%4;\n",
    "     }\n",
    "  }\n",
    "  return m;\n",
    "}\n",
    "spiralNumbers(4)"
   ]
  },
  {
   "cell_type": "markdown",
   "metadata": {},
   "source": [
    "## Number: climbingStairs\n",
    "You are climbing a staircase that has n steps. You can take the steps either 1 or 2 at a time. Calculate how many distinct ways you can climb to the top of the staircase."
   ]
  },
  {
   "cell_type": "code",
   "execution_count": 98,
   "metadata": {},
   "outputs": [
    {
     "data": {
      "text/plain": [
       "[ 1, 2, 3, 5, 8 ]"
      ]
     },
     "execution_count": 98,
     "metadata": {},
     "output_type": "execute_result"
    }
   ],
   "source": [
    "function climbingStairs(n) {\n",
    "    let steps=0;\n",
    "    for (let i=0, p0=0, p1=1; i<n; i++) {\n",
    "        steps = p0+p1;\n",
    "        p0=p1;\n",
    "        p1=steps;\n",
    "    }\n",
    "    return steps;\n",
    "}\n",
    "[climbingStairs(1),climbingStairs(2),climbingStairs(3),climbingStairs(4),climbingStairs(5)]"
   ]
  },
  {
   "cell_type": "code",
   "execution_count": 99,
   "metadata": {},
   "outputs": [
    {
     "data": {
      "text/plain": [
       "[ 1, 2, 3, 5, 8 ]"
      ]
     },
     "execution_count": 99,
     "metadata": {},
     "output_type": "execute_result"
    }
   ],
   "source": [
    "function climbingStairs(n) {\n",
    "    switch (n){\n",
    "      case 0: return 0; break;\n",
    "      case 1: return 1; break;\n",
    "      case 2: return 2; break;\n",
    "      default: return climbingStairs(n-1)+climbingStairs(n-2);\n",
    "    }\n",
    "}\n",
    "[climbingStairs(1),climbingStairs(2),climbingStairs(3),climbingStairs(4),climbingStairs(5)]"
   ]
  },
  {
   "cell_type": "markdown",
   "metadata": {},
   "source": [
    "## Array: phoneCall\n",
    "Some phone usage rate may be described as follows:\n",
    "- first minute of a call costs `min1` cents,\n",
    "- each minute from the 2nd up to 10th (inclusive) costs `min2_10` cents\n",
    "- each minute after 10th costs `min11` cents.\n",
    "\n",
    "You have `s` cents on your account before the call. What is the duration of the longest call (in minutes rounded down to the nearest integer) you can have?"
   ]
  },
  {
   "cell_type": "code",
   "execution_count": 100,
   "metadata": {},
   "outputs": [
    {
     "data": {
      "text/plain": [
       "[ 14, 1, 3 ]"
      ]
     },
     "execution_count": 100,
     "metadata": {},
     "output_type": "execute_result"
    }
   ],
   "source": [
    "function phoneCall(min1, min2_10, min11, budget) {\n",
    "  let scale = [[1, min1], [9,min2_10], [null,min11]];\n",
    "  let includesMin=0;\n",
    "  for (range of scale){\n",
    "     if (!range[0] || budget < range[0]*range[1]) return includesMin + budget/range[1]|0;\n",
    "     includesMin += range[0];\n",
    "     budget -= range[0]*range[1];\n",
    "  };\n",
    "}\n",
    "[phoneCall(3,1,2,20),phoneCall(2,2,1,2),phoneCall(1,2,1,6),] // expected 14, 1, 3"
   ]
  },
  {
   "cell_type": "markdown",
   "metadata": {},
   "source": [
    "## Number: extraNumber\n",
    "You're given three integers, `a`, `b` and `c`. It is guaranteed that two of these integers are equal to each other. What is the value of the third integer?"
   ]
  },
  {
   "cell_type": "code",
   "execution_count": 101,
   "metadata": {},
   "outputs": [
    {
     "data": {
      "text/plain": [
       "4"
      ]
     },
     "execution_count": 101,
     "metadata": {},
     "output_type": "execute_result"
    }
   ],
   "source": [
    "function extraNumber(a, b, c) {\n",
    "  return (a===b && c) || (a===c && b) || (b===c && a)\n",
    "}\n",
    "extraNumber(3,4,3)"
   ]
  },
  {
   "cell_type": "code",
   "execution_count": 102,
   "metadata": {},
   "outputs": [
    {
     "data": {
      "text/plain": [
       "4"
      ]
     },
     "execution_count": 102,
     "metadata": {},
     "output_type": "execute_result"
    }
   ],
   "source": [
    "function extraNumber(a, b, c) {\n",
    "  return a==b? c: a==c? b:a\n",
    "}\n",
    "extraNumber(3,4,3)"
   ]
  },
  {
   "cell_type": "markdown",
   "metadata": {},
   "source": [
    "Bitwise XOR: `a ^ b`\n",
    "\n",
    "Returns a zero in each bit position for which the corresponding bits are the same.\n",
    "[Returns a one in each bit position for which the corresponding bits are different.]"
   ]
  },
  {
   "cell_type": "code",
   "execution_count": 103,
   "metadata": {},
   "outputs": [
    {
     "data": {
      "text/plain": [
       "4"
      ]
     },
     "execution_count": 103,
     "metadata": {},
     "output_type": "execute_result"
    }
   ],
   "source": [
    "function extraNumber(a, b, c) {\n",
    "    return (a^b)^c\n",
    "}\n",
    "extraNumber(3,4,3)"
   ]
  },
  {
   "cell_type": "markdown",
   "metadata": {},
   "source": [
    "## Number: arithmeticExpression\n",
    "Consider an arithmetic expression of the form `a#b=c`. Check whether it is possible to replace `#` with one of the four signs: `+`, `-`, `*` or `/` to obtain a correct expression."
   ]
  },
  {
   "cell_type": "code",
   "execution_count": 104,
   "metadata": {},
   "outputs": [
    {
     "data": {
      "text/plain": [
       "true"
      ]
     },
     "execution_count": 104,
     "metadata": {},
     "output_type": "execute_result"
    }
   ],
   "source": [
    "function arithmeticExpression(a, b, c) {\n",
    "  return a+b==c || a*b==c || a-b==c || a/b==c\n",
    "}\n",
    "arithmeticExpression(2,3,5)"
   ]
  },
  {
   "cell_type": "code",
   "execution_count": 105,
   "metadata": {},
   "outputs": [
    {
     "data": {
      "text/plain": [
       "true"
      ]
     },
     "execution_count": 105,
     "metadata": {},
     "output_type": "execute_result"
    }
   ],
   "source": [
    "function arithmeticExpression(A, B, C) {\n",
    "    return [...'+-*/'].some(op => eval(`${A}${op}${B}`) === C)\n",
    "}\n",
    "arithmeticExpression(2,3,5)"
   ]
  },
  {
   "cell_type": "markdown",
   "metadata": {},
   "source": [
    "## Number: willYou\n",
    "Once Mary heard a famous song, and a line from it stuck in her head. That line was \"Will you still love me when I'm no longer young and beautiful?\". Mary believes that a person is loved if and only if he/she is both young and beautiful, but this is quite a depressing thought, so she wants to put her belief to the test.\n",
    "\n",
    "Knowing whether a person is young, beautiful and loved, find out if they contradict Mary's belief.\n",
    "\n",
    "A person contradicts Mary's belief if one of the following statements is true:\n",
    "\n",
    "- they are `young` and `beautiful` but not `loved`;\n",
    "- they are `loved` but not `young` or not `beautiful`."
   ]
  },
  {
   "cell_type": "code",
   "execution_count": 106,
   "metadata": {},
   "outputs": [],
   "source": [
    "function willYou(young, beautiful, loved) {\n",
    "  return  (young&&beautiful) && !loved  ||  (loved && (!young||!beautiful))\n",
    "  return ((young&&beautiful) && !loved) ||  (loved && (!young||!beautiful))\n",
    "  return ((young&&beautiful) && !loved) || ( loved && (!young||!beautiful))\n",
    "  return ((young&&beautiful) !=  loved) || ( loved && (!young||!beautiful))\n",
    "  return ((young&&beautiful) !=  loved) || ( loved && !(young&&beautiful))\n",
    "  return ((young&&beautiful) !=  loved) || ( loved !=  (young&&beautiful))\n",
    "  return  (young&&beautiful) !=  loved\n",
    "}"
   ]
  },
  {
   "cell_type": "markdown",
   "metadata": {},
   "source": [
    "## Array: metroCard\n",
    "You just bought a public transit card that allows you to ride the Metro for a certain number of days.\n",
    "\n",
    "Here is how it works: upon first receiving the card, the system allocates you a `31`-day pass, which equals the number of days in January. The second time you pay for the card, your pass is extended by `28` days, i.e. the number of days in February (note that leap years are not considered), and so on. The 13th time you extend the pass, you get `31` days again.\n",
    "\n",
    "You just ran out of days on the card, and unfortunately you've forgotten how many times your pass has been extended so far. However, you do remember the number of days you were able to ride the Metro during this most recent month. Figure out the number of days by which your pass will now be extended, and return all the options as an array sorted in increasing order.\n",
    "\n",
    "**Example**\n",
    "\n",
    "For `lastNumberOfDays = 30`, the output should be `metroCard(lastNumberOfDays) = [31]`\n",
    "\n",
    "There are `30` days in April, June, September and November, so the next months to consider are May, July, October or December. All of them have exactly `31` days, which means that you will definitely get a `31`-days pass the next time you extend your card."
   ]
  },
  {
   "cell_type": "code",
   "execution_count": 107,
   "metadata": {},
   "outputs": [
    {
     "data": {
      "text/plain": [
       "[ 31 ]"
      ]
     },
     "execution_count": 107,
     "metadata": {},
     "output_type": "execute_result"
    }
   ],
   "source": [
    "function metroCard(lastNumberOfDays) {\n",
    "  const days = [31,28,31,30,31,30,31,31,30,31,30,31];\n",
    "  return Array.from(days.reduce((options,days,i,arr)=>(lastNumberOfDays==days)?(options.add(arr[(i+1)%12]),options):options,new Set)).sort()\n",
    "}\n",
    "metroCard(30); // expected [31]"
   ]
  },
  {
   "cell_type": "code",
   "execution_count": 108,
   "metadata": {},
   "outputs": [
    {
     "data": {
      "text/plain": [
       "[ 28, 30, 31 ]"
      ]
     },
     "execution_count": 108,
     "metadata": {},
     "output_type": "execute_result"
    }
   ],
   "source": [
    "metroCard(31); // expected [28, 30, 31]"
   ]
  },
  {
   "cell_type": "code",
   "execution_count": 109,
   "metadata": {},
   "outputs": [],
   "source": [
    "function metroCard(lastNumberOfDays) {\n",
    "  return lastNumberOfDays < 31 ? [31] : [28, 30, 31];\n",
    "}"
   ]
  },
  {
   "cell_type": "markdown",
   "metadata": {},
   "source": [
    "# [Bits and pieces](https://blog.logrocket.com/interesting-use-cases-for-javascript-bitwise-operators/)"
   ]
  },
  {
   "cell_type": "markdown",
   "metadata": {},
   "source": [
    "## Number: killKthBit\n",
    "In the given number `n` the `k`th bit from the right was initially set to `0`, but its current value might be different. Write a function that will change the `k`th bit of `n` back to `0`."
   ]
  },
  {
   "cell_type": "code",
   "execution_count": 110,
   "metadata": {},
   "outputs": [],
   "source": [
    "function killKthBit(n, k) {\n",
    "  let mask = 1 << k-1;  // set the k-th bit to 1\n",
    "  mask = ~ mask  // negate the whole mask (the k-th bit is the only 0)\n",
    "  return n & mask;  // bitwise AND, clears all bits where the mask is 0\n",
    "}"
   ]
  },
  {
   "cell_type": "markdown",
   "metadata": {},
   "source": [
    "## Number: \n",
    "You are given an array of up to four non-negative integers, each less than `256`.\n",
    "\n",
    "Your task is to pack these integers into one number `M` in the following way:\n",
    "\n",
    "* The first element of the array occupies the first `8` bits of `M`;\n",
    "* The second element occupies next `8` bits, and so on.\n",
    "\n",
    "Return the obtained integer `M`.\n",
    "\n",
    "Note: the phrase \"first bits of M\" refers to the least significant bits of M - the right-most bits of an integer. For further clarification see the following example.\n",
    "\n",
    "**Example**\n",
    "\n",
    "For a = `[24, 85, 0]`, the output should be `arrayPacking(a) = 21784`\n",
    "\n",
    "An array `[24, 85, 0]` looks like `[00011000, 01010101, 00000000]` in binary.\n",
    "After packing these into one number we get `00000000 01010101 00011000` (spaces are placed for convenience), which equals to `21784`"
   ]
  },
  {
   "cell_type": "code",
   "execution_count": 111,
   "metadata": {},
   "outputs": [
    {
     "data": {
      "text/plain": [
       "21784"
      ]
     },
     "execution_count": 111,
     "metadata": {},
     "output_type": "execute_result"
    }
   ],
   "source": [
    "function arrayPacking(a) {\n",
    "  return a.reduceRight((result,bits)=>(result<<8) + bits,0)\n",
    "}\n",
    "arrayPacking([24, 85, 0]);  // expected 21784"
   ]
  },
  {
   "cell_type": "markdown",
   "metadata": {},
   "source": [
    "## Number: rangeBitCount\n",
    "You are given two numbers `a` and `b` where `0 ≤ a ≤ b`. Imagine you construct an array of all the integers from `a` to `b` inclusive. You need to count the number of `1`s in the binary representations of all the numbers in the array."
   ]
  },
  {
   "cell_type": "code",
   "execution_count": 112,
   "metadata": {},
   "outputs": [
    {
     "name": "stdout",
     "output_type": "stream",
     "text": [
      "1\n",
      "2\n"
     ]
    },
    {
     "data": {
      "text/plain": [
       "2"
      ]
     },
     "execution_count": 112,
     "metadata": {},
     "output_type": "execute_result"
    }
   ],
   "source": [
    "function rangeBitCount(a, b) {\n",
    "  let count = 0;\n",
    "  let num;\n",
    "  for (let i=a; i<=b; i++){\n",
    "      console.log(i);\n",
    "      num = i;\n",
    "      while (num>0) {\n",
    "        count += num&1; // take the lowest bit from the number and collect\n",
    "        num=num>>1;}    // shift the number to the right (divide by 2)\n",
    "  }\n",
    "  return count;\n",
    "}\n",
    "rangeBitCount(1,2);"
   ]
  },
  {
   "cell_type": "markdown",
   "metadata": {},
   "source": [
    "## Number: mirrorBits\n",
    "Reverse the order of the bits in a given integer.\n",
    "\n",
    "Example\n",
    "\n",
    "For `a = 97`, the output should be `mirrorBits(a) = 67`\n",
    "\n",
    "`97` equals to `1100001` in binary, which is `1000011` after mirroring, and that is `67` in base `10`.\n",
    "\n",
    "For `a = 8`, the output should be `mirrorBits(a) = 1`."
   ]
  },
  {
   "cell_type": "code",
   "execution_count": 113,
   "metadata": {},
   "outputs": [
    {
     "data": {
      "text/plain": [
       "67"
      ]
     },
     "execution_count": 113,
     "metadata": {},
     "output_type": "execute_result"
    }
   ],
   "source": [
    "function mirrorBits(a) {\n",
    "  let result=0;\n",
    "  while (a>0) {\n",
    "    result = (result << 1) + (a&1);\n",
    "    a >>= 1;\n",
    "  }\n",
    "  return result;\n",
    "}\n",
    "mirrorBits(97); // expected 67"
   ]
  },
  {
   "cell_type": "markdown",
   "metadata": {},
   "source": [
    "## Number: secondRightmostZeroBit\n",
    "Presented with the integer n, find the 0-based position of the second rightmost zero bit in its binary representation (it is guaranteed that such a bit exists), counting from right to left.\n",
    "\n",
    "Return the value of 2position_of_the_found_bit. Implement the missing code, denoted by ellipses. You may not modify the pre-existing code.\n",
    "\n",
    "**Example**\n",
    "\n",
    "For `n = 37`, the output should be `secondRightmostZeroBit(n) = 8`\n",
    "\n",
    "`37` = `1001012`. The second rightmost zero bit is at position `3` (0-based) from the right in the binary representation of `n`. Thus, the answer is 2^3 = 8."
   ]
  },
  {
   "cell_type": "code",
   "execution_count": 114,
   "metadata": {},
   "outputs": [
    {
     "data": {
      "text/plain": [
       "8"
      ]
     },
     "execution_count": 114,
     "metadata": {},
     "output_type": "execute_result"
    }
   ],
   "source": [
    "function secondRightmostZeroBit(n) {\n",
    "  return parseInt(n.toString(2).replace(/[01]*([0][1]*[0][1]*)$/,(match,group)=>Math.pow(2,group.length-1)),10);\n",
    "}\n",
    "secondRightmostZeroBit(37); //expected 8"
   ]
  },
  {
   "cell_type": "markdown",
   "metadata": {},
   "source": [
    "For any integer `n`, the binary representation of `(n-1)` has the bits flipped to the left (and including) the rightmost set bit in `n`"
   ]
  },
  {
   "cell_type": "code",
   "execution_count": 115,
   "metadata": {},
   "outputs": [
    {
     "name": "stdout",
     "output_type": "stream",
     "text": [
      "n=36:   100100\n",
      "n-1:    100011\n"
     ]
    }
   ],
   "source": [
    "n=36;\n",
    "console.log('n=36:  ',n.toString(2));\n",
    "console.log('n-1:   ',(n-1).toString(2));"
   ]
  },
  {
   "cell_type": "markdown",
   "metadata": {},
   "source": [
    "For any unsigned integer `n`, the operation `n&(n-1)` turns off the rightmost set bit (first `1` from right)"
   ]
  },
  {
   "cell_type": "code",
   "execution_count": 116,
   "metadata": {},
   "outputs": [
    {
     "name": "stdout",
     "output_type": "stream",
     "text": [
      "n:36       100100\n",
      "n-1:       100011\n",
      "n&(n-1):   100000\n"
     ]
    }
   ],
   "source": [
    "n=36;\n",
    "console.log(`n:${n}      `,n.toString(2));\n",
    "console.log('n-1:      ',(n-1).toString(2));\n",
    "console.log('n&(n-1):  ',(n&(n-1)).toString(2));"
   ]
  },
  {
   "cell_type": "markdown",
   "metadata": {},
   "source": [
    "An application of this operation can be to determine if an integer `n` is a power of 2 number"
   ]
  },
  {
   "cell_type": "code",
   "execution_count": 117,
   "metadata": {},
   "outputs": [
    {
     "name": "stdout",
     "output_type": "stream",
     "text": [
      "n:32         100000\n",
      "n-1:          11111\n",
      "n&(n-1)==0:       0 true\n"
     ]
    }
   ],
   "source": [
    "n=32;\n",
    "console.log(`n:${n}        `,n.toString(2));\n",
    "console.log('n-1:         ',(n-1).toString(2));\n",
    "console.log('n&(n-1)==0:      ',(n&(n-1)).toString(2), (n&(n-1))==0);"
   ]
  },
  {
   "cell_type": "code",
   "execution_count": 118,
   "metadata": {},
   "outputs": [
    {
     "name": "stdout",
     "output_type": "stream",
     "text": [
      "n:17          10001\n",
      "n-1:          10000\n",
      "n&(n-1)==0:   10000 false\n"
     ]
    }
   ],
   "source": [
    "n=17;\n",
    "console.log(`n:${n}         `,n.toString(2));\n",
    "console.log('n-1:         ',(n-1).toString(2));\n",
    "console.log('n&(n-1)==0:  ',(n&(n-1)).toString(2), (n&(n-1))==0);"
   ]
  },
  {
   "cell_type": "markdown",
   "metadata": {},
   "source": [
    "For any unsigned integer `n`, the operation `n&(n+1)` turns on the rightmost unset bit (first 0 from right)"
   ]
  },
  {
   "cell_type": "code",
   "execution_count": 119,
   "metadata": {},
   "outputs": [
    {
     "name": "stdout",
     "output_type": "stream",
     "text": [
      "n:37            100101\n",
      "n+1:            100110\n",
      "(n+1) | n:      100111\n"
     ]
    }
   ],
   "source": [
    "n=37\n",
    "console.log(`n:${n}           `,n.toString(2));\n",
    "console.log('n+1:           ',(n+1).toString(2));\n",
    "console.log('(n+1) | n:     ',((n+1)|n).toString(2));"
   ]
  },
  {
   "cell_type": "code",
   "execution_count": 120,
   "metadata": {},
   "outputs": [
    {
     "name": "stdout",
     "output_type": "stream",
     "text": [
      "n:37                   100101\n",
      "n+1:                   100110\n",
      "(n+1) | n:             100111\n",
      "((n+1)|n)+1:           101000\n",
      "(((n+1)|n)+1) | n:     101101\n",
      "((((n+1)|n)+1)|n) - n:   1000\n"
     ]
    },
    {
     "data": {
      "text/plain": [
       "8"
      ]
     },
     "execution_count": 120,
     "metadata": {},
     "output_type": "execute_result"
    }
   ],
   "source": [
    "function secondRightmostZeroBit(n) {\n",
    "  console.log(`n:${n}                  `,n.toString(2));\n",
    "  console.log('n+1:                  ',(n+1).toString(2));\n",
    "  console.log('(n+1) | n:            ',((n+1)|n).toString(2));\n",
    "  console.log('((n+1)|n)+1:          ',(((n+1)|n)+1).toString(2));\n",
    "  console.log('(((n+1)|n)+1) | n:    ',((((n+1)|n)+1) | n).toString(2));\n",
    "  console.log('((((n+1)|n)+1)|n) - n:  ',(((((n+1)|n)+1)|n) - n).toString(2));\n",
    "  return (((((n + 1) | n) + 1) | n) - n)\n",
    "}\n",
    "secondRightmostZeroBit(37); //expected 8"
   ]
  },
  {
   "cell_type": "markdown",
   "metadata": {},
   "source": [
    "The same operation, but instead of `(n+1)`, now use `-~n`:"
   ]
  },
  {
   "cell_type": "code",
   "execution_count": 121,
   "metadata": {},
   "outputs": [
    {
     "name": "stdout",
     "output_type": "stream",
     "text": [
      "n : 37             100101\n",
      "~n :              -100110\n",
      "-~n :              100110\n",
      "-~n | n :          101000\n",
      "-~(-~n|n):         101000\n",
      "-~(-~n|n) | n:     101101\n",
      "-~(-~n|n)|n - n:     1000\n"
     ]
    },
    {
     "data": {
      "text/plain": [
       "8"
      ]
     },
     "execution_count": 121,
     "metadata": {},
     "output_type": "execute_result"
    }
   ],
   "source": [
    "function secondRightmostZeroBit(n) {\n",
    "  console.log(`n : ${n}            `,n.toString(2));\n",
    "  console.log('~n :             ',(~n).toString(2));\n",
    "  console.log('-~n :             ',(-~n).toString(2));\n",
    "  console.log('-~n | n :         ',(-~(-~n|n)).toString(2));\n",
    "  console.log('-~(-~n|n):        ',(((n+1)|n)+1).toString(2));\n",
    "  console.log('-~(-~n|n) | n:    ',(-~(-~n|n)|n).toString(2));\n",
    "  console.log('-~(-~n|n)|n - n:    ',((-~(-~n|n)|n) - n).toString(2));\n",
    "  return (-~(-~n | n) | n) - n\n",
    "}\n",
    "secondRightmostZeroBit(37); //expected 8"
   ]
  },
  {
   "cell_type": "code",
   "execution_count": 122,
   "metadata": {},
   "outputs": [
    {
     "data": {
      "text/plain": [
       "8"
      ]
     },
     "execution_count": 122,
     "metadata": {},
     "output_type": "execute_result"
    }
   ],
   "source": [
    "function secondRightmostZeroBit(n) {\n",
    "  return ~(n |= -~n) & -~n;\n",
    "}\n",
    "secondRightmostZeroBit(37); //expected 8"
   ]
  },
  {
   "cell_type": "markdown",
   "metadata": {},
   "source": [
    "## Number: swapAdjacentBits\n",
    "You're given an arbitrary 32-bit integer n. Take its binary representation, split bits into it in pairs (bit number 0 and 1, bit number 2 and 3, etc.) and swap bits in each pair. Then return the result as a decimal number.\n",
    "\n",
    "**Example**\n",
    "\n",
    "For `n = 13`, the output should be `swapAdjacentBits(n) = 14`\n",
    "\n",
    "`13` = `1101` ~> `{11}{01}` ~> `1110` = `1410`.\n",
    "\n",
    "For `n = 74`, the output should be `swapAdjacentBits(n) = 133`.\n",
    "\n",
    "`74` = `01001010` ~> `{01}{00}{10}{10}` ~> `10000101` = `13310`\n",
    "\n",
    "Note the preceding zero written in front of the initial number: since both numbers are 32-bit integers, they have 32 bits in their binary representation. The preceding zeros in other cases don't matter, so they are omitted. Here, however, it does make a difference."
   ]
  },
  {
   "cell_type": "code",
   "execution_count": 123,
   "metadata": {},
   "outputs": [
    {
     "data": {
      "text/plain": [
       "133"
      ]
     },
     "execution_count": 123,
     "metadata": {},
     "output_type": "execute_result"
    }
   ],
   "source": [
    "function swapAdjacentBits(n) {\n",
    "  return parseInt(n.toString(2).padStart(32, `0`).replace(/(.)(.)/g, `$2$1`), 2);\n",
    "}\n",
    "swapAdjacentBits(74)  // expected 133"
   ]
  },
  {
   "cell_type": "code",
   "execution_count": 124,
   "metadata": {},
   "outputs": [
    {
     "name": "stdout",
     "output_type": "stream",
     "text": [
      "n : 13                                    1101\n",
      "mask10:       10101010101010101010101010101010\n",
      "n & mask10:                               1000\n",
      "n&mask10 >>1:                              100\n",
      "mask01:        1010101010101010101010101010101\n",
      "n & mask01:                                101\n",
      "n&mask01 <<1:                             1010\n",
      "n&mask10>>1  |  n&mask01<<1:              1110\n"
     ]
    },
    {
     "data": {
      "text/plain": [
       "14"
      ]
     },
     "execution_count": 124,
     "metadata": {},
     "output_type": "execute_result"
    }
   ],
   "source": [
    "function swapAdjacentBits(n) {\n",
    "  mask10 = 0b10101010101010101010101010101010;\n",
    "  mask01 = 0b01010101010101010101010101010101;\n",
    "  console.log(`n : ${n}                                   `,n.toString(2));\n",
    "  console.log(`mask10:      `,mask10.toString(2));\n",
    "  console.log(`n & mask10:                              `,(n&mask10).toString(2));    \n",
    "  console.log(`n&mask10 >>1:                             `,((n&mask10)>>1).toString(2));  \n",
    "  console.log(`mask01:       `,mask01.toString(2));\n",
    "  console.log(`n & mask01:                               `,(n&mask01).toString(2));    \n",
    "  console.log(`n&mask01 <<1:                            `,((n&mask01)<<1).toString(2));\n",
    "  console.log(`n&mask10>>1  |  n&mask01<<1:             `,((n & mask10) >>1 | (n & mask01)<<1).toString(2));  \n",
    "  return (n & mask10) >>1 | (n & mask01)<<1;\n",
    "}\n",
    "swapAdjacentBits(13)  // expected 14"
   ]
  },
  {
   "cell_type": "markdown",
   "metadata": {},
   "source": [
    "## Number: differentRightmostBit\n",
    "You're given two integers, n and m. Find position of the rightmost bit in which they differ in their binary representations (it is guaranteed that such a bit exists), counting from right to left.\n",
    "\n",
    "Return the value of `2^position_of_the_found_bit` (0-based)\n",
    "\n",
    "**Example**\n",
    "\n",
    "For `n = 11` and `m = 13`, the output should be `differentRightmostBit(n, m) = 2`\n",
    "\n",
    "`11` = `1011`, `13` = `1101`, the rightmost bit in which they differ is the bit at position `1` (0-based) from the right in the binary representations.\n",
    "So the answer is `2^1` = `2`.\n",
    "\n",
    "For `n = 7` and `m = 23`, the output should be `differentRightmostBit(n, m) = 16`\n",
    "\n",
    "`710` = `111`, `2310` = `10111`, i.e. \n",
    "`00111`\n",
    "`10111`\n",
    "So the answer is `2^4` = `16`."
   ]
  },
  {
   "cell_type": "code",
   "execution_count": 125,
   "metadata": {},
   "outputs": [
    {
     "name": "stdout",
     "output_type": "stream",
     "text": [
      "n : 11                                 1011\n",
      "m : 13                                 1101\n",
      "x=~n^m :                               -111\n",
      "(x+1) | x:                             -101\n",
      "x=n^m :                                -111\n",
      "((x+1)|x) -x:                            10\n",
      "n : 7                                 111\n",
      "m : 23                                 10111\n",
      "x=~n^m :                               -10001\n",
      "(x+1) | x:                             -1\n",
      "x=n^m :                                -10001\n",
      "((x+1)|x) -x:                            10000\n"
     ]
    },
    {
     "data": {
      "text/plain": [
       "[ 2, 16 ]"
      ]
     },
     "execution_count": 125,
     "metadata": {},
     "output_type": "execute_result"
    }
   ],
   "source": [
    "function differentRightmostBit(n, m) {\n",
    "  console.log(`n : ${n}                                `,n.toString(2));\n",
    "  console.log(`m : ${m}                                `,m.toString(2));\n",
    "  x = ~(n^m);\n",
    "  console.log(`x=~n^m :                              `,(x).toString(2));\n",
    "  console.log(`(x+1) | x:                            `,((x+1) | x).toString(2));\n",
    "  console.log(`x=n^m :                               `,(x).toString(2));\n",
    "  console.log(`((x+1)|x) -x:                           `,(((x+1) | x) -x).toString(2));  \n",
    "  return ((x=~n^m) | (x+1)) -x;\n",
    "}\n",
    "[differentRightmostBit(11,13) // expected 2\n",
    ",differentRightmostBit(7,23)] // expected 16"
   ]
  },
  {
   "cell_type": "code",
   "execution_count": 126,
   "metadata": {},
   "outputs": [
    {
     "data": {
      "text/plain": [
       "16"
      ]
     },
     "execution_count": 126,
     "metadata": {},
     "output_type": "execute_result"
    }
   ],
   "source": [
    "function differentRightmostBit(n, m) {\n",
    "  return (n ^= m) & -n;\n",
    "  return (n^m) & -(n^m);\n",
    "}\n",
    "differentRightmostBit(7,23) // expected 16"
   ]
  },
  {
   "cell_type": "markdown",
   "metadata": {},
   "source": [
    "## Number: equalPairOfBits\n",
    "You're given two integers, n and m. Find position of the rightmost pair of equal bits in their binary representations (it is guaranteed that such a pair exists), counting from right to left.\n",
    "\n",
    "Return the value of `2^position_of_the_found_pair` (0-based).\n",
    "\n",
    "**Example**\n",
    "\n",
    "For `n = 10` and `m = 11`, the output should be `equalPairOfBits(n, m) = 2`\n",
    "\n",
    "`10` = `1010`, `11` = `1011`, the position of the rightmost pair of equal bits is the bit at position `1` (0-based) from the right in the binary representations.\n",
    "So the answer is `2^1` = `2`."
   ]
  },
  {
   "cell_type": "code",
   "execution_count": 127,
   "metadata": {},
   "outputs": [
    {
     "data": {
      "text/plain": [
       "8"
      ]
     },
     "execution_count": 127,
     "metadata": {},
     "output_type": "execute_result"
    }
   ],
   "source": [
    "function equalPairOfBits(n, m) {\n",
    "  return ((x=n^m) | (-~x)) -x;\n",
    "}\n",
    "equalPairOfBits(28,27)  // expected 8"
   ]
  },
  {
   "cell_type": "code",
   "execution_count": 128,
   "metadata": {},
   "outputs": [
    {
     "data": {
      "text/plain": [
       "8"
      ]
     },
     "execution_count": 128,
     "metadata": {},
     "output_type": "execute_result"
    }
   ],
   "source": [
    "function equalPairOfBits(n, m) {\n",
    "  return n + m + 1 & ~m - n ;\n",
    "  return (~n^m) ^ ( ( ~n^m ) & ( ( ~n^m ) - 1 ) );\n",
    "  return ~(n^m) & ((n^m) + 1);\n",
    "  return ~(n^m) & -(~(n^m));\n",
    "}\n",
    "equalPairOfBits(28,27)  // expected 8"
   ]
  },
  {
   "cell_type": "markdown",
   "metadata": {},
   "source": [
    "## Number: countSumOfTwoRepresentations2\n",
    "Given integers n, l and r, find the number of ways to represent n as a sum of two integers A and B such that l ≤ A ≤ B ≤ r.\n",
    "\n",
    "**Example**\n",
    "\n",
    "For `n = 6`, `l = 2`, and `r = 4`, the output should be `countSumOfTwoRepresentations2(n, l, r) = 2`\n",
    "\n",
    "There are just two ways to write `6` as `A + B`, where `2 ≤ A ≤ B ≤ 4`: `6 = 2 + 4` and `6 = 3 + 3`."
   ]
  },
  {
   "cell_type": "code",
   "execution_count": 129,
   "metadata": {},
   "outputs": [
    {
     "data": {
      "text/plain": [
       "2"
      ]
     },
     "execution_count": 129,
     "metadata": {},
     "output_type": "execute_result"
    }
   ],
   "source": [
    "function countSumOfTwoRepresentations2(n, l, r) {\n",
    "  return Math.max(0, 1 + Math.min(n/2-l, r-n/2)|0) \n",
    "}\n",
    "countSumOfTwoRepresentations2(6, 2,4)"
   ]
  },
  {
   "cell_type": "markdown",
   "metadata": {},
   "source": [
    "## Number: magicalWell\n",
    "You are standing at a magical well. It has two positive integers written on it: `a` and `b`. Each time you cast a magic marble into the well, it gives you `a * b` dollars and then both `a` and `b `increase by `1`. You have n magic marbles. How much money will you make?\n",
    "\n",
    "**Example**\n",
    "\n",
    "For `a = 1`, `b = 2`, and `n = 2`, the output should be `magicalWell(a, b, n) = 8`\n",
    "\n",
    "You will cast your first marble and get `$2`, after which the numbers will become `2` and `3`. When you cast your second marble, the well will give you `$6`. Overall, you'll make `$8`. So, the output is `8`."
   ]
  },
  {
   "cell_type": "code",
   "execution_count": 130,
   "metadata": {},
   "outputs": [
    {
     "data": {
      "text/plain": [
       "8"
      ]
     },
     "execution_count": 130,
     "metadata": {},
     "output_type": "execute_result"
    }
   ],
   "source": [
    "function magicalWell(a, b, n) {\n",
    "  let total = 0;\n",
    "  for (let i=0; i<n; i++) total+=(a+i)*(b+i);\n",
    "  return total;\n",
    "}\n",
    "magicalWell(1,2,2) // expected 8"
   ]
  },
  {
   "cell_type": "code",
   "execution_count": 131,
   "metadata": {},
   "outputs": [
    {
     "data": {
      "text/plain": [
       "8"
      ]
     },
     "execution_count": 131,
     "metadata": {},
     "output_type": "execute_result"
    }
   ],
   "source": [
    "function magicalWell(a, b, n) {\n",
    "  return n*(a*b+(n-1)*(2*n-1+3*(a+b))/6);\n",
    "}\n",
    "magicalWell(1,2,2) // expected 8"
   ]
  },
  {
   "cell_type": "markdown",
   "metadata": {},
   "source": [
    "## Array: lineUp\n",
    "To prepare his students for an upcoming game, the sports coach decides to try some new training drills. To begin with, he lines them up and starts with the following warm-up exercise: when the coach says `L`, he instructs the students to turn to the left. Alternatively, when he says `R`, they should turn to the right. Finally, when the coach says `A`, the students should turn around.\n",
    "\n",
    "Unfortunately some students (not all of them, but at least one) can't tell left from right, meaning they always turn right when they hear `L` and left when they hear `R`. The coach wants to know how many times the students end up facing the same direction.\n",
    "\n",
    "Given the list of commands the coach has given, count the number of such commands after which the students will be facing the same direction."
   ]
  },
  {
   "cell_type": "code",
   "execution_count": 132,
   "metadata": {},
   "outputs": [
    {
     "data": {
      "text/plain": [
       "5"
      ]
     },
     "execution_count": 132,
     "metadata": {},
     "output_type": "execute_result"
    }
   ],
   "source": [
    "function lineUp(commands, d=true) {\n",
    "  return [...commands].reduce((s,c)=>s+=(d^=(c!=='A')),0);\n",
    "}\n",
    "lineUp('AALAAALARAR'); // expected 5"
   ]
  },
  {
   "cell_type": "markdown",
   "metadata": {},
   "source": [
    "## Number: additionWithoutCarrying\n",
    "A little boy is studying arithmetic. He has just learned how to add two integers, written one below another, column by column. But he always forgets about the important part - carrying.\n",
    "\n",
    "Given two integers, your task is to find the result which the little boy will get.\n",
    "\n",
    "Note: The boy had learned from this site, so feel free to check it out too if you are not familiar with column addition.\n",
    "\n",
    "**Example**\n",
    "\n",
    "For `param1 = 456` and `param2 = 1734`, the output should be `additionWithoutCarrying(param1, param2) = 1180`\n",
    "\n",
    "       456\n",
    "      1734\n",
    "    + ----\n",
    "      1180\n",
    "The boy performs the following operations from right to left:\n",
    "\n",
    "`6 + 4 = 10` but he forgets about carrying the `1` and just writes down the `0` in the last column\n",
    "`5 + 3 = 8`\n",
    "`4 + 7 = 11` but he forgets about the leading `1` and just writes down `1` under `4` and `7`.\n",
    "There is no digit in the first number corresponding to the leading digit of the second one, so the boy imagines that `0` is written before `456`. Thus, he gets `0 + 1 = 1`."
   ]
  },
  {
   "cell_type": "code",
   "execution_count": 133,
   "metadata": {},
   "outputs": [
    {
     "data": {
      "text/plain": [
       "1180"
      ]
     },
     "execution_count": 133,
     "metadata": {},
     "output_type": "execute_result"
    }
   ],
   "source": [
    "function additionWithoutCarrying(param1, param2) {\n",
    "   let result = 0;\n",
    "   let multiplier = 1;\n",
    "   while (param1>0 || param2>0) {\n",
    "     result += (param1%10 + param2%10)%10 * multiplier;\n",
    "     param1 = param1/10|0;\n",
    "     param2 = param2/10|0;\n",
    "     multiplier *= 10;\n",
    "   }\n",
    "   return result;\n",
    "}\n",
    "additionWithoutCarrying(456,1734) // expected 1180"
   ]
  },
  {
   "cell_type": "markdown",
   "metadata": {},
   "source": [
    "## Number: appleBoxes\n",
    "You have `k` apple boxes full of apples. Each square box of size m contains `m × m`apples. You just noticed two interesting properties about the boxes:\n",
    "\n",
    "The smallest box is size `1`, the next one is size `2`,..., all the way up to size `k`.\n",
    "\n",
    "Boxes that have an *odd* size contain only *yellow* apples. Boxes that have an *even* size contain only *red* apples.\n",
    "Your task is to calculate the difference between the number of red apples and the number of yellow apples."
   ]
  },
  {
   "cell_type": "code",
   "execution_count": 134,
   "metadata": {},
   "outputs": [
    {
     "data": {
      "text/plain": [
       "[ -15, 36 ]"
      ]
     },
     "execution_count": 134,
     "metadata": {},
     "output_type": "execute_result"
    }
   ],
   "source": [
    "function appleBoxes(k) {\n",
    "  let s=0;\n",
    "  for (let i=1;i<=k;i++) s+= (1-(i&1)*2)*i*i;\n",
    "  return s;\n",
    "  return -~k/2*(k-2*k*(k&1));\n",
    "}\n",
    "[appleBoxes(5), // expected -15\n",
    " appleBoxes(8)] // expected  36"
   ]
  },
  {
   "cell_type": "code",
   "execution_count": 135,
   "metadata": {},
   "outputs": [
    {
     "data": {
      "text/plain": [
       "[ -15, 36 ]"
      ]
     },
     "execution_count": 135,
     "metadata": {},
     "output_type": "execute_result"
    }
   ],
   "source": [
    "function appleBoxes(k) {\n",
    "  return k * (k + 1) / (k % 2 ? -2 : 2);\n",
    "  return ((k & 1) ? -k : k) * (k + 1) / 2;\n",
    "}\n",
    "[appleBoxes(5), // expected -15\n",
    " appleBoxes(8)] // expected  36"
   ]
  },
  {
   "cell_type": "markdown",
   "metadata": {},
   "source": [
    "## Number: increaseNumberRoundness\n",
    "Define an integer's roundness as the number of trailing zeroes in it.\n",
    "\n",
    "Given an integer `n`, check if it's possible to increase `n`'s roundness by swapping some pair of its digits.\n",
    "\n",
    "**Example**\n",
    "\n",
    "For `n = 902200100`, the output should be `increaseNumberRoundness(n) = true`\n",
    "\n",
    "One of the possible ways to increase roundness of `n` is to swap digit `1` with digit `0` preceding it: roundness of `902201000` is `3`, and roundness of `n` is `2`.\n",
    "\n",
    "For instance, one may swap the leftmost `0` with `1`.\n",
    "\n",
    "For `n = 11000`, the output should be `increaseNumberRoundness(n) = false`\n",
    "\n",
    "Roundness of `n` is `3`, and there is no way to increase it."
   ]
  },
  {
   "cell_type": "code",
   "execution_count": 136,
   "metadata": {},
   "outputs": [
    {
     "data": {
      "text/plain": [
       "[ true, false ]"
      ]
     },
     "execution_count": 136,
     "metadata": {},
     "output_type": "execute_result"
    }
   ],
   "source": [
    "function increaseNumberRoundness(n) {\n",
    "  while (n>0 && n%10==0) n = n/10|0;\n",
    "  while (n>0 && n%10!=0) n = n/10|0;\n",
    "  return (n>0 && n%10==0);\n",
    "}\n",
    "[increaseNumberRoundness(902200100), // expected true\n",
    "increaseNumberRoundness(11000)];     // expected false"
   ]
  },
  {
   "cell_type": "code",
   "execution_count": 137,
   "metadata": {},
   "outputs": [
    {
     "data": {
      "text/plain": [
       "[ true, false ]"
      ]
     },
     "execution_count": 137,
     "metadata": {},
     "output_type": "execute_result"
    }
   ],
   "source": [
    "function increaseNumberRoundness(n) {\n",
    "    return /0[1-9]/.test(n);\n",
    "}\n",
    "[increaseNumberRoundness(902200100), // expected true\n",
    "increaseNumberRoundness(11000)];     // expected false"
   ]
  },
  {
   "cell_type": "markdown",
   "metadata": {},
   "source": [
    "## Number: rounders\n",
    "We want to turn the given integer into a number that has only one non-zero digit using a tail rounding approach. This means that at each step we take the last non `0` digit of the number and round it to `0` or to `10`. If it's less than `5` we round it to `0` if it's larger than or equal to `5` we round it to `10` (rounding to `10` means increasing the next significant digit by `1`). The process stops immediately once there is only one non-zero digit left.\n",
    "\n",
    "**Example**\n",
    "\n",
    "* For `n = 15`, the output should be `rounders(n) = 20`\n",
    "* For `n = 1234`, the output should be `rounders(n) = 1000`  : `1234` -> `1230` -> `1200` -> `1000`\n",
    "* For `n = 1445`, the output should be `rounders(n) = 2000`  : `1445` -> `1450` -> `1500` -> `2000`"
   ]
  },
  {
   "cell_type": "code",
   "execution_count": 138,
   "metadata": {},
   "outputs": [
    {
     "data": {
      "text/plain": [
       "2000"
      ]
     },
     "execution_count": 138,
     "metadata": {},
     "output_type": "execute_result"
    }
   ],
   "source": [
    "function rounders(n) {\n",
    "  let pow10 = Math.pow(10,Math.log10(n)|0);\n",
    "  return Math.floor(n/pow10 + 0.55555555555555555)*pow10;\n",
    "}\n",
    "rounders(1445); // expected 2000"
   ]
  },
  {
   "cell_type": "markdown",
   "metadata": {},
   "source": [
    "## Number: candles\n",
    "When a candle finishes burning it leaves a leftover. `makeNew` leftovers can be combined to make a new candle, which, when burning down, will in turn leave another leftover.\n",
    "\n",
    "You have `candlesNumber` candles in your possession. What's the total number of candles you can burn, assuming that you create new candles as soon as you have enough leftovers?\n",
    "\n",
    "**Example**\n",
    "\n",
    "For `candlesNumber = 5` and `makeNew = 2`, the output should be `candles(candlesNumber, makeNew) = 9`\n",
    "\n",
    "Here is what you can do to burn `9` candles:\n",
    "\n",
    "* burn `5` candles, obtain `5` leftovers;\n",
    "* create `2` more candles, using `4` leftovers (`1` leftover remains);\n",
    "* burn `2` candles, end up with `3` leftovers;\n",
    "* create another candle using `2` leftovers (`1` leftover remains);\n",
    "* burn the created candle, which gives another leftover (`2` leftovers in total);\n",
    "* create a candle from the remaining leftovers;\n",
    "* burn the last candle.\n",
    "\n",
    "Thus, you can burn `5 + 2 + 1 + 1 = 9` candles, which is the answer."
   ]
  },
  {
   "cell_type": "code",
   "execution_count": 139,
   "metadata": {},
   "outputs": [
    {
     "data": {
      "text/plain": [
       "16"
      ]
     },
     "execution_count": 139,
     "metadata": {},
     "output_type": "execute_result"
    }
   ],
   "source": [
    "function candles(candlesNumber, makeNew) {\n",
    "  let count = 0;\n",
    "  let leftover = 0;\n",
    "  while (candlesNumber>=1) {\n",
    "      candlesNumber-= 1-(++leftover%makeNew===0);\n",
    "      count++;\n",
    "  }\n",
    "  return count;\n",
    "}\n",
    "candles(13,5); // expected 16"
   ]
  },
  {
   "cell_type": "code",
   "execution_count": 140,
   "metadata": {},
   "outputs": [
    {
     "data": {
      "text/plain": [
       "16"
      ]
     },
     "execution_count": 140,
     "metadata": {},
     "output_type": "execute_result"
    }
   ],
   "source": [
    "function candles(candles, makeNew) {\n",
    "    return candles + Math.floor(--candles / --makeNew);\n",
    "}\n",
    "candles(13,5); // expected 16"
   ]
  },
  {
   "attachments": {
    "image.png": {
     "image/png": "[encoded data removed]"
    }
   },
   "cell_type": "markdown",
   "metadata": {},
   "source": [
    "## Number: \n",
    "Imagine a white rectangular grid of n rows and m columns divided into two parts by a diagonal line running from the upper left to the lower right corner. Now let's paint the grid in two colors according to the following rules:\n",
    "\n",
    "A cell is painted black if it has at least one point in common with the diagonal;\n",
    "Otherwise, a cell is painted white.\n",
    "Count the number of cells painted black.\n",
    "\n",
    "**Example**\n",
    "\n",
    "For `n = 3` and `m = 4`, the output should be `countBlackCells(n, m) = 6`\n",
    "\n",
    "There are `6` cells that have at least one common point with the diagonal and therefore are painted black.\n",
    "![image.png](attachment:image.png)"
   ]
  },
  {
   "attachments": {
    "image-2.png": {
     "image/png": "[encoded data removed]"
    }
   },
   "cell_type": "markdown",
   "metadata": {},
   "source": [
    "For `n = 3` and `m = 3`, the output should be `countBlackCells(n, m) = 7`\n",
    "\n",
    "`7` cells have at least one common point with the diagonal and are painted black.\n",
    "![image-2.png](attachment:image-2.png)"
   ]
  },
  {
   "cell_type": "code",
   "execution_count": 141,
   "metadata": {},
   "outputs": [
    {
     "data": {
      "text/plain": [
       "[ 6, 7, 6 ]"
      ]
     },
     "execution_count": 141,
     "metadata": {},
     "output_type": "execute_result"
    }
   ],
   "source": [
    "function countBlackCells(n, m) {\n",
    "  const gcd = (a,b) => {while(b) [a,b] = [b, a%b]; return a; }\n",
    "  \n",
    "  return (n + m -1) + (gcd(n,m) -1);\n",
    "}\n",
    "[countBlackCells(3,4), // expected 6\n",
    " countBlackCells(3,3), // expected 7\n",
    " countBlackCells(2,5)] // expected 6"
   ]
  },
  {
   "cell_type": "markdown",
   "metadata": {},
   "source": [
    "## Number: \n",
    "Determine if the given number is a power of some non-negative integer.\n",
    "\n",
    "**Example**\n",
    "\n",
    "* For `n = 125`, the output should be `isPower(n) = true`\n",
    "* For `n = 72`, the output should be `isPower(n) = false`\n",
    "\n",
    "Input/Output\n",
    "\n",
    "[input] integer `n` - A positive integer.\n",
    "\n",
    "Guaranteed constraints: `1 ≤ n ≤ 400`\n",
    "\n",
    "[output] boolean\n",
    "\n",
    "`true` if `n` can be represented in the form `a^b` (`a` to the power of `b`) where `a` and `b` are some non-negative integers and `b ≥ 2`, `false` otherwise."
   ]
  },
  {
   "cell_type": "code",
   "execution_count": 142,
   "metadata": {},
   "outputs": [
    {
     "data": {
      "text/plain": [
       "[ true, true ]"
      ]
     },
     "execution_count": 142,
     "metadata": {},
     "output_type": "execute_result"
    }
   ],
   "source": [
    "function isPower(n) {\n",
    "  return [2,3,5,7,11,13,17,19].map(e=>{\n",
    "           let counter = 0;\n",
    "           while(!(n%e)) {n/=e;counter++};\n",
    "           return counter;\n",
    "         })\n",
    "         .filter(p=>p>0)\n",
    "         .sort()\n",
    "         .every( (pow, i, arr) => pow>1 && pow%arr[0]===0 );\n",
    "}\n",
    "[isPower(125), // expected true\n",
    " isPower(324)] // expected true"
   ]
  },
  {
   "cell_type": "code",
   "execution_count": 143,
   "metadata": {},
   "outputs": [
    {
     "data": {
      "text/plain": [
       "[ true, true ]"
      ]
     },
     "execution_count": 143,
     "metadata": {},
     "output_type": "execute_result"
    }
   ],
   "source": [
    "function isPower(n) {\n",
    "    for(let b = 2; b < 10; b++){\n",
    "        const root = n ** (1/b)\n",
    "        if((root + 0.00001) % 1 <= 0.0001) return true;\n",
    "    }\n",
    "    return false;\n",
    "}\n",
    "[isPower(125), // expected true\n",
    " isPower(324)] // expected true"
   ]
  },
  {
   "cell_type": "markdown",
   "metadata": {},
   "source": [
    "## Number: isSumOfConsecutive2\n",
    "Find the number of ways to express n as sum of some (at least two) consecutive positive integers.\n",
    "\n",
    "**Example**\n",
    "\n",
    "* For `n = 9`, the output should be `isSumOfConsecutive2(n) = 2`\n",
    "\n",
    "There are two ways to represent `n = 9`: `2 + 3 + 4 = 9` and `4 + 5 = 9`\n",
    "\n",
    "* For `n = 8`, the output should be `isSumOfConsecutive2(n) = 0`\n",
    "\n",
    "There are no ways to represent `n = 8`."
   ]
  },
  {
   "cell_type": "code",
   "execution_count": 144,
   "metadata": {},
   "outputs": [
    {
     "data": {
      "text/plain": [
       "5"
      ]
     },
     "execution_count": 144,
     "metadata": {},
     "output_type": "execute_result"
    }
   ],
   "source": [
    "function isSumOfConsecutive2(n) {\n",
    "  let count=0;\n",
    "  let part;\n",
    "  let div=2;\n",
    "  let divOdd;\n",
    "  while (part=n/div, 2*part>div) {\n",
    "      divOdd = Boolean(div%2);\n",
    "      if (div&1 && part%1===0 || ~div&1 && part%1===0.5) count++;\n",
    "      div++;\n",
    "  }\n",
    "  return count;\n",
    "}\n",
    "isSumOfConsecutive2(99) // expected 5"
   ]
  },
  {
   "cell_type": "code",
   "execution_count": 145,
   "metadata": {},
   "outputs": [
    {
     "data": {
      "text/plain": [
       "5"
      ]
     },
     "execution_count": 145,
     "metadata": {},
     "output_type": "execute_result"
    }
   ],
   "source": [
    "function isSumOfConsecutive2(n) {\n",
    "    let count = 0;\n",
    "    for (let i = 1; i <= Math.ceil(n/2); i++) {\n",
    "        isConsecutive(i, n) && count++;\n",
    "    }\n",
    "    return count;\n",
    "}\n",
    "\n",
    "function isConsecutive(a1, s) {\n",
    "    let d = Math.pow(2 * a1 - 1, 2) + 8 * s;\n",
    "    let n = (1 - 2 * a1 + Math.sqrt(d)) / 2;\n",
    "    return n === Math.floor(n) && n > 1;\n",
    "}\n",
    "isSumOfConsecutive2(99) // expected 5"
   ]
  },
  {
   "cell_type": "markdown",
   "metadata": {},
   "source": [
    "## Number: squareDigitsSequence\n",
    "Consider a sequence of numbers a0, a1, ..., an, in which an element is equal to the sum of squared digits of the previous element. The sequence ends once an element that has already been in the sequence appears again.\n",
    "\n",
    "Given the first element `a0`, find the length of the sequence.\n",
    "\n",
    "**Example**\n",
    "\n",
    "For `a0 = 16`, the output should be `squareDigitsSequence(a0) = 9`\n",
    "\n",
    "Here's how elements of the sequence are constructed:\n",
    "\n",
    "    a0 = 16\n",
    "    a1 = 12 + 62 = 37\n",
    "    a2 = 32 + 72 = 58\n",
    "    a3 = 52 + 82 = 89\n",
    "    a4 = 82 + 92 = 145\n",
    "    a5 = 12 + 42 + 52 = 42\n",
    "    a6 = 42 + 22 = 20\n",
    "    a7 = 22 + 02 = 4\n",
    "    a8 = 42 = 16, which has already occurred before (a0), Thus, there are 9 elements in the sequence.\n",
    "\n",
    "For `a0 = 103`, the output should be `squareDigitsSequence(a0) = 4`\n",
    "\n",
    "The sequence goes as follows: `103` -> `10` -> `1` -> `1`, 4 elements altogether."
   ]
  },
  {
   "cell_type": "code",
   "execution_count": 146,
   "metadata": {},
   "outputs": [
    {
     "data": {
      "text/plain": [
       "9"
      ]
     },
     "execution_count": 146,
     "metadata": {},
     "output_type": "execute_result"
    }
   ],
   "source": [
    "function squareDigitsSequence(a0) {\n",
    "    let a1;\n",
    "    let memory= new Set();\n",
    "    while (!memory.has(a0)){\n",
    "      memory.add(a0);\n",
    "      a1=0;\n",
    "      while (a0>0){\n",
    "        a1+= Math.pow(a0%10,2);\n",
    "        a0=a0/10|0;\n",
    "      }\n",
    "      a0=a1;\n",
    "    }\n",
    "    return memory.size+1;\n",
    "}\n",
    "squareDigitsSequence(16) // expected 9"
   ]
  },
  {
   "cell_type": "markdown",
   "metadata": {},
   "source": [
    "## Number: pagesNumberingWithInk\n",
    "You work in a company that prints and publishes books. You are responsible for designing the page numbering mechanism in the printer. You know how many digits a printer can print with the leftover ink. Now you want to write a function to determine what the last page of the book is that you can number given the `current` page and `numberOfDigits` left. A page is considered numbered if it has the full number printed on it (e.g. if we are working with page `102` but have ink only for two digits then this page will not be considered numbered).\n",
    "\n",
    "It's guaranteed that you can number the `current` page, and that you can't number the last one in the book."
   ]
  },
  {
   "cell_type": "code",
   "execution_count": 147,
   "metadata": {},
   "outputs": [
    {
     "data": {
      "text/plain": [
       "[ 5, 10 ]"
      ]
     },
     "execution_count": 147,
     "metadata": {},
     "output_type": "execute_result"
    }
   ],
   "source": [
    "function pagesNumberingWithInk(current, numberOfDigits) {\n",
    "  let dpp = Math.log10(current)+1|0;  // digits per page on current level, e.g. for pages 10-99 => 2 digits\n",
    "  while (numberOfDigits>=dpp){\n",
    "    // digits to print on current level, e.g. from page 91 to 99: 9*2=18 digits\n",
    "    d2p = Math.min((Math.pow(10,dpp)-current)*dpp, numberOfDigits);\n",
    "    numberOfDigits -= d2p; // decrease digits left to print\n",
    "    current += d2p/dpp|0;  // increase number of next page to be printed\n",
    "    dpp++; // digits per page on the next level, e.g. 3 digits for pages 100-999\n",
    "  }\n",
    "  return current-1;  // last page printed\n",
    "}\n",
    "[pagesNumberingWithInk(1,5),  // expected 5\n",
    " pagesNumberingWithInk(8,5)]  // expected 10"
   ]
  },
  {
   "cell_type": "markdown",
   "metadata": {},
   "source": [
    "## Number: comfortableNumbers\n",
    "Let's say that number `a` feels comfortable with number `b` if `a ≠ b` and `b` lies in the segment `[a - s(a), a + s(a)]`, where `s(x)` is the sum of `x`'s digits.\n",
    "\n",
    "How many pairs `(a, b)` are there, such that `a < b`, both `a` and `b` lie on the segment `[l, r]`, and **each** number feels comfortable with the other (so `a` feels comfortable with `b` and `b` feels comfortable with `a`)?"
   ]
  },
  {
   "cell_type": "code",
   "execution_count": 148,
   "metadata": {},
   "outputs": [
    {
     "data": {
      "text/plain": [
       "[ 2, 6166 ]"
      ]
     },
     "execution_count": 148,
     "metadata": {},
     "output_type": "execute_result"
    }
   ],
   "source": [
    "function comfortableNumbers(l, r) {\n",
    "  const sumDigits = (x)=>{\n",
    "    let sum = 0;\n",
    "    while (x>0){\n",
    "      sum+=x%10;\n",
    "      x=x/10|0;\n",
    "    }\n",
    "    return sum;\n",
    "  }\n",
    "  \n",
    "  const isComfortable = (a,b)=>{\n",
    "    let sumA = sumDigits(a);\n",
    "    return a-sumA<=b && b<=a+sumA;\n",
    "  }\n",
    "  \n",
    " let count = 0;\n",
    " for (let a=l; a<r; a++)\n",
    "   for (let b=a+1; b<=r; b++) \n",
    "     count += isComfortable(a,b) && isComfortable(b,a);\n",
    " return count;\n",
    "}\n",
    "[comfortableNumbers(10,12), // expected 2\n",
    " comfortableNumbers(239,777)] // expected 6166"
   ]
  },
  {
   "cell_type": "markdown",
   "metadata": {},
   "source": [
    "## Number: weakNumbers\n",
    "We define the *weakness* of number `x` as the number of positive integers smaller than `x` that have more divisors than `x`.\n",
    "\n",
    "It follows that the weaker the number, the greater overall weakness it has. For the given integer `n`, you need to answer two questions:\n",
    "\n",
    "1. what is the weakness of the weakest numbers in the range `[1, n]`?\n",
    "2. how many numbers in the range `[1, n]` have this weakness?\n",
    "\n",
    "Return the answer as an array of two elements, where the first element is the answer to the first question, and the second element is the answer to the second question."
   ]
  },
  {
   "cell_type": "code",
   "execution_count": 149,
   "metadata": {},
   "outputs": [
    {
     "data": {
      "text/plain": [
       "[ 403, 1 ]"
      ]
     },
     "execution_count": 149,
     "metadata": {},
     "output_type": "execute_result"
    }
   ],
   "source": [
    "function weakNumbers(n) {\n",
    "  const getNumDivisors = (n) => {\n",
    "    let divisors = 0;\n",
    "    let i,j;\n",
    "    for (i=1; i<=n; i++) \n",
    "      if (n%i===0) divisors++;\n",
    "    return divisors;\n",
    "  }\n",
    "  const divisors = [];\n",
    "  let maxWeakness = 0;\n",
    "  let numOfweakests = 0;\n",
    "  let currWeakness;\n",
    "  for (i=0; i<n; i++) {\n",
    "    currWeakness = 0;\n",
    "    divisors.push(getNumDivisors(i+1));\n",
    "    for (j=0; j < i; j++)\n",
    "      if (divisors[i] < divisors[j]) currWeakness++;\n",
    "    if (currWeakness === maxWeakness) numOfweakests++;\n",
    "    else if (currWeakness > maxWeakness) {\n",
    "      maxWeakness = currWeakness;\n",
    "      numOfweakests = 1;\n",
    "    }\n",
    "  }\n",
    "  return [maxWeakness,numOfweakests];\n",
    "}\n",
    "weakNumbers(500); // expected [403,1]"
   ]
  },
  {
   "cell_type": "code",
   "execution_count": 150,
   "metadata": {},
   "outputs": [
    {
     "data": {
      "text/plain": [
       "[ 403, 1 ]"
      ]
     },
     "execution_count": 150,
     "metadata": {},
     "output_type": "execute_result"
    }
   ],
   "source": [
    "function weakNumbers(n) {\n",
    "  const primes = {\n",
    "    list:[2,3,5,7,11,13,17,19,23,29,31,37,41,43,47,53,59,61,67,71,73,79,83,89,97,101],\n",
    "    index:0,\n",
    "    reset: ()=>{primes.index=0},\n",
    "    getNext: (n)=>{\n",
    "      if (primes.index===primes.list.length){\n",
    "        let isPrime;\n",
    "        for (let k=primes.list[primes.index-1]+2; k<=n; k+=2) {\n",
    "          isPrime=true;\n",
    "          for (let d=0; d<primes.list.length && primes.list[d]<=Math.sqrt(k); d++)\n",
    "            if (k%primes.list[d]===0) {isPrime = false; break;}\n",
    "          if (isPrime) {primes.list.push(k);break;};\n",
    "        }    \n",
    "      }\n",
    "      return primes.list[primes.index++]\n",
    "    }\n",
    "  }\n",
    "    \n",
    "  const getNumDivisors = (n)=>{  \n",
    "    let divisors=1;\n",
    "    let prime, power;\n",
    "    primes.reset();\n",
    "    while (n>1) {\n",
    "        prime = primes.getNext(n)\n",
    "        power=0;\n",
    "        while (n%prime===0) {power++; n=n/prime;}\n",
    "        divisors *= power+1;\n",
    "    }\n",
    "    return divisors;\n",
    "  }\n",
    "  \n",
    "  const divisors = [];\n",
    "  let maxWeakness = 0;\n",
    "  let numOfweakests = 0;\n",
    "  let currWeakness;\n",
    "  for (i=0; i<n; i++) {\n",
    "    currWeakness = 0;\n",
    "    divisors.push(getNumDivisors(i+1));\n",
    "    for (j=0; j < i; j++)\n",
    "      if (divisors[i] < divisors[j]) currWeakness++;\n",
    "    if (currWeakness === maxWeakness) numOfweakests++;\n",
    "    else if (currWeakness > maxWeakness) {\n",
    "      maxWeakness = currWeakness;\n",
    "      numOfweakests = 1;\n",
    "    }\n",
    "  }\n",
    "  return [maxWeakness,numOfweakests];\n",
    "}\n",
    "weakNumbers(500); // expected [403,1]"
   ]
  },
  {
   "attachments": {
    "image.png": {
     "image/png": "[encoded data removed]"
    }
   },
   "cell_type": "markdown",
   "metadata": {},
   "source": [
    "## Number: rectangleRotation\n",
    "A rectangle with sides equal to even integers a and b is drawn on the Cartesian plane. Its center (the intersection point of its diagonals) coincides with the point (0, 0), but the sides of the rectangle are not parallel to the axes; instead, they are forming 45 degree angles with the axes.\n",
    "\n",
    "How many points with integer coordinates are located inside the given rectangle (including on its sides)?\n",
    "\n",
    "**Example**\n",
    "\n",
    "For `a = 6` and `b = 4`, the output should be `rectangleRotation(a, b) = 23`\n",
    "\n",
    "The following picture illustrates the example, and the `23` points are marked green:\n",
    "![image.png](attachment:image.png)"
   ]
  },
  {
   "cell_type": "code",
   "execution_count": 151,
   "metadata": {},
   "outputs": [
    {
     "data": {
      "text/plain": [
       "23"
      ]
     },
     "execution_count": 151,
     "metadata": {},
     "output_type": "execute_result"
    }
   ],
   "source": [
    "function rectangleRotation(a, b, rad=-Math.PI/4) {\n",
    "    a/=2; b/=2;\n",
    "    const points = [ {x:-a,y:b}, {x:-a,y:-b}, {x:a,y:-b}, {x:a,y:b} ];\n",
    "    const r = {cos: Math.cos(rad), sin: Math.sin(rad)};\n",
    "    points.forEach((p,i,a) => [a[i].x,a[i].y] = [p.x*r.cos - p.y*r.sin, p.x*r.sin + p.y*r.cos]);\n",
    "    let maxX = 0;\n",
    "    let maxY = 0;\n",
    "    lines = points.map((p,i,a)=>{\n",
    "        maxX = Math.max(maxX, Math.ceil(p.x));\n",
    "        maxY = Math.max(maxY, Math.ceil(p.y));\n",
    "        const nextI = (i+1)%4;\n",
    "        const slope = (a[i].y-a[nextI].y) / (a[i].x-a[nextI].x);\n",
    "        return {slope:     slope,\n",
    "                intercept: a[i].y - slope*a[i].x};\n",
    "    });\n",
    "    let pointCount = 0;\n",
    "    const inOrOut = [null,null,null,null];\n",
    "    for (let x=-maxX; x<=maxX; x++){\n",
    "        for (let y=-maxY; y<=maxY; y++){\n",
    "            lines.forEach((line,i,a) => inOrOut[i] = y < x*line.slope + line.intercept);\n",
    "            if (inOrOut[0]!==inOrOut[2] && inOrOut[1]!==inOrOut[3]) \n",
    "                pointCount++;\n",
    "        }\n",
    "    }\n",
    "    return pointCount;\n",
    "}\n",
    "rectangleRotation(4,6); // expected 23"
   ]
  },
  {
   "cell_type": "code",
   "execution_count": 152,
   "metadata": {},
   "outputs": [
    {
     "data": {
      "text/plain": [
       "23"
      ]
     },
     "execution_count": 152,
     "metadata": {},
     "output_type": "execute_result"
    }
   ],
   "source": [
    "function rectangleRotation(a, b) {\n",
    "  [a, b] = [a, b].map(c => (c / Math.sqrt(2)) | 0);\n",
    "  return 2 * a * b + a + b | 1;\n",
    "}\n",
    "rectangleRotation(4,6); // expected 23"
   ]
  },
  {
   "cell_type": "markdown",
   "metadata": {},
   "source": [
    "## String:\n",
    "You're a crossword fanatic, and have finally decided to try and create your own. However, you also love symmetry and good design, so you come up with a set of rules they should follow:\n",
    "\n",
    "* the crossword must contain exactly four words;\n",
    "* these four words should form four pairwise intersections;\n",
    "* all words must be written either left-to-right or top-to-bottom;\n",
    "* the area of the rectangle formed by empty cells inside the intersections isn't equal to zero.\n",
    "\n",
    "Given `4` words, find the number of ways to make a crossword following the above-described rules. Note that two crosswords which differ by rotation are considered different.\n",
    "\n",
    "**Example**\n",
    "\n",
    "For `words = [\"crossword\", \"square\", \"formation\", \"something\"]`, the output should be `crosswordFormation(words) = 6`.\n",
    "\n",
    "The six crosswords can be formed as shown below:\n",
    "```\n",
    "      f                         f                             f\n",
    "      o                     c r o s s w o r d     c r o s s w o r d\n",
    "    c r o s s w o r d           r   o                   q     r\n",
    "      m   q                     m   m                   u     m\n",
    "      a   u            ;  s q u a r e          ;        a     a\n",
    "      t   a                     t   t                   r     t\n",
    "      i   r                     i   h             s o m e t h i n g\n",
    "    s o m e t h i n g           o   i                         o\n",
    "      n                         n   n                         n\n",
    "                                    g\n",
    "                 \n",
    "    c         s               s\n",
    "f o r m a t i o n       c     q               c         s\n",
    "    o         m         r     u               r         o\n",
    "    s q u a r e       f o r m a t i o n       o         m\n",
    "    s         t    ;    s     r            ;  s q u a r e\n",
    "    w         h         s o m e t h i n g     s         t\n",
    "    o         i         w                     w         h\n",
    "    r         n         o                   f o r m a t i o n\n",
    "    d         g         r                     r         n\n",
    "                        d                     d         g\n",
    "```"
   ]
  },
  {
   "cell_type": "code",
   "execution_count": 153,
   "metadata": {},
   "outputs": [
    {
     "data": {
      "text/plain": [
       "6"
      ]
     },
     "execution_count": 153,
     "metadata": {},
     "output_type": "execute_result"
    }
   ],
   "source": [
    "function crosswordFormation(words) {\n",
    "  const constructFormations = (words, count=0) => {\n",
    "    const common = words.map((e,i,a)=>(setB = new Set(a[(i+1)%4]), new Set([...new Set(e)].filter(x=>setB.has(x)))));\n",
    "    if (!common.some(s=>s.size===0))\n",
    "      for (let c00=0;                 c00<words[0].length-2; c00++) if (common[0].has(words[0][c00]))\n",
    "        for (let c10=0;                 c10<words[1].length-2; c10++) if (words[0][c00] === words[1][c10])\n",
    "          for (let c11=c10+2;             c11<words[1].length;   c11++) if (common[1].has(words[1][c11]))\n",
    "            for (let c20=0;                 c20<words[2].length-2; c20++) if (words[1][c11] === words[2][c20])\n",
    "              for (let c21=c20+2;             c21<words[2].length;   c21++) if (common[2].has(words[2][c21]))\n",
    "                for (let c31=words[3].length-1; c31>1;                 c31--) if (words[2][c21] === words[3][c31]) {\n",
    "                  const c30=c31-(c11-c10);\n",
    "                  const c01=c00+(c21-c20);\n",
    "                  if (c01<words[0].length && words[0][c01] === words[3][c30]) count++;\n",
    "                }\n",
    "    return count;\n",
    "  }\n",
    "  let numberOfFormations = 0;  \n",
    "  const permutate = (arr, perm=[]) => {\n",
    "    if (arr.length === 0) \n",
    "      numberOfFormations += constructFormations(perm);\n",
    "    else\n",
    "      for (let i in arr) {\n",
    "        let curr = arr.slice();\n",
    "        let next = curr.splice(i, 1);\n",
    "        permutate(curr.slice(), perm.concat(next));\n",
    "      }\n",
    "  }\n",
    "  permutate(words);\n",
    "  return numberOfFormations;\n",
    "}\n",
    "\n",
    "crosswordFormation([\"formation\",\"crossword\",\"square\",\"something\"]);  // expected 6"
   ]
  },
  {
   "cell_type": "code",
   "execution_count": 154,
   "metadata": {},
   "outputs": [
    {
     "data": {
      "text/plain": [
       "20"
      ]
     },
     "execution_count": 154,
     "metadata": {},
     "output_type": "execute_result"
    }
   ],
   "source": [
    "crosswordFormation([\"onomatopoeia\",\"philosophical\",\"provocatively\",\"thesaurus\"]);  // expected 20"
   ]
  },
  {
   "cell_type": "markdown",
   "metadata": {},
   "source": [
    "## String: isTandemRepeat\n",
    "Determine whether the given string can be obtained by one concatenation of some string to itself."
   ]
  },
  {
   "cell_type": "code",
   "execution_count": 155,
   "metadata": {},
   "outputs": [
    {
     "name": "stdout",
     "output_type": "stream",
     "text": [
      "Call to 2xslice took 692 milliseconds.\n",
      "Call to loop took 590 milliseconds.\n"
     ]
    }
   ],
   "source": [
    "function isTandemRepeat1(inputString) {\n",
    "    var middle = inputString.length / 2;\n",
    "    return inputString.slice(0, middle) == inputString.slice(middle);\n",
    "}\n",
    "function isTandemRepeat2(inputString) {\n",
    "  const half = inputString.length/2;\n",
    "  for (let i=0; i<half; i++)\n",
    "    if (inputString[i] != inputString[i+half]) return false;\n",
    "  return true;\n",
    "}\n",
    "t0=0;\n",
    "t1=0;\n",
    "t0 = new Date().getTime();\n",
    "for (let i=0; i<10000000; i++) isTandemRepeat1('tandemtandem');\n",
    "t1 = new Date().getTime();\n",
    "console.log(\"Call to 2xslice took \" + (t1 - t0) + \" milliseconds.\")\n",
    "t0=0;\n",
    "t1=0;\n",
    "t0 = new Date().getTime();\n",
    "for (let i=0; i<10000000; i++) isTandemRepeat1('tandemtandem');\n",
    "t1 = new Date().getTime();\n",
    "console.log(\"Call to loop took \" + (t1 - t0) + \" milliseconds.\")"
   ]
  },
  {
   "cell_type": "markdown",
   "metadata": {},
   "source": [
    "## String: isUnstablePair\n",
    "Some file managers sort filenames taking into account case of the letters, others compare strings as if all of the letters are of the same case. That may lead to different ways of filename ordering.\n",
    "\n",
    "Call two filenames an unstable pair if their ordering depends on the case.\n",
    "\n",
    "To compare two filenames `a` and `b`, find the first position `i` at which `a[i] ≠ b[i]``. If `a[i] < b[i]``, then `a < b`. Otherwise a > b. If such position doesn't exist, the shorter string goes first.\n",
    "\n",
    "Given two filenames, check whether they form an unstable pair."
   ]
  },
  {
   "cell_type": "code",
   "execution_count": 156,
   "metadata": {},
   "outputs": [
    {
     "data": {
      "text/plain": [
       "[ true, false ]"
      ]
     },
     "execution_count": 156,
     "metadata": {},
     "output_type": "execute_result"
    }
   ],
   "source": [
    "function isUnstablePair(filename1, filename2) {\n",
    "    return (filename1 < filename2) != (filename1.toLowerCase() < filename2.toLowerCase());\n",
    "}\n",
    "[isUnstablePair('aa', 'AAB'),  // expected true\n",
    " isUnstablePair('A','z')]  // expected false"
   ]
  },
  {
   "cell_type": "markdown",
   "metadata": {},
   "source": [
    "## String: stringsConstruction\n",
    "Given two strings a and b, both consisting only of lowercase English letters, your task is to calculate how many strings equal to a can be constructed using only letters from the string b? Each letter can be used only once and in one string only.\n",
    "\n",
    "**Example**\n",
    "\n",
    "For `x = \"abc\"` and `y = \"abccba\"`, the output should be `stringsConstruction(x, y) = 2`\n",
    "\n",
    "We can construct 2 strings `x = \"abc\"` using only letters from the string `y`.\n",
    "\n",
    "For `x = \"ab\"` and `y = \"abcbcb\"`, the output should be `stringsConstruction(x, y) = 1`"
   ]
  },
  {
   "cell_type": "code",
   "execution_count": 157,
   "metadata": {},
   "outputs": [],
   "source": [
    "function stringsConstruction(a, b) {\n",
    "  [a,b] = [a,b].map(x=>[...x].reduce((c,e)=>(c[e]=-~c[e],c),{}))\n",
    "  return Object.entries(a).reduce((count,c)=>Math.min(count, (b[c[0]]/c[1]|0)), Number.MAX_VALUE);\n",
    "}"
   ]
  },
  {
   "cell_type": "code",
   "execution_count": 158,
   "metadata": {},
   "outputs": [],
   "source": [
    "function stringsConstruction(a, b) {\n",
    "    return Math.min(...a.split(\"\").map(i=>Math.floor((b.split(i).length-1)/(a.split(i).length-1))))}"
   ]
  },
  {
   "cell_type": "code",
   "execution_count": 159,
   "metadata": {},
   "outputs": [],
   "source": [
    "function stringsConstruction(a, b) {\n",
    "  for (let i = 0; ; i++) {\n",
    "    for (let el of a) {\n",
    "      if (b.includes(el)) b = b.replace(el, ``);\n",
    "      else return i;\n",
    "    }\n",
    "  }\n",
    "};"
   ]
  },
  {
   "cell_type": "markdown",
   "metadata": {},
   "source": [
    "## String:\n",
    "A **ciphertext alphabet** is obtained from the plaintext alphabet by means of rearranging some characters. For example `bacdef...xyz` will be a simple ciphertext alphabet where `a` and `b` are rearranged.\n",
    "\n",
    "A **substitution cipher** is a method of encoding where each letter of the plaintext alphabet is replaced with the corresponding (i.e. having the same index) letter of some ciphertext alphabet.\n",
    "\n",
    "Given two strings, check whether it is possible to obtain them from each other using some (possibly, different) substitution ciphers.\n",
    "\n",
    "**Example**\n",
    "\n",
    "For `string1 = \"aacb\"` and `string2 = \"aabc\"`, the output should be `isSubstitutionCipher(string1, string2) = true`\n",
    "\n",
    "Any ciphertext alphabet that starts with `acb...` would make this transformation possible.\n",
    "\n",
    "For `string1 = \"aa\"` and `string2 = \"bc\"`, the output should be `isSubstitutionCipher(string1, string2) = false`"
   ]
  },
  {
   "cell_type": "code",
   "execution_count": 160,
   "metadata": {},
   "outputs": [
    {
     "data": {
      "text/plain": [
       "[ true, false, false ]"
      ]
     },
     "execution_count": 160,
     "metadata": {},
     "output_type": "execute_result"
    }
   ],
   "source": [
    "function isSubstitutionCipher(a, b) {\n",
    "    if (a.length != b.length) return false;\n",
    "    const dicta={};\n",
    "    const dictb={};\n",
    "    for (let i=0; i<a.length;i++){\n",
    "      if (dicta[a[i]])\n",
    "        {if (dicta[a[i]] != b[i]) return false;}\n",
    "      else dicta[a[i]] = b[i];\n",
    "      if (dictb[b[i]])\n",
    "        {if (dictb[b[i]] != a[i]) return false;}\n",
    "      else dictb[b[i]] = a[i];\n",
    "    }\n",
    "    return true;\n",
    "}\n",
    "[isSubstitutionCipher('aacb','aabc'), // expected true\n",
    " isSubstitutionCipher('aa','bc'),     // expected false\n",
    " isSubstitutionCipher('abb','aba')]   // expected false"
   ]
  },
  {
   "cell_type": "code",
   "execution_count": 161,
   "metadata": {},
   "outputs": [
    {
     "data": {
      "text/plain": [
       "[ true, false, false ]"
      ]
     },
     "execution_count": 161,
     "metadata": {},
     "output_type": "execute_result"
    }
   ],
   "source": [
    "function isSubstitutionCipher(string1, string2){\n",
    "  return [...string1].every((v,i) => string1.indexOf(v) === string2.indexOf(string2[i]));\n",
    "}\n",
    "[isSubstitutionCipher('aacb','aabc'), // expected true\n",
    " isSubstitutionCipher('aa','bc'),     // expected false\n",
    " isSubstitutionCipher('abb','aba')]   // expected false"
   ]
  },
  {
   "cell_type": "markdown",
   "metadata": {},
   "source": [
    "## Array: containsDuplicates\n",
    "Given an array of integers, write a function that determines whether the array contains any duplicates. Your function should return true if any element appears at least twice in the array, and it should return false if every element is distinct.\n",
    "\n",
    "**Example**\n",
    "\n",
    "For `a = [1, 2, 3, 1]`, the output should be `containsDuplicates(a) = true`\n",
    "\n",
    "There are two 1s in the given array.\n",
    "\n",
    "For `a = [3, 1]`, the output should be `containsDuplicates(a) = false`\n",
    "\n",
    "The given array contains no duplicates."
   ]
  },
  {
   "cell_type": "code",
   "execution_count": 162,
   "metadata": {},
   "outputs": [
    {
     "data": {
      "text/plain": [
       "true"
      ]
     },
     "execution_count": 162,
     "metadata": {},
     "output_type": "execute_result"
    }
   ],
   "source": [
    "function containsDuplicates(a) {\n",
    "  return new Set(a).size !== a.length;\n",
    "}\n",
    "containsDuplicates([1, 2, 3, 1])  // expected true"
   ]
  },
  {
   "cell_type": "markdown",
   "metadata": {},
   "source": [
    "## Array: sumOfTwo\n",
    "You have two integer arrays, `a` and `b`, and an integer target value `v`. Determine whether there is a pair of numbers, where one number is taken from `a` and the other from `b`, that can be added together to get a sum of `v`. Return `true` if such a pair exists, otherwise return `false`.\n",
    "\n",
    "**Example**\n",
    "\n",
    "For ` = [1, 2, 3]`, `b = [10, 20, 30, 40]`, and `v = 42`, the output should be `sumOfTwo(a, b, v) = true`"
   ]
  },
  {
   "cell_type": "code",
   "execution_count": 163,
   "metadata": {},
   "outputs": [],
   "source": [
    "function sumOfTwo(a, b, v) {\n",
    "  setA = new Set(a)\n",
    "  return b.some(eb=>setA.has(v-eb));\n",
    "}"
   ]
  },
  {
   "cell_type": "markdown",
   "metadata": {},
   "source": [
    "## Array: sumInRange\n",
    "You have an array of integers nums and an array `queries`, where `queries[i]` is a pair of indices (0-based). Find the sum of the elements in nums from the indices at `queries[i][0]` to `queries[i][1]` (inclusive) for each query, then add all of the sums for all the queries together. Return that number modulo `10`^`9` + `7`.\n",
    "\n",
    "**Example**\n",
    "\n",
    "For `nums = [3, 0, -2, 6, -3, 2]` and `queries = [[0, 2], [2, 5], [0, 5]]`, the output should be `sumInRange(nums, queries) = 10`\n",
    "\n",
    "The array of results for queries is `[1, 3, 6]`, so the answer is `1 + 3 + 6 = 10`"
   ]
  },
  {
   "cell_type": "code",
   "execution_count": 164,
   "metadata": {},
   "outputs": [
    {
     "data": {
      "text/plain": [
       "10"
      ]
     },
     "execution_count": 164,
     "metadata": {},
     "output_type": "execute_result"
    }
   ],
   "source": [
    "function sumInRange(nums, queries) {\n",
    "    let total = 0;\n",
    "    sums = nums.map((e,i) => (total += nums[i], total))\n",
    "    sums.unshift(0)\n",
    "    total = 0;\n",
    "    for (let query of queries) total += sums[query[1]+1] - sums[query[0]];\n",
    "    const mod = 1e9 + 7;\n",
    "    return ((total % mod) + mod) % mod;\n",
    "}\n",
    "sumInRange([3, 0, -2, 6, -3, 2], [[0, 2], [2, 5], [0, 5]]); // expected 10"
   ]
  },
  {
   "cell_type": "markdown",
   "metadata": {},
   "source": [
    "## Array: maxSubArraySum\n",
    "Write a function that returns the sum of the max sub array `n` in an array of integers `arr`.\n",
    "For example: `arr = [1,2,3,4]` and `n = 2`, the result is `7`. As `3`,`4` is the max sum of sub array of size `n`"
   ]
  },
  {
   "cell_type": "code",
   "execution_count": 165,
   "metadata": {},
   "outputs": [
    {
     "data": {
      "text/plain": [
       "[ 10, 15, 17 ]"
      ]
     },
     "execution_count": 165,
     "metadata": {},
     "output_type": "execute_result"
    }
   ],
   "source": [
    "function maxSubArraySum(arr, n) {\n",
    "    let sumOfN = 0;\n",
    "    for (let i=0; i<n; i++) sumOfN += arr[i];\n",
    "    let maxSum = sumOfN;\n",
    "    for (let i=1; i<arr.length-n+1; i++){\n",
    "        sumOfN += -arr[i-1] + arr[i+n-1];\n",
    "        maxSum = Math.max(maxSum,sumOfN);\n",
    "    }\n",
    "    return maxSum;\n",
    "}\n",
    "\n",
    "[ maxSubArraySum([1,2,5,2,8,1,5], 2), // expected 10\n",
    "  maxSubArraySum([1,2,5,2,8,1,5], 3), // expected 15\n",
    "  maxSubArraySum([1,2,5,2,8,1,5], 4)] // expected 17"
   ]
  },
  {
   "cell_type": "markdown",
   "metadata": {},
   "source": [
    "## Array: arrayMaxConsecutiveSum2\n",
    "The maximum sum subarray problem is the task of finding a contiguous subarray with the largest sum, within a given one-dimensional array `A[1...n]` of numbers. Formally, the task is to find indices `i` and `j` where the sum of elements from index i to j is as large as possible.\n",
    "\n",
    "For example, for the array of values `[−2, 1, −3, 4, −1, 2, 1, −5, 4]`, the contiguous subarray with the largest sum is `[4, −1, 2, 1]`, with sum `6`.\n",
    "\n",
    "Some properties of this problem are:\n",
    "\n",
    "* If the array contains all non-negative numbers, then the problem is trivial; a maximum subarray is the entire array.\n",
    "* If the array contains all non-positive numbers, then a solution is any subarray of size 1 containing the maximal value of the array (or the empty subarray, if it is permitted).\n",
    "* Several different sub-arrays may have the same maximum sum."
   ]
  },
  {
   "cell_type": "code",
   "execution_count": 166,
   "metadata": {},
   "outputs": [
    {
     "data": {
      "text/plain": [
       "6"
      ]
     },
     "execution_count": 166,
     "metadata": {},
     "output_type": "execute_result"
    }
   ],
   "source": [
    "function arrayMaxConsecutiveSum2(nums) {  // Kadane's algorithm\n",
    "    let maxLocal = nums.shift();\n",
    "    return nums.reduce((maxGlobal,num) => {\n",
    "        maxLocal = Math.max(num, maxLocal + num);\n",
    "        maxGlobal = Math.max(maxLocal, maxGlobal);\n",
    "        return maxGlobal;\n",
    "    }, maxLocal);\n",
    "}\n",
    "arrayMaxConsecutiveSum2([-2,1,-3,4,-1,2,1,-5,4]); // expected 6"
   ]
  },
  {
   "cell_type": "markdown",
   "metadata": {},
   "source": [
    "## Array: findLongestSubarrayBySum\n",
    "You have an unsorted array arr of non-negative integers and a number s. Find a longest contiguous subarray in arr that has a sum equal to s. Return two integers that represent its inclusive bounds. If there are several possible answers, return the one with the smallest left bound. If there are no answers, return `[-1]`.\n",
    "\n",
    "Your answer should be 1-based, meaning that the first position of the array is 1 instead of 0."
   ]
  },
  {
   "cell_type": "code",
   "execution_count": 167,
   "metadata": {},
   "outputs": [
    {
     "data": {
      "text/plain": [
       "[ 2, 4 ]"
      ]
     },
     "execution_count": 167,
     "metadata": {},
     "output_type": "execute_result"
    }
   ],
   "source": [
    "function findLongestSubarrayBySum(s, nums) {\n",
    "  let i=0, sum=0, maxLength=-1;\n",
    "  return nums.reduce((result,e,j,arr)=>{\n",
    "    sum += nums[j];\n",
    "    while (s<sum && i<j) sum -= nums[i++];\n",
    "    if (sum===s && maxLength < (j-i)){\n",
    "      result = [i+1,j+1];\n",
    "      maxLength = j-i;\n",
    "    }\n",
    "    return result;    \n",
    "  },[-1]);\n",
    "}\n",
    "findLongestSubarrayBySum(12, [1, 2, 3, 7, 5]); // expected [2,4]"
   ]
  },
  {
   "cell_type": "markdown",
   "metadata": {},
   "source": [
    "## Number: productExceptSelf\n",
    "You have an array nums. We determine two functions to perform on nums. In both cases, `n` is the length of `nums`:\n",
    "\n",
    "`fi(nums) = nums[0] · nums[1] · ... · nums[i - 1] · nums[i + 1] · ... · nums[n - 1]`. (In other words, `fi(nums)` is the product of all array elements except the `i`th `nums`)\n",
    "`g(nums) = f0(nums) + f1(nums) + ... + fn-1(nums)`\n",
    "Using these two functions, calculate all values of `f` modulo the given `m`. Take these new values and add them together to get `g`. You should return the value of `g` modulo the given `m`\n",
    "\n",
    "[solution](https://medium.com/codefight-on/codefights-solves-it-interview-practice-edition-productexceptself-c7ccf9312490)"
   ]
  },
  {
   "cell_type": "code",
   "execution_count": 168,
   "metadata": {},
   "outputs": [
    {
     "data": {
      "text/plain": [
       "2"
      ]
     },
     "execution_count": 168,
     "metadata": {},
     "output_type": "execute_result"
    }
   ],
   "source": [
    "function productExceptSelf(nums, m) {\n",
    "  let p=1;\n",
    "  return nums.reduce((s,num)=>{\n",
    "    s = (p + s*num) % m;\n",
    "    p = p*num % m;\n",
    "    return s;\n",
    "  },0)\n",
    "}\n",
    "productExceptSelf([1, 2, 3, 4], 12); //expected 2"
   ]
  },
  {
   "cell_type": "markdown",
   "metadata": {},
   "source": [
    "## String: createAnagram\n",
    "You are given two strings `s` and `t` of the same length, consisting of uppercase English letters. Your task is to find the minimum number of \"replacement operations\" needed to get some anagram of the string `t` from the string `s`. A replacement operation is performed by picking exactly one character from the string `s` and replacing it by some other character.\n",
    "\n",
    "А string `x` is an anagram of a string `y` if one can get `y` by rearranging the letters of `x`. For example, the strings `MITE` and `TIME` are anagrams, so are `BABA` and `AABB`, but `ABBAC` and `CAABA` are not.\n",
    "\n",
    "**Example**\n",
    "\n",
    "* For `s = \"AABAA\"` and `t = \"BBAAA\"`, the output should be `createAnagram(s, t) = 1`\n",
    "* For `s = \"OVGHK\"` and `t = \"RPGUC\"`, the output should be `createAnagram(s, t) = 4`"
   ]
  },
  {
   "cell_type": "code",
   "execution_count": 169,
   "metadata": {},
   "outputs": [
    {
     "data": {
      "text/plain": [
       "1"
      ]
     },
     "execution_count": 169,
     "metadata": {},
     "output_type": "execute_result"
    }
   ],
   "source": [
    "function createAnagram(s, t) {\n",
    "  [countS,countT]=[s,t].map(str=>Array.from(str).reduce((count,e)=>(count[e]=-~count[e],count),{}));\n",
    "  let countRep=0;\n",
    "  for (cT of Object.entries(countT)){\n",
    "    cS=countS[cT[0]];\n",
    "    cS= (cS) ? cS : 0;\n",
    "    countRep+=Math.abs(cT[1]-cS);\n",
    "    delete countS[cT[0]];\n",
    "  }\n",
    "  for (cS of Object.entries(countS)){\n",
    "    countRep+=Math.abs(cS[1]);\n",
    "  }\n",
    "  return countRep/2;\n",
    "}\n",
    "createAnagram(\"AABAA\", \"BBAAA\") // expected 1"
   ]
  },
  {
   "cell_type": "code",
   "execution_count": 170,
   "metadata": {},
   "outputs": [
    {
     "data": {
      "text/plain": [
       "4"
      ]
     },
     "execution_count": 170,
     "metadata": {},
     "output_type": "execute_result"
    }
   ],
   "source": [
    "function createAnagram(s, t) {\n",
    "    for(let x of s){\n",
    "        t = t.replace(x,\"\");    \n",
    "    }\n",
    "    return t.length;\n",
    "}\n",
    "createAnagram(\"OVGHK\", \"RPGUC\") // expected 4"
   ]
  },
  {
   "cell_type": "markdown",
   "metadata": {},
   "source": [
    "## Loop: staircase\n",
    "Write a function that prints a staircase to the console.\n",
    "Your function should accept an integer and print `#` as the stair character.\n",
    "Use of `.repeat` or multiplying the character is not allowed, loops only."
   ]
  },
  {
   "cell_type": "code",
   "execution_count": 171,
   "metadata": {},
   "outputs": [
    {
     "name": "stdout",
     "output_type": "stream",
     "text": [
      "         #\n",
      "        ##\n",
      "       ###\n",
      "      ####\n",
      "     #####\n",
      "    ######\n",
      "   #######\n",
      "  ########\n",
      " #########\n",
      "##########\n"
     ]
    }
   ],
   "source": [
    "function staircase(width, stairBlock='#') {\n",
    "    arr = Array(width).fill(' ')\n",
    "    for (let i=0; i<width; i++) {\n",
    "        arr[width-i-1] = stairBlock;\n",
    "        console.log(arr.join(\"\"))\n",
    "    }\n",
    "};\n",
    "\n",
    "staircase(10);"
   ]
  },
  {
   "cell_type": "markdown",
   "metadata": {},
   "source": [
    "## Human Readable Time\n",
    "Write a function, which takes a non-negative integer (seconds) as input and returns the time in a human-readable format `HH:MM:SS`\n",
    "If either Hours, Mins or Secs are single digits, they will need to be prepended with a leading zero."
   ]
  },
  {
   "cell_type": "code",
   "execution_count": 172,
   "metadata": {},
   "outputs": [
    {
     "data": {
      "text/plain": [
       "[ '00:00:00',\n",
       "  '00:00:05',\n",
       "  '00:01:00',\n",
       "  '23:59:59',\n",
       "  '99:59:59',\n",
       "  '127:46:39' ]"
      ]
     },
     "execution_count": 172,
     "metadata": {},
     "output_type": "execute_result"
    }
   ],
   "source": [
    "function humanReadable(seconds) {\n",
    "    const zeroPad2 = num => String(num).padStart(2, '0')\n",
    "    const s = seconds % 60;\n",
    "    seconds = (seconds - s) / 60;\n",
    "    const m = seconds % 60;\n",
    "    const h = (seconds - m) / 60;\n",
    "    return [zeroPad2(h),zeroPad2(m),zeroPad2(s)].join(\":\");\n",
    "};\n",
    "\n",
    "[ humanReadable(0),       // expected  '00:00:00'\n",
    "  humanReadable(5),       // expected  '00:00:05'\n",
    "  humanReadable(60),      // expected  '00:01:00'\n",
    "  humanReadable(86399),   // expected  '23:59:59'\n",
    "  humanReadable(359999),  // expected  '99:59:59'\n",
    "  humanReadable(459999)]  // expected '127:46:39'"
   ]
  },
  {
   "cell_type": "code",
   "execution_count": 173,
   "metadata": {},
   "outputs": [
    {
     "data": {
      "text/plain": [
       "[ '00:00:00',\n",
       "  '00:00:05',\n",
       "  '00:01:00',\n",
       "  '23:59:59',\n",
       "  '99:59:59',\n",
       "  '127:46:39' ]"
      ]
     },
     "execution_count": 173,
     "metadata": {},
     "output_type": "execute_result"
    }
   ],
   "source": [
    "function humanReadable(seconds) {\n",
    "    return [0,0].map(e=>(d=seconds%60, seconds=(seconds-d)/60, d))\n",
    "           .concat([seconds])\n",
    "           .map(d=>String(d).padStart(2, '0'))\n",
    "           .reverse()\n",
    "           .join(\":\");\n",
    "};\n",
    "\n",
    "[ humanReadable(0),       // expected  '00:00:00'\n",
    "  humanReadable(5),       // expected  '00:00:05'\n",
    "  humanReadable(60),      // expected  '00:01:00'\n",
    "  humanReadable(86399),   // expected  '23:59:59'\n",
    "  humanReadable(359999),  // expected  '99:59:59'\n",
    "  humanReadable(459999)]  // expected '127:46:39'"
   ]
  },
  {
   "cell_type": "markdown",
   "metadata": {},
   "source": [
    "## Count the Number of Duplicates\n",
    "Write a function that will return the count of distinct case-insensitive alphabetic characters and numeric digits that occur more than once in the input string."
   ]
  },
  {
   "cell_type": "code",
   "execution_count": 174,
   "metadata": {},
   "outputs": [
    {
     "data": {
      "text/plain": [
       "[ 0, 2, 2, 1, 2, 2, 2 ]"
      ]
     },
     "execution_count": 174,
     "metadata": {},
     "output_type": "execute_result"
    }
   ],
   "source": [
    "function duplicateCount(text){\n",
    "    return Object.values(Array.from(text.toLowerCase())\n",
    "                         .reduce((counts,e)=>(counts[e]=-~counts[e],counts),{}))\n",
    "           .filter(e=>e>1).length;\n",
    "};\n",
    "\n",
    "[ duplicateCount(\"abcde\"),            // expected 0 # no characters repeat more than once\n",
    "  duplicateCount(\"aabbcde\"),          // expected 2 # 'a' and 'b'\n",
    "  duplicateCount(\"aabBcde\"),          // expected 2 # 'a' occurs twice and 'b' twice (`b` and `B`)\n",
    "  duplicateCount(\"indivisibility\"),   // expected 1 # 'i' occurs six times\n",
    "  duplicateCount(\"Indivisibilities\"), // expected 2 # 'i' occurs seven times and 's' occurs twice\n",
    "  duplicateCount(\"aA11\"),             // expected 2 # 'a' and '1'\n",
    "  duplicateCount(\"ABBA\")]             // expected 2 # 'A' and 'B' each occur twice"
   ]
  },
  {
   "cell_type": "markdown",
   "metadata": {},
   "source": [
    "## Caesar's Cipher ( Rot13 )\n",
    "ROT13 is a simple letter substitution cipher that replaces a letter with the letter 13 letters after it in the alphabet. ROT13 is an example of the Caesar cipher.\n",
    "Create a function that takes a string and returns the string ciphered with Rot13. If there are numbers or special characters included in the string, they should be returned as they are. Only letters from the latin/english alphabet should be shifted, like in the original Rot13 “implementation”."
   ]
  },
  {
   "cell_type": "code",
   "execution_count": 175,
   "metadata": {},
   "outputs": [
    {
     "data": {
      "text/plain": [
       "[ 'nopqrstuvwxyzabcdefghijklm',\n",
       "  'WninFpevcg vf pbby!',\n",
       "  '10 + gjb vf gjryir.',\n",
       "  'Pnrfnef Pvcure 13.' ]"
      ]
     },
     "execution_count": 175,
     "metadata": {},
     "output_type": "execute_result"
    }
   ],
   "source": [
    "function caesarsCipher(message, rot=13){\n",
    "  const match = ['a'.charCodeAt(0), 'z'.charCodeAt(0), 'A'.charCodeAt(0), 'Z'.charCodeAt(0)];\n",
    "  const twentysix = match[1]-match[0]+1\n",
    "  let a, code;\n",
    "  return Array.from(message).map(c=>{\n",
    "      code = c.charCodeAt(0);\n",
    "      if (match[0]<=code && code<=match[1])      a=match[0];\n",
    "      else if (match[2]<=code && code<=match[3]) a=match[2];\n",
    "      else return c;\n",
    "      return String.fromCharCode(a+(code-a+rot) % twentysix);\n",
    "  }).join(\"\");\n",
    "}\n",
    "\n",
    "[ caesarsCipher('abcdefghijklmnopqrstuvwxyz'), // expected nopqrstuvwxyzabcdefghijklm\n",
    "  caesarsCipher('JavaScript is cool!'),        // expected WninFpevcg vf pbby!\n",
    "  caesarsCipher('10 + two is twelve.'),        // expected 10 + gjb vf gjryir.\n",
    "  caesarsCipher('Caesars Cipher 13.')]         // expected Pnrfnef Pvcure 13."
   ]
  },
  {
   "cell_type": "code",
   "execution_count": 176,
   "metadata": {},
   "outputs": [
    {
     "data": {
      "text/plain": [
       "[ 'nopqrstuvwxyzabcdefghijklm',\n",
       "  'WninFpevcg vf pbby!',\n",
       "  '10 + gjb vf gjryir.',\n",
       "  'Pnrfnef Pvcure 13.' ]"
      ]
     },
     "execution_count": 176,
     "metadata": {},
     "output_type": "execute_result"
    }
   ],
   "source": [
    "function caesarsCipher(message, rot=13){\n",
    "  const d = [az2='abcdefghijklmnopqrstuvwxyz'.repeat(2), az2.toUpperCase()];\n",
    "  const c = d.map(a=>a.charCodeAt()-rot);\n",
    "  return message.replace(/([a-z])|[A-Z]/g,(m,low)=>(i=low?0:1, d[i][m.charCodeAt()-c[i]]));\n",
    "}\n",
    "\n",
    "[ caesarsCipher('abcdefghijklmnopqrstuvwxyz'), // expected nopqrstuvwxyzabcdefghijklm\n",
    "  caesarsCipher('JavaScript is cool!'),        // expected WninFpevcg vf pbby!\n",
    "  caesarsCipher('10 + two is twelve.'),        // expected 10 + gjb vf gjryir.\n",
    "  caesarsCipher('Caesars Cipher 13.')]         // expected Pnrfnef Pvcure 13."
   ]
  },
  {
   "cell_type": "code",
   "execution_count": 177,
   "metadata": {},
   "outputs": [
    {
     "data": {
      "text/plain": [
       "[ 'nopqrstuvwxyzabcdefghijklm',\n",
       "  'WninFpevcg vf pbby!',\n",
       "  '10 + gjb vf gjryir.',\n",
       "  'Pnrfnef Pvcure 13.' ]"
      ]
     },
     "execution_count": 177,
     "metadata": {},
     "output_type": "execute_result"
    }
   ],
   "source": [
    "function caesarsCipher13(message){\n",
    "  return message.replace(/([a-z])|[A-Z]/g,(m,low)=>(i=low?0:1, \n",
    "    ['abcdefghijklmnopqrstuvwxyzabcdefghijklm',\n",
    "     'ABCDEFGHIJKLMNOPQRSTUVWXYZABCDEFGHIJKLM'][i][m.charCodeAt()-[84,52][i]]));\n",
    "}\n",
    "\n",
    "[ caesarsCipher13('abcdefghijklmnopqrstuvwxyz'), // expected nopqrstuvwxyzabcdefghijklm\n",
    "  caesarsCipher13('JavaScript is cool!'),        // expected WninFpevcg vf pbby!\n",
    "  caesarsCipher13('10 + two is twelve.'),        // expected 10 + gjb vf gjryir.\n",
    "  caesarsCipher13('Caesars Cipher 13.')]         // expected Pnrfnef Pvcure 13."
   ]
  },
  {
   "cell_type": "markdown",
   "metadata": {},
   "source": [
    "## String: findShortestWords\n",
    "Given a string of words, return the length of the shortest word(s)."
   ]
  },
  {
   "cell_type": "code",
   "execution_count": 178,
   "metadata": {},
   "outputs": [
    {
     "data": {
      "text/plain": [
       "[ 3, 4, 5 ]"
      ]
     },
     "execution_count": 178,
     "metadata": {},
     "output_type": "execute_result"
    }
   ],
   "source": [
    "function findShortestWords(string) {\n",
    "    return Math.min(...string.split(\" \").map(w=>w.length));\n",
    "};\n",
    "\n",
    "[ findShortestWords(\"bitcoin take over the world maybe who knows perhaps\"), // expected 3\n",
    "  findShortestWords(\"Dogecoin Mine Bitcoin Factom Ripple MadeSafeCoin\"),    // expected 4\n",
    "  findShortestWords(\"Steem Dogecoin Factom Factom Ripple MadeSafeCoin Classic ProofOfStake 21inc\")]; // expected 5"
   ]
  },
  {
   "cell_type": "code",
   "execution_count": 179,
   "metadata": {},
   "outputs": [
    {
     "data": {
      "text/plain": [
       "[ 3, 4, 5 ]"
      ]
     },
     "execution_count": 179,
     "metadata": {},
     "output_type": "execute_result"
    }
   ],
   "source": [
    "function findShortestWords(string) {\n",
    "    return Math.min(...string.match(/\\w+/g).map(w=>w.length));\n",
    "};\n",
    "\n",
    "[ findShortestWords(\"bitcoin take over the world maybe who knows perhaps\"), // expected 3\n",
    "  findShortestWords(\"Dogecoin Mine Bitcoin Factom Ripple MadeSafeCoin\"),    // expected 4\n",
    "  findShortestWords(\"Steem Dogecoin Factom Factom Ripple MadeSafeCoin Classic ProofOfStake 21inc\")]; // expected 5"
   ]
  },
  {
   "cell_type": "code",
   "execution_count": 180,
   "metadata": {},
   "outputs": [
    {
     "data": {
      "text/plain": [
       "[ 1, 3, 4, 5 ]"
      ]
     },
     "execution_count": 180,
     "metadata": {},
     "output_type": "execute_result"
    }
   ],
   "source": [
    "function findShortestWords(string) {\n",
    "    let min=string.length;\n",
    "    let len=0, char;\n",
    "    for (let i=0; i<=string.length; i++){\n",
    "        char = string[i];\n",
    "        if (char==' ' || !char) [min,len]=[Math.min(min,(len==0)?min:len), 0];\n",
    "        else len++\n",
    "    }\n",
    "    return min;\n",
    "};\n",
    "\n",
    "[ findShortestWords(\"a  b\"), // expected 1\n",
    "  findShortestWords(\"bitcoin take over the world maybe who knows perhaps\"), // expected 3\n",
    "  findShortestWords(\"Dogecoin Mine Bitcoin Factom Ripple MadeSafeCoin\"),    // expected 4\n",
    "  findShortestWords(\"Steem Dogecoin Factom Factom Ripple MadeSafeCoin Classic ProofOfStake 21inc\")]; // expected 5"
   ]
  },
  {
   "cell_type": "markdown",
   "metadata": {},
   "source": [
    "## String: reverseString\n",
    "Given a string, return the string in reverse.\n",
    "You are not allowed to use the `.reverse()` method.\n",
    "\n",
    "For an extra challenge try using recursion...\n",
    "For an explanation and tutorial of recursion, watch this video https://www.youtube.com/watch?v=6oDQaB2one8"
   ]
  },
  {
   "cell_type": "code",
   "execution_count": 181,
   "metadata": {},
   "outputs": [
    {
     "data": {
      "text/plain": [
       "[ 'gnirts siht ni srettel eht esreveR',\n",
       "  '?noisrucer htiw ti od uoy naC' ]"
      ]
     },
     "execution_count": 181,
     "metadata": {},
     "output_type": "execute_result"
    }
   ],
   "source": [
    "function reverseString(string) {\n",
    "    return [...string].reduce((arr,char,ind)=>\n",
    "                              (arr[string.length-ind-1]=char,arr),Array(string.length).fill(null))\n",
    "           .join(\"\");\n",
    "};\n",
    "\n",
    "[ reverseString('Reverse the letters in this string'), // expected gnirts siht ni srettel eht esreveR\n",
    "  reverseString('Can you do it with recursion?')]      // expected ?noisrucer htiw ti od uoy naC"
   ]
  },
  {
   "cell_type": "code",
   "execution_count": 182,
   "metadata": {},
   "outputs": [
    {
     "data": {
      "text/plain": [
       "[ 'gnirts siht ni srettel eht esreveR',\n",
       "  '?noisrucer htiw ti od uoy naC' ]"
      ]
     },
     "execution_count": 182,
     "metadata": {},
     "output_type": "execute_result"
    }
   ],
   "source": [
    "function reverseString(string) {\n",
    "    if (string.length < 2) return string;\n",
    "    else return string.slice(-1)\n",
    "               +reverseString(string.slice(1,-1))\n",
    "               +string[0]\n",
    "};\n",
    "\n",
    "[ reverseString('Reverse the letters in this string'), // expected gnirts siht ni srettel eht esreveR\n",
    "  reverseString('Can you do it with recursion?')]      // expected ?noisrucer htiw ti od uoy naC"
   ]
  },
  {
   "cell_type": "code",
   "execution_count": 183,
   "metadata": {},
   "outputs": [
    {
     "data": {
      "text/plain": [
       "[ 'gnirts siht ni srettel eht esreveR',\n",
       "  '?noisrucer htiw ti od uoy naC' ]"
      ]
     },
     "execution_count": 183,
     "metadata": {},
     "output_type": "execute_result"
    }
   ],
   "source": [
    "function reverseString(string) {\n",
    "    return string.replace(/./g, (_,i,s)=>s[s.length-i-1])\n",
    "};\n",
    "\n",
    "[ reverseString('Reverse the letters in this string'), // expected gnirts siht ni srettel eht esreveR\n",
    "  reverseString('Can you do it with recursion?')]      // expected ?noisrucer htiw ti od uoy naC"
   ]
  },
  {
   "cell_type": "markdown",
   "metadata": {},
   "source": [
    "## Number: convertToRoman\n",
    "Write a function that converts the given number to a roman numerial (Uppercase)\n",
    "A list of roman numerials can be found here:\n",
    "https://www.math-salamanders.com/roman-numerals-list.html"
   ]
  },
  {
   "cell_type": "code",
   "execution_count": 184,
   "metadata": {},
   "outputs": [
    {
     "data": {
      "text/plain": [
       "[ 'V',\n",
       "  'XII',\n",
       "  'XXIX',\n",
       "  'LXVIII',\n",
       "  'XCIX',\n",
       "  'CD',\n",
       "  'DCXLIX',\n",
       "  'DCCCXCI',\n",
       "  'MVI',\n",
       "  'MMXIV',\n",
       "  'MMMCMXCIX' ]"
      ]
     },
     "execution_count": 184,
     "metadata": {},
     "output_type": "execute_result"
    }
   ],
   "source": [
    "function convertToRoman(value) {\n",
    "    numerals = [ 'M','CM','D','CD','C','XC','L','XL','X','IX','V','IV','I'];\n",
    "    values   = [1000, 900,500, 400,100,  90, 50,  40, 10,   9,  5,   4,  1];\n",
    "    return values.map((v,i)=>(d=value/v,value%=v,numerals[i].repeat(d))).join(\"\");\n",
    "};\n",
    "\n",
    "[ convertToRoman(5),     // expected V\n",
    "  convertToRoman(12),    // expected XII\n",
    "  convertToRoman(29),    // expected XXIX\n",
    "  convertToRoman(68),    // expected LXVIII\n",
    "  convertToRoman(99),    // expected XCIX\n",
    "  convertToRoman(400),   // expected CD\n",
    "  convertToRoman(649),   // expected DCXLIX\n",
    "  convertToRoman(891),   // expected DCCCXCI\n",
    "  convertToRoman(1006),  // expected MVI\n",
    "  convertToRoman(2014),  // expected MMXIV\n",
    "  convertToRoman(3999)]  // expected MMMCMXCIX"
   ]
  },
  {
   "cell_type": "markdown",
   "metadata": {},
   "source": [
    "## Array: moveZeros\n",
    "Write a function that accepts an array and returns an array with any zeros moved to the end, all other elements should have their order preserved."
   ]
  },
  {
   "cell_type": "code",
   "execution_count": 185,
   "metadata": {},
   "outputs": [
    {
     "name": "stdout",
     "output_type": "stream",
     "text": [
      "test: 5155.799ms\n"
     ]
    }
   ],
   "source": [
    "// this one changes the original array by removing and appending elements\n",
    "function moveElementsToTheEnd(arr, toBeMoved=0) {\n",
    "    let end=arr.length;\n",
    "    for (let i=0;i<end;)\n",
    "        if (arr[i]===toBeMoved){\n",
    "            arr.push(arr.splice(i,1)[0]);\n",
    "            end--\n",
    "        } else i++;\n",
    "    return arr;\n",
    "};\n",
    "\n",
    "[ moveElementsToTheEnd([ 0, 0, 0, 1, 2, 0, 1, 1, 3, 1]),\n",
    "  moveElementsToTheEnd([ 1, 2, 0, 1, 0, 1, 0, 3, 0, 1]),\n",
    "  moveElementsToTheEnd([ 9, 9, 0, 0, 1, 2, 0, 1, 1, 3, 1, 9, 9, 0]),\n",
    "  moveElementsToTheEnd([ 1, null, 0, 2, false, 1, 0])]\n",
    "\n",
    "console.time(\"test\")\n",
    "for (let i=0; i<1000000; i++){\n",
    "    moveElementsToTheEnd([ 0, 0, 0, 1, 2, 0, 1, 1, 3, 1]);\n",
    "    moveElementsToTheEnd([ 1, 2, 0, 1, 0, 1, 0, 3, 0, 1]);\n",
    "    moveElementsToTheEnd([ 9, 9, 0, 0, 1, 2, 0, 1, 1, 3, 1, 9, 9, 0]);\n",
    "    moveElementsToTheEnd([ 1, null, 0, 2, false, 1, 0]);\n",
    "} \n",
    "console.timeEnd(\"test\")"
   ]
  },
  {
   "cell_type": "code",
   "execution_count": 186,
   "metadata": {},
   "outputs": [
    {
     "name": "stdout",
     "output_type": "stream",
     "text": [
      "test: 1296.345ms\n"
     ]
    }
   ],
   "source": [
    "// this one changes the original array in-place by switching one pair only at a time\n",
    "function moveElementsToTheEnd(arr, toBeMoved=0) {\n",
    "    for (let i=0;i<arr.length;i++){\n",
    "        if (arr[i]===toBeMoved)\n",
    "            for (let j=i+1;j<arr.length;j++){\n",
    "                if (arr[j]!==toBeMoved){\n",
    "                    [arr[i],arr[j]]=[arr[j],arr[i]];\n",
    "                    break;\n",
    "                }\n",
    "            }     \n",
    "    };\n",
    "    return arr;\n",
    "};\n",
    "\n",
    "[ moveElementsToTheEnd([ 0, 0, 0, 1, 2, 0, 1, 1, 3, 1]), // expected [ 1, 2, 1, 1, 3, 1, 0, 0, 0, 0]\n",
    "  moveElementsToTheEnd([ 1, 2, 0, 1, 0, 1, 0, 3, 0, 1]), // expected [ 1, 2, 1, 1, 3, 1, 0, 0, 0, 0]\n",
    "  moveElementsToTheEnd([ 9, 9, 0, 0, 1, 2, 0, 1, 1, 3, 1, 9, 9, 0]),// expected [9,9,1,2,1,1,3,1,9,9,0,0,0,0]\n",
    "  moveElementsToTheEnd([ 1, null, 0, 2, false, 1, 0])]   // expected [ 1, null, 2, false, 1, 0, 0]\n",
    "\n",
    "console.time(\"test\")\n",
    "for (let i=0; i<1000000; i++){\n",
    "    moveElementsToTheEnd([ 0, 0, 0, 1, 2, 0, 1, 1, 3, 1]);\n",
    "    moveElementsToTheEnd([ 1, 2, 0, 1, 0, 1, 0, 3, 0, 1]);\n",
    "    moveElementsToTheEnd([ 9, 9, 0, 0, 1, 2, 0, 1, 1, 3, 1, 9, 9, 0]);\n",
    "    moveElementsToTheEnd([ 1, null, 0, 2, false, 1, 0]);\n",
    "}\n",
    "console.timeEnd(\"test\")"
   ]
  },
  {
   "cell_type": "markdown",
   "metadata": {},
   "source": [
    "## Array: sortedSquaredArray\n",
    "Given an array of sorted integers. Write a function that returns a sorted array of those same integers squared.\n",
    "Ideally this should be written with O(n) linear time complexity. This is an interview question from one of the big four tech companies. Execution speed is important here.\n",
    "hint: use the 2 pointer array traversing method to complete this challenge"
   ]
  },
  {
   "cell_type": "code",
   "execution_count": 187,
   "metadata": {},
   "outputs": [
    {
     "name": "stdout",
     "output_type": "stream",
     "text": [
      "test: 512.060ms\n"
     ]
    }
   ],
   "source": [
    "function sortedSquaredArray(array) {\n",
    "    let start = 0;\n",
    "    let end   = array.length-1;\n",
    "    const result = Array(array.length).fill(null);\n",
    "    result.forEach((_,i,a) => a[array.length-1-i] = \n",
    "                              ( Math.abs(array[start]) > Math.abs(array[end]) ) \n",
    "                                ? Math.pow(array[start++],2) \n",
    "                                : Math.pow(array[end--],2));\n",
    "    return result;\n",
    "};\n",
    "\n",
    "[ sortedSquaredArray([-8, -6, -4, 1, 2, 3, 5]), // expected [ 1, 4, 9, 16, 25, 36, 64 ]\n",
    "  sortedSquaredArray([1, 2, 3, 4, 5, 6])]       // expected [ 1, 4, 9, 16, 25, 36 ]\n",
    "\n",
    "console.time(\"test\")\n",
    "for (let i=0; i<1000000; i++){\n",
    "    sortedSquaredArray([-8, -6, -4, 1, 2, 3, 5]);\n",
    "    sortedSquaredArray([1, 2, 3, 4, 5, 6]);\n",
    "}\n",
    "console.timeEnd(\"test\")"
   ]
  },
  {
   "cell_type": "code",
   "execution_count": 188,
   "metadata": {},
   "outputs": [
    {
     "name": "stdout",
     "output_type": "stream",
     "text": [
      "test: 211.441ms\n"
     ]
    }
   ],
   "source": [
    "function sortedSquaredArray(array) {\n",
    "    let start = 0;\n",
    "    let end   = array.length-1;\n",
    "    const result = Array(array.length);\n",
    "    for (let i=end; i>=0; i--)\n",
    "        result[i] = ( Math.abs(array[start]) > Math.abs(array[end]) ) \n",
    "                     ? Math.pow(array[start++],2) \n",
    "                     : Math.pow(array[end--],2);\n",
    "    return result;\n",
    "};\n",
    "\n",
    "[ sortedSquaredArray([-8, -6, -4, 1, 2, 3, 5]), // expected [ 1, 4, 9, 16, 25, 36, 64 ]\n",
    "  sortedSquaredArray([1, 2, 3, 4, 5, 6])]       // expected [ 1, 4, 9, 16, 25, 36 ]\n",
    "\n",
    "console.time(\"test\")\n",
    "for (let i=0; i<1000000; i++){\n",
    "    sortedSquaredArray([-8, -6, -4, 1, 2, 3, 5]);\n",
    "    sortedSquaredArray([1, 2, 3, 4, 5, 6]);\n",
    "}\n",
    "console.timeEnd(\"test\")"
   ]
  },
  {
   "cell_type": "markdown",
   "metadata": {},
   "source": [
    "## String: diamond\n",
    "Write a function that prints a Diamond shape to the console by *returning a single string*, using the asterisk `*` character as the printable character.\n",
    "Remove trailing spaces and finish every line with a `\\n`.\n",
    "Return `null` / `None` if the input is an *even* number or *negative*.\n",
    "\n",
    "A diamond with input 9 would look like:\n",
    "```bash\n",
    "    *\n",
    "   ***\n",
    "  *****\n",
    " *******\n",
    "*********\n",
    " *******\n",
    "  *****\n",
    "   ***\n",
    "    *\n",
    "```"
   ]
  },
  {
   "cell_type": "code",
   "execution_count": 189,
   "metadata": {},
   "outputs": [
    {
     "name": "stdout",
     "output_type": "stream",
     "text": [
      "null\n",
      "*\n",
      "\n",
      " *\n",
      "***\n",
      " *\n",
      "\n",
      "  *\n",
      " ***\n",
      "*****\n",
      " ***\n",
      "  *\n",
      "\n",
      "    *\n",
      "   ***\n",
      "  *****\n",
      " *******\n",
      "*********\n",
      " *******\n",
      "  *****\n",
      "   ***\n",
      "    *\n",
      "\n",
      "null\n"
     ]
    }
   ],
   "source": [
    "function diamond(n, block='*') {\n",
    "  if (n%2==0 || n<0) return null;\n",
    "  const p = ' '.repeat(n) + block.repeat(n);\n",
    "  let d = p.slice(n)+'\\n';\n",
    "  for (let i=1; i<n/2; i++) {\n",
    "      const a = p.slice(n-i,2*(n-i)) + '\\n';\n",
    "      d =  a + d + a;\n",
    "  }\n",
    "  return d;\n",
    "};\n",
    "\n",
    "for (let n of [0,1,3,5,9,10]) console.log(diamond(n));"
   ]
  },
  {
   "cell_type": "markdown",
   "metadata": {},
   "source": [
    "## String: highAndLow\n",
    "Write a function that returns a string containing the highest and lowest number, given a string of space separated numbers.\n",
    "It should be in the format “highest lowest” -> `20 12`"
   ]
  },
  {
   "cell_type": "code",
   "execution_count": 190,
   "metadata": {},
   "outputs": [
    {
     "data": {
      "text/plain": [
       "[ '542 -214', '10 -10', '1 -1', '42 42', '1 -1' ]"
      ]
     },
     "execution_count": 190,
     "metadata": {},
     "output_type": "execute_result"
    }
   ],
   "source": [
    "// quickest solution\n",
    "function highAndLow(numbers){\n",
    "  let high = null;\n",
    "  let low = null;\n",
    "  for (let n of numbers.split(' ')) {\n",
    "    n = +n;\n",
    "    if (high === null || n > high) high = n;\n",
    "    if (low === null || n < low) low = n;\n",
    "  };\n",
    "  return high + ' ' + low;\n",
    "};\n",
    "\n",
    "[ highAndLow(\"4 5 29 54 4 0 -214 542 -64 1 -3 6 -6\"), // expected \"542 -214\"\n",
    "  highAndLow(\"10 2 -2 -10\"),                          // expected \"10 -10\"\n",
    "  highAndLow(\"1 -1\"),                                 // expected \"1 -1\"\n",
    "  highAndLow(\"42\"),                                   // expected \"42 42\"\n",
    "  highAndLow(\"1 -1 0\")]                               // expected \"1 -1\""
   ]
  },
  {
   "cell_type": "code",
   "execution_count": 191,
   "metadata": {},
   "outputs": [],
   "source": [
    "function highAndLow2(numbers){\n",
    "    const nums = numbers.split(\" \");\n",
    "    return Math.max(...nums) +' '+ Math.min(...nums);\n",
    "};"
   ]
  },
  {
   "cell_type": "code",
   "execution_count": 192,
   "metadata": {},
   "outputs": [
    {
     "name": "stdout",
     "output_type": "stream",
     "text": [
      "test1: 6909.399ms\n",
      "test2: 11119.172ms\n"
     ]
    }
   ],
   "source": [
    "console.time(\"test1\")\n",
    "for (let i=0; i<10000000; i++)\n",
    "    highAndLow(\"4 5 29 54 4 0 -214 542 -64 1 -3 6 -6\");\n",
    "console.timeEnd(\"test1\")\n",
    "\n",
    "console.time(\"test2\")\n",
    "for (let i=0; i<10000000; i++)\n",
    "    highAndLow2(\"4 5 29 54 4 0 -214 542 -64 1 -3 6 -6\");\n",
    "console.timeEnd(\"test2\")\n"
   ]
  },
  {
   "cell_type": "markdown",
   "metadata": {},
   "source": [
    "## Number: isIntegerPalindrome\n",
    "Write a function that returns a boolean indicating whether the given integer is a palindrome.\n",
    "You are not allowed to use any strings / string methods in your function."
   ]
  },
  {
   "cell_type": "code",
   "execution_count": 193,
   "metadata": {},
   "outputs": [
    {
     "data": {
      "text/plain": [
       "[ true, true, false, false, true ]"
      ]
     },
     "execution_count": 193,
     "metadata": {},
     "output_type": "execute_result"
    }
   ],
   "source": [
    "function isIntegerPalindrome(num) {\n",
    "    let pow10 = Math.pow(10,Math.log10(num)|0);\n",
    "    let left, right;\n",
    "    while (num>0){\n",
    "        left  = num/pow10 | 0;\n",
    "        right = num%10;\n",
    "        if (left != right) return false;\n",
    "        num = (num - left*pow10) / 10 |0;\n",
    "        pow10 /= 100;\n",
    "    }\n",
    "    return true;\n",
    "};\n",
    "\n",
    "[ isIntegerPalindrome(1331),    // expected true\n",
    "  isIntegerPalindrome(1),       // expected true\n",
    "  isIntegerPalindrome(1234),    // expected false\n",
    "  isIntegerPalindrome(12365),   // expected false\n",
    "  isIntegerPalindrome(9876789)] // expected true"
   ]
  },
  {
   "cell_type": "markdown",
   "metadata": {},
   "source": [
    "## Array: mergeArrays\n",
    "Write a function that given two arrays of possibly different lengths returns one single merged array."
   ]
  },
  {
   "cell_type": "code",
   "execution_count": 194,
   "metadata": {},
   "outputs": [
    {
     "data": {
      "text/plain": [
       "[ [ 'a', 1, 'b', 2, 'c', 3, 'd', 4, 'e' ],\n",
       "  [ 5, 'd', 6, 'e', 7, 'f', 8, 'g', 'h' ] ]"
      ]
     },
     "execution_count": 194,
     "metadata": {},
     "output_type": "execute_result"
    }
   ],
   "source": [
    "function mergeArrays(a, b) {\n",
    "  const merged = [];\n",
    "  const arrs = [a,b];\n",
    "  const shorter = (a.length<b.length) ? 0 : 1;\n",
    "  for (let i=0;i<arrs[shorter].length;i++){\n",
    "      merged.push(a[i]);\n",
    "      merged.push(b[i]);\n",
    "  }\n",
    "  const longer = 1-shorter;\n",
    "  for (let i=arrs[shorter].length;i<arrs[longer].length;i++)\n",
    "      merged.push(arrs[longer][i]);\n",
    "  return merged;\n",
    "};\n",
    "\n",
    "[ mergeArrays(['a', 'b', 'c', 'd', 'e'], [1, 2, 3, 4]), // expected [ 'a', 1, 'b', 2, 'c', 3, 'd', 4, 'e' ]\n",
    "  mergeArrays([5, 6, 7, 8], ['d', 'e', 'f', 'g', 'h'])] // expected [ 5, 'd', 6, 'e', 7, 'f', 8, 'g', 'h' ]"
   ]
  },
  {
   "cell_type": "markdown",
   "metadata": {},
   "source": [
    "## RegEx: isValidEmailAddress\n",
    "Write a function that uses a regular expression that validates an email address.\n",
    ">you can use https://regexr.com/ to create your regex, they have a great cheatsheet!\n",
    "\n",
    "Rules:\n",
    "- username must be larger than 5 characters\n",
    "- username may only contain alphanumeric characters\n",
    "- dots are allowed but not in succession\n",
    "- must contain a single @\n",
    "- domain and host name must both be greater than 2 characters and seperated with a dot"
   ]
  },
  {
   "cell_type": "code",
   "execution_count": 195,
   "metadata": {},
   "outputs": [
    {
     "data": {
      "text/plain": [
       "[ true, true, false, true, false, false, false ]"
      ]
     },
     "execution_count": 195,
     "metadata": {},
     "output_type": "execute_result"
    }
   ],
   "source": [
    "function isValidEmailAddress(email) {\n",
    "    return (/^(?=.{6,}@)(?!.*\\.\\.)[a-z0-9\\.]+@[a-z0-9]{2,}\\.[a-z0-9]{2,}$/gi).test(email);\n",
    "};\n",
    "\n",
    "[ isValidEmailAddress('john.smith@gmail.com'),      // expected true\n",
    "  isValidEmailAddress('johnsmith@outlook.com'),     // expected true\n",
    "  isValidEmailAddress('john..smith@gmail.com'),     // expected false\n",
    "  isValidEmailAddress('john.paul.smith@gmail.com'), // expected true\n",
    "  isValidEmailAddress('john-smith@gmail.com'),      // expected false\n",
    "  isValidEmailAddress('johnsmith@gmail'),           // expected false\n",
    "  isValidEmailAddress('johnsmith.gmail.com')]       // expected false"
   ]
  },
  {
   "cell_type": "markdown",
   "metadata": {},
   "source": [
    "Learnt from [this](https://stackoverflow.com/a/12019115/8634389) to limit the username length: `(?=.{6,}@)`, and excluding `..` from user name: `(?!.*\\.\\.)`. For host name I allow one word only. See the whole explanation of the regex [here](https://regexr.com/5rqqd)."
   ]
  },
  {
   "cell_type": "markdown",
   "metadata": {},
   "source": [
    "## Array: bubbleSort\n",
    "Write a function `bubbleSort` which takes an array of integers as input and returns an array of these integers in sorted order from least to greatest.\n",
    ">The bubble sort method starts at the beginning of an unsorted array and ‘bubbles up’ unsorted values towards the end, iterating through the array until it is completely sorted. It does this by comparing adjacent items and swapping them if they are out of order. The method continues looping through the array until no swaps occur at which point the array is sorted.\n",
    "* Here is just one visualisation you can see to implement this method. https://www.youtube.com/watch?v=9I2oOAr2okY\n",
    "* You are only allowed to use for loops or a while loop, no array sorting methods allowed!\n",
    "* The array must be sorted in place, no additional arrays should be created."
   ]
  },
  {
   "cell_type": "code",
   "execution_count": 196,
   "metadata": {},
   "outputs": [
    {
     "data": {
      "text/plain": [
       "[ [ 1, 2, 3, 4, 5, 6, 7, 8, 9, 100, 225, 1001 ],\n",
       "  [ 1, 2, 3, 4, 5, 6 ],\n",
       "  [ -100, -9, -8, -6, -3, 1, 2, 4, 5, 7, 1001 ] ]"
      ]
     },
     "execution_count": 196,
     "metadata": {},
     "output_type": "execute_result"
    }
   ],
   "source": [
    "function bubbleSort(array) {\n",
    "    let stopNext;\n",
    "    let length = array.length;\n",
    "    while (!stopNext){\n",
    "        length--;\n",
    "        stopNext = true;\n",
    "        for (let j=0; j<length; j++)\n",
    "            if (array[j]>array[j+1])\n",
    "                [array[j], array[j+1], stopNext] = [array[j+1], array[j], false]\n",
    "    }\n",
    "    return array;\n",
    "};\n",
    "\n",
    "[ bubbleSort([225,9,2,6,100,4,1,8,7,1001,3,5]),             // expected [ 1, 2, 3, 4, 5, 6, 7, 8, 9, 100, 225, 1001 ]\n",
    "  bubbleSort([6,5,4,3,2,1]),                                // expected [ 1, 2, 3, 4, 5, 6]\n",
    "  bubbleSort([ -9, 2, -6, -100, 4, 1, -8, 7, 1001, -3, 5])] // expected [ -100, -9, -8, -6, -3, 1, 2, 4, 5, 7, 1001 ]"
   ]
  },
  {
   "cell_type": "markdown",
   "metadata": {},
   "source": [
    "## Object: stringifyObjectNumbers\n",
    "You will be given an object as an argument. Your goal is to return an object of the same values and structure except all keys that have integers as values must have their values converted to strings.\n",
    "Suggested  code to use that may help you solve this challenge:\n",
    "* `for … in`  loop - to loop over objects\n",
    "* `typeof` to check a key's type - note , arrays will return the value `object` so additional checks will be needed if checking for an object\n",
    "* recursion -  to loop over nested objects"
   ]
  },
  {
   "cell_type": "code",
   "execution_count": 197,
   "metadata": {},
   "outputs": [
    {
     "data": {
      "text/plain": [
       "{ num: '1',\n",
       "  test: [ '1', '2' ],\n",
       "  data: { val: '4', info: { isRight: true, random: '66' } } }"
      ]
     },
     "execution_count": 197,
     "metadata": {},
     "output_type": "execute_result"
    }
   ],
   "source": [
    "function stringifyObjectNumbers(obj) {\n",
    "    if (typeof(obj)=='number') return obj.toString();\n",
    "    if (typeof(obj)!='object') return obj;\n",
    "    const newObj = (Array.isArray(obj)) ? [] : {};\n",
    "    for (let key in obj) newObj[key] = stringifyObjectNumbers(obj[key]);\n",
    "    return newObj;\n",
    "};\n",
    "\n",
    "stringifyObjectNumbers({\n",
    "    num: 1,\n",
    "    test: [1,2],\n",
    "    data: {\n",
    "        val: 4,\n",
    "        info: {\n",
    "            isRight: true,\n",
    "            random: 66,\n",
    "        },\n",
    "    }\n",
    "});\n",
    "\n",
    "// expected\n",
    "// { num: '1',\n",
    "//   test: ['1','2'],\n",
    "//   data: { val: '4', \n",
    "//           info: { isRight: true, random: '66' } } }"
   ]
  },
  {
   "cell_type": "code",
   "execution_count": 198,
   "metadata": {},
   "outputs": [
    {
     "data": {
      "text/plain": [
       "{ name: 'Paul',\n",
       "  age: '35',\n",
       "  info: { isLeft: false, fixed: '100' } }"
      ]
     },
     "execution_count": 198,
     "metadata": {},
     "output_type": "execute_result"
    }
   ],
   "source": [
    "stringifyObjectNumbers({\n",
    "    name: \"Paul\",\n",
    "    age: 35,\n",
    "    info: {\n",
    "        isLeft: false,\n",
    "        fixed: 100,\n",
    "    }\n",
    "});\n",
    "\n",
    "// expected\n",
    "// { name: \"Paul\",\n",
    "//   age: \"35\",\n",
    "//   info: { isLeft: false, fixed: \"100\" } }"
   ]
  },
  {
   "cell_type": "markdown",
   "metadata": {},
   "source": [
    "## RegEx: titleCaseSentence\n",
    "Write a function that returns the provided string with the first letter of each word capitalized. Make sure the rest of the word is in lower case."
   ]
  },
  {
   "cell_type": "code",
   "execution_count": 199,
   "metadata": {},
   "outputs": [
    {
     "data": {
      "text/plain": [
       "[ 'I\\'m A Little Tea Pot',\n",
       "  'Short And Stout',\n",
       "  'Here Is My Handle Here Is My Spout' ]"
      ]
     },
     "execution_count": 199,
     "metadata": {},
     "output_type": "execute_result"
    }
   ],
   "source": [
    "function titleCaseSentence(string) {\n",
    "    return string.replace(/\\b(\\w)([\\w']*)\\b/gi, (c,g1,g2)=>g1.toUpperCase()+g2.toLowerCase());\n",
    "};\n",
    "\n",
    "[ titleCaseSentence(\"I'm a little tea pot\"),               // expected I'm A Little Tea Pot\n",
    "  titleCaseSentence(\"sHoRt AnD sToUt\"),                    // expected Short And Stout\n",
    "  titleCaseSentence(\"HERE IS MY HANDLE HERE IS MY SPOUT\")] // expected Here Is My Handle Here Is My Spout"
   ]
  },
  {
   "cell_type": "markdown",
   "metadata": {},
   "source": [
    "## Number: factorialise\n",
    "Write a function that returns the product of all positive integers less than or equal to n"
   ]
  },
  {
   "cell_type": "code",
   "execution_count": 200,
   "metadata": {},
   "outputs": [
    {
     "data": {
      "text/plain": [
       "[ 120, 3628800, 2432902008176640000, 1 ]"
      ]
     },
     "execution_count": 200,
     "metadata": {},
     "output_type": "execute_result"
    }
   ],
   "source": [
    "function factorialise(n, f=1) {\n",
    "    while (n) f*=n--;\n",
    "    return f\n",
    "}\n",
    "\n",
    "[ factorialise(5),  // -> (1 * 2 * 3 * 4 * 5) -> 120\n",
    "  factorialise(10), // -> 3628800\n",
    "  factorialise(20), // -> 2432902008176640000\n",
    "  factorialise(0)]  // -> 1"
   ]
  },
  {
   "cell_type": "code",
   "execution_count": 201,
   "metadata": {},
   "outputs": [
    {
     "data": {
      "text/plain": [
       "[ 120, 3628800, 2432902008176640000, 1 ]"
      ]
     },
     "execution_count": 201,
     "metadata": {},
     "output_type": "execute_result"
    }
   ],
   "source": [
    "function factorialise(n) {\n",
    "    return Array(n).fill(null).reduce((f,_,i)=>++i*f,1);\n",
    "}\n",
    "\n",
    "[ factorialise(5),  // -> (1 * 2 * 3 * 4 * 5) -> 120\n",
    "  factorialise(10), // -> 3628800\n",
    "  factorialise(20), // -> 2432902008176640000\n",
    "  factorialise(0)]  // -> 1"
   ]
  },
  {
   "cell_type": "markdown",
   "metadata": {},
   "source": [
    "## RegEx: pigLatin\n",
    ">Pig Latin is a way of altering English Words. (This is a simpler rule based version)\n",
    "\n",
    "Write a function that returns a string with the folowing rules.\n",
    "1. Move the first letter of each word to the end of it.\n",
    "2.  Then add \"ay\" to the end of the word.\n",
    "3.  Leave punctuation marks untouched."
   ]
  },
  {
   "cell_type": "code",
   "execution_count": 202,
   "metadata": {},
   "outputs": [
    {
     "data": {
      "text/plain": [
       "[ 'igPay atinlay siay oolcay', 'elloHay orldway !' ]"
      ]
     },
     "execution_count": 202,
     "metadata": {},
     "output_type": "execute_result"
    }
   ],
   "source": [
    "function pigLatin(string) {\n",
    "  return string.replace(/\\b(\\w)(\\w*)\\b/gi, (m,g1,g2)=>g2+g1+'ay');\n",
    "};\n",
    "\n",
    "\n",
    "[ pigLatin('Pig latin is cool'), // expected igPay atinlay siay oolcay\n",
    "  pigLatin('Hello world !')]     // expected elloHay orldway !"
   ]
  },
  {
   "cell_type": "markdown",
   "metadata": {},
   "source": [
    "## String: isPalindrome\n",
    "Write a function that returns `true` if the given string is a palindrome. Otherwise, return `false`.\n",
    ">A palindrome is a word or sentence that’s spelled the same way both forward and backward, ignoring punctuation, case, and spacing.\n",
    "\n",
    "Leave out the non alphanumeric characters from the evaluation."
   ]
  },
  {
   "cell_type": "code",
   "execution_count": 54,
   "metadata": {},
   "outputs": [
    {
     "data": {
      "text/plain": [
       "[ true, true, true, false, false ]"
      ]
     },
     "execution_count": 54,
     "metadata": {},
     "output_type": "execute_result"
    }
   ],
   "source": [
    "function isPalindrome(st){\n",
    "  let length = st.length;\n",
    "  const getCode = (str,index)=>{\n",
    "    const code = str.charCodeAt(index);\n",
    "    if (code>=65 && code<=90) return code+32;\n",
    "    if ( (code>=97 && code<=122) || (code>=48 && code<=57)) return code;\n",
    "    length--;\n",
    "    return 0;\n",
    "  }\n",
    "  let i = -1;\n",
    "  let j = st.length;\n",
    "  while (i<j){\n",
    "    let left = right = 0;\n",
    "    while (!(left =getCode(st,++i)) && i<j);\n",
    "    while (!(right=getCode(st,--j)) && i<j);\n",
    "    if (left && right && left!=right) return false;\n",
    "  }\n",
    "  return length>0;\n",
    "}\n",
    "\n",
    "[isPalindrome('race! car'),          // expected true\n",
    " isPalindrome('Racecar'),            // expected true\n",
    " isPalindrome('2A3*3a2'),            // expected true\n",
    " isPalindrome('not a palindrome'),   // expected false\n",
    " isPalindrome('1 eye for of 1 eye')] // expected false"
   ]
  },
  {
   "cell_type": "markdown",
   "metadata": {},
   "source": [
    "## Set: noZerosSet\n",
    "Write a function that given two arrays, creates a `Set` from the two arrays merged together, if the set contains a `0`, return `null`, otherwise return the `size` of the set."
   ]
  },
  {
   "cell_type": "code",
   "execution_count": 69,
   "metadata": {},
   "outputs": [
    {
     "data": {
      "text/plain": [
       "[ 4, null ]"
      ]
     },
     "execution_count": 69,
     "metadata": {},
     "output_type": "execute_result"
    }
   ],
   "source": [
    "function noZerosSet(arr1, arr2) {\n",
    "  s = new Set(arr1.concat(arr2));\n",
    "  return s.has(0) ? null : s.size;\n",
    "}\n",
    "\n",
    "[ noZerosSet([1,2,3], [2,3,4]),    // expected 4\n",
    "  noZerosSet([0,1,2,3], [2,3,4]) ] // expected null"
   ]
  },
  {
   "cell_type": "markdown",
   "metadata": {},
   "source": [
    "## Prototype:\n",
    "Alter the Array Object Prototype to include a new method called has.\n",
    "\n",
    "This method should return a boolean indicating whether the array being called upon contains the passed argument.\n",
    "This challenge will introduce you to the object prototype chain, you will learn how to create your own prototype methods, and understand how useful it can be.\n",
    "\n",
    "For example, Imagine we have a program that needs to check for the presence of a value in an array multiple times, we could write a custom method on the Array Prototype, and have it be called just like any other array method such as `push`, `map` or `forEach`\n",
    "\n",
    "Note: The value of `this` is the object on which it is being called upon.\n",
    "\n",
    "Useful links:\n",
    "- https://www.w3schools.com/jsref/jsref_prototype_array.asp\n",
    "- https://developer.mozilla.org/en-US/docs/Learn/JavaScript/Objects/Object_prototypes"
   ]
  },
  {
   "cell_type": "code",
   "execution_count": 10,
   "metadata": {},
   "outputs": [
    {
     "data": {
      "text/plain": [
       "[ true, false, true, false ]"
      ]
     },
     "execution_count": 10,
     "metadata": {},
     "output_type": "execute_result"
    }
   ],
   "source": [
    "Array.prototype.has = function(element) {\n",
    "    return this.indexOf(element) >= 0;\n",
    "};\n",
    "\n",
    "[ [1,2,3,4,5].has(5),                            // expected true\n",
    "  ['one', 'two', 'three', 'four'].has('five'),   // expected false\n",
    "  ['1', '2', '3', '4', '5'].has('5'),            // expected true\n",
    "  [0, false, true, undefined].has(null) ]        // expected false"
   ]
  },
  {
   "cell_type": "markdown",
   "metadata": {},
   "source": [
    "## Number: convertRGBToHex\n",
    "Given a valid RGB color, write a function that converts and return the input value to a hex color.\n",
    "- Learn about the base16 system -> `0123456789ABCDEF`\n",
    "- Letters should be uppercase\n",
    "- hex color code should start with a `#`"
   ]
  },
  {
   "cell_type": "code",
   "execution_count": 1,
   "metadata": {},
   "outputs": [
    {
     "data": {
      "text/plain": [
       "[ '#FF1843', '#C99C4F', '#FFFFFF', '#000000' ]"
      ]
     },
     "execution_count": 1,
     "metadata": {},
     "output_type": "execute_result"
    }
   ],
   "source": [
    "function convertRGBToHex(...args) {\n",
    "    return args.reduce((hex,dec,i)=>hex+dec.toString(16).toUpperCase().padStart(2,'0'),\"#\");\n",
    "};\n",
    "\n",
    "[ convertRGBToHex(255,24,67),   // expected #FF1843\n",
    "  convertRGBToHex(201,156,79),  // expected #C99C4F\n",
    "  convertRGBToHex(255,255,255), // expected #FFFFFF\n",
    "  convertRGBToHex(0,0,0)]       // expected #000000"
   ]
  },
  {
   "cell_type": "markdown",
   "metadata": {},
   "source": [
    "## Number: isPrime\n",
    "Write a function that returns a boolean determining whether a given number is a prime number.\n",
    "A prime number is a natural number greater than `1` with no positive divisors other than `1` and itself. e.g. `2`, `3`, `5`, `7`, `11`"
   ]
  },
  {
   "cell_type": "code",
   "execution_count": 4,
   "metadata": {},
   "outputs": [
    {
     "name": "stdout",
     "output_type": "stream",
     "text": [
      "5 2.23606797749979\n",
      "7 2.6457513110645907\n",
      "9 3\n"
     ]
    },
    {
     "data": {
      "text/plain": [
       "[ true, true, false, true, false ]"
      ]
     },
     "execution_count": 4,
     "metadata": {},
     "output_type": "execute_result"
    }
   ],
   "source": [
    "function isPrime(num) {\n",
    "    if (num==2) return true;\n",
    "    if (num<2 || num%2==0) return false;\n",
    "    sqrt = Math.sqrt(num);\n",
    "    for (let d=3; d<=sqrt; d+=2)\n",
    "        if (num%d==0) return false;\n",
    "    return true;\n",
    "};\n",
    "\n",
    "[ isPrime(2),  // expected true\n",
    "  isPrime(5),  // expected true\n",
    "  isPrime(6),  // expected false\n",
    "  isPrime(7),  // expected true\n",
    "  isPrime(9)]  // expected false"
   ]
  },
  {
   "cell_type": "code",
   "execution_count": 6,
   "metadata": {},
   "outputs": [
    {
     "data": {
      "text/plain": [
       "[ true, true, false, true, false ]"
      ]
     },
     "execution_count": 6,
     "metadata": {},
     "output_type": "execute_result"
    }
   ],
   "source": [
    "function isPrime(num) {\n",
    "  const primes = {\n",
    "    list:[2,3],\n",
    "    index:0,\n",
    "    reset: ()=>{primes.index=0},\n",
    "    getNext: (n)=>{\n",
    "      if (primes.index===primes.list.length){\n",
    "        let isPrime;\n",
    "        for (let k=primes.list[primes.index-1]+2; k<=n; k+=2) {\n",
    "          isPrime=true;\n",
    "          const sqrtK=Math.sqrt(k);\n",
    "          for (let d=0; d<primes.list.length && primes.list[d]<=sqrtK; d++)\n",
    "            if (k%primes.list[d]===0) {isPrime = false; break;}\n",
    "          if (isPrime) {primes.list.push(k);break;};\n",
    "        }    \n",
    "      }\n",
    "      return primes.list[primes.index++]\n",
    "    }\n",
    "  }\n",
    "  \n",
    "  if (num<2) return false;\n",
    "  sqrtNum = Math.sqrt(num);\n",
    "  while ((prime=primes.getNext()) <= sqrtNum)\n",
    "    if (num%prime==0) return false;\n",
    "  return true;  \n",
    "}\n",
    "  \n",
    "[ isPrime(2),  // expected true\n",
    "  isPrime(5),  // expected true\n",
    "  isPrime(6),  // expected false\n",
    "  isPrime(7),  // expected true\n",
    "  isPrime(9)]  // expected false"
   ]
  },
  {
   "cell_type": "markdown",
   "metadata": {},
   "source": [
    "## Number: returnMultiplesOf3\n",
    "Write a function that returns an array containing the multiples of 3 between the two given integer arguments - inclusive.\n",
    "You must not use any loops in your code - use recusion only.\n",
    "\n",
    "Example: `(1, 6)` -> `[3, 6]`\n",
    "\n",
    "Remember, recursion needs a base case, and a recursive expression"
   ]
  },
  {
   "cell_type": "code",
   "execution_count": 12,
   "metadata": {},
   "outputs": [
    {
     "data": {
      "text/plain": [
       "[ [ 3, 6 ], [ 3, 6, 9, 12, 15, 18 ] ]"
      ]
     },
     "execution_count": 12,
     "metadata": {},
     "output_type": "execute_result"
    }
   ],
   "source": [
    "function returnMultiplesOf3(a, b, divisibleBy3=false) {\n",
    "    if (!divisibleBy3) a += (rem=a%3) ? 3-rem : 0;\n",
    "    if (a>b) return []\n",
    "    return [a].concat(returnMultiplesOf3(a+3, b ,true));\n",
    "};\n",
    "\n",
    "[ returnMultiplesOf3(1, 6),  // expected (1,  6) -> [3, 6]\n",
    "  returnMultiplesOf3(1,20)]  // expected (1, 20) -> [ 3, 6, 9, 12, 15, 18 ]"
   ]
  },
  {
   "cell_type": "markdown",
   "metadata": {},
   "source": [
    "## Array: zip\n",
    "The Python built in method `zip` takes two iterables and returns an iterator object which contains a series of tuples , each containing elements from each iterable. Write your own implementation of the `zip` function, returning a list of lists."
   ]
  },
  {
   "cell_type": "code",
   "execution_count": 11,
   "metadata": {},
   "outputs": [
    {
     "data": {
      "text/plain": [
       "[ [ [ 0, 5 ], [ 1, 6 ], [ 2, 7 ] ],\n",
       "  [ [ 0, 5 ], [ 1, 6 ], [ 2, 7 ], [ 3, undefined ] ] ]"
      ]
     },
     "execution_count": 11,
     "metadata": {},
     "output_type": "execute_result"
    }
   ],
   "source": [
    "function zip_short(a,b) {\n",
    "  if (a.length<b.length) return a.map((e,i)=>[e,b[i]]);\n",
    "  return b.map((e,i)=>[a[i],e]);\n",
    "};\n",
    "\n",
    "function zip_long(a,b) {\n",
    "  if (a.length>b.length) return a.map((e,i)=>[e,b[i]]);\n",
    "  return b.map((e,i)=>[a[i],e]);\n",
    "};\n",
    "\n",
    "[ zip_short([0, 1, 2, 3], [5, 6, 7]), // expected [(0, 5), (1, 6), (2, 7)]\n",
    "  zip_long([0, 1, 2, 3], [5, 6, 7])]  // expected [(0, 5), (1, 6), (2, 7), (3,undefined)]"
   ]
  },
  {
   "cell_type": "markdown",
   "metadata": {},
   "source": [
    "## String: thousandsSeparator\n",
    "Write a function takes a non-negative number as its only parameter. Convert the number to a string and add commas as a thousands separator."
   ]
  },
  {
   "cell_type": "code",
   "execution_count": 32,
   "metadata": {},
   "outputs": [
    {
     "data": {
      "text/plain": [
       "[ '1',\n",
       "  '1.2',\n",
       "  '12',\n",
       "  '12.3',\n",
       "  '123',\n",
       "  '123.4',\n",
       "  '1,234',\n",
       "  '1,234.5',\n",
       "  '100,000.2',\n",
       "  '1,000,000',\n",
       "  '10,000,000' ]"
      ]
     },
     "execution_count": 32,
     "metadata": {},
     "output_type": "execute_result"
    }
   ],
   "source": [
    "function thousandsSeparator(num, separator=','){\n",
    "    const str = num.toString();\n",
    "    if ((end=str.indexOf('.')) < 0) end=str.length;\n",
    "    let pos = (rem=end%3) ? rem : 3;\n",
    "    let result=str.substring(0,pos);\n",
    "    for (;pos<end; pos+=3) result += separator + str.substring(pos,pos+3);\n",
    "    return result+str.substring(end,str.length);\n",
    "};\n",
    "\n",
    "[ thousandsSeparator(1),        // expected 1\n",
    "  thousandsSeparator(1.2),      // expected 1.2\n",
    "  thousandsSeparator(12),       // expected 12\n",
    "  thousandsSeparator(12.3),     // expected 12.3\n",
    "  thousandsSeparator(123),      // expected 123\n",
    "  thousandsSeparator(123.4),    // expected 123.4\n",
    "  thousandsSeparator(1234),     // expected 1,234\n",
    "  thousandsSeparator(1234.5),   // expected 1,234.5\n",
    "  thousandsSeparator(100000.2), // expected 100,000.1\n",
    "  thousandsSeparator(1000000),  // expected 1,000,000\n",
    "  thousandsSeparator(10000000)] // expected 10,000,000"
   ]
  },
  {
   "cell_type": "markdown",
   "metadata": {},
   "source": [
    "## Array: listXor\n",
    "Write a function that take three parameters: `n`, `list1` and `list2`.\n",
    "Your function must return whether `n` is exclusively in `list1` or `list2`.\n",
    "For example:  if `n` is in both lists or in none of the lists, return `False`. If `n` is in only one of the lists, return `True`"
   ]
  },
  {
   "cell_type": "code",
   "execution_count": 4,
   "metadata": {},
   "outputs": [
    {
     "data": {
      "text/plain": [
       "[ true, true, false, false ]"
      ]
     },
     "execution_count": 4,
     "metadata": {},
     "output_type": "execute_result"
    }
   ],
   "source": [
    "function listXor(n, list1, list2){\n",
    "    return list1.indexOf(n)<0 != list2.indexOf(n)<0;\n",
    "}\n",
    "\n",
    "[ listXor(1, [1, 2, 3], [4, 5, 6]),  // expected True\n",
    "  listXor(1, [0, 2, 3], [1, 5, 6]),  // expected True\n",
    "  listXor(1, [1, 2, 3], [1, 5, 6]),  // expected False\n",
    "  listXor(1, [0, 0, 0], [4, 5, 6])]  // expected False"
   ]
  },
  {
   "cell_type": "markdown",
   "metadata": {},
   "source": [
    "## Array: \n",
    "Given a function, return the number of arguments that are integers.\n",
    "\n",
    "Purpose:\n",
    "* learn about the `arguments`  keyword in JavaScript\n",
    "* learn about  `*args`  in python\n",
    "* learn about the `typeof`  / `type()`  operator in js / python\n",
    "\n",
    "Reading:\n",
    "* `arguments`: https://developer.mozilla.org/en-US/docs/Web/JavaScript/Reference/Functions/arguments\n",
    "* `*args`:  https://realpython.com/python-kwargs-and-args/\n",
    "\n",
    "Rules:\n",
    "* You must not alter the parameter list (if any),\n",
    "* you must use the correct `arguments` / `*args` keyword\n",
    "* you must use the `typeof` / `type` operator"
   ]
  },
  {
   "cell_type": "code",
   "execution_count": 10,
   "metadata": {},
   "outputs": [
    {
     "data": {
      "text/plain": [
       "[ 2 ]"
      ]
     },
     "execution_count": 10,
     "metadata": {},
     "output_type": "execute_result"
    }
   ],
   "source": [
    "function countValidIntegers() {\n",
    "    let count=0;\n",
    "    for (let i=0;i<arguments.length;i++) \n",
    "        if (typeof(arguments[i])=='number' && arguments[i]==Math.trunc(arguments[i])) \n",
    "            count++;\n",
    "    return count;\n",
    "}\n",
    "\n",
    "[ countValidIntegers('sean', 2, 'anthony', 4)]  // expected 2"
   ]
  },
  {
   "cell_type": "markdown",
   "metadata": {},
   "source": [
    "## Number: leastCommonMultiple\n",
    "Write a function that returns the [smallest common multiple](https://en.wikipedia.org/wiki/Least_common_multiple) of the given range.\n",
    "the function takes a 2 element array for the range min and max values and outputs LCM."
   ]
  },
  {
   "cell_type": "code",
   "execution_count": 2,
   "metadata": {},
   "outputs": [
    {
     "data": {
      "text/plain": [
       "[ 60, 60, 2520, 360360, 6056820 ]"
      ]
     },
     "execution_count": 2,
     "metadata": {},
     "output_type": "execute_result"
    }
   ],
   "source": [
    "function leastCommonMultiple(arr) {\n",
    "    const gcd = (a,b) => {while(b) [a,b] = [b, a%b]; return a;}\n",
    "    if (arr[0]>arr[1])\n",
    "        [arr[0], arr[1]]=[arr[1], arr[0]];\n",
    "    let lcm=arr[0];\n",
    "    for (let i=arr[0]+1; i<=arr[1]; i++) \n",
    "        lcm = lcm*i / gcd(lcm,i);\n",
    "    return lcm;\n",
    "};\n",
    "\n",
    "[ smallestCommonMultiple([1, 5]),    // expected 60\n",
    "  smallestCommonMultiple([5, 1]),    // expected 60\n",
    "  smallestCommonMultiple([2, 10]),   // expected 2520\n",
    "  smallestCommonMultiple([1, 13]),   // expected 360360\n",
    "  smallestCommonMultiple([23, 18])]  // expected 6056820"
   ]
  },
  {
   "cell_type": "markdown",
   "metadata": {},
   "source": [
    "## Number: findWater\n",
    "If you have `X` litres of water, how much water will be contained in the j-th glass in the  i-th row?\n",
    "\n",
    "Description:\n",
    "There are some glasses with equal capacity of 1 litre each. The glasses are kept as follows: \n",
    "```\n",
    "                   1\n",
    "                 2   3\n",
    "              4    5    6\n",
    "            7    8    9   10\n",
    "```\n",
    "You can only put water in the top glass.\n",
    "If you put more than 1-litre of water in the 1st glass, then water overflows and equally fills both the 2nd and 3rd glasses.\n",
    "Glass 5 will get water from both the 2nd glass and 3rd glass and so on .... \n",
    "\n",
    "Example. If `X`=`2` litres. \n",
    "* 1st glass – 1 litre \n",
    "* 2nd glass – 1/2 litre \n",
    "* 3rd glass – 1/2 litre"
   ]
  },
  {
   "cell_type": "code",
   "execution_count": 37,
   "metadata": {},
   "outputs": [
    {
     "data": {
      "text/plain": [
       "[ 0.5, 0.0625, 1 ]"
      ]
     },
     "execution_count": 37,
     "metadata": {},
     "output_type": "execute_result"
    }
   ],
   "source": [
    "function findWater(i, j, waterToPour, capacity=1){\n",
    "    if (j > i) return None;\n",
    "    const glasses = Array(i).fill(0);\n",
    "    let row, col;\n",
    "    for (row=0;row<i;row++)\n",
    "        for (col=0;col<=row;col++){\n",
    "            if (glasses[col]>=capacity) glasses[col]-=capacity;\n",
    "            [waterToPour, glasses[col] ] = [glasses[col]/2, waterToPour+glasses[col]/2];\n",
    "        }\n",
    "    return (glasses[j-1]<capacity) ? glasses[j-1] : capacity;\n",
    "}\n",
    "\n",
    "[ findWater(2, 2, 2.0),  // expected 0.5\n",
    "  findWater(4, 1, 7.5),  // expected 0.0625\n",
    "  findWater(3, 3, 14.2)] // expected 1"
   ]
  },
  {
   "cell_type": "markdown",
   "metadata": {},
   "source": [
    "## Set: symmetricDifference\n",
    "Write a function/s that takes two or more arrays and returns an array of their symmetric difference. The returned array must contain only unique values (no duplicates).\n",
    "\n",
    "With 2 sets:\n",
    "\n",
    "The mathematical term symmetric difference `△` or `⊕` of two sets is the set of elements which are in either of the two sets but not in both.\n",
    "\n",
    "For example, for sets `A` = `{1, 2, 3}` and `B` = `{2, 3, 4}`, `A △ B` = `{1, 4}`.\n",
    "\n",
    "With 3 sets or more:\n",
    "\n",
    "To evaluate an expression involving symmetric differences among three elements (A △ B △ C), you must complete one operation at a time.\n",
    "\n",
    "Thus, for sets `A` = `{1, 2, 3}` ,`B` = `{2, 3, 4}`,  C = `{2, 3}`.  `->` `A △ B △ C` = (`A △ B) △ C` = `{1, 4} △ {2, 3}` = `{1, 2, 3, 4}`"
   ]
  },
  {
   "cell_type": "code",
   "execution_count": 32,
   "metadata": {},
   "outputs": [
    {
     "data": {
      "text/plain": [
       "[ [ 3, 5, 4 ], [ 1, 5 ], [ 1, 5, 7, 9 ] ]"
      ]
     },
     "execution_count": 32,
     "metadata": {},
     "output_type": "execute_result"
    }
   ],
   "source": [
    "function symmetricDifference(...args) {\n",
    "    return [...args.reduce((c,arr,i)=>[...new Set(arr)].reduce((c,e)=>(c.set(e,-~c.get(e)),c),c),new Map())]\n",
    "        .filter(e=>e[1]==1).map(e=>e[0]);\n",
    "};\n",
    "\n",
    "[ symmetricDifference([1, 2, 3], [5, 2, 1, 4]),                        // expected [ 3, 5, 4 ]\n",
    "  symmetricDifference([1, 2, 3], [2, 3, 4], [3, 4, 5, 5]),             // expected [ 1, 3, 5 ] \n",
    "  symmetricDifference([1, 2, 3], [2, 3, 4], [3, 4, 5, 5], [7, 3, 9])]  // expected [ 1, 5, 7, 9 ]"
   ]
  },
  {
   "cell_type": "markdown",
   "metadata": {},
   "source": [
    "## Closure: runningAverage\n",
    "[Closures Explained](https://medium.com/@prashantramnyc/javascript-closures-simplified-d0d23fa06ba4)\n",
    "\n",
    "Write a function that returns an anonymous (callable) function object. With each subsequent function call, update the series and calculate the current average. Round your output to 2 decimal places.\n",
    "\n",
    "Example:\n",
    "`(10 + 11 + 12 ) / 3 =  11`\n",
    "```javascript\n",
    "runAvg = runningAverage()\n",
    "runAvg(10) = 10.0\n",
    "runAvg(11) = 10.5\n",
    "runAvg(12) = 11\n",
    "```"
   ]
  },
  {
   "cell_type": "code",
   "execution_count": 11,
   "metadata": {},
   "outputs": [
    {
     "data": {
      "text/plain": [
       "[ 10, 16.5, 13.33, 14 ]"
      ]
     },
     "execution_count": 11,
     "metadata": {},
     "output_type": "execute_result"
    }
   ],
   "source": [
    "function runningAverage() {\n",
    "  let sum = count = 0;\n",
    "  return (num, decimals=2)=>Math.round((sum+=num)/++count*10**decimals)/10**decimals;\n",
    "};\n",
    "\n",
    "// -- do not change --\n",
    "var runAvg = runningAverage();\n",
    "\n",
    "[ runAvg(10),\n",
    "  runAvg(23),\n",
    "  runAvg(7),\n",
    "  runAvg(16)]"
   ]
  },
  {
   "cell_type": "code",
   "execution_count": null,
   "metadata": {},
   "outputs": [],
   "source": []
  }
 ],
 "metadata": {
  "kernelspec": {
   "display_name": "Javascript (Node.js)",
   "language": "javascript",
   "name": "javascript"
  },
  "language_info": {
   "file_extension": ".js",
   "mimetype": "application/javascript",
   "name": "javascript",
   "version": "10.13.0"
  }
 },
 "nbformat": 4,
 "nbformat_minor": 4
}
