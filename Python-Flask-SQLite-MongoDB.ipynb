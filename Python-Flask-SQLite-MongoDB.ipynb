{
 "cells": [
  {
   "cell_type": "markdown",
   "metadata": {},
   "source": [
    "- [SQLite](#SQLite)\n",
    "- [MongoDB](#MongoDB)"
   ]
  },
  {
   "cell_type": "markdown",
   "metadata": {},
   "source": [
    "# The Flask Framework\n",
    "\n",
    "First, let's just talk about what a framework is and how it differs from a regular installable package. One way we can explain this is that when you install a package, it plugs into the code that you've already written.\n",
    "You can use as much or as little of that package's functionality as you need. A framework, however, inverts that control.\n",
    "\n",
    "In a framework, most of the code is already written, and you have to plug your code into it. We could use as an example, building a prefabricated timber-framed house. You order the package pre-constructed and build the framework. It provides the basic structure, but you can still customize it within reason. This allows us to put up a building very quickly with minimal work.\n",
    "\n",
    "Web frameworks are similar. They are designed to do much of the heavy lifting for us. They provide the framework, the structure, and allow us to create powerful web applications quickly, but still customized to our individual needs.\n",
    "\n",
    "The Flask framework, which we're going to look at in our next few videos, is a web-based framework using Python that actually began life as an April Fool's joke back in 2010.\n",
    "Since then, it's become one of the most popular and widely supported frameworks within the Python community.\n",
    "Flask is what's known as a micro-framework.\n",
    "It allows us to get up and running building websites with minimal Python code.\n",
    "We often say with micro-frameworks however, that batteries aren't included, which means that we don't get a lot of features out of the box, like we would with a larger framework such as Django for instance.\n",
    "Flask doesn't come with a default database engine, but the appeal of it, is its simplicity.\n",
    "There are also many extensions we could install that provide the functionality of the larger frameworks.\n",
    "\n",
    "Make sure to join the `#template-ninjas` channel on Slack! Catapult your learning of the template languages by joining this channel!\n",
    "\n",
    "The `#template-ninjas` channel is dedicated to all things related to templating languages, which you will be using a lot of as you start using Flask and in the remainder of the course to help you get your data onto the screen."
   ]
  },
  {
   "cell_type": "markdown",
   "metadata": {},
   "source": [
    "### The Integrated Development Environment\n",
    "![ide.png](./img/ide.png)"
   ]
  },
  {
   "cell_type": "markdown",
   "metadata": {},
   "source": [
    "### GitPod access\n",
    "Every free Gitpod account has unlimited workspaces and 100 hours of usage per month. Our Gitpod team will give you unlimited hours. If you'd like to join the team, please contact **Student Care** or make a request in the `#gitpod` channel on Slack.\n",
    "\n",
    "### Start a new GitHub repository with CI's GitPod template\n",
    "1. go to the link [Gitpod Full Template](https://github.com/Code-Institute-Org/gitpod-full-template)\n",
    "2. click on `Use this template` button, give a name to the new repository\n",
    "3. click on `GitPod` button inside the new repository - this will start and initialize the GitPod environment\n",
    "\n",
    "As there is now a choice of editors, you must change your default editor from Theia to VSCode in your Gitpod settings. Here’s how to do it:\n",
    "1. Go to https://gitpod.io/workspaces\n",
    "2. Click on your avatar in the top right\n",
    "3. Click on `Settings`\n",
    "4. Change the preferred editor to `VSCode`"
   ]
  },
  {
   "cell_type": "markdown",
   "metadata": {},
   "source": [
    "Our project will always be located in `/home/ubuntu/workspace`. This means that if you ever find yourself inside of a folder and you don't how to get back, you will always be able to use `cd /home/ubuntu/workspace` to find your way back."
   ]
  },
  {
   "cell_type": "markdown",
   "metadata": {},
   "source": [
    "### useful terminal commands\n",
    "* command history: `history`\n",
    "  * start the `i`th command: `!<i>`\n",
    "* clear terminal content: `clear`\n",
    "* create a file: `touch <filename>`\n",
    "* delete a file: `rm <filename>`\n",
    "* create a new folder: `mkdir <new dir>`\n",
    "* copy a file: `cp <source file> <target>`\n",
    "* move a file: `mv <source file> <target>`\n",
    "* remove a folder: `rm -rf <dir>`\n",
    "* text editor: `nano <file>`\n",
    "  * Save file `^x`\n",
    "* print file content: `cat <file>`\n",
    "* compare file content: `diff <file1. <file2>`"
   ]
  },
  {
   "cell_type": "markdown",
   "metadata": {},
   "source": [
    "### [Emmet cheat sheet](https://docs.emmet.io/cheat-sheet/)"
   ]
  },
  {
   "cell_type": "markdown",
   "metadata": {},
   "source": [
    "### Start webserver in GitPod\n",
    "1. Type in the terminal\n",
    "```bash\n",
    "python -m http.server\n",
    "Serving HTTP on 0.0.0.0 port 8000 (http://0.0.0.0:8000/) ...\n",
    "```\n",
    "2. Click the `Expose` button in the pop-up\n",
    "3. click on `Open Browser`\n",
    "\n",
    "stop webserver: `Ctrl`+`c`\n",
    "```bash\n",
    "^C\n",
    "Keyboard interrupt received, exiting.\n",
    "```\n",
    "\n",
    "### Running a Flask Project\n",
    "1. Type in the terminal\n",
    "```bash\n",
    "python app.py\n",
    "```\n",
    "2. Click the `Expose` button in the pop-up\n",
    "3. click on `Open Browser`\n",
    "\n",
    "### Running a Django Project\n",
    "1. Type in the terminal\n",
    "```bash\n",
    "python manage.py runserver\n",
    "```\n",
    "2. Click the `Expose` button in the pop-up\n",
    "3. click on `Open Browser`\n",
    "\n",
    "Django will automatically create a new folder in your directory. Alternatively (and to avoid a few headaches), you can rename the outer folder, drag the files and folder that is inside to the outer directory. Then delete the folder we renamed."
   ]
  },
  {
   "cell_type": "markdown",
   "metadata": {},
   "source": [
    "### Set an environment variable on GitPod\n",
    "1. Click on your Avatar icon when you’re at the `gitpod.io/workspaces` page\n",
    "2. Click on `Environment Variables`\n",
    "3. Click `Add Variable`\n",
    "4. Supply the variable name (e.g. MONGO_URI), the value and specify which workspace it refers to (this is the repository name)\n",
    "\n",
    "### Set an environment variable on Win10\n",
    "1. Click on Start icon\n",
    "2. Start typing `env`, click on *Edit environment variables for your account*\n",
    "3. Click on `New`\n",
    "4. Supply the variable name (e.g. MONGO_URI) and value (e.g. which workspace it refers to)\n",
    "\n",
    "### Set an environment variable with the main python program\n",
    "1. create file `env.py` into the root of your project folder\n",
    "2. write into the file e.g.\n",
    "```python\n",
    "import os\n",
    "os.environ.setdefault(\"FLASK_DEBUG\",\"True\")\n",
    "```\n",
    "3. write into your main python file, e.g. into `run.py`, right after the `import`s:\n",
    "\n",
    "```python\n",
    "import os\n",
    "if os.path.exists(\"env.py\"):\n",
    "    import env\n",
    "```\n",
    "\n",
    "4. Used the environment variable's value, e.g.\n",
    "\n",
    "```python\n",
    "if __name__ == \"__main__\":\n",
    "    app.run(\n",
    "        debug = True if os.environ.get(\"FLASK_DEBUG\", '').lower() == 'true' else False)\n",
    "```\n",
    "5. exclude the `env.py` file from `git` tracking by adding the file name `env.py` to file `.gitignore`\n",
    "\n",
    "### Set an environment variable in a Heroku app\n",
    "1. go to `https://dashboard.heroku.com/apps/`\n",
    "2. click on the app\n",
    "3. click on `Settings`\n",
    "4. go to section `Config Vars`\n",
    "5. click on `Reveal Config Vars`\n",
    "6. enter Key:Value pairs, e.g. `FLASK_DEBUG` : `True`"
   ]
  },
  {
   "cell_type": "markdown",
   "metadata": {},
   "source": [
    "### Check Python's version on Linux\n",
    "```bash\n",
    "$ which python\n",
    "/home/gitpod/.pyenv/shims/python\n",
    "$ ls /home/gitpod/.pyenv/shims/ | grep python\n",
    "ipython\n",
    "ipython3\n",
    "python\n",
    "python3\n",
    "python3.8\n",
    "python3.8-config\n",
    "python3.8-gdb.py\n",
    "python3-config\n",
    "python-config\n",
    "```"
   ]
  },
  {
   "cell_type": "markdown",
   "metadata": {},
   "source": [
    "### Python Package Index: [PYPI.org](https://PYPI.org)\n",
    "### Install Flask\n",
    "```bash\n",
    "$ pip install flask\n",
    "Collecting flask\n",
    "  Downloading Flask-1.1.2-py2.py3-none-any.whl (94 kB)\n",
    "     |████████████████████████████████| 94 kB 3.3 MB/s \n",
    "Collecting Werkzeug>=0.15\n",
    "  Downloading Werkzeug-1.0.1-py2.py3-none-any.whl (298 kB)\n",
    "     |████████████████████████████████| 298 kB 21.3 MB/s \n",
    "Collecting click>=5.1\n",
    "  Downloading click-7.1.2-py2.py3-none-any.whl (82 kB)\n",
    "     |████████████████████████████████| 82 kB 2.1 MB/s \n",
    "Collecting itsdangerous>=0.24\n",
    "  Downloading itsdangerous-1.1.0-py2.py3-none-any.whl (16 kB)\n",
    "Requirement already satisfied: Jinja2>=2.10.1 in /home/gitpod/.pyenv/versions/3.8.8/lib/python3.8/site-packages (from flask) (2.11.3)\n",
    "Requirement already satisfied: MarkupSafe>=0.23 in /home/gitpod/.pyenv/versions/3.8.8/lib/python3.8/site-packages (from Jinja2>=2.10.1->flask) (1.1.1)\n",
    "Installing collected packages: Werkzeug, itsdangerous, click, flask\n",
    "Successfully installed Werkzeug-1.0.1 click-7.1.2 flask-1.1.2 itsdangerous-1.1.0\n",
    "```"
   ]
  },
  {
   "cell_type": "markdown",
   "metadata": {},
   "source": [
    "## What will we be using Flask for?\n",
    "We're going to use Flask throughout this lesson to run a Python server-side project. We will serve HTML files from our server, and we'll use the Jinja templating language to write logic inside of our HTML templates, which allows us to use Python for-loops, if-statements, and also inheritance. We'll also learn how to submit forms, which will allow us to take data from the client and display it on the server.\n",
    "![flask-usage.png](./img/flask-usage.png)\n",
    "The learning outcomes for this lesson include:\n",
    "* Creating and running a Flask application.\n",
    "* Serving HTML, CSS, and JavaScript files from the backend.\n",
    "* How to make our code reusable by using template logic.\n",
    "* How to post data from HTML forms.\n",
    "* And how to deploy our project using a platform called Heroku so that it's served externally for all the world to see."
   ]
  },
  {
   "cell_type": "markdown",
   "metadata": {},
   "source": [
    "https://github.com/ruszkipista/CI10-thorin"
   ]
  },
  {
   "cell_type": "markdown",
   "metadata": {},
   "source": [
    "## Hello World! in Flask"
   ]
  },
  {
   "cell_type": "markdown",
   "metadata": {},
   "source": [
    "```python\n",
    "import os\n",
    "from flask import Flask\n",
    "\n",
    "# name of the application module or package (=\"__main__\")\n",
    "# where should Flask look for templates and static files\n",
    "app = Flask(__name__) \n",
    "\n",
    "@app.route(\"/\")  # trigger point through webserver: \"/\"= root directory\n",
    "def index():\n",
    "    return \"Hello, World\"\n",
    "\n",
    "# script runs as main, not as imported code\n",
    "if __name__ == \" __main__\":\n",
    "    app.run(\n",
    "        host=os.environ.get(\"IP\", \"127.0.0.1\"),  #get value or use given default\n",
    "        # this PORT is mandatory to read for Heroku deployment\n",
    "        port=int(os.environ.get(\"PORT\", \"8080\")),#get value or use given default\n",
    "        debug=True)         # allow debugging, only for development phase\n",
    "```"
   ]
  },
  {
   "cell_type": "markdown",
   "metadata": {},
   "source": [
    "Run the application from terminal:\n",
    "```bash\n",
    "$ python run.py\n",
    " * Serving Flask app \"run\" (lazy loading)\n",
    " * Environment: production\n",
    "   WARNING: This is a development server. Do not use it in a production deployment.\n",
    "   Use a production WSGI server instead.\n",
    " * Debug mode: on\n",
    " * Restarting with windowsapi reloader\n",
    " * Debugger is active!\n",
    " * Debugger PIN: 157-968-760\n",
    " * Running on http://127.0.0.1:8080/ (Press CTRL+C to quit)\n",
    "127.0.0.1 - - [08/Apr/2021 22:04:09] \"←[37mGET / HTTP/1.1←[0m\" 200 -\n",
    "```\n",
    "\n",
    "Result in the browser:\n",
    "![flask+hello-world.png](./img/flask+hello-world.png)"
   ]
  },
  {
   "cell_type": "markdown",
   "metadata": {},
   "source": [
    "We can serve HTML code from Flask, see the following example:\n",
    "```python\n",
    "@app.route(\"/\")\n",
    "def index():\n",
    "    return \"<h1>Hello,</h1> <h2>World</h2>\"\n",
    "```\n",
    "Result in the browser:\n",
    "![flask+hello-world+tags.png](./img/flask+hello-world+tags.png)"
   ]
  },
  {
   "cell_type": "markdown",
   "metadata": {},
   "source": [
    "This is useful, but at the same time, we don't want to have to type all of our content into a Python file. That would make things extremely complicated. What we can do to get around this, is to import the `render_template` function from `Flask`.\n",
    "Then, instead of returning text, we return `render_template(\"index.html\")`.\n",
    "\n",
    "```python\n",
    "import os\n",
    "from flask import Flask, render_template\n",
    "\n",
    "app = Flask(__name__) \n",
    "\n",
    "@app.route(\"/\")\n",
    "def index():\n",
    "    return render_template(\"index.html\")\n",
    "```\n",
    "Where does Flask find this `index.html` file? Well, `Flask` expects it to be in the directory called `templates`, which should be at the same level as our `run.py` file. The content of `./templates/index.html` could be like\n",
    "```html\n",
    "<!DOCTYPE html>\n",
    "<html lang=\"en\">\n",
    "\n",
    "<head>\n",
    "    <meta charset=\"UTF-8\">\n",
    "    <meta http-equiv=\"X-UA-Compatible\" content=\"IE=edge\">\n",
    "    <meta name=\"viewport\" content=\"width=device-width, initial-scale=1.0\">\n",
    "    <title>Hello Flask</title>\n",
    "</head>\n",
    "\n",
    "<body>\n",
    "    <h1>Hello,</h1>\n",
    "    <h2>World</h2>\n",
    "</body>\n",
    "\n",
    "</html>\n",
    "```\n",
    "We've now seen that Flask can take the contents of an HTML file, and render it to the screen for us. This is much more useful than typing our HTML code into the python function. That's how Flask and other templatate frameworks work.\n",
    "\n",
    "Next, we are going to have a look at how Flask handles routing, so that we can render different templates depending on what link is clicked."
   ]
  },
  {
   "cell_type": "markdown",
   "metadata": {},
   "source": [
    "### Navigation links in template files\n",
    "Assume that we have 2 pages: `index.html` - served by the `index()` function (view) and `about.html` - served by the `about()` function.\n",
    "```python\n",
    "@app.route(\"/\")\n",
    "def index():\n",
    "    return render_template(\"index.html\")\n",
    "\n",
    "@app.route(\"/about\")\n",
    "def about():\n",
    "    return render_template(\"about.html\")\n",
    "```\n",
    "The we need to have both files `./templates/index.html` and `./templates/about.html` available. For example, the `<body>` could have the following content in `index.html`:\n",
    "```html\n",
    "<body>\n",
    "    <nav>\n",
    "        <ul>\n",
    "            <li><a href=\"{{ url_for('index') }}\">Home</a></li>\n",
    "            <li><a href=\"{{ url_for('about') }}\">About</a></li>\n",
    "        </ul>\n",
    "    </nav>\n",
    "    <h1>Home</h1>\n",
    "</body>\n",
    "```\n",
    "In the templates, the internal links need to be generated by the template rendering mechanism, therefore we have the `href=\"{{ url_for(index') }}\"` in place. The `{{`...`}}` tells the renderer in [Jinja](https://jinja.palletsprojects.com/) templating language, that an expression is needed to be evaluated and printed inplace of the enclosed block. The `url_for()` function generates the URL for the given function, in our case for the `index` and `about` views. The `url_for()` can access the corresponding `@app.route()` decorators to assemble the URL for the link reference."
   ]
  },
  {
   "cell_type": "markdown",
   "metadata": {},
   "source": [
    "### Passing variable value into template rendering\n",
    "Remaining at the previous example, we want to provide the page title from outside of the template. we have the `<h1>Home</h1>` and want to generalize the page by giving the `Home` as a parameter to the template. The `run.py` changes a little:\n",
    "```python\n",
    "@app.route(\"/\")\n",
    "def index():\n",
    "    return render_template(\"index.html\", page_title='Home')\n",
    "\n",
    "@app.route(\"/about\")\n",
    "def about():\n",
    "    return render_template(\"about.html\", page_title='About')\n",
    "```\n",
    "Observe, that we added a new argument to the call of `render_template()`, the parameter name `page_title` was our own 'invention', could have named differently.\n",
    "\n",
    "Now we can modify the two template files `index.html` and `about.html`:\n",
    "```html\n",
    "<body>\n",
    "    <nav>\n",
    "        <ul>\n",
    "            <li><a href=\"{{ url_for('index') }}\">Home</a></li>\n",
    "            <li><a href=\"{{ url_for('about') }}\">About</a></li>\n",
    "        </ul>\n",
    "    </nav>\n",
    "    <h1>{{ page_title }}</h1>\n",
    "</body>\n",
    "```\n",
    "We applied the new parameter `page_title` between the `h1` tags by using the `{{`...`}}` jinja template notation. \n",
    "\n",
    "We can realize now that the `index.html` and `about.html` pages are wery much the same the same, all of their differences are externalized."
   ]
  },
  {
   "cell_type": "markdown",
   "metadata": {},
   "source": [
    "### Routing\n",
    "Observe the `@app.route(\"/about\")` decorator. It's main purpose is to associate our `about()` function with an external access point. When the browser querys our website with the `https://<our domain>/about` URL address, the `/about` part of the URL will match the `@app.route(\"/about\")` decorator and the `about()` function gets executed.\n",
    "\n",
    "we can include variable part into the route, which than can be passed into the view function, like this:\n",
    "```python\n",
    "@app.route(\"/about/<member_url>\")\n",
    "def member(member_url):\n",
    "    # load a data file\n",
    "    with open(\"./data/company.json\", \"r\", encoding=\"UTF-8\") as json_data:\n",
    "        # load the whole content of the file\n",
    "        data = json.load(json_data)\n",
    "        # filter the only piece matching the <member_url>\n",
    "        member_data = list(filter(lambda x: x['url']==member_url, data))\n",
    "    return render_template(\"member.html\", member=member_data[0])\n",
    "```\n",
    "\n",
    "The `member_url` parameter's value can be used inside of the called up `member` function. Here we used it to use it as key into a set of data and pick the corresponding piece."
   ]
  },
  {
   "cell_type": "markdown",
   "metadata": {},
   "source": [
    "### Serving files from the `static` folder\n",
    "Why are we using: `{{ url_for('static', filename='css/clean-blog.min.css') }}` instead of just the adress: `static/css/clean-blog.min.css` in the Using a Bootstrap Theme video?\n",
    "\n",
    "In your python program you can reference any folder or file on the server, BUT not in your template HTMLs. The referred images  or code files needs to be \"served\" by your server program.\n",
    "\n",
    "Now there are (at least) 2 served project root folders built into Flask, these are the `templates` and `static` folders. So the `url_for()` Jinja function assembles URLs for routing paths in your python program.\n",
    "\n",
    "e.g. you have this code part in your `run.py` program:\n",
    "```python\n",
    "@app.route(\"/contact\", methods=['GET','POST'])\n",
    "def message():\n",
    "    ....\n",
    "```\n",
    "and you create an HTML template, e.g. `contact.html` with a form\n",
    "```html\n",
    "<form action=\"{{ url_for('message') }}\" method=\"POST\" name=\"sentMessage\">\n",
    "  <label for=\"name\">Name:</label>\n",
    "  <input type=\"text\" id=\"name\" name=\"name\">\n",
    "  ...\n",
    "```\n",
    "Now observe, that the `url_for()` refers to the `message` *endpoint* which is the name of the function in the `run.py` program. I deliberately choose different route path `/contact` to make obvious what is what. So the `url_for('message')` will be evaluated into `/contact` as per the route decorator above `def message():`."
   ]
  },
  {
   "cell_type": "markdown",
   "metadata": {},
   "source": [
    "Now back to the original question:\n",
    "\n",
    "I suppose, that Flask serves from the endpoint `static` as a built-in serving point (or route), which happens to serve from project root folder `/static`. This route could be coded like this:\n",
    "```python\n",
    "from flask import ..., send_from_directory\n",
    "...\n",
    "@app.route(\"/static/<filename>\")\n",
    "def static(filename):\n",
    "    return send_from_directory(\"/static\", filename)\n",
    "```\n",
    "Observe, that the route contains the `filename` variable. In order to serve anything for the `/static` route, you need to specify the `filename` argument as well. Therefore, serving the `clean-blog.min.css` codefile you assemble the following function call in the template:\n",
    "```html\n",
    "url_for('static', filename='css/clean-blog.min.css')`\n",
    "```\n",
    "where `static` endpoint refers to the python function (which we do not see, because it is not in your program, but imported from `flask`, and `filename` which refers to the `filename` variable in the route path above the `static` function (in the decorator)."
   ]
  },
  {
   "cell_type": "markdown",
   "metadata": {},
   "source": [
    "### Serving files from other folder\n",
    "I built a small Flask-SQLite app and added image upload functionality with a gallery of uploaded images. I wanted to place the uploaded images into my `/faces` folder and used \n",
    "```html\n",
    "<img src=\"{{ url_for('faces', filename='my-picture.png') }}\">\n",
    "```\n",
    "in the HTML template.\n",
    "But the image was not displayed on the page, but instead I got error message \"there is no faces endpoint\" - or something similar.\n",
    "\n",
    "If I moved the image into the `/static` folder and used\n",
    "```html\n",
    "<img src=\"{{ url_for('static', filename='my-picture.png') }}\">\n",
    "```\n",
    "then it worked!\n",
    "\n",
    "After googling some, I started to understand the connection between endpoints, routes and folders. So I built this into `run.py`:\n",
    "```python\n",
    "from flask import ..., send_from_directory\n",
    "...\n",
    "@app.route(\"/uploads/<filename_local>\")\n",
    "def myfiles(filename_local):\n",
    "    return send_from_directory(\"/faces\", filename_local)\n",
    "```\n",
    "and Flask started serving my images from the `/faces` folder and the images were displayed with this code in the HTML file:\n",
    "```html\n",
    "<img src=\"{{ url_for('myfiles', filename_local=image_filename) }}\">\n",
    "```\n",
    "where the `image_filename` is an argument at calling the `render_template()` function:\n",
    "```python\n",
    "@app.route(\"/gallery\")\n",
    "def gallery():\n",
    "    return render_template(\"gallery.html\", image_filename=\"my-picture.png\")\n",
    "```"
   ]
  },
  {
   "cell_type": "markdown",
   "metadata": {},
   "source": [
    "### Template Inheritance\n",
    "Templating goes much further than where we are at now. We can pool together the common parts into one template and leave the differring parts separate. The application part in `run.py` does not change:\n",
    "```python\n",
    "@app.route(\"/\")\n",
    "def index():\n",
    "    return render_template(\"index.html\", page_title='Home')\n",
    "\n",
    "@app.route(\"/about\")\n",
    "def about():\n",
    "    return render_template(\"about.html\", page_title='About')\n",
    "```"
   ]
  },
  {
   "cell_type": "markdown",
   "metadata": {},
   "source": [
    "So we create one common template, the `base.html` code:\n",
    "```html\n",
    "<!DOCTYPE html>\n",
    "<html lang=\"en\">\n",
    "<head>\n",
    "    <meta charset=\"UTF-8\">\n",
    "    <meta http-equiv=\"X-UA-Compatible\" content=\"IE=edge\">\n",
    "    <meta name=\"viewport\" content=\"width=device-width, initial-scale=1.0\">\n",
    "    <title>Hello Flask</title>\n",
    "</head>\n",
    "<body>\n",
    "    <nav>\n",
    "        <ul>\n",
    "            <li><a href=\"{{ url_for('index') }}\">Home</a></li>\n",
    "            <li><a href=\"{{ url_for('about') }}\">About</a></li>\n",
    "        </ul>\n",
    "    </nav>\n",
    "   <h1>{{ page_title }}</h1>\n",
    "   {% block content01 %}\n",
    "   {% endblock %}\n",
    "    \n",
    "</body>\n",
    "</html>\n",
    "```\n",
    "See the `{% block content01 %}` `{% endblock %}` placeholder block. By crafting similar block definition in the individual pages, we can customize different content into the same place inside of the `base.html` file."
   ]
  },
  {
   "cell_type": "markdown",
   "metadata": {},
   "source": [
    "The `index.html` file is now much shorter:\n",
    "```html\n",
    "{% extends \"base.html\" %}\n",
    "{% block content01 %}\n",
    "Content for the Home page\n",
    "{% endblock %}\n",
    "```\n",
    "\n",
    "Also the content of `about.html` changes to:\n",
    "```html\n",
    "{% extends \"base.html\" %}\n",
    "{% block content01 %}\n",
    "Content for the About page\n",
    "{% endblock %}\n",
    "```\n",
    "Note, the `content01` block ID is arbitrary, could be anything else.\n",
    "\n",
    "This produces these two linked pages:\n",
    "![flask+home-1.png](./img/flask+home-1.png)\n",
    "![flask+about-1.png](./img/flask+about-1.png)"
   ]
  },
  {
   "cell_type": "markdown",
   "metadata": {},
   "source": [
    "### How does inheritance work?\n",
    "\n",
    "In case of the `About` page, the `run.py` application calls `render_template()`. This loads `about.html`.\n",
    "\n",
    "The `about.html` template starts with loading the main template `base.html`, finds parent reference in `{% extends \"base.html\" %}` and replaces the `content01` block in it with the same block definition from `about.html`."
   ]
  },
  {
   "cell_type": "markdown",
   "metadata": {},
   "source": [
    "## For Loop and If Statement\n",
    "in `run.py`:\n",
    "```python\n",
    "@app.route(\"/count\")\n",
    "def count():\n",
    "    return render_template(\"count.html\", list_of_numbers=[1,2,3,4,5,6,7])\n",
    "```\n",
    "\n",
    "in `count.html`:\n",
    "```html\n",
    "{% for number in list_of_numbers %}\n",
    "  {% if loop.index%2 == 0 %}\n",
    "    <span>{{ number }}</span>\n",
    "  {% endif %}\n",
    "{% endfor %}\n",
    "```\n",
    "\n",
    "prints:\n",
    "![flask-for+loop.png](./img/flask-for+loop.png)"
   ]
  },
  {
   "cell_type": "markdown",
   "metadata": {},
   "source": [
    "* The `{%`...`%}` is a Jinja statement placeholder\n",
    "* `{% for number in list_of_numbers %}` generates a `for` loop, until the matching `{% endfor %}`\n",
    "* the loop has a generated object `loop`, of which `loop.index` is the pass count variable, this variable starts from `1`!\n",
    "* the `{% if`...`%}`...`{% else %}`...`{% endif %}` works as expected"
   ]
  },
  {
   "cell_type": "markdown",
   "metadata": {},
   "source": [
    "## Handling Forms\n",
    "Let's create a new `Contact` page in the `ryn.py` application\n",
    "\n",
    "```python\n",
    "from flask import Flask, render_template, request, flash\n",
    "if os.path.exists(\"env.py\"):\n",
    "    import env\n",
    "    \n",
    "app = Flask(__name__)\n",
    "app.secret_key = os.environ.get(\"FLASK_FLASH_KEY\")\n",
    "\n",
    "@app.route(\"/contact\", methods=['GET','POST'])\n",
    "def message():\n",
    "    if request.method == 'POST':\n",
    "        flash(f\"Thanks {request.form.get('name')}, we have received your message!\")\n",
    "\n",
    "    return render_template(\"contact.html\", page_title=\"Contact\")\n",
    "```\n",
    "\n",
    "We need to give a key to Flask to encrypt Flash messages within the application. Add this new line to `env.py`:\n",
    "```python\n",
    "os.environ.setdefault(\"FLASK_FLASH_KEY\",\"Secret_Flash_Key\")\n",
    "```\n",
    "The content of key is arbitrary.\n",
    "\n",
    "Further new elements in the code:\n",
    "* importing `request` and `flash` modules\n",
    "* `app.secret_key = ...` tells Flask what secret key to use to encrypt Flash messages\n",
    "* `@app.route(\"/contact\", methods=['GET','POST'])` opens up the route to `POST` requests (besides the default `GET`)\n",
    "* the `request` object is shadowing the requests sent to the application, the `request.method` attribute contains what kind of method were used in the incoming request."
   ]
  },
  {
   "cell_type": "markdown",
   "metadata": {},
   "source": [
    "This is the skeleton of the `contact.html` page:\n",
    "```html\n",
    "{% extends \"base.html\" %}\n",
    "{% block content01 %}\n",
    "<form action=\"{{ url_for('message') }}\" method=\"POST\" name=\"sentMessage\">\n",
    "  <label for=\"name\">Name:</label>\n",
    "  <input type=\"text\" id=\"name\" name=\"name\">\n",
    "  <label for=\"message\">Message:</label>\n",
    "  <textarea id=\"message\" name=\"message\"></textarea>\n",
    "  <button type=\"submit\">Send</button>\n",
    "  {% with messages = get_flashed_messages() %}\n",
    "  {% if messages %}\n",
    "  <ul>\n",
    "      {% for message in messages%}\n",
    "      <li>{{ message }}</li>\n",
    "      {% endfor %}\n",
    "  </ul>\n",
    "  {% endif %}\n",
    "  {% endwith %}\n",
    "</form>\n",
    "{% endblock %}\n",
    "```\n",
    "The form contains `Name` and `Message` input fields. The `Send` button triggers a `POST` request, because we set the `POST` method on the `form` tag.\n",
    "![flask-form-before.png](./img/flask-form-before.png)"
   ]
  },
  {
   "cell_type": "markdown",
   "metadata": {},
   "source": [
    "The form content is sent back to the application and caught with the `/contact` route, because in the `form`/`action` the `url_for('message')` translates to `/contact` - the `message` function's route string. The `request.form` property contains the content of the whole form, the value entered into the `Name` and `Message` fields.\n",
    "\n",
    "Upon processing the incoming `POST` request, we generate a one time use `flash` message to give feedback to the user. When we regenerate the `Contact` page, the feedback message is baked into the page's code. We have to assume, that there could be several messages to display, so we use a loop to go over them.\n",
    "![flask-form-after.png](./img/flask-form-after.png)\n",
    "The refresh of the `Contact` page will make the feedback message disappear, because the flash messages are one time use only."
   ]
  },
  {
   "cell_type": "markdown",
   "metadata": {},
   "source": [
    "## Getting Started on Heroku with Python\n",
    "The tutorial assumes that you have:\n",
    "* a free Heroku account.\n",
    "* Python version 3.9 installed locally - see the installation guides for OS X, Windows, and Linux."
   ]
  },
  {
   "cell_type": "markdown",
   "metadata": {},
   "source": [
    "### Create a python local virtual environment for your project\n",
    "```bash\n",
    "$ cd myproject\n",
    "$ python3 -m venv venv\n",
    "```\n",
    "### Activate the environment\n",
    "Before you work on your project, activate the corresponding environment:\n",
    "```bash\n",
    "> venv\\Scripts\\activate\n",
    "```\n",
    "Your shell prompt will change to show the name of the activated environment.\n",
    "\n",
    "### Exclude the virtual environment from `git`\n",
    "add `venv/` to the local `.gitignore` file"
   ]
  },
  {
   "cell_type": "markdown",
   "metadata": {},
   "source": [
    "### Set up Heroku Command Line Interface\n",
    "In this step you’ll install the Heroku Command Line Interface (CLI). You use the CLI to manage and scale your applications, provision add-ons, view your application logs, and run your application locally.\n",
    "https://devcenter.heroku.com/articles/getting-started-with-python#set-up\n",
    "\n",
    "Once installed, you can use the heroku command from your command shell.\n",
    "\n",
    "On Windows, start the Command Prompt (cmd.exe) or Powershell to access the command shell.\n",
    "Use the heroku login command to log in to the Heroku CLI:\n",
    "```bash\n",
    "heroku login\n",
    "heroku: Press any key to open up the browser to login or q to exit\n",
    " ›   Warning: If browser does not open, visit\n",
    " ›   https://cli-auth.heroku.com/auth/browser/***\n",
    "heroku: Waiting for login...\n",
    "Logging in... done\n",
    "Logged in as me@example.com\n",
    "```\n",
    "This command opens your web browser to the Heroku login page. If your browser is already logged in to Heroku, simply click the `Log in` button displayed on the page.\n",
    "\n",
    "This authentication is required for both the `heroku` and `git` commands to work correctly."
   ]
  },
  {
   "cell_type": "markdown",
   "metadata": {},
   "source": [
    "### Create a heroku app on the heroku website\n",
    "go to https://dashboard.heroku.com/apps/\n",
    "create a new app, e.g. `my-app`, assign to `EU` region"
   ]
  },
  {
   "cell_type": "markdown",
   "metadata": {},
   "source": [
    "### Check remote targets within `git`\n",
    "```bash\n",
    "$ git remote -v\n",
    "origin   https://github.com/my_name/my_project.git (fetch)\n",
    "origin   https://github.com/my_name/my_project.git (push)\n",
    "```\n",
    "get the heroku git URL from the heroku app settings, like `https://git.heroku.com/my-app.git`"
   ]
  },
  {
   "cell_type": "markdown",
   "metadata": {},
   "source": [
    "### Add new heroku remote target to `git`\n",
    "```bash\n",
    "$ git remote add heroku https://git.heroku.com/my-app.git\n",
    "```\n",
    "List again the remote `git` targets:\n",
    "```bash\n",
    "$ git remote -v\n",
    "origin   https://github.com/my_name/my_project.git (fetch)\n",
    "origin   https://github.com/my_name/my_project.git (push)\n",
    "heroku   https://git.heroku.com/my-app.git (fetch)\n",
    "heroku   https://git.heroku.com/my-app.git (push)\n",
    "```"
   ]
  },
  {
   "cell_type": "markdown",
   "metadata": {},
   "source": [
    "### check installed Python packages\n",
    "```bash\n",
    "$ pip freeze\n",
    "click==7.1.2\n",
    "Flask==1.1.2\n",
    "itsdangerous==1.1.0\n",
    "Werkzeug==1.0.1\n",
    "```\n",
    "### create a requirements file\n",
    "```bash\n",
    "$ pip freeze --local > requirements.txt\n",
    "```\n",
    "### install dependencies using a requirements file\n",
    "```bash\n",
    "$ pip install -r requirements.txt\n",
    "```"
   ]
  },
  {
   "cell_type": "markdown",
   "metadata": {},
   "source": [
    "### Define a `Procfile`\n",
    "Use a [Procfile](https://devcenter.heroku.com/articles/procfile), a text file in the root directory of your application, to explicitly declare what command should be executed to start your app.\n",
    "\n",
    "The `Procfile` in the example app you deployed looks like this:\n",
    "\n",
    "    web: python run.py\n",
    "    \n",
    "This declares a single process type, `web`, and the command needed to run it. The name `web` is important here. It declares that this process type will be attached to the HTTP routing stack of Heroku, and receive web traffic when deployed.\n",
    "\n",
    "Procfiles can contain additional process types. For example, you might declare one for a background worker process that processes items off of a queue."
   ]
  },
  {
   "cell_type": "markdown",
   "metadata": {},
   "source": [
    "### Push code to remote heroku (for deployment)\n",
    "```bash\n",
    "$ git push heroku main\n",
    "Enumerating objects: 19, done.\n",
    "Counting objects: 100% (19/19), done.\n",
    "Delta compression using up to 4 threads\n",
    "Compressing objects: 100% (17/17), done.\n",
    "Writing objects: 100% (19/19), 5.01 KiB | 855.00 KiB/s, done.\n",
    "Total 19 (delta 0), reused 8 (delta 0), pack-reused 0\n",
    "remote: Compressing source files... done.\n",
    "remote: Building source:\n",
    "remote: \n",
    "remote: -----> Building on the Heroku-20 stack\n",
    "remote: -----> Determining which buildpack to use for this app\n",
    "remote: -----> Python app detected\n",
    "remote: -----> Installing python-3.9.4\n",
    "remote: -----> Installing pip 20.2.4, setuptools 47.1.1 and wheel 0.36.2\n",
    "remote: -----> Installing SQLite3\n",
    "remote: -----> Installing requirements with pip\n",
    "remote:        Collecting click==7.1.2\n",
    "remote:          Downloading click-7.1.2-py2.py3-none-any.whl (82 kB)\n",
    "remote:        Collecting Flask==1.1.2\n",
    "remote:          Downloading Flask-1.1.2-py2.py3-none-any.whl (94 kB)\n",
    "remote:        Collecting itsdangerous==1.1.0\n",
    "remote:          Downloading itsdangerous-1.1.0-py2.py3-none-any.whl (16 kB)\n",
    "remote:        Collecting Jinja2==2.11.3\n",
    "remote:          Downloading Jinja2-2.11.3-py2.py3-none-any.whl (125 kB)\n",
    "remote:        Collecting MarkupSafe==1.1.1\n",
    "remote:          Downloading MarkupSafe-1.1.1-cp39-cp39-manylinux2010_x86_64.whl (32 kB)\n",
    "remote:        Collecting Werkzeug==1.0.1\n",
    "remote:          Downloading Werkzeug-1.0.1-py2.py3-none-any.whl (298 kB)\n",
    "remote:        Installing collected packages: click, itsdangerous, Werkzeug, MarkupSafe, Jinja2, Flask\n",
    "remote:        Successfully installed Flask-1.1.2 Jinja2-2.11.3 MarkupSafe-1.1.1 Werkzeug-1.0.1 click-7.1.2 itsdangerous-1.1.0\n",
    "remote: -----> Discovering process types\n",
    "remote:        Procfile declares types -> web\n",
    "remote:\n",
    "remote: -----> Compressing...\n",
    "remote:        Done: 52.4M\n",
    "remote: -----> Launching...\n",
    "remote:        Released v3\n",
    "remote:        https://my-app.herokuapp.com/ deployed to Heroku\n",
    "remote:\n",
    "remote: Verifying deploy... done.\n",
    "To https://git.heroku.com/my-app.git\n",
    " * [new branch]      main -> main\n",
    "```\n",
    "The application is now deployed. Ensure that at least one instance of the app is running:\n",
    "```bash\n",
    "heroku ps:scale web=1\n",
    "```\n",
    "Now visit the app at the URL generated by its app name. As a handy shortcut, you can open the website as follows:\n",
    "```bash\n",
    "heroku open\n",
    "```"
   ]
  },
  {
   "cell_type": "markdown",
   "metadata": {},
   "source": [
    "### View logs\n",
    "Heroku treats logs as streams of time-ordered events aggregated from the output streams of all your app and Heroku components, providing a single channel for all of the events.\n",
    "\n",
    "View information about your running app using one of the [logging commands](https://devcenter.heroku.com/articles/logging), `heroku logs --tail`:\n",
    "```bash\n",
    "heroku logs --tail\n",
    "2021-04-13T18:46:40.494918+00:00 app[api]: Initial release by user oi5672@gmail.com\n",
    "2021-04-13T18:46:40.494918+00:00 app[api]: Release v1 created by user oi5672@gmail.com  \n",
    "2021-04-13T18:46:40.714479+00:00 app[api]: Enable Logplex by user oi5672@gmail.com      \n",
    "2021-04-13T18:46:40.714479+00:00 app[api]: Release v2 created by user oi5672@gmail.com  \n",
    "2021-04-13T18:49:21.000000+00:00 app[api]: Build started by user oi5672@gmail.com       \n",
    "2021-04-13T18:49:46.910222+00:00 app[api]: Release v3 created by user oi5672@gmail.com  \n",
    "2021-04-13T18:49:46.910222+00:00 app[api]: Deploy 9d12aa84 by user oi5672@gmail.com     \n",
    "2021-04-13T18:49:46.924529+00:00 app[api]: Scaled to web@1:Free by user oi5672@gmail.com\n",
    "2021-04-13T18:49:51.180104+00:00 heroku[web.1]: Starting process with command `python run.py`\n",
    "2021-04-13T18:49:53.768790+00:00 app[web.1]: * Serving Flask app \"run\" (lazy loading)\n",
    "2021-04-13T18:49:53.768820+00:00 app[web.1]: * Environment: production\n",
    "2021-04-13T18:49:53.768820+00:00 app[web.1]:   WARNING: This is a development server. Do not use it in a production deployment.\n",
    "2021-04-13T18:49:53.768928+00:00 app[web.1]:   Use a production WSGI server instead.\n",
    "2021-04-13T19:00:21.588215+00:00 app[web.1]: * Debug mode: off\n",
    "2021-04-13T19:00:21.592001+00:00 app[web.1]: * Running on http://0.0.0.0:48474/ (Press CTRL+C to quit)\n",
    "2021-04-13T19:00:22.483796+00:00 heroku[web.1]: State changed from starting to up\n",
    "2021-04-13T19:00:23.672489+00:00 heroku[router]: at=info method=GET path=\"/contact\" host=nextbigthing-ci11-ruszkipista.herokuapp.com request_id=79368808-1605-443c-8696-1beb5f96a4df fwd=\"109.76.221.188\" dyno=web.1 connect=0ms service=25ms status=200 bytes=989 protocol=https\n",
    "2021-04-13T19:00:23.672550+00:00 app[web.1]: 10.33.121.21 - - [13/Apr/2021 19:00:23] \"GET /contact HTTP/1.1\" 200 -\n",
    "2021-04-13T19:00:33.069593+00:00 app[web.1]: 10.33.121.21 - - [13/Apr/2021 19:00:33] \"POST /contact HTTP/1.1\" 200 -\n",
    "2021-04-13T19:00:33.074929+00:00 heroku[router]: at=info method=POST path=\"/contact\" host=my-app.herokuapp.com request_id=521520f8-efb0-4a62-b0fb-935b458b84da fwd=\"109.76.221.188\" dyno=web.1 connect=0ms service=9ms status=200 bytes=1163 protocol=https\n",
    "2021-04-13T19:00:41.350821+00:00 app[web.1]: 10.33.121.21 - - [13/Apr/2021 19:00:41] \"GET / HTTP/1.1\" 200 -\n",
    "2021-04-13T19:00:41.351715+00:00 heroku[router]: at=info method=GET path=\"/\" host=my-app.herokuapp.com request_id=3565eae9-1cea-4162-a40a-22ed49966957 fwd=\"109.76.221.188\" dyno=web.1 connect=0ms service=6ms status=200 bytes=747 protocol=https\n",
    "2021-04-13T19:00:43.313583+00:00 app[web.1]: 10.33.121.21 - - [13/Apr/2021 19:00:43] \"GET /about HTTP/1.1\" 200 -\n",
    "2021-04-13T19:00:43.317918+00:00 heroku[router]: at=info method=GET path=\"/about\" host=my-app.herokuapp.com request_id=a14e5a41-7752-43e7-82f9-ebf2bdb02f25 fwd=\"109.76.221.188\" dyno=web.1 connect=0ms service=11ms status=200 bytes=749 protocol=https\n",
    "2021-04-13T19:00:44.412524+00:00 app[web.1]: 10.33.121.21 - - [13/Apr/2021 19:00:44] \"GET /contact HTTP/1.1\" 200 -\n",
    "2021-04-13T19:00:44.413359+00:00 heroku[router]: at=info method=GET path=\"/contact\" host=my-app.herokuapp.com request_id=de3b335f-fb60-4cb2-8a98-f8418bf8dec6 fwd=\"109.76.221.188\" dyno=web.1 connect=1ms service=4ms status=200 bytes=989 protocol=https\n",
    "```\n",
    "Visit your application in the browser again, and you’ll see another log message generated.\n",
    "\n",
    "Press `Control+C` to stop streaming the logs."
   ]
  },
  {
   "cell_type": "markdown",
   "metadata": {},
   "source": [
    "# SQLite\n",
    "## Install SQLite Studio on Win10\n",
    "The following steps will install SQLite and SQLite Studio on your machine\n",
    "1. Download commandline tools from https://www.sqlite.org/download.html\n",
    "e.g. `sqlite-tools-win32-x86-3350400.zip`\n",
    "2. create new folder `sqlite` in folder `C:\\Users\\<username>\\AppData\\Local`\n",
    "3. unzip the 1. file into 2. folder\n",
    "4. add the new 2. folder to local path:\n",
    "- windows / Start / type `env` - click `Edit environment variables for your account`\n",
    "- in the top part double click on `path`, click on `New`\n",
    "- add folder 2\n",
    "The end result will look like this:\n",
    "![sqlite+path.png](./img/sqlite+path.png)\n",
    "5. Go to https://sqlitestudio.pl/, click on `Download`, this downloads a file e.g. `sqlitestudio-3.3.3.zip`\n",
    "6. unzip file 5. into folder 2.\n",
    "7. in folder 2. locate file `SQLiteStudio.exe`, right click on it, and choose `Create shortcut`, drag and drop the newly created shortcut to your desktop"
   ]
  },
  {
   "cell_type": "markdown",
   "metadata": {},
   "source": [
    "## Open the [Chinook](https://github.com/lerocha/chinook-database) database in SQLite Studio\n",
    "1. download the `Chinook_Sqlite.sqlite` database into your project folder from here: https://github.com/lerocha/chinook-database/tree/master/ChinookDatabase/DataSources\n",
    "2. Start SQLStudio / in menu `Database` click on `Add a database`, select file 1., click `OK`\n",
    "you arrive to this status:\n",
    "![sqlite+chinook-closed.png](./img/sqlite+chinook-closed.png)\n",
    "3. double click on the `Chinook` database, the progam opens the database file:\n",
    "![sqlite+chinook-opened.png](./img/sqlite+chinook-opened.png)"
   ]
  },
  {
   "cell_type": "markdown",
   "metadata": {},
   "source": [
    "## Open the Chinook database with `sqlite3` command line\n",
    "1. download the `Chinook_Sqlite.sqlite` database into your project folder from here: https://github.com/lerocha/chinook-database/tree/master/ChinookDatabase/DataSources\n",
    "2. navigate to the file 1. and start a terminal: type `cmd` into the address field and hit enter\n",
    "![sqlite+chinook-terminal.png](./img/sqlite+chinook-terminal.png)\n",
    "3. Open `Chinook.db` with command:\n",
    "```bash\n",
    "sqlite Chinook.sqlite\n",
    "```\n",
    "![sqlite+chinook-open-db.png](./img/sqlite+chinook-open-db.png)\n",
    "\n",
    "Now you arrived to the SQLite command prompt."
   ]
  },
  {
   "cell_type": "markdown",
   "metadata": {},
   "source": [
    "### show DB tables\n",
    "```bash\n",
    "sqlite> .tables\n",
    "```\n",
    "![sqlite+chinook-tables.png](./img/sqlite+chinook-tables.png)"
   ]
  },
  {
   "cell_type": "markdown",
   "metadata": {},
   "source": [
    "## display structure of a table\n",
    "```bash\n",
    "sqlite> .schema Genre\n",
    "```\n",
    "![sqlite+chinook-schema.png](./img/sqlite+chinook-schema.png)"
   ]
  },
  {
   "cell_type": "markdown",
   "metadata": {},
   "source": [
    "## further tutorials on SQLite CLI\n",
    "https://sqlite.org/cli.html\n",
    "\n",
    "https://www.sqlitetutorial.net/\n",
    "\n",
    "to leave the `sqlite>` prompt:\n",
    "```bash\n",
    "sqlite> .exit\n",
    "```"
   ]
  },
  {
   "cell_type": "markdown",
   "metadata": {},
   "source": [
    "[How to run SQL queries from a Jupyter notebook](https://towardsdatascience.com/how-to-run-sql-queries-from-a-jupyter-notebook-aaa18e59e7bc)"
   ]
  },
  {
   "cell_type": "markdown",
   "metadata": {},
   "source": [
    "# Python interface to SQLite databases\n",
    "SQLite is a C library that provides a lightweight disk-based database that doesn’t require a separate server process and allows accessing the database using a nonstandard variant of the SQL query language. Some applications can use SQLite for internal data storage. It’s also possible to prototype an application using SQLite and then port the code to a larger database such as PostgreSQL or Oracle.\n",
    "\n",
    "The `sqlite3` module provides an SQL interface compliant with the DB-API 2.0 specification described by [PEP 249](https://www.python.org/dev/peps/pep-0249).\n",
    "\n",
    "To use the module, you must first create a `Connection` object that represents the database. Here the data will be stored in the `Chinook.sqlite` file:"
   ]
  },
  {
   "cell_type": "code",
   "execution_count": 1,
   "metadata": {},
   "outputs": [],
   "source": [
    "import sqlite3\n",
    "demo_db = './data/Chinook.sqlite'"
   ]
  },
  {
   "cell_type": "code",
   "execution_count": 2,
   "metadata": {},
   "outputs": [],
   "source": [
    "con = sqlite3.connect(demo_db)"
   ]
  },
  {
   "cell_type": "markdown",
   "metadata": {},
   "source": [
    "You can also supply the special name `:memory:` to create a database in RAM.\n",
    "\n",
    "Once you have a `Connection`, you can create a `Cursor` object and call its `execute()` method to perform SQL commands:\n",
    "```python\n",
    "cur = con.cursor()\n",
    "\n",
    "# Create table\n",
    "cur.execute('''CREATE TABLE Office (OfficeId integer, city text)''')\n",
    "\n",
    "# Insert a row of data\n",
    "cur.execute(\"INSERT INTO Office VALUES (1,'Los Angeles')\")\n",
    "\n",
    "# Save (commit) the changes\n",
    "con.commit()\n",
    "\n",
    "# We can also close the connection if we are done with it.\n",
    "# Just be sure any changes have been committed or they will be lost.\n",
    "con.close()\n",
    "```\n",
    "The data you’ve saved is persistent and is available in subsequent sessions."
   ]
  },
  {
   "cell_type": "code",
   "execution_count": 3,
   "metadata": {},
   "outputs": [
    {
     "name": "stdout",
     "output_type": "stream",
     "text": [
      "(1, 'Rock')\n"
     ]
    }
   ],
   "source": [
    "cur = con.cursor()\n",
    "\n",
    "cur.execute(\"SELECT * FROM Genre\")\n",
    "print(cur.fetchone())"
   ]
  },
  {
   "cell_type": "markdown",
   "metadata": {},
   "source": [
    "Usually your SQL operations will need to use values from Python variables. You shouldn’t assemble your query using Python’s string operations because doing so is insecure; it makes your program vulnerable to an SQL injection attack (see https://xkcd.com/327/ for humorous example of what can go wrong).\n",
    "\n",
    "Instead, use the DB-API’s parameter substitution. Put `?` as a placeholder wherever you want to use a value, and then provide a tuple of values as the second argument to the cursor’s `execute()` method:"
   ]
  },
  {
   "cell_type": "code",
   "execution_count": 4,
   "metadata": {},
   "outputs": [
    {
     "name": "stdout",
     "output_type": "stream",
     "text": [
      "[('Alternative & Punk',), ('Soundtrack',), ('Science Fiction',), ('Sci Fi & Fantasy',), ('Alternative',)]\n"
     ]
    }
   ],
   "source": [
    "patterns = ('S%','A%') # Tuple parameter for execute\n",
    "cur.execute(\"SELECT Name FROM Genre WHERE Name LIKE ? OR Name LIKE ?\", patterns)\n",
    "print(cur.fetchall())"
   ]
  },
  {
   "cell_type": "markdown",
   "metadata": {},
   "source": [
    "To retrieve data after executing a `SELECT` statement, you can either call the cursor’s `fetchone()` method to retrieve a single matching row, or call `fetchall()` to get a list of the matching (remining) rows or treat the cursor as an iterator.\n",
    "\n",
    "This example uses the iterator form:"
   ]
  },
  {
   "cell_type": "code",
   "execution_count": 5,
   "metadata": {
    "scrolled": true
   },
   "outputs": [
    {
     "name": "stdout",
     "output_type": "stream",
     "text": [
      "(1, 'Rock')\n",
      "(2, 'Jazz')\n",
      "(3, 'Metal')\n",
      "(4, 'Alternative & Punk')\n",
      "(5, 'Rock And Roll')\n",
      "(6, 'Blues')\n",
      "(7, 'Latin')\n",
      "(8, 'Reggae')\n",
      "(9, 'Pop')\n",
      "(10, 'Soundtrack')\n",
      "(11, 'Bossa Nova')\n",
      "(12, 'Easy Listening')\n",
      "(13, 'Heavy Metal')\n",
      "(14, 'R&B/Soul')\n",
      "(15, 'Electronica/Dance')\n",
      "(16, 'World')\n",
      "(17, 'Hip Hop/Rap')\n",
      "(18, 'Science Fiction')\n",
      "(19, 'TV Shows')\n",
      "(20, 'Sci Fi & Fantasy')\n",
      "(21, 'Drama')\n",
      "(22, 'Comedy')\n",
      "(23, 'Alternative')\n",
      "(24, 'Classical')\n",
      "(25, 'Opera')\n"
     ]
    }
   ],
   "source": [
    "for row in cur.execute('SELECT * FROM Genre'):\n",
    "        print(row)\n",
    "con.close()"
   ]
  },
  {
   "cell_type": "markdown",
   "metadata": {},
   "source": [
    "## Connecting to SQLite from Python"
   ]
  },
  {
   "cell_type": "code",
   "execution_count": 6,
   "metadata": {},
   "outputs": [
    {
     "name": "stdout",
     "output_type": "stream",
     "text": [
      "[(101, 'Lulu Santos'), (102, 'Marillion'), (103, 'Marisa Monte'), (104, 'Marvin Gaye'), (105, 'Men At Work'), (106, 'Motörhead')]\n"
     ]
    }
   ],
   "source": [
    "try:\n",
    "    # Run a query\n",
    "    with sqlite3.connect(demo_db) as connection:\n",
    "        cursor = connection.cursor()\n",
    "        sql = \"SELECT * FROM Artist;\"\n",
    "        cursor.execute(sql)\n",
    "        result = cursor.fetchall()\n",
    "        print(result[100:106])\n",
    "finally:\n",
    "    # Close the connection, no matter what\n",
    "    connection.close()"
   ]
  },
  {
   "cell_type": "markdown",
   "metadata": {},
   "source": [
    "## Access Columns by Name\n",
    "### Receive rows as dictionary"
   ]
  },
  {
   "cell_type": "code",
   "execution_count": 7,
   "metadata": {},
   "outputs": [
    {
     "name": "stdout",
     "output_type": "stream",
     "text": [
      "[{'ArtistId': 101, 'Name': 'Lulu Santos'}, {'ArtistId': 102, 'Name': 'Marillion'}]\n"
     ]
    }
   ],
   "source": [
    "# row factory: convert tuple into dictionary\n",
    "dict_factory = lambda Conn, Row: { label[0]: Row[i] for i, label in enumerate(Conn.description) }\n",
    "\n",
    "try:\n",
    "    with sqlite3.connect(demo_db) as connection:\n",
    "        connection.row_factory = dict_factory\n",
    "        cursor = connection.cursor()\n",
    "        sql = \"SELECT * FROM Artist;\"\n",
    "        cursor.execute(sql)\n",
    "        result = cursor.fetchall()\n",
    "        print(result[100:102])\n",
    "finally:\n",
    "    connection.close()"
   ]
  },
  {
   "cell_type": "markdown",
   "metadata": {},
   "source": [
    "### Receive rows as built-in `sqlite3.Row` type\n",
    "Row provides both index-based and case-insensitive name-based access to columns with almost no memory overhead. It will probably be better than your own custom dictionary-based approach or even a `db_row` based solution."
   ]
  },
  {
   "cell_type": "code",
   "execution_count": 8,
   "metadata": {},
   "outputs": [
    {
     "name": "stdout",
     "output_type": "stream",
     "text": [
      "101 Lulu Santos\n"
     ]
    }
   ],
   "source": [
    "try:\n",
    "    with sqlite3.connect(demo_db) as connection:\n",
    "        connection.row_factory = sqlite3.Row\n",
    "        cursor = connection.cursor()\n",
    "        sql = \"SELECT * FROM Artist;\"\n",
    "        cursor.execute(sql)\n",
    "        result = cursor.fetchall()\n",
    "        print(\"%(ArtistId)i %(Name)s\" % dict(result[100]))\n",
    "finally:\n",
    "    connection.close()"
   ]
  },
  {
   "cell_type": "markdown",
   "metadata": {},
   "source": [
    "## Create a Table"
   ]
  },
  {
   "cell_type": "code",
   "execution_count": 9,
   "metadata": {},
   "outputs": [
    {
     "name": "stdout",
     "output_type": "stream",
     "text": [
      "Friends\n"
     ]
    }
   ],
   "source": [
    "demo_db = './data/Contacts.sqlite'\n",
    "try:\n",
    "    with sqlite3.connect(demo_db) as connection:\n",
    "        connection.row_factory = sqlite3.Row\n",
    "        cursor = connection.cursor()\n",
    "        cursor.execute(\"\"\"CREATE TABLE IF NOT EXISTS\n",
    "                          Friends(name char(20), age int, DOB datetime);\"\"\")\n",
    "        # Note thet the above displays a warning, that the table does not exist, which is fine\n",
    "        for row in cursor.execute(\"SELECT * FROM sqlite_master WHERE type='table';\"):\n",
    "            print(row['name'])\n",
    "finally:\n",
    "    connection.close()"
   ]
  },
  {
   "cell_type": "markdown",
   "metadata": {},
   "source": [
    "## Insert One or Many rows"
   ]
  },
  {
   "cell_type": "code",
   "execution_count": 10,
   "metadata": {},
   "outputs": [
    {
     "name": "stdout",
     "output_type": "stream",
     "text": [
      "('Victoria', 36, '1980-01-01 14:02:18')\n",
      "('Victoria', 36, '1980-01-01 14:02:18')\n",
      "('Victoria', 36, '1980-01-01 14:02:18')\n",
      "('Bob', 21, '1990-02-06 23:04:56')\n",
      "('Jim', 56, '1955-05-09 13:12:45')\n",
      "('Alice', 21, '2000-01-01 14:02:16')\n",
      "('Jenny', 20, '1999-01-01 14:02:17')\n",
      "('Victoria', 36, '1980-01-01 14:02:18')\n",
      "('Fred', 100, '1911-09-12 01:01:01')\n"
     ]
    }
   ],
   "source": [
    "try:\n",
    "    with sqlite3.connect(demo_db) as connection:\n",
    "        cursor = connection.cursor()\n",
    "        # Insert one row\n",
    "        row = (\"Bob\", 21, \"1990-02-06 23:04:56\")\n",
    "        cursor.execute(\"\"\"INSERT INTO Friends VALUES (?,?,?);\"\"\", row)\n",
    "        # Insert many rows\n",
    "        rows = ((\"Jim\",      56, \"1955-05-09 13:12:45\"),\n",
    "                (\"Alice\",    21, \"2000-01-01 14:02:16\"),\n",
    "                (\"Jenny\",    20, \"1999-01-01 14:02:17\"),\n",
    "                (\"Victoria\", 36, \"1980-01-01 14:02:18\"),\n",
    "                (\"Fred\",    100, \"1911-09-12 01:01:01\"))\n",
    "        cursor.executemany(\"\"\"INSERT INTO Friends VALUES (?,?,?);\"\"\", rows)\n",
    "        connection.commit()\n",
    "        for row in cursor.execute(\"SELECT * FROM Friends;\"):\n",
    "            print(row)\n",
    "finally:\n",
    "    connection.close()"
   ]
  },
  {
   "cell_type": "markdown",
   "metadata": {},
   "source": [
    "## Update One field with One or Many"
   ]
  },
  {
   "cell_type": "code",
   "execution_count": 11,
   "metadata": {},
   "outputs": [
    {
     "name": "stdout",
     "output_type": "stream",
     "text": [
      "('Victoria', 36, '1980-01-01 14:02:18')\n",
      "('Victoria', 36, '1980-01-01 14:02:18')\n",
      "('Victoria', 36, '1980-01-01 14:02:18')\n",
      "('Bob', 23, '1990-02-06 23:04:56')\n",
      "('Jim', 24, '1955-05-09 13:12:45')\n",
      "('Alice', 21, '2000-01-01 14:02:16')\n",
      "('Jenny', 20, '1999-01-01 14:02:17')\n",
      "('Victoria', 36, '1980-01-01 14:02:18')\n",
      "('Fred', 25, '1911-09-12 01:01:01')\n"
     ]
    }
   ],
   "source": [
    "try:\n",
    "    with sqlite3.connect(demo_db) as connection:\n",
    "        cursor = connection.cursor()\n",
    "        # Update one field in matching rows\n",
    "        row = (22,'Bob',)\n",
    "        cursor.execute(\"\"\"UPDATE Friends SET age = ? WHERE name = ?;\"\"\", row)\n",
    "        # Update one field in many matching rows\n",
    "        rows = ((23,'Bob',), (24,'Jim'), (25,'Fred'))\n",
    "        cursor.executemany(\"\"\"UPDATE Friends SET age = ? WHERE name = ?;\"\"\", rows)\n",
    "        connection.commit()\n",
    "        for row in cursor.execute(\"SELECT * FROM Friends;\"):\n",
    "            print(row)\n",
    "finally:\n",
    "    connection.close()"
   ]
  },
  {
   "cell_type": "markdown",
   "metadata": {},
   "source": [
    "## Delete row(s)"
   ]
  },
  {
   "cell_type": "code",
   "execution_count": 12,
   "metadata": {},
   "outputs": [
    {
     "name": "stdout",
     "output_type": "stream",
     "text": [
      "('Victoria', 36, '1980-01-01 14:02:18')\n",
      "('Victoria', 36, '1980-01-01 14:02:18')\n",
      "('Victoria', 36, '1980-01-01 14:02:18')\n",
      "('Victoria', 36, '1980-01-01 14:02:18')\n"
     ]
    }
   ],
   "source": [
    "try:\n",
    "    with sqlite3.connect(demo_db) as connection:\n",
    "        cursor = connection.cursor()\n",
    "        \n",
    "        # Delete row(s) with one criteria\n",
    "        row = ('Bob',)\n",
    "        cursor.execute(\"\"\"DELETE FROM Friends WHERE name = ?;\"\"\", row)\n",
    "        \n",
    "        # Delete row(s) with many criteria\n",
    "        rows = (('Fred',), ('Jim',))\n",
    "        cursor.executemany(\"\"\"DELETE FROM Friends WHERE name = ?;\"\"\", rows)\n",
    "        \n",
    "        # Delete row(s) with IN operator\n",
    "        names = ('Alice','Jenny')\n",
    "        # generate list of question marks\n",
    "        mask = ','.join('?'*len(names))  #SQLite limits this to 32766!\n",
    "        cursor.execute(f\"DELETE FROM Friends WHERE name IN ({mask});\", names)\n",
    "        \n",
    "        connection.commit()\n",
    "        for row in cursor.execute(\"SELECT * FROM Friends;\"):\n",
    "            print(row)\n",
    "finally:\n",
    "    connection.close()"
   ]
  },
  {
   "cell_type": "markdown",
   "metadata": {},
   "source": [
    "# MongoDB"
   ]
  },
  {
   "cell_type": "markdown",
   "metadata": {},
   "source": [
    "## MongoDB via cloud service\n",
    "Go to the following URL: https://www.mongodb.com/cloud/atlas\n",
    "* **Create Cluster:**\n",
    "  - select **Shared Clusters** *(free)*\n",
    "* **Select Cloud Provider:**\n",
    "  - select **Amazon Web Services (AWS)**\n",
    "* **Select Region:**\n",
    "  - select region closest to you *(any of the free choices)*\n",
    "* **Select Cluster Tier:**\n",
    "  - select **M0 Sandbox** *(free forever)*\n",
    "* **Assign Cluster Name:**\n",
    "  - any name *(cannot be changed after creation)*\n",
    "* **Create a Database User:**\n",
    "  - navigate to **Database Access** under *Security* menu\n",
    "  - SCRAM username and password should only be **alphanumeric** *(no special characters!)*\n",
    "  - select **Read and Write to any Database** from *Database User Privileges*\n",
    "* **Whitelist an IP Address:**\n",
    "  - navigate to **Network Access** under *Security* menu\n",
    "  - select **Allow Access From Anywhere**\n",
    "  - *supply IP Addresses of actual hosts further security*\n",
    "* **Create Database on Cluster:**\n",
    "  - select **Add My Own Data** from the *Collections* tab on your Cluster Sandbox\n",
    "  - any database name *(camelCase preferred)*\n",
    "  - any collection name *(camelCase preferred)*\n",
    "* **Create New Collection on Database:**\n",
    "  - select **Insert Document** within the database\n",
    "  - provide `key/value` pairs"
   ]
  },
  {
   "cell_type": "markdown",
   "metadata": {},
   "source": [
    "## Manage MongoDB via CLI client\n",
    "### AWS Cloud9\n",
    "- **Download/Install MongoDB client 4.0.6 for Atlas**\n",
    "  * `wget -q https://git.io/fjzf1 -O /tmp/setupmongodb.sh && source /tmp/setupmongodb.sh`\n",
    "\n",
    "\n",
    "### Gitpod\n",
    "- **Connect to Mongo CLI on Gitpod**\n",
    "- navigate to your MongoDB Clusters Sandbox\n",
    "- click **\"Connect\"** button\n",
    "- select **\"Connect with the mongo shell\"**\n",
    "- select **\"I do not have the mongo shell installed\"**\n",
    "- choose option: **\"Run your connection string in your command line\"**\n",
    "- `mongo \"mongodb+srv://<CLUSTER-NAME>.mongodb.net/<DBname>\" --username <USERNAME>`\n",
    "    - replace all `<angle-bracket>` keys with your own data\n",
    "- enter password *(will not echo ******** *on screen)*\n",
    "\n",
    "#### Clear screen in Mongo Shell:\n",
    "- `cls`\n",
    "\n",
    "#### Show all database collections:\n",
    "- `show collections`\n",
    "\n",
    "#### Assign collection to variable `coll`:\n",
    "- `coll = db.collection_name`"
   ]
  },
  {
   "cell_type": "markdown",
   "metadata": {},
   "source": [
    "#### Insert data to collection:\n",
    "```shell\n",
    "coll.insert({\n",
    "    first: \"John\",\n",
    "    last: \"Lennon\",\n",
    "    dob: \"09/10/1940\",\n",
    "    gender: \"m\",\n",
    "    hair_color: \"brown\",\n",
    "    occupation: \"beatle\",\n",
    "    nationality: \"british\"\n",
    "});\n",
    "coll.insert({\n",
    "    first: \"Eve\",\n",
    "    last: \"Ryan\",\n",
    "    dob: \"19/09/1992\",\n",
    "    gender: \"f\",\n",
    "    hair_color: \"pink\",\n",
    "    occupation: \"developer\",\n",
    "    nationality: \"irish\"\n",
    "});\n",
    "coll.insert({\n",
    "    first: \"Martha\",\n",
    "    last: \"Fenton\",\n",
    "    dob: \"15/05/1974\",\n",
    "    gender: \"f\",\n",
    "    hair_color: \"brown\",\n",
    "    occupation: \"manager\",\n",
    "    nationality: \"irish\"\n",
    "});\n",
    "coll.insert({\n",
    "    first: \"Neil\",\n",
    "    last: \"Hanslem\",\n",
    "    dob: \"14/07/1983\",\n",
    "    gender: \"m\",\n",
    "    hair_color: \"blonde\",\n",
    "    occupation: \"actor\",\n",
    "    nationality: \"british\"\n",
    "});\n",
    "coll.insert({\n",
    "    first: \"Rocky\",\n",
    "    last: \"Persolm\",\n",
    "    dob: \"19/12/1994\",\n",
    "    gender: \"f\",\n",
    "    hair_color: \"black\",\n",
    "    occupation: \"activist\",\n",
    "    nationality: \"american\"\n",
    "});\n",
    "```"
   ]
  },
  {
   "cell_type": "markdown",
   "metadata": {},
   "source": [
    "#### Find all documents in collection:\n",
    "```python\n",
    "coll.find()\n",
    "```\n",
    "\n",
    "#### Find all documents with `gender= \"f\"`:\n",
    "```python\n",
    "coll.find({gender: \"f\"})\n",
    "```\n",
    "\n",
    "#### Find all documents with `gender=\"f\"` AND `nationality=\"british\"`:\n",
    "```python\n",
    "coll.find({gender: \"f\", nationality: \"british\"})\n",
    "```\n",
    "\n",
    "#### Find all documents with `gender=\"f\"` AND `nationality=\"american\"` OR `\"irish\"`:\n",
    "```python\n",
    "coll.find({gender: \"f\", $or: [{nationality: \"american\"}, {nationality: \"irish\"}]})\n",
    "```\n",
    "\n",
    "#### Find all documents with `gender=\"f\"` AND `nationality=\"american\"` OR `\"irish\"`, then sort by `nationality` (ascending):\n",
    "```python\n",
    "coll.find({gender: \"f\", $or: [{nationality: \"american\"}, {nationality: \"irish\"}]}).sort({nationality: 1})\n",
    "```\n",
    "\n",
    "#### Find all documents with `gender=\"f\"` AND `nationality=\"american\"` OR `\"irish\"`, then sort by `nationality` (descending):\n",
    "```python\n",
    "coll.find({gender: \"f\", $or: [{nationality: \"american\"}, {nationality: \"irish\"}]}).sort({nationality: -1})\n",
    "```"
   ]
  },
  {
   "cell_type": "markdown",
   "metadata": {},
   "source": [
    "#### Update the first matching record with `nationality=\"irish\"` to have `hair_color=\"blue\"`:\n",
    "```python\n",
    "coll.update_one({nationality: \"irish\"}, {$set: {hair_color: \"blue\"}})\n",
    "```\n",
    "\n",
    "#### Update all matching records with `nationality=\"irish\"` to have `hair_color=\"purple\"`:\n",
    "```python\n",
    "coll.update_many({nationality: \"irish\"}, {$set: {hair_color: \"purple\"}})\n",
    "```\n",
    "\n",
    "#### Delete a record matching: `First: \"Kate\"`, `Last: \"Bush\"`:\n",
    "```python\n",
    "coll.delete_one({first: \"Kate\", last: \"Bush\"})\n",
    "```\n",
    "\n",
    "#### Delete all records from the collection:\n",
    "```python\n",
    "coll.delete_many({})\n",
    "```"
   ]
  },
  {
   "cell_type": "markdown",
   "metadata": {},
   "source": [
    "## Manage MongoDB via Python\n",
    "Official [Getting Started](https://www.mongodb.com/blog/post/getting-started-with-python-and-mongodb)"
   ]
  },
  {
   "cell_type": "markdown",
   "metadata": {},
   "source": [
    "`env.py`\n",
    "```python\n",
    "import os\n",
    "os.environ.setdefault(\"MONGO_DB_NAME\", 'myFirstDB')\n",
    "os.environ.setdefault(\"MONGO_CLUSTER\", 'cluster0')\n",
    "os.environ.setdefault(\"MONGO_COLLECTION\", 'celebrities')\n",
    "os.environ.setdefault(\"MONGO_DB_USER\", 'root')\n",
    "os.environ.setdefault(\"MONGO_DB_PASS\", 'pa55w0rd')\n",
    "```\n",
    "Replace <password> with the password for the root user. Replace myFirstDatabase with the name of the database that connections will use by default. Ensure any option params are URL encoded."
   ]
  },
  {
   "cell_type": "code",
   "execution_count": 7,
   "metadata": {},
   "outputs": [
    {
     "name": "stdout",
     "output_type": "stream",
     "text": [
      "myFirstDB is connected\n",
      "{'dob': '11/03/1952',\n",
      " 'first': 'Douglas',\n",
      " 'gender': 'm',\n",
      " 'hair_color': 'grey',\n",
      " 'last': 'Adams',\n",
      " 'nationality': 'british',\n",
      " 'occupation': 'writer'}\n"
     ]
    }
   ],
   "source": [
    "#!pip install dnspython pymongo\n",
    "import pymongo\n",
    "from bson.objectid import ObjectId\n",
    "\n",
    "# pprint library is used to make the output look more pretty\n",
    "from pprint import pprint\n",
    "import os, sys\n",
    "# store the \"code\" subdirectory in the list of paths, where modules are searched at import\n",
    "sys.path.append(os.path.join(os.path.dirname(os.path.realpath(__name__)),'code'))\n",
    "if os.path.exists(\"code/env_MongoDB.py\"):\n",
    "    import env_MongoDB\n",
    "\n",
    "# envenv_MongoDB.py should exist only in Development\n",
    "if os.path.exists(\"env_MongoDB.py\"):\n",
    "    import env\n",
    "\n",
    "app = Flask(__name__)\n",
    "\n",
    "# take MongoDB parameters from OS environment variables\n",
    "app.config[\"MONGO_DB_NAME\"]    = os.environ.get(\"MONGO_DB_NAME\")\n",
    "app.config[\"MONGO_CLUSTER\"]    = os.environ.get(\"MONGO_CLUSTER\")\n",
    "app.config[\"MONGO_COLLECTION\"] = os.environ.get(\"MONGO_COLLECTION\")\n",
    "app.config[\"MONGO_URI\"] = f\"mongodb+srv:\" + \\\n",
    "                          f\"//{os.environ.get('MONGO_DB_USER')}\" + \\\n",
    "                          f\":{os.environ.get('MONGO_DB_PASS')}\" + \\\n",
    "                          f\"@{app.config['MONGO_CLUSTER']}\" + \\\n",
    "                          f\".ueffo.mongodb.net\" + \\\n",
    "                          f\"/{app.config['MONGO_DB_NAME']}\" + \\\n",
    "                          f\"?retryWrites=true&w=majority\"\n",
    "\n",
    "def get_mongo_coll(collection):\n",
    "    conn = getattr(g, '_database_mongo', None)\n",
    "    if conn is None:\n",
    "        try:\n",
    "            conn = g._database_mongo = pymongo.MongoClient(app.config[\"MONGO_URI\"])\n",
    "        except pymongo.errors.ConnectionFailure as e:\n",
    "            print(f\"Could not connect to MongoDB {app.config['MONGO_DB_NAME']}: {e}\")\n",
    "            return None\n",
    "    return conn[app.config[\"MONGO_DB_NAME\"]][collection]\n",
    "\n",
    "coll = get_mongo_coll(app.config[\"MONGO_COLLECTION\"])\n",
    "\n",
    "\"\"\" Insert a single document \"\"\"\n",
    "# new_doc = {\n",
    "#     \"first\": \"Kate\",\n",
    "#     \"last\": \"Bush\",\n",
    "#     \"dob\": \"30/07/1958\",\n",
    "#     \"gender\": \"f\",\n",
    "#     \"hair_color\": \"brown\",\n",
    "#     \"occupation\": \"singer\",\n",
    "#     \"nationality\": \"british\"\n",
    "# }\n",
    "# coll.insert_one(new_doc)\n",
    "\n",
    "\"\"\" Insert multipe documents \"\"\"\n",
    "# new_docs = [\n",
    "# {\n",
    "#     \"first\": \"Douglas\",\n",
    "#     \"last\": \"Adams\",\n",
    "#     \"dob\": \"11/03/1952\",\n",
    "#     \"gender\": \"m\",\n",
    "#     \"hair_color\": \"grey\",\n",
    "#     \"occupation\": \"writer\",\n",
    "#     \"nationality\": \"british\"\n",
    "# },{\n",
    "#     \"first\": \"John\",\n",
    "#     \"last\": \"Lennon\",\n",
    "#     \"dob\": \"09/10/1940\",\n",
    "#     \"gender\": \"m\",\n",
    "#     \"hair_color\": \"brown\",\n",
    "#     \"occupation\": \"beatle\",\n",
    "#     \"nationality\": \"british\"\n",
    "# },{\n",
    "#     \"first\": \"Eve\",\n",
    "#     \"last\": \"Ryan\",\n",
    "#     \"dob\": \"19/09/1992\",\n",
    "#     \"gender\": \"f\",\n",
    "#     \"hair_color\": \"pink\",\n",
    "#     \"occupation\": \"developer\",\n",
    "#     \"nationality\": \"irish\"\n",
    "# },{\n",
    "#     \"first\": \"Martha\",\n",
    "#     \"last\": \"Fenton\",\n",
    "#     \"dob\": \"15/05/1974\",\n",
    "#     \"gender\": \"f\",\n",
    "#     \"hair_color\": \"brown\",\n",
    "#     \"occupation\": \"manager\",\n",
    "#     \"nationality\": \"irish\"\n",
    "# },{\n",
    "#     \"first\": \"Neil\",\n",
    "#     \"last\": \"Hanslem\",\n",
    "#     \"dob\": \"14/07/1983\",\n",
    "#     \"gender\": \"m\",\n",
    "#     \"hair_color\": \"blonde\",\n",
    "#     \"occupation\": \"actor\",\n",
    "#     \"nationality\": \"british\"\n",
    "# },{\n",
    "#     \"first\": \"Rocky\",\n",
    "#     \"last\": \"Persolm\",\n",
    "#     \"dob\": \"19/12/1994\",\n",
    "#     \"gender\": \"f\",\n",
    "#     \"hair_color\": \"black\",\n",
    "#     \"occupation\": \"activist\",\n",
    "#     \"nationality\": \"american\"\n",
    "# },{ \n",
    "#     \"first\": \"Terry\",\n",
    "#     \"last\": \"Pratchett\",\n",
    "#     \"dob\": \"28/04/1948\",\n",
    "#     \"gender\": \"m\",\n",
    "#     \"hair_color\": \"not much\",\n",
    "#     \"occupation\": \"writer\",\n",
    "#     \"nationality\": \"british\"\n",
    "# },{\n",
    "#     \"first\": \"George\",\n",
    "#     \"last\": \"R.R Martin\",\n",
    "#     \"dob\": \"20/09/1948\",\n",
    "#     \"gender\": \"m\",\n",
    "#     \"hair_color\": \"white\",\n",
    "#     \"occupation\": \"writer\",\n",
    "#     \"nationality\": \"american\"\n",
    "# }]\n",
    "# coll.insert_many(new_docs)\n",
    "# documents = coll.find()\n",
    "\n",
    "\"\"\" Find documents with 'first' name set to 'Douglas' \"\"\"\n",
    "documents = coll.find({\"first\": \"Douglas\"})\n",
    "\n",
    "\"\"\" Delete documents with 'first' name set to 'Douglas' \"\"\"\n",
    "# coll.delete_one({\"first\": \"Douglas\"})\n",
    "# documents = coll.find()\n",
    "\n",
    "\"\"\" Update a single document (first one only) \"\"\"\n",
    "# coll.update_one(\n",
    "#     {\"nationality\": \"american\"},\n",
    "#     {\"$set\": {\"hair_color\": \"maroon\"}}\n",
    "# )\n",
    "# documents = coll.find({\"nationality\": \"american\"})\n",
    "\n",
    "\"\"\" Update all documents \"\"\"\n",
    "# coll.update_many(\n",
    "#     {\"nationality\": \"american\"},\n",
    "#     {\"$set\": {\"hair_color\": \"maroon\"}}\n",
    "# )\n",
    "# documents = coll.find({\"nationality\": \"american\"})\n",
    "\n",
    "for doc in documents:\n",
    "    del doc['_id']\n",
    "    pprint(doc)\n",
    "    \n",
    "conn.close()"
   ]
  },
  {
   "cell_type": "code",
   "execution_count": null,
   "metadata": {},
   "outputs": [],
   "source": []
  }
 ],
 "metadata": {
  "kernelspec": {
   "display_name": "Python 3",
   "language": "python",
   "name": "python3"
  },
  "language_info": {
   "codemirror_mode": {
    "name": "ipython",
    "version": 3
   },
   "file_extension": ".py",
   "mimetype": "text/x-python",
   "name": "python",
   "nbconvert_exporter": "python",
   "pygments_lexer": "ipython3",
   "version": "3.8.5"
  }
 },
 "nbformat": 4,
 "nbformat_minor": 4
}
