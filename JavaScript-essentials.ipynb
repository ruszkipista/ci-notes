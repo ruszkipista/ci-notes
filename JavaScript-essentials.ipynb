{
 "cells": [
  {
   "cell_type": "markdown",
   "metadata": {},
   "source": [
    "# JavaScript tutorial from [Udacity](https://classroom.udacity.com/courses/ud803) and Code Institute\n",
    "\n",
    "- install **Node.js** and **npm** from here: https://nodejs.org/en/\n",
    "- install **IJavaScript** kernel from here: https://github.com/n-riesco/ijavascript#windows-official-python-distribution\n",
    "\n",
    "- [What JavaScript Is](#What-JavaScript-Is)\n",
    "- [Frameworks and Libraries](#Frameworks-and-Libraries)\n",
    "- [Dev Tools and console.log()](#Dev-Tools-and-console.log())\n",
    "- [Displaying Alerts](#Displaying-Alerts)\n",
    "- [The debugger Keyword](#The-debugger-Keyword)\n",
    "- [Setting Breakpoints in Your Code](#Setting-Breakpoints-in-Your-Code)\n",
    "- [Comments](#Comments)     \n",
    "- [Numbers](#Numbers)\n",
    "- [undefined, null and NaN](#undefined,-null-and-NaN)\n",
    "- [Infinity, -Infinity and NaN](#Infinity,--Infinity-and-NaN)\n",
    "- [Comparing numbers](#Comparing-numbers)     \n",
    "- [Type Coercion](#Type-Coercion)\n",
    "- [Arithmetical Operators](#Arithmetical-Operators) \n",
    "- [Bitwise Operators](#Bitwise-Operators)           \n",
    "- [Operator Precedence](#Operator-Precedence-:-PEMDAS-(Please-Excuse-My-Dear-Aunt-Sally!))                        \n",
    "- [Strings](#Strings)\n",
    "- [String Methods](#String-Methods)\n",
    "- [Regular expressions](#Regular-expressions)\n",
    "- [Variables](#Variables)\n",
    "- [Scope](#Scope)                                   \n",
    "- [Variable Declaration](#Variable-Declaration)\n",
    "- [Assignment Operators](#Assignment-Operators)             \n",
    "- [Comparing strings](#Comparing-strings)           \n",
    "- [Booleans](#Booleans)                             \n",
    "- [Equality](#Equality)\n",
    "- [if...else statements](#if...else-statements)\n",
    "- [Logical operators](#Logical-operators)\n",
    "- [Truthy and Falsy](#Truthy-and-Falsy)\n",
    "- [Truth table](#Truth-table)\n",
    "- [Ternary Operator](#Ternary-Operator)\n",
    "- [Switch Statement](#Switch-Statement)\n",
    "- [While Loop](#While-Loop)\n",
    "- [Do/While Loop](#Do/While-Loop)\n",
    "- [For Loop](#For-Loop)\n",
    "- [Nested Loops](#Nested-Loops)\n",
    "- [Break/Continue](#Break/Continue)\n",
    "- [Functions](#Functions)\n",
    "- [Try / Catch / Throw](#Try-/-Catch-/-Throw)\n",
    "- [Encoding and Decoding URIs](#Encoding-and-Decoding-URIs)\n",
    "- [Arrays](#Arrays)\n",
    "- [Sets](#Sets)\n",
    "- [Objects](#Objects)\n",
    "- [Classes](#Classes)\n",
    "- [Functions at Runtime](#Functions-at-Runtime)\n",
    "- [Function Scope](#Function-Scope)\n",
    "- [Constructor Functions](#Constructor-Functions)\n",
    "- [Prototypal Inheritance](#Prototypal-Inheritance)\n",
    "- [Extending Object Functionality with Mixins](#Extending-Object-Functionality-with-Mixins)\n",
    "- [The Module Pattern](#The-Module-Pattern)\n",
    "- [The Revealing Module Pattern](#The-Revealing-Module-Pattern)\n",
    "\n",
    "#### Working with External Resources\n",
    "* [The Star Wars API](#The-Star-Wars-API)"
   ]
  },
  {
   "cell_type": "markdown",
   "metadata": {},
   "source": [
    "### What JavaScript Is\n",
    "![javascript-is.png](./img/javascript-is.png)\n",
    "\n",
    "**JavaScript** is a scripting and programming language that runs in a web browser. Its primary purpose is to make web pages more interactive. A web page, as you currently know it, consists of only two things: HTML, which provides the structure of the page as well as its content, and CSS which provides its visual styling. JavaScript, then, exists to give the web page interactivity. It can do a number of key things to make your web pages more interactive, such as:\n",
    "\n",
    "* Changing HTML content\n",
    "* Updating the attributes of HTML elements, e.g. adding and removing classes\n",
    "* Changing the look of the HTML by modifying the CSS\n",
    "* Showing, hiding, manipulating and animating HTML elements\n",
    "* Sending data to and retrieving data from a server\n",
    "* ...and a whole lot more!\n",
    "\n",
    "JavaScript was originally intended to run only in the browser, but modern JavaScript doesn't even require a browser to run. Today it can be used as a front end or a backend language interchangeably, or both at the same time. In the past, to handle things like connecting to databases and back end processes like aggregating and manipulating data, you needed to rely on server-side languages like Python or C++, but with the advent of server-side technologies like NodeJS, everything can be done with JavaScript if you so desire. By implementing and using modern mobile application development frameworks, JavaScript can even be used to create mobile apps and browser-based games.\n",
    "\n",
    "JavaScript permeates every aspect of the web. It's sometimes said that \"Software ate the world, the web ate software, and JavaScript ate the web\" and this really is true in many ways. According to Google, there are nearly 2 billion web pages in existence, and a 2020 survey by W3Techs found that 96.5% of them use JavaScript.\n",
    "\n",
    "Because of this deep integration with everything web-based, JavaScript is sometimes called the \"standard programming language of the web\". It's not just restricted to the web these days either. JavaScript and its related technologies are used in tablets, smartphones, and even smart TVs. Some of the biggest companies in the world whose websites you use everyday use JavaScript, including Facebook, Google, Amazon and YouTube. Chances are, if you've ever seen any sort of interactive content on a website - automatically validating forms, photo slideshows, comments that post without reloading the page - it was built at least in part with JavaScript."
   ]
  },
  {
   "cell_type": "markdown",
   "metadata": {},
   "source": [
    "### Frameworks and Libraries\n",
    "One of the main reasons you should learn JavaScript is that without understanding JavaScript on its own (sometimes called vanilla JavaScript) none of the frameworks or libraries that are based on JavaScript will make sense. Before going further though, let's define what frameworks and libraries are.\n",
    "\n",
    "![frameworks+and+libraries.png](./img/frameworks+and+libraries.png)\n",
    "\n",
    "Both frameworks and libraries are collections of functions and blocks of reusable code that make software development faster and easier. They are developed in response to many developers who need to accomplish the same tasks becoming tired of rewriting the same code over and over. To solve the problem, eventually a developer decides to wrap all their repetitive code up in a collection of functions and makes it available for use to everyone who wants to accomplish the same thing...thus a framework or a library is born. There are frameworks and libraries for many languages too, not just JavaScript. While they have similar purposes though, frameworks and libraries are different:\n",
    "\n",
    "A library is simply a collection of functions and utilities grouped together which you can use at will, without much regard to adapting your project to fit the library. With a library you are in control of when to use each component, and you can use as many of those components as you wish or none at all. Two of the most popular JavaScript libraries include jQuery and ReactJS.\n",
    "\n",
    "A framework, on the other hand is like a blueprint or a set of rules used to develop an application. When using a framework, you are filling in the blanks in order to complete the story, but the framework dictates the things that must be filled in, and how. The framework gives you the structure and handles all the interaction, and requires you to tell it the details. Popular JavaScript frameworks include Vue.js, Ember, and AngularJS.\n",
    "\n",
    "There's a good analogy for understanding the difference between frameworks and libraries: A library is like Ikea: you've already got a house, but you need some furniture. You don't want to make all your furniture from scratch, so you go to the store to buy some pre-made or easy-to-assemble furniture. In this way you are treating the furniture store as a library of furniture. On the other hand, a framework is like someone handing you a few blueprints for a home and asking you to choose between different floorplans, layouts, and sizes. You have a few options to choose from, but the framework decides how the home will be constructed and will allow you to input specific properties such as what color the walls should be, what type of counter tops you'd like, the layout of the cabinetry and so on. The main reason you need to know JavaScript is that without understanding vanilla JavaScript, any frameworks or libraries you want to use in the future which depend on it will be filled with code you don't understand. Once you're comfortable with vanilla JavaScript, learning to use advanced libraries and frameworks like jQuery, React and Angular becomes much easier."
   ]
  },
  {
   "cell_type": "markdown",
   "metadata": {},
   "source": [
    "### Dev Tools and `console.log()`\n",
    "#### Developer tools on different browsers\n",
    "Every modern web browser includes its own set of developer tools.\n",
    "##### Mozilla Firefox\n",
    "Firefox Developer Tools allow you to examine, edit, and debug HTML, CSS, and JavaScript on the desktop and on mobile. Also, you can download a version of of Firefox called Firefox Developer Edition that is tailored for developers, featuring the latest Firefox features and experimental developer tools. Learn more about Mozilla Firefox DevTools here.\n",
    "\n",
    "To open Firefox Developer Tools, either right-click on any page element and select Inspect Element or open the Firefox settings menu in the top-right corner of your browser window and select Developer. Alternatively, you can use the shortcuts:\n",
    "\n",
    "    Ctrl + Shift + i (Windows/Linux).\n",
    "    \n",
    "##### Google Chrome\n",
    "The Chrome DevTools are a set of web authoring and debugging tools built into Google Chrome. Use the DevTools to iterate, debug and profile your site. Learn more about Chrome DevTools here.\n",
    "We'll begin with explaining dev tools, because that's where the output of `console.log()` will end up anyway. To access Chrome's developer tools, on any webpage simply right click and select \"Inspect\", or just press F12 on your keyboard, or open the Chrome settings menu in the top-right corner of your browser window and select More Tools > Developer Tools. Alternatively, you can use the shortcuts:\n",
    "\n",
    "    Ctrl + Shift + i (Windows/Linux).\n",
    "\n",
    "This will open a new panel in your browser with several tabs in it. Depending on your configuration it may also open in a new window. Once it's open you can choose to dock it on the top, bottom, left, right or open it in a new window. If this is your first time using it, be sure to spend a bit of time exploring and experimenting to become familiar with all the menus and basic navigation around the window. Nothing you change in dev tools will have any permanent effect so it's a great way to learn and explore.\n",
    "\n",
    "Dev tools is divided into several tabs and has a lot of functionality, but don't be intimidated; you won't need it all and anything you will need frequently will be explained right here. The main tabs you'll find useful as you learn JavaScript and a brief description of their purpose follows:\n",
    "\n",
    "* **Elements**: Provides you with all the HTML markup for the page you're inspecting. You can hover over elements to highlight and identify them on the page, edit or delete elements, or even copy them to be pasted into your code editor. Additionally down the right side of this tab you can modify the CSS for any element you have selected, or add/remove CSS rules for the page as a whole. Anything you do here is temporary and will be reset when you refresh the page, so it's a great place for experimentation.\n",
    "* **Console**: The console tab allows you to see every request as it is made to the HTTP server when you request the website. It will display a log of requests, warnings and errors as the page loads. Critically, it also gives the output of the `console.log()` function a place to go. This means that any time you need to see what's going on in your JavaScript code you can `console.log()` it and it will show up in the console tab when you load the page with dev tools open. Because JavaScript runs directly in the browser, you can also use the console to test JavaScript code right in the browser!\n",
    "* **Network**: Finally, this tab shows you the HTTP status of every request to get every file the website needs. The most useful purpose of this tab is inspecting whether files your site needs - such as CSS and JavaScript files - are being retrieved correctly (an HTTP 200 response), or whether they are not found (HTTP 404). This tab is very useful to figure out why your CSS or JavaScript code isn't working as expected."
   ]
  },
  {
   "cell_type": "markdown",
   "metadata": {},
   "source": [
    "#### Console demo\n",
    "`console.log` is used to display content to the JavaScript console. The message you log is \"hiya friend!\". `hiya friend!` is a **string** (a sequence of characters)."
   ]
  },
  {
   "cell_type": "code",
   "execution_count": 2,
   "metadata": {},
   "outputs": [
    {
     "name": "stdout",
     "output_type": "stream",
     "text": [
      "hiya friend!\n"
     ]
    }
   ],
   "source": [
    "console.log(\"hiya friend!\");"
   ]
  },
  {
   "cell_type": "code",
   "execution_count": 3,
   "metadata": {},
   "outputs": [
    {
     "data": {
      "text/plain": [
       "4"
      ]
     },
     "execution_count": 3,
     "metadata": {},
     "output_type": "execute_result"
    }
   ],
   "source": [
    "2+2"
   ]
  },
  {
   "cell_type": "markdown",
   "metadata": {},
   "source": [
    "Let’s use console.log to do something a little more interesting. Here’s a block of JavaScript code that loops through the numbers 0 through 9 and prints them out to the console. This is called a **loop**."
   ]
  },
  {
   "cell_type": "code",
   "execution_count": 4,
   "metadata": {},
   "outputs": [
    {
     "name": "stdout",
     "output_type": "stream",
     "text": [
      "0\n",
      "1\n",
      "2\n",
      "3\n",
      "4\n"
     ]
    }
   ],
   "source": [
    "for (var i = 0; i < 5; i++) {\n",
    "  console.log(i);\n",
    "}"
   ]
  },
  {
   "cell_type": "markdown",
   "metadata": {},
   "source": [
    "#### JavaScript demo\n",
    "So you saw how to use `console.log` to print a message to the JavaScript console. Now, let’s see how you can use the console as a sandbox to test a new line of JavaScript in the browser.\n",
    "\n",
    "Open the following [site](https://daringfireball.net/projects/markdown/) in a new tab and in that tab also open up developer tools. Then paste the following code:\n",
    "```JavaScript\n",
    "document.getElementsByTagName(\"h1\")[0].style.color = \"#ff0000\";\n",
    "```\n",
    "This line of code changes the text in the first `<h1>` tag to red!\n",
    "    \n",
    "Styling elements on the page is great, but you could also do that by just modifying the CSS. What makes JavaScript so special in this case? Refresh the page, then paste this line of code in the JavaScript console.\n",
    "```JavaScript\n",
    "document.body.addEventListener('click', function () {\n",
    "     var myImage = document.createElement(\"img\");\n",
    "     myImage.src = 'https://thecatapi.com/api/images/get?format=src&type=gif';\n",
    "     myImage.style.marginLeft = \"160px\";\n",
    "     var myParent = document.getElementsByTagName(\"h1\")[0]; \n",
    "     myParent.appendChild(myImage);\n",
    "});\n",
    "```\n",
    "If you’re confused because nothing happened. Don’t worry. Click somewhere on the page to see the effect. You can refresh the page to return the page its original state.\n",
    "\n",
    "What happened? A cat image was added to the page! But this only happened after the page was clicked."
   ]
  },
  {
   "cell_type": "markdown",
   "metadata": {},
   "source": [
    "### Displaying Alerts\n",
    "The `alert()` method in JavaScript is usually one of the first methods new JavaScript developers learn, because it immediately demonstrates something interactive that can be done with JavaScript. To illustrate, right click this page, click inspect, and select the console tab of the developer tools. Once in the console tab, type `alert(\"hello!\");` at the bottom of the console at the prompt, and press enter. Your alert should be displayed as a pop up message in the browser with an OK button.\n",
    "\n",
    "![displaying+alerts.png](./img/displaying+alerts.png)\n",
    "\n",
    "The `alert()` method is a built in part of JavaScript and is attached to the global `window` object. You might remember that in JavaScript and other object oriented programming languages, *everything is an object*, even the browser window itself! **Window** ([MDN Link](https://developer.mozilla.org/en-US/docs/Web/API/Window)) represents the currently selected browser tab and it makes a plethora of attributes, methods and other objects available to the user via JavaScript. A few things that will probably already be familiar to you which are part of the global Window object are:\n",
    "\n",
    "* `window.innerHeight` and `window.innerWidth` - The height and width of the browser not including any menus/scrollbars.\n",
    "* `window.location.href` - The current URL in the address bar.\n",
    "*`window.history` - An object representing the history of this tab, providing methods like `history.back()`, the equivalent of pressing the back button.\n",
    "* `window.alert()` - The alert method you just used.\n",
    "* `window.prompt()` and `window.confirm()` - Similar popups as `window.alert()`, but for prompting for user input and getting user confirmation, respectively.\n",
    "\n",
    "Also included in the global `window` object is a representation of the entire HTML document loaded in the current tab, accessible with `window.document`. The point of understanding all this is that in JavaScript, everything you'll need for manipulating the **DOM** ([Document Object Model](https://developer.mozilla.org/en-US/docs/Glossary/DOM)) and making your webpages interactive stems from this `window` object. It provides a huge portion of what you'll need as you learn JavaScript, including this `alert()` method, so take some time and peruse the MDN link above to see what else you've got available to work with. The `alert()` utilized here can be handy for logging or alerting items as well, similar to using `console.log`, if you'd like to display some data in an alert box either for testing purposes or to provide some sort of feedback to the user in an obvious way."
   ]
  },
  {
   "cell_type": "markdown",
   "metadata": {},
   "source": [
    "### The `debugger` Keyword\n",
    "The `debugger` keyword allows you to stop execution of your code and show its current state in the Sources tab in Chrome's dev tools. There is also a Debugger tab in Firefox which has a similar function.\n",
    "\n",
    "Sometimes you need more granular feedback when debugging JavaScript code than what `console.log()` can provide you. When you need to step through your code line by line, you can use the `debugger` keyword. With dev tools open, whenever the browser encounters the `debugger` keyword, it will stop execution of the code and jump to the **sources** tab, providing you with a number of functions that can help you debug your code.\n",
    "\n",
    "In the image below there are a few significant things:\n",
    "\n",
    "0. There is a `debugger.html` file containing a `<p id=\"body-paragraph\">` paragraph.\n",
    "1. Lines 10 through 20 comprise a small JavaScript script enclosed in `<scrip>` tags that will log the numbers 0 through 9 to the console when the `body-paragraph` on line 9 is clicked\n",
    "2. Line 16 stops the execution of the code using the `debugger` keyword\n",
    "3. The pink boxes around the areas with the small play/skip forward buttons in them allow you to step through your code line by line after the `debugger` keyword is encountered. The blue \"play\" button will resume the code and run the rest of it normally unless it encounters the `debugger` keyword again, and the other one with a curved arrow over a small dot will move forward to the next line of code\n",
    "4. The red boxes indicate that line 13, where a variable is being set, is tracked in the scope dropdown over on the right of the window. Any variables will show up either there or in the watch dropdown further up on the right side, so you can track their values as you step through the code\n",
    "![debugger-example.png](./img/debugger-example.png)"
   ]
  },
  {
   "cell_type": "markdown",
   "metadata": {},
   "source": [
    "### Setting Breakpoints in Your Code\n",
    "Along with using the `debugger` keyword to stop the execution of your JavaScript code, you can set specific breakpoints in the debugger window to stop the execution at any point you wish even if the debugger keyword doesn't show up in your code at that point. This allows you to add even more granularity to your debugging process by stopping the code on any individual line to check variable values, scope, the status of various requests and responses, and many other things.\n",
    "\n",
    "To set a breakpoint in the debugger window, once you've stopped the execution with the debugger keyword just click on any line number to set a breakpoint there. When you resume the code or begin stepping through it again, the debugger will stop at the breakpoint. You can also right click to edit the breakpoint and it will allow you to execute a JavaScript expression before it gets there, so you can test in real time whether a fix you're thinking about might work! Just set the breakpoint, add a little JavaScript to execute before it, and then step through the code. Of course, since this is all in dev tools, as soon as you refresh the page everything will be back to normal so you don't need to worry about breaking anything.\n",
    "\n",
    "In the image below, the red dots on the line numbers indicate breakpoints and they will show up as soon as you click on the number to indicate there's a breakpoint at that spot in the code. As you use dev tools more, remember that if you ever need to stop your code at a specific point to see what's going on, you can do it with a combination of `console.log()`, the `debugger` keyword and setting breakpoints.\n",
    "\n",
    "![debugger-example2.png](./img/debugger-example2.png)"
   ]
  },
  {
   "cell_type": "markdown",
   "metadata": {},
   "source": [
    "## Comments\n",
    "You can use comments to help explain your code and make things clearer. In JavaScript, comments are marked with a double forward-slash `//` called **single-line comment**. Anything written on the same line after the `//` will not be executed or displayed. To have the comment span multiple lines, mark the start of your comment with a forward-slash and star, and then enclose your comment inside a star and forward-slash `/* … */`called **multi-line comment**."
   ]
  },
  {
   "cell_type": "code",
   "execution_count": 5,
   "metadata": {},
   "outputs": [],
   "source": [
    "// this is a single-line comment\n",
    "\n",
    "let f = 0;  // also single-line comment\n",
    "\n",
    "/*\n",
    "this is\n",
    "a multi-line\n",
    "comment\n",
    "*/"
   ]
  },
  {
   "cell_type": "markdown",
   "metadata": {},
   "source": [
    "**Docstrings** are similar to multi-line comments except that they are not ignored by the intrepreter. In fact, docstrings are used in some languages to provide help to users of the application, not just developers. In general, docstrings should be used to document major parts of your application, such as functions, classes, methods and modules (all of which you'll learn a lot more about later on). You'll see these show up more later, but for now just make a mental note of the syntax for declaring a docstring, and remember that it's a good idea to include them for all functions, modules, classes, methods and so on."
   ]
  },
  {
   "cell_type": "code",
   "execution_count": 6,
   "metadata": {},
   "outputs": [],
   "source": [
    "/** Docstring syntax\n",
    " * begins with a forward slash\n",
    " * and two asterisks\n",
    " * and every subsequent line\n",
    " * begins with a space and an\n",
    " * asterisk.\n",
    "*/"
   ]
  },
  {
   "cell_type": "markdown",
   "metadata": {},
   "source": [
    "The key takeaway should be *when* to use them. The more documentation your code has, the easier it will be for both you and other developers to understand in the future, so comment often and concisely."
   ]
  },
  {
   "cell_type": "markdown",
   "metadata": {},
   "source": [
    "## Indentation and Minification\n",
    "![indentation+and+minification.png](./img/indentation+and+minification.png)\n",
    "\n",
    "Some programming languages indentation is critical to the functionalilty of the code. JavaScript is not one of those languages, but there are still some common indentation and minification conventions you should follow when writing JavaScript code. Every developer has their own coding style so you will see some slight variations when looking at publicly available code, and this is not an exhaustive list, but below are several conventions you should try to follow as much as possible:\n",
    "\n",
    "1. Always indent your code consistently using either two or four spaces (the Google style guide recommends two)\n",
    "2. Never use tabs for indentation or mix tabs and spaces together\n",
    "3. Never mix indentation widths (i.e. never mix the use of two and four spaces. Pick one or the other)\n",
    "4. Array and object literals should be block-indented if they span more than 80 characters wide:\n",
    "```JavaScript\n",
    "myArray = [1, 2, 3, 4, 5, 6, 7, 8, 9, 10 ...]  // if this gets too long, do this:\n",
    "myArray = [\n",
    "  1,\n",
    "  2,\n",
    "  3,\n",
    "  4,\n",
    "  5,\n",
    "  6,\n",
    "  7,\n",
    "  8,\n",
    "  9,\n",
    "  10,\n",
    "  ...\n",
    "]\n",
    "```\n",
    "5. In general, anything that uses a code block (a set of curly braces, square brackets, functions, classes, if statements, loops, etc) should be indented to imply that the enclosed code is a unique block. For example:\n",
    "```JavaScript\n",
    "if (condition) {\n",
    "      // if statement code is indented\n",
    "} else {\n",
    "      // as is the else block\n",
    "}\n",
    "```\n",
    "```JavaScript\n",
    "while (condition) {\n",
    "    // loop blocks are always indented\n",
    "    if (condition) {\n",
    "        // nested blocks get another indentation level\n",
    "        if (otherCondition) {\n",
    "            // And so on...each nested block\n",
    "            // is indented another level\n",
    "        }\n",
    "    }\n",
    "}\n",
    "```\n",
    "```JavaScript\n",
    "function myFunction(params) {\n",
    "    // function blocks are always indented\n",
    "}\n",
    "```\n",
    "```JavaScript\n",
    "// Object properties and values should be indented\n",
    "let myObject = {\n",
    "        key1: 'val1',\n",
    "        key2: 'val2',\n",
    "        key3: 'val3',\n",
    "        ...\n",
    "} \n",
    "```\n",
    "\n",
    "As you code more and more the indentation rules will become more obvious to you. When you write more advanced code, you will also begin to use minification software to minify your code. The only thing you need to know about minification for now is that production code should always be minified in order to reduce file size and decrease loading times. You'll learn how to do this in the future."
   ]
  },
  {
   "cell_type": "markdown",
   "metadata": {},
   "source": [
    "## Reserved Keywords\n",
    "In JavaScript, like all programming languages, there are certain words that are used in the syntax of the language itself. Examples of these words include if, break, Date, this and many others. These are known as reserved words because they are reserved for use within the syntax of the language itself and should never be used to name variables, functions, classes or any other type of object. The reason you should never use these words outside their intended context is that JavaScript won't know how to tell the difference between your intended use and the normal intended use.\n",
    "\n",
    "Along with these reserved words, there are reserved object names such as Array, Object, Math and so on. You should never use these or any other built in objects or function names to name your variables or your own objects. Below is a list of common reserved words in JavaScript (note that this list is extensive but not exhaustive):\n",
    "\n",
    "|.|.|.|.|.|.|.|.|\n",
    "|:-:|:-:|:-:|:-:|:-:|:-:|:-:|:-:|\n",
    "|abstract|boolean|break|byte|case|catch|char|class\n",
    "|const|continue|debugger|default|delete|do|double|else\n",
    "|enum|export|extends|final|finally|float|for|function\n",
    "|goto|if|implements|import|in|instanceof|int|interface\n",
    "|let|long|native|new|package|private|protected|public\n",
    "|return|short|static|super|switch|synchronized|this|throw\n",
    "|throws|transient|try|typeof|var|void|volatile|while\n",
    "|with|yield"
   ]
  },
  {
   "cell_type": "markdown",
   "metadata": {},
   "source": [
    "## Numbers\n",
    "The Number is one of the primitive data types in JavaScript. It is a wrapper that represents any kind of number, or when used as a function, can convert another value into a number. While other languages have different types of numbers such as integers (whole numbers), floating point (decimal) numbers and so on, in JavaScript every number is just a number.\n",
    "\n",
    "![number.png](./img/number.png)\n",
    "\n",
    "Defining a number in JavaScript is actually pretty simple. The `number` data type includes any positive or negative integer, as well as decimals. Entering a number into the console will return it right back to you."
   ]
  },
  {
   "cell_type": "code",
   "execution_count": 7,
   "metadata": {},
   "outputs": [
    {
     "data": {
      "text/plain": [
       "3"
      ]
     },
     "execution_count": 7,
     "metadata": {},
     "output_type": "execute_result"
    }
   ],
   "source": [
    "3"
   ]
  },
  {
   "cell_type": "markdown",
   "metadata": {},
   "source": [
    "The `typeof` operator can be used either as a function or as an operator. To determine the type of data you're working with, all you need to do is provide `typeof` with the data, and it will return its type. "
   ]
  },
  {
   "cell_type": "code",
   "execution_count": 8,
   "metadata": {},
   "outputs": [
    {
     "data": {
      "text/plain": [
       "'number'"
      ]
     },
     "execution_count": 8,
     "metadata": {},
     "output_type": "execute_result"
    }
   ],
   "source": [
    "typeof 3;"
   ]
  },
  {
   "cell_type": "markdown",
   "metadata": {},
   "source": [
    "In JavaScript, every number is a floating point number."
   ]
  },
  {
   "cell_type": "code",
   "execution_count": 9,
   "metadata": {},
   "outputs": [
    {
     "data": {
      "text/plain": [
       "'number'"
      ]
     },
     "execution_count": 9,
     "metadata": {},
     "output_type": "execute_result"
    }
   ],
   "source": [
    "typeof 3.1;"
   ]
  },
  {
   "cell_type": "markdown",
   "metadata": {},
   "source": [
    "When used as a function, `Number()` will convert another value such as a string, boolean, or other data type into a number. Falsy values will be converted to `0`, truthy values will be converted to `1`, values that cannot be converted to a number will be converted to `NaN`, and numbers greater than or equal to `1.8 x 10^308` will be converted to the constant `Infinity` (or `-Infinity` if the number is negative):"
   ]
  },
  {
   "cell_type": "code",
   "execution_count": 10,
   "metadata": {},
   "outputs": [
    {
     "name": "stdout",
     "output_type": "stream",
     "text": [
      "123\n",
      "0\n",
      "1\n",
      "NaN\n",
      "Infinity\n",
      "-Infinity\n"
     ]
    }
   ],
   "source": [
    "console.log(Number(\"123\"));       // 123\n",
    "console.log(Number(null));        // 0\n",
    "console.log(Number(true));        // 1\n",
    "console.log(Number(\"Hello!\"));    // NaN (Not a Number)\n",
    "console.log(Number(1.8e308));     // Infinity\n",
    "console.log(Number(-1.8e308));    // -Infinity"
   ]
  },
  {
   "cell_type": "markdown",
   "metadata": {},
   "source": [
    "Numbers also have a number of methods and properties available for manipulating them and retrieving information about them. A table of the methods you'll most likely use in your everyday JavaScript development is below:\n",
    "\n",
    "|Method/Property\t|Purpose\t|Usage\t|Result|\n",
    "|:-|:-|:-|:-|\n",
    "|Number.isNaN()\t|Returns whether the passed value is Not a Number\t|isNaN(\"Hello!\");\t|true\n",
    "|Number.isFinite()\t|Returns whether the passed value is finite\t|isFinite(Infinity);\t|false\n",
    "|Number.isInteger()\t|Returns whether the passed value is an integer\t|isInteger(123);\t|true\n",
    "|Number.parseFloat()\t|Attempts to convert the passed value to a float\t|parseFloat(\"123.45\");\t|123.45\n",
    "|Number.parseInt()\t|Attempts to convert the passed value to an integer\t|parseInt(\"123.45\");\t|123\n",
    "||**The following are instance methods which operate on a Number instance**|||\n",
    "|toFixed()\t|Returns a string representing the number with the passed number of decimal places\t|123.45.toFixed(4);\t|\"123.4500\"\n",
    "|toPrecision()\t|Returns a string representing the number with the passed precision\t|123.45.toPrecision(4);\t|\"123.5\"\n",
    "|toString()\t|Returns a string representing the number in the specified base (10 by default)\t|123.45.toString();\t|\"123.45\""
   ]
  },
  {
   "cell_type": "code",
   "execution_count": 11,
   "metadata": {},
   "outputs": [
    {
     "data": {
      "text/plain": [
       "'23.4500'"
      ]
     },
     "execution_count": 11,
     "metadata": {},
     "output_type": "execute_result"
    }
   ],
   "source": [
    "23.45.toFixed(4);  // Number to String, fixed number of decimal digits"
   ]
  },
  {
   "cell_type": "code",
   "execution_count": 12,
   "metadata": {},
   "outputs": [
    {
     "data": {
      "text/plain": [
       "'123.456789'"
      ]
     },
     "execution_count": 12,
     "metadata": {},
     "output_type": "execute_result"
    }
   ],
   "source": [
    "123.4567890.toPrecision(); // Number to String, strip 0 from the end"
   ]
  },
  {
   "cell_type": "code",
   "execution_count": 13,
   "metadata": {},
   "outputs": [
    {
     "data": {
      "text/plain": [
       "'1.2e+2'"
      ]
     },
     "execution_count": 13,
     "metadata": {},
     "output_type": "execute_result"
    }
   ],
   "source": [
    "123.4567890.toPrecision(2); // Number to String, 2 significant digit precision"
   ]
  },
  {
   "cell_type": "code",
   "execution_count": 14,
   "metadata": {},
   "outputs": [
    {
     "data": {
      "text/plain": [
       "'123.5'"
      ]
     },
     "execution_count": 14,
     "metadata": {},
     "output_type": "execute_result"
    }
   ],
   "source": [
    "123.4567890.toPrecision(4); // Number to String, 4 significant digit precision"
   ]
  },
  {
   "cell_type": "markdown",
   "metadata": {},
   "source": [
    "See list od locales [here](https://www.w3schools.com/jsref/jsref_tolocalestring.asp)."
   ]
  },
  {
   "cell_type": "code",
   "execution_count": 15,
   "metadata": {},
   "outputs": [
    {
     "data": {
      "text/plain": [
       "'123,456.789'"
      ]
     },
     "execution_count": 15,
     "metadata": {},
     "output_type": "execute_result"
    }
   ],
   "source": [
    "123456.789.toLocaleString('en-GB'); // Number to String, thousands delimiter ',' decimal point is '.'"
   ]
  },
  {
   "cell_type": "code",
   "execution_count": 16,
   "metadata": {},
   "outputs": [
    {
     "data": {
      "text/plain": [
       "'123,456.789'"
      ]
     },
     "execution_count": 16,
     "metadata": {},
     "output_type": "execute_result"
    }
   ],
   "source": [
    "123456.789.toLocaleString('ru-RU'); // Number to String, thousands delimiter ' ' decimal point is ','"
   ]
  },
  {
   "cell_type": "markdown",
   "metadata": {},
   "source": [
    "#### A Note about Floats\n",
    "As every number is a floating point number, this means that JavaScript math (or any floating-point math, for that matter), isn't 100% accurate. This is because there are some decimal numbers that cannot be represented perfectly in binary (the language of computers). You cannot represent the fraction 1/3 perfectly in the base 10 (decimal) system: 0.333333... is always an aproximation no matter how many decimal places you add, because 1 is not evenly divisible by 3. This same problem exists in the base 2 system (binary), so in programming languages that use floating point arithmetic, values that cannot be represented perfectly are rounded:"
   ]
  },
  {
   "cell_type": "code",
   "execution_count": 17,
   "metadata": {},
   "outputs": [
    {
     "name": "stdout",
     "output_type": "stream",
     "text": [
      "0.30000000000000004\n"
     ]
    }
   ],
   "source": [
    "console.log(0.1 + 0.2);"
   ]
  },
  {
   "cell_type": "markdown",
   "metadata": {},
   "source": [
    "You don't need to know the exact intracacies of why it happens, but you can read more about this well-known problem [here](https://floating-point-gui.de/). Most importantly, a common way to solve the problem and get an accurate result is to scale the numbers up to have the last significant digit above the decimal point and after the operation scale the result down with the same number:"
   ]
  },
  {
   "cell_type": "code",
   "execution_count": 18,
   "metadata": {},
   "outputs": [
    {
     "name": "stdout",
     "output_type": "stream",
     "text": [
      "0.3\n"
     ]
    }
   ],
   "source": [
    "console.log((0.1 * 10 + 0.2 *10 )/10);"
   ]
  },
  {
   "cell_type": "markdown",
   "metadata": {},
   "source": [
    "###  `undefined`, `null` and `NaN`\n",
    "`null` refers to the \"value of nothing\", while `undefined` refers to the \"absence of value\".\n",
    "\n",
    "![zero-null-undefined.png](./img/zero-null-undefined.png)\n",
    "\n",
    "The JavaScript `undefined` property is used to represent a variable or other object that has either not been assigned a value or has not been declared at all. It is a property of the **global object** and is one of JavaScript's primitive data types. `undefined` is always available as a variable in the global scope, but is not configurable, manipulatable or enumerable.\n",
    "\n",
    "`undefined` means that an object does exist but it doesn't have any value associated with it. When you define a variable without giving it a value (e.g. `let item;`), JavaScript will give it a value of `undefined` by default:"
   ]
  },
  {
   "cell_type": "code",
   "execution_count": 19,
   "metadata": {},
   "outputs": [
    {
     "name": "stdout",
     "output_type": "stream",
     "text": [
      "undefined\n"
     ]
    }
   ],
   "source": [
    "var signedIn;\n",
    "console.log(signedIn);"
   ]
  },
  {
   "cell_type": "markdown",
   "metadata": {},
   "source": [
    "JavaScript methods, statements and functions also return `undefined` if either a) the object being returned has not been assigned a value or b) nothing is returned at all.\n",
    "\n",
    "The most common usage of `undefined` is checking whether something is `undefined`. There are two ways to check:"
   ]
  },
  {
   "cell_type": "code",
   "execution_count": 20,
   "metadata": {},
   "outputs": [],
   "source": [
    "if (signedIn === undefined) {\n",
    "  // this will execute\n",
    "}\n",
    "if (typeof signedIn === \"undefined\") {\n",
    "  // this will execute\n",
    "}"
   ]
  },
  {
   "cell_type": "markdown",
   "metadata": {},
   "source": [
    "You'll learn later why we're using `===` as opposed to `==` above, but for now, just understand that as a best practice you should always check equality using `===` because it verifies that the type of the objects is equal also. undefined is falsy in a boolean context, so like null, you can use it to determine truth and make decisions."
   ]
  },
  {
   "cell_type": "markdown",
   "metadata": {},
   "source": [
    "`null` is another of JavaScript's primitive data types and is a representation of the intentional absense of any object value. This means that, effectively, `null` is used when you want to explicitly represent \"nothing\". It is often used as the indication that an object could exist, but currently explicitly does not.\n",
    "\n",
    "When you explicitly set a variable to `null`, though, that variable then explicitly had a value of `null` rather than `undefined`:"
   ]
  },
  {
   "cell_type": "code",
   "execution_count": 21,
   "metadata": {},
   "outputs": [
    {
     "name": "stdout",
     "output_type": "stream",
     "text": [
      "null; Type: object\n"
     ]
    }
   ],
   "source": [
    "var signedIn = null;\n",
    "console.log(signedIn + '; Type: '+typeof(signedIn));"
   ]
  },
  {
   "cell_type": "markdown",
   "metadata": {},
   "source": [
    "Above, the declaration of `null` means that the variable `signedIn` points to no object. null is falsy in a boolean context and can be used to determine truth:"
   ]
  },
  {
   "cell_type": "code",
   "execution_count": 22,
   "metadata": {},
   "outputs": [],
   "source": [
    "if (null) {\n",
    "  // will not run; null is falsy\n",
    "}"
   ]
  },
  {
   "cell_type": "markdown",
   "metadata": {},
   "source": [
    "In a practical sense, you will almost always use `null` as the condition in a conditional statement, using it to make decisions based on whether a variable is `null` or not. It can, however, be used to \"wipe out\" a variable's value. If you want to eliminate a variable's value, just assign `null` to it. In the future, you may also use it as a substitute for zero-values when writing APIs, because in many cases (for example in a financial context), if a value doesn't exist, representing it as zero is not accurate and may create inaccuracies in financial calculations. Instead, API developers often use `null` where an object could be expected, but none currently exists.\n",
    "\n",
    "The difference between `null` and `undefined` is that `null` represents an object which has explicitly been assigned a value of nothing, while `undefined` is a representation that something has either not been declared or has not been assigned a value. It is \"unclear\" what it is, so it is considered to be `undefined`."
   ]
  },
  {
   "cell_type": "markdown",
   "metadata": {},
   "source": [
    "### `Infinity`, `-Infinity` and `NaN`\n",
    "`Infinity`, `-Infinity` and `NaN` are also properties of the global object, like `undefined` and `null`.\n",
    "\n",
    "`Infinity`: a special *constant* representing any number larger than about `1.8x10^308`\n",
    "`-Infinity`: a special *constant* representing any number smaller than about `-1.8x10^308`"
   ]
  },
  {
   "cell_type": "markdown",
   "metadata": {},
   "source": [
    "These values are often used in flow control and decision making like `null` and `undefined`, by checking another value to see if it is/is not *finite* or is/is *not a number*. They can also be useful to know when debugging, since you'll sometimes see a value you expected to be a number turn out to be `NaN` or one of the other values. This can help to identify exactly what's going wrong in your code. In JavaScript, since you can convert various data types between one another, it's good to know that there will be a consistent value returned `NaN` if you try to convert something into a number which cannot be converted.\n",
    "\n",
    "`isFinite()`: returns true if the number is not `Infinity` or `-Infinity`"
   ]
  },
  {
   "cell_type": "code",
   "execution_count": 23,
   "metadata": {},
   "outputs": [
    {
     "data": {
      "text/plain": [
       "true"
      ]
     },
     "execution_count": 23,
     "metadata": {},
     "output_type": "execute_result"
    }
   ],
   "source": [
    "isFinite(12345);"
   ]
  },
  {
   "cell_type": "code",
   "execution_count": 24,
   "metadata": {},
   "outputs": [
    {
     "data": {
      "text/plain": [
       "false"
      ]
     },
     "execution_count": 24,
     "metadata": {},
     "output_type": "execute_result"
    }
   ],
   "source": [
    "isFinite(1.9e308);"
   ]
  },
  {
   "cell_type": "markdown",
   "metadata": {},
   "source": [
    "`NaN`: any value which is *Not a Number*, it's often returned indicating an error with number operations. For instance, if you wrote some code that performed a math calculation, and the calculation failed to produce a valid number, `NaN` might be returned."
   ]
  },
  {
   "cell_type": "code",
   "execution_count": 25,
   "metadata": {},
   "outputs": [
    {
     "data": {
      "text/plain": [
       "NaN"
      ]
     },
     "execution_count": 25,
     "metadata": {},
     "output_type": "execute_result"
    }
   ],
   "source": [
    "// calculating the square root of a negative number will return NaN\n",
    "Math.sqrt(-10)"
   ]
  },
  {
   "cell_type": "code",
   "execution_count": 26,
   "metadata": {},
   "outputs": [
    {
     "data": {
      "text/plain": [
       "NaN"
      ]
     },
     "execution_count": 26,
     "metadata": {},
     "output_type": "execute_result"
    }
   ],
   "source": [
    "// trying to divide a string by 5 will return NaN\n",
    "\"hello\" / 5"
   ]
  },
  {
   "cell_type": "markdown",
   "metadata": {},
   "source": [
    "`isNaN()`: returns `true` if the passed value is not a number (Note: if you pass a number as a string (e.g. `'12345'`) to `isNaN()`, it will return `false` because the string will be coerced, or converted, to a number before it is evaluated."
   ]
  },
  {
   "cell_type": "code",
   "execution_count": 27,
   "metadata": {},
   "outputs": [
    {
     "data": {
      "text/plain": [
       "true"
      ]
     },
     "execution_count": 27,
     "metadata": {},
     "output_type": "execute_result"
    }
   ],
   "source": [
    "isNaN(\"hello!\");"
   ]
  },
  {
   "cell_type": "code",
   "execution_count": 28,
   "metadata": {},
   "outputs": [
    {
     "data": {
      "text/plain": [
       "false"
      ]
     },
     "execution_count": 28,
     "metadata": {},
     "output_type": "execute_result"
    }
   ],
   "source": [
    "isNaN(12345);"
   ]
  },
  {
   "cell_type": "code",
   "execution_count": 29,
   "metadata": {},
   "outputs": [
    {
     "data": {
      "text/plain": [
       "false"
      ]
     },
     "execution_count": 29,
     "metadata": {},
     "output_type": "execute_result"
    }
   ],
   "source": [
    "isNaN('12345');"
   ]
  },
  {
   "cell_type": "markdown",
   "metadata": {},
   "source": [
    "### Comparing numbers\n",
    "Just like in mathematics, you can compare two numbers to see if one’s greater than, less than, or equal to the other. Comparisons between numbers will either evaluate to true or false. The values `true` and `false` have significant importance in JavaScript, these values are called **Boolean**s\n",
    "\n",
    "|Operator|Meaning|\n",
    "|-|:-|\n",
    "<\t|Less than|\n",
    "|>\t|Greater than|\n",
    "|<=\t|Less than or Equal to|\n",
    "|>=\t|Greater than or Equal to|\n",
    "|==\t|Equal to|\n",
    "|!=\t|Not Equal to|\n",
    "|===|Strict Equal to (with comparison of data type)|\n",
    "|!==|Strict Not Equal (with comparison of data type)|"
   ]
  },
  {
   "cell_type": "code",
   "execution_count": 30,
   "metadata": {},
   "outputs": [
    {
     "data": {
      "text/plain": [
       "false"
      ]
     },
     "execution_count": 30,
     "metadata": {},
     "output_type": "execute_result"
    }
   ],
   "source": [
    "5 > 10"
   ]
  },
  {
   "cell_type": "code",
   "execution_count": 31,
   "metadata": {},
   "outputs": [
    {
     "data": {
      "text/plain": [
       "true"
      ]
     },
     "execution_count": 31,
     "metadata": {},
     "output_type": "execute_result"
    }
   ],
   "source": [
    "5 < 10"
   ]
  },
  {
   "cell_type": "code",
   "execution_count": 32,
   "metadata": {},
   "outputs": [
    {
     "data": {
      "text/plain": [
       "false"
      ]
     },
     "execution_count": 32,
     "metadata": {},
     "output_type": "execute_result"
    }
   ],
   "source": [
    "5 == 10"
   ]
  },
  {
   "cell_type": "markdown",
   "metadata": {},
   "source": [
    "### Type Coercion\n",
    "**Type coercion** is the implicit/automatic conversion of one data type to another. Since JavaScript is a weakly typed language, JavaScript will automatically convert data types to different data types as needed. For example, in JavaScript when you add a string to a number, the number is implicitly converted to a string, and the result is actually the concatenation of the two strings:"
   ]
  },
  {
   "cell_type": "code",
   "execution_count": 33,
   "metadata": {},
   "outputs": [
    {
     "data": {
      "text/plain": [
       "'11'"
      ]
     },
     "execution_count": 33,
     "metadata": {},
     "output_type": "execute_result"
    }
   ],
   "source": [
    "1 + \"1\""
   ]
  },
  {
   "cell_type": "markdown",
   "metadata": {},
   "source": [
    "Obviously in the above case, the result is not correct. This also happens in other situations even if two of the same data type are involved in an operation that would normally return a different type. Consider the addition of a series of booleans:"
   ]
  },
  {
   "cell_type": "code",
   "execution_count": 34,
   "metadata": {},
   "outputs": [
    {
     "data": {
      "text/plain": [
       "1"
      ]
     },
     "execution_count": 34,
     "metadata": {},
     "output_type": "execute_result"
    }
   ],
   "source": [
    "true + false"
   ]
  },
  {
   "cell_type": "code",
   "execution_count": 35,
   "metadata": {},
   "outputs": [
    {
     "data": {
      "text/plain": [
       "3"
      ]
     },
     "execution_count": 35,
     "metadata": {},
     "output_type": "execute_result"
    }
   ],
   "source": [
    "true + true + true"
   ]
  },
  {
   "cell_type": "markdown",
   "metadata": {},
   "source": [
    "Because the addition operator normally returns a number, and the sum of some number of booleans can't be represented any other way, JavaScript converts the booleans to their binary values (`1` for `true` and `0` for `false`) and then adds them together. Thus, the first line is converted to `1 + 0`, which equals `1`, and the second is converted to `1 + 1 + 1` which equals `3`. This even happens when adding two numbers together, in some situations.\n",
    "\n",
    "To resolve the above issues, sometimes you'll need to explicitly convert the values you're working with into the proper data type before manipulating them. To resolve the issue with adding a number to a string, either remove the quotation marks from around the string or use the built-in Number() method to convert it to a number:"
   ]
  },
  {
   "cell_type": "code",
   "execution_count": 36,
   "metadata": {},
   "outputs": [
    {
     "data": {
      "text/plain": [
       "2"
      ]
     },
     "execution_count": 36,
     "metadata": {},
     "output_type": "execute_result"
    }
   ],
   "source": [
    "1 + Number(\"1\")"
   ]
  },
  {
   "cell_type": "markdown",
   "metadata": {},
   "source": [
    "One extremely important consideration with respect to JavaScript's type coercion is the issue of equality. You might recall that there are two ways to check if two things are equal in JavaScript: `==` and `===`. The important thing to realize is that using `==` implicitly coerces data types! This means that `1 == \"1\"` will return `true`:"
   ]
  },
  {
   "cell_type": "code",
   "execution_count": 37,
   "metadata": {},
   "outputs": [
    {
     "data": {
      "text/plain": [
       "true"
      ]
     },
     "execution_count": 37,
     "metadata": {},
     "output_type": "execute_result"
    }
   ],
   "source": [
    "1 == \"1\""
   ]
  },
  {
   "cell_type": "markdown",
   "metadata": {},
   "source": [
    "In reality, these two things are not equal: one is a string and the other is a number. To get the proper result, you must use `===`. This is why it's considered a best practice to always use `===` when checking equality unless you have a specific reason not to. Doing so will ensure that you will never end up with two things that are not really equal being treated as equal because JavaScript coerced them to the same data type.\n",
    "\n",
    "Type coercion is a double edged sword. It is helpful because it allows us to assume things and write less verbose code, allowing JavaScript to do some of the work for us, but it also opens the door to difficult to detect bugs since unlike its counterparts that do not implicitly coerce data types, JavaScript will not throw an error when you try to perform operations on data types that are really not compatible."
   ]
  },
  {
   "cell_type": "markdown",
   "metadata": {},
   "source": [
    "### Arithmetical Operators\n",
    "```JavaScript\n",
    "x + y      //  3+5               Addition Operator\n",
    "x + y      //  '10'+8 (='108')   Concatenation Operator\n",
    "x - y      //  5-3  (=2)         Subtraction Operator\n",
    "x * y      //  2*3  (=6)         Multiplication Operator\n",
    "x / y      //  5/3  (=1.66666)   Division Operator\n",
    "x % y      //  5%3 (=2)          Modulo Operator (returns the remainder)\n",
    "Math.floor(x / y) //             Floor Division\n",
    "x ** y      // 2**3 (=8)         Exponentiation\n",
    "x++ or ++x // same as x = x + 1  Increment Operator\n",
    "x-- or --x // same as x = x - 1  Decrement Operator\n",
    "```"
   ]
  },
  {
   "cell_type": "code",
   "execution_count": 38,
   "metadata": {},
   "outputs": [
    {
     "data": {
      "text/plain": [
       "5.1"
      ]
     },
     "execution_count": 38,
     "metadata": {},
     "output_type": "execute_result"
    }
   ],
   "source": [
    "3 + 2.1"
   ]
  },
  {
   "cell_type": "code",
   "execution_count": 39,
   "metadata": {},
   "outputs": [
    {
     "data": {
      "text/plain": [
       "2"
      ]
     },
     "execution_count": 39,
     "metadata": {},
     "output_type": "execute_result"
    }
   ],
   "source": [
    "5%3"
   ]
  },
  {
   "cell_type": "markdown",
   "metadata": {},
   "source": [
    "#### Incrementing and Decrementing\n",
    "The increment `++` and decrement `--` operators offer a shortcut for adding/subtracting `1` to/from a variable. The following two pieces of code are equivalent:\n",
    "\n",
    "Without Increment Operator:\n",
    "```JavaScript\n",
    "let x = 1;\n",
    "x = x + 1;\n",
    "```\n",
    "With Increment Operator:\n",
    "```JavaScript\n",
    "let x = 1;\n",
    "x++;\n",
    "```\n",
    "In both samples above, x is incremented by 1 and becomes 2."
   ]
  },
  {
   "cell_type": "markdown",
   "metadata": {},
   "source": [
    "If used **postfix**, with operator after operand (for example, `x++`), the increment operator increments and returns the value **before** incrementing."
   ]
  },
  {
   "cell_type": "code",
   "execution_count": 40,
   "metadata": {},
   "outputs": [
    {
     "name": "stdout",
     "output_type": "stream",
     "text": [
      "v=4 w=3\n"
     ]
    }
   ],
   "source": [
    "let v = 3;\n",
    "w = v++;\n",
    "console.log('v='+v, 'w='+w)"
   ]
  },
  {
   "cell_type": "markdown",
   "metadata": {},
   "source": [
    "If used **prefix**, with operator before operand (for example, `++x`), the increment operator increments and returns the value **after** incrementing:"
   ]
  },
  {
   "cell_type": "code",
   "execution_count": 41,
   "metadata": {},
   "outputs": [
    {
     "name": "stdout",
     "output_type": "stream",
     "text": [
      "v=4 w=4\n"
     ]
    }
   ],
   "source": [
    "v = 3;\n",
    "w = ++v;\n",
    "console.log('v=' + v, 'w='+w)"
   ]
  },
  {
   "cell_type": "markdown",
   "metadata": {},
   "source": [
    "### Bitwise Operators\n",
    "To a computer, any piece of data can ultimately be broken down into its individual binary bits - a series of ones and zeros. For example, the decimal number `1` in binary notation can be represented as `1`, decimal `2` can be represented as binary `10` and decimal `3` can be represented as binary `11`. \n",
    "* In binary, the last digit has a value of 1,\n",
    "* the 2nd last has a value of 2, \n",
    "* the third last has a value of 4,\n",
    "* the fourth last has a value of 8,\n",
    "* and so on with powers of 2.\n",
    "\n",
    "In computing the basic storage block is a *byte* which consists of 8 bits e.g. `00000000`, where the decimal values of the bits from left-to-right are: `128` `64` `32` `16` `8` `4` `2` `1`.\n",
    "\n",
    "To convert from binary to decimal, you simply add the decimal values of each `1` bit together, hence `101` becomes 4+0+1 = 5. You can think of the binary bits like light switches: they are either `on` (=`1`) or `off` (=`0`). If they're `on` their value is counted.\n",
    "\n",
    "|Decimal value of bits|128|64|32|16|8|4|2|1|\n",
    "|---------------------|---|--|--|--|-|-|-|-|\n",
    "|decimal 35 in binary |0|0|1|0|0|0|1|1|\n",
    "\n",
    "35 = 0\\*128 + 0\\*64 + 1\\*32 + 0\\*16 + 0\\*8 + 0\\*4 + 1\\*2 + 1\\*1\n",
    "\n",
    "Why is this important? Sometimes you might want to manipulate data on a binary level, such as shifting bits that are `on` to the left or right, swapping bits with one another, or comparing bits together using logical operators like AND, OR or NOT. For these purposes, in most programming languages there exist the **bitwise operators** below:\n",
    "\n",
    "|Operator|Name|Purpose|\n",
    "|-|:-|:-|\n",
    "|`&`\t|AND|\tSets each bit to 1 if both bits are 1\n",
    "|`|`\t|OR|\tSets each bit to 1 if one of two bits is 1\n",
    "|`^`\t|XOR|\tExclusive OR: Sets each bit to 1 if only one of two bits is 1\n",
    "|`~`\t|NOT|\tInverts all the bits\n",
    "|`<<`\t|Left shift|\tShifts left by pushing zeros in from the right, and lets the leftmost bits fall off\n",
    "|`>>`\t|Right shift|\tShifts right by pushing copies of the leftmost bit in from the left, and lets the rightmost bits fall off\n",
    "|`>>>`\t|Zero-fill (unsigned) right shift|\tShifts right by pushing zeros in from the left, and lets the rightmost bits fall off"
   ]
  },
  {
   "cell_type": "markdown",
   "metadata": {},
   "source": [
    "### Operator Precedence : PEMDAS (Please Excuse My Dear Aunt Sally!)\n",
    "![PEMDAS.PNG](./img/PEMDAS.PNG)\n",
    "\n",
    "You can also perform calculations with numbers pretty easily. Basically type out an expression the way you would type it in a calculator."
   ]
  },
  {
   "cell_type": "markdown",
   "metadata": {},
   "source": [
    "### The `Math` object\n",
    "The `Math` object in JavaScript is a built-in utility for working with the `Number` data type. It contains several useful predefined functions, constants and properties which can be used for all sorts of mathematical operations. Some examples of things included in the `Math` object are:\n",
    "\n",
    "|method/property|description|\n",
    "|:-|:-|\n",
    "|Math.PI: |The constant pi\n",
    "|Math.random() |returns a random number between 0 and 1\n",
    "|Math.abs() |determines the absolute value of a number\n",
    "|Math.min() |returns the minimum of a series of numbers\n",
    "|Math.max() |returns the maximum of a series of numbers\n",
    "|Math.floor() |returns the largest integer which is less than or equal to the passed argument\n",
    "|Math.ceil() |returns the smallest integer which is greater than or equal to the passed argument\n",
    "|Math.round() |returns the nearest integer to the passed argument\n",
    "|Math.pow() |takes two arguments and returns the first argument raised to the power of the second\n",
    "|Math.sqrt() |returns the square root of the passed argument\n",
    "\n",
    "there are many useful functions and properties of the `Math` object. If you need a reference of all the available methods and their functionality, you can use the [MDN Website](https://developer.mozilla.org/en-US/docs/Web/JavaScript/Reference/Global_Objects/Math)."
   ]
  },
  {
   "cell_type": "code",
   "execution_count": 42,
   "metadata": {},
   "outputs": [
    {
     "data": {
      "text/plain": [
       "0.64326241617333"
      ]
     },
     "execution_count": 42,
     "metadata": {},
     "output_type": "execute_result"
    }
   ],
   "source": [
    "Math.random();    // random number between 0 and 1"
   ]
  },
  {
   "cell_type": "code",
   "execution_count": 43,
   "metadata": {},
   "outputs": [
    {
     "data": {
      "text/plain": [
       "4"
      ]
     },
     "execution_count": 43,
     "metadata": {},
     "output_type": "execute_result"
    }
   ],
   "source": [
    "Math.floor(Math.random()*6+1);  //roll the dice! between 1 and 6"
   ]
  },
  {
   "cell_type": "code",
   "execution_count": 44,
   "metadata": {},
   "outputs": [
    {
     "data": {
      "text/plain": [
       "[ 12, -13 ]"
      ]
     },
     "execution_count": 44,
     "metadata": {},
     "output_type": "execute_result"
    }
   ],
   "source": [
    "[Math.floor(12.56), Math.floor(-12.56)];"
   ]
  },
  {
   "cell_type": "code",
   "execution_count": 45,
   "metadata": {},
   "outputs": [
    {
     "data": {
      "text/plain": [
       "[ 13, -12 ]"
      ]
     },
     "execution_count": 45,
     "metadata": {},
     "output_type": "execute_result"
    }
   ],
   "source": [
    "[Math.ceil(12.56), Math.ceil(-12.56)];"
   ]
  },
  {
   "cell_type": "code",
   "execution_count": 46,
   "metadata": {},
   "outputs": [
    {
     "data": {
      "text/plain": [
       "[ 13, -13 ]"
      ]
     },
     "execution_count": 46,
     "metadata": {},
     "output_type": "execute_result"
    }
   ],
   "source": [
    "[Math.round(12.56), Math.round(-12.56)];"
   ]
  },
  {
   "cell_type": "code",
   "execution_count": 47,
   "metadata": {},
   "outputs": [
    {
     "data": {
      "text/plain": [
       "[ 12, -12 ]"
      ]
     },
     "execution_count": 47,
     "metadata": {},
     "output_type": "execute_result"
    }
   ],
   "source": [
    "[Math.round(12.46), Math.round(-12.46)];"
   ]
  },
  {
   "cell_type": "code",
   "execution_count": 48,
   "metadata": {},
   "outputs": [
    {
     "data": {
      "text/plain": [
       "8"
      ]
     },
     "execution_count": 48,
     "metadata": {},
     "output_type": "execute_result"
    }
   ],
   "source": [
    "Math.pow(2,3);"
   ]
  },
  {
   "cell_type": "code",
   "execution_count": 49,
   "metadata": {},
   "outputs": [
    {
     "data": {
      "text/plain": [
       "3"
      ]
     },
     "execution_count": 49,
     "metadata": {},
     "output_type": "execute_result"
    }
   ],
   "source": [
    "Math.sqrt(9);"
   ]
  },
  {
   "cell_type": "markdown",
   "metadata": {},
   "source": [
    "### The `Date` object\n",
    "\n",
    "The built in global object `Date` represents a single moment in time. Specifically, a JavaScript date represents the number of milliseconds that have elapsed since the UNIX Epoch, or midnight on January 1, 1970, UTC. This date is the universally accepted standard base value for computer-based date and time values. Dates and times are an integral part of any computer application or system and can be used for a multitude of things ranging from tracking user login and logout timestamps to triggering system backups, gaming applications to automated payment systems and beyond.\n",
    "\n",
    "The `Date()` object is a contructor and can be used to create a JavaScript date:"
   ]
  },
  {
   "cell_type": "code",
   "execution_count": 50,
   "metadata": {},
   "outputs": [
    {
     "data": {
      "text/plain": [
       "2021-02-18T18:16:00.523Z"
      ]
     },
     "execution_count": 50,
     "metadata": {},
     "output_type": "execute_result"
    }
   ],
   "source": [
    "var now = new Date();\n",
    "now;"
   ]
  },
  {
   "cell_type": "code",
   "execution_count": 51,
   "metadata": {},
   "outputs": [
    {
     "data": {
      "text/plain": [
       "'Thu Feb 18 2021 18:16:00 GMT+0000 (Greenwich Mean Time)'"
      ]
     },
     "execution_count": 51,
     "metadata": {},
     "output_type": "execute_result"
    }
   ],
   "source": [
    "now.toString();"
   ]
  },
  {
   "cell_type": "code",
   "execution_count": 52,
   "metadata": {},
   "outputs": [
    {
     "data": {
      "text/plain": [
       "'Thu, 18 Feb 2021 18:16:00 GMT'"
      ]
     },
     "execution_count": 52,
     "metadata": {},
     "output_type": "execute_result"
    }
   ],
   "source": [
    "now.toUTCString();"
   ]
  },
  {
   "cell_type": "code",
   "execution_count": 53,
   "metadata": {},
   "outputs": [
    {
     "data": {
      "text/plain": [
       "'2/18/2021, 6:16:00 PM'"
      ]
     },
     "execution_count": 53,
     "metadata": {},
     "output_type": "execute_result"
    }
   ],
   "source": [
    "now.toLocaleString('de-DE');"
   ]
  },
  {
   "cell_type": "markdown",
   "metadata": {},
   "source": [
    "The `Date.now()` static method returns the integer representation of the current date relative to the UNIX Epoch. Because it's an integer representation, it's possible to add a number to it. To get the exact same time tomorrow we could add the number of milliseconds in a day (24 * 60 * 60 * 1000):"
   ]
  },
  {
   "cell_type": "code",
   "execution_count": 54,
   "metadata": {},
   "outputs": [
    {
     "data": {
      "text/plain": [
       "[ 1613672160597, 1613758560597 ]"
      ]
     },
     "execution_count": 54,
     "metadata": {},
     "output_type": "execute_result"
    }
   ],
   "source": [
    "var today = Date.now();\n",
    "var tomorrow = today + 86400000;  // 86400000 milliseconds in 1 day\n",
    "[today, tomorrow]"
   ]
  },
  {
   "cell_type": "markdown",
   "metadata": {},
   "source": [
    "You can also create a `Date` object from a timestamp like those above by passing the timestamp to the `Date()` contructor, and then use the `toDateString()` method to get a human readable date:"
   ]
  },
  {
   "cell_type": "code",
   "execution_count": 55,
   "metadata": {},
   "outputs": [
    {
     "data": {
      "text/plain": [
       "[ 'Thu Feb 18 2021', 'Fri Feb 19 2021' ]"
      ]
     },
     "execution_count": 55,
     "metadata": {},
     "output_type": "execute_result"
    }
   ],
   "source": [
    "var todayDate    = new Date(today);\n",
    "var tomorrowDate = new Date(tomorrow);\n",
    "[todayDate.toDateString(), tomorrowDate.toDateString()];"
   ]
  },
  {
   "cell_type": "code",
   "execution_count": 56,
   "metadata": {},
   "outputs": [
    {
     "name": "stdout",
     "output_type": "stream",
     "text": [
      "2021\n",
      "1\n",
      "18\n",
      "4\n",
      "18\n",
      "16\n",
      "0\n",
      "523\n"
     ]
    }
   ],
   "source": [
    "console.log(now.getFullYear());      // The 4 digit year\n",
    "console.log(now.getMonth());         // The month index (0-11)\n",
    "console.log(now.getDate());          // The day of the month (1-31)\n",
    "console.log(now.getDay());           // The day of the week index (0-6)\n",
    "console.log(now.getHours());         // The hour (0-23)\n",
    "console.log(now.getMinutes());       // The minute (0-59)\n",
    "console.log(now.getSeconds());       // The seconds (0-59)\n",
    "console.log(now.getMilliseconds());  // The milliseconds (0-999)"
   ]
  },
  {
   "cell_type": "markdown",
   "metadata": {},
   "source": [
    "All of the above methods return the date/time part in your **local time**. If you need UTC time, there is a UTC counterpart for each one:"
   ]
  },
  {
   "cell_type": "code",
   "execution_count": 57,
   "metadata": {},
   "outputs": [
    {
     "name": "stdout",
     "output_type": "stream",
     "text": [
      "2021\n",
      "1\n",
      "18\n",
      "4\n",
      "18\n",
      "16\n",
      "0\n",
      "523\n"
     ]
    }
   ],
   "source": [
    "console.log(now.getUTCFullYear());      // The 4 digit year\n",
    "console.log(now.getUTCMonth());         // The month (0-11)\n",
    "console.log(now.getUTCDate());          // The day of the month (1-31)\n",
    "console.log(now.getUTCDay());           // The day of the week (0-6)\n",
    "console.log(now.getUTCHours());         // The hour (0-23)\n",
    "console.log(now.getUTCMinutes());       // The minute (0-59)\n",
    "console.log(now.getUTCSeconds());       // The seconds (0-59)\n",
    "console.log(now.getUTCMilliseconds());  // The milliseconds (0-999)"
   ]
  },
  {
   "cell_type": "code",
   "execution_count": 58,
   "metadata": {},
   "outputs": [
    {
     "data": {
      "text/plain": [
       "'1/31/2000, 12:00:00 AM'"
      ]
     },
     "execution_count": 58,
     "metadata": {},
     "output_type": "execute_result"
    }
   ],
   "source": [
    "var birthday = new Date(2000,0,31); //31st January, 2000\n",
    "birthday.toLocaleString('en-GB');"
   ]
  },
  {
   "cell_type": "code",
   "execution_count": 59,
   "metadata": {},
   "outputs": [
    {
     "data": {
      "text/plain": [
       "'1/31/1975, 12:00:00 AM'"
      ]
     },
     "execution_count": 59,
     "metadata": {},
     "output_type": "execute_result"
    }
   ],
   "source": [
    "birthday.setYear(1975);\n",
    "birthday.toLocaleString('de-DE');"
   ]
  },
  {
   "cell_type": "markdown",
   "metadata": {},
   "source": [
    "You can also format the date according to your local format, and there are several methods for producing human readable dates. For a full listing of the Date object's methods and functionality, see the [MDN Reference](https://developer.mozilla.org/en-US/docs/Web/JavaScript/Reference/Global_Objects/Date)."
   ]
  },
  {
   "cell_type": "markdown",
   "metadata": {},
   "source": [
    "### Strings\n",
    "Strings are a collection of characters enclosed inside double or single quotes. You can use strings to represent data like sentences, names, addresses, and more. It is correct to either use double \" or single ' quotes with strings, as long as you're consistent. The [JavaScript Udacity style guide for labs and projects](http://udacity.github.io/frontend-nanodegree-styleguide/javascript.html) suggests using single quotes to define string literals.\n",
    "\n",
    "Strings can be created by surrounding a string of text in either single quotes or double quotes, like this:\n",
    "```JavaScript\n",
    "'This is a string!'\n",
    "\"This is a string, too!\"\n",
    "```\n",
    "The type of quotation marks you use doesn't matter, though most developers these days prefer single quotes since it's one less keystroke (you don't have to hold down shift).\n",
    "\n",
    "If you want to include a literal quotation mark in your string of text, you must enclose the string in the opposite kind:\n",
    "```JavaScript\n",
    "\"This string's got a single quote in it.\"\n",
    "'The developer said, \"Strings are awesome!\"'\n",
    "```\n",
    "The reason for this is obvious if we look at a couple strings:\n",
    "```JavaScript\n",
    "'This one doesn't work'\n",
    "```\n",
    "JavaScript doesn't know whether the single quote in `doesn't` is the closing quote from the beginning of the string, or the apostrophe in the word itself.\n",
    "```JavaScript\n",
    "\"He said \"My name is Bob\"\"\n",
    "```\n",
    "JavaScript will interpret the double quote just before `\"My name is` as the closing quote matching the one at the beginning of the string.\n",
    "\n",
    "Both of the above situations will generate syntax errors, so you do need to be strategic in which quotes you choose, depending on the text of your string.\n",
    "\n",
    "#### Escaping characters\n",
    "There is an other way to use quotes *inside a string*, and have JavaScript not misunderstand your intentions, you’ll need a different way to write quotes using the backslash character `\\`.\n",
    "\n",
    "In JavaScript, you use the backslash to **escape** other characters. Escaping a character tells JavaScript to ignore the character's special meaning and just use the literal value of the character. This is helpful for characters that have special meanings like in our previous example with quotes `\"…\"`.\n",
    "\n",
    "Because quotes are used to signify the beginning and end of a string, you can use the backslash character to escape the quotes in order to access the literal quote character. This guarantees that the JavaScript engine doesn’t misinterpret the string and result in an error."
   ]
  },
  {
   "cell_type": "code",
   "execution_count": 60,
   "metadata": {},
   "outputs": [
    {
     "name": "stdout",
     "output_type": "stream",
     "text": [
      "The man whispered, \"can you hear me?\"\n"
     ]
    }
   ],
   "source": [
    "console.log(\"The man whispered, \\\"can you hear me?\\\"\")"
   ]
  },
  {
   "cell_type": "markdown",
   "metadata": {},
   "source": [
    "#### Special characters\n",
    "Quotes aren’t the only special characters that need to be escaped, there’s actually quite a few. However, to keep it simple, here’s a list of some common special characters in JavaScript.\n",
    "\n",
    "|Code|Character|\n",
    "|:-:|:-|\n",
    "|\\\\\\\\|backslash|\n",
    "|\\\\\"|double quote|\n",
    "|\\\\'|single quote|\n",
    "|\\r |carriage return|\n",
    "|\\n |newline|\n",
    "|\\t |horizontal tabulator|\n",
    "\n",
    "The last two characters listed in the table, newline `\\n` and tabulator `\\t` are unique because they add additional whitespace to your Strings. A newline character will add a line break and a tab character will advance your line to the next [tab stop](https://en.wikipedia.org/wiki/Tab_stop).\n",
    "\n",
    "Note: the `\\r` character is not commonly used. It is part of a special Windows sequence `\\r\\n`, which signifies that the enter key was pressed, but modern Windows understands simply `\\n` to mean \"new line\", so you can use that universally to render new lines."
   ]
  },
  {
   "cell_type": "code",
   "execution_count": 61,
   "metadata": {},
   "outputs": [
    {
     "name": "stdout",
     "output_type": "stream",
     "text": [
      "This string has\n",
      "multiple lines.\n",
      "Hooray!\n"
     ]
    }
   ],
   "source": [
    "console.log('This string has\\nmultiple lines.\\nHooray!')"
   ]
  },
  {
   "cell_type": "markdown",
   "metadata": {},
   "source": [
    "#### String concatenation\n",
    "Did you know you can even add strings together? In JavaScript, this is called concatenating. Concatenating two strings together is actually pretty simple! \n",
    "\n",
    "You will see other ways to concatenate and do even more with strings later in this course."
   ]
  },
  {
   "cell_type": "code",
   "execution_count": 62,
   "metadata": {},
   "outputs": [
    {
     "data": {
      "text/plain": [
       "'Hello, New York City'"
      ]
     },
     "execution_count": 62,
     "metadata": {},
     "output_type": "execute_result"
    }
   ],
   "source": [
    "\"Hello,\" + \" New York City\""
   ]
  },
  {
   "cell_type": "code",
   "execution_count": 63,
   "metadata": {},
   "outputs": [
    {
     "data": {
      "text/plain": [
       "'string'"
      ]
     },
     "execution_count": 63,
     "metadata": {},
     "output_type": "execute_result"
    }
   ],
   "source": [
    "typeof 'Hello'"
   ]
  },
  {
   "cell_type": "markdown",
   "metadata": {},
   "source": [
    "#### Template Literals\n",
    "As with most things in code when something becomes too complex or tedious developers will eventually find a way to simplify it. Luckily, that's the case with strings too. When you need to use a lot of special characters in your string, or maybe even include a variable, you can use a template literal instead.\n",
    "\n",
    "Creating a template literal is easy. All you have to do is surround the string with backticks(\\`\\`) instead of single or double quotes. Between the backticks you can use any characters you want including newlines, tabs, quotes and even variables! The interpreter will interpret the string as it's written in the code, which makes this type of string ideal for creating strings of HTML in your JavaScript, while keeping the HTML itself easy to read. A good example of this would be if you wanted to use JavaScript to render a list of something in an HTML list:\n",
    "\n",
    "```JavaScript\n",
    "let fourthItem = 'Item 4';\n",
    "let myHtml = `\n",
    "  <ol class=\"item-list\">\n",
    "    <li>Item 1</li>\n",
    "    <li>Item 2</li>\n",
    "    <li>Item 3</li>\n",
    "    <li>${fourthItem}</li>\n",
    "  </ol>\n",
    "`;\n",
    "```\n",
    "In the above, everything between the opening backtick and the closing backtick including the quotes, newlines and indentation will all be interpreted as part of the string. The variable, `fourthItem`, will be evaluated and included as `Item 4`. This is the preferred method of creating complex strings in modern JavaScript, but for simple strings you can stick with regular quotes and escape characters."
   ]
  },
  {
   "cell_type": "markdown",
   "metadata": {},
   "source": [
    "#### String interpolation\n",
    "You can use template literals to inject variable content directly into the string without using the additional concatenation. The process of injecting variables into strings using template literals is called **string interpolation**.\n",
    "The `$(...)` template within a string enables you to include variables or expressions:"
   ]
  },
  {
   "cell_type": "code",
   "execution_count": 64,
   "metadata": {},
   "outputs": [
    {
     "name": "stdout",
     "output_type": "stream",
     "text": [
      "Bilbo Baggins lives at Bag End in the 4th house\n"
     ]
    }
   ],
   "source": [
    "let bName = \"Bilbo Baggins\";\n",
    "let bHome = \"Bag End\";\n",
    "let bHouse = 2;\n",
    "\n",
    "console.log(`${bName} lives at ${bHome} in the ${2*bHouse}th house`);"
   ]
  },
  {
   "cell_type": "markdown",
   "metadata": {},
   "source": [
    "#### String Methods\n",
    "A **method** is a function that is associated with a particular type of object (such as a `String`, a `Number`, or a `Class`). For all intents and purposes, methods are the same as functions, and can be invoked, or called, in an identical way. Many of the objects you'll work with in JavaScript also have methods which can be called in order to operate on them in some way.\n",
    "\n",
    "String objects have a number of methods and properties that can be used to manipulate them. These methods and properties are small functions or characteristics that allow you to easily do things like getting the length of the string, converting the whole string to upper/lowercase, searching the string to find a substring within it, duplicating or repeating it, replacing characters in it and so on.\n",
    "\n",
    "To use the different string methods and properties all you need to do is call them on a string variable."
   ]
  },
  {
   "cell_type": "markdown",
   "metadata": {},
   "source": [
    "|Method/Property\t|Description\n",
    "|:-|:-|\n",
    "|length\t|Returns the length of a string\n",
    "|charAt()\t|Returns the character at the specified index (position)\n",
    "|charCodeAt()\t|Returns the Unicode of the character at the specified index\n",
    "|concat()\t|Joins two or more strings, and returns a new joined strings\n",
    "|endsWith()\t|Checks whether a string ends with specified string/characters\n",
    "|fromCharCode()\t|Converts Unicode values to characters\n",
    "|includes()\t|Checks whether a string contains the specified string/characters\n",
    "|indexOf()\t|Returns the position of the first found occurrence of a specified value in a string\n",
    "|lastIndexOf()\t|Returns the position of the last found occurrence of a specified value in a string\n",
    "|localeCompare()\t|Compares two strings in the current locale\n",
    "|match()\t|Searches a string for a match against a regular expression, and returns the matches\n",
    "|repeat()\t|Returns a new string with a specified number of copies of an existing string\n",
    "|replace()\t|Searches a string for a specified value, or a regular expression, and returns a new string where the specified values are replaced\n",
    "|search()\t|Searches a string for a specified value, or regular expression, and returns the position of the match\n",
    "|slice()\t|Extracts a part of a string and returns a new string\n",
    "|split()\t|Splits a string into an array of substrings\n",
    "|startsWith()\t|Checks whether a string begins with specified characters\n",
    "|substr()\t|Extracts the characters from a string, beginning at a specified start position, and through the specified number of character\n",
    "|substring()\t|Extracts the characters from a string, between two specified indices\n",
    "|toLocaleLowerCase()\t|Converts a string to lowercase letters, according to the host's locale\n",
    "|toLocaleUpperCase()\t|Converts a string to uppercase letters, according to the host's locale\n",
    "|toLowerCase()\t|Converts a string to lowercase letters\n",
    "|toString()\t|Returns the value of a String object\n",
    "|toUpperCase()\t|Converts a string to uppercase letters\n",
    "|trim()\t|Removes whitespace from both ends of a string\n",
    "|valueOf()\t|Returns the primitive value of a String object"
   ]
  },
  {
   "cell_type": "markdown",
   "metadata": {},
   "source": [
    "#### String method `toLowerCase()` and `toUpperCase()`\n",
    "The `toLowerCase()` method converts every letter in the string to a lowercase letter. As you might have guessed, there's also a `toUpperCase()` method:"
   ]
  },
  {
   "cell_type": "code",
   "execution_count": 65,
   "metadata": {},
   "outputs": [
    {
     "data": {
      "text/plain": [
       "'this is the title of a book'"
      ]
     },
     "execution_count": 65,
     "metadata": {},
     "output_type": "execute_result"
    }
   ],
   "source": [
    "\"This is the Title of a Book\".toLowerCase()"
   ]
  },
  {
   "cell_type": "code",
   "execution_count": 66,
   "metadata": {},
   "outputs": [
    {
     "data": {
      "text/plain": [
       "'THIS IS THE TITLE OF A BOOK'"
      ]
     },
     "execution_count": 66,
     "metadata": {},
     "output_type": "execute_result"
    }
   ],
   "source": [
    "\"This is the Title of a Book\".toUpperCase();"
   ]
  },
  {
   "cell_type": "markdown",
   "metadata": {},
   "source": [
    "#### String Indexing\n",
    "Did you know that you can access individual characters in a string? To access an individual character, you can use the character's location in the string, called its **index**. Characters within a string are indexed starting from `0`, where the first character is at position `0`, to `n-1`, where the last character is at position `n-1` (`n` represents the total number of characters within a string).\n",
    "\n",
    "Just put the index of the character inside square brackets `[...]` (starting with `0` as the first character) immediately after the string. For example:"
   ]
  },
  {
   "cell_type": "code",
   "execution_count": 67,
   "metadata": {},
   "outputs": [
    {
     "data": {
      "text/plain": [
       "'J'"
      ]
     },
     "execution_count": 67,
     "metadata": {},
     "output_type": "execute_result"
    }
   ],
   "source": [
    "\"James\"[0];"
   ]
  },
  {
   "cell_type": "markdown",
   "metadata": {},
   "source": [
    "the length of a string is stored in the string's `length` attribute:"
   ]
  },
  {
   "cell_type": "code",
   "execution_count": 68,
   "metadata": {},
   "outputs": [
    {
     "data": {
      "text/plain": [
       "5"
      ]
     },
     "execution_count": 68,
     "metadata": {},
     "output_type": "execute_result"
    }
   ],
   "source": [
    "\"James\".length;"
   ]
  },
  {
   "cell_type": "markdown",
   "metadata": {},
   "source": [
    "The last character in a string has index `length - 1`:"
   ]
  },
  {
   "cell_type": "code",
   "execution_count": 69,
   "metadata": {},
   "outputs": [
    {
     "data": {
      "text/plain": [
       "'s'"
      ]
     },
     "execution_count": 69,
     "metadata": {},
     "output_type": "execute_result"
    }
   ],
   "source": [
    "\"James\"[\"James\".length-1];"
   ]
  },
  {
   "cell_type": "markdown",
   "metadata": {},
   "source": [
    "#### String method `charAt()`\n",
    "Another useful method related to string indexing is the `charAt()` method, which returns the character at a given index. If the index number is not found, this method will return an empty string:"
   ]
  },
  {
   "cell_type": "code",
   "execution_count": 70,
   "metadata": {},
   "outputs": [
    {
     "data": {
      "text/plain": [
       "'J'"
      ]
     },
     "execution_count": 70,
     "metadata": {},
     "output_type": "execute_result"
    }
   ],
   "source": [
    "'James'.charAt(0);"
   ]
  },
  {
   "cell_type": "markdown",
   "metadata": {},
   "source": [
    "#### String method `slice()`\n",
    "if you need to slice a string to get only certain characters you can use the `slice()` method, which takes two parameters: a starting index and an ending index. If you pass only the starting index, `slice()` will return that index plus rest of the string:"
   ]
  },
  {
   "cell_type": "code",
   "execution_count": 71,
   "metadata": {},
   "outputs": [
    {
     "name": "stdout",
     "output_type": "stream",
     "text": [
      "ames\n",
      "Jam\n",
      "ame\n"
     ]
    }
   ],
   "source": [
    "console.log('James'.slice(1));     // ames\n",
    "console.log('James'.slice(0, 3));  // Jam (last index is not included)\n",
    "console.log('James'.slice(1, 4));  // ame"
   ]
  },
  {
   "cell_type": "markdown",
   "metadata": {},
   "source": [
    "#### String method `indexOf()` and `lastIndexOf()`\n",
    "Because strings can be indexed as demonstrated above, you can also search them to find where a particular string or character shows up in them using the `indexOf()` and `lastIndexOf()` methods. Both of these methods return the index where the specified string appears, and will return `-1` if the string you're looking for doesn't appear in the string you're searching:"
   ]
  },
  {
   "cell_type": "code",
   "execution_count": 72,
   "metadata": {},
   "outputs": [
    {
     "data": {
      "text/plain": [
       "2"
      ]
     },
     "execution_count": 72,
     "metadata": {},
     "output_type": "execute_result"
    }
   ],
   "source": [
    "'abracadabra'.indexOf('ra');"
   ]
  },
  {
   "cell_type": "markdown",
   "metadata": {},
   "source": [
    "second parameter oders the start of seacrh from a given index:"
   ]
  },
  {
   "cell_type": "code",
   "execution_count": 73,
   "metadata": {},
   "outputs": [
    {
     "data": {
      "text/plain": [
       "9"
      ]
     },
     "execution_count": 73,
     "metadata": {},
     "output_type": "execute_result"
    }
   ],
   "source": [
    "'abracadabra'.indexOf('ra',5);"
   ]
  },
  {
   "cell_type": "markdown",
   "metadata": {},
   "source": [
    "Last occurence with `lastIndexOf()`"
   ]
  },
  {
   "cell_type": "code",
   "execution_count": 74,
   "metadata": {},
   "outputs": [
    {
     "data": {
      "text/plain": [
       "9"
      ]
     },
     "execution_count": 74,
     "metadata": {},
     "output_type": "execute_result"
    }
   ],
   "source": [
    "'abracadabra'.lastIndexOf('ra');"
   ]
  },
  {
   "cell_type": "markdown",
   "metadata": {},
   "source": [
    "#### String method `substr()` and `substring()`"
   ]
  },
  {
   "cell_type": "code",
   "execution_count": 75,
   "metadata": {},
   "outputs": [
    {
     "data": {
      "text/plain": [
       "'Wor'"
      ]
     },
     "execution_count": 75,
     "metadata": {},
     "output_type": "execute_result"
    }
   ],
   "source": [
    "'Hello World!'.substr(6,3); // start, length"
   ]
  },
  {
   "cell_type": "code",
   "execution_count": 76,
   "metadata": {},
   "outputs": [
    {
     "data": {
      "text/plain": [
       "'World!'"
      ]
     },
     "execution_count": 76,
     "metadata": {},
     "output_type": "execute_result"
    }
   ],
   "source": [
    "'Hello World!'.substring(6,90); // start, end"
   ]
  },
  {
   "cell_type": "markdown",
   "metadata": {},
   "source": [
    "#### String method `trim()` "
   ]
  },
  {
   "cell_type": "code",
   "execution_count": 77,
   "metadata": {},
   "outputs": [
    {
     "data": {
      "text/plain": [
       "'Hello World!'"
      ]
     },
     "execution_count": 77,
     "metadata": {},
     "output_type": "execute_result"
    }
   ],
   "source": [
    "'   Hello World!   '.trim();"
   ]
  },
  {
   "cell_type": "markdown",
   "metadata": {},
   "source": [
    "### Regular expressions"
   ]
  },
  {
   "cell_type": "code",
   "execution_count": 78,
   "metadata": {},
   "outputs": [
    {
     "data": {
      "text/plain": [
       "[ 'sample',\n",
       "  index: 10,\n",
       "  input: 'This is a sample string',\n",
       "  groups: undefined ]"
      ]
     },
     "execution_count": 78,
     "metadata": {},
     "output_type": "execute_result"
    }
   ],
   "source": [
    "var str = \"This is a sample string\";\n",
    "var re = /Sample/i; //regular expression between slashes, and a modifyier 'i': ignore case\n",
    "//var re= new RegExp(\"Sample\", \"i\")\n",
    "\n",
    "re.exec(str);"
   ]
  },
  {
   "cell_type": "code",
   "execution_count": 79,
   "metadata": {},
   "outputs": [
    {
     "data": {
      "text/plain": [
       "true"
      ]
     },
     "execution_count": 79,
     "metadata": {},
     "output_type": "execute_result"
    }
   ],
   "source": [
    "re.test(str);"
   ]
  },
  {
   "cell_type": "markdown",
   "metadata": {},
   "source": [
    "### Variables\n",
    "With variables, you no longer need to work with one-time-use data. At the beginning of this course, you declared the value of a string, but you didn't have a way to access or reuse the string later."
   ]
  },
  {
   "cell_type": "code",
   "execution_count": 80,
   "metadata": {},
   "outputs": [
    {
     "data": {
      "text/plain": [
       "'Hello World'"
      ]
     },
     "execution_count": 80,
     "metadata": {},
     "output_type": "execute_result"
    }
   ],
   "source": [
    "\"Hello\"; // Here's a String \"Hello\"\n",
    "\"Hello\" + \" World\"; // Here's a new String (also with the value \"Hello\") concatenated with \" World\""
   ]
  },
  {
   "cell_type": "markdown",
   "metadata": {},
   "source": [
    "Storing the value of a string in a variable is like packing it away for later use."
   ]
  },
  {
   "cell_type": "code",
   "execution_count": 81,
   "metadata": {},
   "outputs": [],
   "source": [
    "var greeting = \"Hello\";"
   ]
  },
  {
   "cell_type": "markdown",
   "metadata": {},
   "source": [
    "Now, if you want to use `\"Hello\"` in a variety of sentences, you don't need to duplicate `\"Hello\"` strings. You can just reuse the `greeting` variable."
   ]
  },
  {
   "cell_type": "code",
   "execution_count": 82,
   "metadata": {},
   "outputs": [
    {
     "data": {
      "text/plain": [
       "'Hello World!'"
      ]
     },
     "execution_count": 82,
     "metadata": {},
     "output_type": "execute_result"
    }
   ],
   "source": [
    "greeting + \" World!\";"
   ]
  },
  {
   "cell_type": "markdown",
   "metadata": {},
   "source": [
    "#### Naming conventions\n",
    "In order to make your JavaScript code easy to read by you as well as other developers, you should always make sure to follow the various naming conventions for variables and also the rules for casing and spacing. For JavaScript you should always remember the follwing rules:\n",
    "\n",
    "1. Variables must always begin with a letter\n",
    "2. Variables and function names should be written in **camelCase**, with a lowercase first word and every subsequent word capitalized\n",
    "3. Variables should be semantically named so their names represent the data they contain\n",
    "4. Some developers prefer to use **UPPERCASE** for global variables and **PascalCase** for classes\n",
    "5. Always use spaces around operators such as `+` `-` `/` `*` and equals signs to make sure your code is evenly spaced\n",
    "\n",
    "Not using camelCase for your variables names is not going to necessarily *break* anything in JavaScript. But there are recommended style guides used in all programming languages that help keep code consistent, clean, and easy-to-read. This is especially important when working on larger projects that will be accessed by multiple developers.\n",
    "\n",
    "You can read more about Google's [JavaScript StyleGuide](https://google.github.io/styleguide/jsguide.html) here."
   ]
  },
  {
   "cell_type": "code",
   "execution_count": 83,
   "metadata": {},
   "outputs": [],
   "source": [
    "var tip = 8;               // uses lowercase if the variable name is one word\n",
    "var totalAfterTax = 53.03; // uses camelCase if the variable name is multiple words"
   ]
  },
  {
   "cell_type": "markdown",
   "metadata": {},
   "source": [
    "### Scope\n",
    "To understand the difference between types of variable declarations, first you need to understand the term **scope**.\n",
    "What is a \"Scope\"?\n",
    "\n",
    "The scope is defined as a specific portion of the code. There are three types of scope in Javascript\n",
    "\n",
    "![variable-scope.png](./img/variable-scope.png)\n",
    "\n",
    "- **Global scope** - When a particular variable is visible (can be used) anywhere in the code. Such a variable is generally called as **Global variable**. Any code that exists at the top level of your application, anything that is not inside any function, loop, conditional statement and so on, has global scope.\n",
    "- **Function (Local) scope** - When a particular variable is visible (can be used) within a particular function only. Such a variable is generally called as **Local variable**. Any code that exists inside a set of curly braces, for example, code contained within the opening and closing braces of a loop, a conditional statement, or a function, has local scope.\n",
    "- **Block scope** - When a particular variable is visible (can be used) within a pair of `{ ... }` (block of code) only. This is similar to local scope, but refers specifically to the code block the variable exists in. This is relevant when there is nesting in your code, where a variable inside a function might be local, but inside an if statement or loop within the function, anything declared is local only to the loop code blocks. Another way to think about it is that the furthest level out in your code is global scope, the next level in is local, but if within the local scope there is another level of code like a loop, if statement, etc, then the \"local\" scope in the function is now somewhat like the function's \"global\" scope, and anything further in is block scope.\n",
    "\n",
    "```JavaScript\n",
    "let globalVar = 'a global variable';\n",
    "function myFunction() {\n",
    "  let localVar = 'a local variable';\n",
    "  if (localVar) {\n",
    "    let blockVar = 'a block-scoped variable';\n",
    "  } else {\n",
    "    let otherBlockVar = 'a different block-scoped variable';\n",
    "  }\n",
    "}\n",
    "```\n",
    "Above, the two block-scoped variables are accessible only within their respective code blocks, bounded by the curly braces. The local variable is accessible anywhere in the function, and the global variable is accessible anywhere in the entire script. Scope is not just a construct of JavaScript either. As you learned in the comparative programming module, Python also uses code blocks, but instead of being bounded by curly braces they are bounded by the indentation level. That means that in Python, anything at the outermost indentation level is considered global and anything indented is local to that specific indentation level. As you work with these languages more and more, scope will become more clear. When you're writing code, remember to always keep in mind the scope in which you're writing, especially when defining variables. Your code's functionality is dependent on everything having the proper scope."
   ]
  },
  {
   "cell_type": "markdown",
   "metadata": {},
   "source": [
    "### Variable Declaration\n",
    "\n",
    "There are three ways to declare a variable:\n",
    "- `let` - It is a new way to declare a variable in any scope - Global, Local, or Block. The value of this variable can be changed or reassigned anytime within its scope.\n",
    "- `const` - It is a way to declare constants in any scope - Global, Local, or Block. Once you are assigned a value to a const variable, the value of this variable CAN NOT be changed or reassigned throughout the code.\n",
    "- `var` - This is the old way of declaring variables in only two scope - Global, or Local. Variables declared with the `var` keyword can not have Block scope. The value of this variable can be changed or reassigned anytime within its scope.\n",
    "![the-let-keyword.png](./img/the-let-keyword.png)\n",
    "Let us see an example of each type of scope:"
   ]
  },
  {
   "cell_type": "code",
   "execution_count": 84,
   "metadata": {},
   "outputs": [],
   "source": [
    "/*\n",
    " * Global scope. \n",
    " * This variable declared outside of any function is called Global variable. \n",
    " * Hence, you can use this anywhere in the code\n",
    " */\n",
    "var opinion = \"This nanodegree is amazing\";\n",
    "\n",
    "// Function scope\n",
    "function showMessage() {\n",
    "    // Local variable, visible within the function `showMessage`\n",
    "    var message = \"I am an Udacian!\"; \n",
    "\n",
    "    // Block scope\n",
    "    {\n",
    "        let greet = \"How are you doing?\";\n",
    "        /*\n",
    "         We have used the keyword `let` to declare a variable `greet` \n",
    "         because variables declared with the `var` keyword can not have Block Scope\n",
    "         */\n",
    "    } // Block scope ends\n",
    "\n",
    "    console.log( message ); // OK\n",
    "    console.log( greet ); // ERROR. \n",
    "    // Variable greet can NOT be used outside the block\n",
    "\n",
    "    console.log( opinion ); // OK    to use the gobal variable anywhere in the code\n",
    "\n",
    "} // function scope ends"
   ]
  },
  {
   "cell_type": "markdown",
   "metadata": {},
   "source": [
    "#### Let\n",
    "The most common way you will declare variables is using the `let` keyword. This keyword creates a variable which has **block scope**. This means that the variable will only be available for use within the code block in which it is declared. For example, if you declare a variable inside a conditional statement, such as an `if` statement the variable will only be defined in the context of the opening and closing curly braces (which you may recall define the boundaries of the current code block):"
   ]
  },
  {
   "cell_type": "code",
   "execution_count": 85,
   "metadata": {},
   "outputs": [
    {
     "name": "stdout",
     "output_type": "stream",
     "text": [
      "hello!\n"
     ]
    }
   ],
   "source": [
    "if (true) {\n",
    "  let myVar = \"hello!\";\n",
    "  console.log(myVar);\n",
    "} else {\n",
    "  console.log(\"Inside the else block: \", myVar);\n",
    "}"
   ]
  },
  {
   "cell_type": "markdown",
   "metadata": {},
   "source": [
    "The above will work just fine, and will log `hello!` to the console. Because the condition is `true`, the variable `myVar` is declared in the `if` block and then immediately logged to the console. What if we were to change it to `if (false)` though?"
   ]
  },
  {
   "cell_type": "markdown",
   "metadata": {},
   "source": [
    "```JavaScript\n",
    "if (false) {\n",
    "  let myVar = \"hello!\";\n",
    "  console.log(myVar);\n",
    "} else {\n",
    "  console.log(\"Inside the else block:\", myVar);\n",
    "}\n",
    "```\n",
    "`ReferenceError: myVar is not defined`"
   ]
  },
  {
   "cell_type": "markdown",
   "metadata": {},
   "source": [
    "Now, because the condition is `false` the `if` statement will attempt to execute the `else` block and log `\"Inside the else block: hello!\"` to the console. However, because `myVar` is declared with `let` and thus has block scope, it is restricted to the `if` block, that is, it cannot exist outside the closing curly brace `}` just before the `else`. Running this code will produce a `ReferenceError`, because in the context of the `else` block, `myVar` is not defined.\n",
    "\n",
    "Variables declared with `let` have three defining characteristics:\n",
    "\n",
    "1. They have block scope, which means they are only defined within the confines of their own code block (bounded by `{`curly braces`}`)\n",
    "2. They cannot be redeclared within the same scope. In other words:\n",
    "```JavaScript\n",
    "let myVar = \"a variable\";\n",
    "let myVar = \"a different variable\";  // this will throw a SyntaxError. myVar is already declared.\n",
    "```\n",
    "3. They can be reassigned, regardless of scope. In other words:\n",
    "```JavaScript\n",
    "let myVar = \"a variable\";\n",
    "myVar = \"a different variable\";  // We're not redeclaring it, rather giving the same variable a new value.\n",
    "```\n",
    "The `let` keyword was introduced in 2015 in order to combat issues with variables being overwritten accidentally when their values \"leaked\" into other scopes. The restrictions on let-declared variables with regards to scope, reassignment and redeclaration prevent these issues from happening. You'll learn about two other ways to declare variables in the upcoming units, but the one you'll use most commonly is this one."
   ]
  },
  {
   "cell_type": "markdown",
   "metadata": {},
   "source": [
    "#### Const\n",
    "The second way to declare a variable in JavaScript is using the `const` keyword. `const` is an abbreviation for constant, an allusion to the idea that these variables should be constant, that is, they shouldn't change. In JavaScript, const variables are typically used to store data that won't be modified at any point in the code - things like settings, URLs which might be called, filenames, and the like.\n",
    "\n",
    "You can define a variable with `const` in the exact same way as you would using `let`, and it will behave almost identically:\n",
    "```JavaScript\n",
    "const google = \"https://www.google.com\";\n",
    "```\n",
    "Variables declared with `const` are similar to those declared with `let` in some ways. They have block scope like `let` variables and will behave identically in that respect, but they do have a few key differences:\n",
    "\n",
    "Unlike `let` variables, constants cannot be reassigned or redeclared. Attempting to redeclare the variable or change its value in any way will fail:\n",
    "```JavaScript\n",
    "const url = \"www.google.com\";\n",
    "const url = \"www.youtube.com\";  // SyntaxError: Identifier 'url' has already been declared\n",
    "url = \"www.google.com\";         // TypeError: Assignment to constant variable.\n",
    "\n",
    "const number = 4;\n",
    "number = number + 2;            // TypeError: Assignment to constant variable.\n",
    "number += 2;                    // TypeError: Assignment to constant variable.\n",
    "```\n",
    "Unlike `let` variables, constants cannot be declared without being assigned a value:\n",
    "```JavaScript\n",
    "let url;    // Ok (url is undefined, but declared)\n",
    "const url;  // SyntaxError: Missing initializer in const declaration\n",
    "```\n",
    "Arrays and objects stored in constants can be modified, but you can't reassign a new object or array to the same constant:\n",
    "```JavaScript\n",
    "// Define a constant object:\n",
    "const john = {name: \"John\", age: 30, location: \"US\"};\n",
    "\n",
    "john.age = 31;  // Ok, we're changing the object property, not the constant itself\n",
    "john['birthday'] = 'April 25';  // Ok, we're modifying the object, not the constant itself\n",
    "john = {name: \"John\", age: 31, location: \"Ireland\"};  // NOT ok, we're changing the constant's value\n",
    "\n",
    "// Define a constant array:\n",
    "const cars = [\"Saab\", \"Volvo\", \"BMW\"];\n",
    "\n",
    "cars[0] = \"Toyota\";  // Ok, we're updating the array element, not the constant itself\n",
    "cars.push(\"Audi\");   // Ok, we're updating the array, not the constant itself\n",
    "cars = [\"Toyota\", \"Volvo\", \"BMW\", \"Audi\"];  // NOT ok, we're changing the constant's value\n",
    "```\n",
    "Constants should be used to store data that won't change. If the data might change, use `let` instead. It's important to remember also that because both `let` and `const` are block scoped, and you cannot redeclare either type of variable, you cannot declare a constant with the same name as a variable declared with `let`, or vice versa, within the same scope."
   ]
  },
  {
   "cell_type": "markdown",
   "metadata": {},
   "source": [
    "#### Var\n",
    "The final way to declare a variable in JavaScript is using the `var` keyword. In modern JavaScript it's usually considered a bad practice to use this declaration, because it creates a variable which has **global** scope, which means it can be unintentionally changed outside of its own scope. Despite this, there are some situations where this type of variable is actually required, so it's good to know it exists and how to use it.\n",
    "\n",
    "You can define a variable with `var` in the exact same way as you would using `let` or `const`:\n",
    "```JavaScript\n",
    "var x = 3;\n",
    "```\n",
    "Variables declared with `var` are accessible outside the scope in which they are declared. This means that they can be inadvertently overwritten and can create bugs in your code that are difficult to detect.\n",
    "\n",
    "Consider the following code:"
   ]
  },
  {
   "cell_type": "code",
   "execution_count": 86,
   "metadata": {},
   "outputs": [
    {
     "name": "stdout",
     "output_type": "stream",
     "text": [
      "Inside the loop: 0\n",
      "Inside the loop: 1\n",
      "Inside the loop: 2\n",
      "Inside the loop: 3\n",
      "Inside the loop: 4\n",
      "Inside the loop: 5\n",
      "Outside the loop: 6\n"
     ]
    }
   ],
   "source": [
    "var i = 0;\n",
    "for(var i = 0; i <= 5; i++) {\n",
    "   console.log(\"Inside the loop:\", i);\n",
    "}\n",
    "console.log(\"Outside the loop:\", i);"
   ]
  },
  {
   "cell_type": "markdown",
   "metadata": {},
   "source": [
    "Do you see the problem? If not, you're not alone, but look closely at what happened: On line 1 we declared a variable, `i`, using `var`, and gave it a value of `0`. Then on line 3 we initiated a `for` loop, declaring a variable `i` beginning with zero and iterating through `5`, incrementing `i` after each iteration. When the `i` in the loop is equal to `5`, iteration stops, and the final increment takes place `i++`, incrementing it to `6`. However, when we logged `i` to the console outside the loop, `i` has a value of `6`! It has been overwritten by the loop's `i`. This is because variables declared with `var` are not restricted with regard to being *reassigned*, *redeclared*, or *reused* in another scope.\n",
    "\n",
    "The first variable declared on line 1 should have remained `0` within the global scope, that is, the code outside of the loop, because the loop's code block is bounded by the curly braces. Nothing that happened inside that loop should have affected anything outside the loop, but it did, inadvertently overwriting the original `i` variable and then incrementing it each time the loop executed. The original variable, which should have maintained a value of `0` was lost. If you were to declare the first variable with `let` or `const`, you would have received an error when you tried to redeclare it with the same name in the for loop, preventing this issue. Here are some more examples to drive the point home:"
   ]
  },
  {
   "cell_type": "code",
   "execution_count": 87,
   "metadata": {},
   "outputs": [
    {
     "name": "stdout",
     "output_type": "stream",
     "text": [
      "Inside the loop: 0\n",
      "Inside the loop: 1\n",
      "Inside the loop: 2\n",
      "Inside the loop: 3\n",
      "Inside the loop: 4\n",
      "Inside the loop: 5\n",
      "Outside the loop: 0\n"
     ]
    }
   ],
   "source": [
    "let t = 0;\n",
    "for (let t = 0; t <= 5; t++) {\n",
    "  console.log(\"Inside the loop:\", t);\n",
    "}\n",
    "console.log(\"Outside the loop:\", t);"
   ]
  },
  {
   "cell_type": "markdown",
   "metadata": {},
   "source": [
    "**Allowed**: This is ok because the variable defined for use in the `for` loop is declared with `let`, which means it won't affect the outer one due to its scope being restricted to the loop.\n",
    "\n",
    "The following reassigns the `let` variable declared outside of the `loop`:"
   ]
  },
  {
   "cell_type": "code",
   "execution_count": 88,
   "metadata": {},
   "outputs": [
    {
     "name": "stdout",
     "output_type": "stream",
     "text": [
      "Inside the loop: 0\n",
      "Inside the loop: 1\n",
      "Inside the loop: 2\n",
      "Inside the loop: 3\n",
      "Inside the loop: 4\n",
      "Inside the loop: 5\n",
      "Outside the loop: 6\n"
     ]
    }
   ],
   "source": [
    "let s = 0;\n",
    "for (s = 0; s <= 5; s++) {\n",
    "  console.log(\"Inside the loop:\", s);\n",
    "}\n",
    "console.log(\"Outside the loop:\", s);"
   ]
  },
  {
   "cell_type": "markdown",
   "metadata": {},
   "source": [
    "**Allowed** in some cases we need the final value obtained in the loop.\n",
    "\n",
    "The following is not allowed because the `t` variable in the `loop` could potentially overwrite the one outside it. Its scope is not restricted.\n",
    "```JavaScript\n",
    "let t = 0;\n",
    "for (var t = 0; t <= 5; t++) {\n",
    "  console.log(\"Inside the loop:\", t);\n",
    "}\n",
    "console.log(\"Outside the loop:\", t);\n",
    "```\n",
    "**Rejected**: `SyntaxError: Identifier 't' has already been declared.`\n",
    "\n",
    "The following example uses `var` global variable and `let` local variable with the same name:"
   ]
  },
  {
   "cell_type": "code",
   "execution_count": 89,
   "metadata": {},
   "outputs": [
    {
     "name": "stdout",
     "output_type": "stream",
     "text": [
      "Inside the loop: 0\n",
      "Inside the loop: 1\n",
      "Inside the loop: 2\n",
      "Inside the loop: 3\n",
      "Inside the loop: 4\n",
      "Inside the loop: 5\n",
      "Outside the loop: 0\n"
     ]
    }
   ],
   "source": [
    "var q = 0;\n",
    "for (let q = 0; q <= 5; q++) {\n",
    "  console.log(\"Inside the loop:\", q);\n",
    "}\n",
    "console.log(\"Outside the loop:\", q);"
   ]
  },
  {
   "cell_type": "markdown",
   "metadata": {},
   "source": [
    "**Allowed**: The variable declared with `var` can be redeclared with `let` within the loop, because once again let restricts that variable's scope to the `for` loop.\n",
    "\n",
    "The bottom line is that `var` creates a variable which can be easily overwritten anywhere in your code, so in general it is dangerous to use. If you explicitly need to be able to access a variable outside of the scope in which it is declared, however, `var` is the only way.\n",
    "\n",
    "There is almost always an alternative to using `var`, so use it sparingly because it can create bugs in your code that are difficult to detect. In general, you should use `let` to declare most variables. For those that won't change, you should use `const`, and in rare cases where you need to access or modify a variable outside the scope in which it is defined, use `var`."
   ]
  },
  {
   "cell_type": "markdown",
   "metadata": {},
   "source": [
    "### Assignment Operators\n",
    "Assignment operators in JavaScript are used to assign or reassign values to a variable. This can be done using any of the assignment operators, one of the variable assignment keywords (`let`, `const` or `var`) and a value to assign:\n",
    "```JavaScript\n",
    "let x = 1;\n",
    "const x = 1;\n",
    "var x = 1;\n",
    "```\n",
    "Which keyword you use depends on the scope you need the variable to have. If you don't remember the difference, review that unit as needed. As you can see the generic syntax for using an assignment operator is:\n",
    "```JavaScript\n",
    "[keyword] [variableName] [operator] [value];\n",
    "   let           x           =         1   ;\n",
    "```\n",
    "If you are reassigning a new value to an already declared variable, you can simply leave off the assignment keyword. To reassign the value 2 to the variable x above, simply use `x = 2;`\n",
    "\n",
    "There are several different assignment operators, but the one you'll use most commonly is the simple equals sign ` =`. When you need to modify a variable's value you can either reassign it as demonstrated above, or use one of the compound assignment operators such as `+=` or `-=`, which take in the original value, modify it accordingly, and then return the new value. Here are the assignment operators you'll use most often (note that the compound assignment operators require that you first use the regular assignment operator to declare the variable and assign its initial value):\n",
    "\n",
    "```JavaScript\n",
    "x += 3   // same as x = x + 3   Addition Assignment\n",
    "x -= 6   // same as x = x - 6   Subtraction Assignment\n",
    "x *= 2   // same as x = x * 2   Multiplication Assignment\n",
    "x /= 5   // same as x = x / 5   Division Assignment\n",
    "x %= 7   // same as x = x % 7   Remainder Assignment\n",
    "x **= 3  // same as x = x ** 3  Exponentiation Assignment\n",
    "x &= 3   // same as x = x & 3   Bitwise AND Assignment\n",
    "x |= 3   // same as x = x | 3   Bitwise OR Assignment\n",
    "x ^= 3   // same as x = x ^ 3   Bitwise XOR Assignment\n",
    "x >>= 3  // same as x = x >> 3  Bitwise Right Shift Assignment\n",
    "x <<= 3  // same as x = x << 3  Bitwise Left Shift Assignment\n",
    "x >>>= 3 // same as x = x >>> 3 Bitwise Unsigned Right Shift Assignment\n",
    "```"
   ]
  },
  {
   "cell_type": "markdown",
   "metadata": {},
   "source": [
    "### Comparing strings\n",
    "Another way to work with strings is by comparing them. You've seen the comparison operators `==` and `!=` when you compared numbers for equality. You can also use them with strings! For example, let’s compare the string `\"Yes\"` to `\"yes\"`. When you run this in the console, it returns false, because they are different!"
   ]
  },
  {
   "cell_type": "code",
   "execution_count": 90,
   "metadata": {},
   "outputs": [
    {
     "data": {
      "text/plain": [
       "false"
      ]
     },
     "execution_count": 90,
     "metadata": {},
     "output_type": "execute_result"
    }
   ],
   "source": [
    "\"Yes\" == \"yes\""
   ]
  },
  {
   "cell_type": "markdown",
   "metadata": {},
   "source": [
    "##### A. Case-sensitive\n",
    "When you compare strings, case matters. While both string use the same letters (and those letters appear in the same order), the first letter in the first string is a capital `Y` while the first letter in the second string is a lowercase `y`."
   ]
  },
  {
   "cell_type": "code",
   "execution_count": 91,
   "metadata": {},
   "outputs": [
    {
     "data": {
      "text/plain": [
       "true"
      ]
     },
     "execution_count": 91,
     "metadata": {},
     "output_type": "execute_result"
    }
   ],
   "source": [
    "'Y' != 'y'"
   ]
  },
  {
   "cell_type": "code",
   "execution_count": 92,
   "metadata": {},
   "outputs": [
    {
     "data": {
      "text/plain": [
       "true"
      ]
     },
     "execution_count": 92,
     "metadata": {},
     "output_type": "execute_result"
    }
   ],
   "source": [
    "'A' < 'a'"
   ]
  },
  {
   "cell_type": "markdown",
   "metadata": {},
   "source": [
    "#### B. Internal Working\n",
    "In Javascript, strings are compared character-by-character in alphabetical order. Each character has a specific numeric value, coming from [ASCII value of Printable characters](https://en.wikipedia.org/wiki/ASCII#Printable_characters). For example, the character `'A'` has a value `65`, and `'a'` has a value `97`. You can notice that a lowercase letter has a higher ASCII value than the uppercase character. If you want to know the ASCII value of a particular character, you can try running the code below:"
   ]
  },
  {
   "cell_type": "code",
   "execution_count": 93,
   "metadata": {},
   "outputs": [
    {
     "data": {
      "text/plain": [
       "65"
      ]
     },
     "execution_count": 93,
     "metadata": {},
     "output_type": "execute_result"
    }
   ],
   "source": [
    "// get the ASCII value of the first character, i.e. the character at the position 0. \n",
    "\"A\".charCodeAt(0);"
   ]
  },
  {
   "cell_type": "code",
   "execution_count": 94,
   "metadata": {},
   "outputs": [
    {
     "data": {
      "text/plain": [
       "97"
      ]
     },
     "execution_count": 94,
     "metadata": {},
     "output_type": "execute_result"
    }
   ],
   "source": [
    "// get the ASCII value of the first character, i.e. the character at the position 0. \n",
    "\"a\".charCodeAt(0);"
   ]
  },
  {
   "cell_type": "markdown",
   "metadata": {},
   "source": [
    "In the example above, if you wish to print ASCII values of all the characters in your string, you would have to use *Loops* that we will study in later part of this course. Just for reference, here is how you can use a loop to print the ASCII value of all characters in a string."
   ]
  },
  {
   "cell_type": "code",
   "execution_count": 95,
   "metadata": {},
   "outputs": [
    {
     "name": "stdout",
     "output_type": "stream",
     "text": [
      "85\n",
      "100\n",
      "97\n",
      "99\n",
      "105\n",
      "116\n",
      "121\n"
     ]
    }
   ],
   "source": [
    "var my_string = \"Udacity\";\n",
    "\n",
    "// Iterate using a Loop\n",
    "for (var i = 0; i < my_string.length; i++) {\n",
    "  console.log(my_string.charCodeAt(i));\n",
    "}"
   ]
  },
  {
   "cell_type": "markdown",
   "metadata": {},
   "source": [
    "The ASCII values of [A-Z] fall in the range [65-90], whereas, the ASCII values of [a-z] fall in the range [97-122]. Therefore, when we compare strings, the comparison happens character-by-character for the ASCII values."
   ]
  },
  {
   "cell_type": "markdown",
   "metadata": {},
   "source": [
    "### Booleans\n",
    "A boolean variable can take either of two values - `true` or `false`. For example,"
   ]
  },
  {
   "cell_type": "code",
   "execution_count": 96,
   "metadata": {},
   "outputs": [],
   "source": [
    "var studentName = \"John\";\n",
    "var haveEnrolledInCourse = true;\n",
    "var haveCompletedTheCourse = false;"
   ]
  },
  {
   "cell_type": "code",
   "execution_count": 97,
   "metadata": {},
   "outputs": [
    {
     "data": {
      "text/plain": [
       "'boolean'"
      ]
     },
     "execution_count": 97,
     "metadata": {},
     "output_type": "execute_result"
    }
   ],
   "source": [
    "typeof haveEnrolledInCourse"
   ]
  },
  {
   "cell_type": "markdown",
   "metadata": {},
   "source": [
    "A boolean variable is mainly essential in evaluating the outcome of conditionals (comparisons). The result of a comparison is always a boolean variable. We'll study conditionals in our upcoming lesson, but let's look at our previous example to understand the role of boolean in conditional:"
   ]
  },
  {
   "cell_type": "code",
   "execution_count": 98,
   "metadata": {},
   "outputs": [
    {
     "name": "stdout",
     "output_type": "stream",
     "text": [
      "Welcome John to Udacity!\n"
     ]
    }
   ],
   "source": [
    "if (haveEnrolledInCourse){ \n",
    "    console.log(\"Welcome \"+studentName+\" to Udacity!\"); // Will run only if haveEnrolledInCourse is true\n",
    "}"
   ]
  },
  {
   "cell_type": "code",
   "execution_count": 99,
   "metadata": {},
   "outputs": [
    {
     "name": "stdout",
     "output_type": "stream",
     "text": [
      "Variable `b` has higher value\n"
     ]
    }
   ],
   "source": [
    "var a = 10;\n",
    "var b = 20;\n",
    "// a comparison - we will study this in detail in upcoming lesson\n",
    "if (a>b) // The outcome of a>b will be a boolean\n",
    "    console.log(\"Variable `a` has higher value\"); // if a>b is true\n",
    "else \n",
    "    console.log(\"Variable `b` has higher value\"); // if a>b is false"
   ]
  },
  {
   "cell_type": "markdown",
   "metadata": {},
   "source": [
    "In general cases (regular equality check), a `true` corresponds to number `1`, whereas `false` represents a number `0`. For example:"
   ]
  },
  {
   "cell_type": "code",
   "execution_count": 100,
   "metadata": {},
   "outputs": [
    {
     "name": "stdout",
     "output_type": "stream",
     "text": [
      "This statement will always execute because conditional is set to 1 i.e., true\n"
     ]
    }
   ],
   "source": [
    "if(1){\n",
    "    console.log(\"This statement will always execute because conditional is set to 1 i.e., true\");\n",
    "}\n",
    "\n",
    "if(0){\n",
    "        console.log(\"This statement will NEVER execute because conditional is set to 0 i.e., false\");\n",
    "}"
   ]
  },
  {
   "cell_type": "markdown",
   "metadata": {},
   "source": [
    "#### The Boolean object"
   ]
  },
  {
   "cell_type": "code",
   "execution_count": 101,
   "metadata": {},
   "outputs": [
    {
     "data": {
      "text/plain": [
       "false"
      ]
     },
     "execution_count": 101,
     "metadata": {},
     "output_type": "execute_result"
    }
   ],
   "source": [
    "Boolean(0);"
   ]
  },
  {
   "cell_type": "code",
   "execution_count": 102,
   "metadata": {},
   "outputs": [
    {
     "data": {
      "text/plain": [
       "true"
      ]
     },
     "execution_count": 102,
     "metadata": {},
     "output_type": "execute_result"
    }
   ],
   "source": [
    "Boolean(1);"
   ]
  },
  {
   "cell_type": "markdown",
   "metadata": {},
   "source": [
    "### Equality\n",
    "Equal is not the same as identical, at least in terms of computing. When coding, it's important to remember that the computer will always treat things 100% literally unless you tell it not to. When checking equality, developers can check not only the equality of the values but also whether the data types are the same.\n",
    "```JavaScript\n",
    "==     // checks whether two objects are equal\n",
    "===    // checks whether two objects are equal and have the same data type\n",
    "```\n",
    "\n",
    "So far, you’ve seen how you can use `==` and `!=` to compare numbers and strings for equality. However, if you use `==` and `!=` in situations where the values that you're comparing have different data-types, it can lead to some interesting results. For example,"
   ]
  },
  {
   "cell_type": "code",
   "execution_count": 103,
   "metadata": {},
   "outputs": [
    {
     "data": {
      "text/plain": [
       "true"
      ]
     },
     "execution_count": 103,
     "metadata": {},
     "output_type": "execute_result"
    }
   ],
   "source": [
    "\"1\" == 1"
   ]
  },
  {
   "cell_type": "code",
   "execution_count": 104,
   "metadata": {},
   "outputs": [
    {
     "data": {
      "text/plain": [
       "true"
      ]
     },
     "execution_count": 104,
     "metadata": {},
     "output_type": "execute_result"
    }
   ],
   "source": [
    "0 == false"
   ]
  },
  {
   "cell_type": "code",
   "execution_count": 105,
   "metadata": {},
   "outputs": [
    {
     "data": {
      "text/plain": [
       "true"
      ]
     },
     "execution_count": 105,
     "metadata": {},
     "output_type": "execute_result"
    }
   ],
   "source": [
    "' ' == false"
   ]
  },
  {
   "cell_type": "markdown",
   "metadata": {},
   "source": [
    "Both the operands on either side of the `==` operator are first converted to `zero`, before comparison.\n",
    "\n",
    "All of the above three evaluate to `true`. The reason for such interesting outcomes is **Type Conversion**. In the case of regular comparison, the operands on either side of the `==` operator are first converted to numbers, before comparison. Therefore, a `' '`, `false`, and `0` are all considered equal. Similarly, a `'1'` and `1` are also considered equal. If we don't want to convert the operands, before comparison, we have to use a **strict comparison** `===`, that is explained below.\n",
    "\n",
    "#### Implicit type coercion\n",
    "JavaScript is known as a loosely typed language.\n",
    "\n",
    "Basically, this means that when you’re writing JavaScript code, you do not need to specify data types. Instead, when your code is interpreted by the JavaScript engine it will automatically be converted into the \"appropriate\" data type. This is called implicit type coercion and you’ve already seen examples like this before when you tried to concatenate strings with numbers."
   ]
  },
  {
   "cell_type": "code",
   "execution_count": 106,
   "metadata": {},
   "outputs": [
    {
     "data": {
      "text/plain": [
       "'julia1'"
      ]
     },
     "execution_count": 106,
     "metadata": {},
     "output_type": "execute_result"
    }
   ],
   "source": [
    "\"julia\" + 1"
   ]
  },
  {
   "cell_type": "markdown",
   "metadata": {},
   "source": [
    "In this example, JavaScript takes the string `\"julia\"` and adds the number `1` to it resulting in the string `\"julia1\"`. In other programming languages, this code probably would have returned an error, but in JavaScript the number `1` is converted into the string `\"1\"` and then is concatenated to the string `\"julia\"`.\n",
    "\n",
    "It’s behavior like this which makes JavaScript unique from other programming languages, but it can lead to some quirky behavior when doing operations and comparisons on mixed data types."
   ]
  },
  {
   "cell_type": "code",
   "execution_count": 107,
   "metadata": {},
   "outputs": [
    {
     "data": {
      "text/plain": [
       "NaN"
      ]
     },
     "execution_count": 107,
     "metadata": {},
     "output_type": "execute_result"
    }
   ],
   "source": [
    "Number(\"Hello\") % 10"
   ]
  },
  {
   "cell_type": "markdown",
   "metadata": {},
   "source": [
    "**DEFINITION**: A **strongly typed** language is a programming language that is more likely to generate errors if data does not closely match an expected type. Because JavaScript is loosely typed, you don’t need to specify data types; however, this can lead to errors that are hard to diagnose due to implicit type coercion."
   ]
  },
  {
   "cell_type": "markdown",
   "metadata": {},
   "source": [
    "##### Example of strongly typed programming language code\n",
    "```Java\n",
    "int count = 1;\n",
    "string name = \"Julia\";\n",
    "double num = 1.2932;\n",
    "float price = 2.99;\n",
    "```\n",
    "#### Equivalent code in JavaScript\n",
    "```JavaScript\n",
    "var count = 1; \n",
    "var name = \"Julia\";\n",
    "var num = 1.2932;\n",
    "var price = 2.99;\n",
    "```\n",
    "\n",
    "In the example below, JavaScript takes the string `\"1\"`, converts it to `true`, and compares it to the boolean `true`."
   ]
  },
  {
   "cell_type": "code",
   "execution_count": 108,
   "metadata": {},
   "outputs": [
    {
     "data": {
      "text/plain": [
       "true"
      ]
     },
     "execution_count": 108,
     "metadata": {},
     "output_type": "execute_result"
    }
   ],
   "source": [
    "\"1\" == true"
   ]
  },
  {
   "cell_type": "markdown",
   "metadata": {},
   "source": [
    "When you use the `==` or `!=` operators, JavaScript first converts each value to the same type (if they’re not already the same type); this is why it's called *type coercion*! This is often not the behavior you want, and it’s actually considered bad practice to use the `==` and `!=` operators when comparing values for equality."
   ]
  },
  {
   "cell_type": "markdown",
   "metadata": {},
   "source": [
    "#### Strict equality\n",
    "Instead, in JavaScript it’s better to use **strict equality** to see if numbers, strings, or booleans, etc. are identical in type and value without doing the type conversion first. To perform a strict comparison, simply add an additional equals sign `=` to the end of the `==` and `!=` operators."
   ]
  },
  {
   "cell_type": "code",
   "execution_count": 109,
   "metadata": {},
   "outputs": [
    {
     "data": {
      "text/plain": [
       "true"
      ]
     },
     "execution_count": 109,
     "metadata": {},
     "output_type": "execute_result"
    }
   ],
   "source": [
    "\"1\" == 1"
   ]
  },
  {
   "cell_type": "code",
   "execution_count": 110,
   "metadata": {},
   "outputs": [
    {
     "data": {
      "text/plain": [
       "false"
      ]
     },
     "execution_count": 110,
     "metadata": {},
     "output_type": "execute_result"
    }
   ],
   "source": [
    "\"1\" === 1"
   ]
  },
  {
   "cell_type": "markdown",
   "metadata": {},
   "source": [
    "When using `==`, the second number is coerced to a string before the comparison takes place, which causes JavaScript to determine that `1` (a number) and `\"1\"` (a string) are equal. In reality, they are not equal. The two values were coerced to the same type. The strict equality operator does not do this, and thus returns false because a string and a number are different data types."
   ]
  },
  {
   "cell_type": "code",
   "execution_count": 111,
   "metadata": {},
   "outputs": [
    {
     "data": {
      "text/plain": [
       "false"
      ]
     },
     "execution_count": 111,
     "metadata": {},
     "output_type": "execute_result"
    }
   ],
   "source": [
    "0 === false"
   ]
  },
  {
   "cell_type": "code",
   "execution_count": 112,
   "metadata": {},
   "outputs": [
    {
     "data": {
      "text/plain": [
       "true"
      ]
     },
     "execution_count": 112,
     "metadata": {},
     "output_type": "execute_result"
    }
   ],
   "source": [
    "0 !== true"
   ]
  },
  {
   "cell_type": "markdown",
   "metadata": {},
   "source": [
    "If you need to determine whether two objects are exactly the same object, you can also use `Object.is()`, which is similar to the Python `is` operator. The `Object.is()` operator takes two parameters which are the two objects to compare, and returns a boolean depending on whether they are the same object. While this method is not commonly used, you can read more about it [here](#https://developer.mozilla.org/en-US/docs/Web/JavaScript/Reference/Global_Objects/Object/is)"
   ]
  },
  {
   "cell_type": "code",
   "execution_count": 113,
   "metadata": {},
   "outputs": [
    {
     "data": {
      "text/plain": [
       "true"
      ]
     },
     "execution_count": 113,
     "metadata": {},
     "output_type": "execute_result"
    }
   ],
   "source": [
    "let str1 = \"Foo\";\n",
    "let str2 = \"Foo\";\n",
    "Object.is(str1,str2);"
   ]
  },
  {
   "cell_type": "markdown",
   "metadata": {},
   "source": [
    "### `if...else` statements\n",
    "![if-else-statements.png](./img/if-else-statements.png)\n",
    "\n",
    "`if...else` statements allow you to execute certain pieces of code based on a condition, or set of conditions, being met.\n",
    "```JavaScript\n",
    "if (/* this expression is true */) {\n",
    "  // run this code\n",
    "} else {\n",
    "  // run this code\n",
    "}\n",
    "```\n",
    "This is extremely helpful because it allows you to choose which piece of code you want to run based on the result of an expression. For example,"
   ]
  },
  {
   "cell_type": "code",
   "execution_count": 114,
   "metadata": {},
   "outputs": [
    {
     "name": "stdout",
     "output_type": "stream",
     "text": [
      "a is less than or equal to b\n"
     ]
    }
   ],
   "source": [
    "var a = 1;\n",
    "var b = 2;\n",
    "\n",
    "if (a > b) {\n",
    "  console.log(\"a is greater than b\");\n",
    "} else {\n",
    "  console.log(\"a is less than or equal to b\");\n",
    "}"
   ]
  },
  {
   "cell_type": "markdown",
   "metadata": {},
   "source": [
    "The value inside the `if` statement is **always** converted to `true` or `false`. Depending on the value, the code inside the `if` statement is run or the code inside the `else` statement is run, but not both. The code inside the `if` and `else` statements are surrounded by **curly braces** `{...}` to separate the conditions and indicate which code should be run.\n",
    "\n",
    "TIP: When coding, sometimes you may only want to use an `if` statement. However, if you try to use only an `else` statement, then you will receive the error SyntaxError: *Unexpected token else*. You’ll see this error because `else` statements need an `if` statement in order to work. You can’t have an `else` statement without first having an `if` statement."
   ]
  },
  {
   "cell_type": "markdown",
   "metadata": {},
   "source": [
    "#### `else if` statements\n",
    "In JavaScript, you can represent this secondary check by using an extra if statement called an **`else if` statement**."
   ]
  },
  {
   "cell_type": "code",
   "execution_count": 115,
   "metadata": {},
   "outputs": [
    {
     "name": "stdout",
     "output_type": "stream",
     "text": [
      "Wear what you have on.\n"
     ]
    }
   ],
   "source": [
    "var weather = \"sunny\";\n",
    "\n",
    "if (weather === \"snow\") {\n",
    "  console.log(\"Bring a coat.\");\n",
    "} else if (weather === \"rain\") {\n",
    "  console.log(\"Bring a rain jacket.\");\n",
    "} else {\n",
    "  console.log(\"Wear what you have on.\");\n",
    "}"
   ]
  },
  {
   "cell_type": "markdown",
   "metadata": {},
   "source": [
    "### Logical operators\n",
    "Logical operators can be used in conjunction with boolean values (true and false) to create complex logical expressions.\n",
    "\n",
    "By combining two boolean values together with a logical operator, you create a logical expression that returns another boolean value. Here’s a table describing the different logical operators:\n",
    "\n",
    "|Operator|Meaning|Example|How it works|\n",
    "|:-:|:-|:-|:-|\n",
    "|`&&`\t|Logical AND\t|`value1 && value2` |Returns `true` if both `value1` and `value2` evaluate to `true`.\n",
    "|`\\|\\|`\t|Logical OR\t|`value1 \\|\\| value2`\t|Returns `true` if either `value1` or `value2` (or even both!) evaluates to `true`.\n",
    "|`!`\t|Logical NOT\t|`!value`\t|Returns the opposite of `value`. If `value` is `true`, then `!value` is `false`.\n",
    "\n",
    "By using logical operators, you can create more complex conditionals\n",
    "\n",
    "**Truth tables** are used to represent the result of all the possible combinations of inputs in a logical expression. `a` represents the boolean value on the left-side of the expression and `b` represents the boolean value on the right-side of the expression. Truth tables can be helpful for visualizing the different outcomes from a logical expression.\n",
    "\n",
    "<center><strong>The AND Operator:</strong></center>\n",
    "\n",
    "|a\t|b\t|a && b|\n",
    "|:-:|:-:|:-:|\n",
    "|true\t|true\t|true\n",
    "|true\t|false\t|false\n",
    "|false\t|true\t|false\n",
    "|false\t|false\t|false\n",
    "\n",
    "<br><center><strong>The OR Operator:</strong></center>\n",
    "\n",
    "|a\t|b\t|a \\|\\| b|\n",
    "|:-:|:-:|:-:|\n",
    "|true\t|true\t|true\n",
    "|true\t|false\t|true\n",
    "|false\t|true\t|true\n",
    "|false\t|false\t|false\n",
    "\n",
    "<br><center><strong>The NOT Operator:</strong></center>\n",
    "\n",
    "|a\t|!a|\n",
    "|:-:|:-:|\n",
    "|true\t|false\n",
    "|false\t|true"
   ]
  },
  {
   "cell_type": "code",
   "execution_count": 116,
   "metadata": {},
   "outputs": [
    {
     "data": {
      "text/plain": [
       "false"
      ]
     },
     "execution_count": 116,
     "metadata": {},
     "output_type": "execute_result"
    }
   ],
   "source": [
    "true && false"
   ]
  },
  {
   "cell_type": "code",
   "execution_count": 117,
   "metadata": {},
   "outputs": [
    {
     "data": {
      "text/plain": [
       "true"
      ]
     },
     "execution_count": 117,
     "metadata": {},
     "output_type": "execute_result"
    }
   ],
   "source": [
    "true || false"
   ]
  },
  {
   "cell_type": "markdown",
   "metadata": {},
   "source": [
    "#### Logical operator precedence - PNAO\n",
    "```JavaScript\n",
    "1. (..) - Parenthesis\n",
    "2. !    - Logical NOT\n",
    "3. &&   - Logical AND\n",
    "4. ||   - Logical OR\n",
    "```"
   ]
  },
  {
   "cell_type": "code",
   "execution_count": 118,
   "metadata": {},
   "outputs": [
    {
     "data": {
      "text/plain": [
       "false"
      ]
     },
     "execution_count": 118,
     "metadata": {},
     "output_type": "execute_result"
    }
   ],
   "source": [
    "false || !false && false"
   ]
  },
  {
   "cell_type": "code",
   "execution_count": 119,
   "metadata": {},
   "outputs": [
    {
     "data": {
      "text/plain": [
       "true"
      ]
     },
     "execution_count": 119,
     "metadata": {},
     "output_type": "execute_result"
    }
   ],
   "source": [
    "false || !(false && false)"
   ]
  },
  {
   "cell_type": "markdown",
   "metadata": {},
   "source": [
    "##### Short-circuiting\n",
    "![short-circuit.png](./img/short-circuit.png)\n",
    "\n",
    "In both truth tables there are specific scenarios where regardless of the value of B, the value of A is enough to satisfy the condition.\n",
    "\n",
    "For example, if you look at A AND B, if A is false, then regardless of the value B, the total expression will always evaluate to false because both A and B must be true in order for the entire expression to be true.\n",
    "\n",
    "This behavior is called **short-circuiting** because it describes the event when later arguments in a logical expression are not considered because the first argument already satisfies the condition."
   ]
  },
  {
   "cell_type": "markdown",
   "metadata": {},
   "source": [
    "### Truthy and Falsy\n",
    "Every value in JavaScript has an inherent boolean value. When that value is evaluated in the context of a boolean expression, the value will be transformed into that inherent boolean value.\n",
    "\n",
    "#### Falsy values\n",
    "A value is falsy if it converts to `false` when evaluated in a boolean context. For example, an empty String `\"\"` is falsy because, `\"\"` evaluates to `false`. You already know `if...else` statements, so let's use them to test the truthy-ness of `\"\"`."
   ]
  },
  {
   "cell_type": "code",
   "execution_count": 120,
   "metadata": {},
   "outputs": [
    {
     "name": "stdout",
     "output_type": "stream",
     "text": [
      "the value is falsy\n"
     ]
    }
   ],
   "source": [
    "if (\"\") {\n",
    "    console.log(\"the value is truthy\");\n",
    "} else {\n",
    "    console.log(\"the value is falsy\");\n",
    "}"
   ]
  },
  {
   "cell_type": "markdown",
   "metadata": {},
   "source": [
    "Here’s the list of **all* of the **falsy values**:\n",
    "- the Boolean value `false`\n",
    "- the `null` type\n",
    "- the `undefined` type\n",
    "- the number `0`\n",
    "- the empty string `\"\"`\n",
    "- the odd value `NaN` (stands for \"not a number\", check out the [NaN MDN article](https://developer.mozilla.org/en-US/docs/Web/JavaScript/Reference/Global_Objects/NaN))\n",
    "\n",
    "That's right, there are only six falsy values in all of JavaScript!"
   ]
  },
  {
   "cell_type": "markdown",
   "metadata": {},
   "source": [
    "#### Truthy values\n",
    "A value is truthy if it converts to `true` when evaluated in a boolean context. For example, the number `1` is truthy because, `1` evaluates to `true`. Let's use an `if...else` statement again to test this out:"
   ]
  },
  {
   "cell_type": "code",
   "execution_count": 121,
   "metadata": {},
   "outputs": [
    {
     "name": "stdout",
     "output_type": "stream",
     "text": [
      "the value is truthy\n"
     ]
    }
   ],
   "source": [
    "if (1) {\n",
    "    console.log(\"the value is truthy\");\n",
    "} else {\n",
    "    console.log(\"the value is falsy\");\n",
    "}"
   ]
  },
  {
   "cell_type": "markdown",
   "metadata": {},
   "source": [
    "Here are some other examples of truthy values:\n",
    "```JavaScript\n",
    "true\n",
    "42\n",
    "\"pizza\"\n",
    "\"0\"\n",
    "\"null\"\n",
    "\"undefined\"\n",
    "{}\n",
    "[]\n",
    "```\n",
    "Essentially, **if it's not in the list of falsy values, then it's truthy**!\n",
    "### check the \"truthiness\" or \"falsiness\""
   ]
  },
  {
   "cell_type": "code",
   "execution_count": 122,
   "metadata": {},
   "outputs": [
    {
     "data": {
      "text/plain": [
       "true"
      ]
     },
     "execution_count": 122,
     "metadata": {},
     "output_type": "execute_result"
    }
   ],
   "source": [
    "Boolean(1);"
   ]
  },
  {
   "cell_type": "code",
   "execution_count": 123,
   "metadata": {},
   "outputs": [
    {
     "data": {
      "text/plain": [
       "false"
      ]
     },
     "execution_count": 123,
     "metadata": {},
     "output_type": "execute_result"
    }
   ],
   "source": [
    "Boolean(\"\");"
   ]
  },
  {
   "cell_type": "markdown",
   "metadata": {},
   "source": [
    "### Truth table\n",
    "![truthtable.PNG](./img/truthtable.PNG)"
   ]
  },
  {
   "cell_type": "markdown",
   "metadata": {},
   "source": [
    "### Ternary Operator\n",
    "Sometimes, you might find yourself with the following type of conditional."
   ]
  },
  {
   "cell_type": "code",
   "execution_count": 124,
   "metadata": {},
   "outputs": [
    {
     "name": "stdout",
     "output_type": "stream",
     "text": [
      "green\n"
     ]
    }
   ],
   "source": [
    "var isGoing = true;\n",
    "var color;\n",
    "\n",
    "if (isGoing) {\n",
    "  color = \"green\";\n",
    "} else {\n",
    "  color = \"red\";\n",
    "}\n",
    "\n",
    "console.log(color);"
   ]
  },
  {
   "cell_type": "markdown",
   "metadata": {},
   "source": [
    "In this example, the variable `color` is being assigned to either `\"green\"` or `\"red\"` based on the value of `isGoing`. This code works, but it’s a rather lengthy way for assigning a value to a variable. Thankfully, in JavaScript there’s another way.\n",
    "\n",
    "TIP: Using `if(isGoing)` is the same as using `if(isGoing === true)`. Alternatively, using `if(!isGoing)` is the same as using `if(isGoing === false)`.\n",
    "\n",
    "The **ternary operator** provides you with a shortcut alternative for writing lengthy `if...else` statements.\n",
    "```JavaScript\n",
    "let myvvar = someTest ? resultIfTrue : resultIfFalse;\n",
    "```\n",
    "To use the ternary operator, first provide a conditional statement on the left-side of the `?`. Then, between the `?` and `:` write the code that would run if the condition is `true` and on the right-hand side of the `:` write the code that would run if the condition is `false`. For example, you can rewrite the example code above as:"
   ]
  },
  {
   "cell_type": "code",
   "execution_count": 125,
   "metadata": {},
   "outputs": [
    {
     "name": "stdout",
     "output_type": "stream",
     "text": [
      "green\n"
     ]
    }
   ],
   "source": [
    "isGoing = true;\n",
    "color = isGoing ? \"green\" : \"red\";\n",
    "console.log(color);"
   ]
  },
  {
   "cell_type": "markdown",
   "metadata": {},
   "source": [
    "This code not only replaces the conditional, but it also handles the variable assignment for `color`.\n",
    "\n",
    "If you breakdown the code, the condition `isGoing` is placed on the left side of the `?`. Then, the first expression, after the `?`, is what will be run if the condition is *true* and the second expression after the, `:`, is what will be run if the condition is *false*."
   ]
  },
  {
   "cell_type": "markdown",
   "metadata": {},
   "source": [
    "These expressions can be chained together to test multiple conditions as well, demonstrated here in a ternary conditional that adds a couple more plans to the above logic. This is the ternary version of a conditional statement that tests multiple conditions, which you'll learn about in the next unit:"
   ]
  },
  {
   "cell_type": "code",
   "execution_count": 126,
   "metadata": {},
   "outputs": [
    {
     "name": "stdout",
     "output_type": "stream",
     "text": [
      "20\n"
     ]
    }
   ],
   "source": [
    "let memberType = 'elite';\n",
    "let price = memberType === 'basic' ? 5\n",
    "          : memberType === 'pro' ? 10\n",
    "          : memberType === 'elite' ? 20\n",
    "          : 0;\n",
    "console.log(price);"
   ]
  },
  {
   "cell_type": "markdown",
   "metadata": {},
   "source": [
    "### Switch Statement\n",
    "If you find yourself repeating `else if` statements in your code, where each condition is based on the same value, then it might be time to use a **switch** statement.\n",
    "```JavaScript\n",
    "if (option === 1) {\n",
    "  console.log(\"You selected option 1.\");\n",
    "} else if (option === 2) {\n",
    "  console.log(\"You selected option 2.\");\n",
    "} else if (option === 3) {\n",
    "  console.log(\"You selected option 3.\");\n",
    "} else if (option === 4) {\n",
    "  console.log(\"You selected option 4.\");\n",
    "} else if (option === 5) {\n",
    "  console.log(\"You selected option 5.\");\n",
    "} else if (option === 6) {\n",
    "  console.log(\"You selected option 6.\");\n",
    "}\n",
    "```\n",
    "A switch statement is an another way to chain multiple `else if` statements that are based on the same value without using conditional statements. Instead, you just switch which piece of code is executed based on a value.\n",
    "\n",
    "Here, each `else if` statement (option === [value]) has been replaced with a `case` clause (`case [value]:`) and those clauses have been wrapped inside the `switch` statement.\n",
    "\n",
    "When the `switch` statement first evaluates, it looks for the first `case` clause whose expression evaluates to the same value as the result of the expression passed to the `switch` statement. Then, it transfers control to that `case` clause, executing the associated statements.\n",
    "\n",
    "So, if you set option equal to `3`..."
   ]
  },
  {
   "cell_type": "code",
   "execution_count": 127,
   "metadata": {},
   "outputs": [
    {
     "name": "stdout",
     "output_type": "stream",
     "text": [
      "You selected option 3.\n",
      "You selected option 4.\n",
      "You selected option 5.\n",
      "You selected option 6.\n"
     ]
    }
   ],
   "source": [
    "var option = 3;\n",
    "\n",
    "switch (option) {\n",
    "  case 1:\n",
    "    console.log(\"You selected option 1.\");\n",
    "  case 2:\n",
    "    console.log(\"You selected option 2.\");\n",
    "  case 3:\n",
    "    console.log(\"You selected option 3.\");\n",
    "  case 4:\n",
    "    console.log(\"You selected option 4.\");\n",
    "  case 5:\n",
    "    console.log(\"You selected option 5.\");\n",
    "  case 6:\n",
    "    console.log(\"You selected option 6.\");\n",
    "}"
   ]
  },
  {
   "cell_type": "markdown",
   "metadata": {},
   "source": [
    "...then the `switch` statement prints out options `3`, `4`, `5` and `6`.\n",
    "But that’s not exactly like the original `if...else` code at the top? So what’s missing?\n",
    "\n",
    "#### Switch with Break statement\n",
    "The **`break`** statement can be used to terminate a `switch` statement and transfer control to the code following the terminated statement. By adding a `break` to each case clause, you fix the issue of the `switch` statement falling-through to other `case` clauses."
   ]
  },
  {
   "cell_type": "code",
   "execution_count": 128,
   "metadata": {},
   "outputs": [
    {
     "name": "stdout",
     "output_type": "stream",
     "text": [
      "You selected option 3.\n"
     ]
    }
   ],
   "source": [
    "var option = 3;\n",
    "\n",
    "switch (option) {\n",
    "  case 1:\n",
    "    console.log(\"You selected option 1.\");\n",
    "    break;\n",
    "  case 2:\n",
    "    console.log(\"You selected option 2.\");\n",
    "    break;\n",
    "  case 3:\n",
    "    console.log(\"You selected option 3.\");\n",
    "    break;\n",
    "  case 4:\n",
    "    console.log(\"You selected option 4.\");\n",
    "    break;\n",
    "  case 5:\n",
    "    console.log(\"You selected option 5.\");\n",
    "    break;\n",
    "  case 6:\n",
    "    console.log(\"You selected option 6.\");\n",
    "    break; // technically, not needed\n",
    "}"
   ]
  },
  {
   "cell_type": "markdown",
   "metadata": {},
   "source": [
    "#### Falling-through\n",
    "In some situations, you might want to leverage the \"falling-through\" behavior of switch statements to your advantage."
   ]
  },
  {
   "cell_type": "code",
   "execution_count": 129,
   "metadata": {},
   "outputs": [
    {
     "name": "stdout",
     "output_type": "stream",
     "text": [
      "There are 31 days in this month.\n"
     ]
    }
   ],
   "source": [
    "var month = 12;\n",
    "var days = 0\n",
    "switch(month) {\n",
    "  case 1:\n",
    "  case 3:\n",
    "  case 5:\n",
    "  case 7:\n",
    "  case 8:\n",
    "  case 10:\n",
    "  case 12:\n",
    "    days = 1\n",
    "  case 4:\n",
    "  case 6:\n",
    "  case 9:\n",
    "  case 11:\n",
    "    days = days + 2;\n",
    "  default:\n",
    "    days = days + 28;\n",
    "}\n",
    "console.log(\"There are \" + days + \" days in this month.\");"
   ]
  },
  {
   "cell_type": "markdown",
   "metadata": {},
   "source": [
    "In this example, each successive tier builds on the next by adding more to the output without any `break` statements in the code. After the `switch` statement jumps to any of the `case` statements and continues to fall-through until reaching the end of the `switch` statement, including the `default` case.\n",
    "\n",
    "You can add a `default` case to a `switch` statement and it will be executed when none of the values match the value of the switch expression."
   ]
  },
  {
   "cell_type": "code",
   "execution_count": 130,
   "metadata": {},
   "outputs": [
    {
     "name": "stdout",
     "output_type": "stream",
     "text": [
      "In 2015, a person with no high school diploma earned an average of $25,636/year.\n"
     ]
    }
   ],
   "source": [
    "var education = 'no high school diploma';\n",
    "var salary = 0;\n",
    "\n",
    "switch (education) {\n",
    "    case \"no high school diploma\":\n",
    "        salary = 25636;\n",
    "        break;\n",
    "    case \"a high school diploma\":\n",
    "        salary = 35256;\n",
    "        break;\n",
    "    case \"an Associate's degree\":\n",
    "        salary = 41496;\n",
    "        break;\n",
    "    case \"a Bachelor's degree\":\n",
    "        salary = 59124;\n",
    "        break;\n",
    "    case \"a Master's degree\":\n",
    "        salary = 69732;\n",
    "        break;\n",
    "    case \"a Professional degree\":\n",
    "        salary = 89960;\n",
    "        break;\n",
    "    case \"a Doctoral degree\":\n",
    "        salary = 84396;\n",
    "        break;\n",
    "}\n",
    "console.log(\"In 2015, a person with \"+education+\" earned an average of $\"+salary.toLocaleString(\"en-US\")+\"/year.\");"
   ]
  },
  {
   "cell_type": "markdown",
   "metadata": {},
   "source": [
    "Most of the time you will see a `switch` case used to return the result (e.g. the day of the week in this example) from a `function` based on the value passed into it. That would look like this:"
   ]
  },
  {
   "cell_type": "code",
   "execution_count": 131,
   "metadata": {},
   "outputs": [
    {
     "name": "stdout",
     "output_type": "stream",
     "text": [
      "Tuesday\n"
     ]
    }
   ],
   "source": [
    "function findDayOfWeek(dayNumber) {\n",
    "  switch (dayNumber) {\n",
    "    case 0:\n",
    "      return 'Sunday';\n",
    "    case 1:\n",
    "      return 'Monday';\n",
    "    case 2:\n",
    "      return 'Tuesday';\n",
    "    case 3:\n",
    "      return 'Wednesday';\n",
    "    case 4:\n",
    "      return 'Thursday';\n",
    "    case 5:\n",
    "      return 'Friday';\n",
    "    case 6:\n",
    "      return 'Saturday';\n",
    "    default:\n",
    "      return 'Invalid day number';\n",
    "  }\n",
    "}\n",
    "let day = findDayOfWeek(2);\n",
    "console.log(day);  // Tuesday"
   ]
  },
  {
   "cell_type": "markdown",
   "metadata": {},
   "source": [
    "Switch cases use strict equality when checking the cases, so the expression result must be both the same value and the same type for the case to be triggered. If you don't define a `default` case and no other case matches, the code will continue along outside the switch statement. as if it wasn't even there."
   ]
  },
  {
   "cell_type": "markdown",
   "metadata": {},
   "source": [
    "### While Loop\n",
    "There are many different kinds of **loops**, but they all essentially do the same thing: they repeat an action some number of times. Three main pieces of information that any loop should have are:\n",
    "- **When to start**: The code that sets up the loop — defining the starting value of a variable for instance.\n",
    "- **When to stop**: The logical condition to test whether the loop should continue.\n",
    "- **How to get to the next item**: The incrementing or decrementing step — for example, `x=x*3` or `x=x-1`\n",
    "\n",
    "A `while` loop will repeat the operation or block of code indefinitely until a specified condition is `false`. The syntax for a `while` loop is simpler, all you need to provide is the condition and the code you'd like to repeat. While loops are great when you don't know how many times you need to loop. You might have a case where you are taking input from a user and only want to stop when a certain condition is met, i.e. a user inputs a correct value to a question; he might need numerous attempts to get it right.\n",
    "\n",
    "Here's a basic `while` loop example that includes all three parts."
   ]
  },
  {
   "cell_type": "code",
   "execution_count": 132,
   "metadata": {},
   "outputs": [
    {
     "name": "stdout",
     "output_type": "stream",
     "text": [
      "0\n",
      "2\n",
      "4\n"
     ]
    },
    {
     "data": {
      "text/plain": [
       "6"
      ]
     },
     "execution_count": 132,
     "metadata": {},
     "output_type": "execute_result"
    }
   ],
   "source": [
    "var start = 0; // when to start\n",
    "while (start < 5) { // when to stop\n",
    "  console.log(start);\n",
    "  start = start + 2; // how to get to the next item\n",
    "}"
   ]
  },
  {
   "cell_type": "markdown",
   "metadata": {},
   "source": [
    "If a loop is missing any of these three things, then you might find yourself in trouble. For instance, a missing stop condition can result in a loop that never ends!\n",
    "\n",
    "**Don't run this code!**\n",
    "```JavaScript\n",
    "while (true) {\n",
    "  console.log(\"true is never false, so I will never stop!\");\n",
    "}\n",
    "```\n",
    "If you did try to run that code in the console, you probably crashed your browser tab.\n",
    "\n",
    "Here's an example where a loop is missing how to get to the next item; the variable x is never incremented. x will remain 0 throughout the program, so the loop will never end.\n",
    "\n",
    "**Don't run this code!**\n",
    "```JavaScript\n",
    "var x = 0;\n",
    "while (x < 1) {\n",
    "  console.log('Oops! x is never incremented from 0, so it will ALWAYS be less than 1');\n",
    "}\n",
    "```"
   ]
  },
  {
   "cell_type": "markdown",
   "metadata": {},
   "source": [
    "**\"Fizzbuzz\"** is a famous interview question used in programming interviews. It goes something like this:\n",
    "\n",
    "- Loop through the numbers 1 to 100\n",
    "- If the number is divisible by 2, print \"Fizz\"\n",
    "- If the number is divisible by 3, print \"Buzz\"\n",
    "- If the number is divisible by both 2 and 3, print \"FizzBuzz\"\n",
    "- If the number is not divisible by 2 or 3, print the number"
   ]
  },
  {
   "cell_type": "code",
   "execution_count": 133,
   "metadata": {},
   "outputs": [
    {
     "name": "stdout",
     "output_type": "stream",
     "text": [
      "1\n",
      "Fizz\n",
      "Buzz\n",
      "Fizz\n",
      "5\n",
      "FizzBuzz\n",
      "7\n",
      "Fizz\n",
      "Buzz\n",
      "Fizz\n"
     ]
    },
    {
     "data": {
      "text/plain": [
       "11"
      ]
     },
     "execution_count": 133,
     "metadata": {},
     "output_type": "execute_result"
    }
   ],
   "source": [
    "var x = 1;\n",
    "while (x<=10) {\n",
    "    var out = \"\";\n",
    "    if (x%2===0) { out = \"Fizz\"; }\n",
    "    if (x%3===0) { out = out + \"Buzz\"; }\n",
    "    if (!out) {out=x}\n",
    "    console.log(out)\n",
    "    x = x + 1;\n",
    "}"
   ]
  },
  {
   "cell_type": "markdown",
   "metadata": {},
   "source": [
    "### Do/While Loop\n",
    "A while loop does not guarantee that the code within its statement block will execute. If the condition is never evaluated to true, the code will never be executed. Consider this example:\n",
    "```JavaScript\n",
    "let counter = 10;\n",
    "while (counter < 10) {\n",
    "  console.log(counter);\n",
    "}\n",
    "```\n",
    "Here, the `console.log` will never happen because `counter` is assigned above as `10` which makes the `while` condition `false` from the start. Sometimes you might want the code to always be executed **at least once**, though. For this purpose you have the `do ... while` loop:"
   ]
  },
  {
   "cell_type": "code",
   "execution_count": 134,
   "metadata": {},
   "outputs": [
    {
     "name": "stdout",
     "output_type": "stream",
     "text": [
      "10\n"
     ]
    }
   ],
   "source": [
    "let counter = 10;\n",
    "do {\n",
    "  console.log(counter);\n",
    "} while (counter < 10);"
   ]
  },
  {
   "cell_type": "markdown",
   "metadata": {},
   "source": [
    "In this case, the loop will always be executed at least once because the `do` statement comes before the `while` condition is checked."
   ]
  },
  {
   "cell_type": "markdown",
   "metadata": {},
   "source": [
    "### For Loop\n",
    "You learned in the comparative programming module that there are a few different ways to iterate (loop) in software development. One of those ways is by using the for loop. A for loop repeats the same operation or block of code until a specified condition is false. They can be used for any operation that needs to be repeated multiple times based on a conditional expression, such as looping through all the rows in an HTML table or adding a CSS class to a series of HTML elements.\n",
    "\n",
    "The **for loop** explicitly forces you to define the start point, stop point, and each step of the loop. In fact, you'll get an `Uncaught SyntaxError: Unexpected token` ) if you leave out any of the three required pieces.\n",
    "```JavaScript\n",
    "for (initializingExpression, condition, incrementingExpression) {\n",
    "  // code to repeat\n",
    "}\n",
    "```\n",
    "The loop works as follows:\n",
    "1. The initializingExpression executes\n",
    "2. The condition is checked\n",
    "3. If the condition is true, the code to repeat is executed\n",
    "4. The incrementing expression is executed\n",
    "5. Steps 2 thorugh 4 are repeated until the condition is false\n",
    "6. The incrementing expression is executed a final time\n",
    "7. Code outside the loop continues\n",
    "\n",
    "Here's an example of a `for` loop that prints out the values from `0` to `5`. Notice the semicolons separating the different statements of the for loop: `var i = 0;` `i < 6;` `i++`"
   ]
  },
  {
   "cell_type": "code",
   "execution_count": 135,
   "metadata": {},
   "outputs": [
    {
     "name": "stdout",
     "output_type": "stream",
     "text": [
      "Printing out i = 0\n",
      "Printing out i = 1\n",
      "Printing out i = 2\n",
      "Printing out i = 3\n",
      "Printing out i = 4\n",
      "Printing out i = 5\n"
     ]
    }
   ],
   "source": [
    "for (let i = 0; i < 6; i++ ) {\n",
    "  console.log(\"Printing out i = \" + i);\n",
    "}"
   ]
  },
  {
   "cell_type": "markdown",
   "metadata": {},
   "source": [
    "### Nested Loops\n",
    "\n",
    "Did you know you can also nest loops inside of each other? Paste this nested loop in your browser and take a look at what it prints out:"
   ]
  },
  {
   "cell_type": "code",
   "execution_count": 136,
   "metadata": {},
   "outputs": [
    {
     "name": "stdout",
     "output_type": "stream",
     "text": [
      "0,0\n",
      "0,1\n",
      "0,2\n",
      "1,0\n",
      "1,1\n",
      "1,2\n",
      "2,0\n",
      "2,1\n",
      "2,2\n",
      "3,0\n",
      "3,1\n",
      "3,2\n",
      "4,0\n",
      "4,1\n",
      "4,2\n"
     ]
    }
   ],
   "source": [
    "for (let x = 0; x < 5; x = x + 1) {\n",
    "  for (let y = 0; y < 3; y = y + 1) {\n",
    "    console.log(x + \",\" + y);\n",
    "  }\n",
    "}"
   ]
  },
  {
   "cell_type": "markdown",
   "metadata": {},
   "source": [
    "Notice the order that the output is being displayed.\n",
    "\n",
    "For each value of `x` in the outer loop, the inner for loop executes completely. The outer loop starts with `x = 0`, and then the inner loop completes its cycle with all values of `y`:\n",
    "```JavaScript\n",
    "x = 0 and y = 0, 1, 2 // corresponds to (0, 0), (0, 1), and (0, 2)\n",
    "```\n",
    "Once the inner loop is done iterating over `y`, then the outer loop continues to the next value, `x = 1`, and the whole process begins again.\n",
    "```JavaScript\n",
    "x = 0 and y = 0, 1, 2 // (0, 0) (0, 1) and (0, 2)\n",
    "x = 1 and y = 0, 1, 2 // (1, 0) (1, 1) and (1, 2)\n",
    "x = 2 and y = 0, 1, 2 // (2, 0) (2, 1) and (2, 2)\n",
    "etc.\n",
    "```"
   ]
  },
  {
   "cell_type": "markdown",
   "metadata": {},
   "source": [
    "### Break/Continue\n",
    "The `break` and `continue` statements are used to control the execution of loops at a more granular level. They can be used in any sort of loop. A common use of break is to break out of an infinite `while` loop, like one below:"
   ]
  },
  {
   "cell_type": "code",
   "execution_count": 137,
   "metadata": {},
   "outputs": [
    {
     "name": "stdout",
     "output_type": "stream",
     "text": [
      "0\n",
      "1\n",
      "2\n",
      "3\n",
      "4\n"
     ]
    }
   ],
   "source": [
    "let r=0;\n",
    "while (true){\n",
    "    if (r==5){\n",
    "        break;\n",
    "    }\n",
    "    console.log(r);\n",
    "    r++;\n",
    "}"
   ]
  },
  {
   "cell_type": "markdown",
   "metadata": {},
   "source": [
    "You might also want to break out of a loop when a specific condition is met, like in this `for` loop which would print the numbers 0 through 9 to the console, but stops before printing 5 because the `if` statement will be `true` and the `break` statement will execute, breaking the loop:"
   ]
  },
  {
   "cell_type": "code",
   "execution_count": 138,
   "metadata": {},
   "outputs": [
    {
     "name": "stdout",
     "output_type": "stream",
     "text": [
      "0\n",
      "1\n",
      "2\n",
      "3\n",
      "4\n"
     ]
    }
   ],
   "source": [
    "for (let r = 0; r < 10; r++) {\n",
    "  if (r === 5) {\n",
    "    break;\n",
    "  } else {\n",
    "    console.log(r);\n",
    "  }\n",
    "}"
   ]
  },
  {
   "cell_type": "markdown",
   "metadata": {},
   "source": [
    "While the `break` statement breaks out of a loop entirely, the `continue` statement makes it possible to skip the actual iteration. The following `for` loop will print the numbers `0` through `3`, but skip `2`, continuing with `3`:"
   ]
  },
  {
   "cell_type": "code",
   "execution_count": 139,
   "metadata": {},
   "outputs": [
    {
     "name": "stdout",
     "output_type": "stream",
     "text": [
      "0\n",
      "1\n",
      "3\n"
     ]
    }
   ],
   "source": [
    "for(let r = 0; r < 4; r++) {\n",
    "  if(r === 2) {\n",
    "    continue;\n",
    "  } else {\n",
    "    console.log(r);\n",
    "  }\n",
    "}"
   ]
  },
  {
   "cell_type": "markdown",
   "metadata": {},
   "source": [
    "### Labelling"
   ]
  },
  {
   "cell_type": "code",
   "execution_count": 140,
   "metadata": {},
   "outputs": [
    {
     "name": "stdout",
     "output_type": "stream",
     "text": [
      "inner is 0\n",
      "inner is 1\n",
      "inner is 2\n",
      "Breaking the outer loop from the inner loop.\n",
      "Loop has been broken.\n"
     ]
    }
   ],
   "source": [
    "let outer = 0;\n",
    "outerLoop: while (outer <= 1000000) {\n",
    "    let inner = 0;\n",
    "    innerLoop: while (inner <= 100) {\n",
    "        if (inner === 3) {\n",
    "          console.log('Breaking the outer loop from the inner loop.');\n",
    "          break outerLoop;\n",
    "        }\n",
    "        console.log('inner is', inner);\n",
    "        inner++;\n",
    "    }\n",
    "\n",
    "    if (outer === 5) {\n",
    "      console.log('Breaking!');\n",
    "      break;\n",
    "    }\n",
    "\n",
    "    console.log('outer is', outer);\n",
    "    outer++;\n",
    "}\n",
    "console.log('Loop has been broken.');"
   ]
  },
  {
   "cell_type": "markdown",
   "metadata": {},
   "source": [
    "This example is a little more complex, but we can break it down: The outer loop is set to iterate from `0` to `1000000`. If it encounters `5`, the `if` statement within the outer loop will break it. However, before it hits this `if` statement, there is another `while` loop set to iterate a variable `inner` from `0` to `100`. Within that loop is an `if` statement that checks each iteration to see if `inner === 3`. If that condition is true it will break the outer loop using the label `outerLoop`!\n",
    "\n",
    "When the outer loop is originally created it is given a label of `outerLoop`. If we had simply used `break;` inside the inner loop rather than `break outerLoop;`, it would have broken the inner loop and continued with the outer one. The `if` statement checking whether `outer === 5` would still have broken the outer loop at that point, but using a label allowed us to break it from inside another loop. This technique is not widely used, but if you find yourself in a situation where you need to break out of a specific loop, remember that you can label your loops and attach that label to a `break` or `continue` statement later on."
   ]
  },
  {
   "cell_type": "markdown",
   "metadata": {},
   "source": [
    "## Functions"
   ]
  },
  {
   "cell_type": "markdown",
   "metadata": {},
   "source": [
    "### How to declare a function\n",
    "**Functions** allow you to package up lines of code that you can use (and often reuse) in your programs.\n",
    "The generic syntax for defining a function in JavaScript is:\n",
    "```JavaScript\n",
    "function someFunctionName() {\n",
    "  // code to execute\n",
    "}\n",
    "```\n",
    "You need only three things to define a function in JavaScript:\n",
    "1. The function keyword\n",
    "2. A function name of your choosing, ending with ()\n",
    "3. The code to execute, enclosed in { curly braces }\n",
    "\n",
    "Sometimes they take parameters like the pizza button from the beginning of this lesson. `reheatPizza()` had one parameter: the number of slices.\n",
    "```JavaScript\n",
    "function reheatPizza(numSlices) {\n",
    "  // code that figures out reheat settings!\n",
    "}\n",
    "```\n",
    "The parameter is listed as a variable after the function name, inside the parentheses. And, if there were multiple parameters, you would just separate them with commas.\n",
    "```JavaScript\n",
    "function doubleGreeting(name, otherName) {\n",
    "  // code to greet two people!\n",
    "}\n",
    "```\n",
    "But, you can also have functions that don't have any parameters. Instead, they just package up some code and perform some task. In this case, you would just leave the parentheses empty. Take this one for example. Here's a simple function that just prints out `\"Hello!\"`.\n",
    "```JavaScript\n",
    "function sayHello() {\n",
    "  console.log(\"Hello!\");\n",
    "}\n",
    "```\n",
    "In the definition of a `function`, a **parameter** is a variable that goes in the parentheses after the function name and allows the function to take some input from its caller. If you wanted to redefine the function above such that the string it logs to the console is dynamically chosen by the user, all you need to do is define the function with a parameter:\n",
    "```JavaScript\n",
    "function sayHello(message) {\n",
    "  console.log(message);\n",
    "}\n",
    "```\n",
    "Inside the function, the parameter `message` becomes a variable that can be used throughout the function's code block. The variable is set when the user calls the function, by passing the `message` they would like printed in the parentheses when they call the function, e.g. `sayHello('Hi');`.\n",
    "\n",
    "If you tried pasting any of the functions above into the JavaScript console, you probably didn't notice much happen. In fact, you probably saw `undefined` returned back to you. `undefined` is the default return value on the console when nothing is explicitly returned using the special `return` keyword."
   ]
  },
  {
   "cell_type": "markdown",
   "metadata": {},
   "source": [
    "### Return statements\n",
    "In the `sayHello()` function above, a value is printed to the console with `console.log`, but not explicitly returned with a return statement. You can write a return statement by using the `return` keyword followed by the expression or value that you want to return.\n",
    "\n",
    "```JavaScript\n",
    "// declares the sayHello function\n",
    "function sayHello() {\n",
    "  return \"Hello!\"; // returns value instead of printing it\n",
    "}\n",
    "```"
   ]
  },
  {
   "cell_type": "markdown",
   "metadata": {},
   "source": [
    "Your functions can have as many parameters as you wish (separated by commas) and they can be called whatever you want. You should, however, stick with standard JavaScript naming conventions and give them names that make sense and which use **camelCase**. Also keep in mind that the more parameters there are the more complex the function is to use. In general it's a good idea to try to keep your functions as small and simple as possible. If one gets to be too complex, it might mean that some of its code could also be split off into its own function. You can also `return` anything you want. Some functions return a single value, but it's not uncommon to return other data types as well, such as boolean results, arrays, objects, and even other functions. The parameters and return value for your function depend entirely on its intended functionality."
   ]
  },
  {
   "cell_type": "markdown",
   "metadata": {},
   "source": [
    "### How to run a function\n",
    "Now, to get your function to do something, you have to invoke or call the function using the function name, followed by parentheses with any arguments that are passed into it. Functions are like machines. You can build the machine, but it won't do anything unless you also turn it on."
   ]
  },
  {
   "cell_type": "code",
   "execution_count": 141,
   "metadata": {},
   "outputs": [],
   "source": [
    "function add1(num) {\n",
    "  return num + 1;\n",
    "}"
   ]
  },
  {
   "cell_type": "markdown",
   "metadata": {},
   "source": [
    "Here's how you would call the `add1()` function. It requires you to match the function definition by passing it the arguments it expects to receive. "
   ]
  },
  {
   "cell_type": "code",
   "execution_count": 142,
   "metadata": {},
   "outputs": [
    {
     "data": {
      "text/plain": [
       "3"
      ]
     },
     "execution_count": 142,
     "metadata": {},
     "output_type": "execute_result"
    }
   ],
   "source": [
    "add1(2);"
   ]
  },
  {
   "cell_type": "markdown",
   "metadata": {},
   "source": [
    "### What to do with the `return` value\n",
    "The final thing to understand when it comes to defining and using functions is what to do with the return value. In the above function you simply call it and that's it. You're not actually doing anything with the return value. It's much more common to store the result of a function call in a variable so you can use it later. To do this, just set a variable equal to the result of the function call:"
   ]
  },
  {
   "cell_type": "code",
   "execution_count": 143,
   "metadata": {},
   "outputs": [
    {
     "name": "stdout",
     "output_type": "stream",
     "text": [
      "5\n"
     ]
    }
   ],
   "source": [
    "var newNum = add1(4);\n",
    "console.log(newNum);"
   ]
  },
  {
   "cell_type": "markdown",
   "metadata": {},
   "source": [
    "### Parameters vs. Arguments\n",
    "At first, it can be a bit tricky to know when something is either a *parameter* or an *argument*. The key difference is in where they show up in the code. \n",
    "- a **parameter** is always going to be a variable name and appears in the function declaration. On the other hand, \n",
    "- an **argument** is always going to be a value (i.e. any of the JavaScript data types - a number, a string, a boolean, etc.) and will always appear in the code when the function is called or invoked.\n",
    "\n",
    "```JavaScript\n",
    "function findAverage(x, y) {\n",
    "  var answer = (x + y) / 2;\n",
    "  return answer;\n",
    "}\n",
    "\n",
    "var avg = findAverage(5, 9);\n",
    "```\n",
    "\n",
    "- here `x` and `y` are parameters in the declaration of the function `findAverage()`\n",
    "- here `5` and `9` are arguments in the invoke of function `findAverage()`"
   ]
  },
  {
   "cell_type": "markdown",
   "metadata": {},
   "source": [
    "### Returning vs. Logging\n",
    "\n",
    "It’s important to understand that **return** and **print** are not the same thing. Printing a value to the JavaScript console only displays a value (that you can view for debugging purposes), but the value it displays can't really be used for anything more than that. For this reason, you should remember to only use `console.log` to test your code in the JavaScript console.\n",
    "\n",
    "Paste the following function declaration and function invocation into the JavaScript console to see the difference between logging (printing) and returning:"
   ]
  },
  {
   "cell_type": "code",
   "execution_count": 144,
   "metadata": {},
   "outputs": [
    {
     "name": "stdout",
     "output_type": "stream",
     "text": [
      "Printing: isThisWorking was called and 3 was passed in as an argument.\n"
     ]
    },
    {
     "data": {
      "text/plain": [
       "'Returning: I am returning this string!'"
      ]
     },
     "execution_count": 144,
     "metadata": {},
     "output_type": "execute_result"
    }
   ],
   "source": [
    "function isThisWorking(input) {\n",
    "  console.log(\"Printing: isThisWorking was called and \" + input + \" was passed in as an argument.\");\n",
    "  return \"Returning: I am returning this string!\";\n",
    "}\n",
    "\n",
    "isThisWorking(3);"
   ]
  },
  {
   "cell_type": "markdown",
   "metadata": {},
   "source": [
    "If you don't explicitly define a return value, the function will return `undefined` by default."
   ]
  },
  {
   "cell_type": "code",
   "execution_count": 145,
   "metadata": {},
   "outputs": [
    {
     "name": "stdout",
     "output_type": "stream",
     "text": [
      "Printing: isThisWorking was called and 3 was passed in as an argument.\n"
     ]
    }
   ],
   "source": [
    "function isThisWorking(input) {\n",
    "  console.log(\"Printing: isThisWorking was called and \" + input + \" was passed in as an argument.\");\n",
    "}\n",
    "\n",
    "isThisWorking(3);"
   ]
  },
  {
   "cell_type": "code",
   "execution_count": 146,
   "metadata": {},
   "outputs": [
    {
     "data": {
      "text/plain": [
       "1"
      ]
     },
     "execution_count": 146,
     "metadata": {},
     "output_type": "execute_result"
    }
   ],
   "source": [
    "function test() {\n",
    "  return 1;\n",
    "  return 2;\n",
    "}\n",
    "\n",
    "test();"
   ]
  },
  {
   "cell_type": "markdown",
   "metadata": {},
   "source": [
    "`1` was returned! Once the code evaluates the first `return` statement, the function finishes. The second return statement will never be reached.\n",
    "\n",
    "However, it is possible to have multiple `return` statements in a function.\n",
    "\n",
    "For instance, you could use a conditional to specify when each of the `return` statements is evaluated. You could, for example, only return the value of `1` if the string `\"one\"` was passed into the `test()` function. Else, you could return the value of `2`."
   ]
  },
  {
   "cell_type": "markdown",
   "metadata": {},
   "source": [
    "### Using Return Values\n",
    "Returning a value from a function is great, but what's the use of a return value if you're not going to use the value to do something?\n",
    "\n",
    "A function's return value can be *stored* in a variable or *reused* throughout your program *as a function argument*. Here, we have a function that adds two numbers together, and another function that divides a number by `2`. We can find the average of `5` and `7` by using the `add()` function to add a pair of numbers together, and then by passing the sum of the two numbers `add(5, 7)` into the function `divideByTwo()` as an argument.\n",
    "\n",
    "And finally, we can even store the final answer in a variable called `average` and use the variable to perform even more calculations in more places!"
   ]
  },
  {
   "cell_type": "code",
   "execution_count": 147,
   "metadata": {},
   "outputs": [
    {
     "name": "stdout",
     "output_type": "stream",
     "text": [
      "6\n"
     ]
    }
   ],
   "source": [
    "// returns the sum of two numbers\n",
    "function add(x, y) {\n",
    "  return x + y;\n",
    "}\n",
    "\n",
    "// returns the value of a number divided by 2\n",
    "function divideByTwo(num) {\n",
    "  return num / 2;\n",
    "}\n",
    "\n",
    "var sum = add(5, 7); // call the \"add\" function and store the returned value in the \"sum\" variable\n",
    "var average = divideByTwo(sum); // call the \"divideByTwo\" function and store the returned value in the \"average\" variable\n",
    "console.log(average);"
   ]
  },
  {
   "cell_type": "markdown",
   "metadata": {},
   "source": [
    "OR"
   ]
  },
  {
   "cell_type": "code",
   "execution_count": 148,
   "metadata": {},
   "outputs": [
    {
     "data": {
      "text/plain": [
       "6"
      ]
     },
     "execution_count": 148,
     "metadata": {},
     "output_type": "execute_result"
    }
   ],
   "source": [
    "divideByTwo(add(5, 7));"
   ]
  },
  {
   "cell_type": "markdown",
   "metadata": {},
   "source": [
    "### Using global variables\n",
    "So you might be wondering: \"Why wouldn't I always use global variables? Then, I would never need to use function arguments since ALL my functions would have access to EVERYTHING!\"\n",
    "\n",
    "Well... Global variables might seem like a convenient idea at first, especially when you're writing small scripts and programs, but there are many reasons why you shouldn't use them unless you have to. For instance, global variables can conflict with other global variables of the same name. Once your programs get larger and larger, it'll get harder and harder to keep track and prevent this from happening.\n",
    "\n",
    "There are also other reasons you'll learn more about in more advanced courses. But for now, just work on minimizing the use of global variables as much as possible."
   ]
  },
  {
   "cell_type": "markdown",
   "metadata": {},
   "source": [
    "### Hoisting\n",
    "Sometimes your JavaScript code will produce errors that may seem counterintuitive at first. Hoisting is another one of those topics that might be the cause of some of these tricky errors you're debugging.\n",
    "\n",
    "Let's take a look at an example:"
   ]
  },
  {
   "cell_type": "code",
   "execution_count": 149,
   "metadata": {},
   "outputs": [
    {
     "name": "stdout",
     "output_type": "stream",
     "text": [
      "undefined Julia\n"
     ]
    }
   ],
   "source": [
    "sayHi(\"Julia\");\n",
    "\n",
    "function sayHi(name) {\n",
    "  console.log(greeting + \" \" + name);\n",
    "  var greeting;\n",
    "}"
   ]
  },
  {
   "cell_type": "code",
   "execution_count": 150,
   "metadata": {},
   "outputs": [
    {
     "name": "stdout",
     "output_type": "stream",
     "text": [
      "undefined Julia\n"
     ]
    }
   ],
   "source": [
    "sayHi(\"Julia\");\n",
    "\n",
    "function sayHi(name) {\n",
    "  console.log(greeting + \" \" + name);\n",
    "  var greeting = \"Hello\";\n",
    "}"
   ]
  },
  {
   "cell_type": "code",
   "execution_count": 151,
   "metadata": {},
   "outputs": [
    {
     "name": "stdout",
     "output_type": "stream",
     "text": [
      "Hello Julia\n"
     ]
    }
   ],
   "source": [
    "function sayHi(name) {\n",
    "  var greeting = \"Hello\";\n",
    "  console.log(greeting + \" \" + name);\n",
    "}\n",
    "\n",
    "sayHi(\"Julia\");"
   ]
  },
  {
   "cell_type": "markdown",
   "metadata": {},
   "source": [
    "- JavaScript hoists function declarations and variable declarations to the top of the current scope.\n",
    "- Variable assignments are not hoisted.\n",
    "\n",
    "Declare functions and variables at the top of your scripts, so the syntax and behavior are consistent with each other."
   ]
  },
  {
   "cell_type": "markdown",
   "metadata": {},
   "source": [
    "### Function Expressions\n",
    "Once you know how to declare a function, a whole new set of possibilities will open up to you.\n",
    "\n",
    "For instance, remember how you can store anything you want in a variable? Well, in JavaScript, you can also store functions in variables. When a function is stored inside a variable it's called a **function expression**."
   ]
  },
  {
   "cell_type": "code",
   "execution_count": 152,
   "metadata": {},
   "outputs": [],
   "source": [
    "var catSays = function (max) {\n",
    "  var catMessage = \"\";\n",
    "  for (var i = 0; i < max; i++) {\n",
    "    catMessage += \"meow \";\n",
    "  }\n",
    "  return catMessage;\n",
    "};"
   ]
  },
  {
   "cell_type": "markdown",
   "metadata": {},
   "source": [
    "Notice how the `function` keyword no longer has a *name*.\n",
    "\n",
    "It's an **anonymous function**, a function with no name, and you've stored it in a variable called `catSays`.\n",
    "\n",
    "And, if you try accessing the value of the variable `catSays`, you'll even see the function returned back to you."
   ]
  },
  {
   "cell_type": "code",
   "execution_count": 153,
   "metadata": {},
   "outputs": [
    {
     "data": {
      "text/plain": [
       "[Function: catSays]"
      ]
     },
     "execution_count": 153,
     "metadata": {},
     "output_type": "execute_result"
    }
   ],
   "source": [
    "catSays"
   ]
  },
  {
   "cell_type": "markdown",
   "metadata": {},
   "source": [
    "the stored function can be called with the name of the variable, which stores it:"
   ]
  },
  {
   "cell_type": "code",
   "execution_count": 154,
   "metadata": {},
   "outputs": [
    {
     "data": {
      "text/plain": [
       "'meow meow '"
      ]
     },
     "execution_count": 154,
     "metadata": {},
     "output_type": "execute_result"
    }
   ],
   "source": [
    "catSays(2)"
   ]
  },
  {
   "cell_type": "markdown",
   "metadata": {},
   "source": [
    "### Function expressions and hoisting\n",
    "Deciding when to use a function expression and when to use a function declaration can depend on a few things, and you will see some ways to use them in the next section. But, one thing you'll want to be careful of is hoisting.\n",
    "\n",
    "All function declarations are hoisted and loaded before the script is actually run. Function expressions are not hoisted, since they involve variable assignment, and only variable declarations are hoisted. The function expression will not be loaded until the interpreter reaches it in the script."
   ]
  },
  {
   "cell_type": "markdown",
   "metadata": {},
   "source": [
    "### Functions as parameters\n",
    "Being able to store a function in a variable makes it really simple to pass the function into another function. A function that is passed into another function is called a **callback**. Let's say you had a `helloCat()` function, and you wanted it to return `\"Hello\"` followed by a string of `\"meows\"` like you had with `catSays`. Well, rather than redoing all of your hard work, you can make `helloCat()` accept a callback function, and pass in `catSays`."
   ]
  },
  {
   "cell_type": "code",
   "execution_count": 155,
   "metadata": {},
   "outputs": [
    {
     "data": {
      "text/plain": [
       "'Hello meow meow meow '"
      ]
     },
     "execution_count": 155,
     "metadata": {},
     "output_type": "execute_result"
    }
   ],
   "source": [
    "// function expression catSays\n",
    "var catSays = function (max) {\n",
    "  var catMessage = \"\";\n",
    "  for (var i = 0; i < max; i++) {\n",
    "    catMessage += \"meow \";\n",
    "  }\n",
    "  return catMessage;\n",
    "};\n",
    "\n",
    "// function declaration helloCat accepting a callback\n",
    "function helloCat(callbackFunc) {\n",
    "  return \"Hello \" + callbackFunc(3);\n",
    "}\n",
    "\n",
    "// pass in catSays as a callback function\n",
    "helloCat(catSays);"
   ]
  },
  {
   "cell_type": "markdown",
   "metadata": {},
   "source": [
    "### Named function expressions\n",
    "the function stored in a variable can have a name, but that name is not usable for calling:"
   ]
  },
  {
   "cell_type": "code",
   "execution_count": 156,
   "metadata": {},
   "outputs": [
    {
     "data": {
      "text/plain": [
       "'The fountain'"
      ]
     },
     "execution_count": 156,
     "metadata": {},
     "output_type": "execute_result"
    }
   ],
   "source": [
    "var favoriteMovie = function movie() {\n",
    "  return \"The fountain\";\n",
    "};\n",
    "favoriteMovie()"
   ]
  },
  {
   "cell_type": "markdown",
   "metadata": {},
   "source": [
    "```JavaScript\n",
    "movie()\n",
    "ReferenceError: movie is not defined\n",
    "```"
   ]
  },
  {
   "cell_type": "markdown",
   "metadata": {},
   "source": [
    "Named functions are great for a smoother debugging experience, since those functions will have a useful name to display in stack traces. They're completely optional, however, and you'll often read code written by developers who prefer one way or the other."
   ]
  },
  {
   "cell_type": "markdown",
   "metadata": {},
   "source": [
    "### Inline function expressions\n",
    "A function expression is when a function is assigned to a variable. And, in JavaScript, this can also happen when you pass a function inline as an argument to another function. Take the favoriteMovie example for instance:"
   ]
  },
  {
   "cell_type": "code",
   "execution_count": 157,
   "metadata": {},
   "outputs": [
    {
     "name": "stdout",
     "output_type": "stream",
     "text": [
      "My favorite movie is Finding Nemo\n"
     ]
    }
   ],
   "source": [
    "// Function expression that assigns the function displayFavorite \n",
    "// to the variable favoriteMovie\n",
    "var favoriteMovie = function displayFavorite(movieName) {\n",
    "  console.log(\"My favorite movie is \" + movieName);\n",
    "};\n",
    "\n",
    "// Function declaration that has two parameters: a function for displaying\n",
    "// a message, along with a name of a movie\n",
    "function movies(messageFunction, name) {\n",
    "  messageFunction(name);\n",
    "}\n",
    "\n",
    "// Call the movies function, pass in the favoriteMovie function and name of movie\n",
    "movies(favoriteMovie, \"Finding Nemo\");"
   ]
  },
  {
   "cell_type": "markdown",
   "metadata": {},
   "source": [
    "But you could have bypassed the first assignment of the function, by passing the function to the `movies()` function **inline**."
   ]
  },
  {
   "cell_type": "code",
   "execution_count": 158,
   "metadata": {},
   "outputs": [
    {
     "name": "stdout",
     "output_type": "stream",
     "text": [
      "My favorite movie is Finding Nemo\n"
     ]
    }
   ],
   "source": [
    "// Function declaration that takes in two arguments: a function for displaying\n",
    "// a message, along with a name of a movie\n",
    "function movies(messageFunction, name) {\n",
    "  messageFunction(name);\n",
    "}\n",
    "\n",
    "// Call the movies function, pass in the function and name of movie\n",
    "movies(function displayFavorite(movieName) {\n",
    "  console.log(\"My favorite movie is \" + movieName);\n",
    "}, \"Finding Nemo\");"
   ]
  },
  {
   "cell_type": "markdown",
   "metadata": {},
   "source": [
    "This type of syntax, writing function expressions that pass a function into another function inline, is really common in JavaScript. It can be a little tricky at first, but be patient, keep practicing, and you'll start to get the hang of it!\n",
    "\n",
    "#### Why use anonymous inline function expressions?\n",
    "Using an anonymous inline function expression might seem like a very not-useful thing at first. Why define a function that can only be used once and you can't even call it by name?\n",
    "\n",
    "Anonymous inline function expressions are often used with function callbacks that are probably not going to be reused elsewhere. Yes, you could store the function in a variable, give it a name, and pass it in like you saw in the examples above. However, when you know the function is not going to be reused, it could save you many lines of code to just define it inline."
   ]
  },
  {
   "cell_type": "markdown",
   "metadata": {},
   "source": [
    "## Try / Catch / Throw"
   ]
  },
  {
   "cell_type": "code",
   "execution_count": 159,
   "metadata": {},
   "outputs": [
    {
     "name": "stdout",
     "output_type": "stream",
     "text": [
      "TestTry method run successfully\n",
      "There was an error in the code. The details are:\n",
      "TestT is not defined\n"
     ]
    }
   ],
   "source": [
    "function TestTry(){\n",
    "    console.log(\"TestTry method run successfully\");\n",
    "}\n",
    "\n",
    "try {\n",
    "    TestTry();\n",
    "    // Invalid call: non existent function\n",
    "    TestT();\n",
    "} catch(exception) {\n",
    "    console.log(\"There was an error in the code. The details are:\\n\"+exception.message);\n",
    "}"
   ]
  },
  {
   "cell_type": "code",
   "execution_count": 160,
   "metadata": {},
   "outputs": [
    {
     "name": "stdout",
     "output_type": "stream",
     "text": [
      "There was an error. The details are:\n",
      "Please submit a minimum value of at least 5.\n"
     ]
    }
   ],
   "source": [
    "function checkValue(value){\n",
    "    try {\n",
    "        if (value <=5){\n",
    "            throw new Error(\"Please submit a minimum value of at least 5.\")\n",
    "        } else if (value >=10) {\n",
    "            throw new Error(\"Please submit a value of that does not exceeed 10.\")            \n",
    "        }\n",
    "    } catch(e) {\n",
    "        console.log(\"There was an error. The details are:\\n\"+e.message);\n",
    "    }\n",
    "}\n",
    "\n",
    "checkValue(2);"
   ]
  },
  {
   "cell_type": "code",
   "execution_count": 161,
   "metadata": {},
   "outputs": [
    {
     "name": "stdout",
     "output_type": "stream",
     "text": [
      "There was an error. The details are:\n",
      "Error: myError1\n",
      "    at traceIt (evalmachine.<anonymous>:3:15)\n",
      "    at b (evalmachine.<anonymous>:9:14)\n",
      "    at a (evalmachine.<anonymous>:12:5)\n",
      "    at evalmachine.<anonymous>:15:1\n",
      "    at Script.runInThisContext (vm.js:96:20)\n",
      "    at Object.runInThisContext (vm.js:303:38)\n",
      "    at run ([eval]:1054:15)\n",
      "    at onRunRequest ([eval]:888:18)\n",
      "    at onMessage ([eval]:848:13)\n",
      "    at process.emit (events.js:182:13)\n"
     ]
    }
   ],
   "source": [
    "function traceIt(){\n",
    "    try { \n",
    "        throw new Error(\"myError1\");\n",
    "    } catch(e) {\n",
    "        console.log(\"There was an error. The details are:\\n\"+e.stack);\n",
    "    }\n",
    "}\n",
    "\n",
    "function b(){traceIt();}\n",
    "\n",
    "function a(){\n",
    "    b(3, 4, \"\\n\\n\", undefined, {});\n",
    "}\n",
    "\n",
    "a(\"first call, first argument\");"
   ]
  },
  {
   "cell_type": "markdown",
   "metadata": {},
   "source": [
    "## Encoding and Decoding URIs"
   ]
  },
  {
   "cell_type": "code",
   "execution_count": 162,
   "metadata": {},
   "outputs": [
    {
     "name": "stdout",
     "output_type": "stream",
     "text": [
      "Coded:   difficult%20%26%24%25%40%23%20to%20transmit\n",
      "Decoded: difficult &$%@# to transmit\n"
     ]
    }
   ],
   "source": [
    "var codedURL = encodeURIComponent('difficult &$%@# to transmit');\n",
    "console.log(\"Coded:   \"+codedURL);\n",
    "console.log(\"Decoded: \"+decodeURIComponent(codedURL));"
   ]
  },
  {
   "cell_type": "markdown",
   "metadata": {},
   "source": [
    "## Arrays\n",
    "![array.png](./img/array.png)\n",
    "\n",
    "The **array** is one of the most useful data structures in JavaScript. At its core, an array is just an *ordered collection* of elements, enclosed by square brackets (i.e., `[` and `]`).\n",
    "\n",
    "Arrays can have as many values in them as you like, and the values can be of any data type: integers, strings, objects, functions, even other arrays. Arrays themselves are considered objects, but this is in the generic sense that \"everything is an object\" in JavaScript - they do not have named keys to access their elements.\n",
    "\n",
    "Arrays are considered to be iterable, which means you can loop through them and perform an action on each array element, and you can access their values by index, beginning with 0. "
   ]
  },
  {
   "cell_type": "markdown",
   "metadata": {},
   "source": [
    "An array stores multiple values into a single, organized data structure. You can define a new array by listing values separated with commas between square brackets [].\n",
    "\n",
    "For example, imagine the following spread of donuts.\n",
    "\n",
    "![donuts1.png](./img/donuts1.png)\n",
    "\n",
    "You can represent the spread of donuts using an array."
   ]
  },
  {
   "cell_type": "code",
   "execution_count": 163,
   "metadata": {},
   "outputs": [],
   "source": [
    "// creates a `donuts` array with six strings\n",
    "var donuts = [\"glazed\", \"chocolate frosted\", \"Boston creme\", \"glazed cruller\", \"cinnamon sugar\", \"sprinkled\"];"
   ]
  },
  {
   "cell_type": "markdown",
   "metadata": {},
   "source": [
    "Or declare the array using the `Array()` constructor:\n",
    "```JavaScript\n",
    "var donuts = new Array(\"glazed\",\"chocolate frosted\",\"Boston creme\",\"glazed cruller\",\"cinnamon sugar\",\"sprinkled\");\n",
    "```\n",
    "It's recommended that you always use the first method above to declare arrays, since the second method can produce unexpected results. You might think, for example, that writing `let myArray = new Array(20)` would create an array with the number `20` in it, but in fact it will create an array with 20 `undefined` elements."
   ]
  },
  {
   "cell_type": "markdown",
   "metadata": {},
   "source": [
    "You can store strings, numbers, booleans… and really anything! Each stored piece called **element**."
   ]
  },
  {
   "cell_type": "code",
   "execution_count": 164,
   "metadata": {},
   "outputs": [],
   "source": [
    "// creates a `mixedData` array with mixed data types\n",
    "var mixedData = [\"abcd\", 1, true, undefined, null, \"all the things\"];"
   ]
  },
  {
   "cell_type": "markdown",
   "metadata": {},
   "source": [
    "You can even store an array in an array to create a **nested array**!"
   ]
  },
  {
   "cell_type": "code",
   "execution_count": 165,
   "metadata": {},
   "outputs": [],
   "source": [
    "// creates a `arraysInArrays` array with three arrays\n",
    "var arraysInArrays = [[1, 2, 3], [\"Julia\", \"James\"], [true, false, true, false]];"
   ]
  },
  {
   "cell_type": "markdown",
   "metadata": {},
   "source": [
    "Nested arrays can be particularly hard to read, so it's common to write them on one line, using a newline after each comma:"
   ]
  },
  {
   "cell_type": "code",
   "execution_count": 166,
   "metadata": {},
   "outputs": [],
   "source": [
    "var arraysInArrays = [\n",
    "  [1, 2, 3], \n",
    "  [\"Julia\", \"James\"], \n",
    "  [true, false, true, false]\n",
    "];"
   ]
  },
  {
   "cell_type": "markdown",
   "metadata": {},
   "source": [
    "### Indexing\n",
    "Remember that elements in an array are indexed starting at the position `0`. To access an element in an array, use the name of the array immediately followed by square brackets containing the index of the value you want to access."
   ]
  },
  {
   "cell_type": "code",
   "execution_count": 167,
   "metadata": {},
   "outputs": [
    {
     "name": "stdout",
     "output_type": "stream",
     "text": [
      "glazed\n"
     ]
    }
   ],
   "source": [
    "console.log(donuts[0]); // \"glazed\" is the first element in the `donuts` array"
   ]
  },
  {
   "cell_type": "markdown",
   "metadata": {},
   "source": [
    "One thing to be aware of is if you try to access an element at an index that does not exist, a value of `undefined` will be returned back. \n",
    "\n",
    "Avoid accessing elements outside the bounds of an array."
   ]
  },
  {
   "cell_type": "code",
   "execution_count": 168,
   "metadata": {},
   "outputs": [
    {
     "name": "stdout",
     "output_type": "stream",
     "text": [
      "undefined\n"
     ]
    }
   ],
   "source": [
    "console.log(donuts[6]); // the sixth element in `donuts` array does not exist!"
   ]
  },
  {
   "cell_type": "markdown",
   "metadata": {},
   "source": [
    "Finally, if you want to change the value of an element in array, you can do so by setting it equal to a new value."
   ]
  },
  {
   "cell_type": "code",
   "execution_count": 169,
   "metadata": {},
   "outputs": [
    {
     "name": "stdout",
     "output_type": "stream",
     "text": [
      "[ 'glazed',\n",
      "  'glazed cruller',\n",
      "  'Boston creme',\n",
      "  'glazed cruller',\n",
      "  'cinnamon sugar',\n",
      "  'sprinkled' ]\n"
     ]
    }
   ],
   "source": [
    "donuts[1] = \"glazed cruller\"; // changes the second element in the `donuts` array to \"glazed cruller\"\n",
    "console.log(donuts); "
   ]
  },
  {
   "cell_type": "markdown",
   "metadata": {},
   "source": [
    "you can store variables in an array:"
   ]
  },
  {
   "cell_type": "code",
   "execution_count": 170,
   "metadata": {},
   "outputs": [
    {
     "name": "stdout",
     "output_type": "stream",
     "text": [
      "[ 'Mal', 'Zoe', 'Wash', 'Inara', 'Jayne', 'Kaylee' ]\n"
     ]
    }
   ],
   "source": [
    "var captain = \"Mal\";\n",
    "var second = \"Zoe\";\n",
    "var pilot = \"Wash\";\n",
    "var companion = \"Inara\";\n",
    "var mercenary = \"Jayne\";\n",
    "var mechanic = \"Kaylee\";\n",
    "\n",
    "var crew = [captain,second,pilot,companion,mercenary,mechanic];\n",
    "console.log(crew);"
   ]
  },
  {
   "cell_type": "markdown",
   "metadata": {},
   "source": [
    "## Array Properties and Methods\n",
    "JavaScript provides a large number of built-in **methods** for modifying arrays and accessing values in an array, check out the [MDN Documentation](https://developer.mozilla.org/en-US/docs/Web/JavaScript/Reference/Global_Objects/Array), or type []. into the JavaScript console for a list of all the available Array methods."
   ]
  },
  {
   "cell_type": "code",
   "execution_count": 171,
   "metadata": {},
   "outputs": [
    {
     "data": {
      "text/plain": [
       "[ 'Mal', 'Zoe', 'Wash', 'Inara', 'Jayne', 'Kaylee' ]"
      ]
     },
     "execution_count": 171,
     "metadata": {},
     "output_type": "execute_result"
    }
   ],
   "source": [
    "crew;"
   ]
  },
  {
   "cell_type": "markdown",
   "metadata": {},
   "source": [
    "### `slice()`\n",
    "You can also slice an array to obtain a subset of it by using the `slice()` method. The following slices the array and returns only indices `2` up to but not including `4`. This does not modify the original array:"
   ]
  },
  {
   "cell_type": "code",
   "execution_count": 172,
   "metadata": {},
   "outputs": [
    {
     "data": {
      "text/plain": [
       "[ 'Wash', 'Inara' ]"
      ]
     },
     "execution_count": 172,
     "metadata": {},
     "output_type": "execute_result"
    }
   ],
   "source": [
    "crew.slice(2,4);"
   ]
  },
  {
   "cell_type": "markdown",
   "metadata": {},
   "source": [
    "### `indexOf()`"
   ]
  },
  {
   "cell_type": "code",
   "execution_count": 173,
   "metadata": {},
   "outputs": [
    {
     "data": {
      "text/plain": [
       "3"
      ]
     },
     "execution_count": 173,
     "metadata": {},
     "output_type": "execute_result"
    }
   ],
   "source": [
    "crew.indexOf(\"Inara\");"
   ]
  },
  {
   "cell_type": "markdown",
   "metadata": {},
   "source": [
    "### `includes()`\n",
    "f you need to know whether a specific element exists in an array, you can test it using the `includes()` method, which will return `true` if the element exists in the array, and `false` otherwise:"
   ]
  },
  {
   "cell_type": "code",
   "execution_count": 174,
   "metadata": {},
   "outputs": [
    {
     "data": {
      "text/plain": [
       "true"
      ]
     },
     "execution_count": 174,
     "metadata": {},
     "output_type": "execute_result"
    }
   ],
   "source": [
    "crew.includes(\"Inara\");"
   ]
  },
  {
   "cell_type": "markdown",
   "metadata": {},
   "source": [
    "### `reverse()`"
   ]
  },
  {
   "cell_type": "code",
   "execution_count": 175,
   "metadata": {},
   "outputs": [
    {
     "data": {
      "text/plain": [
       "[ 'Kaylee', 'Jayne', 'Inara', 'Wash', 'Zoe', 'Mal' ]"
      ]
     },
     "execution_count": 175,
     "metadata": {},
     "output_type": "execute_result"
    }
   ],
   "source": [
    "crew.reverse();\n",
    "crew;"
   ]
  },
  {
   "cell_type": "markdown",
   "metadata": {},
   "source": [
    "#### `sort()`"
   ]
  },
  {
   "cell_type": "code",
   "execution_count": 176,
   "metadata": {},
   "outputs": [
    {
     "name": "stdout",
     "output_type": "stream",
     "text": [
      "[ 'Inara', 'Jayne', 'Kaylee', 'Mal', 'Wash', 'Zoe' ]\n"
     ]
    }
   ],
   "source": [
    "crew.sort();\n",
    "console.log(crew);"
   ]
  },
  {
   "cell_type": "markdown",
   "metadata": {},
   "source": [
    "### length\n",
    "You can find the length of an array by using its `length` **property**. To access the `length` property, type the name of the array, followed by a period `.` (you’ll also use the period to access other properties and methods), and the word `length`. The `length` property will then return the number of elements in the array."
   ]
  },
  {
   "cell_type": "code",
   "execution_count": 177,
   "metadata": {},
   "outputs": [
    {
     "name": "stdout",
     "output_type": "stream",
     "text": [
      "6\n"
     ]
    }
   ],
   "source": [
    "console.log(donuts.length);"
   ]
  },
  {
   "cell_type": "markdown",
   "metadata": {},
   "source": [
    "TIP: *Strings have a length property too! You can use it to get the length of any string. For example,\n",
    "```JavaScript\n",
    "\"supercalifragilisticexpialidocious\".length\n",
    "returns 34\n",
    "```"
   ]
  },
  {
   "cell_type": "markdown",
   "metadata": {},
   "source": [
    "### `push()`\n",
    "You can use the `push()` method to add elements to the end of an array."
   ]
  },
  {
   "cell_type": "code",
   "execution_count": 178,
   "metadata": {},
   "outputs": [
    {
     "data": {
      "text/plain": [
       "5"
      ]
     },
     "execution_count": 178,
     "metadata": {},
     "output_type": "execute_result"
    }
   ],
   "source": [
    "var donuts = [\"glazed\", \"chocolate frosted\", \"Boston creme\", \"glazed cruller\"];\n",
    "donuts.push(\"powdered\"); // pushes \"powdered\" onto the end of the `donuts` array"
   ]
  },
  {
   "cell_type": "code",
   "execution_count": 179,
   "metadata": {},
   "outputs": [
    {
     "data": {
      "text/plain": [
       "[ 'glazed',\n",
       "  'chocolate frosted',\n",
       "  'Boston creme',\n",
       "  'glazed cruller',\n",
       "  'powdered' ]"
      ]
     },
     "execution_count": 179,
     "metadata": {},
     "output_type": "execute_result"
    }
   ],
   "source": [
    "donuts;"
   ]
  },
  {
   "cell_type": "markdown",
   "metadata": {},
   "source": [
    "Notice, with the `push()` method you need to pass the value of the element you want to add to the end of the array. Also, the `push()` method returns the length of the array after an element has been added.\n",
    "\n",
    "You can add more elements at once:"
   ]
  },
  {
   "cell_type": "code",
   "execution_count": 180,
   "metadata": {},
   "outputs": [
    {
     "data": {
      "text/plain": [
       "9"
      ]
     },
     "execution_count": 180,
     "metadata": {},
     "output_type": "execute_result"
    }
   ],
   "source": [
    "var doctor = \"Simon\";\n",
    "var sister = \"River\";\n",
    "var shepherd = \"Book\";\n",
    "\n",
    "crew.push(doctor,sister,shepherd);"
   ]
  },
  {
   "cell_type": "markdown",
   "metadata": {},
   "source": [
    "### `pop()`\n",
    "Alternatively, you can use the `pop()` method to remove elements from the end of an array.\n",
    "With the `pop()` method you don’t need to pass a value; instead, `pop()` will always remove the last element from the end of the array. Also, `pop()` returns the element that has been removed in case you need to use it."
   ]
  },
  {
   "cell_type": "code",
   "execution_count": 181,
   "metadata": {},
   "outputs": [
    {
     "data": {
      "text/plain": [
       "'glazed cruller'"
      ]
     },
     "execution_count": 181,
     "metadata": {},
     "output_type": "execute_result"
    }
   ],
   "source": [
    "var donuts = [\"glazed\", \"chocolate frosted\", \"Boston creme\", \"glazed cruller\"];\n",
    "// the pop() method removes and returns \"glazed cruller\" because that was the LAST element of `donuts` array\n",
    "donuts.pop();"
   ]
  },
  {
   "cell_type": "markdown",
   "metadata": {},
   "source": [
    "### `shift()` and `unshift()`\n",
    "While the `pop()` method pops an item **off the end** of the array, you can pop an item **off the front** of the array using the `shift()` method. It returns the item you \"shifted\". Likewise, you can add one or more items to the beginning of the array using the `unshift()` method:"
   ]
  },
  {
   "cell_type": "code",
   "execution_count": 182,
   "metadata": {},
   "outputs": [
    {
     "data": {
      "text/plain": [
       "'glazed'"
      ]
     },
     "execution_count": 182,
     "metadata": {},
     "output_type": "execute_result"
    }
   ],
   "source": [
    "var donuts = [\"glazed\", \"chocolate frosted\", \"Boston creme\", \"glazed cruller\"];\n",
    "// the shift() method removes and returns \"glazed\" because that was the FIRST element of `donuts` array\n",
    "donuts.shift();"
   ]
  },
  {
   "cell_type": "code",
   "execution_count": 183,
   "metadata": {},
   "outputs": [
    {
     "data": {
      "text/plain": [
       "[ 'chocolate frosted', 'Boston creme', 'glazed cruller' ]"
      ]
     },
     "execution_count": 183,
     "metadata": {},
     "output_type": "execute_result"
    }
   ],
   "source": [
    "donuts;"
   ]
  },
  {
   "cell_type": "code",
   "execution_count": 184,
   "metadata": {},
   "outputs": [
    {
     "data": {
      "text/plain": [
       "4"
      ]
     },
     "execution_count": 184,
     "metadata": {},
     "output_type": "execute_result"
    }
   ],
   "source": [
    "// pushes \"powdered\" onto the beginning of the `donuts` array\n",
    "donuts.unshift(\"powdered\");"
   ]
  },
  {
   "cell_type": "code",
   "execution_count": 185,
   "metadata": {},
   "outputs": [
    {
     "data": {
      "text/plain": [
       "[ 'powdered',\n",
       "  'chocolate frosted',\n",
       "  'Boston creme',\n",
       "  'glazed cruller' ]"
      ]
     },
     "execution_count": 185,
     "metadata": {},
     "output_type": "execute_result"
    }
   ],
   "source": [
    "donuts;"
   ]
  },
  {
   "cell_type": "markdown",
   "metadata": {},
   "source": [
    "### `delete()`\n",
    "You might think that you can delete an item by passing its index to the `delete` keyword:"
   ]
  },
  {
   "cell_type": "code",
   "execution_count": 186,
   "metadata": {},
   "outputs": [
    {
     "data": {
      "text/plain": [
       "'undefined'"
      ]
     },
     "execution_count": 186,
     "metadata": {},
     "output_type": "execute_result"
    }
   ],
   "source": [
    "var donuts = [\"glazed\", \"chocolate frosted\", \"Boston creme\", \"glazed cruller\"];\n",
    "delete donuts[2];\n",
    "typeof donuts[2];"
   ]
  },
  {
   "cell_type": "markdown",
   "metadata": {},
   "source": [
    "But it doesn't actually delete the item, it replaces it with `undefined`. The correct way to truly delete a specific item in an array is to use the `splice()` method."
   ]
  },
  {
   "cell_type": "markdown",
   "metadata": {},
   "source": [
    "### `splice()`\n",
    "`splice()` is another handy method that allows you to **add** and **remove** elements from *anywhere* within an array.\n",
    "\n",
    "While `push()` and `pop()` limit you to adding and removing elements from the *end* of an array, `splice()` lets you specify the index location to add new elements, as well as the number of elements you'd like to delete (if any).\n",
    "\n",
    "`splice()` is an incredibly powerful method that allows you to manipulate your arrays in a variety of ways. Any combination of adding or removing elements from an array can all be done in one simple line of code."
   ]
  },
  {
   "cell_type": "code",
   "execution_count": 187,
   "metadata": {},
   "outputs": [
    {
     "data": {
      "text/plain": [
       "[ 'chocolate frosted' ]"
      ]
     },
     "execution_count": 187,
     "metadata": {},
     "output_type": "execute_result"
    }
   ],
   "source": [
    "var donuts = [\"glazed\", \"chocolate frosted\", \"Boston creme\", \"glazed cruller\"];\n",
    "// removes \"chocolate frosted\" at index 1 and adds \"chocolate cruller\" and \"creme de leche\" starting at index 1\n",
    "donuts.splice(1, 1, \"chocolate cruller\", \"creme de leche\");"
   ]
  },
  {
   "cell_type": "code",
   "execution_count": 188,
   "metadata": {},
   "outputs": [
    {
     "data": {
      "text/plain": [
       "[ 'glazed',\n",
       "  'chocolate cruller',\n",
       "  'creme de leche',\n",
       "  'Boston creme',\n",
       "  'glazed cruller' ]"
      ]
     },
     "execution_count": 188,
     "metadata": {},
     "output_type": "execute_result"
    }
   ],
   "source": [
    "donuts"
   ]
  },
  {
   "cell_type": "markdown",
   "metadata": {},
   "source": [
    "**Syntax of `splice()` method:**\n",
    "\n",
    "```JavaScript\n",
    "arrayName.splice(arg1, arg2, item1, ....., itemX);\n",
    "```\n",
    "where,\n",
    "- `arg1` = Mandatory argument. Specifies the starting index position to add/remove items. You can use a negative value to specify the position from the end of the array e.g., `-1` specifies the last element.\n",
    "- `arg2` = Optional argument. Specifies the count of elements to be removed. If set to `0`, no items will be removed.\n",
    "- `item1, ....., itemX` are the items to be added at index position `arg1`\n",
    "- `splice()` method returns the item(s) that were removed"
   ]
  },
  {
   "cell_type": "code",
   "execution_count": 189,
   "metadata": {},
   "outputs": [
    {
     "data": {
      "text/plain": [
       "[]"
      ]
     },
     "execution_count": 189,
     "metadata": {},
     "output_type": "execute_result"
    }
   ],
   "source": [
    "var donuts = [\"cookies\", \"cinnamon sugar\", \"creme de leche\"];\n",
    "donuts.splice(-2, 0, \"chocolate frosted\", \"glazed\");"
   ]
  },
  {
   "cell_type": "code",
   "execution_count": 190,
   "metadata": {},
   "outputs": [
    {
     "data": {
      "text/plain": [
       "[ 'cookies',\n",
       "  'chocolate frosted',\n",
       "  'glazed',\n",
       "  'cinnamon sugar',\n",
       "  'creme de leche' ]"
      ]
     },
     "execution_count": 190,
     "metadata": {},
     "output_type": "execute_result"
    }
   ],
   "source": [
    "donuts;"
   ]
  },
  {
   "cell_type": "code",
   "execution_count": 191,
   "metadata": {},
   "outputs": [
    {
     "data": {
      "text/plain": [
       "[ 'Red', 'Orange', 'Yellow', 'Green', 'Blue', 'Purple' ]"
      ]
     },
     "execution_count": 191,
     "metadata": {},
     "output_type": "execute_result"
    }
   ],
   "source": [
    " /* Use only the splice() method to modify the rainbow variable:\n",
    " *  - remove \"Blackberry\"\n",
    " *  - add \"Yellow\" and \"Green\"\n",
    " *  - add \"Purple\" (to the end)\n",
    " */\n",
    "var rainbow = ['Red', 'Orange', 'Blackberry', 'Blue'];\n",
    "rainbow.splice(-2,1,\"Yellow\", \"Green\");\n",
    "rainbow.splice(rainbow.length,0,\"Purple\")\n",
    "rainbow"
   ]
  },
  {
   "cell_type": "markdown",
   "metadata": {},
   "source": [
    "### `concat()`\n",
    "You can merge two arrays together using the `concat()` method (short for concatenate which means \"to link things together in a chain or a series\"). Just pass one or more arrays into it to merge them all together:"
   ]
  },
  {
   "cell_type": "code",
   "execution_count": 192,
   "metadata": {},
   "outputs": [
    {
     "data": {
      "text/plain": [
       "[ 'apples',\n",
       "  'pears',\n",
       "  'cherries',\n",
       "  'bananas',\n",
       "  'peaches',\n",
       "  'oranges',\n",
       "  'carrots',\n",
       "  'peas',\n",
       "  'beans',\n",
       "  'lettuce' ]"
      ]
     },
     "execution_count": 192,
     "metadata": {},
     "output_type": "execute_result"
    }
   ],
   "source": [
    "var fruits = ['apples', 'pears', 'cherries', 'bananas', 'peaches', 'oranges'];\n",
    "var vegetables = ['carrots', 'peas', 'beans', 'lettuce'];\n",
    "fruits.concat(vegetables);"
   ]
  },
  {
   "cell_type": "markdown",
   "metadata": {},
   "source": [
    "### Iterating Arrays\n",
    "Once the data is in the array, you want to be able to efficiently access and manipulate each element in the array without writing repetitive code for each element.\n",
    "\n",
    "For instance, if this was our original donuts array:"
   ]
  },
  {
   "cell_type": "code",
   "execution_count": 193,
   "metadata": {},
   "outputs": [],
   "source": [
    "var donuts = [\"jelly donut\", \"chocolate donut\", \"glazed donut\"];"
   ]
  },
  {
   "cell_type": "markdown",
   "metadata": {},
   "source": [
    "and we decided to make all the same donut types, but only sell them as donut holes instead, we could write the following code:"
   ]
  },
  {
   "cell_type": "code",
   "execution_count": 194,
   "metadata": {},
   "outputs": [
    {
     "data": {
      "text/plain": [
       "[ 'jelly donut hole',\n",
       "  'chocolate donut hole',\n",
       "  'glazed donut hole' ]"
      ]
     },
     "execution_count": 194,
     "metadata": {},
     "output_type": "execute_result"
    }
   ],
   "source": [
    "donuts[0] += \" hole\";\n",
    "donuts[1] += \" hole\";\n",
    "donuts[2] += \" hole\";\n",
    "donuts"
   ]
  },
  {
   "cell_type": "markdown",
   "metadata": {},
   "source": [
    "But remember, you have another powerful tool at your disposal, loops!\n",
    "\n",
    "To loop through an array, you can use a variable to represent the index in the array, and then loop over that index to perform whatever manipulations your heart desires."
   ]
  },
  {
   "cell_type": "code",
   "execution_count": 195,
   "metadata": {},
   "outputs": [
    {
     "data": {
      "text/plain": [
       "[ 'JELLY DONUT HOLE',\n",
       "  'CHOCOLATE DONUT HOLE',\n",
       "  'GLAZED DONUT HOLE' ]"
      ]
     },
     "execution_count": 195,
     "metadata": {},
     "output_type": "execute_result"
    }
   ],
   "source": [
    "var donuts = [\"jelly donut\", \"chocolate donut\", \"glazed donut\"];\n",
    "\n",
    "// the variable `i` is used to step through each element in the array\n",
    "for (let i = 0; i < donuts.length; i++) {\n",
    "    donuts[i] += \" hole\";\n",
    "    donuts[i] = donuts[i].toUpperCase();\n",
    "}\n",
    "donuts"
   ]
  },
  {
   "cell_type": "markdown",
   "metadata": {},
   "source": [
    "In this example, the variable `i` is being used to represent the index of the array. As `i` is incremented, you are stepping over each element in the array starting from `0` until `donuts.length - 1`."
   ]
  },
  {
   "cell_type": "markdown",
   "metadata": {},
   "source": [
    "### The `for...of` loop\n",
    "Using a `for...of` loop you can access the values directly, which is significantly less verbose than the \"standard\" loop as you can see here. In this kind of `for` loop, `i` is the actual value of that array element, which makes it very easy to use:"
   ]
  },
  {
   "cell_type": "code",
   "execution_count": 196,
   "metadata": {},
   "outputs": [
    {
     "name": "stdout",
     "output_type": "stream",
     "text": [
      "JELLY DONUT HOLE\n",
      "CHOCOLATE DONUT HOLE\n",
      "GLAZED DONUT HOLE\n"
     ]
    }
   ],
   "source": [
    "for (let element of donuts) {\n",
    "    console.log(element);\n",
    "}"
   ]
  },
  {
   "cell_type": "markdown",
   "metadata": {},
   "source": [
    "### The `for...in` loop\n",
    "The `for...in` loop iterates over the enumerable properties of the array rather than its values. In a normal array this means that a `for...in` loop iterates over the array's indices (like the standard `for` loop) rather than its values (like the `for...of` loop):"
   ]
  },
  {
   "cell_type": "code",
   "execution_count": 197,
   "metadata": {},
   "outputs": [
    {
     "name": "stdout",
     "output_type": "stream",
     "text": [
      "JELLY DONUT HOLE\n",
      "CHOCOLATE DONUT HOLE\n",
      "GLAZED DONUT HOLE\n"
     ]
    }
   ],
   "source": [
    "for (let index in donuts) {\n",
    "    console.log(donuts[index]);\n",
    "}"
   ]
  },
  {
   "cell_type": "markdown",
   "metadata": {},
   "source": [
    "### The [`forEach()`](https://developer.mozilla.org/en-US/docs/Web/JavaScript/Reference/Global_Objects/Array/forEach) loop\n",
    "Arrays have a set of special methods to help you iterate over and perform operations on collections of data. You can view the MDN Documentation list of Array methods [here](https://developer.mozilla.org/en-US/docs/Web/JavaScript/Reference/Global_Objects/Array), but a couple big ones to know are the `forEach()` and `map()` methods.\n",
    "\n",
    "The `forEach()` method gives you an alternative way to iterate over an array, and manipulate each element in the array with an inline function expression."
   ]
  },
  {
   "cell_type": "code",
   "execution_count": 198,
   "metadata": {},
   "outputs": [
    {
     "name": "stdout",
     "output_type": "stream",
     "text": [
      "JELLY DONUT HOLE\n",
      "CHOCOLATE DONUT HOLE\n",
      "GLAZED DONUT HOLE\n"
     ]
    }
   ],
   "source": [
    "var donuts = [\"jelly donut\", \"chocolate donut\", \"glazed donut\"];\n",
    "\n",
    "donuts.forEach(function(donut) {\n",
    "  donut += \" hole\";\n",
    "  donut = donut.toUpperCase();\n",
    "  console.log(donut);\n",
    "});"
   ]
  },
  {
   "cell_type": "code",
   "execution_count": 199,
   "metadata": {},
   "outputs": [
    {
     "data": {
      "text/plain": [
       "[ 'jelly donut', 'chocolate donut', 'glazed donut' ]"
      ]
     },
     "execution_count": 199,
     "metadata": {},
     "output_type": "execute_result"
    }
   ],
   "source": [
    "donuts"
   ]
  },
  {
   "cell_type": "markdown",
   "metadata": {},
   "source": [
    "Notice that the `forEach()` method iterates over the array without the need of an explicitly defined index. In the example above, `donut` corresponds to the element in the array itself. This is different from a `for` or `while` loop where an index is used to access each element in the array:"
   ]
  },
  {
   "cell_type": "code",
   "execution_count": 200,
   "metadata": {},
   "outputs": [
    {
     "name": "stdout",
     "output_type": "stream",
     "text": [
      "JELLY DONUT HOLE\n",
      "CHOCOLATE DONUT HOLE\n",
      "GLAZED DONUT HOLE\n"
     ]
    }
   ],
   "source": [
    "for (var i = 0; i < donuts.length; i++) {\n",
    "  donuts[i] += \" hole\";\n",
    "  donuts[i] = donuts[i].toUpperCase();\n",
    "  console.log(donuts[i]);\n",
    "}"
   ]
  },
  {
   "cell_type": "markdown",
   "metadata": {},
   "source": [
    "The function that you pass to the `forEach()` method can take up to three parameters. We could call them as `element` `index` and `array`, but you can call them whatever you like.\n",
    "\n",
    "The `forEach()` method will call this function once for each element in the array (hence the name `forEach`). Each time, it will call the function with different arguments. The `element` parameter will get the value of the array element. The `index` parameter will get the index of the element (starting with zero). The `array` parameter will get a reference to the whole array, which is handy if you want to modify the elements."
   ]
  },
  {
   "cell_type": "code",
   "execution_count": 201,
   "metadata": {},
   "outputs": [
    {
     "name": "stdout",
     "output_type": "stream",
     "text": [
      "Word 0 in cat,in,hat is cat\n",
      "Word 1 in cat,in,hat is in\n",
      "Word 2 in cat,in,hat is hat\n"
     ]
    }
   ],
   "source": [
    "words = [\"cat\", \"in\", \"hat\"];\n",
    "words.forEach(function(word, num, all) {\n",
    "  console.log(\"Word \" + num + \" in \" + all.toString() + \" is \" + word);\n",
    "});"
   ]
  },
  {
   "cell_type": "code",
   "execution_count": 202,
   "metadata": {},
   "outputs": [
    {
     "data": {
      "text/plain": [
       "[ 112,\n",
       "  929,\n",
       "  11,\n",
       "  103,\n",
       "  199,\n",
       "  1000,\n",
       "  7,\n",
       "  1,\n",
       "  124,\n",
       "  37,\n",
       "  4,\n",
       "  19,\n",
       "  400,\n",
       "  3775,\n",
       "  299,\n",
       "  136,\n",
       "  209,\n",
       "  148,\n",
       "  169,\n",
       "  299,\n",
       "  106,\n",
       "  109,\n",
       "  20,\n",
       "  58,\n",
       "  139,\n",
       "  59,\n",
       "  103,\n",
       "  1,\n",
       "  139 ]"
      ]
     },
     "execution_count": 202,
     "metadata": {},
     "output_type": "execute_result"
    }
   ],
   "source": [
    "var test = [12, 929, 11, 3, 199, 1000, 7, 1, 24, 37, 4,\n",
    "            19, 300, 3775, 299, 36, 209, 148, 169, 299,\n",
    "             6, 109, 20, 58, 139, 59, 3, 1, 139];\n",
    "\n",
    "test.forEach(function(element,index,array){\n",
    "    if (element%3===0){\n",
    "        array[index] += 100;\n",
    "    }\n",
    "});\n",
    "test"
   ]
  },
  {
   "cell_type": "markdown",
   "metadata": {},
   "source": [
    "### The [`map()`](https://developer.mozilla.org/en-US/docs/Web/JavaScript/Reference/Global_Objects/Array/map) loop\n",
    "\n",
    "Using `forEach()` will not be useful if you want to permanently modify the original array. `forEach()` always returns `undefined`. However, creating a new array from an existing array is simple with the powerful `map()` method.\n",
    "\n",
    "With the `map()` method, you can take an array, perform some operation on each element of the array, and return a new array."
   ]
  },
  {
   "cell_type": "code",
   "execution_count": 203,
   "metadata": {},
   "outputs": [
    {
     "data": {
      "text/plain": [
       "[ 'JELLY DONUT HOLE',\n",
       "  'CHOCOLATE DONUT HOLE',\n",
       "  'GLAZED DONUT HOLE' ]"
      ]
     },
     "execution_count": 203,
     "metadata": {},
     "output_type": "execute_result"
    }
   ],
   "source": [
    "donuts;"
   ]
  },
  {
   "cell_type": "code",
   "execution_count": 204,
   "metadata": {},
   "outputs": [
    {
     "data": {
      "text/plain": [
       "[ 'JELLY DONUT HOLE-GLAZED DONUT HOLE donut',\n",
       "  'CHOCOLATE DONUT HOLE-JELLY DONUT HOLE donut',\n",
       "  'GLAZED DONUT HOLE-CHOCOLATE DONUT HOLE donut' ]"
      ]
     },
     "execution_count": 204,
     "metadata": {},
     "output_type": "execute_result"
    }
   ],
   "source": [
    "var improvedDonuts = donuts.map(function(donut,index,array) {\n",
    "  donut += \"-\"+array[(array.length+index-1)%array.length]+\" donut\";\n",
    "  return donut;\n",
    "});\n",
    "improvedDonuts;"
   ]
  },
  {
   "cell_type": "markdown",
   "metadata": {},
   "source": [
    "The `map()` method accepts one argument, a function that will be used to manipulate each element in the array. In the above example, we used a function expression to pass that function into `map()`. This function is taking in one argument, `donut` which corresponds to each element in the `donuts` array. You no longer need to iterate over the indices anymore, `map()` does all that work for you."
   ]
  },
  {
   "cell_type": "markdown",
   "metadata": {},
   "source": [
    "### [`filter()`](https://developer.mozilla.org/en-US/docs/Web/JavaScript/Reference/Global_Objects/Array/filter)\n",
    "Filters the array down to only elements that meet specific criteria. An example might be filtering a list of names down to only names that begin with a certain letter."
   ]
  },
  {
   "cell_type": "markdown",
   "metadata": {},
   "source": [
    "### [`reduce()`](https://developer.mozilla.org/en-US/docs/Web/JavaScript/Reference/Global_Objects/Array/reduce)\n",
    "Reduces all the array elements down to a single result based on a given formula. An example might be reducing an array of numbers down to their sum, by addng them all together."
   ]
  },
  {
   "cell_type": "markdown",
   "metadata": {},
   "source": [
    "### 2D Donut Arrays\n",
    "Oftentimes, donuts are arranged in a grid like this:\n",
    "\n",
    "![donuts2.png](./img/donuts2.png)\n",
    "\n",
    "You could use an array of arrays that has the name of each donut associated with its position in the box.\n",
    "Here's an example:"
   ]
  },
  {
   "cell_type": "code",
   "execution_count": 205,
   "metadata": {},
   "outputs": [],
   "source": [
    "var donutBox = [\n",
    "  [\"glazed\", \"chocolate glazed\", \"cinnamon\"],\n",
    "  [\"powdered\", \"sprinkled\", \"glazed cruller\"],\n",
    "  [\"chocolate cruller\", \"Boston creme\", \"creme de leche\"]\n",
    "];"
   ]
  },
  {
   "cell_type": "markdown",
   "metadata": {},
   "source": [
    "If you wanted to loop over the donut box and display each donut (along with its position in the box!) you would start with writing a `for` loop to loop over each row of the box of donuts:"
   ]
  },
  {
   "cell_type": "code",
   "execution_count": 206,
   "metadata": {},
   "outputs": [
    {
     "name": "stdout",
     "output_type": "stream",
     "text": [
      "[ 'glazed', 'chocolate glazed', 'cinnamon' ]\n",
      "[ 'powdered', 'sprinkled', 'glazed cruller' ]\n",
      "[ 'chocolate cruller', 'Boston creme', 'creme de leche' ]\n"
     ]
    }
   ],
   "source": [
    "// here, donutBox.length refers to the number of rows of donuts\n",
    "for (var row = 0; row < donutBox.length; row++) {\n",
    "  console.log(donutBox[row]);\n",
    "}"
   ]
  },
  {
   "cell_type": "markdown",
   "metadata": {},
   "source": [
    "Since each row is an array of donuts, you next need to set up an inner-loop to loop over each cell in the arrays."
   ]
  },
  {
   "cell_type": "code",
   "execution_count": 207,
   "metadata": {},
   "outputs": [
    {
     "name": "stdout",
     "output_type": "stream",
     "text": [
      "glazed\n",
      "chocolate glazed\n",
      "cinnamon\n",
      "powdered\n",
      "sprinkled\n",
      "glazed cruller\n",
      "chocolate cruller\n",
      "Boston creme\n",
      "creme de leche\n"
     ]
    }
   ],
   "source": [
    "for (var row = 0; row < donutBox.length; row++) {\n",
    "  // here, donutBox[row].length refers to the length of the donut array currently being looped over\n",
    "  for (var column = 0; column < donutBox[row].length; column++) {\n",
    "    console.log(donutBox[row][column]);\n",
    "  }\n",
    "}"
   ]
  },
  {
   "cell_type": "markdown",
   "metadata": {},
   "source": [
    "### Unrolling `...`\n",
    "The `...` unpacks an Array into a list."
   ]
  },
  {
   "cell_type": "code",
   "execution_count": 208,
   "metadata": {},
   "outputs": [
    {
     "name": "stdout",
     "output_type": "stream",
     "text": [
      "1 2 3\n"
     ]
    }
   ],
   "source": [
    "var numbers = [1,2,3];\n",
    "console.log(...numbers);"
   ]
  },
  {
   "cell_type": "markdown",
   "metadata": {},
   "source": [
    "Find the minimum and maximum values in an array using `Math.min()` and `Math.max()` methods"
   ]
  },
  {
   "cell_type": "code",
   "execution_count": 209,
   "metadata": {},
   "outputs": [
    {
     "data": {
      "text/plain": [
       "3"
      ]
     },
     "execution_count": 209,
     "metadata": {},
     "output_type": "execute_result"
    }
   ],
   "source": [
    "Math.max(...numbers);"
   ]
  },
  {
   "cell_type": "code",
   "execution_count": 210,
   "metadata": {},
   "outputs": [
    {
     "data": {
      "text/plain": [
       "1"
      ]
     },
     "execution_count": 210,
     "metadata": {},
     "output_type": "execute_result"
    }
   ],
   "source": [
    "Math.min(...numbers);"
   ]
  },
  {
   "cell_type": "markdown",
   "metadata": {},
   "source": [
    "## Sets\n",
    "Another useful data structure you will come across in many programming languages is the `Set`. Sets are similar to lists, arrays, dictionaries and objects in that they are organizational structures used for housing data, but they are unique in a few ways:\n",
    "\n",
    "1. Sets are mutable, but their members cannot be changed. Once an item is added to a set, it must be removed and replaced in order to be changed. Because sets require their members to be immutable, you cannot nest iterable data structures like lists, dictionaries and other sets inside of a set.\n",
    "2. Sets are unordered. There is no way to reference an item by index or name in a set.\n",
    "3. Sets cannot contain duplicate values. For this reason they can be useful in eliminating duplicates from other data structures.\n",
    "\n",
    "![sets.png](./img/sets.png)\n",
    "\n",
    "define a set using the `Set` object, which takes an iterable as its argument:"
   ]
  },
  {
   "cell_type": "code",
   "execution_count": 211,
   "metadata": {},
   "outputs": [],
   "source": [
    "let mySet = new Set([1, 2, 3, 4, 5]);"
   ]
  },
  {
   "cell_type": "markdown",
   "metadata": {},
   "source": [
    "Like the other data structures, sets can house multiple types of data at the same time. However, since set elements must be immutable, they cannot contain other iterables like lists, dictionaries or other sets.\n",
    "```JavaScript\n",
    "let myMixedSet = new Set(1, 'Apple', true); // ok\n",
    "let myMixedSet = new Set(1, 'Apple', [1, 2, 3]); // not ok, set contains a list\n",
    "```"
   ]
  },
  {
   "cell_type": "markdown",
   "metadata": {},
   "source": [
    "Sets are iterable, meaning you can loop through them. In JavaScript, however, iteration of a set is a bit more complex because sets have no indexes to reference.\n",
    "\n",
    "Sets have a variety of methods you can use to modify them. Some common ones you may need are listed in the following table. Note: this list is not intended to be all-inclusive as different languages have different method availability.\n",
    "\n",
    "|Method/Function|\tPurpose|\n",
    "|:-|:-|\n",
    "|add()|\tAdd an element to the set\n",
    "|delete()|\tRemove a specific element from the set\n",
    "|clear()|\tClear all elements from the set\n",
    "|pop()|\tPop a random element out of the set\n",
    "|has()| Is the value present in the Set object?\n",
    "|update()|\tAdd the items of another set to this set\n",
    "|length|\tGet the number of items in the set"
   ]
  },
  {
   "cell_type": "markdown",
   "metadata": {},
   "source": [
    "## Objects\n",
    "Objects are **unordered collections**. They contain **key/value pairs**, vhere **key** is a string, **value** can be either a primitive (e.g., strings, numbers, booleans, etc.) or another object (or a function). Each distinct key/value pair is known as **property** of that object.\n",
    "\n",
    "![dictionary.png](./img/dictionary.png)\n",
    "\n",
    "The keys, the names of the object's properties, are strings, but quotation marks surrounding these strings are optional as long as the string is also a valid Javascript identifier. You'll commonly find quotation marks omitted from property names. Certain situations require them to be included, especially if the property name:\n",
    "- is a reserved word (e.g., `for`, `if`, `let`, `true`, etc.).\n",
    "- Contains spaces or special characters that cannot appear in a variable name (i.e., punctuation other than `$`, and `_` -- most accented characters)."
   ]
  },
  {
   "cell_type": "markdown",
   "metadata": {},
   "source": [
    "### Object-literal notation\n",
    "To properly create an object (dictionary), properties (keys) must be *immutable*, meaning that they should not be able to change. You can think of this concept as if it were a real dictionary, where each word has an associated definition. In a real dictionary, if the words were constantly changing or if there were duplicate words for the same definition or other such oddities, it would make the dictionary unreliable and effectively useless. Similarly in software development, using things like lists and other dictionaries for the keys of a dictionary is generally not allowed. Typically, developers use things that are easily identifiable and constant, such as strings and integers, as dictionary keys. However, you can fill the dictionary's values with anything you want:\n",
    "\n",
    "```JavaScript\n",
    "let sister = {\n",
    "  name: \"Sarah\", \n",
    "  age: 23,\n",
    "  parents: [ \"alice\", \"andy\" ],\n",
    "  siblings: [\"julia\"],\n",
    "  favoriteColor: \"purple\",\n",
    "  pets: true\n",
    "};\n",
    "```\n",
    "The syntax you see above is called **object-literal notation**. There are some important things you need to remember when you're structuring an object literal:\n",
    "\n",
    "- The \"key\" (representing a **property** or **method** name) and its \"value\" are separated from each other by a **colon**\n",
    "- The `key: value` *pairs* are separated from each other by **commas**\n",
    "- The entire object is wrapped inside curly braces `{ }`.\n",
    "\n",
    "And, kind of like how you can look up a word in the dictionary to find its definition, the `key` in a `key:value` pair allows you to look up a piece of information about an object. Here are a couple of examples how you can retrieve information about my sister's parents using the object you created.\n",
    "\n",
    "```JavaScript\n",
    "// two equivalent ways to use the key to return its value\n",
    "sister[\"parents\"] // returns [ \"alice\", \"andy\" ]\n",
    "sister.parents // also returns [\"alice\", \"andy\"]\n",
    "```\n",
    "\n",
    "- Using `sister[\"parents\"]` is called **bracket notation** (because of the brackets!) and \n",
    "- using `sister.parents` is called **dot notation** (because of the dot!)."
   ]
  },
  {
   "cell_type": "markdown",
   "metadata": {},
   "source": [
    "#### What about methods?\n",
    "The `sister` object above contains a bunch of properties about my sister, but doesn't really say what my sister does. For instance, let's say my sister likes to paint. You might have a `paintPicture()` method that returns `\"Sarah paints a picture!\"` whenever you call it. The syntax for this is pretty much exactly the same as how you defined the properties of the object. The only difference is, the value in the `key:value` pair will be a function."
   ]
  },
  {
   "cell_type": "code",
   "execution_count": 212,
   "metadata": {},
   "outputs": [
    {
     "data": {
      "text/plain": [
       "'Sarah paints!'"
      ]
     },
     "execution_count": 212,
     "metadata": {},
     "output_type": "execute_result"
    }
   ],
   "source": [
    "var sister = {\n",
    "  name: \"Sarah\",\n",
    "  age: 23,\n",
    "  parents: [ \"alice\", \"andy\" ],\n",
    "  siblings: [\"julia\"],\n",
    "  favoriteColor: \"purple\",\n",
    "  pets: true,\n",
    "  paintPicture: function() { return \"Sarah paints!\"; }\n",
    "};\n",
    "\n",
    "sister.paintPicture();"
   ]
  },
  {
   "cell_type": "markdown",
   "metadata": {},
   "source": [
    "and you can access the name of my sister by accessing the `name` property:"
   ]
  },
  {
   "cell_type": "code",
   "execution_count": 213,
   "metadata": {},
   "outputs": [
    {
     "data": {
      "text/plain": [
       "'Sarah'"
      ]
     },
     "execution_count": 213,
     "metadata": {},
     "output_type": "execute_result"
    }
   ],
   "source": [
    "sister.name"
   ]
  },
  {
   "cell_type": "markdown",
   "metadata": {},
   "source": [
    "#### Naming conventions\n",
    "Feel free to use upper and lowercase numbers and letters, but don't start your property name with a number. You don't need to wrap the string in quotes! If it's a multi-word property, use camel case. Don't use hyphens in your property names\n",
    "```JavaScript\n",
    "var richard = {\n",
    "  \"1stSon\": true;\n",
    "  \"loves-snow\": true;\n",
    "};\n",
    "\n",
    "richard.1stSon // error\n",
    "richard.loves-snow // error\n",
    "```"
   ]
  },
  {
   "cell_type": "markdown",
   "metadata": {},
   "source": [
    "### Creating Objects\n",
    "create an empty object with the `Object()` constructor function:"
   ]
  },
  {
   "cell_type": "code",
   "execution_count": 214,
   "metadata": {},
   "outputs": [],
   "source": [
    "let stone = new Object();"
   ]
  },
  {
   "cell_type": "markdown",
   "metadata": {},
   "source": [
    "create an empty object with literal notation:"
   ]
  },
  {
   "cell_type": "code",
   "execution_count": 215,
   "metadata": {},
   "outputs": [],
   "source": [
    "let brick = {};"
   ]
  },
  {
   "cell_type": "markdown",
   "metadata": {},
   "source": [
    "examine the type of variable:\n",
    "```JavaScript\n",
    "typeof \"hello\" // returns \"string\"\n",
    "typeof true // returns \"boolean\"\n",
    "typeof [1, 2, 3] // returns \"object\" (Arrays are a type of object)\n",
    "typeof function hello() { } // returns \"function\"\n",
    "```"
   ]
  },
  {
   "cell_type": "code",
   "execution_count": 216,
   "metadata": {},
   "outputs": [
    {
     "data": {
      "text/plain": [
       "'object'"
      ]
     },
     "execution_count": 216,
     "metadata": {},
     "output_type": "execute_result"
    }
   ],
   "source": [
    "typeof brick"
   ]
  },
  {
   "cell_type": "markdown",
   "metadata": {},
   "source": [
    "While both methods ultimately return an object without properties of its own, the `Object()` constructor function is a bit slower and more verbose. As such, the recommended way to create new objects in JavaScript is to use literal notation."
   ]
  },
  {
   "cell_type": "markdown",
   "metadata": {},
   "source": [
    "### Adding Properties"
   ]
  },
  {
   "cell_type": "code",
   "execution_count": 217,
   "metadata": {},
   "outputs": [],
   "source": [
    "// create object with property\n",
    "var tree = {\n",
    "    type: \"oak\",\n",
    "    height: 15,\n",
    "    age: 120,\n",
    "};"
   ]
  },
  {
   "cell_type": "markdown",
   "metadata": {},
   "source": [
    "Properties can be added to objects simply by specifying the property name, then giving it a value. The below example uses dot notation to add properties, but keep in mind that square bracket notation works just as well:"
   ]
  },
  {
   "cell_type": "code",
   "execution_count": 218,
   "metadata": {},
   "outputs": [
    {
     "data": {
      "text/plain": [
       "{ type: 'oak', height: 15, age: 120, isLeavesOn: true }"
      ]
     },
     "execution_count": 218,
     "metadata": {},
     "output_type": "execute_result"
    }
   ],
   "source": [
    "// add property to object \n",
    "tree.isLeavesOn = true;\n",
    "\n",
    "// now the object has 4 properties\n",
    "tree"
   ]
  },
  {
   "cell_type": "markdown",
   "metadata": {},
   "source": [
    "### Modifying Properties\n",
    "Keep in mind that data within objects are mutable, meaning that data can be changed. There are a few exceptions to this, but for now, let's see how we can modify/reassign existing properties in an object."
   ]
  },
  {
   "cell_type": "code",
   "execution_count": 219,
   "metadata": {},
   "outputs": [
    {
     "data": {
      "text/plain": [
       "{ type: 'oak', height: 15, age: 120, isLeavesOn: false }"
      ]
     },
     "execution_count": 219,
     "metadata": {},
     "output_type": "execute_result"
    }
   ],
   "source": [
    "// change existing property of object \n",
    "tree.isLeavesOn = false;\n",
    "\n",
    "// the property has changed\n",
    "tree"
   ]
  },
  {
   "cell_type": "markdown",
   "metadata": {},
   "source": [
    "### Removing Properties\n",
    "Recall that since objects are mutable, not only can we modify existing properties (or even add new ones) -- we can also delete properties from objects.\n",
    "\n",
    "Say that an object actually doesn't have a property. We can go ahead and remove that property using the `delete` operator.\n",
    "\n",
    "Note that `delete` directly mutates the object at hand. If we try to access a deleted property, the JavaScript interpreter will no longer be able to find that property because the key along with its value have been deleted:"
   ]
  },
  {
   "cell_type": "code",
   "execution_count": 220,
   "metadata": {},
   "outputs": [
    {
     "data": {
      "text/plain": [
       "{ type: 'oak', age: 120, isLeavesOn: false }"
      ]
     },
     "execution_count": 220,
     "metadata": {},
     "output_type": "execute_result"
    }
   ],
   "source": [
    "delete tree.height;\n",
    "//check tha state of the object:\n",
    "tree"
   ]
  },
  {
   "cell_type": "markdown",
   "metadata": {},
   "source": [
    "Note: Trying to access a property which doesn't exist will not throw an error; it will return `undefined`. Technically, any property that doesn't exist on an object will be `undefined`, so while accessing a property that has been deleted will still return `undefined`, if you log the object to the console the property is gone. For all intents and purposes, deleting an object property does effectively remove the property from the object."
   ]
  },
  {
   "cell_type": "markdown",
   "metadata": {},
   "source": [
    "### Iterating Properties"
   ]
  },
  {
   "cell_type": "code",
   "execution_count": 221,
   "metadata": {},
   "outputs": [
    {
     "name": "stdout",
     "output_type": "stream",
     "text": [
      "The tree's type is: oak\n",
      "The tree's age is: 120\n",
      "The tree's isLeavesOn is: false\n"
     ]
    }
   ],
   "source": [
    "for (let property in tree){\n",
    "    console.log(\"The tree's \"+property+\" is: \"+tree[property])\n",
    "}"
   ]
  },
  {
   "cell_type": "markdown",
   "metadata": {},
   "source": [
    "### Object Methods\n",
    "Objects in JavaScript have three types of methods:\n",
    "1. Static methods\n",
    "2. Instance methods\n",
    "3. Methods you create\n",
    "\n",
    "**Static** methods are methods that exist on the `Object` constructor itself. They usually take an object as an argument and return some property or characteristic of that object. Common static methods you may use include `Object.keys()` and `Object.values()`, which return the passed object's properties and values, respectively. Another common static method is `Object.entries()`, which returns an array of the object's property/value pairs."
   ]
  },
  {
   "cell_type": "markdown",
   "metadata": {},
   "source": [
    "At its core, an object is just a collection of key/value pairs. What if we want to extract only the keys from an object? Say we have this object representing a real-life dictionary:"
   ]
  },
  {
   "cell_type": "code",
   "execution_count": 222,
   "metadata": {},
   "outputs": [],
   "source": [
    "var auto = {\n",
    "  location: 'garage',\n",
    "  ignition: 'off',\n",
    "  fueled: true,\n",
    "};"
   ]
  },
  {
   "cell_type": "markdown",
   "metadata": {},
   "source": [
    "Having a collection of just the words (i.e., the dictionary object's keys) may be particularly useful. While we could use a `for...in` loop to iterate through an object and build our own list of keys."
   ]
  },
  {
   "cell_type": "code",
   "execution_count": 223,
   "metadata": {},
   "outputs": [
    {
     "data": {
      "text/plain": [
       "[ 'location', 'ignition', 'fueled' ]"
      ]
     },
     "execution_count": 223,
     "metadata": {},
     "output_type": "execute_result"
    }
   ],
   "source": [
    "const result = [];\n",
    "for (const key in auto){result.push(key)};\n",
    "result"
   ]
  },
  {
   "cell_type": "markdown",
   "metadata": {},
   "source": [
    "It can get a bit messy and verbose. Thankfully, JavaScript provides an abstraction just for this!\n",
    "\n",
    "When `Object.keys()` is given an object, it extracts just the keys of that object, then returns those keys in an array:"
   ]
  },
  {
   "cell_type": "code",
   "execution_count": 224,
   "metadata": {},
   "outputs": [
    {
     "data": {
      "text/plain": [
       "[ 'location', 'ignition', 'fueled' ]"
      ]
     },
     "execution_count": 224,
     "metadata": {},
     "output_type": "execute_result"
    }
   ],
   "source": [
    "Object.keys(auto);"
   ]
  },
  {
   "cell_type": "markdown",
   "metadata": {},
   "source": [
    "Likewise, if we want a list of the values of an object, we can use `Object.values()`:"
   ]
  },
  {
   "cell_type": "code",
   "execution_count": 225,
   "metadata": {},
   "outputs": [
    {
     "data": {
      "text/plain": [
       "[ 'garage', 'off', true ]"
      ]
     },
     "execution_count": 225,
     "metadata": {},
     "output_type": "execute_result"
    }
   ],
   "source": [
    "Object.values(auto);"
   ]
  },
  {
   "cell_type": "markdown",
   "metadata": {},
   "source": [
    "Or both with `Object.entries()` method:"
   ]
  },
  {
   "cell_type": "code",
   "execution_count": 226,
   "metadata": {},
   "outputs": [
    {
     "data": {
      "text/plain": [
       "[ [ 'location', 'garage' ],\n",
       "  [ 'ignition', 'off' ],\n",
       "  [ 'fueled', true ] ]"
      ]
     },
     "execution_count": 226,
     "metadata": {},
     "output_type": "execute_result"
    }
   ],
   "source": [
    "Object.entries(auto); // returns an array of arrays"
   ]
  },
  {
   "cell_type": "markdown",
   "metadata": {},
   "source": [
    "#### Further Research\n",
    "- [Object.keys()](https://developer.mozilla.org/en-US/docs/Web/JavaScript/Reference/Global_Objects/Object/keys) on MDN\n",
    "- [Object.values()](https://developer.mozilla.org/en-US/docs/Web/JavaScript/Reference/Global_Objects/Object/values) on MDN\n",
    "\n",
    "\n",
    "- [JavaScript: The Good Parts](http://javascript.crockford.com/) by Douglas Crockford\n",
    "- [JavaScript: The Good Parts](https://www.goodreads.com/book/show/2998152-javascript) via Goodreads"
   ]
  },
  {
   "cell_type": "markdown",
   "metadata": {},
   "source": [
    "**Instance** methods on the other hand are methods that require a specific object instance to operate on. You will probably use `Object.instance.hasOwnProperty()`, which returns whether an object has a property in its own definition (rather than inheriting it from another object) and `Object.instance.toString()`, which returns a string representation of the object."
   ]
  },
  {
   "cell_type": "code",
   "execution_count": 227,
   "metadata": {},
   "outputs": [
    {
     "data": {
      "text/plain": [
       "true"
      ]
     },
     "execution_count": 227,
     "metadata": {},
     "output_type": "execute_result"
    }
   ],
   "source": [
    "auto.hasOwnProperty('ignition');"
   ]
  },
  {
   "cell_type": "code",
   "execution_count": 228,
   "metadata": {},
   "outputs": [
    {
     "data": {
      "text/plain": [
       "false"
      ]
     },
     "execution_count": 228,
     "metadata": {},
     "output_type": "execute_result"
    }
   ],
   "source": [
    "auto.hasOwnProperty('drive');"
   ]
  },
  {
   "cell_type": "code",
   "execution_count": 229,
   "metadata": {},
   "outputs": [
    {
     "data": {
      "text/plain": [
       "'[object Object]'"
      ]
     },
     "execution_count": 229,
     "metadata": {},
     "output_type": "execute_result"
    }
   ],
   "source": [
    "auto.toString();"
   ]
  },
  {
   "cell_type": "markdown",
   "metadata": {},
   "source": [
    "Notice how the representation returned is `[object Object]`. This is because we haven't defined the `toString()` method on this specific object (the `auto`), so it's inherited from the global object which all objects inherit from. You'll learn to override this later."
   ]
  },
  {
   "cell_type": "markdown",
   "metadata": {},
   "source": [
    "**Methods you create** are instance methods that yourself have added as properties on the object. This type of method is just a property on the object whose value is a function that you can call in order to execute some code."
   ]
  },
  {
   "cell_type": "markdown",
   "metadata": {},
   "source": [
    "### Adding Methods\n",
    "At this point, we've mostly seen objects with properties that behave more like attributes. That is, properties such as `name` or `age` are data that describe an object, but they don't \"do\" anything. We can extend functionality to objects by adding **methods** to them."
   ]
  },
  {
   "cell_type": "code",
   "execution_count": 230,
   "metadata": {},
   "outputs": [],
   "source": [
    "const umbrella = {\n",
    "    color: \"pink\",\n",
    "    status: 'closed',\n",
    "    greetPerson : function (name){\n",
    "       console.log(`Hello ${name}!`);\n",
    "    },\n",
    "    open:  function (){\n",
    "        this.status = 'opened';\n",
    "        console.log(\"The umbrella is opening\")\n",
    "    },\n",
    "};"
   ]
  },
  {
   "cell_type": "markdown",
   "metadata": {},
   "source": [
    "add anonymus function to object:"
   ]
  },
  {
   "cell_type": "code",
   "execution_count": 231,
   "metadata": {},
   "outputs": [
    {
     "data": {
      "text/plain": [
       "{ color: 'pink',\n",
       "  status: 'closed',\n",
       "  greetPerson: [Function: greetPerson],\n",
       "  open: [Function: open],\n",
       "  close: [Function] }"
      ]
     },
     "execution_count": 231,
     "metadata": {},
     "output_type": "execute_result"
    }
   ],
   "source": [
    "umbrella.close = function (){\n",
    "    this.status = 'closed';\n",
    "    console.log(\"The umbrella is closing\")\n",
    "};\n",
    "umbrella"
   ]
  },
  {
   "cell_type": "markdown",
   "metadata": {},
   "source": [
    "This jumps ahead a little bit but it's pretty simple to understand. We just created a property called `close` just like creating any other property, except this time its value is a function instead of a string, boolean, integer, or something else. The `this` in the `open` / `close` method refers to the `umbrella` object itself, so when we call the function by using `umbrella.open();`, `status` is changed to `opened`. The function doesn't return anything, it just changes the `status` property."
   ]
  },
  {
   "cell_type": "markdown",
   "metadata": {},
   "source": [
    "### The `this` Keyword\n",
    "Above you saw how you can create an object and give it a method. In that method there was a reference to the `this` keyword.\n",
    "\n",
    "`this` refers to the object it is a part of. The `this` keyword has different meanings depending on the context in which it is used, but you'll most likely see it used in two main ways:\n",
    "\n",
    "- **In a method**, `this` refers to the object that owns the method. If the method isn't owned by any object, then `this` refers to the global object.\n",
    "```JavaScript\n",
    "let car = { location: 'garage',\n",
    "            ignition: 'off',\n",
    "            fueled: true,\n",
    "            start: function() { this.ignition = 'on'; }\n",
    "           };\n",
    "```\n",
    "- **In an event** (like when a user clicks on something), this refers to the element that received the event (e.g. the thing they clicked on).\n",
    "```HTML\n",
    "<button onclick=\"this.style.color='blue'\">Click to Change My Text Color!</button>\n",
    "```"
   ]
  },
  {
   "cell_type": "markdown",
   "metadata": {},
   "source": [
    "### Calling Methods\n",
    "We can access a function in an object using the property name. Again, another name for a function property of an object is a *method*. We can access it the same way that we do with other properties: by using dot notation or square bracket notation. \n",
    "\n",
    "Just like calling a function, an object's method is called by adding parentheses at the end of the method's name. Note that both dot notation and square bracket notation return the same result!\n",
    "\n",
    "call the `umbrella` object's `open` method:"
   ]
  },
  {
   "cell_type": "code",
   "execution_count": 232,
   "metadata": {},
   "outputs": [
    {
     "name": "stdout",
     "output_type": "stream",
     "text": [
      "The umbrella is opening\n"
     ]
    }
   ],
   "source": [
    "umbrella.open()"
   ]
  },
  {
   "cell_type": "markdown",
   "metadata": {},
   "source": [
    "call the `unbrella` object's `close` method:"
   ]
  },
  {
   "cell_type": "code",
   "execution_count": 233,
   "metadata": {},
   "outputs": [
    {
     "name": "stdout",
     "output_type": "stream",
     "text": [
      "The umbrella is closing\n"
     ]
    }
   ],
   "source": [
    "umbrella[\"close\"]()"
   ]
  },
  {
   "cell_type": "markdown",
   "metadata": {},
   "source": [
    "#### Passing Arguments Into Methods\n",
    "If the method takes arguments, you can proceed the same way, too:"
   ]
  },
  {
   "cell_type": "code",
   "execution_count": 234,
   "metadata": {},
   "outputs": [
    {
     "name": "stdout",
     "output_type": "stream",
     "text": [
      "Hello Sumatra!\n"
     ]
    }
   ],
   "source": [
    "umbrella.greetPerson(\"Sumatra\");"
   ]
  },
  {
   "cell_type": "markdown",
   "metadata": {},
   "source": [
    "### Passing Arguments to Functions\n",
    "#### Passing a Primitive\n",
    "In JavaScript, a primitive (e.g., a string, number, boolean, etc.) is immutable. In other words, any changes made to an argument inside a function effectively creates a copy local to that function, and does not affect the primitive outside of that function. Check out the following example:"
   ]
  },
  {
   "cell_type": "code",
   "execution_count": 235,
   "metadata": {},
   "outputs": [
    {
     "name": "stdout",
     "output_type": "stream",
     "text": [
      "7\n"
     ]
    }
   ],
   "source": [
    "function changeToEight(n) {\n",
    "  n = 8; // whatever n was, it is now 8... but only in this function!\n",
    "}\n",
    "\n",
    "let n = 7;\n",
    "\n",
    "changeToEight(n);\n",
    "// n retains its value despite the attempt to change inside the function\n",
    "console.log(n); //7"
   ]
  },
  {
   "cell_type": "markdown",
   "metadata": {},
   "source": [
    "`changeToEight()` takes in a single argument, `n`, and changes it to `8`. However, this change only exists inside the function itself. We then pass the global variable `n` (which is assigned the value `7`) into the function. After invoking it, `n` is still equal to `7`."
   ]
  },
  {
   "cell_type": "markdown",
   "metadata": {},
   "source": [
    "#### Passing an Object\n",
    "On the other hand, objects in JavaScript are mutable. If you pass an object into a function, Javascript passes a reference to that object. Let's see what happens if we pass an object into a function and then modify a property:"
   ]
  },
  {
   "cell_type": "code",
   "execution_count": 236,
   "metadata": {},
   "outputs": [
    {
     "data": {
      "text/plain": [
       "{ favoriteColor: 'blue' }"
      ]
     },
     "execution_count": 236,
     "metadata": {},
     "output_type": "execute_result"
    }
   ],
   "source": [
    "let originalObject = { favoriteColor: 'red'};\n",
    "function setToBlue(object) { object.favoriteColor = 'blue';}\n",
    "\n",
    "setToBlue(originalObject);\n",
    "// the property value has changed from \"red\" to \"blue\"\n",
    "originalObject"
   ]
  },
  {
   "cell_type": "markdown",
   "metadata": {},
   "source": [
    "In the above example, `originalObject` contains a single property, `favoriteColor`, which has a value of `'red'`. We pass `originalObjec`t into the `setToBlue()` function and invoke it. After accessing `originalObject`'s `favoriteColor` property, we see that the value is now `'blue'`!\n",
    "\n",
    "How did this happen? Well, since objects in JavaScript are passed by reference, if we make changes to that reference, we're actually directly modifying the original object itself!\n",
    "\n",
    "What's more: the same rule applies when re-assigning an object to a new variable, and then changing that copy. Again, since objects are passed by reference, the original object is changed as well. Let's take a look at this more closely with another example.\n",
    "\n",
    "Consider this `iceCreamOriginal` object, which shows the amount of ice cream cones each instructor has eaten:"
   ]
  },
  {
   "cell_type": "code",
   "execution_count": 237,
   "metadata": {},
   "outputs": [],
   "source": [
    "const iceCreamOriginal = {\n",
    "  Andrew: 3,\n",
    "  Richard: 15\n",
    "};"
   ]
  },
  {
   "cell_type": "markdown",
   "metadata": {},
   "source": [
    "Let's go ahead and assign a new variable to `iceCreamOriginal`. We'll then check the value of its `Richard` property:"
   ]
  },
  {
   "cell_type": "code",
   "execution_count": 238,
   "metadata": {},
   "outputs": [
    {
     "data": {
      "text/plain": [
       "15"
      ]
     },
     "execution_count": 238,
     "metadata": {},
     "output_type": "execute_result"
    }
   ],
   "source": [
    "const iceCreamCopy = iceCreamOriginal;\n",
    "iceCreamCopy.Richard;"
   ]
  },
  {
   "cell_type": "markdown",
   "metadata": {},
   "source": [
    "As expected, the expression `iceCreamCopy.Richard` returns `15` (i.e., it is the same value as the Richard property in `iceCreamOriginal`). Now, let's change the value in the copy, then check the results:"
   ]
  },
  {
   "cell_type": "code",
   "execution_count": 239,
   "metadata": {},
   "outputs": [
    {
     "data": {
      "text/plain": [
       "99"
      ]
     },
     "execution_count": 239,
     "metadata": {},
     "output_type": "execute_result"
    }
   ],
   "source": [
    "iceCreamCopy.Richard = 99;\n",
    "iceCreamCopy.Richard;"
   ]
  },
  {
   "cell_type": "code",
   "execution_count": 240,
   "metadata": {},
   "outputs": [
    {
     "data": {
      "text/plain": [
       "99"
      ]
     },
     "execution_count": 240,
     "metadata": {},
     "output_type": "execute_result"
    }
   ],
   "source": [
    "iceCreamOriginal.Richard;"
   ]
  },
  {
   "cell_type": "markdown",
   "metadata": {},
   "source": [
    "Since objects are passed by reference, making changes to the copy (`iceCreamCopy`) has a direct effect on the original object (`iceCreamOriginal`) as well. In both objects, the value of the `Richard` property is now `99`."
   ]
  },
  {
   "cell_type": "markdown",
   "metadata": {},
   "source": [
    "### Comparing an Object with Another Object\n",
    "On the topic of references, let's see what happens when we compare one object with another object. The following objects, `parrot` and `pigeon`, have the same methods and properties:"
   ]
  },
  {
   "cell_type": "code",
   "execution_count": 241,
   "metadata": {},
   "outputs": [],
   "source": [
    "const parrot = {\n",
    "  group: 'bird',\n",
    "  feathers: true,\n",
    "  chirp: function () {console.log('Chirp chirp!');}\n",
    "};\n",
    "\n",
    "const pigeon = {\n",
    "  group: 'bird',\n",
    "  feathers: true,\n",
    "  chirp: function () {console.log('Chirp chirp!');}\n",
    "};"
   ]
  },
  {
   "cell_type": "markdown",
   "metadata": {},
   "source": [
    "Naturally, one might expect the `parrot` object and `pigeon` object to be equal. After all, both objects look exactly the same! Let's compare `parrot` and `pigeon` to find out:"
   ]
  },
  {
   "cell_type": "code",
   "execution_count": 242,
   "metadata": {},
   "outputs": [
    {
     "data": {
      "text/plain": [
       "false"
      ]
     },
     "execution_count": 242,
     "metadata": {},
     "output_type": "execute_result"
    }
   ],
   "source": [
    "parrot === pigeon;"
   ]
  },
  {
   "cell_type": "markdown",
   "metadata": {},
   "source": [
    "What's going on here? As it turns out, the expression will only return `true` when comparing two references to exactly the same object. Using what we now know about passing objects, let's confirm this."
   ]
  },
  {
   "cell_type": "code",
   "execution_count": 243,
   "metadata": {},
   "outputs": [],
   "source": [
    "let sameParrot = parrot;"
   ]
  },
  {
   "cell_type": "markdown",
   "metadata": {},
   "source": [
    "As we've just learned, `sameParrot` not only refers to the same object as `parrot` -- they are the same object! If we make any updates to `sameParrot`'s properties, `parrot`'s properties will be updated with exactly the same changes as well. Now, the comparison will return true:"
   ]
  },
  {
   "cell_type": "code",
   "execution_count": 244,
   "metadata": {},
   "outputs": [
    {
     "data": {
      "text/plain": [
       "true"
      ]
     },
     "execution_count": 244,
     "metadata": {},
     "output_type": "execute_result"
    }
   ],
   "source": [
    "sameParrot == parrot"
   ]
  },
  {
   "cell_type": "markdown",
   "metadata": {},
   "source": [
    "### A Method Can Access the Object it was Called On\n",
    "Recall that an object can contain data and the means to manipulate that data. But just how can an object reference its own properties, much less manipulate some of those properties itself? This is all possible with the `this` keyword!\n",
    "\n",
    "Using `this`, methods can directly access the object that it is called on. The value of `this` is the object “before dot”, the one used to call the method.\n",
    "\n",
    "Consider the following object, `triangle`:"
   ]
  },
  {
   "cell_type": "code",
   "execution_count": 245,
   "metadata": {},
   "outputs": [],
   "source": [
    "const triangle = {\n",
    "  type: 'scalene',\n",
    "  identify: function () {\n",
    "    console.log(`This is a ${this.type} triangle.`);\n",
    "  }\n",
    "};"
   ]
  },
  {
   "cell_type": "markdown",
   "metadata": {},
   "source": [
    "Note that inside the `identify()` method, the object `this` is used. When you say `this`, what you're really saying is \"this object\" or \"the object at hand.\" `this` is what gives the `identify()` method direct access to the `triangle` object's properties:"
   ]
  },
  {
   "cell_type": "code",
   "execution_count": 246,
   "metadata": {},
   "outputs": [
    {
     "name": "stdout",
     "output_type": "stream",
     "text": [
      "This is a scalene triangle.\n"
     ]
    }
   ],
   "source": [
    "triangle.identify();"
   ]
  },
  {
   "cell_type": "markdown",
   "metadata": {},
   "source": [
    "When the `identify()` method is called, the value of `this` is set to the object it was called on: `triangle`. As a result, the `identify()` method can access and use triangle's type property, as seen in the above `console.log()` expression.\n",
    "\n",
    "Note that `this` is a reserved word in JavaScript, and cannot be used as an identifier (e.g. variable names, function names, etc.).\n",
    "\n",
    "Depending on how a function is called, `this` can be set to different values! Later in this course, we'll take a deep dive into different ways that functions can be invoked, and how each approach influences the value of `this`."
   ]
  },
  {
   "cell_type": "markdown",
   "metadata": {},
   "source": [
    "#### Further Research\n",
    "- [Defining Methods](https://developer.mozilla.org/en-US/docs/Web/JavaScript/Guide/Working_with_Objects#Defining_methods) on MDN\n",
    "- [\"this\" in Methods](https://javascript.info/object-methods#this-in-methods)"
   ]
  },
  {
   "cell_type": "markdown",
   "metadata": {},
   "source": [
    "### The `window` Object\n",
    "If you haven't worked with the `window` object yet, this object is provided by the browser environment and is globally accessible to your JavaScript code using the identifier, `window`. This object is not part of the JavaScript specification (i.e., ECMAScript); instead, it is developed by the W3C.\n",
    "\n",
    "This `window` object has access to a ton of information about the page itself, including:\n",
    "\n",
    "- The page's URL (`window.location;`)\n",
    "- The vertical scroll position of the page (`window.scrollY`)\n",
    "- Scrolling to a new location (`window.scroll(0, window.scrollY + 200);` to scroll 200 pixels down from the current location)\n",
    "- Opening a new web page (`window.open(\"https://www.udacity.com/\");`)"
   ]
  },
  {
   "cell_type": "code",
   "execution_count": 247,
   "metadata": {},
   "outputs": [],
   "source": [
    "function whoThis () {\n",
    "  debugger\n",
    "  this.trickyish = true\n",
    "}\n",
    "\n",
    "whoThis();"
   ]
  },
  {
   "cell_type": "markdown",
   "metadata": {},
   "source": [
    "At invoking `whoThis()` function the `this` variable inside the function references the golobal `window` object!"
   ]
  },
  {
   "cell_type": "code",
   "execution_count": 248,
   "metadata": {},
   "outputs": [
    {
     "name": "stdout",
     "output_type": "stream",
     "text": [
      "Get in one of the undefined doors, and let's go!\n"
     ]
    }
   ],
   "source": [
    "const car = {\n",
    "  numberOfDoors: 4,\n",
    "  drive: function () {\n",
    "     console.log(`Get in one of the ${this.numberOfDoors} doors, and let's go!`);\n",
    "  }\n",
    "};\n",
    "\n",
    "const letsRoll = car.drive;\n",
    "\n",
    "letsRoll();"
   ]
  },
  {
   "cell_type": "markdown",
   "metadata": {},
   "source": [
    "Even though `car.drive` is a method, we're storing the function itself in the a variable `letsRoll`. Because `letsRoll()` is invoked as a regular function, inside of it `this` will refer to the `window` object."
   ]
  },
  {
   "cell_type": "markdown",
   "metadata": {},
   "source": [
    "### Global Variables are Properties on `window`\n",
    "Since the `window` object is at the highest (i.e., global) level, an interesting thing happens with global variable declarations. Every variable declaration that is made at the global level (outside of a function) automatically becomes a property on the `window` object!\n",
    "\n",
    "Here we can see that the `currentlyEating` variable is set to `'ice cream'`. Then, we immediately see that the window now has a `currentlyEating` property! Checking this property against the `currentlyEating` variable shows us that they are identical.\n",
    "\n",
    "```JavaScript\n",
    "var currentlyEating = 'ice cream';\n",
    "window.currentlyEating === currentlyEating\n",
    "// true\n",
    "```"
   ]
  },
  {
   "cell_type": "markdown",
   "metadata": {},
   "source": [
    "### Globals and `var`, `let`, and `const`\n",
    "The keywords `var`, `let`, and `const` are used to declare variables in JavaScript. `var` has been around since the beginning of the language, while `let` and `const` are significantly newer additions (added in ES6).\n",
    "\n",
    "Only declaring variables with the `var` keyword will add them to the `window` object. If you declare a variable outside of a function with either `let` or `const`, it will **not** be **added** as a property to the `window` object.\n",
    "```JavaScript\n",
    "let currentlyEating = 'ice cream';\n",
    "window.currentlyEating === currentlyEating \n",
    "// false!\n",
    "```"
   ]
  },
  {
   "cell_type": "markdown",
   "metadata": {},
   "source": [
    "### Global Functions are Methods on `window`\n",
    "Similarly to how global variables are accessible as properties on the `window` object, any global function declarations are accessible on the `window` object as methods:\n",
    "```JavaScript\n",
    "function learnSomethingNew() {\n",
    "  window.open('https://www.udacity.com/');\n",
    "}\n",
    "\n",
    "window.learnSomethingNew === learnSomethingNew\n",
    "// true\n",
    "```\n",
    "Declaring the `learnSomethingNew()` function as a global function declaration (i.e., it's globally accessible and not written inside another function) makes it accessible to your code as either `learnSomethingNew()` or `window.learnSomethingNew()`."
   ]
  },
  {
   "cell_type": "markdown",
   "metadata": {},
   "source": [
    "### Avoid Globals\n",
    "We've seen that declaring global variables and functions add them as properties to the window object. Globally-accessible code sounds like something that might be super helpful, right? I mean, wouldn't it be great if you could always be within arms reach of some ice cream (or is that just my lifelong dream)?\n",
    "\n",
    "Counterintuitively, though, global variables and functions are not ideal. There are actually a number of reasons why, but the two we'll look at are:\n",
    "\n",
    "- Tight coupling\n",
    "- Name collisions\n",
    "\n",
    "#### Tight Coupling\n",
    "Tight coupling is a phrase that developers use to indicate code that is too dependent on the details of each other. The word \"coupling\" means the \"pairing of two items together.\" In tight coupling, pieces of code are joined together in a way where changing one unintentionally alters the functioning of some other code:"
   ]
  },
  {
   "cell_type": "code",
   "execution_count": 249,
   "metadata": {},
   "outputs": [],
   "source": [
    "var person = 'Richard';\n",
    "\n",
    "function richardSaysHi() {\n",
    "  console.log(`${person} says 'hi!'`);\n",
    "}"
   ]
  },
  {
   "cell_type": "markdown",
   "metadata": {},
   "source": [
    "In the code above, note that the `instructor` variable is declared globally. The `richardSaysHi()` function does not have a local variable that it uses to store the instructor's name. Instead, it reaches out to the global variable and uses that. If we refactored this code by changing the variable from `instructor` to `teacher`, this would break the `richardSaysHi()`  function (or we'd have to update it there, too!). This is a (simple) example of tightly-coupled code."
   ]
  },
  {
   "cell_type": "markdown",
   "metadata": {},
   "source": [
    "#### Name Collisions\n",
    "A name collision occurs when two (or more) functions depend on a variable with the same name. A major problem with this is that both functions will try to update the variable and or set the variable, but these changes are overridden by each other!\n",
    "\n",
    "Let's look at an example of name collision with this DOM manipulation code:\n",
    "```JavaScript\n",
    "let counter = 1;\n",
    "\n",
    "function addDivToHeader () {\n",
    "  const newDiv = document.createElement('div');\n",
    "  newDiv.textContent = 'div number ' + counter;\n",
    "\n",
    "  counter = counter + 1;\n",
    "\n",
    "  const headerSection = document.querySelector('header');\n",
    "  headerSection.appendChild(newDiv)\n",
    "}\n",
    "\n",
    "function addDivToFooter() {\n",
    "  const newDiv = document.createElement('div');\n",
    "  newDiv.textContent = 'div number ' + counter;\n",
    "\n",
    "  counter = counter + 1;\n",
    "\n",
    "  const footerSection = document.querySelector('footer');\n",
    "  footerSection.appendChild(newDiv)\n",
    "}\n",
    "```\n",
    "In this code, we have an `addDivToHeader()` function and a `addDivToFooter()` function. Both of these functions create a `<div>` element and increment a counter variable.\n",
    "\n",
    "This code looks fine, but if you try running this code and adding a few `<div>`s to the `<header>` and `<footer>` elements, you'll find that the numbering will get off! Both `addDivToHeader()` and addDivToFooter() expect a global counter variable to be accessible to them -- not change out from under them!\n",
    "\n",
    "Since both functions increment the `counter` variable, if the code alternates between calling `addDivToHeader()` and `addDivToFooter()`, then their respective `<div>`s will not have numerically ascending numbers. For example, if we had the following calls:\n",
    "```JavaScript\n",
    "addDivToHeader();\n",
    "addDivToHeader();\n",
    "addDivToFooter();\n",
    "addDivToHeader();\n",
    "```\n",
    "The developer probably wanted the `<header>` to have three `<div>` elements with the numbers `1`, `2`, and `3` and the `<footer>` element to have a single `<div>` with the number `1`. However, what this code will produce is a `<header>` element with three `<div>` but with the numbers `1`, `2`, and `4` (not `3`) and a `<footer>` element with the number `3`...these are very different results. But it's happening because both functions depend on the `counter` variable and both update it.\n",
    "\n",
    "So what should you do instead? You should write as few global variables as possible. Write your variables inside of the functions that need them, keeping them as close to where they are needed as possible. Now, there are times when you'll need to write global variables, but you should only write them as a last resort."
   ]
  },
  {
   "cell_type": "markdown",
   "metadata": {},
   "source": [
    "### Further Research\n",
    "- [The window object](https://developer.mozilla.org/en-US/docs/Web/API/Window) on MDN\n",
    "- [The window specification](https://www.w3.org/TR/html5/browsers.html#the-window-object) on W3C\n",
    "- [Article: Globals are Bad](http://wiki.c2.com/?GlobalVariablesAreBad)\n",
    "- [Coupling](https://bit.ly/2m07ZOj) on Wikipedia\n",
    "- [Name Collision](https://en.wikipedia.org/wiki/Name_collision) on Wikipedia"
   ]
  },
  {
   "cell_type": "markdown",
   "metadata": {},
   "source": [
    "## Classes\n",
    "A class in software development is like a blueprint. It provides the structure for all objects of a particular kind. It might be helpful to think of \"class\" as being short for \"classification\" - a grouping of things into a particular classification.\n",
    "\n",
    "![class-and-inheritance.png](./img/class-and-inheritance.png)\n",
    "\n",
    "Classes are used for many things in programming, they are a special kind of object that defines the structure for other objects. You can define a class using the `class` keyword.\n",
    "\n",
    "Classes have a couple of unique characteristics when compared with other objects in object-oriented programming languages. For one, they usually require a constructor or some sort of initialization method which defines how the class should be structured and which attributes and properties it should have. Here is an example of a class:"
   ]
  },
  {
   "cell_type": "code",
   "execution_count": 250,
   "metadata": {},
   "outputs": [],
   "source": [
    "class Mammal { \n",
    "  constructor(name) {\n",
    "    this.name = name;\n",
    "  }\n",
    "  \n",
    "  speak() {\n",
    "    console.log(this.name + ' says \"Hello!\"');\n",
    "  }\n",
    "}"
   ]
  },
  {
   "cell_type": "markdown",
   "metadata": {},
   "source": [
    "In the above, the `this` keyword refers to the class itself. The `constructor` method ensures that all `Animal`s will have a `name`. The `speak()` function, called a method when used inside a class, gives all `Mammal` instances the ability to speak, and by default they will say \"Hello!\":"
   ]
  },
  {
   "cell_type": "code",
   "execution_count": 251,
   "metadata": {},
   "outputs": [
    {
     "name": "stdout",
     "output_type": "stream",
     "text": [
      "John says \"Hello!\"\n"
     ]
    }
   ],
   "source": [
    "let human = new Mammal('John');\n",
    "human.speak();  // logs 'John says \"Hello!\"'"
   ]
  },
  {
   "cell_type": "markdown",
   "metadata": {},
   "source": [
    "The above `Mammal` (a human named `John`), says \"Hello!\". Obviously though, some animals cannot talk. The real power of classes comes when you use them to **inherit** the functionality of other classes. In this way, the functionality of the `Mammal` class above can be *extended* so that we gain the `name` and the `speak` function in any class that extends it, and can override whichever parts of the class we prefer. For example, if you want to create another type of `MammaL` that still has a `name`, but says something different (like a dog), you can easily do this using the `extends` keyword to extend the `Mammal` class's functionality into a new class:"
   ]
  },
  {
   "cell_type": "code",
   "execution_count": 252,
   "metadata": {},
   "outputs": [
    {
     "name": "stdout",
     "output_type": "stream",
     "text": [
      "Fido says \"Woof!\"\n"
     ]
    }
   ],
   "source": [
    "class Dog extends Mammal {\n",
    "  speak() {\n",
    "    console.log(this.name + ' says \"Woof!\"');\n",
    "  }\n",
    "}\n",
    "\n",
    "let myDog = new Dog('Fido');\n",
    "myDog.speak();  // logs 'Fido says \"Woof!\"'"
   ]
  },
  {
   "cell_type": "markdown",
   "metadata": {},
   "source": [
    "Because the `Dog` class extends the `Animal` class, it inherits the `constructor` method (including the ability to pass the dog a `name`) as well as the `speak` method. However, since dogs cannot say \"Hello\", we decided to override the `speak()` method with one specific to a dog. In this way the dog still has all the characteristics common to all animals, but has a speak method which is specific to this particular type of animal.\n",
    "\n",
    "For now hold onto the idea that a class is simply a blueprint for defining objects of a particular type, and classes can be extended to allow more specificity within that type."
   ]
  },
  {
   "cell_type": "markdown",
   "metadata": {},
   "source": [
    "### Why we need classes\n",
    "![car-class.png](./img/car-class.png)\n",
    "\n",
    "Classes are the fundamental unit of abstraction in object-oriented programming languages like JavaScript. In other words, they give the languages structure. For example, the `Array` is actually a class! Earlier you saw, that they have methods available such as `sort()`, `reverse()` and so on.\n",
    "\n",
    "These methods and this functionality is not there by accident. They are blueprinted within the definition of the `Array` class itself, and this is only one example of a class. In object-oriented languages, classes - both those fundamental ones that are predefined like arrays, lists, strings, and so on - and those you create yourself, make up a large majority of the language's functionality."
   ]
  },
  {
   "cell_type": "markdown",
   "metadata": {},
   "source": [
    "## Functions at Runtime\n",
    "### Functions are First-Class Functions\n",
    "In JavaScript, functions are [first-class functions](https://en.wikipedia.org/wiki/First-class_function). This means that you can do with a function just about anything that you can do with other elements, such as numbers, strings, objects, arrays, etc. JavaScript functions can:\n",
    "\n",
    "* Be stored in variables\n",
    "* Be returned from a function.\n",
    "* Be passed as arguments into another function.\n",
    "\n",
    "Note that while we can, say, treat a function as an object, a key difference between a function and an object is that functions can be called (i.e., invoked with `()`), while regular objects cannot.\n",
    "\n"
   ]
  },
  {
   "cell_type": "code",
   "execution_count": 253,
   "metadata": {},
   "outputs": [],
   "source": [
    "let averageFN = function averageOf3(num1,num2,num3){\n",
    "    return (num1+num2+num3)/3;\n",
    "}"
   ]
  },
  {
   "cell_type": "markdown",
   "metadata": {},
   "source": [
    "Functions have a `name` property:"
   ]
  },
  {
   "cell_type": "code",
   "execution_count": 254,
   "metadata": {},
   "outputs": [
    {
     "data": {
      "text/plain": [
       "'averageOf3'"
      ]
     },
     "execution_count": 254,
     "metadata": {},
     "output_type": "execute_result"
    }
   ],
   "source": [
    "averageFN.name"
   ]
  },
  {
   "cell_type": "markdown",
   "metadata": {},
   "source": [
    "Functions have a `length` property:"
   ]
  },
  {
   "cell_type": "code",
   "execution_count": 255,
   "metadata": {},
   "outputs": [
    {
     "data": {
      "text/plain": [
       "3"
      ]
     },
     "execution_count": 255,
     "metadata": {},
     "output_type": "execute_result"
    }
   ],
   "source": [
    "averageFN.length"
   ]
  },
  {
   "cell_type": "markdown",
   "metadata": {},
   "source": [
    "### Functions Can Return Functions\n",
    "Recall that a function must always return a value. Whether the value is explicitly specified in a return statement (e.g., returning a string, boolean, array, etc.), or the function implicitly returns `undefined` (e.g., a function that simply logs something to the console), a function will always return just one value.\n",
    "\n",
    "Since we know that functions are *first-class functions*, we can treat a function as a value and just as easily return a function from another function! A function that returns another function is known as **higher-order function**. Consider this example:"
   ]
  },
  {
   "cell_type": "code",
   "execution_count": 256,
   "metadata": {},
   "outputs": [],
   "source": [
    "function alertThenReturn() {\n",
    "  console.log('Message 1!');\n",
    "\n",
    "  return function () {\n",
    "    console.log('Message 2!');\n",
    "  };\n",
    "}"
   ]
  },
  {
   "cell_type": "markdown",
   "metadata": {},
   "source": [
    "If `alertThenReturn()` is invoked, we'll first see an alert message that says `'Message 1!'`, followed by the `alertThenReturn()` function returning an anonymous function. However, we don't actually see an alert that says `'Message 2!'`, since none of the code from the inner function is executed. How do we go about executing the returned function?"
   ]
  },
  {
   "cell_type": "code",
   "execution_count": 257,
   "metadata": {},
   "outputs": [
    {
     "name": "stdout",
     "output_type": "stream",
     "text": [
      "Message 1!\n"
     ]
    }
   ],
   "source": [
    "const innerFN = alertThenReturn()"
   ]
  },
  {
   "cell_type": "markdown",
   "metadata": {},
   "source": [
    "We can then use the innerFunction variable like any other function!"
   ]
  },
  {
   "cell_type": "code",
   "execution_count": 258,
   "metadata": {},
   "outputs": [
    {
     "name": "stdout",
     "output_type": "stream",
     "text": [
      "Message 2!\n"
     ]
    }
   ],
   "source": [
    "innerFN()"
   ]
  },
  {
   "cell_type": "markdown",
   "metadata": {},
   "source": [
    "Likewise, this function can be invoked immediately without being stored in a variable. We'll still get the same outcome if we simply add another set of parentheses to the expression `alertThenReturn();`:"
   ]
  },
  {
   "cell_type": "code",
   "execution_count": 259,
   "metadata": {},
   "outputs": [
    {
     "name": "stdout",
     "output_type": "stream",
     "text": [
      "Message 1!\n",
      "Message 2!\n"
     ]
    }
   ],
   "source": [
    "alertThenReturn()()"
   ]
  },
  {
   "cell_type": "markdown",
   "metadata": {},
   "source": [
    "Notice the double set of parentheses (i.e. `()()`) in that function call! The first pair of parentheses executes the `alertThenReturn()` function. The return value of this invocation is a function, which then gets invoked by the second pair of parentheses!"
   ]
  },
  {
   "cell_type": "markdown",
   "metadata": {},
   "source": [
    "### Callback Functions\n",
    "Recall that JavaScript functions are *first-class functions*. We can do with functions just about everything we can do with other values -- including passing them into other functions! A function that takes other functions as arguments (and/or returns a function) is known as a *higher-order function*. A function that is passed as an argument into another function is called a **callback function**.\n",
    "\n",
    "Callback functions are great because they can delegate calling functions to other functions. They allow you to build your applications with composition, leading to cleaner and more efficient code."
   ]
  },
  {
   "cell_type": "code",
   "execution_count": 260,
   "metadata": {},
   "outputs": [
    {
     "data": {
      "text/plain": [
       "5"
      ]
     },
     "execution_count": 260,
     "metadata": {},
     "output_type": "execute_result"
    }
   ],
   "source": [
    "function callAndAdd(n, callbackFunction) {\n",
    "  return n + callbackFunction();\n",
    "}\n",
    "\n",
    "function returnsThree() {\n",
    "  return 3;\n",
    "}\n",
    "\n",
    "callAndAdd(2, returnsThree);"
   ]
  },
  {
   "cell_type": "code",
   "execution_count": 261,
   "metadata": {},
   "outputs": [
    {
     "name": "stdout",
     "output_type": "stream",
     "text": [
      "7\n",
      "11\n"
     ]
    }
   ],
   "source": [
    "function each(array, callbackSelect) {\n",
    "  for (let i = 0; i < array.length; i++) {\n",
    "    if (callbackSelect(array[i])) {\n",
    "      console.log(array[i]);\n",
    "    }\n",
    "  }\n",
    "}\n",
    "\n",
    "function isPositive(n) {\n",
    "  return n > 0;\n",
    "};\n",
    "\n",
    "each([-2, 7, 11, -4, -10], isPositive);"
   ]
  },
  {
   "cell_type": "markdown",
   "metadata": {},
   "source": [
    "The `each()` function takes in two arguments: an array, and callback function. The code within comprises of a for loop and a conditional: it first iterates through all the values of a supplied array argument, then prints out that values only _if_ its callback function returns true.\n",
    "\n",
    "The `isPositive()` function returns a boolean depending on the argument passed in (i.e., `true` if the number passed in is positive, and `false` if not).\n",
    "\n",
    "As such, when `each([-2, 7, 11, -4, -10], isPositive);` is executed, the `each()` function iterates through the entire array and only prints out values to the console that return `true` when tested against the callback function: `7` and `11`."
   ]
  },
  {
   "cell_type": "markdown",
   "metadata": {},
   "source": [
    "### Array Methods\n",
    "Where have you probably seen callback functions used? In array methods! Functions are commonly passed into array methods and called on elements within an array (i.e., the array on which the method was called).\n",
    "\n",
    "Let's check out a couple in detail:\n",
    "\n",
    "    forEach()\n",
    "    map()\n",
    "    filter()"
   ]
  },
  {
   "cell_type": "markdown",
   "metadata": {},
   "source": [
    "#### forEach()\n",
    "Array's `forEach()` method takes in a callback function and invokes that function for each element in the array. In other words, `forEach()` allows you to iterate (i.e., loop) through an array, similar to using a `for` loop. Check out its signature:\n",
    "```JavaScript\n",
    "array.forEach(function callback(currentValue, index, array) {\n",
    "    // function code here\n",
    "});\n",
    "```\n",
    "The callback function itself receives the arguments: the current array element, its index, and the entire array itself.\n",
    "\n",
    "Let's say we have a simple function, `logIfOdd()`, that takes in a single number and logs it to the console if that number is an odd number:"
   ]
  },
  {
   "cell_type": "code",
   "execution_count": 262,
   "metadata": {},
   "outputs": [
    {
     "name": "stdout",
     "output_type": "stream",
     "text": [
      "3\n"
     ]
    }
   ],
   "source": [
    "function logIfOdd(n) {\n",
    "  if (n % 2 !== 0) {\n",
    "    console.log(n);\n",
    "  }\n",
    "}\n",
    "\n",
    "logIfOdd(2); // (nothing is logged)\n",
    "logIfOdd(3); // 3 is logged"
   ]
  },
  {
   "cell_type": "markdown",
   "metadata": {},
   "source": [
    "We can iterate through an array with `forEach()` and simply pass it the `logIfOdd()` function!"
   ]
  },
  {
   "cell_type": "code",
   "execution_count": 263,
   "metadata": {},
   "outputs": [
    {
     "name": "stdout",
     "output_type": "stream",
     "text": [
      "1\n",
      "5\n",
      "3\n"
     ]
    }
   ],
   "source": [
    "[1, 5, 2, 4, 6, 3].forEach(logIfOdd)"
   ]
  },
  {
   "cell_type": "markdown",
   "metadata": {},
   "source": [
    "Keep in mind that it's quite common to pass an anonymous function as an argument in `forEach()` as well:"
   ]
  },
  {
   "cell_type": "code",
   "execution_count": 264,
   "metadata": {},
   "outputs": [
    {
     "name": "stdout",
     "output_type": "stream",
     "text": [
      "1\n",
      "5\n",
      "3\n"
     ]
    }
   ],
   "source": [
    "[1, 5, 2, 4, 6, 3].forEach(function (n) {\n",
    "  if (n % 2 !== 0) {\n",
    "    console.log(n);\n",
    "  }\n",
    "});"
   ]
  },
  {
   "cell_type": "markdown",
   "metadata": {},
   "source": [
    "#### `map()`\n",
    "Array's `map()` method is similar to `forEach()` in that it invokes a callback function for each element in an array. However, `map()` returns a new array based on what's returned from the callback function. Check out the following:"
   ]
  },
  {
   "cell_type": "code",
   "execution_count": 265,
   "metadata": {},
   "outputs": [
    {
     "data": {
      "text/plain": [
       "[ 5, 7, 8 ]"
      ]
     },
     "execution_count": 265,
     "metadata": {},
     "output_type": "execute_result"
    }
   ],
   "source": [
    "function length(name) {\n",
    "  return name.length;\n",
    "};\n",
    "let names = ['David', 'Richard', 'Veronika'];\n",
    "\n",
    "const nameLengths = names.map(length);\n",
    "nameLengths"
   ]
  },
  {
   "cell_type": "markdown",
   "metadata": {},
   "source": [
    "So `nameLengths` will be a new array: `[5, 7, 8]`. Again, it is important to understand that the `map()` method returns a **new array**; it does not modify the original array.\n",
    "\n",
    "This was just a brief overview of how the `map()` method works. For a deeper dive, check out [`map()`](https://developer.mozilla.org/en-US/docs/Web/JavaScript/Reference/Global_Objects/Array/map) on MDN."
   ]
  },
  {
   "cell_type": "code",
   "execution_count": 266,
   "metadata": {},
   "outputs": [
    {
     "name": "stdout",
     "output_type": "stream",
     "text": [
      "[ '25 by Adele sold 1731000 copies',\n",
      "  'Views by Drake sold 1608000 copies',\n",
      "  'Lemonade by Beyonce sold 1554000 copies',\n",
      "  'Traveller by Chris Stapleton sold 1085000 copies',\n",
      "  'A Pentatonix Christmas by Pentatonix sold 904000 copies',\n",
      "  'Hamilton: An American Musical by Original Broadway Cast Recording sold 820000 copies',\n",
      "  'Blurryface by Twenty One Pilots sold 738000 copies',\n",
      "  'The Very Best of Prince by Prince sold 668000 copies',\n",
      "  'Anti by Rihanna sold 603000 copies',\n",
      "  'Purpose by Justin Bieber sold 554000 copies' ]\n"
     ]
    }
   ],
   "source": [
    "const musicData = [\n",
    "    { artist: 'Adele', name: '25', sales: 1731000 },\n",
    "    { artist: 'Drake', name: 'Views', sales: 1608000 },\n",
    "    { artist: 'Beyonce', name: 'Lemonade', sales: 1554000 },\n",
    "    { artist: 'Chris Stapleton', name: 'Traveller', sales: 1085000 },\n",
    "    { artist: 'Pentatonix', name: 'A Pentatonix Christmas', sales: 904000 },\n",
    "    { artist: 'Original Broadway Cast Recording', \n",
    "      name: 'Hamilton: An American Musical', sales: 820000 },\n",
    "    { artist: 'Twenty One Pilots', name: 'Blurryface', sales: 738000 },\n",
    "    { artist: 'Prince', name: 'The Very Best of Prince', sales: 668000 },\n",
    "    { artist: 'Rihanna', name: 'Anti', sales: 603000 },\n",
    "    { artist: 'Justin Bieber', name: 'Purpose', sales: 554000 }\n",
    "];\n",
    "\n",
    "const albumSalesStrings = musicData.map(function mstring(album){\n",
    "    return `${album.name} by ${album.artist} sold ${album.sales} copies`;\n",
    "});\n",
    "\n",
    "console.log(albumSalesStrings);"
   ]
  },
  {
   "cell_type": "markdown",
   "metadata": {},
   "source": [
    "#### `filter()`\n",
    "Array's `filter()` method is similar to the `map()` method:\n",
    "\n",
    "- It is called on an array\n",
    "- It takes a function as an argument\n",
    "- It returns a new array\n",
    "\n",
    "The difference is that the function passed to `filter()` is used as a test, and only items in the array that pass the test are included in the new array. Consider the following example:"
   ]
  },
  {
   "cell_type": "code",
   "execution_count": 267,
   "metadata": {},
   "outputs": [
    {
     "data": {
      "text/plain": [
       "[ 'David' ]"
      ]
     },
     "execution_count": 267,
     "metadata": {},
     "output_type": "execute_result"
    }
   ],
   "source": [
    "const shortNames = names.filter(function(name) {\n",
    "  return name.length < 6;\n",
    "});\n",
    "\n",
    "shortNames;"
   ]
  },
  {
   "cell_type": "markdown",
   "metadata": {},
   "source": [
    "just like with `map()`, the function that's passed to `filter()` gets called for each item in the names array. The first item (i.e., `'David'`) is stored in the `name` variable. Then the test is performed -- and this is what's doing the actual filtering. First, it checks the `length` of the `name`. If it's `6` or greater, then it's skipped (and not included in the new array!). But, if the length of the name is less than `6`, then `name.length < 6` returns `true` and the value of `name` _is_ included in the new array!\n",
    "\n",
    "And lastly, just like with `map()`, the `filter()` method returns a new array instead of modifying the original array.\n",
    "\n",
    "This was just a brief overview of how the `filter()` method works. For a deeper dive, check out [`filter()`](https://developer.mozilla.org/en-US/docs/Web/JavaScript/Reference/Global_Objects/Array/filter) on MDN."
   ]
  },
  {
   "cell_type": "code",
   "execution_count": 268,
   "metadata": {},
   "outputs": [
    {
     "data": {
      "text/plain": [
       "[ { artist: 'Pentatonix',\n",
       "    name: 'A Pentatonix Christmas',\n",
       "    sales: 904000 },\n",
       "  { artist: 'Twenty One Pilots',\n",
       "    name: 'Blurryface',\n",
       "    sales: 738000 },\n",
       "  { artist: 'Prince',\n",
       "    name: 'The Very Best of Prince',\n",
       "    sales: 668000 } ]"
      ]
     },
     "execution_count": 268,
     "metadata": {},
     "output_type": "execute_result"
    }
   ],
   "source": [
    "const results = musicData.filter( function mfilter(album){\n",
    "    return (10<=album.name.length && album.name.length<=25);\n",
    "});\n",
    "results;"
   ]
  },
  {
   "cell_type": "markdown",
   "metadata": {},
   "source": [
    "#### Further Research\n",
    "[Array Methods](https://developer.mozilla.org/en-US/docs/Web/JavaScript/Reference/Global_Objects/Array/prototype) on MDN"
   ]
  },
  {
   "cell_type": "markdown",
   "metadata": {},
   "source": [
    "## Function Scope\n",
    "A function's runtime scope describes the variables available for use inside a given function. The code inside a function has access to:\n",
    "\n",
    "1. The function's arguments.\n",
    "2. Local variables declared within the function.\n",
    "3. Variables from its parent function's scope.\n",
    "4. Global variables.\n",
    "Check out the following image that highlights a function's scope, then we'll take a look at a live example.\n",
    "\n",
    "![function-scope.png](./img/function-scope.png)\n",
    "\n",
    "<center>The nested `child()` function has access to all `a`, `b`, and `c` variables. That is, these variables are in the  `child()` function's scope.</center>"
   ]
  },
  {
   "cell_type": "markdown",
   "metadata": {},
   "source": [
    "### JavaScript is Function-Scoped\n",
    "You may be wondering why scope is so heavily associated with functions in JavaScript.\n",
    "\n",
    "This is all because variables in JavaScript are traditionally defined in the scope of a function, rather than in the scope of a block. Since entering a function will change scope, any variables defined inside that function are not available outside of that function. Inside a function, all `var` variables are in scope wether they are defined inside or outside of a block (e.g. `{ }`. If a variable is declared with `let` in a block, then that variable is not available ooutside of that block.\n",
    "\n",
    "Let's see an example of how function-scoping in JavaScript works:\n",
    "```JavaScript\n",
    "var globalNumber = 2;\n",
    "\n",
    "function globalIncrementer() {\n",
    "  globalNumber += 1;\n",
    "  const localConstNumber = 3;\n",
    "  {var blockVarNumber = 5}\n",
    "  {let blockLetNumber = 7}\n",
    "  return globalNumber\n",
    "        +localConstNumber\n",
    "        +blockVarNumber\n",
    "        +blockLetNumber;\n",
    "}\n",
    "globalIncrementer()\n",
    "\n",
    "ReferenceError: blockLetNumber is not defined\n",
    "```"
   ]
  },
  {
   "cell_type": "markdown",
   "metadata": {},
   "source": [
    "### Scope Chain\n",
    "Whenever your code attempts to access a variable during a function call, the JavaScript interpreter will always start off by looking within its own local variables. If the variable isn't found, the search will continue looking up what is called the **scope chain**. Let's now revisit the image from the beginning of this section, and visualize the entire process:\n",
    "\n",
    "![scope-chain.png](./img/scope-chain.png)\n",
    "\n",
    "<center>When resolving a variable, the JavaScript engine begins by looking at the nested child function's locally-defined variables. If found, then the value is retrieved; if not, the JavaScript engine continues to looking outward until the variable is resolved. If the JavaScript engine reaches the global scope and is still unable to resolve the variable, the variable is undefined.</center>\n",
    "\n",
    "💡 The Global `window` Object💡\n",
    "Recall that when JavaScript applications run inside a host environment (e.g., a browser), the host provides a `window` object, otherwise known as the global object. Any global variables declared are accessed as properties of this object, which represents the outermost level of the scope chain."
   ]
  },
  {
   "cell_type": "markdown",
   "metadata": {},
   "source": [
    "### Variable Shadowing\n",
    "What happens when you create a variable with the same name as another variable somewhere in the scope chain?\n",
    "\n",
    "JavaScript won't throw an error or otherwise prevent you from creating that extra variable. In fact, the variable with local scope will just temporarily \"shadow\" the variable in the outer scope. This is called variable shadowing. Consider the following example:\n",
    "```JavaScript\n",
    "const symbol = '¥';\n",
    "\n",
    "function displayPrice(price) {\n",
    "  const symbol = '$';\n",
    "  console.log(symbol + price);\n",
    "}\n",
    "\n",
    "displayPrice('80');\n",
    "// '$80'\n",
    "```\n",
    "In the above snippet, note that `symbol` is declared in two places:\n",
    "\n",
    "1. Outside the `displayPrice()` function, as a global variable.\n",
    "2. Inside the `displayPrice()` function, as a local variable.\n",
    "After invoking `displayPrice()` and passing it an argument of `'80'`, the function outputs `'$80'` to the console.\n",
    "\n",
    "How does the JavaScript interpreter know which value of symbol to use? Well, since the variable pointing to `'$'` is declared inside a function (i.e., the \"inner\" scope), it will override any variables of the same name that belong in an outer scope -- such as the global variable pointing to `'¥'`. As a result, `'$80'` is displayed rather than `'¥80'`.\n",
    "\n",
    "All in all, if there are any naming overlaps between variables in different contexts, they are all resolved by moving through the scope chain from inner to outer scopes (i.e., local all the way to global). This way, any local variables that have the same name take precedence over those with a wider scope."
   ]
  },
  {
   "cell_type": "markdown",
   "metadata": {},
   "source": [
    "In this section, we've seen quite a few examples of a nested function being able to access variables declared in its parent function's scope (i.e., in the scope in which that function was nested). These functions, combined with the lexical environment in which it was declared, actually have a very particular name: **closure**. Closures are very closely related to scope in JavaScript, and lead to some powerful and useful applications. We'll take a look at closures in detail next!"
   ]
  },
  {
   "cell_type": "markdown",
   "metadata": {},
   "source": [
    "### Closures\n",
    "#### Functions Retain Their Scope\n",
    "Variable identifier lookup and the scope chain are really powerful tools for a function to access identifiers in the code. In fact, this lets you do something really interesting: create a function now, package it up with some variables, and save it to run later. If you have five buttons on the screen, you could write five different click handler functions, or you could use the same code five times with different saved values.\n",
    "\n",
    "Let's check out an example of a function retaining access to its scope. Consider the `remember()` function below:"
   ]
  },
  {
   "cell_type": "code",
   "execution_count": 269,
   "metadata": {},
   "outputs": [
    {
     "name": "stdout",
     "output_type": "stream",
     "text": [
      "16\n",
      "23\n"
     ]
    }
   ],
   "source": [
    "let globalNumber = 1\n",
    "function remember(paramNumberOld) {\n",
    "    let localNumber = globalNumber;\n",
    "    globalNumber += localNumber;\n",
    "    \n",
    "    function summarise(paramNumberNew) {\n",
    "        return globalNumber\n",
    "              +localNumber\n",
    "              +paramNumberOld\n",
    "              +paramNumberNew;\n",
    "    }\n",
    "    return summarise;\n",
    "}\n",
    "\n",
    "// globalNumber is not stored in the closure\n",
    "const returnedFunction1 = remember(3);\n",
    "// now globalNumber=2\n",
    "const returnedFunction2 = remember(5);\n",
    "// now globalNumber=4\n",
    "\n",
    "globalNumber += 1;\n",
    "// now globalNumber=5\n",
    "\n",
    "// returnedFunction1 remembers localNumber=1 and paramNumberOld=3\n",
    "console.log( returnedFunction1(7) ); // 5 + 1 + 3 + 7 = 16\n",
    "// returnedFunction2 remembers localNumber=2 and paramNumberOld=5\n",
    "console.log( returnedFunction2(11) );// 5 + 2 + 5 + 11 = 23"
   ]
  },
  {
   "cell_type": "markdown",
   "metadata": {},
   "source": [
    "`globalNumber` is a variable defined outside a function, hence it's a global variable in the global scope. In other words, `globalNumber` is available for all functions to use.\n",
    "\n",
    "But let's look closely at the other variable: `localNumber`. It is referenced by `summarise()`, even though it wasn't declared within `summarise()`! This is possible because a nested function's scope includes variables declared in the scope where the function is nested (i.e., variables from its parent function's scope, where the function is defined).\n",
    "\n",
    "When the Javascript engine enters `remember()`, it creates a new execution scope that points back to the prior execution scope. This new scope includes a reference to the `paramNumberOld` parameter (an immutable Number with the value `3`). When the engine reaches the inner function (a function expression), it attaches a link to the current execution scope.\n",
    "\n",
    "This process of a function retaining access to its scope is called a **closure**. In this example, the inner function \"closes over\" number. A closure can capture any number of parameters and variables that it needs. MDN defines a closure as:\n",
    "\n",
    "    \"the combination of a function and the lexical environment within which that function was declared.\"\n",
    "\n",
    "This definition might not make a lot of sense if you don't know what the words \"lexical environment\" mean. The ES5 spec refers to a lexical environment as:\n",
    "\n",
    "    \"the association of Identifiers to specific variables and functions based upon the lexical nesting structure of ECMAScript code.\"\n",
    "\n",
    "In this case, the \"lexical environment\" refers the code as it was written in the JavaScript file. As such, a closure is:\n",
    "\n",
    "- The function itself, and\n",
    "- The code (but more importantly, the scope chain of) where the function is declared\n",
    "\n",
    "When a function is declared, it locks onto the scope chain. You might think this is pretty straightforward since we just looked at that in the previous section. What's really interesting about a function, though, is that it will retain this scope chain -- even if it is invoked in a location other than where it was declared. This is all due to the closure!\n",
    "\n",
    "As it turns out, the `summarise()` function and its lexical environment form a closure. This way, `summarise()` has access to not only the global variable `globalNumber`, but also the variable `localNumber`, which was declared in the scope of its parent function, `remember()`.\n",
    "\n",
    "After `remember(3)` is executed and returned, how is the returned function still able to access `paramNumberOld`'s value (i.e., `3`) and the actual value of `globalNumber`? In this section, we'll investigate how closures allow us to *store a snapshot of state* at the time the function object is created."
   ]
  },
  {
   "cell_type": "markdown",
   "metadata": {},
   "source": [
    "### Creating a Closure\n",
    "Every time a function is defined, closure is created for that function. Strictly speaking, then, *every* function has closure! This is because functions close over at least one other context along the scope chain: the global scope. However, the capabilities of closures really shine when working with a nested function (i.e., a function defined within another function).\n",
    "\n",
    "Recall that a nested function has access to variables outside of it. From what we have learned about the scope chain, this includes the variables from the outer, enclosing function itself (i.e., the parent function)! These nested functions close over (i.e., *capture*) variables that aren't passed in as arguments nor defined locally, otherwise known as **free variables**.\n",
    "\n",
    "As we saw with the `remember()` function earlier, it is important to note that a function maintains a reference to its parent's scope. If the reference to the function is still accessible, the scope persists!\n",
    "\n",
    "The following `myCounter()` function uses a closure to create a private state. The returned function has a private, but mutable state because it closes over the `count` variable."
   ]
  },
  {
   "cell_type": "code",
   "execution_count": 270,
   "metadata": {},
   "outputs": [],
   "source": [
    "let globalCount = 10;\n",
    "function myCounter() {\n",
    "  let count = 0;\n",
    "\n",
    "  return function () {\n",
    "    globalCount += 1;\n",
    "    count += 1;\n",
    "    console.log(count, globalCount);\n",
    "  };\n",
    "}\n",
    "\n",
    "let counter1 = myCounter();\n",
    "let counter2 = myCounter();"
   ]
  },
  {
   "cell_type": "code",
   "execution_count": 271,
   "metadata": {},
   "outputs": [
    {
     "name": "stdout",
     "output_type": "stream",
     "text": [
      "1 11\n",
      "2 12\n"
     ]
    }
   ],
   "source": [
    "counter1();\n",
    "counter1();"
   ]
  },
  {
   "cell_type": "code",
   "execution_count": 272,
   "metadata": {},
   "outputs": [
    {
     "name": "stdout",
     "output_type": "stream",
     "text": [
      "1 13\n",
      "2 14\n"
     ]
    }
   ],
   "source": [
    "counter2();\n",
    "counter2();"
   ]
  },
  {
   "cell_type": "markdown",
   "metadata": {},
   "source": [
    "Since `count` is keep incrementing that proves that the value is retained betwen calls and also can be modified. Having different counts for `counter1()` and `counter2()` proves, that they point to two different closures.\n",
    "Having the `globalCount` incremented at each `counter*()` call proves, that tha same global variable is accessed every time.\n",
    "\n",
    "Let's try to access `count`:"
   ]
  },
  {
   "cell_type": "code",
   "execution_count": 273,
   "metadata": {},
   "outputs": [],
   "source": [
    "counter1.count\n",
    "// undefined"
   ]
  },
  {
   "cell_type": "markdown",
   "metadata": {},
   "source": [
    "The result is `undefined`, that proves, that the `count` variable is not accessible from outside - it is private."
   ]
  },
  {
   "cell_type": "markdown",
   "metadata": {},
   "source": [
    "### Garbage Collection\n",
    "JavaScript manages memory with automatic **garbage collection**. This means that when data is no longer referable (i.e., there are no remaining references to that data available for executable code), it is \"garbage collected\" and will be destroyed at some later point in time. This frees up the resources (i.e., computer memory) that the data had once occupied, making those resources available for re-use.\n",
    "\n",
    "Let's look at garbage collection in the context of *closures*. We know that the variables of a parent function are accessible to the nested, inner function. If the nested function captures and uses its parent's variables (or variables along the scope chain, such as its parent's parent's variables), those variables will stay in memory as long as the functions that utilize them can still be referenced.\n",
    "\n",
    "As such, referenceable variables in JavaScript are not garbage collected!\n",
    "\n",
    "In the previous `myCounter()` example the existence of the nested function keeps the `count` variable from being available for garbage collection, therefore `count` remains available for future access. After all, a given function (and its scope) does not end when the function is returned."
   ]
  },
  {
   "cell_type": "markdown",
   "metadata": {},
   "source": [
    "**Further Research**\n",
    "- [Memory Management](https://developer.mozilla.org/en-US/docs/Web/JavaScript/Memory_Management) on MDN\n",
    "- [Closures](https://developer.mozilla.org/en-US/docs/Web/JavaScript/Closures) on MDN\n",
    "- [Lexical Environments](http://es5.github.io/#x10.2) in the ES5 spec"
   ]
  },
  {
   "cell_type": "markdown",
   "metadata": {},
   "source": [
    "### Function Declarations vs. Function Expressions\n",
    "A function declaration defines a function and does not require a variable to be assigned to it. It simply declares a function, and doesn't itself return a value. Here's an example:\n",
    "```JavaScript\n",
    "function returnHello() {\n",
    "  return 'Hello!';\n",
    "}\n",
    "```\n",
    "\n",
    "On the other hand, a function *expression* does return a value. Function expressions can be anonymous or named, and are part of another expression's syntax. They're commonly assigned to variables, as well. Here's the same function as a function expression:\n",
    "```JavaScript\n",
    "// anonymous\n",
    "const myFunction = function () {\n",
    "  return 'Hello!';\n",
    "};\n",
    "\n",
    "// named\n",
    "const myFunction = function returnHello() {\n",
    "  return 'Hello!';\n",
    "};\n",
    "```"
   ]
  },
  {
   "cell_type": "markdown",
   "metadata": {},
   "source": [
    "### Immediately-Invoked Function Expressions: Structure and Syntax\n",
    "An immediately-invoked function expression, or IIFE (pronounced iffy), is a function that is called immediately after it is defined. Check out the following example:\n",
    "```JavaScript\n",
    "(function sayHi(){\n",
    "    alert('Hi there!');\n",
    " }\n",
    ")();\n",
    "\n",
    "// alerts 'Hi there!'\n",
    "```\n",
    "The syntax might seem a bit odd, but all we're doing is wrapping a function in parentheses, then adding a pair of parentheses at the end of that to invoke it!\n",
    "\n",
    "There is another way we can write this to achieve the same results! The first set of parentheses can wrap around the entire expression. That is, we can move the first closing parenthesis to the very end:\n",
    "```JavaScript\n",
    "(function sayHi(){\n",
    "   alert('Hi there!');\n",
    "}());\n",
    "\n",
    "// alerts 'Hi there!'\n",
    "```\n",
    "Again, using either approach will still produce the same result: alerting `'Hi there!'` in the browser.\n",
    "\n",
    "Now, when would you choose one form over the other? Much of this is a stylistic choice; there is no \"correct\" way of auto-executing an anonymous function. Both are valid approaches for achieving the same result, and the JavaScript engine will still parse them each as a function expression (i.e., rather than as a function declaration)."
   ]
  },
  {
   "cell_type": "markdown",
   "metadata": {},
   "source": [
    "#### Passing Arguments into IIFE's\n",
    "Let's look into how we can go about passing arguments into IIFE's. Consider the following example of an anonymous function expression that takes in a single argument:\n",
    "```JavaScript\n",
    "(function (name){\n",
    "    alert(`Hi, ${name}`);\n",
    " }\n",
    ")('Andrew');\n",
    "\n",
    "// alerts 'Hi, Andrew'\n",
    "```\n",
    "The second pair of parentheses not only immediately executes the function preceding it -- it's also the place to put any arguments that the function may need! We pass in the string `'Andrew'`, which is stored in the function expression's name variable. It is then immediately invoked, alerting the message `'Hi, Andrew'` onto the screen.\n",
    "\n",
    "Here's another example of an IIFE, this time taking two arguments and returning their product:\n",
    "```JavaScript\n",
    "(function (x, y){\n",
    "    console.log(x * y);\n",
    "  }\n",
    ")(2, 3);\n",
    "\n",
    "// 6\n",
    "```\n",
    "Again -- the arguments passed into the anonymous function (i.e., `2` and `3`) belong in trailing set of parentheses."
   ]
  },
  {
   "cell_type": "code",
   "execution_count": 274,
   "metadata": {},
   "outputs": [
    {
     "name": "stdout",
     "output_type": "stream",
     "text": [
      "6\n"
     ]
    }
   ],
   "source": [
    "(function (x, y){\n",
    "    console.log(x * y);\n",
    "  }\n",
    ")(2, 3);"
   ]
  },
  {
   "cell_type": "markdown",
   "metadata": {},
   "source": [
    "#### IIFE's and Private Scope\n",
    "One of the primary uses for IIFE's is to create *private scope* (i.e., private state). Recall that variables in JavaScript are traditionally scoped to a function. Knowing this, we can leverage the behavior of closures to protect variables or methods from being accessed! Consider the following example of a simple closure within an IIFE, referenced by `myFunction`:\n",
    "```JavaScript\n",
    "const myFunction = (\n",
    "  function () {\n",
    "    const hi = 'Hi!';\n",
    "    return function () {\n",
    "      console.log(hi);\n",
    "    }\n",
    "  }\n",
    ")();\n",
    "```\n",
    "Let's break `myFunction` down and review the individual parts that make it up:\n",
    "\n",
    "![iife-with-a-closure.png](./img/iife-with-a-closure.png)\n",
    "\n",
    "Above an immediately-invoked function expression is used to immediately run a function. This function runs and returns an anonymous function that is stored in the `myFunction` variable.\n",
    "\n",
    "Note that the function that is being returned closes over (i.e., captures) the `hi` variable. This allows `myFunction` to maintain a private, mutable state that cannot be accessed outside the function! What's more: because the function expressed is called immediately, the IIFE wraps up the code nicely so that we don't pollute the global scope.\n",
    "\n",
    "If any of this sounds familiar -- it's because IIFE's are very closely related to everything you've learned about scope and closures!"
   ]
  },
  {
   "cell_type": "markdown",
   "metadata": {},
   "source": [
    "#### IIFE's, Private Scope, and Event Handling\n",
    "Let's check out another example of an immediately-invoked function expression -- this time in the context of handling an event. Say that we want to create a button on a page that alerts the user on every other click. One way to begin doing this would be to keep track of the number of times that the button was clicked. But how should we maintain this data?\n",
    "\n",
    "We could keep track of the count with a variable that we declare in the global scope (this would make sense if other parts of the application need access to the count data). However, an even better approach would be to enclose this data in *event handler* itself!\n",
    "\n",
    "For one, this approach prevents us from polluting the global with extra variables (and potentially variable name collisions). What's more: if we use an IIFE, we can leverage a *closure* to protect the `count` variable from being accessed externally! This prevents any accidental mutations or unwanted side-effects from inadvertently altering the count.\n",
    "\n",
    "To begin, let's first create an HTML file containing a single button:\n",
    "```HTML\n",
    "<!-- button.html -->\n",
    "<html>\n",
    "  <body>\n",
    "     <button id='button'>Click me!</button>\n",
    "     <script src='button.js'></script>\n",
    "  </body>\n",
    "</html>\n",
    "```\n",
    "No surprises here -- just a `<button>` tag with ID of `'button'`. We also reference a `button.js` file that we're now going to build. Within that file, let's retrieve a reference to that element via its ID, then save that reference to a variable, `button`:\n",
    "```JavaScript\n",
    "// button.js\n",
    "const button = document.getElementById('button');\n",
    "```\n",
    "Next, we'll add an event listener to `button`, and listen for a `'click'` event. Then, we'll pass in an IIFE as the second argument:\n",
    "```JavaScript\n",
    "// button.js\n",
    "button.addEventListener('click', (function() {\n",
    "  let count = 0;\n",
    "\n",
    "  return function() {\n",
    "    count = 1 - count;\n",
    "    if (count === 1) {\n",
    "      alert('This alert appears at every other press!');\n",
    "    }\n",
    "  };\n",
    "})());\n",
    "```\n",
    "First, we declare a local variable, `count`, which is initially set to 0. We then return a function from that function. The returned function alternates `count` between `0` and `1` and alerts the user `count` equals `1`.\n",
    "\n",
    "What is important to note is that the returned function closes over the `count` variable. That is, because a function maintains a reference to its parent's scope, `count` is available for the returned function to use! As a result, we immediately invoke a function that returns that function. And since the returned function has access to the internal variable, `count`, a **private scope** is created -- effectively protecting the data!\n",
    "\n",
    "Containing `count` in a closure allows us to retain the data between each click."
   ]
  },
  {
   "cell_type": "markdown",
   "metadata": {},
   "source": [
    "#### Benefits of Immediately-Invoked Function Expressions\n",
    "We've seen how using an immediately-invoked function expression creates a private scope that protects variables or methods from being accessed. IIFE's ultimately use the returned functions to access private data within the closure. This works out very well: while these returned functions are publicly-accessible, they still maintain privacy for the variables defined within them!\n",
    "\n",
    "Another great opportunity to use an IFFE is when you want to execute some code without creating extra global variables. However, note that an IIFE is only intended to be invoked once, to create a unique execution context. If you have some code that is expected to be re-used (e.g., a function meant to be executed more than once in the application), declaring the function and then invoking it might be a better option.\n",
    "\n",
    "All in all, if you simply have a one-time task (e.g., initializing an application), an IIFE is a great way to get something done without polluting the global environment with extra variables. Cleaning up the global namespace decreases the chance of collisions with duplicate variable names, after all."
   ]
  },
  {
   "cell_type": "markdown",
   "metadata": {},
   "source": [
    "#### Further Research\n",
    "- [Function Declarations vs. Function Expressions](https://javascriptweblog.wordpress.com/2010/07/06/function-declarations-vs-function-expressions/)\n",
    "- [An Introduction to IIFEs - Immediately Invoked Function Expressions](http://adripofjavascript.com/blog/drips/an-introduction-to-iffes-immediately-invoked-function-expressions.html) on A Drip of JavaScript\n",
    "- [Immediately-Invoked Function Expression (IIFE)](http://benalman.com/news/2010/11/immediately-invoked-function-expression/) by Ben Alman\n",
    "- Addy Osmani's [Learning JavaScript Design Patterns](https://addyosmani.com/resources/essentialjsdesignpatterns/book/)"
   ]
  },
  {
   "cell_type": "markdown",
   "metadata": {},
   "source": [
    "## Constructor Functions\n",
    "Previously, we have created objects using the object literal notation. Likewise, we can even write functions that *return* objects. There is yet another way for us to create objects, and it is the foundation of object-oriented JavaScript: the **constructor function**. We saw a bit of it back when invoked the `Object()` constructor function.\n",
    "\n",
    "To instantiate (i.e., create) a new object, we use the `new` operator to invoke the function:\n",
    "```JavaScript\n",
    "new SoftwareDeveloper();\n",
    "```\n",
    "The first thing to note above is the use of the `new` keyword. Second, note that the name of the constructor function, `SoftwareDeveloper()`, is written with the first letter capitalized to visually distinguish it from a regular function.\n",
    "\n",
    "Keep in mind that even though the function's name starts with a capital, that doesn't *automatically* make this a constructor function (i.e., though developers name constructor functions in CamelCase by convention, it is not enforced by the language). What does make `SoftwareDeveloper()` a constructor function are:\n",
    "\n",
    "- The use of the `new` operator to invoke the function\n",
    "- How the function is coded internally\n",
    "\n",
    "### Constructor Functions: Structure and Syntax\n",
    "This is what the internals of a constructor function looks like:"
   ]
  },
  {
   "cell_type": "code",
   "execution_count": 275,
   "metadata": {},
   "outputs": [],
   "source": [
    "function SoftwareDeveloper(language) {\n",
    "  this.favoriteLanguage = language;\n",
    "}"
   ]
  },
  {
   "cell_type": "markdown",
   "metadata": {},
   "source": [
    "This might seem a bit different than the functions you've written up to this point, so let's break it down!\n",
    "\n",
    "First, rather than declaring local variables, constructor functions persist data with the `this` keyword. The above function will add a `favoriteLanguage` property to **any object** that it creates, and assigns it a default value of `'JavaScript'`. Don't worry too much about `this` in a constructor function for now; just know that `this` refers to the new object that was created by using the `new` keyword in front of the constructor function.\n",
    "\n",
    "One last thing that might seem unusual is that this function doesn't seem to return anything! Constructor functions in JavaScript should not have an explicit return value (i.e., there should *not* be `return` statement).\n",
    "### Creating a New Object\n",
    "As we've seen above, let's use the `new` operator to create a new object:"
   ]
  },
  {
   "cell_type": "code",
   "execution_count": 276,
   "metadata": {},
   "outputs": [
    {
     "data": {
      "text/plain": [
       "SoftwareDeveloper { favoriteLanguage: 'JavaScript' }"
      ]
     },
     "execution_count": 276,
     "metadata": {},
     "output_type": "execute_result"
    }
   ],
   "source": [
    "let developer = new SoftwareDeveloper('JavaScript');\n",
    "developer;"
   ]
  },
  {
   "cell_type": "markdown",
   "metadata": {},
   "source": [
    "We've saved the return value of this invocation to the variable `developer`. Observe that the constructor function name precedes the object itself ( before the `{...}` )\n",
    "\n",
    "Let's write out an other developer object manually:"
   ]
  },
  {
   "cell_type": "code",
   "execution_count": 277,
   "metadata": {},
   "outputs": [
    {
     "data": {
      "text/plain": [
       "{ favoriteLanguage: 'JavaScript' }"
      ]
     },
     "execution_count": 277,
     "metadata": {},
     "output_type": "execute_result"
    }
   ],
   "source": [
    "let otherDeveloper = { favoriteLanguage: 'JavaScript' };\n",
    "otherDeveloper"
   ]
  },
  {
   "cell_type": "markdown",
   "metadata": {},
   "source": [
    "Observe, that no name is printed before `{...}`\n",
    "\n",
    "We can directly access the constractor function via `.constructor` attribute:"
   ]
  },
  {
   "cell_type": "code",
   "execution_count": 278,
   "metadata": {},
   "outputs": [
    {
     "data": {
      "text/plain": [
       "[Function: SoftwareDeveloper]"
      ]
     },
     "execution_count": 278,
     "metadata": {},
     "output_type": "execute_result"
    }
   ],
   "source": [
    "developer.constructor;"
   ]
  },
  {
   "cell_type": "markdown",
   "metadata": {},
   "source": [
    "The manually created object has the default `Object()` constructor function:"
   ]
  },
  {
   "cell_type": "code",
   "execution_count": 279,
   "metadata": {},
   "outputs": [
    {
     "data": {
      "text/plain": [
       "[Function: Object]"
      ]
     },
     "execution_count": 279,
     "metadata": {},
     "output_type": "execute_result"
    }
   ],
   "source": [
    "otherDeveloper.constructor;"
   ]
  },
  {
   "cell_type": "markdown",
   "metadata": {},
   "source": [
    "### Creating Multiple Objects\n",
    "What's more: we can even use the same constructor function to create as many objects as we'd like!\n",
    "\n",
    "Let's invoke the same `SoftwareDeveloper()` constructor two more times to instantiate two additional objects: `engineer` and `programmer`."
   ]
  },
  {
   "cell_type": "code",
   "execution_count": 280,
   "metadata": {},
   "outputs": [
    {
     "name": "stdout",
     "output_type": "stream",
     "text": [
      "SoftwareDeveloper { favoriteLanguage: 'Python' }\n",
      "SoftwareDeveloper { favoriteLanguage: 'Julia' }\n"
     ]
    }
   ],
   "source": [
    "let engineer = new SoftwareDeveloper('Python');\n",
    "let programmer = new SoftwareDeveloper('Julia');\n",
    "\n",
    "console.log(engineer);\n",
    "// SoftwareDeveloper { favoriteLanguage: 'Python' }\n",
    "\n",
    "console.log(programmer);\n",
    "// SoftwareDeveloper { favoriteLanguage: 'Julia' }"
   ]
  },
  {
   "cell_type": "markdown",
   "metadata": {},
   "source": [
    "### Constructor Functions Can Have Parameters\n",
    "Just like regular functions, one benefit of using constructor functions is that they can also accept arguments. Let's update the constructor above to accept a single argument, and assign the `name` property to it:"
   ]
  },
  {
   "cell_type": "code",
   "execution_count": 281,
   "metadata": {},
   "outputs": [],
   "source": [
    "function SoftwareDeveloper(name) {\n",
    "  this.favoriteLanguage = 'JavaScript';\n",
    "  this.name = name;\n",
    "  this.introduce = function (){\n",
    "      console.log(`Hi, my name is ${this.name} and I like ${this.favoriteLanguage}`)\n",
    "  }\n",
    "}"
   ]
  },
  {
   "cell_type": "markdown",
   "metadata": {},
   "source": [
    "In the updated `SoftwareDeveloper()` function, whatever value is passed into the function will be the value of the object's name property."
   ]
  },
  {
   "cell_type": "code",
   "execution_count": 282,
   "metadata": {},
   "outputs": [
    {
     "data": {
      "text/plain": [
       "SoftwareDeveloper {\n",
       "  favoriteLanguage: 'JavaScript',\n",
       "  name: 'Andrew',\n",
       "  introduce: [Function] }"
      ]
     },
     "execution_count": 282,
     "metadata": {},
     "output_type": "execute_result"
    }
   ],
   "source": [
    "let instructor = new SoftwareDeveloper('Andrew');\n",
    "instructor;"
   ]
  },
  {
   "cell_type": "markdown",
   "metadata": {},
   "source": [
    "As we've seen above, we can create different objects using the same constructor. Let's call the same constructor function but pass a different argument this time:"
   ]
  },
  {
   "cell_type": "code",
   "execution_count": 283,
   "metadata": {},
   "outputs": [
    {
     "data": {
      "text/plain": [
       "SoftwareDeveloper {\n",
       "  favoriteLanguage: 'JavaScript',\n",
       "  name: 'Richard',\n",
       "  introduce: [Function] }"
      ]
     },
     "execution_count": 283,
     "metadata": {},
     "output_type": "execute_result"
    }
   ],
   "source": [
    "let teacher = new SoftwareDeveloper('Richard');\n",
    "teacher;"
   ]
  },
  {
   "cell_type": "markdown",
   "metadata": {},
   "source": [
    "Just to recap: above, we passed the string `'Richard'` into the `SoftwareDeveloper()` constructor function, then instantiated a new object. `'Richard'` then became the value of the `name` property in the `teacher` object."
   ]
  },
  {
   "cell_type": "code",
   "execution_count": 284,
   "metadata": {},
   "outputs": [
    {
     "name": "stdout",
     "output_type": "stream",
     "text": [
      "Hi, my name is Richard and I like JavaScript\n"
     ]
    }
   ],
   "source": [
    "teacher.introduce();"
   ]
  },
  {
   "cell_type": "markdown",
   "metadata": {},
   "source": [
    "### Omitting the new Operator ⚠️\n",
    "What happens if you inadvertently invoke a constructor function without using the `new` operator?"
   ]
  },
  {
   "cell_type": "code",
   "execution_count": 285,
   "metadata": {},
   "outputs": [
    {
     "name": "stdout",
     "output_type": "stream",
     "text": [
      "undefined\n"
     ]
    }
   ],
   "source": [
    "let coder = SoftwareDeveloper('David');\n",
    "console.log(coder);"
   ]
  },
  {
   "cell_type": "markdown",
   "metadata": {},
   "source": [
    "Without using the `new` operator, no object was created. The function was invoked just like any other regular function. Since the function doesn't return anything (except `undefined`, which all functions return by default), the `coder` variable ended up being assigned to `undefined`.\n",
    "\n",
    "One more thing to note: since this function was invoked as a regular function, the value of `this` is also drastically different. "
   ]
  },
  {
   "cell_type": "markdown",
   "metadata": {},
   "source": [
    "### Seeing the Object's Constructor (`instanceof`)\n",
    "What if we want to see if an object was created with a constructor function in the first place? We can use the `instanceof` (which returns a `boolean`) to give us some insigh."
   ]
  },
  {
   "cell_type": "code",
   "execution_count": 286,
   "metadata": {},
   "outputs": [
    {
     "data": {
      "text/plain": [
       "'object'"
      ]
     },
     "execution_count": 286,
     "metadata": {},
     "output_type": "execute_result"
    }
   ],
   "source": [
    "typeof teacher;"
   ]
  },
  {
   "cell_type": "code",
   "execution_count": 287,
   "metadata": {},
   "outputs": [
    {
     "data": {
      "text/plain": [
       "true"
      ]
     },
     "execution_count": 287,
     "metadata": {},
     "output_type": "execute_result"
    }
   ],
   "source": [
    "teacher instanceof SoftwareDeveloper;"
   ]
  },
  {
   "cell_type": "markdown",
   "metadata": {},
   "source": [
    "#### 💡 `instanceof` and the Prototype Chain 💡\n",
    "In the above example, `instanceof` confirmed that a specific constructor function did in fact create a specific object. We know this because we directly instantiated the `teacher` object after invoking the `SoftwareDeveloper()` constructor function.\n",
    "\n",
    "Many times, however, it's a bit more complex: the `instanceof` operator actually tests whether or not that constructor appears in the *prototype chain* of an object. This means that we can't always check exactly which constructor created that object, but it does give us insight as to what other properties and methods an object may have access to.\n",
    "\n",
    "**Further Research**\n",
    "- [The new operator](https://developer.mozilla.org/en-US/docs/Web/JavaScript/Reference/Operators/new) on MDN\n",
    "- [The instanceof operator](https://developer.mozilla.org/en-US/docs/Web/JavaScript/Reference/Operators/instanceof) on MDN"
   ]
  },
  {
   "cell_type": "markdown",
   "metadata": {},
   "source": [
    "### The `this` Keyword\n",
    "#### this in Constructor Functions\n",
    "In the previous section, we saw `this` right inside a constructor function. Here's another example:\n",
    "```JavaScript\n",
    "function Cat(name) {\n",
    " this.name = name;\n",
    " this.sayName = function () {\n",
    "   console.log(`Meow! My name is ${this.name}`);\n",
    " };\n",
    "}\n",
    "const bailey = new Cat('Bailey');\n",
    "```\n",
    "In the above `Cat()` constructor, the function that `sayName` references `this.name`. Earlier, we saw `this` used in methods. But in `Cat()`'s case, what exactly does `this` refer to?\n",
    "\n",
    "As it turns out, **when invoking** a constructor function with the new operator, `this` gets set to the *newly-created object*! Let's check out what the new bailey object looks like:\n",
    "```JavaScript\n",
    "{\n",
    "  name: 'Bailey',\n",
    "  sayName: function () {\n",
    "    console.log(`Meow! My name is ${this.name}`);\n",
    "  }\n",
    "}\n",
    "```\n",
    "In the snippet above, notice that `this` is outside a constructor function (i.e., in a method). As we saw earlier, when you say `this` in a method, what you're really saying is \"this object\" or \"the object at hand.\" As a result, the `sayName()` method can use this to access the name property of that object! This makes the following method call possible:\n",
    "```JavaScript\n",
    "bailey.sayName();\n",
    "// 'Meow! My name is Bailey'\n",
    "```"
   ]
  },
  {
   "cell_type": "markdown",
   "metadata": {},
   "source": [
    "#### When is `this` Assigned?\n",
    "A common misconception is that `this` refers to the object where it is defined. This is not the case!\n",
    "\n",
    "The value of `this` is actually not assigned to anything until an object calls the method where `this` is used. In other words, the value assigned to `this` is based on the object that invokes the method where `this` is defined. Let's look at an example:\n",
    "```JavaScript\n",
    "const dog = {\n",
    "  bark: function () {\n",
    "    console.log('Woof!');\n",
    "  },\n",
    "  barkTwice: function () {\n",
    "    this.bark();\n",
    "    this.bark();\n",
    "  }\n",
    "};\n",
    "```\n",
    "Let's go ahead and invoke both of dog's methods:\n",
    "```JavaScript\n",
    "dog.bark();\n",
    "// Woof!\n",
    "\n",
    "dog.barkTwice();\n",
    "// Woof!\n",
    "// Woof!\n",
    "```\n",
    "We know that when we call `dog.bark()` (or `dog.barkTwice()`) a variable `this` gets set. Since `this` can access the object it was called on, `barkTwice` can use `this` to access the `dog` object, which contains the `bark` method.\n",
    "\n",
    "But what if we just wrote `bark()` instead of `this.bark()` in `barkTwice`? The function would have first looked for a local variable named `bark` in the scope of `barkTwice`. If `bark` isn't found, it would have looked further up the scope chain.\n",
    "\n",
    "To tie things all together: `this.bark()` tells `barkTwice` to look at `dog` -- the object that the method was called on -- to find `bark`."
   ]
  },
  {
   "cell_type": "markdown",
   "metadata": {},
   "source": [
    "#### What Does `this` Get Set To?\n",
    "At this point, we've seen `this` in many different contexts, such as within a method, or referenced by a constructor function. Let's now organize our thoughts and bring it all together!\n",
    "\n",
    "There are four ways to call functions, and each way sets `this` differently.\n",
    "\n",
    "1. calling a constructor function with the `new` keyword sets `this` to a newly-created object. Recall that creating an instance of `Cat` earlier had set this to the new `bailey` object.\n",
    "\n",
    "2. calling a function that belongs to an object (i.e., a method) sets `this` to the object itself. Recall that earlier, the dog object's `barkTwice()` method was able to access properties of dog itself.\n",
    "\n",
    "3. calling a function on its own (i.e., simply invoking a regular function) will set `this` to `window`, which is the global object if the host environment is the browser.\n",
    "\n",
    "```JavaScript\n",
    "function funFunction() {\n",
    "  return this;\n",
    "}\n",
    "\n",
    "funFunction();\n",
    "// (returns the global object, `window`)\n",
    "```\n",
    "![this-grid.png](./img/this-grid.png)\n",
    "\n",
    "<center>If a constructor function is called with the `new` operator, the value of `this` is set to the newly-created object. If a method is invoked on an object, `this` is set to that object itself. And if a function is simply invoked, this is set to the global object `window`.</center>\n",
    "\n",
    "4. There is yet one more set of ways to invoke functions: with `apply()`, and with `call()`. Both methods share quite a few similarities, and they each allow us to specify how we want to set `this`. See it in next section.\n",
    "\n",
    "**Further Research**\n",
    "- [The `this` operator](https://developer.mozilla.org/en-US/docs/Web/JavaScript/Reference/Operators/this) on MDN"
   ]
  },
  {
   "cell_type": "markdown",
   "metadata": {},
   "source": [
    "#### Setting Our Own `this`\n",
    "JavaScript provides three methods that allow us to set the value of `this` for a given function:\n",
    "\n",
    "- `call()` invokes the function and has arguments passed in individually, separated by commas.\n",
    "- `apply()` is similar to `call()`, it invokes the function just the same, but arguments are passed in as an *array*.\n",
    "- `bind()` returns a new function with this bound to a specific object, allowing us to call it as a regular function."
   ]
  },
  {
   "cell_type": "markdown",
   "metadata": {},
   "source": [
    "#### `call()` and `apply()`\n",
    "`call()` and `apply()` are methods directly invoked onto a function. We first pass into it a single value to set as the value of `this`. Then, for `call()` we pass in any of the receiving function's arguments one-by-one, separated by commas; or for `apply()` the receiving function's arguments in an *array*.\n",
    "\n",
    "Consider the following function, `multiply()`, which simply returns the product of its two arguments:"
   ]
  },
  {
   "cell_type": "code",
   "execution_count": 288,
   "metadata": {},
   "outputs": [
    {
     "data": {
      "text/plain": [
       "Object [global] {\n",
       "  DTRACE_NET_SERVER_CONNECTION: [Function],\n",
       "  DTRACE_NET_STREAM_END: [Function],\n",
       "  DTRACE_HTTP_SERVER_REQUEST: [Function],\n",
       "  DTRACE_HTTP_SERVER_RESPONSE: [Function],\n",
       "  DTRACE_HTTP_CLIENT_REQUEST: [Function],\n",
       "  DTRACE_HTTP_CLIENT_RESPONSE: [Function],\n",
       "  COUNTER_NET_SERVER_CONNECTION: [Function],\n",
       "  COUNTER_NET_SERVER_CONNECTION_CLOSE: [Function],\n",
       "  COUNTER_HTTP_SERVER_REQUEST: [Function],\n",
       "  COUNTER_HTTP_SERVER_RESPONSE: [Function],\n",
       "  COUNTER_HTTP_CLIENT_REQUEST: [Function],\n",
       "  COUNTER_HTTP_CLIENT_RESPONSE: [Function],\n",
       "  global: [Circular],\n",
       "  process:\n",
       "   process {\n",
       "     title: 'Jupyter Learning',\n",
       "     version: 'v10.13.0',\n",
       "     versions:\n",
       "      { http_parser: '2.8.0',\n",
       "        node: '10.13.0',\n",
       "        v8: '6.8.275.32-node.36',\n",
       "        uv: '1.23.2',\n",
       "        zlib: '1.2.11',\n",
       "        ares: '1.14.0',\n",
       "        modules: '64',\n",
       "        nghttp2: '1.34.0',\n",
       "        napi: '3',\n",
       "        openssl: '1.1.0i',\n",
       "        icu: '62.1',\n",
       "        unicode: '11.0',\n",
       "        cldr: '33.1',\n",
       "        tz: '2018e' },\n",
       "     arch: 'x64',\n",
       "     platform: 'win32',\n",
       "     release:\n",
       "      { name: 'node',\n",
       "        lts: 'Dubnium',\n",
       "        sourceUrl:\n",
       "         'https://nodejs.org/download/release/v10.13.0/node-v10.13.0.tar.gz',\n",
       "        headersUrl:\n",
       "         'https://nodejs.org/download/release/v10.13.0/node-v10.13.0-headers.tar.gz',\n",
       "        libUrl:\n",
       "         'https://nodejs.org/download/release/v10.13.0/win-x64/node.lib' },\n",
       "     argv: [ 'C:\\\\ProgramData\\\\Anaconda3\\\\node.exe' ],\n",
       "     execArgv:\n",
       "      [ '--eval',\n",
       "        '(function() {\\n/*\\n * BSD 3-Clause License\\n *\\n * Copyright (c) 2018, Nicolas Riesco and others as credited in the AUTHORS file\\n * All rights reserved.\\n *\\n * Redistribution and use in source and binary forms, with or without\\n * modification, are permitted provided that the following conditions are met:\\n *\\n * 1. Redistributions of source code must retain the above copyright notice,\\n * this list of conditions and the following disclaimer.\\n *\\n * 2. Redistributions in binary form must reproduce the above copyright notice,\\n * this list of conditions and the following disclaimer in the documentation\\n * and/or other materials provided with the distribution.\\n *\\n * 3. Neither the name of the copyright holder nor the names of its contributors\\n * may be used to endorse or promote products derived from this software without\\n * specific prior written permission.\\n *\\n * THIS SOFTWARE IS PROVIDED BY THE COPYRIGHT HOLDERS AND CONTRIBUTORS \"AS IS\"\\n * AND ANY EXPRESS OR IMPLIED WARRANTIES, INCLUDING, BUT NOT LIMITED TO, THE\\n * IMPLIED WARRANTIES OF MERCHANTABILITY AND FITNESS FOR A PARTICULAR PURPOSE\\n * ARE DISCLAIMED. IN NO EVENT SHALL THE COPYRIGHT HOLDER OR CONTRIBUTORS BE\\n * LIABLE FOR ANY DIRECT, INDIRECT, INCIDENTAL, SPECIAL, EXEMPLARY, OR\\n * CONSEQUENTIAL DAMAGES (INCLUDING, BUT NOT LIMITED TO, PROCUREMENT OF\\n * SUBSTITUTE GOODS OR SERVICES; LOSS OF USE, DATA, OR PROFITS; OR BUSINESS\\n * INTERRUPTION) HOWEVER CAUSED AND ON ANY THEORY OF LIABILITY, WHETHER IN\\n * CONTRACT, STRICT LIABILITY, OR TORT (INCLUDING NEGLIGENCE OR OTHERWISE)\\n * ARISING IN ANY WAY OUT OF THE USE OF THIS SOFTWARE, EVEN IF ADVISED OF THE\\n * POSSIBILITY OF SUCH DAMAGE.\\n *\\n */\\n\\n/* eslint-disable no-unused-vars */\\nvar console = require(\"console\");\\nvar stream = require(\"stream\");\\nvar util = require(\"util\");\\nvar vm = require(\"vm\");\\n/* eslint-enable no-unused-vars */\\n\\n/*\\n * BSD 3-Clause License\\n *\\n * Copyright (c) 2015, Nicolas Riesco and others as credited in the AUTHORS file\\n * All rights reserved.\\n *\\n * Redistribution and use in source and binary forms, with or without\\n * modification, are permitted provided that the following conditions are met:\\n *\\n * 1. Redistributions of source code must retain the above copyright notice,\\n * this list of conditions and the following disclaimer.\\n *\\n * 2. Redistributions in binary form must reproduce the above copyright notice,\\n * this list of conditions and the following disclaimer in the documentation\\n * and/or other materials provided with the distribution.\\n *\\n * 3. Neither the name of the copyright holder nor the names of its contributors\\n * may be used to endorse or promote products derived from this software without\\n * specific prior written permission.\\n *\\n * THIS SOFTWARE IS PROVIDED BY THE COPYRIGHT HOLDERS AND CONTRIBUTORS \"AS IS\"\\n * AND ANY EXPRESS OR IMPLIED WARRANTIES, INCLUDING, BUT NOT LIMITED TO, THE\\n * IMPLIED WARRANTIES OF MERCHANTABILITY AND FITNESS FOR A PARTICULAR PURPOSE\\n * ARE DISCLAIMED. IN NO EVENT SHALL THE COPYRIGHT HOLDER OR CONTRIBUTORS BE\\n * LIABLE FOR ANY DIRECT, INDIRECT, INCIDENTAL, SPECIAL, EXEMPLARY, OR\\n * CONSEQUENTIAL DAMAGES (INCLUDING, BUT NOT LIMITED TO, PROCUREMENT OF\\n * SUBSTITUTE GOODS OR SERVICES; LOSS OF USE, DATA, OR PROFITS; OR BUSINESS\\n * INTERRUPTION) HOWEVER CAUSED AND ON ANY THEORY OF LIABILITY, WHETHER IN\\n * CONTRACT, STRICT LIABILITY, OR TORT (INCLUDING NEGLIGENCE OR OTHERWISE)\\n * ARISING IN ANY WAY OUT OF THE USE OF THIS SOFTWARE, EVEN IF ADVISED OF THE\\n * POSSIBILITY OF SUCH DAMAGE.\\n *\\n */\\n\\n/* global console */\\n/* global stream */\\n/* global util */\\n\\n/* global log */\\n/* global Display */\\n\\nfunction Stdout(id, opt) {\\n    stream.Transform.call(this, opt);\\n\\n    this._id = id;\\n}\\n\\nStdout.prototype = Object.create(stream.Transform.prototype);\\n\\nStdout.prototype._transform = function(data, encoding, callback) {\\n    var response = {\\n        id: this._id,\\n        stdout: data.toString(),\\n    };\\n    log(\"STDOUT:\", response);\\n    process.send(response);\\n    this.push(data);\\n    callback();\\n};\\n\\nfunction Stderr(id, opt) {\\n    stream.Transform.call(this, opt);\\n\\n    this._id = id;\\n}\\n\\nStderr.prototype = Object.create(stream.Transform.prototype);\\n\\nStderr.prototype._transform = function(data, encoding, callback) {\\n    var response = {\\n        id: this._id,\\n        stderr: data.toString(),\\n    };\\n    log(\"STDERR:\", response);\\n    process.send(response);\\n    this.push(data);\\n    callback();\\n};\\n\\nfunction Context(requester, id) {\\n    this.requester = requester;\\n    this.id = id;\\n\\n    this.stdout = new Stdout(this.id);\\n    this.stderr = new Stderr(this.id);\\n    this.console = new console.Console(this.stdout, this.stderr);\\n\\n    this._capturedStdout = null;\\n    this._capturedStderr = null;\\n    this._capturedConsole = null;\\n\\n    this._async = false;\\n    this._done = false;\\n\\n    // `$$` provides an interface for users to access the execution context\\n    this.$$ = Object.create(null);\\n\\n    this.$$.async = (function async(value) {\\n        this._async = (arguments.length === 0) ? true : !!value;\\n        return this._async;\\n    }).bind(this);\\n\\n    this.$$.done = (function done(result) {\\n        this.send((arguments.length === 0) ? {\\n            end: true,\\n        } : {\\n            mime: toMime(result),\\n            end: true,\\n        });\\n    }).bind(this);\\n\\n    this.$$.sendResult = resolvePromise.call(this,\\n        function sendResult(result, keepAlive) {\\n            if (keepAlive) this.$$.async();\\n\\n            this.send({\\n                mime: toMime(result),\\n                end: !keepAlive,\\n            });\\n        }\\n    );\\n\\n    this.$$.sendError = resolvePromise.call(this,\\n        function sendError(error, keepAlive) {\\n            if (keepAlive) this.$$.async();\\n\\n            this.send({\\n                error: formatError(error),\\n                end: !keepAlive,\\n            });\\n        }\\n    );\\n\\n    this.$$.mime = resolvePromise.call(this,\\n        function sendMime(mimeBundle, keepAlive) {\\n            if (keepAlive) this.$$.async();\\n\\n            this.send({\\n                mime: mimeBundle,\\n                end: !keepAlive,\\n            });\\n        }\\n    );\\n\\n    this.$$.text = resolvePromise.call(this,\\n        function sendText(text, keepAlive) {\\n            if (keepAlive) this.$$.async();\\n\\n            this.send({\\n                mime: {\\n                    \"text/plain\": text,\\n                },\\n                end: !keepAlive,\\n            });\\n        }\\n    );\\n\\n    this.$$.html = resolvePromise.call(this,\\n        function sendHtml(html, keepAlive) {\\n            if (keepAlive) this.$$.async();\\n\\n            this.send({\\n                mime: {\\n                    \"text/html\": html,\\n                },\\n                end: !keepAlive,\\n            });\\n        }\\n    );\\n\\n    this.$$.svg = resolvePromise.call(this,\\n        function sendSvg(svg, keepAlive) {\\n            if (keepAlive) this.$$.async();\\n\\n            this.send({\\n                mime: {\\n                    \"image/svg+xml\": svg,\\n                },\\n                end: !keepAlive,\\n            });\\n        }\\n    );\\n\\n    this.$$.png = resolvePromise.call(this,\\n        function sendPng(png, keepAlive) {\\n            if (keepAlive) this.$$.async();\\n\\n            this.send({\\n                mime: {\\n                    \"image/png\": png,\\n                },\\n                end: !keepAlive,\\n            });\\n        }\\n    );\\n\\n    this.$$.jpeg = resolvePromise.call(this,\\n        function sendJpeg(jpeg, keepAlive) {\\n            if (keepAlive) this.$$.async();\\n\\n            this.send({\\n                mime: {\\n                    \"image/jpeg\": jpeg,\\n                },\\n                end: !keepAlive,\\n            });\\n        }\\n    );\\n\\n    this.$$.json = resolvePromise.call(this,\\n        function sendJson(json, keepAlive) {\\n            if (keepAlive) this.$$.async();\\n\\n            this.send({\\n                mime: {\\n                    \"application/json\": json,\\n                },\\n                end: !keepAlive,\\n            });\\n        }\\n    );\\n\\n    this.$$.input = (function input(options, callback) {\\n        this.$$.async();\\n\\n        var inputRequest = {\\n            input: options,\\n        };\\n\\n        var inputCallback;\\n        if (typeof callback === \"function\") {\\n            inputCallback = function inputCallback(error, reply) {\\n                callback(error, reply.input);\\n            };\\n        }\\n\\n        var promise = this.requester.send(this, inputRequest, inputCallback);\\n        if (promise) {\\n            return promise.then(function(reply) { return reply.input; });\\n        }\\n    }).bind(this);\\n\\n    this.$$.display = (function createDisplay(id) {\\n        return (arguments.length === 0) ?\\n            new Display(this.id) :\\n            new Display(this.id, id);\\n    }).bind(this);\\n\\n    this.$$.clear = (function clear(options) {\\n        this.send({\\n            request: {\\n                clear: options || {},\\n            },\\n        });\\n    }).bind(this);\\n\\n    function isPromise(output) {\\n        if (!global.Promise || typeof global.Promise !== \"function\") {\\n            return false;\\n        }\\n        return output instanceof global.Promise;\\n    }\\n\\n    function resolvePromise(outputHandler) {\\n        return function(output, keepAlive) {\\n            if (isPromise(output)) {\\n                this.$$.async();\\n\\n                output.then(function(resolvedOutput) {\\n                    outputHandler.call(this, resolvedOutput, keepAlive);\\n                }.bind(this)).catch(function(error) {\\n                    this.send({\\n                        error: formatError(error),\\n                        end: true,\\n                    });\\n                }.bind(this));\\n\\n                return;\\n            }\\n\\n            outputHandler.apply(this, arguments);\\n        }.bind(this);\\n    }\\n}\\n\\nContext.prototype.send = function send(message) {\\n    message.id = this.id;\\n\\n    if (this._done) {\\n        log(\"SEND: DROPPED:\", message);\\n        return;\\n    }\\n\\n    if (message.end) {\\n        this._done = true;\\n        this._async = false;\\n    }\\n\\n    log(\"SEND:\", message);\\n\\n    process.send(message);\\n};\\n\\nContext.prototype.captureGlobalContext = function captureGlobalContext() {\\n    this._capturedStdout = process.stdout;\\n    this._capturedStderr = process.stderr;\\n    this._capturedConsole = console;\\n\\n    this.stdout.pipe(this._capturedStdout);\\n    this.stderr.pipe(this._capturedStderr);\\n    this.console.Console = this._capturedConsole.Console;\\n\\n    delete process.stdout;\\n    process.stdout = this.stdout;\\n\\n    delete process.stderr;\\n    process.stderr = this.stderr;\\n\\n    delete global.console;\\n    global.console = this.console;\\n\\n    delete global.$$;\\n    global.$$ = this.$$;\\n\\n    if (typeof global.$$mimer$$ !== \"function\") {\\n        global.$$mimer$$ = defaultMimer;\\n    }\\n\\n    delete global.$$mime$$;\\n    Object.defineProperty(global, \"$$mime$$\", {\\n        set: this.$$.mime,\\n        configurable: true,\\n        enumerable: false,\\n    });\\n\\n    delete global.$$html$$;\\n    Object.defineProperty(global, \"$$html$$\", {\\n        set: this.$$.html,\\n        configurable: true,\\n        enumerable: false,\\n    });\\n\\n    delete global.$$svg$$;\\n    Object.defineProperty(global, \"$$svg$$\", {\\n        set: this.$$.svg,\\n        configurable: true,\\n        enumerable: false,\\n    });\\n\\n    delete global.$$png$$;\\n    Object.defineProperty(global, \"$$png$$\", {\\n        set: this.$$.png,\\n        configurable: true,\\n        enumerable: false,\\n    });\\n\\n    delete global.$$jpeg$$;\\n    Object.defineProperty(global, \"$$jpeg$$\", {\\n        set: this.$$.jpeg,\\n        configurable: true,\\n        enumerable: false,\\n    });\\n\\n    delete global.$$async$$;\\n    Object.defineProperty(global, \"$$async$$\", {\\n        get: (function() {\\n            return this._async;\\n        }).bind(this),\\n        set: (function(value) {\\n            this._async = !!value;\\n        }).bind(this),\\n        configurable: true,\\n        enumerable: false,\\n    });\\n\\n    global.$$done$$ = this.$$.done.bind(this);\\n\\n    if (!global.hasOwnProperty(\"$$defaultMimer$$\")) {\\n        Object.defineProperty(global, \"$$defaultMimer$$\", {\\n            value: defaultMimer,\\n            configurable: false,\\n            writable: false,\\n            enumerable: false,\\n        });\\n    }\\n};\\n\\nContext.prototype.releaseGlobalContext = function releaseGlobalContext() {\\n    if (process.stdout === this.stdout) {\\n        this.stdout.unpipe();\\n\\n        delete process.stdout;\\n        process.stdout = this._capturedStdout;\\n\\n        this._capturedStdout = null;\\n    }\\n\\n    if (process.stderr === this.stderr) {\\n        this.stderr.unpipe();\\n\\n        delete process.stderr;\\n        process.stderr = this._capturedStderr;\\n\\n        this._capturedStderr = null;\\n    }\\n\\n    if (global.console === this.console) {\\n        delete global.console;\\n        global.console = this._capturedConsole;\\n\\n        this._capturedConsole = null;\\n    }\\n};\\n\\nfunction formatError(error) {\\n    return {\\n        ename: (error && error.name) ?\\n            error.name : typeof error,\\n        evalue: (error && error.message) ?\\n            error.message : util.inspect(error),\\n        traceback: (error && error.stack) ?\\n            error.stack.split(\"\\\\n\") : \"\",\\n    };\\n}\\n\\nfunction toMime(result) {\\n    var mimer = (typeof global.$$mimer$$ === \"function\") ?\\n        global.$$mimer$$ :\\n        defaultMimer;\\n    return mimer(result);\\n}\\n\\nfunction defaultMimer(result) { // eslint-disable-line complexity\\n    if (typeof result === \"undefined\") {\\n        return {\\n            \"text/plain\": \"undefined\"\\n        };\\n    }\\n\\n    if (result === null) {\\n        return {\\n            \"text/plain\": \"null\"\\n        };\\n    }\\n\\n    var mime;\\n    if (result._toMime) {\\n        try {\\n            mime = result._toMime();\\n        } catch (error) {}\\n    }\\n    if (typeof mime !== \"object\") {\\n        mime = {};\\n    }\\n\\n    if (!(\"text/plain\" in mime)) {\\n        try {\\n            mime[\"text/plain\"] = util.inspect(result);\\n        } catch (error) {}\\n    }\\n\\n    if (result._toHtml && !(\"text/html\" in mime)) {\\n        try {\\n            mime[\"text/html\"] = result._toHtml();\\n        } catch (error) {}\\n    }\\n\\n    if (result._toSvg && !(\"image/svg+xml\" in mime)) {\\n        try {\\n            mime[\"image/svg+xml\"] = result._toSvg();\\n        } catch (error) {}\\n    }\\n\\n    if (result._toPng && !(\"image/png\" in mime)) {\\n        try {\\n            mime[\"image/png\"] = result._toPng();\\n        } catch (error) {}\\n    }\\n\\n    if (result._toJpeg && !(\"image/jpeg\" in mime)) {\\n        try {\\n            mime[\"image/jpeg\"] = result._toJpeg();\\n        } catch (error) {}\\n    }\\n\\n    return mime;\\n}\\n\\n/*\\n * BSD 3-Clause License\\n *\\n * Copyright (c) 2017, Nicolas Riesco and others as credited in the AUTHORS file\\n * All rights reserved.\\n *\\n * Redistribution and use in source and binary forms, with or without\\n * modification, are permitted provided that the following conditions are met:\\n *\\n * 1. Redistributions of source code must retain the above copyright notice,\\n * this list of conditions and the following disclaimer.\\n *\\n * 2. Redistributions in binary form must reproduce the above copyright notice,\\n * this list of conditions and the following disclaimer in the documentation\\n * and/or other materials provided with the distribution.\\n *\\n * 3. Neither the name of the copyright holder nor the names of its contributors\\n * may be used to endorse or promote products derived from this software without\\n * specific prior written permission.\\n *\\n * THIS SOFTWARE IS PROVIDED BY THE COPYRIGHT HOLDERS AND CONTRIBUTORS \"AS IS\"\\n * AND ANY EXPRESS OR IMPLIED WARRANTIES, INCLUDING, BUT NOT LIMITED TO, THE\\n * IMPLIED WARRANTIES OF MERCHANTABILITY AND FITNESS FOR A PARTICULAR PURPOSE\\n * ARE DISCLAIMED. IN NO EVENT SHALL THE COPYRIGHT HOLDER OR CONTRIBUTORS BE\\n * LIABLE FOR ANY DIRECT, INDIRECT, INCIDENTAL, SPECIAL, EXEMPLARY, OR\\n * CONSEQUENTIAL DAMAGES (INCLUDING, BUT NOT LIMITED TO, PROCUREMENT OF\\n * SUBSTITUTE GOODS OR SERVICES; LOSS OF USE, DATA, OR PROFITS; OR BUSINESS\\n * INTERRUPTION) HOWEVER CAUSED AND ON ANY THEORY OF LIABILITY, WHETHER IN\\n * CONTRACT, STRICT LIABILITY, OR TORT (INCLUDING NEGLIGENCE OR OTHERWISE)\\n * ARISING IN ANY WAY OUT OF THE USE OF THIS SOFTWARE, EVEN IF ADVISED OF THE\\n * POSSIBILITY OF SUCH DAMAGE.\\n *\\n */\\n\\nfunction Display(context_id, display_id) { // eslint-disable-line no-unused-vars\\n    var send;\\n\\n    this.mime = function mime(mimeBundle) {\\n        send(mimeBundle);\\n    };\\n\\n    this.text = function text(text) {\\n        send({\"text/plain\": text});\\n    };\\n\\n    this.html = function html(html) {\\n        send({\"text/html\": html});\\n    };\\n\\n    this.svg = function svg(svg) {\\n        send({\"image/svg+xml\": svg});\\n    };\\n\\n    this.png = function png(png) {\\n        send({\"image/png\": png});\\n    };\\n\\n    this.jpeg = function jpeg(jpeg) {\\n        send({\"image/jpeg\": jpeg});\\n    };\\n\\n    this.json = function json(json) {\\n        send({\"application/json\": json});\\n    };\\n\\n    this.close = function close() {\\n        process.send({\\n            id: context_id,\\n            display: {\\n                close: display_id,\\n            },\\n        });\\n    };\\n\\n    if (arguments.length < 2) {\\n        // case: without a display_id\\n        send = function send(mime) {\\n            process.send({\\n                id: context_id,\\n                display: {\\n                    mime: mime,\\n                },\\n            });\\n        };\\n    } else {\\n        // case: with a display_id\\n        send = function send(mime) {\\n            process.send({\\n                id: context_id,\\n                display: {\\n                    display_id: display_id,\\n                    mime: mime,\\n                },\\n            });\\n        };\\n\\n        // open the display_id\\n        process.send({\\n            id: context_id,\\n            display: {\\n                open: display_id,\\n            },\\n        });\\n    }\\n}\\n\\n/*\\n * BSD 3-Clause License\\n *\\n * Copyright (c) 2017, Nicolas Riesco and others as credited in the AUTHORS file\\n * All rights reserved.\\n *\\n * Redistribution and use in source and binary forms, with or without\\n * modification, are permitted provided that the following conditions are met:\\n *\\n * 1. Redistributions of source code must retain the above copyright notice,\\n * this list of conditions and the following disclaimer.\\n *\\n * 2. Redistributions in binary form must reproduce the above copyright notice,\\n * this list of conditions and the following disclaimer in the documentation\\n * and/or other materials provided with the distribution.\\n *\\n * 3. Neither the name of the copyright holder nor the names of its contributors\\n * may be used to endorse or promote products derived from this software without\\n * specific prior written permission.\\n *\\n * THIS SOFTWARE IS PROVIDED BY THE COPYRIGHT HOLDERS AND CONTRIBUTORS \"AS IS\"\\n * AND ANY EXPRESS OR IMPLIED WARRANTIES, INCLUDING, BUT NOT LIMITED TO, THE\\n * IMPLIED WARRANTIES OF MERCHANTABILITY AND FITNESS FOR A PARTICULAR PURPOSE\\n * ARE DISCLAIMED. IN NO EVENT SHALL THE COPYRIGHT HOLDER OR CONTRIBUTORS BE\\n * LIABLE FOR ANY DIRECT, INDIRECT, INCIDENTAL, SPECIAL, EXEMPLARY, OR\\n * CONSEQUENTIAL DAMAGES (INCLUDING, BUT NOT LIMITED TO, PROCUREMENT OF\\n * SUBSTITUTE GOODS OR SERVICES; LOSS OF USE, DATA, OR PROFITS; OR BUSINESS\\n * INTERRUPTION) HOWEVER CAUSED AND ON ANY THEORY OF LIABILITY, WHETHER IN\\n * CONTRACT, STRICT LIABILITY, OR TORT (INCLUDING NEGLIGENCE OR OTHERWISE)\\n * ARISING IN ANY WAY OUT OF THE USE OF THIS SOFTWARE, EVEN IF ADVISED OF THE\\n * POSSIBILITY OF SUCH DAMAGE.\\n *\\n */\\n\\n/* global Promise */\\n\\nfunction Requester() {\\n    // id for next request\\n    this.id = 0;\\n\\n    // callback associated with a request (indexed by id)\\n    this.callbacks = {};\\n\\n    // the Promise resolve callback associated with a request (indexed by id)\\n    this.resolves = {};\\n\\n    // the Promise reject callback associated with a request (indexed by id)\\n    this.rejects = {};\\n\\n    // the string to be returned to a request (indexed by id)\\n    this.responses = {};\\n}\\n\\n// send a request\\nRequester.prototype.send = function send(context, request, callback) {\\n    var id = this.id++;\\n\\n    if (callback) {\\n        this.callbacks[id] = callback;\\n    }\\n\\n    var promise;\\n    if (global.Promise) {\\n        promise = new Promise(function(resolve, reject) {\\n            if (!this.responses.hasOwnProperty(id)) {\\n                this.resolves[id] = resolve;\\n                this.rejects[id] = reject;\\n                return;\\n            }\\n\\n            var response = this.responses[id];\\n            delete this.responses[id];\\n            resolve(response);\\n        }.bind(this));\\n    }\\n\\n    request.id = id;\\n\\n    context.send({\\n        request: request,\\n    });\\n\\n    return promise;\\n};\\n\\n// pass reply to the callbacks associated with a request\\nRequester.prototype.receive = function receive(id, reply) {\\n    var callback = this.callbacks[id];\\n    if (callback) {\\n        delete this.callbacks[id];\\n        callback(null, reply);\\n    }\\n\\n    var resolve = this.resolves[id];\\n    if (resolve) {\\n        delete this.resolves[id];\\n        delete this.rejects[id];\\n        resolve(reply);\\n    }\\n};\\n\\n/*\\n * BSD 3-Clause License\\n *\\n * Copyright (c) 2015, Nicolas Riesco and others as credited in the AUTHORS file\\n * All rights reserved.\\n *\\n * Redistribution and use in source and binary forms, with or without\\n * modification, are permitted provided that the following conditions are met:\\n *\\n * 1. Redistributions of source code must retain the above copyright notice,\\n * this list of conditions and the following disclaimer.\\n *\\n * 2. Redistributions in binary form must reproduce the above copyright notice,\\n * this list of conditions and the following disclaimer in the documentation\\n * and/or other materials provided with the distribution.\\n *\\n * 3. Neither the name of the copyright holder nor the names of its contributors\\n * may be used to endorse or promote products derived from this software without\\n * specific prior written permission.\\n *\\n * THIS SOFTWARE IS PROVIDED BY THE COPYRIGHT HOLDERS AND CONTRIBUTORS \"AS IS\"\\n * AND ANY EXPRESS OR IMPLIED WARRANTIES, INCLUDING, BUT NOT LIMITED TO, THE\\n * IMPLIED WARRANTIES OF MERCHANTABILITY AND FITNESS FOR A PARTICULAR PURPOSE\\n * ARE DISCLAIMED. IN NO EVENT SHALL THE COPYRIGHT HOLDER OR CONTRIBUTORS BE\\n * LIABLE FOR ANY DIRECT, INDIRECT, INCIDENTAL, SPECIAL, EXEMPLARY, OR\\n * CONSEQUENTIAL DAMAGES (INCLUDING, BUT NOT LIMITED TO, PROCUREMENT OF\\n * SUBSTITUTE GOODS OR SERVICES; LOSS OF USE, DATA, OR PROFITS; OR BUSINESS\\n * INTERRUPTION) HOWEVER CAUSED AND ON ANY THEORY OF LIABILITY, WHETHER IN\\n * CONTRACT, STRICT LIABILITY, OR TORT (INCLUDING NEGLIGENCE OR OTHERWISE)\\n * ARISING IN ANY WAY OUT OF THE USE OF THIS SOFTWARE, EVEN IF ADVISED OF THE\\n * POSSIBILITY OF SUCH DAMAGE.\\n *\\n */\\n\\n/* global util */\\n/* global vm */\\n\\n/* global Context */\\n/* global defaultMimer */\\n/* global Requester */\\n\\n// Shared variables\\nvar DEBUG = !!process.env.DEBUG;\\nvar log;\\nvar requester;\\nvar initialContext;\\n\\n// Init IPC server\\ninit();\\n\\nreturn;\\n\\nfunction init() {\\n    // Setup logger\\n    log = DEBUG ?\\n        function log() {\\n            process.send({\\n                log: \"SERVER: \" + util.format.apply(this, arguments),\\n            });\\n        } :\\n        function noop() {};\\n\\n    // Create instance to send requests\\n    requester = new Requester();\\n\\n    // Capture the initial context\\n    // (id left undefined to indicate this is the initial context)\\n    initialContext = new Context(requester);\\n    initialContext.captureGlobalContext();\\n\\n    Object.defineProperty(global, \"$$defaultMimer$$\", {\\n        value: defaultMimer,\\n        configurable: false,\\n        writable: false,\\n        enumerable: false,\\n    });\\n\\n    process.on(\"message\", onMessage.bind(this));\\n\\n    process.on(\"uncaughtException\", onUncaughtException.bind(this));\\n\\n    process.send({\\n        status: \"online\",\\n    });\\n}\\n\\nfunction onUncaughtException(error) {\\n    log(\"UNCAUGHTEXCEPTION:\", error.stack);\\n    process.send({\\n        stderr: error.stack.toString(),\\n    });\\n}\\n\\nfunction onMessage(message) {\\n    log(\"RECEIVED:\", message);\\n\\n    var action = message[0];\\n    var code = message[1];\\n    var id = message[2];\\n\\n    initialContext.releaseGlobalContext();\\n    var context = new Context(requester, id);\\n    context.captureGlobalContext();\\n\\n    try {\\n        if (action === \"getAllPropertyNames\") {\\n            onNameRequest(code, context);\\n        } else if (action === \"inspect\") {\\n            onInspectRequest(code, context);\\n        } else if (action === \"run\") {\\n            onRunRequest(code, context);\\n        } else if (action === \"reply\") {\\n            onReply(message);\\n        } else {\\n            throw new Error(\"NEL: Unhandled action: \" + action);\\n        }\\n    } catch (error) {\\n        context.$$.sendError(error);\\n    }\\n\\n    context.releaseGlobalContext();\\n    initialContext.captureGlobalContext();\\n    initialContext._done = false;\\n}\\n\\nfunction onReply(message) {\\n    var reply = message[1];\\n    var id = message[3];\\n    requester.receive(id, reply);\\n}\\n\\nfunction onNameRequest(code, context) {\\n    var message = {\\n        id: context.id,\\n        names: getAllPropertyNames(run(code)),\\n        end: true,\\n    };\\n    context.send(message);\\n}\\n\\nfunction onInspectRequest(code, context) {\\n    var message = {\\n        id: context.id,\\n        inspection: inspect(run(code)),\\n        end: true,\\n    };\\n    context.send(message);\\n}\\n\\nfunction onRunRequest(code, context) {\\n    var result = run(code);\\n\\n    // If a result has already been sent, do not send this result.\\n    if (context._done) {\\n        return;\\n    }\\n\\n    // If the result is a Promise, send the result fulfilled by the promise\\n    if (isPromise(result)) {\\n        context.$$.sendResult(result);\\n        return;\\n    }\\n\\n    // If async mode has been enabled (and the result is not a Promise),\\n    // do not send this result.\\n    if (context._async) {\\n        return;\\n    }\\n\\n    // If no result has been sent yet and async mode has not been enabled,\\n    // send this result.\\n    context.$$.sendResult(result);\\n\\n    return;\\n\\n    function isPromise(output) {\\n        if (!global.Promise || typeof global.Promise !== \"function\") {\\n            return false;\\n        }\\n        return output instanceof global.Promise;\\n    }\\n}\\n\\nfunction getAllPropertyNames(object) {\\n    var propertyList = [];\\n\\n    if (object === undefined) {\\n        return [];\\n    }\\n\\n    if (object === null) {\\n        return [];\\n    }\\n\\n    var prototype;\\n    if (typeof object === \"boolean\") {\\n        prototype = Boolean.prototype;\\n    } else if (typeof object === \"number\") {\\n        prototype = Number.prototype;\\n    } else if (typeof object === \"string\") {\\n        prototype = String.prototype;\\n    } else {\\n        prototype = object;\\n    }\\n\\n    var prototypeList = [prototype];\\n\\n    function pushToPropertyList(e) {\\n        if (propertyList.indexOf(e) === -1) {\\n            propertyList.push(e);\\n        }\\n    }\\n\\n    while (prototype) {\\n        var names = Object.getOwnPropertyNames(prototype).sort();\\n        names.forEach(pushToPropertyList);\\n\\n        prototype = Object.getPrototypeOf(prototype);\\n        if (prototype === null) {\\n            break;\\n        }\\n\\n        if (prototypeList.indexOf(prototype) === -1) {\\n            prototypeList.push(prototype);\\n        }\\n    }\\n\\n    return propertyList;\\n}\\n\\nfunction inspect(object) {\\n    if (object === undefined) {\\n        return {\\n            string: \"undefined\",\\n            type: \"Undefined\",\\n        };\\n    }\\n\\n    if (object === null) {\\n        return {\\n            string: \"null\",\\n            type: \"Null\",\\n        };\\n    }\\n\\n    if (typeof object === \"boolean\") {\\n        return {\\n            string: object ? \"true\" : \"false\",\\n            type: \"Boolean\",\\n            constructorList: [\"Boolean\", \"Object\"],\\n        };\\n    }\\n\\n    if (typeof object === \"number\") {\\n        return {\\n            string: util.inspect(object),\\n            type: \"Number\",\\n            constructorList: [\"Number\", \"Object\"],\\n        };\\n    }\\n\\n    if (typeof object === \"string\") {\\n        return {\\n            string: object,\\n            type: \"String\",\\n            constructorList: [\"String\", \"Object\"],\\n            length: object.length,\\n        };\\n    }\\n\\n    if (typeof object === \"function\") {\\n        return {\\n            string: object.toString(),\\n            type: \"Function\",\\n            constructorList: [\"Function\", \"Object\"],\\n            length: object.length,\\n        };\\n    }\\n\\n    var constructorList = getConstructorList(object);\\n    var result = {\\n        string: toString(object),\\n        type: constructorList[0] || \"\",\\n        constructorList: constructorList,\\n    };\\n\\n    if (\"length\" in object) {\\n        result.length = object.length;\\n    }\\n\\n    return result;\\n\\n    function toString(object) {\\n        try {\\n            return util.inspect(object.valueOf());\\n        } catch (e) {\\n            return util.inspect(object);\\n        }\\n    }\\n\\n    function getConstructorList(object) {\\n        var constructorList = [];\\n\\n        for (\\n            var prototype = Object.getPrototypeOf(object);\\n            prototype && prototype.constructor;\\n            prototype = Object.getPrototypeOf(prototype)\\n        ) {\\n            constructorList.push(prototype.constructor.name);\\n        }\\n\\n        return constructorList;\\n    }\\n}\\n\\nfunction run(code) {\\n    return vm.runInThisContext(code);\\n}\\n\\n})();' ],\n",
       "     env:\n",
       "      { ALLUSERSPROFILE: 'C:\\\\ProgramData',\n",
       "        APPDATA: 'C:\\\\Users\\\\ruszk\\\\AppData\\\\Roaming',\n",
       "        COMMONPROGRAMFILES: 'C:\\\\Program Files\\\\Common Files',\n",
       "        'COMMONPROGRAMFILES(X86)': 'C:\\\\Program Files (x86)\\\\Common Files',\n",
       "        COMMONPROGRAMW6432: 'C:\\\\Program Files\\\\Common Files',\n",
       "        COMPUTERNAME: 'DESKTOP-KIU7VUB',\n",
       "        COMSPEC: 'C:\\\\Windows\\\\system32\\\\cmd.exe',\n",
       "        CONDA_PREFIX: 'C:\\\\ProgramData\\\\Anaconda3',\n",
       "        DRIVERDATA: 'C:\\\\Windows\\\\System32\\\\Drivers\\\\DriverData',\n",
       "        HOMEDRIVE: 'C:',\n",
       "        HOMEPATH: '\\\\Users\\\\ruszk',\n",
       "        IPY_INTERRUPT_EVENT: '1468',\n",
       "        JPY_INTERRUPT_EVENT: '1468',\n",
       "        JPY_PARENT_PID: '2172',\n",
       "        LOCALAPPDATA: 'C:\\\\Users\\\\ruszk\\\\AppData\\\\Local',\n",
       "        LOGONSERVER: '\\\\\\\\DESKTOP-KIU7VUB',\n",
       "        NUMBER_OF_PROCESSORS: '4',\n",
       "        ONEDRIVE: 'C:\\\\Users\\\\ruszk\\\\OneDrive',\n",
       "        ONEDRIVECONSUMER: 'C:\\\\Users\\\\ruszk\\\\OneDrive',\n",
       "        OS: 'Windows_NT',\n",
       "        PATH:\n",
       "         'C:\\\\ProgramData\\\\Anaconda3;C:\\\\ProgramData\\\\Anaconda3\\\\Library\\\\mingw-w64\\\\bin;C:\\\\ProgramData\\\\Anaconda3\\\\Library\\\\usr\\\\bin;C:\\\\ProgramData\\\\Anaconda3\\\\Library\\\\bin;C:\\\\ProgramData\\\\Anaconda3\\\\Scripts;C:\\\\Windows\\\\system32;C:\\\\Windows;C:\\\\Windows\\\\System32\\\\Wbem;C:\\\\Windows\\\\System32\\\\WindowsPowerShell\\\\v1.0\\\\;C:\\\\Windows\\\\System32\\\\OpenSSH\\\\;C:\\\\Program Files\\\\Git\\\\cmd;C:\\\\Program Files\\\\nodejs\\\\;C:\\\\Program Files\\\\Microsoft VS Code\\\\bin;C:\\\\Program Files\\\\PuTTY\\\\;C:\\\\Users\\\\ruszk\\\\AppData\\\\Local\\\\Microsoft\\\\WindowsApps;C:\\\\Users\\\\ruszk\\\\AppData\\\\Roaming\\\\npm',\n",
       "        PATHEXT: '.COM;.EXE;.BAT;.CMD;.VBS;.VBE;.JS;.JSE;.WSF;.WSH;.MSC',\n",
       "        PROCESSOR_ARCHITECTURE: 'AMD64',\n",
       "        PROCESSOR_IDENTIFIER: 'Intel64 Family 6 Model 69 Stepping 1, GenuineIntel',\n",
       "        PROCESSOR_LEVEL: '6',\n",
       "        PROCESSOR_REVISION: '4501',\n",
       "        PROGRAMDATA: 'C:\\\\ProgramData',\n",
       "        PROGRAMFILES: 'C:\\\\Program Files',\n",
       "        'PROGRAMFILES(X86)': 'C:\\\\Program Files (x86)',\n",
       "        PROGRAMW6432: 'C:\\\\Program Files',\n",
       "        PROMPT: '$P$G',\n",
       "        PSMODULEPATH:\n",
       "         'C:\\\\Program Files\\\\WindowsPowerShell\\\\Modules;C:\\\\Windows\\\\system32\\\\WindowsPowerShell\\\\v1.0\\\\Modules',\n",
       "        PUBLIC: 'C:\\\\Users\\\\Public',\n",
       "        SESSIONNAME: 'Console',\n",
       "        SYSTEMDRIVE: 'C:',\n",
       "        SYSTEMROOT: 'C:\\\\Windows',\n",
       "        TEMP: 'C:\\\\Users\\\\ruszk\\\\AppData\\\\Local\\\\Temp',\n",
       "        TMP: 'C:\\\\Users\\\\ruszk\\\\AppData\\\\Local\\\\Temp',\n",
       "        USERDOMAIN: 'DESKTOP-KIU7VUB',\n",
       "        USERDOMAIN_ROAMINGPROFILE: 'DESKTOP-KIU7VUB',\n",
       "        USERNAME: 'ruszk',\n",
       "        USERPROFILE: 'C:\\\\Users\\\\ruszk',\n",
       "        WINDIR: 'C:\\\\Windows' },\n",
       "     pid: 9828,\n",
       "     features:\n",
       "      { debug: false,\n",
       "        uv: true,\n",
       "        ipv6: true,\n",
       "        tls_alpn: true,\n",
       "        tls_sni: true,\n",
       "        tls_ocsp: true,\n",
       "        tls: true },\n",
       "     ppid: 7208,\n",
       "     _eval:\n",
       "      '(function() {\\n/*\\n * BSD 3-Clause License\\n *\\n * Copyright (c) 2018, Nicolas Riesco and others as credited in the AUTHORS file\\n * All rights reserved.\\n *\\n * Redistribution and use in source and binary forms, with or without\\n * modification, are permitted provided that the following conditions are met:\\n *\\n * 1. Redistributions of source code must retain the above copyright notice,\\n * this list of conditions and the following disclaimer.\\n *\\n * 2. Redistributions in binary form must reproduce the above copyright notice,\\n * this list of conditions and the following disclaimer in the documentation\\n * and/or other materials provided with the distribution.\\n *\\n * 3. Neither the name of the copyright holder nor the names of its contributors\\n * may be used to endorse or promote products derived from this software without\\n * specific prior written permission.\\n *\\n * THIS SOFTWARE IS PROVIDED BY THE COPYRIGHT HOLDERS AND CONTRIBUTORS \"AS IS\"\\n * AND ANY EXPRESS OR IMPLIED WARRANTIES, INCLUDING, BUT NOT LIMITED TO, THE\\n * IMPLIED WARRANTIES OF MERCHANTABILITY AND FITNESS FOR A PARTICULAR PURPOSE\\n * ARE DISCLAIMED. IN NO EVENT SHALL THE COPYRIGHT HOLDER OR CONTRIBUTORS BE\\n * LIABLE FOR ANY DIRECT, INDIRECT, INCIDENTAL, SPECIAL, EXEMPLARY, OR\\n * CONSEQUENTIAL DAMAGES (INCLUDING, BUT NOT LIMITED TO, PROCUREMENT OF\\n * SUBSTITUTE GOODS OR SERVICES; LOSS OF USE, DATA, OR PROFITS; OR BUSINESS\\n * INTERRUPTION) HOWEVER CAUSED AND ON ANY THEORY OF LIABILITY, WHETHER IN\\n * CONTRACT, STRICT LIABILITY, OR TORT (INCLUDING NEGLIGENCE OR OTHERWISE)\\n * ARISING IN ANY WAY OUT OF THE USE OF THIS SOFTWARE, EVEN IF ADVISED OF THE\\n * POSSIBILITY OF SUCH DAMAGE.\\n *\\n */\\n\\n/* eslint-disable no-unused-vars */\\nvar console = require(\"console\");\\nvar stream = require(\"stream\");\\nvar util = require(\"util\");\\nvar vm = require(\"vm\");\\n/* eslint-enable no-unused-vars */\\n\\n/*\\n * BSD 3-Clause License\\n *\\n * Copyright (c) 2015, Nicolas Riesco and others as credited in the AUTHORS file\\n * All rights reserved.\\n *\\n * Redistribution and use in source and binary forms, with or without\\n * modification, are permitted provided that the following conditions are met:\\n *\\n * 1. Redistributions of source code must retain the above copyright notice,\\n * this list of conditions and the following disclaimer.\\n *\\n * 2. Redistributions in binary form must reproduce the above copyright notice,\\n * this list of conditions and the following disclaimer in the documentation\\n * and/or other materials provided with the distribution.\\n *\\n * 3. Neither the name of the copyright holder nor the names of its contributors\\n * may be used to endorse or promote products derived from this software without\\n * specific prior written permission.\\n *\\n * THIS SOFTWARE IS PROVIDED BY THE COPYRIGHT HOLDERS AND CONTRIBUTORS \"AS IS\"\\n * AND ANY EXPRESS OR IMPLIED WARRANTIES, INCLUDING, BUT NOT LIMITED TO, THE\\n * IMPLIED WARRANTIES OF MERCHANTABILITY AND FITNESS FOR A PARTICULAR PURPOSE\\n * ARE DISCLAIMED. IN NO EVENT SHALL THE COPYRIGHT HOLDER OR CONTRIBUTORS BE\\n * LIABLE FOR ANY DIRECT, INDIRECT, INCIDENTAL, SPECIAL, EXEMPLARY, OR\\n * CONSEQUENTIAL DAMAGES (INCLUDING, BUT NOT LIMITED TO, PROCUREMENT OF\\n * SUBSTITUTE GOODS OR SERVICES; LOSS OF USE, DATA, OR PROFITS; OR BUSINESS\\n * INTERRUPTION) HOWEVER CAUSED AND ON ANY THEORY OF LIABILITY, WHETHER IN\\n * CONTRACT, STRICT LIABILITY, OR TORT (INCLUDING NEGLIGENCE OR OTHERWISE)\\n * ARISING IN ANY WAY OUT OF THE USE OF THIS SOFTWARE, EVEN IF ADVISED OF THE\\n * POSSIBILITY OF SUCH DAMAGE.\\n *\\n */\\n\\n/* global console */\\n/* global stream */\\n/* global util */\\n\\n/* global log */\\n/* global Display */\\n\\nfunction Stdout(id, opt) {\\n    stream.Transform.call(this, opt);\\n\\n    this._id = id;\\n}\\n\\nStdout.prototype = Object.create(stream.Transform.prototype);\\n\\nStdout.prototype._transform = function(data, encoding, callback) {\\n    var response = {\\n        id: this._id,\\n        stdout: data.toString(),\\n    };\\n    log(\"STDOUT:\", response);\\n    process.send(response);\\n    this.push(data);\\n    callback();\\n};\\n\\nfunction Stderr(id, opt) {\\n    stream.Transform.call(this, opt);\\n\\n    this._id = id;\\n}\\n\\nStderr.prototype = Object.create(stream.Transform.prototype);\\n\\nStderr.prototype._transform = function(data, encoding, callback) {\\n    var response = {\\n        id: this._id,\\n        stderr: data.toString(),\\n    };\\n    log(\"STDERR:\", response);\\n    process.send(response);\\n    this.push(data);\\n    callback();\\n};\\n\\nfunction Context(requester, id) {\\n    this.requester = requester;\\n    this.id = id;\\n\\n    this.stdout = new Stdout(this.id);\\n    this.stderr = new Stderr(this.id);\\n    this.console = new console.Console(this.stdout, this.stderr);\\n\\n    this._capturedStdout = null;\\n    this._capturedStderr = null;\\n    this._capturedConsole = null;\\n\\n    this._async = false;\\n    this._done = false;\\n\\n    // `$$` provides an interface for users to access the execution context\\n    this.$$ = Object.create(null);\\n\\n    this.$$.async = (function async(value) {\\n        this._async = (arguments.length === 0) ? true : !!value;\\n        return this._async;\\n    }).bind(this);\\n\\n    this.$$.done = (function done(result) {\\n        this.send((arguments.length === 0) ? {\\n            end: true,\\n        } : {\\n            mime: toMime(result),\\n            end: true,\\n        });\\n    }).bind(this);\\n\\n    this.$$.sendResult = resolvePromise.call(this,\\n        function sendResult(result, keepAlive) {\\n            if (keepAlive) this.$$.async();\\n\\n            this.send({\\n                mime: toMime(result),\\n                end: !keepAlive,\\n            });\\n        }\\n    );\\n\\n    this.$$.sendError = resolvePromise.call(this,\\n        function sendError(error, keepAlive) {\\n            if (keepAlive) this.$$.async();\\n\\n            this.send({\\n                error: formatError(error),\\n                end: !keepAlive,\\n            });\\n        }\\n    );\\n\\n    this.$$.mime = resolvePromise.call(this,\\n        function sendMime(mimeBundle, keepAlive) {\\n            if (keepAlive) this.$$.async();\\n\\n            this.send({\\n                mime: mimeBundle,\\n                end: !keepAlive,\\n            });\\n        }\\n    );\\n\\n    this.$$.text = resolvePromise.call(this,\\n        function sendText(text, keepAlive) {\\n            if (keepAlive) this.$$.async();\\n\\n            this.send({\\n                mime: {\\n                    \"text/plain\": text,\\n                },\\n                end: !keepAlive,\\n            });\\n        }\\n    );\\n\\n    this.$$.html = resolvePromise.call(this,\\n        function sendHtml(html, keepAlive) {\\n            if (keepAlive) this.$$.async();\\n\\n            this.send({\\n                mime: {\\n                    \"text/html\": html,\\n                },\\n                end: !keepAlive,\\n            });\\n        }\\n    );\\n\\n    this.$$.svg = resolvePromise.call(this,\\n        function sendSvg(svg, keepAlive) {\\n            if (keepAlive) this.$$.async();\\n\\n            this.send({\\n                mime: {\\n                    \"image/svg+xml\": svg,\\n                },\\n                end: !keepAlive,\\n            });\\n        }\\n    );\\n\\n    this.$$.png = resolvePromise.call(this,\\n        function sendPng(png, keepAlive) {\\n            if (keepAlive) this.$$.async();\\n\\n            this.send({\\n                mime: {\\n                    \"image/png\": png,\\n                },\\n                end: !keepAlive,\\n            });\\n        }\\n    );\\n\\n    this.$$.jpeg = resolvePromise.call(this,\\n        function sendJpeg(jpeg, keepAlive) {\\n            if (keepAlive) this.$$.async();\\n\\n            this.send({\\n                mime: {\\n                    \"image/jpeg\": jpeg,\\n                },\\n                end: !keepAlive,\\n            });\\n        }\\n    );\\n\\n    this.$$.json = resolvePromise.call(this,\\n        function sendJson(json, keepAlive) {\\n            if (keepAlive) this.$$.async();\\n\\n            this.send({\\n                mime: {\\n                    \"application/json\": json,\\n                },\\n                end: !keepAlive,\\n            });\\n        }\\n    );\\n\\n    this.$$.input = (function input(options, callback) {\\n        this.$$.async();\\n\\n        var inputRequest = {\\n            input: options,\\n        };\\n\\n        var inputCallback;\\n        if (typeof callback === \"function\") {\\n            inputCallback = function inputCallback(error, reply) {\\n                callback(error, reply.input);\\n            };\\n        }\\n\\n        var promise = this.requester.send(this, inputRequest, inputCallback);\\n        if (promise) {\\n            return promise.then(function(reply) { return reply.input; });\\n        }\\n    }).bind(this);\\n\\n    this.$$.display = (function createDisplay(id) {\\n        return (arguments.length === 0) ?\\n            new Display(this.id) :\\n            new Display(this.id, id);\\n    }).bind(this);\\n\\n    this.$$.clear = (function clear(options) {\\n        this.send({\\n            request: {\\n                clear: options || {},\\n            },\\n        });\\n    }).bind(this);\\n\\n    function isPromise(output) {\\n        if (!global.Promise || typeof global.Promise !== \"function\") {\\n            return false;\\n        }\\n        return output instanceof global.Promise;\\n    }\\n\\n    function resolvePromise(outputHandler) {\\n        return function(output, keepAlive) {\\n            if (isPromise(output)) {\\n                this.$$.async();\\n\\n                output.then(function(resolvedOutput) {\\n                    outputHandler.call(this, resolvedOutput, keepAlive);\\n                }.bind(this)).catch(function(error) {\\n                    this.send({\\n                        error: formatError(error),\\n                        end: true,\\n                    });\\n                }.bind(this));\\n\\n                return;\\n            }\\n\\n            outputHandler.apply(this, arguments);\\n        }.bind(this);\\n    }\\n}\\n\\nContext.prototype.send = function send(message) {\\n    message.id = this.id;\\n\\n    if (this._done) {\\n        log(\"SEND: DROPPED:\", message);\\n        return;\\n    }\\n\\n    if (message.end) {\\n        this._done = true;\\n        this._async = false;\\n    }\\n\\n    log(\"SEND:\", message);\\n\\n    process.send(message);\\n};\\n\\nContext.prototype.captureGlobalContext = function captureGlobalContext() {\\n    this._capturedStdout = process.stdout;\\n    this._capturedStderr = process.stderr;\\n    this._capturedConsole = console;\\n\\n    this.stdout.pipe(this._capturedStdout);\\n    this.stderr.pipe(this._capturedStderr);\\n    this.console.Console = this._capturedConsole.Console;\\n\\n    delete process.stdout;\\n    process.stdout = this.stdout;\\n\\n    delete process.stderr;\\n    process.stderr = this.stderr;\\n\\n    delete global.console;\\n    global.console = this.console;\\n\\n    delete global.$$;\\n    global.$$ = this.$$;\\n\\n    if (typeof global.$$mimer$$ !== \"function\") {\\n        global.$$mimer$$ = defaultMimer;\\n    }\\n\\n    delete global.$$mime$$;\\n    Object.defineProperty(global, \"$$mime$$\", {\\n        set: this.$$.mime,\\n        configurable: true,\\n        enumerable: false,\\n    });\\n\\n    delete global.$$html$$;\\n    Object.defineProperty(global, \"$$html$$\", {\\n        set: this.$$.html,\\n        configurable: true,\\n        enumerable: false,\\n    });\\n\\n    delete global.$$svg$$;\\n    Object.defineProperty(global, \"$$svg$$\", {\\n        set: this.$$.svg,\\n        configurable: true,\\n        enumerable: false,\\n    });\\n\\n    delete global.$$png$$;\\n    Object.defineProperty(global, \"$$png$$\", {\\n        set: this.$$.png,\\n        configurable: true,\\n        enumerable: false,\\n    });\\n\\n    delete global.$$jpeg$$;\\n    Object.defineProperty(global, \"$$jpeg$$\", {\\n        set: this.$$.jpeg,\\n        configurable: true,\\n        enumerable: false,\\n    });\\n\\n    delete global.$$async$$;\\n    Object.defineProperty(global, \"$$async$$\", {\\n        get: (function() {\\n            return this._async;\\n        }).bind(this),\\n        set: (function(value) {\\n            this._async = !!value;\\n        }).bind(this),\\n        configurable: true,\\n        enumerable: false,\\n    });\\n\\n    global.$$done$$ = this.$$.done.bind(this);\\n\\n    if (!global.hasOwnProperty(\"$$defaultMimer$$\")) {\\n        Object.defineProperty(global, \"$$defaultMimer$$\", {\\n            value: defaultMimer,\\n            configurable: false,\\n            writable: false,\\n            enumerable: false,\\n        });\\n    }\\n};\\n\\nContext.prototype.releaseGlobalContext = function releaseGlobalContext() {\\n    if (process.stdout === this.stdout) {\\n        this.stdout.unpipe();\\n\\n        delete process.stdout;\\n        process.stdout = this._capturedStdout;\\n\\n        this._capturedStdout = null;\\n    }\\n\\n    if (process.stderr === this.stderr) {\\n        this.stderr.unpipe();\\n\\n        delete process.stderr;\\n        process.stderr = this._capturedStderr;\\n\\n        this._capturedStderr = null;\\n    }\\n\\n    if (global.console === this.console) {\\n        delete global.console;\\n        global.console = this._capturedConsole;\\n\\n        this._capturedConsole = null;\\n    }\\n};\\n\\nfunction formatError(error) {\\n    return {\\n        ename: (error && error.name) ?\\n            error.name : typeof error,\\n        evalue: (error && error.message) ?\\n            error.message : util.inspect(error),\\n        traceback: (error && error.stack) ?\\n            error.stack.split(\"\\\\n\") : \"\",\\n    };\\n}\\n\\nfunction toMime(result) {\\n    var mimer = (typeof global.$$mimer$$ === \"function\") ?\\n        global.$$mimer$$ :\\n        defaultMimer;\\n    return mimer(result);\\n}\\n\\nfunction defaultMimer(result) { // eslint-disable-line complexity\\n    if (typeof result === \"undefined\") {\\n        return {\\n            \"text/plain\": \"undefined\"\\n        };\\n    }\\n\\n    if (result === null) {\\n        return {\\n            \"text/plain\": \"null\"\\n        };\\n    }\\n\\n    var mime;\\n    if (result._toMime) {\\n        try {\\n            mime = result._toMime();\\n        } catch (error) {}\\n    }\\n    if (typeof mime !== \"object\") {\\n        mime = {};\\n    }\\n\\n    if (!(\"text/plain\" in mime)) {\\n        try {\\n            mime[\"text/plain\"] = util.inspect(result);\\n        } catch (error) {}\\n    }\\n\\n    if (result._toHtml && !(\"text/html\" in mime)) {\\n        try {\\n            mime[\"text/html\"] = result._toHtml();\\n        } catch (error) {}\\n    }\\n\\n    if (result._toSvg && !(\"image/svg+xml\" in mime)) {\\n        try {\\n            mime[\"image/svg+xml\"] = result._toSvg();\\n        } catch (error) {}\\n    }\\n\\n    if (result._toPng && !(\"image/png\" in mime)) {\\n        try {\\n            mime[\"image/png\"] = result._toPng();\\n        } catch (error) {}\\n    }\\n\\n    if (result._toJpeg && !(\"image/jpeg\" in mime)) {\\n        try {\\n            mime[\"image/jpeg\"] = result._toJpeg();\\n        } catch (error) {}\\n    }\\n\\n    return mime;\\n}\\n\\n/*\\n * BSD 3-Clause License\\n *\\n * Copyright (c) 2017, Nicolas Riesco and others as credited in the AUTHORS file\\n * All rights reserved.\\n *\\n * Redistribution and use in source and binary forms, with or without\\n * modification, are permitted provided that the following conditions are met:\\n *\\n * 1. Redistributions of source code must retain the above copyright notice,\\n * this list of conditions and the following disclaimer.\\n *\\n * 2. Redistributions in binary form must reproduce the above copyright notice,\\n * this list of conditions and the following disclaimer in the documentation\\n * and/or other materials provided with the distribution.\\n *\\n * 3. Neither the name of the copyright holder nor the names of its contributors\\n * may be used to endorse or promote products derived from this software without\\n * specific prior written permission.\\n *\\n * THIS SOFTWARE IS PROVIDED BY THE COPYRIGHT HOLDERS AND CONTRIBUTORS \"AS IS\"\\n * AND ANY EXPRESS OR IMPLIED WARRANTIES, INCLUDING, BUT NOT LIMITED TO, THE\\n * IMPLIED WARRANTIES OF MERCHANTABILITY AND FITNESS FOR A PARTICULAR PURPOSE\\n * ARE DISCLAIMED. IN NO EVENT SHALL THE COPYRIGHT HOLDER OR CONTRIBUTORS BE\\n * LIABLE FOR ANY DIRECT, INDIRECT, INCIDENTAL, SPECIAL, EXEMPLARY, OR\\n * CONSEQUENTIAL DAMAGES (INCLUDING, BUT NOT LIMITED TO, PROCUREMENT OF\\n * SUBSTITUTE GOODS OR SERVICES; LOSS OF USE, DATA, OR PROFITS; OR BUSINESS\\n * INTERRUPTION) HOWEVER CAUSED AND ON ANY THEORY OF LIABILITY, WHETHER IN\\n * CONTRACT, STRICT LIABILITY, OR TORT (INCLUDING NEGLIGENCE OR OTHERWISE)\\n * ARISING IN ANY WAY OUT OF THE USE OF THIS SOFTWARE, EVEN IF ADVISED OF THE\\n * POSSIBILITY OF SUCH DAMAGE.\\n *\\n */\\n\\nfunction Display(context_id, display_id) { // eslint-disable-line no-unused-vars\\n    var send;\\n\\n    this.mime = function mime(mimeBundle) {\\n        send(mimeBundle);\\n    };\\n\\n    this.text = function text(text) {\\n        send({\"text/plain\": text});\\n    };\\n\\n    this.html = function html(html) {\\n        send({\"text/html\": html});\\n    };\\n\\n    this.svg = function svg(svg) {\\n        send({\"image/svg+xml\": svg});\\n    };\\n\\n    this.png = function png(png) {\\n        send({\"image/png\": png});\\n    };\\n\\n    this.jpeg = function jpeg(jpeg) {\\n        send({\"image/jpeg\": jpeg});\\n    };\\n\\n    this.json = function json(json) {\\n        send({\"application/json\": json});\\n    };\\n\\n    this.close = function close() {\\n        process.send({\\n            id: context_id,\\n            display: {\\n                close: display_id,\\n            },\\n        });\\n    };\\n\\n    if (arguments.length < 2) {\\n        // case: without a display_id\\n        send = function send(mime) {\\n            process.send({\\n                id: context_id,\\n                display: {\\n                    mime: mime,\\n                },\\n            });\\n        };\\n    } else {\\n        // case: with a display_id\\n        send = function send(mime) {\\n            process.send({\\n                id: context_id,\\n                display: {\\n                    display_id: display_id,\\n                    mime: mime,\\n                },\\n            });\\n        };\\n\\n        // open the display_id\\n        process.send({\\n            id: context_id,\\n            display: {\\n                open: display_id,\\n            },\\n        });\\n    }\\n}\\n\\n/*\\n * BSD 3-Clause License\\n *\\n * Copyright (c) 2017, Nicolas Riesco and others as credited in the AUTHORS file\\n * All rights reserved.\\n *\\n * Redistribution and use in source and binary forms, with or without\\n * modification, are permitted provided that the following conditions are met:\\n *\\n * 1. Redistributions of source code must retain the above copyright notice,\\n * this list of conditions and the following disclaimer.\\n *\\n * 2. Redistributions in binary form must reproduce the above copyright notice,\\n * this list of conditions and the following disclaimer in the documentation\\n * and/or other materials provided with the distribution.\\n *\\n * 3. Neither the name of the copyright holder nor the names of its contributors\\n * may be used to endorse or promote products derived from this software without\\n * specific prior written permission.\\n *\\n * THIS SOFTWARE IS PROVIDED BY THE COPYRIGHT HOLDERS AND CONTRIBUTORS \"AS IS\"\\n * AND ANY EXPRESS OR IMPLIED WARRANTIES, INCLUDING, BUT NOT LIMITED TO, THE\\n * IMPLIED WARRANTIES OF MERCHANTABILITY AND FITNESS FOR A PARTICULAR PURPOSE\\n * ARE DISCLAIMED. IN NO EVENT SHALL THE COPYRIGHT HOLDER OR CONTRIBUTORS BE\\n * LIABLE FOR ANY DIRECT, INDIRECT, INCIDENTAL, SPECIAL, EXEMPLARY, OR\\n * CONSEQUENTIAL DAMAGES (INCLUDING, BUT NOT LIMITED TO, PROCUREMENT OF\\n * SUBSTITUTE GOODS OR SERVICES; LOSS OF USE, DATA, OR PROFITS; OR BUSINESS\\n * INTERRUPTION) HOWEVER CAUSED AND ON ANY THEORY OF LIABILITY, WHETHER IN\\n * CONTRACT, STRICT LIABILITY, OR TORT (INCLUDING NEGLIGENCE OR OTHERWISE)\\n * ARISING IN ANY WAY OUT OF THE USE OF THIS SOFTWARE, EVEN IF ADVISED OF THE\\n * POSSIBILITY OF SUCH DAMAGE.\\n *\\n */\\n\\n/* global Promise */\\n\\nfunction Requester() {\\n    // id for next request\\n    this.id = 0;\\n\\n    // callback associated with a request (indexed by id)\\n    this.callbacks = {};\\n\\n    // the Promise resolve callback associated with a request (indexed by id)\\n    this.resolves = {};\\n\\n    // the Promise reject callback associated with a request (indexed by id)\\n    this.rejects = {};\\n\\n    // the string to be returned to a request (indexed by id)\\n    this.responses = {};\\n}\\n\\n// send a request\\nRequester.prototype.send = function send(context, request, callback) {\\n    var id = this.id++;\\n\\n    if (callback) {\\n        this.callbacks[id] = callback;\\n    }\\n\\n    var promise;\\n    if (global.Promise) {\\n        promise = new Promise(function(resolve, reject) {\\n            if (!this.responses.hasOwnProperty(id)) {\\n                this.resolves[id] = resolve;\\n                this.rejects[id] = reject;\\n                return;\\n            }\\n\\n            var response = this.responses[id];\\n            delete this.responses[id];\\n            resolve(response);\\n        }.bind(this));\\n    }\\n\\n    request.id = id;\\n\\n    context.send({\\n        request: request,\\n    });\\n\\n    return promise;\\n};\\n\\n// pass reply to the callbacks associated with a request\\nRequester.prototype.receive = function receive(id, reply) {\\n    var callback = this.callbacks[id];\\n    if (callback) {\\n        delete this.callbacks[id];\\n        callback(null, reply);\\n    }\\n\\n    var resolve = this.resolves[id];\\n    if (resolve) {\\n        delete this.resolves[id];\\n        delete this.rejects[id];\\n        resolve(reply);\\n    }\\n};\\n\\n/*\\n * BSD 3-Clause License\\n *\\n * Copyright (c) 2015, Nicolas Riesco and others as credited in the AUTHORS file\\n * All rights reserved.\\n *\\n * Redistribution and use in source and binary forms, with or without\\n * modification, are permitted provided that the following conditions are met:\\n *\\n * 1. Redistributions of source code must retain the above copyright notice,\\n * this list of conditions and the following disclaimer.\\n *\\n * 2. Redistributions in binary form must reproduce the above copyright notice,\\n * this list of conditions and the following disclaimer in the documentation\\n * and/or other materials provided with the distribution.\\n *\\n * 3. Neither the name of the copyright holder nor the names of its contributors\\n * may be used to endorse or promote products derived from this software without\\n * specific prior written permission.\\n *\\n * THIS SOFTWARE IS PROVIDED BY THE COPYRIGHT HOLDERS AND CONTRIBUTORS \"AS IS\"\\n * AND ANY EXPRESS OR IMPLIED WARRANTIES, INCLUDING, BUT NOT LIMITED TO, THE\\n * IMPLIED WARRANTIES OF MERCHANTABILITY AND FITNESS FOR A PARTICULAR PURPOSE\\n * ARE DISCLAIMED. IN NO EVENT SHALL THE COPYRIGHT HOLDER OR CONTRIBUTORS BE\\n * LIABLE FOR ANY DIRECT, INDIRECT, INCIDENTAL, SPECIAL, EXEMPLARY, OR\\n * CONSEQUENTIAL DAMAGES (INCLUDING, BUT NOT LIMITED TO, PROCUREMENT OF\\n * SUBSTITUTE GOODS OR SERVICES; LOSS OF USE, DATA, OR PROFITS; OR BUSINESS\\n * INTERRUPTION) HOWEVER CAUSED AND ON ANY THEORY OF LIABILITY, WHETHER IN\\n * CONTRACT, STRICT LIABILITY, OR TORT (INCLUDING NEGLIGENCE OR OTHERWISE)\\n * ARISING IN ANY WAY OUT OF THE USE OF THIS SOFTWARE, EVEN IF ADVISED OF THE\\n * POSSIBILITY OF SUCH DAMAGE.\\n *\\n */\\n\\n/* global util */\\n/* global vm */\\n\\n/* global Context */\\n/* global defaultMimer */\\n/* global Requester */\\n\\n// Shared variables\\nvar DEBUG = !!process.env.DEBUG;\\nvar log;\\nvar requester;\\nvar initialContext;\\n\\n// Init IPC server\\ninit();\\n\\nreturn;\\n\\nfunction init() {\\n    // Setup logger\\n    log = DEBUG ?\\n        function log() {\\n            process.send({\\n                log: \"SERVER: \" + util.format.apply(this, arguments),\\n            });\\n        } :\\n        function noop() {};\\n\\n    // Create instance to send requests\\n    requester = new Requester();\\n\\n    // Capture the initial context\\n    // (id left undefined to indicate this is the initial context)\\n    initialContext = new Context(requester);\\n    initialContext.captureGlobalContext();\\n\\n    Object.defineProperty(global, \"$$defaultMimer$$\", {\\n        value: defaultMimer,\\n        configurable: false,\\n        writable: false,\\n        enumerable: false,\\n    });\\n\\n    process.on(\"message\", onMessage.bind(this));\\n\\n    process.on(\"uncaughtException\", onUncaughtException.bind(this));\\n\\n    process.send({\\n        status: \"online\",\\n    });\\n}\\n\\nfunction onUncaughtException(error) {\\n    log(\"UNCAUGHTEXCEPTION:\", error.stack);\\n    process.send({\\n        stderr: error.stack.toString(),\\n    });\\n}\\n\\nfunction onMessage(message) {\\n    log(\"RECEIVED:\", message);\\n\\n    var action = message[0];\\n    var code = message[1];\\n    var id = message[2];\\n\\n    initialContext.releaseGlobalContext();\\n    var context = new Context(requester, id);\\n    context.captureGlobalContext();\\n\\n    try {\\n        if (action === \"getAllPropertyNames\") {\\n            onNameRequest(code, context);\\n        } else if (action === \"inspect\") {\\n            onInspectRequest(code, context);\\n        } else if (action === \"run\") {\\n            onRunRequest(code, context);\\n        } else if (action === \"reply\") {\\n            onReply(message);\\n        } else {\\n            throw new Error(\"NEL: Unhandled action: \" + action);\\n        }\\n    } catch (error) {\\n        context.$$.sendError(error);\\n    }\\n\\n    context.releaseGlobalContext();\\n    initialContext.captureGlobalContext();\\n    initialContext._done = false;\\n}\\n\\nfunction onReply(message) {\\n    var reply = message[1];\\n    var id = message[3];\\n    requester.receive(id, reply);\\n}\\n\\nfunction onNameRequest(code, context) {\\n    var message = {\\n        id: context.id,\\n        names: getAllPropertyNames(run(code)),\\n        end: true,\\n    };\\n    context.send(message);\\n}\\n\\nfunction onInspectRequest(code, context) {\\n    var message = {\\n        id: context.id,\\n        inspection: inspect(run(code)),\\n        end: true,\\n    };\\n    context.send(message);\\n}\\n\\nfunction onRunRequest(code, context) {\\n    var result = run(code);\\n\\n    // If a result has already been sent, do not send this result.\\n    if (context._done) {\\n        return;\\n    }\\n\\n    // If the result is a Promise, send the result fulfilled by the promise\\n    if (isPromise(result)) {\\n        context.$$.sendResult(result);\\n        return;\\n    }\\n\\n    // If async mode has been enabled (and the result is not a Promise),\\n    // do not send this result.\\n    if (context._async) {\\n        return;\\n    }\\n\\n    // If no result has been sent yet and async mode has not been enabled,\\n    // send this result.\\n    context.$$.sendResult(result);\\n\\n    return;\\n\\n    function isPromise(output) {\\n        if (!global.Promise || typeof global.Promise !== \"function\") {\\n            return false;\\n        }\\n        return output instanceof global.Promise;\\n    }\\n}\\n\\nfunction getAllPropertyNames(object) {\\n    var propertyList = [];\\n\\n    if (object === undefined) {\\n        return [];\\n    }\\n\\n    if (object === null) {\\n        return [];\\n    }\\n\\n    var prototype;\\n    if (typeof object === \"boolean\") {\\n        prototype = Boolean.prototype;\\n    } else if (typeof object === \"number\") {\\n        prototype = Number.prototype;\\n    } else if (typeof object === \"string\") {\\n        prototype = String.prototype;\\n    } else {\\n        prototype = object;\\n    }\\n\\n    var prototypeList = [prototype];\\n\\n    function pushToPropertyList(e) {\\n        if (propertyList.indexOf(e) === -1) {\\n            propertyList.push(e);\\n        }\\n    }\\n\\n    while (prototype) {\\n        var names = Object.getOwnPropertyNames(prototype).sort();\\n        names.forEach(pushToPropertyList);\\n\\n        prototype = Object.getPrototypeOf(prototype);\\n        if (prototype === null) {\\n            break;\\n        }\\n\\n        if (prototypeList.indexOf(prototype) === -1) {\\n            prototypeList.push(prototype);\\n        }\\n    }\\n\\n    return propertyList;\\n}\\n\\nfunction inspect(object) {\\n    if (object === undefined) {\\n        return {\\n            string: \"undefined\",\\n            type: \"Undefined\",\\n        };\\n    }\\n\\n    if (object === null) {\\n        return {\\n            string: \"null\",\\n            type: \"Null\",\\n        };\\n    }\\n\\n    if (typeof object === \"boolean\") {\\n        return {\\n            string: object ? \"true\" : \"false\",\\n            type: \"Boolean\",\\n            constructorList: [\"Boolean\", \"Object\"],\\n        };\\n    }\\n\\n    if (typeof object === \"number\") {\\n        return {\\n            string: util.inspect(object),\\n            type: \"Number\",\\n            constructorList: [\"Number\", \"Object\"],\\n        };\\n    }\\n\\n    if (typeof object === \"string\") {\\n        return {\\n            string: object,\\n            type: \"String\",\\n            constructorList: [\"String\", \"Object\"],\\n            length: object.length,\\n        };\\n    }\\n\\n    if (typeof object === \"function\") {\\n        return {\\n            string: object.toString(),\\n            type: \"Function\",\\n            constructorList: [\"Function\", \"Object\"],\\n            length: object.length,\\n        };\\n    }\\n\\n    var constructorList = getConstructorList(object);\\n    var result = {\\n        string: toString(object),\\n        type: constructorList[0] || \"\",\\n        constructorList: constructorList,\\n    };\\n\\n    if (\"length\" in object) {\\n        result.length = object.length;\\n    }\\n\\n    return result;\\n\\n    function toString(object) {\\n        try {\\n            return util.inspect(object.valueOf());\\n        } catch (e) {\\n            return util.inspect(object);\\n        }\\n    }\\n\\n    function getConstructorList(object) {\\n        var constructorList = [];\\n\\n        for (\\n            var prototype = Object.getPrototypeOf(object);\\n            prototype && prototype.constructor;\\n            prototype = Object.getPrototypeOf(prototype)\\n        ) {\\n            constructorList.push(prototype.constructor.name);\\n        }\\n\\n        return constructorList;\\n    }\\n}\\n\\nfunction run(code) {\\n    return vm.runInThisContext(code);\\n}\\n\\n})();',\n",
       "     execPath: 'C:\\\\ProgramData\\\\Anaconda3\\\\node.exe',\n",
       "     debugPort: 9229,\n",
       "     _debugProcess: [Function: _debugProcess],\n",
       "     _debugEnd: [Function: _debugEnd],\n",
       "     _startProfilerIdleNotifier: [Function: _startProfilerIdleNotifier],\n",
       "     _stopProfilerIdleNotifier: [Function: _stopProfilerIdleNotifier],\n",
       "     abort: [Function: abort],\n",
       "     chdir: [Function: chdir],\n",
       "     umask: [Function: umask],\n",
       "     _getActiveRequests: [Function: _getActiveRequests],\n",
       "     _getActiveHandles: [Function: _getActiveHandles],\n",
       "     _kill: [Function: _kill],\n",
       "     cwd: [Function: cwd],\n",
       "     dlopen: [Function: dlopen],\n",
       "     reallyExit: [Function: reallyExit],\n",
       "     uptime: [Function: uptime],\n",
       "     _rawDebug: [Function],\n",
       "     moduleLoadList:\n",
       "      [ 'Binding contextify',\n",
       "        'Internal Binding worker',\n",
       "        'NativeModule events',\n",
       "        'NativeModule internal/async_hooks',\n",
       "        'NativeModule internal/errors',\n",
       "        'Binding uv',\n",
       "        'Binding buffer',\n",
       "        'Binding async_wrap',\n",
       "        'Binding config',\n",
       "        'Binding icu',\n",
       "        'NativeModule util',\n",
       "        'NativeModule internal/util/inspect',\n",
       "        'Binding util',\n",
       "        'NativeModule internal/util',\n",
       "        'Binding constants',\n",
       "        'Internal Binding types',\n",
       "        'NativeModule internal/util/types',\n",
       "        'NativeModule internal/validators',\n",
       "        'NativeModule internal/encoding',\n",
       "        'NativeModule buffer',\n",
       "        'NativeModule internal/buffer',\n",
       "        'NativeModule internal/process/per_thread',\n",
       "        'NativeModule internal/process/main_thread_only',\n",
       "        'NativeModule internal/process/stdio',\n",
       "        'NativeModule assert',\n",
       "        'NativeModule internal/assert',\n",
       "        'NativeModule fs',\n",
       "        'NativeModule path',\n",
       "        'NativeModule internal/constants',\n",
       "        'Binding fs',\n",
       "        'NativeModule internal/fs/streams',\n",
       "        'NativeModule internal/fs/utils',\n",
       "        'NativeModule stream',\n",
       "        'NativeModule internal/streams/pipeline',\n",
       "        'NativeModule internal/streams/end-of-stream',\n",
       "        'NativeModule internal/streams/legacy',\n",
       "        'NativeModule _stream_readable',\n",
       "        'NativeModule internal/streams/buffer_list',\n",
       "        'NativeModule internal/streams/destroy',\n",
       "        'NativeModule internal/streams/state',\n",
       "        'NativeModule _stream_writable',\n",
       "        'NativeModule _stream_duplex',\n",
       "        'NativeModule _stream_transform',\n",
       "        'NativeModule _stream_passthrough',\n",
       "        'NativeModule internal/url',\n",
       "        'NativeModule internal/querystring',\n",
       "        'Binding url',\n",
       "        'NativeModule internal/process/warning',\n",
       "        'NativeModule internal/process/next_tick',\n",
       "        'NativeModule internal/process/promises',\n",
       "        'NativeModule internal/fixed_queue',\n",
       "        'Binding performance',\n",
       "        'Binding trace_events',\n",
       "        'NativeModule internal/inspector_async_hook',\n",
       "        'Binding inspector',\n",
       "        'Internal Binding options',\n",
       "        'NativeModule child_process',\n",
       "        'Binding pipe_wrap',\n",
       "        'NativeModule internal/child_process',\n",
       "        'NativeModule net',\n",
       "        'NativeModule internal/net',\n",
       "        'Binding tty_wrap',\n",
       "        'Binding stream_wrap',\n",
       "        'Binding tcp_wrap',\n",
       "        'NativeModule internal/stream_base_commons',\n",
       "        'NativeModule internal/timers',\n",
       "        'NativeModule dgram',\n",
       "        'NativeModule internal/dgram',\n",
       "        'Binding udp_wrap',\n",
       "        'Binding process_wrap',\n",
       "        'NativeModule internal/socket_list',\n",
       "        'Binding spawn_sync',\n",
       "        'Binding http_parser',\n",
       "        'NativeModule _http_common',\n",
       "        'NativeModule internal/freelist',\n",
       "        'NativeModule internal/http',\n",
       "        'NativeModule _http_incoming',\n",
       "        'NativeModule string_decoder',\n",
       "        'Internal Binding string_decoder',\n",
       "        'NativeModule timers',\n",
       "        'Binding timer_wrap',\n",
       "        'NativeModule internal/linkedlist',\n",
       "        'NativeModule internal/modules/cjs/loader',\n",
       "        'NativeModule vm',\n",
       "        'NativeModule internal/modules/cjs/helpers',\n",
       "        'NativeModule console',\n",
       "        'NativeModule internal/fs/sync_write_stream' ],\n",
       "     binding: [Function: binding],\n",
       "     _linkedBinding: [Function: _linkedBinding],\n",
       "     _events:\n",
       "      { newListener: [Array],\n",
       "        removeListener: [Array],\n",
       "        warning: [Function],\n",
       "        internalMessage: [Function],\n",
       "        message: [Function: bound onMessage],\n",
       "        uncaughtException: [Function: bound onUncaughtException] },\n",
       "     _eventsCount: 6,\n",
       "     _maxListeners: undefined,\n",
       "     _fatalException: [Function],\n",
       "     domain: null,\n",
       "     _exiting: false,\n",
       "     assert: [Function: deprecated],\n",
       "     config: { target_defaults: [Object], variables: [Object] },\n",
       "     setUncaughtExceptionCaptureCallback: [Function],\n",
       "     hasUncaughtExceptionCaptureCallback: [Function],\n",
       "     emitWarning: [Function],\n",
       "     nextTick: [Function: nextTick],\n",
       "     _tickCallback: [Function: _tickCallback],\n",
       "     stdin: [Getter],\n",
       "     openStdin: [Function],\n",
       "     hrtime: { [Function: hrtime] bigint: [Function] },\n",
       "     cpuUsage: [Function: cpuUsage],\n",
       "     memoryUsage: [Function: memoryUsage],\n",
       "     exit: [Function],\n",
       "     kill: [Function],\n",
       "     channel:\n",
       "      Pipe {\n",
       "        buffering: false,\n",
       "        pendingHandle: null,\n",
       "        onread: [Function],\n",
       "        sockets: [Object] },\n",
       "     _channel: [Getter/Setter],\n",
       "     _handleQueue: null,\n",
       "     _pendingMessage: null,\n",
       "     send: [Function],\n",
       "     _send: [Function],\n",
       "     connected: true,\n",
       "     disconnect: [Function],\n",
       "     _disconnect: [Function],\n",
       "     argv0: 'C:\\\\ProgramData\\\\Anaconda3\\\\node.exe',\n",
       "     allowedNodeEnvironmentFlags: [Getter/Setter],\n",
       "     stdout:\n",
       "      Transform {\n",
       "        _readableState: [ReadableState],\n",
       "        readable: true,\n",
       "        _events: [Object],\n",
       "        _eventsCount: 3,\n",
       "        _maxListeners: undefined,\n",
       "        _writableState: [WritableState],\n",
       "        writable: true,\n",
       "        allowHalfOpen: true,\n",
       "        _transformState: [Object],\n",
       "        _id: 288 },\n",
       "     stderr:\n",
       "      Transform {\n",
       "        _readableState: [ReadableState],\n",
       "        readable: true,\n",
       "        _events: [Object],\n",
       "        _eventsCount: 3,\n",
       "        _maxListeners: undefined,\n",
       "        _writableState: [WritableState],\n",
       "        writable: true,\n",
       "        allowHalfOpen: true,\n",
       "        _transformState: [Object],\n",
       "        _id: 288 } },\n",
       "  Buffer:\n",
       "   { [Function: Buffer]\n",
       "     poolSize: 8192,\n",
       "     from: [Function: from],\n",
       "     of: [Function: of],\n",
       "     alloc: [Function: alloc],\n",
       "     allocUnsafe: [Function: allocUnsafe],\n",
       "     allocUnsafeSlow: [Function: allocUnsafeSlow],\n",
       "     isBuffer: [Function: isBuffer],\n",
       "     compare: [Function: compare],\n",
       "     isEncoding: [Function: isEncoding],\n",
       "     concat: [Function: concat],\n",
       "     byteLength: [Function: byteLength],\n",
       "     [Symbol(kIsEncodingSymbol)]: [Function: isEncoding] },\n",
       "  clearImmediate: [Function: clearImmediate],\n",
       "  clearInterval: [Function: clearInterval],\n",
       "  clearTimeout: [Function: clearTimeout],\n",
       "  setImmediate:\n",
       "   { [Function: setImmediate] [Symbol(util.promisify.custom)]: [Function] },\n",
       "  setInterval: [Function: setInterval],\n",
       "  setTimeout:\n",
       "   { [Function: setTimeout] [Symbol(util.promisify.custom)]: [Function] },\n",
       "  __filename: '[eval]',\n",
       "  exports: {},\n",
       "  module:\n",
       "   Module {\n",
       "     id: '[eval]',\n",
       "     exports: {},\n",
       "     parent: undefined,\n",
       "     filename:\n",
       "      'C:\\\\Users\\\\ruszk\\\\Google Drive\\\\Learning\\\\JavaScript\\\\[eval]',\n",
       "     loaded: false,\n",
       "     children: [],\n",
       "     paths:\n",
       "      [ 'C:\\\\Users\\\\ruszk\\\\Google Drive\\\\Learning\\\\JavaScript\\\\node_modules',\n",
       "        'C:\\\\Users\\\\ruszk\\\\Google Drive\\\\Learning\\\\node_modules',\n",
       "        'C:\\\\Users\\\\ruszk\\\\Google Drive\\\\node_modules',\n",
       "        'C:\\\\Users\\\\ruszk\\\\node_modules',\n",
       "        'C:\\\\Users\\\\node_modules',\n",
       "        'C:\\\\node_modules' ] },\n",
       "  __dirname: '.',\n",
       "  require:\n",
       "   { [Function: require]\n",
       "     resolve: { [Function: resolve] paths: [Function: paths] },\n",
       "     main: undefined,\n",
       "     extensions:\n",
       "      { '.js': [Function], '.json': [Function], '.node': [Function] },\n",
       "     cache: {} },\n",
       "  '$$mimer$$': [Function: defaultMimer],\n",
       "  '$$done$$': [Function: bound bound done],\n",
       "  i: 3,\n",
       "  signedIn: null,\n",
       "  w: 4,\n",
       "  now: 2021-02-18T18:16:00.523Z,\n",
       "  today: 1613672160597,\n",
       "  tomorrow: 1613758560597,\n",
       "  todayDate: 2021-02-18T18:16:00.597Z,\n",
       "  tomorrowDate: 2021-02-19T18:16:00.597Z,\n",
       "  birthday: 1975-01-31T00:00:00.000Z,\n",
       "  str: 'This is a sample string',\n",
       "  re: /Sample/i,\n",
       "  greeting: 'Hello',\n",
       "  tip: 8,\n",
       "  totalAfterTax: 53.03,\n",
       "  opinion: 'This nanodegree is amazing',\n",
       "  showMessage: [Function: showMessage],\n",
       "  q: 0,\n",
       "  my_string: 'Udacity',\n",
       "  studentName: 'John',\n",
       "  haveEnrolledInCourse: true,\n",
       "  haveCompletedTheCourse: false,\n",
       "  a: [Function: a],\n",
       "  b: [Function: b],\n",
       "  weather: 'sunny',\n",
       "  isGoing: true,\n",
       "  color: 'green',\n",
       "  option: 3,\n",
       "  month: 12,\n",
       "  days: 31,\n",
       "  education: 'no high school diploma',\n",
       "  salary: 25636,\n",
       "  findDayOfWeek: [Function: findDayOfWeek],\n",
       "  start: 6,\n",
       "  x: 11,\n",
       "  out: 'Fizz',\n",
       "  add1: [Function: add1],\n",
       "  newNum: 5,\n",
       "  isThisWorking: [Function: isThisWorking],\n",
       "  test:\n",
       "   [ 112,\n",
       "     929,\n",
       "     11,\n",
       "     103,\n",
       "     199,\n",
       "     1000,\n",
       "     7,\n",
       "     1,\n",
       "     124,\n",
       "     37,\n",
       "     4,\n",
       "     19,\n",
       "     400,\n",
       "     3775,\n",
       "     299,\n",
       "     136,\n",
       "     209,\n",
       "     148,\n",
       "     169,\n",
       "     299,\n",
       "     106,\n",
       "     109,\n",
       "     20,\n",
       "     58,\n",
       "     139,\n",
       "     59,\n",
       "     103,\n",
       "     1,\n",
       "     139 ],\n",
       "  add: [Function: add],\n",
       "  divideByTwo: [Function: divideByTwo],\n",
       "  sum: 12,\n",
       "  average: 6,\n",
       "  sayHi: [Function: sayHi],\n",
       "  catSays: [Function: catSays],\n",
       "  helloCat: [Function: helloCat],\n",
       "  favoriteMovie: [Function: displayFavorite],\n",
       "  movies: [Function: movies],\n",
       "  TestTry: [Function: TestTry],\n",
       "  checkValue: [Function: checkValue],\n",
       "  traceIt: [Function: traceIt],\n",
       "  codedURL: 'difficult%20%26%24%25%40%23%20to%20transmit',\n",
       "  donuts:\n",
       "   [ 'JELLY DONUT HOLE',\n",
       "     'CHOCOLATE DONUT HOLE',\n",
       "     'GLAZED DONUT HOLE' ],\n",
       "  mixedData: [ 'abcd', 1, true, undefined, null, 'all the things' ],\n",
       "  arraysInArrays:\n",
       "   [ [ 1, 2, 3 ],\n",
       "     [ 'Julia', 'James' ],\n",
       "     [ true, false, true, false ] ],\n",
       "  captain: 'Mal',\n",
       "  second: 'Zoe',\n",
       "  pilot: 'Wash',\n",
       "  companion: 'Inara',\n",
       "  mercenary: 'Jayne',\n",
       "  mechanic: 'Kaylee',\n",
       "  crew:\n",
       "   [ 'Inara',\n",
       "     'Jayne',\n",
       "     'Kaylee',\n",
       "     'Mal',\n",
       "     'Wash',\n",
       "     'Zoe',\n",
       "     'Simon',\n",
       "     'River',\n",
       "     'Book' ],\n",
       "  doctor: 'Simon',\n",
       "  sister:\n",
       "   { name: 'Sarah',\n",
       "     age: 23,\n",
       "     parents: [ 'alice', 'andy' ],\n",
       "     siblings: [ 'julia' ],\n",
       "     favoriteColor: 'purple',\n",
       "     pets: true,\n",
       "     paintPicture: [Function: paintPicture] },\n",
       "  shepherd: 'Book',\n",
       "  rainbow: [ 'Red', 'Orange', 'Yellow', 'Green', 'Blue', 'Purple' ],\n",
       "  fruits:\n",
       "   [ 'apples', 'pears', 'cherries', 'bananas', 'peaches', 'oranges' ],\n",
       "  vegetables: [ 'carrots', 'peas', 'beans', 'lettuce' ],\n",
       "  words: [ 'cat', 'in', 'hat' ],\n",
       "  improvedDonuts:\n",
       "   [ 'JELLY DONUT HOLE-GLAZED DONUT HOLE donut',\n",
       "     'CHOCOLATE DONUT HOLE-JELLY DONUT HOLE donut',\n",
       "     'GLAZED DONUT HOLE-CHOCOLATE DONUT HOLE donut' ],\n",
       "  donutBox:\n",
       "   [ [ 'glazed', 'chocolate glazed', 'cinnamon' ],\n",
       "     [ 'powdered', 'sprinkled', 'glazed cruller' ],\n",
       "     [ 'chocolate cruller', 'Boston creme', 'creme de leche' ] ],\n",
       "  row: 3,\n",
       "  column: 3,\n",
       "  numbers: [ 1, 2, 3 ],\n",
       "  tree: { type: 'oak', age: 120, isLeavesOn: false },\n",
       "  auto: { location: 'garage', ignition: 'off', fueled: true },\n",
       "  changeToEight: [Function: changeToEight],\n",
       "  setToBlue: [Function: setToBlue],\n",
       "  whoThis: [Function: whoThis],\n",
       "  trickyish: true,\n",
       "  person: 'Richard',\n",
       "  richardSaysHi: [Function: richardSaysHi],\n",
       "  alertThenReturn: [Function: alertThenReturn],\n",
       "  callAndAdd: [Function: callAndAdd],\n",
       "  returnsThree: [Function: returnsThree],\n",
       "  each: [Function: each],\n",
       "  isPositive: [Function: isPositive],\n",
       "  logIfOdd: [Function: logIfOdd],\n",
       "  length: [Function: length],\n",
       "  remember: [Function: remember],\n",
       "  myCounter: [Function: myCounter],\n",
       "  SoftwareDeveloper: [Function: SoftwareDeveloper],\n",
       "  favoriteLanguage: 'JavaScript',\n",
       "  name: 'David',\n",
       "  introduce: [Function],\n",
       "  console:\n",
       "   Console {\n",
       "     log: [Function: bound log],\n",
       "     debug: [Function: bound log],\n",
       "     info: [Function: bound log],\n",
       "     dirxml: [Function: bound log],\n",
       "     warn: [Function: bound warn],\n",
       "     error: [Function: bound warn],\n",
       "     dir: [Function: bound dir],\n",
       "     time: [Function: bound time],\n",
       "     timeEnd: [Function: bound timeEnd],\n",
       "     timeLog: [Function: bound timeLog],\n",
       "     trace: [Function: bound trace],\n",
       "     assert: [Function: bound assert],\n",
       "     clear: [Function: bound clear],\n",
       "     count: [Function: bound count],\n",
       "     countReset: [Function: bound countReset],\n",
       "     group: [Function: bound group],\n",
       "     groupCollapsed: [Function: bound group],\n",
       "     groupEnd: [Function: bound groupEnd],\n",
       "     table: [Function: bound ],\n",
       "     Console: [Function: Console],\n",
       "     [Symbol(counts)]: Map {},\n",
       "     [Symbol(kColorMode)]: 'auto' },\n",
       "  '$$':\n",
       "   { async: [Function: bound async],\n",
       "     done: [Function: bound done],\n",
       "     sendResult: [Function: bound ],\n",
       "     sendError: [Function: bound ],\n",
       "     mime: [Function: bound ],\n",
       "     text: [Function: bound ],\n",
       "     html: [Function: bound ],\n",
       "     svg: [Function: bound ],\n",
       "     png: [Function: bound ],\n",
       "     jpeg: [Function: bound ],\n",
       "     json: [Function: bound ],\n",
       "     input: [Function: bound input],\n",
       "     display: [Function: bound createDisplay],\n",
       "     clear: [Function: bound clear] },\n",
       "  multiply: [Function: multiply],\n",
       "  window: [Circular] }"
      ]
     },
     "execution_count": 288,
     "metadata": {},
     "output_type": "execute_result"
    }
   ],
   "source": [
    "function multiply(n1, n2) {\n",
    "  return n1 * n2;\n",
    "}\n",
    "window = this;"
   ]
  },
  {
   "cell_type": "markdown",
   "metadata": {},
   "source": [
    "example of `call()`"
   ]
  },
  {
   "cell_type": "code",
   "execution_count": 289,
   "metadata": {},
   "outputs": [
    {
     "data": {
      "text/plain": [
       "12"
      ]
     },
     "execution_count": 289,
     "metadata": {},
     "output_type": "execute_result"
    }
   ],
   "source": [
    "multiply.call(window, 3, 4);"
   ]
  },
  {
   "cell_type": "markdown",
   "metadata": {},
   "source": [
    "example of `apply()`"
   ]
  },
  {
   "cell_type": "code",
   "execution_count": 290,
   "metadata": {},
   "outputs": [
    {
     "data": {
      "text/plain": [
       "12"
      ]
     },
     "execution_count": 290,
     "metadata": {},
     "output_type": "execute_result"
    }
   ],
   "source": [
    "multiply.apply(window, [3, 4]);"
   ]
  },
  {
   "cell_type": "markdown",
   "metadata": {},
   "source": [
    "Great! Note that the first argument in both `call()` and `apply()` is still `window` (i.e., the object to bind the value of this to).\n",
    "\n",
    "#### Borrow a method\n",
    "We can borrow on object's method to be used with a different object:"
   ]
  },
  {
   "cell_type": "code",
   "execution_count": 291,
   "metadata": {},
   "outputs": [],
   "source": [
    "// object with a method\n",
    "const mockingbird = {\n",
    "  title: 'To Kill a Mockingbird',\n",
    "  describe: function () {\n",
    "    console.log(`${this.title} is a classic novel`);\n",
    "  }\n",
    "};\n",
    "// object without method\n",
    "const pride = {\n",
    "  title: 'Pride and Prejudice'\n",
    "};"
   ]
  },
  {
   "cell_type": "code",
   "execution_count": 292,
   "metadata": {},
   "outputs": [
    {
     "name": "stdout",
     "output_type": "stream",
     "text": [
      "To Kill a Mockingbird is a classic novel\n",
      "Pride and Prejudice is a classic novel\n",
      "Pride and Prejudice is a classic novel\n"
     ]
    }
   ],
   "source": [
    "mockingbird.describe();\n",
    "// call mockingbird object's describe method for pride object\n",
    "// both objects has title attribute, necessary for the describe method\n",
    "mockingbird.describe.call(pride);\n",
    "mockingbird.describe.apply(pride);"
   ]
  },
  {
   "cell_type": "markdown",
   "metadata": {},
   "source": [
    "Note that the first argument passed into both `call()` and `apply()` is the same: `pride`. Since the `describe()` method doesn't take any arguments, the only difference between `mockingbird.describe.call(pride)` and `mockingbird.describe.apply(pride)` is just the method! Both approaches produce the same result.\n",
    "\n",
    "#### Use a function on different objects\n",
    "If a function uses `this` in the code, similarly to a constructor function, then we can use it on different objects, only have to make sure, that all objects has the attributes used inside the function.\n",
    "In the next example, the `sayHello()` function uses `this.name` property, the following `cat` and `dog` objects both has the `name` attribute.\n",
    "This time, the `sayHello()` function also requires a parameter."
   ]
  },
  {
   "cell_type": "code",
   "execution_count": 293,
   "metadata": {},
   "outputs": [
    {
     "name": "stdout",
     "output_type": "stream",
     "text": [
      "Nice to see you, Bailey\n",
      "Hello, Bernie\n"
     ]
    }
   ],
   "source": [
    "function sayHello(message) {\n",
    "  console.log(`${message}, ${this.name}`);\n",
    "}\n",
    "\n",
    "const cat = {\n",
    "  name: 'Bailey'\n",
    "};\n",
    "\n",
    "const dog = {\n",
    "  name: 'Bernie'\n",
    "};\n",
    "\n",
    "sayHello.call(cat, 'Nice to see you');\n",
    "sayHello.apply(dog, ['Hello']);"
   ]
  },
  {
   "cell_type": "markdown",
   "metadata": {},
   "source": [
    "#### When would you choose `call()` or `apply()`?\n",
    "\n",
    "`call()` may be limited if you don't know ahead of time the number of arguments that the function needs. In this case, `apply()` would be a better option, since it simply takes an array of arguments, then unpacks them to pass along to the function. Keep in mind that the unpacking comes at a minor performance cost, but it shouldn't be much of an issue."
   ]
  },
  {
   "cell_type": "markdown",
   "metadata": {},
   "source": [
    "#### Callbacks and this\n",
    "The value of `this` has some potential scope issues when callback functions are involved, and things can get a bit tricky. Let's check it out below."
   ]
  },
  {
   "cell_type": "code",
   "execution_count": 294,
   "metadata": {},
   "outputs": [],
   "source": [
    "// function takes an other function as parameter\n",
    "function invokeTwice(cb) {\n",
    "   cb();\n",
    "   cb();\n",
    "}\n",
    "// object with method\n",
    "const canary = {\n",
    "  age: 5,\n",
    "  growOneYear: function () {\n",
    "    this.age += 1;\n",
    "  }\n",
    "};"
   ]
  },
  {
   "cell_type": "markdown",
   "metadata": {},
   "source": [
    "First, invoking `growOneYear()` works as expected, updating the value of the `canary` object's `age` property from `5` to `6`:"
   ]
  },
  {
   "cell_type": "code",
   "execution_count": 295,
   "metadata": {},
   "outputs": [
    {
     "data": {
      "text/plain": [
       "6"
      ]
     },
     "execution_count": 295,
     "metadata": {},
     "output_type": "execute_result"
    }
   ],
   "source": [
    "canary.growOneYear();\n",
    "canary.age;"
   ]
  },
  {
   "cell_type": "markdown",
   "metadata": {},
   "source": [
    "However, passing `canary.growOneYear` method (function) as an argument into `invokeTwice()` produces an odd result:"
   ]
  },
  {
   "cell_type": "code",
   "execution_count": 296,
   "metadata": {},
   "outputs": [
    {
     "data": {
      "text/plain": [
       "6"
      ]
     },
     "execution_count": 296,
     "metadata": {},
     "output_type": "execute_result"
    }
   ],
   "source": [
    "invokeTwice(canary.growOneYear);\n",
    "canary.age;"
   ]
  },
  {
   "cell_type": "markdown",
   "metadata": {},
   "source": [
    "We kind of expected that the `invokeTwice()` will call `canary.growOneYear` method 2 times, so the `canary.age` will cange from `6` to `8`. But our expectation was unfunded, because using `canary.growOneYear` method out of context results in a it gets treated as a normal function, and so `this` gets assigned to the global `window` object (as we learned before), not to the object `canary`.\n",
    "\n",
    "#### Saving `this` with an Anonymous Closure\n",
    "Recall that simply invoking a normal function will set the value of `this` to the global object (i.e., window). This is an issue, because we want this to be the `canary` object!\n",
    "\n",
    "So how can we make sure that `this` is preserved?\n",
    "\n",
    "One way to resolve this issue is to use an **anonymous closure** to close over the `canary` object:"
   ]
  },
  {
   "cell_type": "code",
   "execution_count": 297,
   "metadata": {},
   "outputs": [
    {
     "data": {
      "text/plain": [
       "8"
      ]
     },
     "execution_count": 297,
     "metadata": {},
     "output_type": "execute_result"
    }
   ],
   "source": [
    "invokeTwice(function () { \n",
    "  canary.growOneYear(); \n",
    "});\n",
    "\n",
    "canary.age;"
   ]
  },
  {
   "cell_type": "markdown",
   "metadata": {},
   "source": [
    "Using this approach, invoking `invokeTwice()` still sets the value of `this` to `window`. However, `this` has no effect on the closure; within the anonymous function, the `growOneYear()` method will still be directly called onto the `canary` object! As a result, the value of `canary`'s `age` property increases from `6` to `8`.\n",
    "\n",
    "Since this is such a common pattern, JavaScript provides an alternate and less verbose approach: the `bind()` method.\n",
    "\n",
    "#### Saving `this` with `bind()`\n",
    "Similar to `call()` and `apply()`, the `bind()` method allows us to directly define a value for `this`. `bind()` is a method that is also called _on_ a function, but unlike `call()` or `apply()`, which both invoke the function right away -- `bind()` returns a new function that, when called, has `this` set to the value we give it."
   ]
  },
  {
   "cell_type": "code",
   "execution_count": 298,
   "metadata": {},
   "outputs": [
    {
     "data": {
      "text/plain": [
       "4"
      ]
     },
     "execution_count": 298,
     "metadata": {},
     "output_type": "execute_result"
    }
   ],
   "source": [
    "// create an object with an age attribute\n",
    "const crow = { age: 3 };\n",
    "\n",
    "// save the canary's method with crow object under new name\n",
    "let crowGrowOneYear = canary.growOneYear.bind(crow);\n",
    "// call new function\n",
    "crowGrowOneYear();\n",
    "// check crow object's age attribute\n",
    "crow.age;"
   ]
  },
  {
   "cell_type": "markdown",
   "metadata": {},
   "source": [
    "Now, having new function `crowGrowOneYear()` pointing to `crow` object, we can pass to the invokeTwice() function:"
   ]
  },
  {
   "cell_type": "code",
   "execution_count": 299,
   "metadata": {},
   "outputs": [
    {
     "data": {
      "text/plain": [
       "6"
      ]
     },
     "execution_count": 299,
     "metadata": {},
     "output_type": "execute_result"
    }
   ],
   "source": [
    "invokeTwice(crowGrowOneYear);\n",
    "crow.age;"
   ]
  },
  {
   "cell_type": "markdown",
   "metadata": {},
   "source": [
    "`crow.age` has the expected value of `6`!\n",
    "\n",
    "We can leave out saving the new function, same effect:"
   ]
  },
  {
   "cell_type": "code",
   "execution_count": 300,
   "metadata": {},
   "outputs": [
    {
     "data": {
      "text/plain": [
       "8"
      ]
     },
     "execution_count": 300,
     "metadata": {},
     "output_type": "execute_result"
    }
   ],
   "source": [
    "invokeTwice(canary.growOneYear.bind(crow));\n",
    "crow.age;"
   ]
  },
  {
   "cell_type": "markdown",
   "metadata": {},
   "source": [
    "**Further Research**\n",
    "- Kyle Simpson's [You Don't Know JS](https://github.com/getify/You-Dont-Know-JS/blob/master/this%20&%20object%20prototypes/README.md#you-dont-know-js-this--object-prototypes)\n",
    "- [call()](https://developer.mozilla.org/en-US/docs/Web/JavaScript/Reference/Global_Objects/Function/call) on MDN\n",
    "- [apply()](https://developer.mozilla.org/en-US/docs/Web/JavaScript/Reference/Global_Objects/Function/apply) on MDN\n",
    "- [bind()](https://developer.mozilla.org/en-US/docs/Web/JavaScript/Reference/Global_Objects/Function/bind) on MDN"
   ]
  },
  {
   "cell_type": "markdown",
   "metadata": {},
   "source": [
    "## Prototypal Inheritance\n",
    "**Inheritance** in JavaScript is when an object is based on another object. Inheritance allows us to reuse existing code, having objects take on properties of other objects.\n",
    "\n",
    "Recall that objects contain data (i.e., properties), as well as the means to manipulate that data (i.e., methods). Earlier  we simply added methods directly into the constructor function itself:"
   ]
  },
  {
   "cell_type": "code",
   "execution_count": 301,
   "metadata": {},
   "outputs": [],
   "source": [
    "function Cat(name) {\n",
    " this.lives = 9;\n",
    " this.name = name;\n",
    "\n",
    " this.sayName = function () {\n",
    "   console.log(`Meow! My name is ${this.name}`);\n",
    " };\n",
    "}"
   ]
  },
  {
   "cell_type": "markdown",
   "metadata": {},
   "source": [
    "This way, a `sayName` method gets added to all Cat objects by saving a function to the `sayName` attribute of newly-created `Cat` objects.\n",
    "\n",
    "This works just fine, but what if we want to instantiate more and more `Cat` objects with this constructor? You'll create a new function every single time for that `Cat` object's `sayName`! What's more: if you ever want to make changes to the method, you'll have to update all objects individually. In this situation, it makes sense to have all objects created by the same `Cat` constructor function just share a single `sayName` method.\n",
    "\n",
    "#### Adding Methods to the Prototype\n",
    "To save memory and keep things DRY, we can add methods to the constructor function's `prototype` property. The `prototype` is just an object, and all objects created by a constructor function keep a reference to the prototype. Those objects can even use the `prototype`'s properties as their own!"
   ]
  },
  {
   "cell_type": "code",
   "execution_count": 302,
   "metadata": {},
   "outputs": [
    {
     "data": {
      "text/plain": [
       "[Function]"
      ]
     },
     "execution_count": 302,
     "metadata": {},
     "output_type": "execute_result"
    }
   ],
   "source": [
    "// declare a constructor function\n",
    "function Dalmatian(name) {\n",
    " this.name = name;\n",
    "};\n",
    "// place a method into the constructor function's prototype object\n",
    "Dalmatian.prototype.sayName = function () {\n",
    "   console.log(`Woof! My name is ${this.name}`);\n",
    "};"
   ]
  },
  {
   "cell_type": "code",
   "execution_count": 303,
   "metadata": {},
   "outputs": [
    {
     "name": "stdout",
     "output_type": "stream",
     "text": [
      "Woof! My name is Spot\n"
     ]
    }
   ],
   "source": [
    "// create a new Dalmatian object\n",
    "dalmatian99 = new Dalmatian('Spot');\n",
    "// invoke the prototype sayName method\n",
    "dalmatian99.sayName();"
   ]
  },
  {
   "cell_type": "markdown",
   "metadata": {},
   "source": [
    "JavaScript leverages this secret link -- between an object and its prototype -- to implement inheritance. Consider the following prototype chain:\n",
    "\n",
    "![prototype-chain.png](./img/prototype-chain.png)\n",
    "\n",
    "The `Cat()` constructor function is invoked using the `new` operator, which creates the `bailey` instance (object). Note that the `meow()` method is defined in the prototype of the bailey object's constructor function. The `prototype` is just an object, and all objects created by that constructor are secretly linked to the `prototype`. As such, we can execute `bailey.meow()` as if it were `bailey`'s own method!\n",
    "\n",
    "Recall that each function has a `prototype` property, which is really just an object. When this function is invoked as a constructor using the `new` operator, it creates and returns a new object. This object is secretly linked to its constructor's prototype, and this secret link allows the object to access the prototype's properties and methods as if it were its own!\n",
    "\n",
    "Since we know that the `prototype` property just points to a regular object, *that* object itself also has a secret link to *its* prototype. And that prototype object also has reference to its *own* prototype -- and so on. This is how the **prototype chain** is formed.\n",
    "\n",
    "#### Finding Properties and Methods on the Prototype Chain\n",
    "Whether you're accessing a property (e.g., `bailey.lives`) or invoking a method (e.g., `bailey.meow()`), the JavaScript interpreter looks for them along the prototype chain in a very particular order:\n",
    "\n",
    "1. First, the JavaScript engine will look at the object's own properties. This means that any properties and methods defined directly in the object itself will take precedence over any properties and methods elsewhere if their names are the same (similar to variable shadowing in the scope chain).\n",
    "2. If it doesn't find the property in question, it will then search the object's constructor's prototype for a match.\n",
    "3. If the property doesn't exist in the prototype, the JavaScript engine will continue looking up the chain.\n",
    "4. At the very end of the chain is the `Object()` object, or the top-level parent. If the property still cannot be found, the property is `undefined`.\n",
    "\n",
    "While both approaches work just fine (i.e., any instances created by the constructor function will be able to invoke a `sayName()` method), the second approach is more ideal. By adding methods to the `prototype`, memory is saved as more `Dalmatian` objects are instantiated. Along with being more efficient, we also don't have to update all objects individually should we decide to change a method for all."
   ]
  },
  {
   "cell_type": "markdown",
   "metadata": {},
   "source": [
    "#### 💡 Replacing the prototype Object 💡\n",
    "What happens if you completely replace a function's `prototype` object? How does this affect objects created by that function? Let's look at a simple `Hamster` constructor function and instantiate a few objects:"
   ]
  },
  {
   "cell_type": "code",
   "execution_count": 304,
   "metadata": {},
   "outputs": [],
   "source": [
    "function Hamster() {\n",
    "  this.hasFur = true;\n",
    "}\n",
    "\n",
    "let waffle = new Hamster();\n",
    "let pancake = new Hamster();"
   ]
  },
  {
   "cell_type": "markdown",
   "metadata": {},
   "source": [
    "First, note that even after we made the new objects, `waffle` and `pancake`, we can still add properties to `Hamster`'s `prototype` and it will still be able to access those new properties."
   ]
  },
  {
   "cell_type": "code",
   "execution_count": 305,
   "metadata": {},
   "outputs": [
    {
     "name": "stdout",
     "output_type": "stream",
     "text": [
      "Chomp chomp chomp!\n",
      "Chomp chomp chomp!\n"
     ]
    }
   ],
   "source": [
    "Hamster.prototype.eat = function () {\n",
    "  console.log('Chomp chomp chomp!');\n",
    "};\n",
    "\n",
    "waffle.eat();\n",
    "pancake.eat();"
   ]
  },
  {
   "cell_type": "markdown",
   "metadata": {},
   "source": [
    "Now, let's replace `Hamster`'s `prototype` object with something else entirely:"
   ]
  },
  {
   "cell_type": "code",
   "execution_count": 306,
   "metadata": {},
   "outputs": [
    {
     "data": {
      "text/plain": [
       "{ isHungry: false, color: 'brown' }"
      ]
     },
     "execution_count": 306,
     "metadata": {},
     "output_type": "execute_result"
    }
   ],
   "source": [
    "Hamster.prototype = {\n",
    "  isHungry: false,\n",
    "  color: 'brown'\n",
    "};"
   ]
  },
  {
   "cell_type": "markdown",
   "metadata": {},
   "source": [
    "The previous objects don't have access to the updated `prototype`'s properties; they just retain their secret link to the old `prototype`:"
   ]
  },
  {
   "cell_type": "code",
   "execution_count": 307,
   "metadata": {},
   "outputs": [
    {
     "name": "stdout",
     "output_type": "stream",
     "text": [
      "undefined\n",
      "Chomp chomp chomp!\n",
      "undefined\n"
     ]
    }
   ],
   "source": [
    "console.log(waffle.color);     // undefined\n",
    "waffle.eat();                  // 'Chomp chomp chomp!'\n",
    "console.log(pancake.isHungry); // undefined"
   ]
  },
  {
   "cell_type": "markdown",
   "metadata": {},
   "source": [
    "As it turns out, any *new* `Hamster` objects created moving forward will use the updated prototype:"
   ]
  },
  {
   "cell_type": "code",
   "execution_count": 308,
   "metadata": {},
   "outputs": [
    {
     "ename": "TypeError",
     "evalue": "muffin.eat is not a function",
     "output_type": "error",
     "traceback": [
      "evalmachine.<anonymous>:2",
      "muffin.eat();                 // TypeError: muffin.eat is not a function",
      "       ^",
      "",
      "TypeError: muffin.eat is not a function",
      "    at evalmachine.<anonymous>:2:8",
      "    at Script.runInThisContext (vm.js:96:20)",
      "    at Object.runInThisContext (vm.js:303:38)",
      "    at run ([eval]:1054:15)",
      "    at onRunRequest ([eval]:888:18)",
      "    at onMessage ([eval]:848:13)",
      "    at process.emit (events.js:182:13)",
      "    at emit (internal/child_process.js:812:12)",
      "    at process._tickCallback (internal/process/next_tick.js:63:19)"
     ]
    }
   ],
   "source": [
    "const muffin = new Hamster();\n",
    "muffin.eat();                 // TypeError: muffin.eat is not a function"
   ]
  },
  {
   "cell_type": "code",
   "execution_count": 309,
   "metadata": {},
   "outputs": [
    {
     "name": "stdout",
     "output_type": "stream",
     "text": [
      "false\n",
      "brown\n"
     ]
    }
   ],
   "source": [
    "console.log(muffin.isHungry); // false\n",
    "console.log(muffin.color);    // 'brown'"
   ]
  },
  {
   "cell_type": "markdown",
   "metadata": {},
   "source": [
    "### Checking an Object's Properties\n",
    "As we've just seen, if an object doesn't have a particular property of its own, it can access one somewhere along the prototype chain (assuming it exists, of course). With so many options, it can sometimes get tricky to tell just *where* a particular property is coming from! Here are a few useful methods to help you along the way.\n",
    "\n",
    "#### `hasOwnProperty()`\n",
    "`hasOwnProperty()` allows you to find the origin of a particular property. Upon passing in a string of the property name you're looking for, the method will return a boolean indicating whether or not the property belongs to the object itself (i.e., that property was not inherited). Consider the `Phone` constructor with a single property defined directly in the function, and another property on its `prototype` object:"
   ]
  },
  {
   "cell_type": "code",
   "execution_count": 310,
   "metadata": {},
   "outputs": [
    {
     "data": {
      "text/plain": [
       "6"
      ]
     },
     "execution_count": 310,
     "metadata": {},
     "output_type": "execute_result"
    }
   ],
   "source": [
    "function Phone() {\n",
    "  this.operatingSystem = 'Android';\n",
    "}\n",
    "// declare a prototype attribute\n",
    "Phone.prototype.screenSize = 6;"
   ]
  },
  {
   "cell_type": "markdown",
   "metadata": {},
   "source": [
    "Let's now create a new object, `myPhone`, and check whether `operatingSystem` is its own property, meaning that it was not inherited from its prototype (or somewhere else along the prototype chain):"
   ]
  },
  {
   "cell_type": "code",
   "execution_count": 311,
   "metadata": {},
   "outputs": [
    {
     "data": {
      "text/plain": [
       "true"
      ]
     },
     "execution_count": 311,
     "metadata": {},
     "output_type": "execute_result"
    }
   ],
   "source": [
    "const myPhone = new Phone();\n",
    "myPhone.hasOwnProperty('operatingSystem');"
   ]
  },
  {
   "cell_type": "markdown",
   "metadata": {},
   "source": [
    "Indeed it returns `true`! What about the `screenSize` property, which exists on `Phone` objects' `prototype`? Using `hasOwnProperty()`, we gain insight a certain property's origins."
   ]
  },
  {
   "cell_type": "code",
   "execution_count": 312,
   "metadata": {},
   "outputs": [
    {
     "data": {
      "text/plain": [
       "false"
      ]
     },
     "execution_count": 312,
     "metadata": {},
     "output_type": "execute_result"
    }
   ],
   "source": [
    "myPhone.hasOwnProperty('screenSize');"
   ]
  },
  {
   "cell_type": "markdown",
   "metadata": {},
   "source": [
    "#### `isPrototypeOf()`\n",
    "Objects also have access to the `isPrototypeOf()` method, which checks whether or not an object exists in another object's prototype chain. Using this method, you can confirm if a particular object serves as the prototype of another object. Check out the following `rodent` object:"
   ]
  },
  {
   "cell_type": "code",
   "execution_count": 313,
   "metadata": {},
   "outputs": [],
   "source": [
    "const rodent = {\n",
    "  favoriteFood: 'cheese',\n",
    "  hasTail: true\n",
    "};"
   ]
  },
  {
   "cell_type": "markdown",
   "metadata": {},
   "source": [
    "Let's now build a `Mouse()` constructor function, and assign its prototype to `rodent`:"
   ]
  },
  {
   "cell_type": "code",
   "execution_count": 314,
   "metadata": {},
   "outputs": [
    {
     "data": {
      "text/plain": [
       "{ favoriteFood: 'cheese', hasTail: true }"
      ]
     },
     "execution_count": 314,
     "metadata": {},
     "output_type": "execute_result"
    }
   ],
   "source": [
    "function Mouse() {\n",
    "  this.favoriteFood = 'cheese';\n",
    "}\n",
    "\n",
    "Mouse.prototype = rodent;"
   ]
  },
  {
   "cell_type": "markdown",
   "metadata": {},
   "source": [
    "If we create a new `Mouse` object, its prototype should be the `rodent` object. Let's confirm:"
   ]
  },
  {
   "cell_type": "code",
   "execution_count": 315,
   "metadata": {},
   "outputs": [
    {
     "data": {
      "text/plain": [
       "true"
      ]
     },
     "execution_count": 315,
     "metadata": {},
     "output_type": "execute_result"
    }
   ],
   "source": [
    "const ralph = new Mouse();\n",
    "rodent.isPrototypeOf(ralph);"
   ]
  },
  {
   "cell_type": "markdown",
   "metadata": {},
   "source": [
    "Great! `isPrototypeOf()` is a great way to confirm if an object exists in another object's prototype chain.\n",
    "\n",
    "#### `Object.getPrototypeOf()`\n",
    "`isPrototypeOf()` works well, but keep in mind that in order to use it, you must have that prototype object at hand in the first place! What if you're not sure what a certain object's prototype is? `Object.getPrototypeOf()` can help with just that!\n",
    "\n",
    "Using the previous example, let's store the return value of `Object.getPrototypeOf()` in a variable, `myPrototype`, then check what it is:"
   ]
  },
  {
   "cell_type": "code",
   "execution_count": 316,
   "metadata": {},
   "outputs": [
    {
     "name": "stdout",
     "output_type": "stream",
     "text": [
      "{ favoriteFood: 'cheese', hasTail: true }\n",
      "{ favoriteFood: 'cheese', hasTail: true }\n"
     ]
    }
   ],
   "source": [
    "const myPrototype = Object.getPrototypeOf(ralph);\n",
    "console.log(myPrototype);\n",
    "console.log(rodent);"
   ]
  },
  {
   "cell_type": "markdown",
   "metadata": {},
   "source": [
    "Great! The prototype of `ralph` has the same properties as `rodent` because they *are* the same object. `Object.getPrototypeOf()` is great for retrieving the prototype of a given object."
   ]
  },
  {
   "cell_type": "markdown",
   "metadata": {},
   "source": [
    "For a closer look at [`isPrototypeOf()`](https://developer.mozilla.org/en-US/docs/Web/JavaScript/Reference/Global_Objects/Object/isPrototypeOf) and [`getPrototypeOf`](https://developer.mozilla.org/en-US/docs/Web/JavaScript/Reference/Global_Objects/Object/getPrototypeOf), feel free to check out their MDN pages (linked)."
   ]
  },
  {
   "cell_type": "markdown",
   "metadata": {},
   "source": [
    "### The `.constructor` Property\n",
    "Each time an object is created, a special property is assigned to it under the hood: `constructor`. Accessing an object's `constructor` property returns a reference to the constructor function that created that object in the first place! Here's a simple `Longboard` constructor function. We'll also go ahead and make a new object, then save it to a `board` variable:"
   ]
  },
  {
   "cell_type": "code",
   "execution_count": 317,
   "metadata": {},
   "outputs": [],
   "source": [
    "function Longboard() {\n",
    "  this.material = 'bamboo';\n",
    "}\n",
    "\n",
    "const board = new Longboard();"
   ]
  },
  {
   "cell_type": "markdown",
   "metadata": {},
   "source": [
    "If we access `board`'s `constructor` property, we should see the original constructor function itself:"
   ]
  },
  {
   "cell_type": "code",
   "execution_count": 318,
   "metadata": {},
   "outputs": [
    {
     "data": {
      "text/plain": [
       "[Function: Longboard]"
      ]
     },
     "execution_count": 318,
     "metadata": {},
     "output_type": "execute_result"
    }
   ],
   "source": [
    "board.constructor;"
   ]
  },
  {
   "cell_type": "markdown",
   "metadata": {},
   "source": [
    "Excellent! Keep in mind that if an object was created using literal notation, its constructor is the built-in `Object()` constructor function!"
   ]
  },
  {
   "cell_type": "code",
   "execution_count": 319,
   "metadata": {},
   "outputs": [
    {
     "data": {
      "text/plain": [
       "[Function: Object]"
      ]
     },
     "execution_count": 319,
     "metadata": {},
     "output_type": "execute_result"
    }
   ],
   "source": [
    "rodent.constructor;"
   ]
  },
  {
   "cell_type": "markdown",
   "metadata": {},
   "source": [
    "All objects have a [`constructor`](https://developer.mozilla.org/en-US/docs/Web/JavaScript/Reference/Global_Objects/Object/constructor) property. For a closer look, feel free to check out its article on MDN (linked).\n",
    "\n",
    "**Further Research**\n",
    "- [Object Playground](http://www.objectplayground.com/)\n",
    "- [hasOwnProperty()](https://developer.mozilla.org/en-US/docs/Web/JavaScript/Reference/Global_Objects/Object/hasOwnProperty) on MDN\n",
    "- [isPrototypeOf()](https://developer.mozilla.org/en-US/docs/Web/JavaScript/Reference/Global_Objects/Object/isPrototypeOf) on MDN\n",
    "- [Object.getPrototypeOf()](https://developer.mozilla.org/en-US/docs/Web/JavaScript/Reference/Global_Objects/Object/getPrototypeOf) on MDN\n",
    "- [.constructor](https://developer.mozilla.org/en-US/docs/Web/JavaScript/Reference/Global_Objects/Object/constructor) on MDN"
   ]
  },
  {
   "cell_type": "markdown",
   "metadata": {},
   "source": [
    "### Prototypal Inheritance: Subclasses\n",
    "#### Subclasses\n",
    "One of the benefits of implementing inheritance is that it allows you to *reuse existing* code. By establishing inheritance, we can **subclass**, that is, have a \"child\" object take on most or all of a \"parent\" object's properties while retaining unique properties of its own.\n",
    "\n",
    "Let's say we have a parent `Animal` object, which contains properties like `age` and `weight`. That same `Animal` object can also access methods like `eat` and `sleep`.\n",
    "\n",
    "Now, let's also say that we want to create a `Cat` child object. Just like you can with other animals, you can also describe a cat by its *age* or *weight*, and you can also be certain that the cat *eats* and *sleeps* as well. When creating that `Cat` object, then, we can simply re-write and re-implement all those methods and properties from `Animal` -- or, we can save some time and prevent repeated code by having `Cat` inherit those existing properties and methods from `Animal`!\n",
    "\n",
    "Not only can `Cat` take on properties and methods of `Animal`, we can also give `Cat` its own unique properties and methods as well! Perhaps a `Cat` has a unique `lives` property of `9`, or it has a specialized `meow()` method that no `Animal` has.\n",
    "\n",
    "By using prototypal inheritance, `Cat` only needs to implement `Cat`-specific functionality, and just reuse `Animal`'s existing functionality.\n",
    "\n",
    "#### The Secret Link\n",
    "As you know, an object's constructor function's prototype is first place searched when the JavaScript engine tries to access a property that doesn't exist in the object itself. Consider the following `bear` object with two properties, `claws` and `diet`:"
   ]
  },
  {
   "cell_type": "code",
   "execution_count": 320,
   "metadata": {},
   "outputs": [],
   "source": [
    "const bear = {\n",
    "  claws: true,\n",
    "  diet: 'carnivore'\n",
    "};"
   ]
  },
  {
   "cell_type": "markdown",
   "metadata": {},
   "source": [
    "We'll assign the following `PolarBear()` constructor function's prototype property to `bear`:"
   ]
  },
  {
   "cell_type": "code",
   "execution_count": 321,
   "metadata": {},
   "outputs": [
    {
     "data": {
      "text/plain": [
       "{ claws: true, diet: 'carnivore' }"
      ]
     },
     "execution_count": 321,
     "metadata": {},
     "output_type": "execute_result"
    }
   ],
   "source": [
    "function PolarBear() { \n",
    "  // ...\n",
    "}\n",
    "PolarBear.prototype = bear;"
   ]
  },
  {
   "cell_type": "markdown",
   "metadata": {},
   "source": [
    "Let's now call the `PolarBear()` constructor to create a new object, then give it two properties:"
   ]
  },
  {
   "cell_type": "code",
   "execution_count": 322,
   "metadata": {},
   "outputs": [
    {
     "data": {
      "text/plain": [
       "{ color: 'white', favoriteDrink: 'cola' }"
      ]
     },
     "execution_count": 322,
     "metadata": {},
     "output_type": "execute_result"
    }
   ],
   "source": [
    "const snowball = new PolarBear();\n",
    "snowball.color = 'white';\n",
    "snowball.favoriteDrink = 'cola';\n",
    "snowball;"
   ]
  },
  {
   "cell_type": "markdown",
   "metadata": {},
   "source": [
    "Note that `snowball` has just two properties of its own: `color` and `favoriteDrink`. However, `snowball` also has access to properties that don't exist inside it: `claws` and `diet`:"
   ]
  },
  {
   "cell_type": "code",
   "execution_count": 323,
   "metadata": {},
   "outputs": [
    {
     "name": "stdout",
     "output_type": "stream",
     "text": [
      "true\n",
      "carnivore\n"
     ]
    }
   ],
   "source": [
    "console.log(snowball.claws);\n",
    "console.log(snowball.diet);"
   ]
  },
  {
   "cell_type": "markdown",
   "metadata": {},
   "source": [
    "Since `claws` and `diet` both exist as properties in the prototype object, they are looked up because objects are secretly linked to their constructor's prototype property.\n",
    "\n",
    "Great! But you may be wondering: just what is this secret link that leads to the prototype object? Right after objects are made from the `PolarBear()` constructor (such as `snowball`), they have immediate access to properties in `PolarBear()`'s prototype. How exactly is this possible?\n",
    "\n",
    "As it turns out, the secret link is `snowball`'s `__proto__` property (note the two underscores on each end). `__proto__` is a property of all objects (i.e., instances) made by a constructor function, and points directly to that constructor's prototype object. Let's check out what it looks like!"
   ]
  },
  {
   "cell_type": "code",
   "execution_count": 324,
   "metadata": {},
   "outputs": [
    {
     "data": {
      "text/plain": [
       "{ claws: true, diet: 'carnivore' }"
      ]
     },
     "execution_count": 324,
     "metadata": {},
     "output_type": "execute_result"
    }
   ],
   "source": [
    "snowball.__proto__;"
   ]
  },
  {
   "cell_type": "markdown",
   "metadata": {},
   "source": [
    "Since the `__proto__` property refers to the same object as `PolarBear`'s prototype, `bear`, comparing them returns true:"
   ]
  },
  {
   "cell_type": "code",
   "execution_count": 325,
   "metadata": {},
   "outputs": [
    {
     "data": {
      "text/plain": [
       "true"
      ]
     },
     "execution_count": 325,
     "metadata": {},
     "output_type": "execute_result"
    }
   ],
   "source": [
    "snowball.__proto__ === bear"
   ]
  },
  {
   "cell_type": "code",
   "execution_count": 326,
   "metadata": {},
   "outputs": [
    {
     "data": {
      "text/plain": [
       "true"
      ]
     },
     "execution_count": 326,
     "metadata": {},
     "output_type": "execute_result"
    }
   ],
   "source": [
    "snowball.__proto__ === PolarBear.prototype;"
   ]
  },
  {
   "cell_type": "markdown",
   "metadata": {},
   "source": [
    "When the new instance of `PolarBear` is created, the special property `snowball.__proto__` is set to `PolarBear.prototype`. This secret link allows instances of the `PolarBear` constructor to access properties of `PolarBear.prototype`. \n",
    "\n",
    "**It is highly discouraged to reassign the `__proto__` property, or even use it in any code you write.** First, there are compatibility issues across browsers. What's more: since the JavaScript engine searches and accesses properties along the prototype chain, mutating an object's prototype can lead to performance issues. The MDN article for [proto](https://developer.mozilla.org/en-US/docs/Web/JavaScript/Reference/Global_Objects/Object/proto) even warns against using this property in red text at the very top of the page!\n",
    "\n",
    "It's great to *know* the secret link for learning how functions and objects are interconnected, but you should not use `__proto__` to manage inheritance. If you ever just need to review an object's prototype, you can still use `Object.getPrototypeOf()`.\n",
    "\n",
    "#### 💡 What About Just Inheriting the Prototype? 💡\n",
    "Let's say we want a `Child` object to inherit from a `Parent` object. Why shouldn't we just set `Child.prototype = Parent.prototype`?\n",
    "\n",
    "First, recall that objects are passed by reference. This means that since the `Child.prototype` object and the `Parent.prototype` object refer to the same object -- any changes you make to Child's prototype will also be made to Parent's prototype! We don't want children being able to modify properties of their parents!\n",
    "\n",
    "On top of all this, no prototype chain will be set up. What if we want an object to inherit from any object we want, not just its prototype?\n",
    "\n",
    "We still need a way to efficiently manage inheritance without mutating the prototype at all."
   ]
  },
  {
   "cell_type": "markdown",
   "metadata": {},
   "source": [
    "Consider the following:\n",
    "```JavaScript\n",
    "function Car(color, year) {\n",
    "  this.color = color;\n",
    "  this.year = year;\n",
    "}\n",
    "\n",
    "Car.prototype.drive = function () {\n",
    "  console.log('Vroom vroom!');\n",
    "};\n",
    "\n",
    "const car = new Car('silver', 1988);\n",
    "```\n",
    "What happens when `car.drive()` is executed?\n",
    "\n",
    "1. First, the JavaScript engine searches inside the `car` object for a property named `drive`.\n",
    "2. The JavaScript engine does not find `drive` within the `car` object.\n",
    "3. The JavaScript engine then accesses the `car.__proto__` property.\n",
    "4. Since the `car.__proto__` property points to `Car.prototype`, the JavaScript engine searches for `drive` in the prototype.\n",
    "5. Because `Car.prototype.drive` _is_ a defined property, it is returned.\n",
    "6. Finally, since `drive` is invoked as a method on `car`, the value of this is set to `car`."
   ]
  },
  {
   "cell_type": "markdown",
   "metadata": {},
   "source": [
    "### Object.create()\n",
    "At this point, we've reached a few roadblocks when it comes to inheritance. First, even though `__proto__` can access the prototype of the object it is called on, using it in any code you write is not good practice.\n",
    "\n",
    "What's more: we also shouldn't inherit only the prototype; this doesn't set up the prototype chain, and any changes that we made to a child object will also be reflected in a parent object.\n",
    "\n",
    "So how should we move forward?\n",
    "\n",
    "There's actually a way for us to set up the prototype of an object ourselves: using `Object.create()`. And best of all, this approach lets us manage inheritance without altering the prototype!\n",
    "\n",
    "`Object.create()` takes in a single object as an argument, and returns a new object with its `__proto__` property set to what argument is passed into it. From that point, you simply set the returned object to be the prototype of the child object's constructor function. "
   ]
  },
  {
   "cell_type": "code",
   "execution_count": 327,
   "metadata": {},
   "outputs": [
    {
     "data": {
      "text/plain": [
       "true"
      ]
     },
     "execution_count": 327,
     "metadata": {},
     "output_type": "execute_result"
    }
   ],
   "source": [
    "function Parent() {\n",
    "  // ...\n",
    "}\n",
    "\n",
    "function Child() {\n",
    "  // ...\n",
    "}\n",
    "\n",
    "Child.prototype = Object.create(Parent.prototype);\n",
    "const child = new Child();\n",
    "child instanceof Parent;"
   ]
  },
  {
   "cell_type": "markdown",
   "metadata": {},
   "source": [
    "Above, `Parent.prototype` was the argument passed into `Object.create()`. The return value of the *expression* `Object.create(Parent.prototype)` was then set to the value of the `Child` constructor's prototype property. After that, we instantiate a new object: `child`.\n",
    "\n",
    "The *expression* `child instanceof Parent` returns a boolean indicating whether the `Parent` constructor exists in the `child` object's prototype chain. Since we know this is true after executing the first expression (i.e., `Child.prototype = Object.create(Parent.prototype)`), the console outputs `true`.\n",
    "\n",
    "Let's check out an example! First, let's say we have a `mammal` object with two properties: `vertebrate` and `earBones`:"
   ]
  },
  {
   "cell_type": "code",
   "execution_count": 328,
   "metadata": {},
   "outputs": [],
   "source": [
    "const mammal = {\n",
    "  vertebrate: true,\n",
    "  earBones: 3\n",
    "};"
   ]
  },
  {
   "cell_type": "markdown",
   "metadata": {},
   "source": [
    "Recall that `Object.create()` takes in a single object as an argument, and returns a new object. That new object's `__proto__` property is set to whatever was originally passed into `Object.create()`. Let's save that returned value to a variable, `rabbit`:"
   ]
  },
  {
   "cell_type": "code",
   "execution_count": 329,
   "metadata": {},
   "outputs": [],
   "source": [
    "const rabbit = Object.create(mammal);"
   ]
  },
  {
   "cell_type": "markdown",
   "metadata": {},
   "source": [
    "We expect the new `rabbit` object to be blank, with no properties of its own:"
   ]
  },
  {
   "cell_type": "code",
   "execution_count": 330,
   "metadata": {},
   "outputs": [
    {
     "data": {
      "text/plain": [
       "{}"
      ]
     },
     "execution_count": 330,
     "metadata": {},
     "output_type": "execute_result"
    }
   ],
   "source": [
    "rabbit;"
   ]
  },
  {
   "cell_type": "markdown",
   "metadata": {},
   "source": [
    "However, `rabbit` should now be secretly linked to `mammal`. That is, its `__proto__` property should point to `mammal`:"
   ]
  },
  {
   "cell_type": "code",
   "execution_count": 331,
   "metadata": {},
   "outputs": [
    {
     "data": {
      "text/plain": [
       "true"
      ]
     },
     "execution_count": 331,
     "metadata": {},
     "output_type": "execute_result"
    }
   ],
   "source": [
    "rabbit.__proto__ === mammal"
   ]
  },
  {
   "cell_type": "markdown",
   "metadata": {},
   "source": [
    "Great! This means that now, `rabbit` extends `mammal` (i.e., `rabbit` inherits from `mammal`). As a result, `rabbit` can access `mammal`'s properties as if it were its own!"
   ]
  },
  {
   "cell_type": "code",
   "execution_count": 332,
   "metadata": {},
   "outputs": [
    {
     "data": {
      "text/plain": [
       "true"
      ]
     },
     "execution_count": 332,
     "metadata": {},
     "output_type": "execute_result"
    }
   ],
   "source": [
    "rabbit.vertebrate"
   ]
  },
  {
   "cell_type": "code",
   "execution_count": 333,
   "metadata": {},
   "outputs": [
    {
     "data": {
      "text/plain": [
       "3"
      ]
     },
     "execution_count": 333,
     "metadata": {},
     "output_type": "execute_result"
    }
   ],
   "source": [
    "rabbit.earBones"
   ]
  },
  {
   "cell_type": "code",
   "execution_count": 334,
   "metadata": {},
   "outputs": [
    {
     "name": "stdout",
     "output_type": "stream",
     "text": [
      "Meow!\n",
      "Bambi walks!\n"
     ]
    },
    {
     "data": {
      "text/plain": [
       "'Bambi'"
      ]
     },
     "execution_count": 334,
     "metadata": {},
     "output_type": "execute_result"
    }
   ],
   "source": [
    "function Animal(name) {\n",
    "  this.name = name;\n",
    "}\n",
    "\n",
    "Animal.prototype.walk = function () {\n",
    "  console.log(`${this.name} walks!`);\n",
    "};\n",
    "\n",
    "function Cat(name) {\n",
    "  Animal.call(this, name);\n",
    "  this.lives = 9;\n",
    "}\n",
    "\n",
    "Cat.prototype = Object.create(Animal.prototype);\n",
    "\n",
    "Cat.prototype.constructor = Cat;\n",
    "\n",
    "Cat.prototype.meow = function () {\n",
    "  console.log('Meow!');\n",
    "};\n",
    "\n",
    "const bambi = new Cat('Bambi');\n",
    "\n",
    "bambi.meow();\n",
    "bambi.walk();\n",
    "bambi.name;"
   ]
  },
  {
   "cell_type": "markdown",
   "metadata": {},
   "source": [
    "`Object.create()` gives us a clean method of establishing prototypal inheritance in JavaScript. We can easily extend the prototype chain this way, and we can have objects inherit from just about any object we want!\n",
    "\n",
    "**Further Research**\n",
    "- [Inheritance and the prototype chain](https://developer.mozilla.org/en-US/docs/Web/JavaScript/Inheritance_and_the_prototype_chain) on MDN\n",
    "- [Object.create()](https://developer.mozilla.org/en-US/docs/Web/JavaScript/Reference/Global_Objects/Object/create) on MDN"
   ]
  },
  {
   "cell_type": "markdown",
   "metadata": {},
   "source": [
    "## Extending Object Functionality with Mixins\n",
    "### An Object is Prototype-linked to a Single Object\n",
    "Recall that an object's `.prototype` property points to just one object. This is because JavaScript only supports single inheritance. If there is an object A and an object B, object C can only be prototype-linked to either A _or_ B.\n",
    "\n",
    "### Mixins\n",
    "If a JavaScript object can only be prototype-linked to a single object, how can we go about extending properties and methods from multiple different sources? A mixin allows us to just that!\n",
    "\n",
    "A mixin is a technique that takes the properties and methods from one object and copies them over to another object. In other words: a mixin is an technique that provides some useful functionality, but is not meant to be added to the prototype chain.\n",
    "\n",
    "#### Single Source Object\n",
    "The simplest way to implement the mixin pattern is to use [`Object.assign()`](https://developer.mozilla.org/en-US/docs/Web/JavaScript/Reference/Global_Objects/Object/assign). It is a method that copies an object's own (non-inherited) properties from one or more source objects into a target object, then returns the updated target object. In other words, `Object.assign()` adds to the target object by merging in the source object(s). Consider the following:"
   ]
  },
  {
   "cell_type": "code",
   "execution_count": 335,
   "metadata": {},
   "outputs": [
    {
     "name": "stdout",
     "output_type": "stream",
     "text": [
      "{ number: 7 }\n"
     ]
    }
   ],
   "source": [
    "let target1 = {};\n",
    "let source = { number: 7 };\n",
    "Object.assign(target1, source);\n",
    "console.log(target1);"
   ]
  },
  {
   "cell_type": "markdown",
   "metadata": {},
   "source": [
    "The first argument passed in, `target`, is the destination that receives the properties copied from the `source` object. Note that `Object.assign()` does not create and return a new object; it directly modifies then returns the same target object that was passed in! As such, values of existing properties will be overwritten, while properties that don't exist in the `source` object will remain intact. In the belowe example, the value of `target`'s `number` property was overwritten, while its `letter` property was ignored."
   ]
  },
  {
   "cell_type": "code",
   "execution_count": 336,
   "metadata": {},
   "outputs": [
    {
     "name": "stdout",
     "output_type": "stream",
     "text": [
      "{ letter: 'a', number: 7 }\n"
     ]
    }
   ],
   "source": [
    "let target2 = { letter: 'a', number: 11 };\n",
    "Object.assign(target2, source);\n",
    "console.log(target2);"
   ]
  },
  {
   "cell_type": "markdown",
   "metadata": {},
   "source": [
    "#### Multiple Source Objects\n",
    "`Object.assign()` can even take in multiple different source objects. Let's create a `platypus` object by mixing in properties from other animals:"
   ]
  },
  {
   "cell_type": "code",
   "execution_count": 337,
   "metadata": {},
   "outputs": [
    {
     "name": "stdout",
     "output_type": "stream",
     "text": [
      "{ hasBill: true, feet: 'webbed', hasTail: true, hasFur: true }\n"
     ]
    }
   ],
   "source": [
    "const duck   = { hasBill: true, \n",
    "                 feet:  'orange'};\n",
    "const beaver = { hasTail: true };\n",
    "const otter  = { hasFur: true,\n",
    "                 feet:  'webbed'};\n",
    "\n",
    "const platypus = Object.assign({}, duck, beaver, otter);\n",
    "console.log(platypus);"
   ]
  },
  {
   "cell_type": "markdown",
   "metadata": {},
   "source": [
    "After merging an empty target object (i.e., an object without properties of its own) with the properties from `duck`, `beaver`, and `otter`, the target object is returned with all four properties. \n",
    "Observe, that the `feet` attribut contains only `webbed` from `otter` and not `'orange'` from `duck`! The reason is that the order of the source objects in `Object.assign()` matters!\n",
    "\n",
    "It is important to note that the platypus object is not prototype-linked to the three other objects! That is, `platypus` doesn't exist in any of the three source objects' prototype chains, and vice versa:"
   ]
  },
  {
   "cell_type": "code",
   "execution_count": 338,
   "metadata": {},
   "outputs": [
    {
     "data": {
      "text/plain": [
       "[Function: Object]"
      ]
     },
     "execution_count": 338,
     "metadata": {},
     "output_type": "execute_result"
    }
   ],
   "source": [
    "platypus.constructor;"
   ]
  },
  {
   "cell_type": "code",
   "execution_count": 339,
   "metadata": {},
   "outputs": [
    {
     "data": {
      "text/plain": [
       "false"
      ]
     },
     "execution_count": 339,
     "metadata": {},
     "output_type": "execute_result"
    }
   ],
   "source": [
    "   platypus.isPrototypeOf(duck) \n",
    "|| duck.isPrototypeOf(platypus)\n",
    "|| platypus.isPrototypeOf(beaver)\n",
    "|| beaver.isPrototypeOf(duck)\n",
    "|| platypus.isPrototypeOf(otter)\n",
    "|| otter.isPrototypeOf(platypus)"
   ]
  },
  {
   "cell_type": "markdown",
   "metadata": {},
   "source": [
    "### Functional Mixins\n",
    "We previously used a constructor function to create a new object:"
   ]
  },
  {
   "cell_type": "code",
   "execution_count": 340,
   "metadata": {},
   "outputs": [],
   "source": [
    "function City(name, population) {\n",
    "  this.name = name;\n",
    "  this.population = population;\n",
    "\n",
    "  this.identify = function () {\n",
    "    console.log(`${this.name}'s population is ${this.population}.`);\n",
    "  };\n",
    "}"
   ]
  },
  {
   "cell_type": "markdown",
   "metadata": {},
   "source": [
    "To instantiate, we invoke the function with the `new` operator:"
   ]
  },
  {
   "cell_type": "code",
   "execution_count": 341,
   "metadata": {},
   "outputs": [
    {
     "name": "stdout",
     "output_type": "stream",
     "text": [
      "City {\n",
      "  name: 'San Francisco',\n",
      "  population: 870000,\n",
      "  identify: [Function] }\n"
     ]
    }
   ],
   "source": [
    "const sanFrancisco = new City('San Francisco', 870000);\n",
    "console.log(sanFrancisco);"
   ]
  },
  {
   "cell_type": "markdown",
   "metadata": {},
   "source": [
    "We can use the same constructor to create multiple objects:"
   ]
  },
  {
   "cell_type": "code",
   "execution_count": 342,
   "metadata": {},
   "outputs": [
    {
     "name": "stdout",
     "output_type": "stream",
     "text": [
      "City {\n",
      "  name: 'Mountain View',\n",
      "  population: 78000,\n",
      "  identify: [Function] }\n"
     ]
    }
   ],
   "source": [
    "const mountainView = new City('Mountain View', 78000);\n",
    "console.log(mountainView);"
   ]
  },
  {
   "cell_type": "markdown",
   "metadata": {},
   "source": [
    "Again, note that we used the `new` keyword each time to create a new object. Let's now shift gears a bit to **factory functions** which produce object instances *without* the use of the `new` operator!"
   ]
  },
  {
   "cell_type": "markdown",
   "metadata": {},
   "source": [
    "#### Factory Functions\n",
    "A factory function is a function that returns an object, but isn't itself a class or constructor. As such, we invoke a factory function as a normal function without using the new operator. Using a factory function, we can easily create object instances without the complexity of classes and constructors!\n",
    "\n",
    "Check out the following `Basketball()` factory function:"
   ]
  },
  {
   "cell_type": "code",
   "execution_count": 343,
   "metadata": {},
   "outputs": [],
   "source": [
    "function Basketball(color) {\n",
    "  return {\n",
    "    color: color,\n",
    "    numDots: 35000\n",
    "  };\n",
    "}"
   ]
  },
  {
   "cell_type": "markdown",
   "metadata": {},
   "source": [
    "What's important to note here is that `Basketball()` returns an object directly. This is different from a constructor function which returns its object automatically.\n",
    "\n",
    "Let's invoke `Basketball()` and check out its output:"
   ]
  },
  {
   "cell_type": "code",
   "execution_count": 344,
   "metadata": {},
   "outputs": [
    {
     "name": "stdout",
     "output_type": "stream",
     "text": [
      "{ color: 'orange', numDots: 35000 }\n"
     ]
    }
   ],
   "source": [
    "const orangeBasketball = Basketball('orange');\n",
    "console.log(orangeBasketball);"
   ]
  },
  {
   "cell_type": "markdown",
   "metadata": {},
   "source": [
    "A factory function has its name because, just like a chair factory can produce chair after chair after chair, a factory function can be used over and over to create any number of objects:"
   ]
  },
  {
   "cell_type": "code",
   "execution_count": 345,
   "metadata": {},
   "outputs": [],
   "source": [
    "const myBB = Basketball('blue and green');\n",
    "const yourBB = Basketball('purple');\n",
    "const bouncy = Basketball('neon pink');"
   ]
  },
  {
   "cell_type": "markdown",
   "metadata": {},
   "source": [
    "Great! Invoking the factory function allows us to compose a single object -- all without the use of the `new` operator. Before we take a look at a more complex example, let's summarize the differences between a factory function and a constructor function:\n",
    "\n",
    "![factory-vs-constructor-function.png](./img/factory-vs-constructor-function.png)"
   ]
  },
  {
   "cell_type": "markdown",
   "metadata": {},
   "source": [
    "#### Leverage Factory function with closure to preserve state\n",
    "The following `Radio` function returns an object withch references the `on` local variable, but `on` is not an attribute of the returned object. The returned object packages the `on` variable into its closure."
   ]
  },
  {
   "cell_type": "code",
   "execution_count": 346,
   "metadata": {},
   "outputs": [],
   "source": [
    "function Radio(mode) {\n",
    "  let on = false;\n",
    "\n",
    "  return {\n",
    "    mode: mode,\n",
    "    turnOn: function () {\n",
    "      on = true;\n",
    "    },\n",
    "    isOn: function () {\n",
    "      return on;\n",
    "    }\n",
    "  };\n",
    "}\n",
    "// create a new object\n",
    "let fmRadio = Radio('fm');\n",
    "\n",
    "// .on is not an attribute of the object\n",
    "fmRadio.on; //undefined"
   ]
  },
  {
   "cell_type": "code",
   "execution_count": 347,
   "metadata": {},
   "outputs": [
    {
     "data": {
      "text/plain": [
       "false"
      ]
     },
     "execution_count": 347,
     "metadata": {},
     "output_type": "execute_result"
    }
   ],
   "source": [
    "// but we have access to variable on in the closure\n",
    "// read the status\n",
    "fmRadio.isOn();  // false"
   ]
  },
  {
   "cell_type": "code",
   "execution_count": 348,
   "metadata": {},
   "outputs": [
    {
     "data": {
      "text/plain": [
       "true"
      ]
     },
     "execution_count": 348,
     "metadata": {},
     "output_type": "execute_result"
    }
   ],
   "source": [
    "// change value of variable on in the closure\n",
    "fmRadio.turnOn();\n",
    "// read the status\n",
    "fmRadio.isOn();  // true"
   ]
  },
  {
   "cell_type": "markdown",
   "metadata": {},
   "source": [
    "#### Functional Mixins\n",
    "In the previous section, we used **mixins** to add features into a composite object. We also just leveraged **factory functions** to create objects without using the `new` operator or messing with prototypal inheritance. Let's combine what we've learned from mixins and factory functions and take things a step further with **functional mixins**!\n",
    "\n",
    "A functional mixin is a composable factory function that receives a *mixin* as an argument, copies properties and methods from that mixin, and returns a new object. Check out the following example: `CoffeeMaker()`:"
   ]
  },
  {
   "cell_type": "code",
   "execution_count": 349,
   "metadata": {},
   "outputs": [],
   "source": [
    "function CoffeeMaker(object) {\n",
    "  let needsRefill = false;\n",
    "\n",
    "  return Object.assign({}, object, {\n",
    "    pourAll: function () {\n",
    "      needsRefill = true;\n",
    "    },\n",
    "    isEmpty: function () {\n",
    "      return needsRefill;\n",
    "    }\n",
    "  });\n",
    "}"
   ]
  },
  {
   "cell_type": "markdown",
   "metadata": {},
   "source": [
    "Note that unlike a standard factory function, which takes in individual property values as arguments -- the functional mixin actually takes in an object itself! Whichever object is passed in to the function, is merged with other objects passed into `Object.assign()`.\n",
    "\n",
    "Let's pass the following `percolator` object into `CoffeeMaker()` and view the results:"
   ]
  },
  {
   "cell_type": "code",
   "execution_count": 350,
   "metadata": {},
   "outputs": [
    {
     "data": {
      "text/plain": [
       "{ style: 'percolator',\n",
       "  pourAll: [Function: pourAll],\n",
       "  isEmpty: [Function: isEmpty] }"
      ]
     },
     "execution_count": 350,
     "metadata": {},
     "output_type": "execute_result"
    }
   ],
   "source": [
    "const mixedCoffeeMaker = CoffeeMaker({ style: 'percolator' });\n",
    "mixedCoffeeMaker"
   ]
  },
  {
   "cell_type": "markdown",
   "metadata": {},
   "source": [
    "Now, one of the great things about functional mixins is that they are composable; we can use them as individual pieces of code that add specific properties like an assembly line. Let's take a closer look!"
   ]
  },
  {
   "cell_type": "code",
   "execution_count": 351,
   "metadata": {},
   "outputs": [
    {
     "data": {
      "text/plain": [
       "{ soggy: [Function: soggy],\n",
       "  isDry: [Function: isDry],\n",
       "  melt: [Function: melt],\n",
       "  isCold: [Function: isCold] }"
      ]
     },
     "execution_count": 351,
     "metadata": {},
     "output_type": "execute_result"
    }
   ],
   "source": [
    "function ConeFactory(obj) {\n",
    "  let dry = true;\n",
    "\n",
    "  return Object.assign({}, obj, {\n",
    "    soggy: function () {\n",
    "      dry = false;\n",
    "    },\n",
    "    isDry: function () {\n",
    "      return dry;\n",
    "    }\n",
    "  });\n",
    "}\n",
    "\n",
    "function IceCreamFactory(obj) {\n",
    "  let cold = true;\n",
    "\n",
    "  return Object.assign({}, obj, {\n",
    "    melt: function () {\n",
    "      cold = false;\n",
    "    },\n",
    "    isCold: function () {\n",
    "      return cold;\n",
    "    }\n",
    "  });\n",
    "}\n",
    "\n",
    "let iceCream = IceCreamFactory(ConeFactory({}));\n",
    "iceCream"
   ]
  },
  {
   "cell_type": "code",
   "execution_count": 352,
   "metadata": {},
   "outputs": [
    {
     "data": {
      "text/plain": [
       "true"
      ]
     },
     "execution_count": 352,
     "metadata": {},
     "output_type": "execute_result"
    }
   ],
   "source": [
    "// cone is dry\n",
    "iceCream.isDry()"
   ]
  },
  {
   "cell_type": "code",
   "execution_count": 353,
   "metadata": {},
   "outputs": [
    {
     "data": {
      "text/plain": [
       "true"
      ]
     },
     "execution_count": 353,
     "metadata": {},
     "output_type": "execute_result"
    }
   ],
   "source": [
    "// cream is cold\n",
    "iceCream.isCold()"
   ]
  },
  {
   "cell_type": "code",
   "execution_count": 354,
   "metadata": {},
   "outputs": [
    {
     "data": {
      "text/plain": [
       "false"
      ]
     },
     "execution_count": 354,
     "metadata": {},
     "output_type": "execute_result"
    }
   ],
   "source": [
    "// melt the cream\n",
    "iceCream.melt()\n",
    "// cream is not cold anymore\n",
    "iceCream.isCold()"
   ]
  },
  {
   "cell_type": "code",
   "execution_count": 355,
   "metadata": {},
   "outputs": [
    {
     "data": {
      "text/plain": [
       "false"
      ]
     },
     "execution_count": 355,
     "metadata": {},
     "output_type": "execute_result"
    }
   ],
   "source": [
    "// cone becomes soggy\n",
    "iceCream.soggy()\n",
    "// cone is not dry anymore\n",
    "iceCream.isDry()"
   ]
  },
  {
   "cell_type": "markdown",
   "metadata": {},
   "source": [
    "##### Further Research\n",
    "- [JavaScript Factory Functions vs Constructor Functions vs Classes](https://medium.com/javascript-scene/javascript-factory-functions-vs-constructor-functions-vs-classes-2f22ceddf33e) by Eric Elliott\n",
    "- [Factory Function Pattern In-Depth](https://medium.com/@pyrolistical/factory-functions-pattern-in-depth-356d14801c91) by Ronald Chen"
   ]
  },
  {
   "cell_type": "markdown",
   "metadata": {},
   "source": [
    "## The Module Pattern\n",
    "#### Private Properties: Literal\n",
    "By default, most things are publicly accessible in JavaScript. We can use closure to make certain parts of an app private, but what if we want to prevent access to a property directly? That is, how would we make a property or method private so it's inaccessible from the outside world? To lend a bit more context, check out how a plain object literal handles privacy:"
   ]
  },
  {
   "cell_type": "code",
   "execution_count": 356,
   "metadata": {},
   "outputs": [],
   "source": [
    "let manager = {\n",
    "  name: 'Veronika',\n",
    "  getName: function () {\n",
    "    return this.name;\n",
    "  }\n",
    "};"
   ]
  },
  {
   "cell_type": "markdown",
   "metadata": {},
   "source": [
    "We can access the string value `'Veronika'` with the `getName` method, as well as directly by accessing the developer object's `name` property:"
   ]
  },
  {
   "cell_type": "code",
   "execution_count": 357,
   "metadata": {},
   "outputs": [
    {
     "name": "stdout",
     "output_type": "stream",
     "text": [
      "Veronika Veronika\n"
     ]
    }
   ],
   "source": [
    "console.log(manager.getName(),  manager.name);"
   ]
  },
  {
   "cell_type": "markdown",
   "metadata": {},
   "source": [
    "However, what happens when we reassign the object's `name` property?"
   ]
  },
  {
   "cell_type": "code",
   "execution_count": 358,
   "metadata": {},
   "outputs": [
    {
     "name": "stdout",
     "output_type": "stream",
     "text": [
      "Not Veronika Not Veronika\n"
     ]
    }
   ],
   "source": [
    "manager.name = 'Not Veronika';\n",
    "console.log(manager.getName(), manager.name);"
   ]
  },
  {
   "cell_type": "markdown",
   "metadata": {},
   "source": [
    "This sort of open access makes developers uncomfortable. Since we can directly access and mutate an object's properties, we would like a way to implement private properties.\n",
    "\n",
    "    💡Privacy with Underscores? 💡\n",
    "You may have seen object properties and method names prefixed with an underscore `_`, especially in library code. While an underscore is added by the code's author to distinguish privacy, it is privacy by convention only. JavaScript does not give special functionality or meaning to properties prefixed with an underscore!\n",
    "#### Private Properties: Function\n",
    "Let's look into another option: using a function. What if we create a basic function that just returns an object? Does this give the object an adequate level of protection?\n",
    "\n",
    "Let's look a bit more closely. Check out the following `instantiateManager()` function. Nothing too surprising -- just a basic function that returns an object with two properties: `name` and `getName`:"
   ]
  },
  {
   "cell_type": "code",
   "execution_count": 359,
   "metadata": {},
   "outputs": [],
   "source": [
    "function instantiateManager() {\n",
    "  return {\n",
    "    name: 'Veronika',\n",
    "    getName: function () {\n",
    "      return this.name;\n",
    "    }\n",
    "  };\n",
    "}\n",
    "\n",
    "let boss = instantiateManager();"
   ]
  },
  {
   "cell_type": "markdown",
   "metadata": {},
   "source": [
    "Along with direct access, we can mutate and reassign the value of the `name` property as well:"
   ]
  },
  {
   "cell_type": "code",
   "execution_count": 360,
   "metadata": {},
   "outputs": [
    {
     "name": "stdout",
     "output_type": "stream",
     "text": [
      "Not Veronika Not Veronika\n"
     ]
    }
   ],
   "source": [
    "manager.name = 'Not Veronika';\n",
    "console.log(manager.getName(), manager.name);"
   ]
  },
  {
   "cell_type": "markdown",
   "metadata": {},
   "source": [
    "Wrapping an object within a function doesn't seem too effective either. So, how can we go about making an object's properties private?\n",
    "#### No Private Properties\n",
    "Since JavaScript has **no** concept of private properties out-of-the-box, there is no special syntax or keyword we can use to protect certain properties from being accessed.\n",
    "\n",
    "However, there is hope! Recall from earlier lessons that we can use *scope* and *closures* to create a private state. How can we leverage these techniques to create private properties and methods in an object?"
   ]
  },
  {
   "cell_type": "code",
   "execution_count": 361,
   "metadata": {},
   "outputs": [
    {
     "data": {
      "text/plain": [
       "{ getName: [Function: getName], setName: [Function: setName] }"
      ]
     },
     "execution_count": 361,
     "metadata": {},
     "output_type": "execute_result"
    }
   ],
   "source": [
    "let woman = (function () {\n",
    "  let _name = 'Veronika';\n",
    "\n",
    "  return  {\n",
    "    getName: function () {\n",
    "      return _name;\n",
    "    },\n",
    "    setName: function (myName){\n",
    "      _name = myName;\n",
    "    }\n",
    "  };\n",
    "})();\n",
    "\n",
    "woman;"
   ]
  },
  {
   "cell_type": "code",
   "execution_count": 362,
   "metadata": {},
   "outputs": [
    {
     "name": "stdout",
     "output_type": "stream",
     "text": [
      "undefined\n",
      "Veronika\n"
     ]
    }
   ],
   "source": [
    "console.log(woman._name);\n",
    "console.log(woman.getName());"
   ]
  },
  {
   "cell_type": "markdown",
   "metadata": {},
   "source": [
    "Recall that one of the key ingredients here is the [IIFE](#Immediately-Invoked-Function-Expressions:-Structure-and-Syntax)! Not only does it prevent pollution of the global scope (which hinders the chance of variable name collisions) -- the IIFE helps prevent access to the `name` variable.\n",
    "\n",
    "And because the returned object's `getName()` and `setName()` methods retain access to its parent function's scope, we are given a public interface to interact with `name`."
   ]
  },
  {
   "cell_type": "code",
   "execution_count": 363,
   "metadata": {},
   "outputs": [
    {
     "data": {
      "text/plain": [
       "'Not Veronika'"
      ]
     },
     "execution_count": 363,
     "metadata": {},
     "output_type": "execute_result"
    }
   ],
   "source": [
    "woman.setName('Not Veronika');\n",
    "woman.getName();"
   ]
  },
  {
   "cell_type": "markdown",
   "metadata": {},
   "source": [
    "#### Other Benefits of the Module Pattern\n",
    "The Module Pattern is commonly used to create private properties in JavaScript, but there are quite a few other benefits of incorporating the Module Pattern in code that you write as well. For one: organization. Modules are a larger unit of organization than, say, functions or objects. This helps partition code and provide structure as an application scales.\n",
    "\n",
    "Keep in mind, however, that you generally use the Module Pattern when you just want one \"version\" of an object. If you're looking to instantiate unique objects that follow a certain blueprint, you can always still write and invoke a constructor function!\n",
    "\n",
    "**Further Research**\n",
    "- Addy Osmani's [The Module Pattern](https://addyosmani.com/resources/essentialjsdesignpatterns/book/#modulepatternjavascript) (JavaScript Design Patterns)\n",
    "- Todd Motto's [Mastering the Module Pattern](https://toddmotto.com/mastering-the-module-pattern/#private-methods)"
   ]
  },
  {
   "cell_type": "markdown",
   "metadata": {},
   "source": [
    "## The Revealing Module Pattern\n",
    "The Revealing Module Pattern is a slight variation on the Module Pattern. IIFE's, local variables/functions, and a returned object literal with revealed data make up the structure and syntax of the Revealing Module Pattern. While it still maintains encapsulation of data, certain variables and functions are returned in an object literal.\n",
    "\n",
    "The underlying philosophy of the Revealing Module Pattern is that, while we still maintain encapsulation (as in the Module Pattern), we also *reveal* certain properties (and methods). The key ingredients to the Revealing Module Pattern are:\n",
    "\n",
    "- An [IIFE](#Immediately-Invoked-Function-Expressions:-Structure-and-Syntax) (wrapper)\n",
    "- The module content (variables, methods, objects, etc.)\n",
    "- A returned object literal"
   ]
  },
  {
   "cell_type": "code",
   "execution_count": 364,
   "metadata": {},
   "outputs": [
    {
     "data": {
      "text/plain": [
       "{ publicMethod: [Function: publicMethod] }"
      ]
     },
     "execution_count": 364,
     "metadata": {},
     "output_type": "execute_result"
    }
   ],
   "source": [
    "let myModule1 = (function (){\n",
    "  function privateMethod (message) { console.log(message); }\n",
    "  function publicMethod  (message) { privateMethod(message); }\n",
    "  return { publicMethod: publicMethod };\n",
    "})();\n",
    "myModule1;"
   ]
  },
  {
   "cell_type": "code",
   "execution_count": 365,
   "metadata": {},
   "outputs": [
    {
     "data": {
      "text/plain": [
       "{ publicMethod: [Function: publicMethod] }"
      ]
     },
     "execution_count": 365,
     "metadata": {},
     "output_type": "execute_result"
    }
   ],
   "source": [
    "let myModule2 = (function () {\n",
    "  function privateMethod (message) { console.log(message); }\n",
    "  return {\n",
    "    publicMethod: function (message) {\n",
    "      privateMethod(message);\n",
    "    }\n",
    "  };\n",
    "})();\n",
    "myModule2;"
   ]
  },
  {
   "cell_type": "markdown",
   "metadata": {},
   "source": [
    "### Another Example\n",
    "To bring it all home, let's check out a more complex example:"
   ]
  },
  {
   "cell_type": "code",
   "execution_count": 366,
   "metadata": {},
   "outputs": [],
   "source": [
    "let pet = (function () {\n",
    "// private\n",
    "  let _age  = 0;\n",
    "  let _name = 'Cooper';\n",
    "  function _ageOneYear() {\n",
    "    _age += 1;\n",
    "    console.log(`One year has passed! Current age is ${_age}`);\n",
    "  }\n",
    "// public\n",
    "  function displayName() { console.log(`Name: ${_name}`); }\n",
    "  function ageOneYear() { _ageOneYear(); }\n",
    "\n",
    "  return {\n",
    "    name: displayName,\n",
    "    age: ageOneYear\n",
    "  };\n",
    "})();"
   ]
  },
  {
   "cell_type": "markdown",
   "metadata": {},
   "source": [
    "In the above snippet, the IIFE has some private data: `_age`, `_name`, and `_ageOneYear()`. The returned object is stored in `pet` and provides a public interface through which we can access this data!\n",
    "\n",
    "Let's first check out what the returned `pet` looks like:"
   ]
  },
  {
   "cell_type": "code",
   "execution_count": 367,
   "metadata": {},
   "outputs": [
    {
     "data": {
      "text/plain": [
       "{ name: [Function: displayName], age: [Function: ageOneYear] }"
      ]
     },
     "execution_count": 367,
     "metadata": {},
     "output_type": "execute_result"
    }
   ],
   "source": [
    "pet;"
   ]
  },
  {
   "cell_type": "markdown",
   "metadata": {},
   "source": [
    "Note that the `name()` method reveals the otherwise private `displayName()`:"
   ]
  },
  {
   "cell_type": "code",
   "execution_count": 368,
   "metadata": {},
   "outputs": [
    {
     "name": "stdout",
     "output_type": "stream",
     "text": [
      "Name: Cooper\n"
     ]
    }
   ],
   "source": [
    "pet.name();"
   ]
  },
  {
   "cell_type": "markdown",
   "metadata": {},
   "source": [
    "However, what happens if we try to access and mutate `_name`?"
   ]
  },
  {
   "cell_type": "code",
   "execution_count": 369,
   "metadata": {},
   "outputs": [
    {
     "name": "stdout",
     "output_type": "stream",
     "text": [
      "{ name: [Function: displayName],\n",
      "  age: [Function: ageOneYear],\n",
      "  _name: 'Sherlock' }\n",
      "Name: Cooper\n"
     ]
    }
   ],
   "source": [
    "pet._name = 'Sherlock';\n",
    "console.log(pet);\n",
    "pet.name();"
   ]
  },
  {
   "cell_type": "markdown",
   "metadata": {},
   "source": [
    "`pet.name()` still produces the string `Name: Cooper` Why don't we see the string `Sherlock` in the returned string?\n",
    "\n",
    "Pay close attention to what the first line of code is actually doing: it simply adds a `_name` property to the pet object. It has no effect on the `_name` variable that exists inside the IIFE itself! If we look at the pet.name() function, it is using the `_name` variable that exists inside the IIFE. So even if we add a `pet._name` property, the `pet.name()` method doesn't ever try to access it.\n",
    "\n",
    "Note that accessing `displayName()` directly won't be effective, either! This should come as now surprise, since `displayName()` is just a function defined inside the IIFE (i.e., `displayName()` is not a property in the returned object).\n",
    "\n",
    "```JavaScript\n",
    "console.log(pet.displayName());\n",
    "// undefined\n",
    "```\n",
    "\n",
    "Likewise, the Revealing Module Pattern also gives us access to the captured `_age` variable, via the returned object literal's `age()` method:"
   ]
  },
  {
   "cell_type": "code",
   "execution_count": 370,
   "metadata": {},
   "outputs": [
    {
     "name": "stdout",
     "output_type": "stream",
     "text": [
      "One year has passed! Current age is 1\n",
      "One year has passed! Current age is 2\n"
     ]
    }
   ],
   "source": [
    "pet.age();\n",
    "pet.age();"
   ]
  },
  {
   "cell_type": "markdown",
   "metadata": {},
   "source": [
    "#### Benefits of the Revealing Module Pattern\n",
    "When writing your modules, there are a few key advantages of using the Revealing Module Pattern. For one, there is clarity at the end of the module (i.e., the `return` statement) as to which variables or methods may be accessed publicly. Modules may grow large, and this eases readability for other developers who read your code.\n",
    "\n",
    "Along with clear intent of public or private data, the Revealing Module Pattern lends itself to consistent syntax as well. In contrast, the normal Module Pattern may contain variables and functions spread throughout the entire function body.\n",
    "\n",
    "While you can't go wrong with either approach to create private properties in your code, be sure to take the time and choose which makes the most sense for your project!\n",
    "\n",
    "**Further Research**\n",
    "- Addy Osmani's [The Revealing Module Pattern](https://addyosmani.com/resources/essentialjsdesignpatterns/book/#revealingmodulepatternjavascript) (JavaScript Design Patterns)\n",
    "- Christian Heilmann's [Again with the Module Pattern – reveal something to the world](https://christianheilmann.com/2007/08/22/again-with-the-module-pattern-reveal-something-to-the-world/)\n",
    "- [JavaScript Design Patterns for Humans](https://github.com/sohamkamani/javascript-design-patterns-for-humans)"
   ]
  },
  {
   "cell_type": "markdown",
   "metadata": {},
   "source": [
    "## Working with External Resources\n",
    "### The Star Wars API"
   ]
  },
  {
   "cell_type": "code",
   "execution_count": 371,
   "metadata": {},
   "outputs": [],
   "source": [
    "// had to install Node.js package\n",
    "//> npm i xmlhttprequest\n",
    "// the following one line only necessary in jupyter notebook, so it behaves as in the the browser\n",
    "const XMLHttpRequest = require(\"xmlhttprequest\").XMLHttpRequest;\n",
    "// create an XMLHttpRequest object\n",
    "const xhr = new XMLHttpRequest();\n",
    "// set up what to do when the request successfully complete\n",
    "xhr.onreadystatechange = function() {\n",
    "    if (this.readyState == 4 && this.status == 200) {\n",
    "        console.log(this.responseText);\n",
    "    }\n",
    "};\n",
    "// open request\n",
    "xhr.open(\"GET\", \"https://ci-swapi.herokuapp.com/api/\");\n",
    "// send request\n",
    "xhr.send();"
   ]
  },
  {
   "cell_type": "markdown",
   "metadata": {},
   "source": [
    "**Response (raw):**\n",
    "```JavaScript\n",
    "{\"people\":\"https://ci-swapi.herokuapp.com/api/people/\",\"planets\":\"https://ci-swapi.herokuapp.com/api/planets/\",\"films\":\"https://ci-swapi.herokuapp.com/api/films/\",\"species\":\"https://ci-swapi.herokuapp.com/api/species/\",\"vehicles\":\"https://ci-swapi.herokuapp.com/api/vehicles/\",\"starships\":\"https://ci-swapi.herokuapp.com/api/starships/\"}\n",
    "```\n",
    "\n",
    "**Response (formatted):**\n",
    "```JavaScript\n",
    "{\n",
    "    \"people\": \"https://ci-swapi.herokuapp.com/api/people/\",\n",
    "    \"planets\": \"https://ci-swapi.herokuapp.com/api/planets/\",\n",
    "    \"films\": \"https://ci-swapi.herokuapp.com/api/films/\",\n",
    "    \"species\": \"https://ci-swapi.herokuapp.com/api/species/\",\n",
    "    \"vehicles\": \"https://ci-swapi.herokuapp.com/api/vehicles/\",\n",
    "    \"starships\": \"https://ci-swapi.herokuapp.com/api/starships/\"\n",
    "}\n",
    "```"
   ]
  },
  {
   "cell_type": "markdown",
   "metadata": {},
   "source": [
    "#### readyState\n",
    "The `XMLHttpRequest.readyState` property returns the state an XMLHttpRequest (XHR) client is in. An XHR client exists in one of the following states:\n",
    "\n",
    "|Value \t|State \t|Description|\n",
    "|:-|:-|:-|\n",
    "|0 \t|UNSENT \t|Client has been created. open() not called yet.\n",
    "|1 \t|OPENED \t|open() has been called.\n",
    "|2 \t|HEADERS_RECEIVED \t|send() has been called, and headers and status are available.\n",
    "|3 \t|LOADING \t|Downloading; responseText holds partial data.\n",
    "|4 \t|DONE \t|The operation is complete.\n",
    "\n",
    "#### status\n",
    "The read-only `XMLHttpRequest.status` property returns the numerical HTTP status code of the `XMLHttpRequest`'s response.\n",
    "Before the request completes, the value of status is `0`. Browsers also report a status of `0` in case of `XMLHttpRequest` errors.\n",
    "\n",
    "HTTP response status codes indicate whether a specific HTTP request has been successfully completed. Responses are grouped in five classes:\n",
    "\n",
    "    Informational responses (100–199)\n",
    "    Successful responses (200–299)\n",
    "    Redirects (300–399)\n",
    "    Client errors (400–499)\n",
    "    Server errors (500–599)\n",
    "\n",
    "##### Common HTTP codes\n",
    "\n",
    "|Code| Description|\n",
    "|:-|:-|\n",
    "|200 |OK. The request has succeeded.<br>The meaning of the success depends on the HTTP method:<br>* GET: The resource has been fetched and is transmitted in the message body.<br>* HEAD: The entity headers are in the message body.<br>* PUT or POST: The resource describing the result of the action is transmitted in the message body.<br>|\n",
    "|301 |Moved Permanently.<br>The URL of the requested resource has been changed permanently. The new URL is given in the response.|\n",
    "|400 |Bad Request<br>The server could not understand the request due to invalid syntax.|\n",
    "|401 |Unauthorized.<br>Although the HTTP standard specifies \"unauthorized\", semantically this response means  unauthenticated\". That is, the client must authenticate itself to get the requested response.|\n",
    "|403 |Forbidden.<br>The client does not have access rights to the content; that is, it is unauthorized, so the server is refusing to give the requested resource. Unlike 401, the client's identity is known to the server.|\n",
    "|404| Not Found.<br>|The server can not find the requested resource. In the browser, this means the URL is not recognized. In an API, this can also mean that the endpoint is valid but the resource itself does not exist. Servers may also send this response instead of 403 to hide the existence of a resource from an unauthorized client. This response code is probably the most famous one due to its frequent occurrence on the web.\n",
    "|500 |Internal Server Error.<br>The server has encountered a situation it doesn't know how to handle.|"
   ]
  },
  {
   "cell_type": "markdown",
   "metadata": {},
   "source": [
    "### Parsing the received data into JavaScript object\n",
    "The `JSON.parse()` method parses a JSON string, constructing the JavaScript value or object described by the string."
   ]
  },
  {
   "cell_type": "code",
   "execution_count": 372,
   "metadata": {},
   "outputs": [
    {
     "name": "stdout",
     "output_type": "stream",
     "text": [
      "42\n",
      "true\n"
     ]
    }
   ],
   "source": [
    "const json = '{\"result\":true, \"count\":42}';\n",
    "const obj = JSON.parse(json);\n",
    "console.log(obj.count); // expected output: 42\n",
    "console.log(obj.result); // expected output: true"
   ]
  },
  {
   "cell_type": "code",
   "execution_count": 374,
   "metadata": {},
   "outputs": [
    {
     "data": {
      "text/plain": [
       "{ people: 'https://ci-swapi.herokuapp.com/api/people/',\n",
       "  planets: 'https://ci-swapi.herokuapp.com/api/planets/',\n",
       "  films: 'https://ci-swapi.herokuapp.com/api/films/',\n",
       "  species: 'https://ci-swapi.herokuapp.com/api/species/',\n",
       "  vehicles: 'https://ci-swapi.herokuapp.com/api/vehicles/',\n",
       "  starships: 'https://ci-swapi.herokuapp.com/api/starships/' }"
      ]
     },
     "execution_count": 374,
     "metadata": {},
     "output_type": "execute_result"
    }
   ],
   "source": [
    "JSON.parse(xhr.responseText);"
   ]
  },
  {
   "cell_type": "markdown",
   "metadata": {},
   "source": [
    "### Call Back Function"
   ]
  },
  {
   "cell_type": "code",
   "execution_count": 378,
   "metadata": {},
   "outputs": [
    {
     "name": "stdout",
     "output_type": "stream",
     "text": [
      "count 60\n",
      "next https://ci-swapi.herokuapp.com/api/planets/?page=2\n",
      "previous null\n",
      "results [ { name: 'Tatooine',\n",
      "    rotation_period: '23',\n",
      "    orbital_period: '304',\n",
      "    diameter: '10465',\n",
      "    climate: 'arid',\n",
      "    gravity: '1 standard',\n",
      "    terrain: 'desert',\n",
      "    surface_water: '1',\n",
      "    population: '200000',\n",
      "    residents:\n",
      "     [ 'https://ci-swapi.herokuapp.com/api/people/1/',\n",
      "       'https://ci-swapi.herokuapp.com/api/people/2/',\n",
      "       'https://ci-swapi.herokuapp.com/api/people/4/',\n",
      "       'https://ci-swapi.herokuapp.com/api/people/6/',\n",
      "       'https://ci-swapi.herokuapp.com/api/people/7/',\n",
      "       'https://ci-swapi.herokuapp.com/api/people/8/',\n",
      "       'https://ci-swapi.herokuapp.com/api/people/9/',\n",
      "       'https://ci-swapi.herokuapp.com/api/people/11/',\n",
      "       'https://ci-swapi.herokuapp.com/api/people/43/',\n",
      "       'https://ci-swapi.herokuapp.com/api/people/62/' ],\n",
      "    films:\n",
      "     [ 'https://ci-swapi.herokuapp.com/api/films/1/',\n",
      "       'https://ci-swapi.herokuapp.com/api/films/3/',\n",
      "       'https://ci-swapi.herokuapp.com/api/films/4/',\n",
      "       'https://ci-swapi.herokuapp.com/api/films/5/',\n",
      "       'https://ci-swapi.herokuapp.com/api/films/6/' ],\n",
      "    created: '2014-12-09T13:50:49.641000Z',\n",
      "    edited: '2014-12-20T20:58:18.411000Z',\n",
      "    url: 'https://ci-swapi.herokuapp.com/api/planets/1/' },\n",
      "  { name: 'Alderaan',\n",
      "    rotation_period: '24',\n",
      "    orbital_period: '364',\n",
      "    diameter: '12500',\n",
      "    climate: 'temperate',\n",
      "    gravity: '1 standard',\n",
      "    terrain: 'grasslands, mountains',\n",
      "    surface_water: '40',\n",
      "    population: '2000000000',\n",
      "    residents:\n",
      "     [ 'https://ci-swapi.herokuapp.com/api/people/5/',\n",
      "       'https://ci-swapi.herokuapp.com/api/people/68/',\n",
      "       'https://ci-swapi.herokuapp.com/api/people/81/' ],\n",
      "    films:\n",
      "     [ 'https://ci-swapi.herokuapp.com/api/films/1/',\n",
      "       'https://ci-swapi.herokuapp.com/api/films/6/' ],\n",
      "    created: '2014-12-10T11:35:48.479000Z',\n",
      "    edited: '2014-12-20T20:58:18.420000Z',\n",
      "    url: 'https://ci-swapi.herokuapp.com/api/planets/2/' },\n",
      "  { name: 'Yavin IV',\n",
      "    rotation_period: '24',\n",
      "    orbital_period: '4818',\n",
      "    diameter: '10200',\n",
      "    climate: 'temperate, tropical',\n",
      "    gravity: '1 standard',\n",
      "    terrain: 'jungle, rainforests',\n",
      "    surface_water: '8',\n",
      "    population: '1000',\n",
      "    residents: [],\n",
      "    films: [ 'https://ci-swapi.herokuapp.com/api/films/1/' ],\n",
      "    created: '2014-12-10T11:37:19.144000Z',\n",
      "    edited: '2014-12-20T20:58:18.421000Z',\n",
      "    url: 'https://ci-swapi.herokuapp.com/api/planets/3/' },\n",
      "  { name: 'Hoth',\n",
      "    rotation_period: '23',\n",
      "    orbital_period: '549',\n",
      "    diameter: '7200',\n",
      "    climate: 'frozen',\n",
      "    gravity: '1.1 standard',\n",
      "    terrain: 'tundra, ice caves, mountain ranges',\n",
      "    surface_water: '100',\n",
      "    population: 'unknown',\n",
      "    residents: [],\n",
      "    films: [ 'https://ci-swapi.herokuapp.com/api/films/2/' ],\n",
      "    created: '2014-12-10T11:39:13.934000Z',\n",
      "    edited: '2014-12-20T20:58:18.423000Z',\n",
      "    url: 'https://ci-swapi.herokuapp.com/api/planets/4/' },\n",
      "  { name: 'Dagobah',\n",
      "    rotation_period: '23',\n",
      "    orbital_period: '341',\n",
      "    diameter: '8900',\n",
      "    climate: 'murky',\n",
      "    gravity: 'N/A',\n",
      "    terrain: 'swamp, jungles',\n",
      "    surface_water: '8',\n",
      "    population: 'unknown',\n",
      "    residents: [],\n",
      "    films:\n",
      "     [ 'https://ci-swapi.herokuapp.com/api/films/2/',\n",
      "       'https://ci-swapi.herokuapp.com/api/films/3/',\n",
      "       'https://ci-swapi.herokuapp.com/api/films/6/' ],\n",
      "    created: '2014-12-10T11:42:22.590000Z',\n",
      "    edited: '2014-12-20T20:58:18.425000Z',\n",
      "    url: 'https://ci-swapi.herokuapp.com/api/planets/5/' },\n",
      "  { name: 'Bespin',\n",
      "    rotation_period: '12',\n",
      "    orbital_period: '5110',\n",
      "    diameter: '118000',\n",
      "    climate: 'temperate',\n",
      "    gravity: '1.5 (surface), 1 standard (Cloud City)',\n",
      "    terrain: 'gas giant',\n",
      "    surface_water: '0',\n",
      "    population: '6000000',\n",
      "    residents: [ 'https://ci-swapi.herokuapp.com/api/people/26/' ],\n",
      "    films: [ 'https://ci-swapi.herokuapp.com/api/films/2/' ],\n",
      "    created: '2014-12-10T11:43:55.240000Z',\n",
      "    edited: '2014-12-20T20:58:18.427000Z',\n",
      "    url: 'https://ci-swapi.herokuapp.com/api/planets/6/' },\n",
      "  { name: 'Endor',\n",
      "    rotation_period: '18',\n",
      "    orbital_period: '402',\n",
      "    diameter: '4900',\n",
      "    climate: 'temperate',\n",
      "    gravity: '0.85 standard',\n",
      "    terrain: 'forests, mountains, lakes',\n",
      "    surface_water: '8',\n",
      "    population: '30000000',\n",
      "    residents: [ 'https://ci-swapi.herokuapp.com/api/people/30/' ],\n",
      "    films: [ 'https://ci-swapi.herokuapp.com/api/films/3/' ],\n",
      "    created: '2014-12-10T11:50:29.349000Z',\n",
      "    edited: '2014-12-20T20:58:18.429000Z',\n",
      "    url: 'https://ci-swapi.herokuapp.com/api/planets/7/' },\n",
      "  { name: 'Naboo',\n",
      "    rotation_period: '26',\n",
      "    orbital_period: '312',\n",
      "    diameter: '12120',\n",
      "    climate: 'temperate',\n",
      "    gravity: '1 standard',\n",
      "    terrain: 'grassy hills, swamps, forests, mountains',\n",
      "    surface_water: '12',\n",
      "    population: '4500000000',\n",
      "    residents:\n",
      "     [ 'https://ci-swapi.herokuapp.com/api/people/3/',\n",
      "       'https://ci-swapi.herokuapp.com/api/people/21/',\n",
      "       'https://ci-swapi.herokuapp.com/api/people/35/',\n",
      "       'https://ci-swapi.herokuapp.com/api/people/36/',\n",
      "       'https://ci-swapi.herokuapp.com/api/people/37/',\n",
      "       'https://ci-swapi.herokuapp.com/api/people/38/',\n",
      "       'https://ci-swapi.herokuapp.com/api/people/39/',\n",
      "       'https://ci-swapi.herokuapp.com/api/people/42/',\n",
      "       'https://ci-swapi.herokuapp.com/api/people/60/',\n",
      "       'https://ci-swapi.herokuapp.com/api/people/61/',\n",
      "       'https://ci-swapi.herokuapp.com/api/people/66/' ],\n",
      "    films:\n",
      "     [ 'https://ci-swapi.herokuapp.com/api/films/3/',\n",
      "       'https://ci-swapi.herokuapp.com/api/films/4/',\n",
      "       'https://ci-swapi.herokuapp.com/api/films/5/',\n",
      "       'https://ci-swapi.herokuapp.com/api/films/6/' ],\n",
      "    created: '2014-12-10T11:52:31.066000Z',\n",
      "    edited: '2014-12-20T20:58:18.430000Z',\n",
      "    url: 'https://ci-swapi.herokuapp.com/api/planets/8/' },\n",
      "  { name: 'Coruscant',\n",
      "    rotation_period: '24',\n",
      "    orbital_period: '368',\n",
      "    diameter: '12240',\n",
      "    climate: 'temperate',\n",
      "    gravity: '1 standard',\n",
      "    terrain: 'cityscape, mountains',\n",
      "    surface_water: 'unknown',\n",
      "    population: '1000000000000',\n",
      "    residents:\n",
      "     [ 'https://ci-swapi.herokuapp.com/api/people/34/',\n",
      "       'https://ci-swapi.herokuapp.com/api/people/55/',\n",
      "       'https://ci-swapi.herokuapp.com/api/people/74/' ],\n",
      "    films:\n",
      "     [ 'https://ci-swapi.herokuapp.com/api/films/3/',\n",
      "       'https://ci-swapi.herokuapp.com/api/films/4/',\n",
      "       'https://ci-swapi.herokuapp.com/api/films/5/',\n",
      "       'https://ci-swapi.herokuapp.com/api/films/6/' ],\n",
      "    created: '2014-12-10T11:54:13.921000Z',\n",
      "    edited: '2014-12-20T20:58:18.432000Z',\n",
      "    url: 'https://ci-swapi.herokuapp.com/api/planets/9/' },\n",
      "  { name: 'Kamino',\n",
      "    rotation_period: '27',\n",
      "    orbital_period: '463',\n",
      "    diameter: '19720',\n",
      "    climate: 'temperate',\n",
      "    gravity: '1 standard',\n",
      "    terrain: 'ocean',\n",
      "    surface_water: '100',\n",
      "    population: '1000000000',\n",
      "    residents:\n",
      "     [ 'https://ci-swapi.herokuapp.com/api/people/22/',\n",
      "       'https://ci-swapi.herokuapp.com/api/people/72/',\n",
      "       'https://ci-swapi.herokuapp.com/api/people/73/' ],\n",
      "    films: [ 'https://ci-swapi.herokuapp.com/api/films/5/' ],\n",
      "    created: '2014-12-10T12:45:06.577000Z',\n",
      "    edited: '2014-12-20T20:58:18.434000Z',\n",
      "    url: 'https://ci-swapi.herokuapp.com/api/planets/10/' } ]\n"
     ]
    }
   ],
   "source": [
    "//const baseURL = \"https://ci-swapi.herokuapp.com/api/\";\n",
    "function getData(dataType, callBackFN){\n",
    "    // create an XMLHttpRequest object\n",
    "    const xhr = new XMLHttpRequest();\n",
    "    // set up what to do when the request successfully complete\n",
    "    xhr.onreadystatechange = function() {\n",
    "        if (this.readyState == 4 && this.status == 200) {\n",
    "            callBackFN(JSON.parse(this.responseText));\n",
    "        }\n",
    "    };\n",
    "    // open request\n",
    "    xhr.open(\"GET\", baseURL + dataType + '/');\n",
    "    // send request\n",
    "    xhr.send();\n",
    "}\n",
    "\n",
    "function executeOnDataReceipt(data){\n",
    "    for (let key in data){\n",
    "        console.log(key, data[key]);\n",
    "    }\n",
    "}\n",
    "\n",
    "getData('planets', executeOnDataReceipt);"
   ]
  },
  {
   "cell_type": "code",
   "execution_count": null,
   "metadata": {},
   "outputs": [],
   "source": []
  }
 ],
 "metadata": {
  "@webio": {
   "lastCommId": null,
   "lastKernelId": null
  },
  "kernelspec": {
   "display_name": "Javascript (Node.js)",
   "language": "javascript",
   "name": "javascript"
  },
  "language_info": {
   "file_extension": ".js",
   "mimetype": "application/javascript",
   "name": "javascript",
   "version": "10.13.0"
  }
 },
 "nbformat": 4,
 "nbformat_minor": 4
}
