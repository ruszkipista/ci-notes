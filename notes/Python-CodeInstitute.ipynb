{
 "cells": [
  {
   "cell_type": "markdown",
   "metadata": {},
   "source": [
    "# Introduction to Python\n",
    "\n",
    "> These documents provide a relatively brief overview of the main features of Python. They are intended as a crash course for students that already have some idea of how to program in another language. Not every aspect of Python is covered and for the most part the contents simply provides lists of what can be done in this language with some brief examples. "
   ]
  },
  {
   "cell_type": "markdown",
   "metadata": {},
   "source": [
    "## Contents\n",
    "\n",
    "This course is broken up into a number of chapters.\n",
    "\n",
    "* [00](#00-How-to-get-started-with-running-Python) How to get started with running Python\n",
    "* [01](#01-Basic-data-types-and-operations-(numbers,-strings)) Basic data types and operations numbers, strings \n",
    "* [02](#02-String-manipulation) String manipulation\n",
    "* [03](#03-Control-Flow-Statements:-Conditionals) Control Flow Statements: Conditionals\n",
    "* [04](#04-Control-Flow-Statements:-Loops) Control Flow Statements: Loops\n",
    "* [05](#05-Data-structures:-Lists) Data structures: Lists\n",
    "* [06](#06-Data-structures:-Tuples) Data structures: Tuples\n",
    "* [07](#07-Data-structures:-Dictionaries) Data structures: Dictionaries\n",
    "* [08](#08-Data-structures:-Sets) Data structures: Sets\n",
    "* [09](#09-Functions) Functions\n",
    "* [10](#10-Classes) Classes and basic object oriented programming\n",
    "* [11](#11-Input-&-Output-Operations) Input & Output Operations\n",
    "* [12](#12-Catching-Exceptions) Catching Exceptions\n",
    "* [13](#13-Built-in-Functions-&-Tools) Built-in Functions & Tools\n",
    "* [14](#14-Scientific-Python) Scipy: libraries for arrays (matrices) and plotting\n",
    "\n",
    "This is a tutorial style introduction to Python. For a quick reminder / summary of Python syntax the following [Quick Reference Card](http://www.cs.put.poznan.pl/csobaniec/software/python/py-qrc.html) may be useful. A longer and more detailed tutorial style introduction to python is available from the python site at: https://docs.python.org/3/tutorial/"
   ]
  },
  {
   "cell_type": "markdown",
   "metadata": {},
   "source": [
    "# 00 How to get started with running Python\n",
    "## Introduction\n",
    "\n",
    "Python is a modern, robust, high level programming language. It is very easy to pick up even if you are completely new to programming. \n",
    "\n",
    "Python, similar to other languages like matlab or R, is interpreted hence runs slowly compared to C++, Fortran or Java. However writing programs in Python is very quick. Python has a very large collection of libraries for everything from scientific computing to web services. It caters for object oriented and functional programming with module system that allows large and complex applications to be developed in Python. \n",
    "\n",
    "These lectures are using jupyter notebooks which mix Python code with documentation. The python notebooks can be run on a webserver or stand-alone on a computer.\n",
    "\n",
    "To give an indication of what Python code looks like, here is a simple bit of code that defines a set $N=\\{1,3,4,5,7\\}$ and calculates the sum of the squared elements of this set: $\\sum_{i\\in N} i^2=100$"
   ]
  },
  {
   "cell_type": "code",
   "execution_count": 1,
   "metadata": {},
   "outputs": [
    {
     "name": "stdout",
     "output_type": "stream",
     "text": [
      "The sum of ∑_i∈N i*i = 164\n"
     ]
    }
   ],
   "source": [
    "N={1,3,4,5,7,8}\n",
    "print('The sum of ∑_i∈N i*i =',sum( i**2 for i in N ) )"
   ]
  },
  {
   "cell_type": "markdown",
   "metadata": {},
   "source": [
    "## Installation\n",
    "\n",
    "Python runs on windows, linux, mac and other environments. There are many python distributions available. However the recommended way to install python under Microsoft Windows or Linux is to use the Anaconda distribution available at [https://www.anaconda.com/distribution/]. If you are installing python from elsewhwer, make sure you get at least Python *3.6* version, not 2.7. The Anaconda distribution comes with the [SciPy](https://www.scipy.org/) collection of scientific python tools as well as the iron python notebook. For developing python code without notebooks consider using [spyder](https://github.com/spyder-ide/spyder) (also included with Anaconda) or your favourite IDE under windows, mac etc (e.g. [Visual Studio Code](https://code.visualstudio.com/docs/languages/python) which handles both plain python programs and notebooks) \n",
    "\n",
    "To open a notebook with anaconda installed, from the terminal run:\n",
    "\n",
    "    ipython notebook"
   ]
  },
  {
   "cell_type": "markdown",
   "metadata": {},
   "source": [
    "## How to learn from this resource?\n",
    "\n",
    "Open the notebook, and clear all the outputs:\n",
    "\n",
    "    Cell > All Output > Clear\n",
    "\n",
    "Now you can understand each statement and learn interactively.\n",
    "\n",
    "## Using Notebooks\n",
    "Notebooks contain a mixture of documentation and code cells. Use the menus or buttons at the top of the notebook to run each cell. To get you started:\n",
    "\n",
    "* When creating new notebooks make sure to select the Python3 kernel (the server also allows you to create Matlab, Julia or R notebooks), and _rename the notebook_ to something meaningful using the `File->Rename...` menu option.\n",
    "* Documentation is written in markdown, a form of plain text with some basic formatting options (e.g. using `__text__` to make text bold, or `$latex$` to include mathematical formulas in latex format). For more information see the [Jupyter Markdown](https://jupyter-notebook.readthedocs.io/en/stable/examples/Notebook/Working%20With%20Markdown%20Cells.html) documentation or look at the _Help->Markdown_ entry in the menu above\n",
    "* Code cells contain Python code. You can execute just one cell or the whole notbook. <br>\n",
    "  **WARNING:** it is possible to get yourself very confused by out-of-order execution of cells.  If you you are getting very unexpected results after some time of incremental editing & execution of cells, try using `Kernel -> Restart & Run All` to restart the python interpreter and run all cells. This will ensure the interpreter is running exactly what you see in front of you in the right order, rather than remembering things from an earlier attempt.\n",
    "* You can use the `+` button or `Insert` menu to add new cells anywhere. You can easily add additional cells to try things out as you read through this tutorial. A cell simply is the smallest collection of code that you can execute individually within the notebook.\n",
    "* When you are finished use the `File -> Close & Halt` menu (or the `Shutdown` button in the `Running` tab of the Jupyter file browser) to stop the notebook running. By defaults notebooks will continue running even when you log off and close your web browser. This can be useful if you want to continue where you left off, but occasionally you need to do a cleanup to close some of these.\n",
    "  \n"
   ]
  },
  {
   "cell_type": "markdown",
   "metadata": {},
   "source": [
    "## License\n",
    "This work is licensed under the Creative Commons Attribution 3.0 Unported License. To view a copy of this license, visit http://creativecommons.org/licenses/by/3.0/\n",
    "\n",
    "<small><font style=\"font-size:6pt\"><i>\n",
    "This Introduction to Python is available from https://gitlab.erc.monash.edu.au/andrease/Python4Maths.git.\n",
    "<br>\n",
    "The original version was written by Rajath Kumar and is available at https://github.com/rajathkumarmp/Python-Lectures.\n",
    "The notes have been significantly rewritten and updated for Python 3 and amended for use in Monash University mathematics courses by [Andreas Ernst](https://research.monash.edu/en/persons/andreas-ernst) \n",
    "</i></font></small>"
   ]
  },
  {
   "cell_type": "markdown",
   "metadata": {},
   "source": [
    "# 01 Basic data types and operations (numbers, strings)\n",
    "## Getting started\n",
    "\n",
    "Python can be used like a calculator. Simply type in expressions to get them evaluated. The name REPL stands for Read-Eval-Print-Loop - an interactive, typically console-based, programming environment. Python has a built-in repl interpreter."
   ]
  },
  {
   "cell_type": "markdown",
   "metadata": {},
   "source": [
    "## Basic syntax for statements \n",
    "The basic rules for writing simple statments and expressions in Python are:\n",
    "* No spaces or tab characters allowed at the start of a statement: Indentation plays a special role in Python (see the section on control statements). For now simply ensure that all statements start at the beginning of the line.\n",
    "* The '#' character indicates that the rest of the line is a comment\n",
    "* Statements finish at the end of the line:\n",
    "  * Except when there is an open bracket or paranthesis:\n",
    "  \n",
    "```python\n",
    "1+2\n",
    "+3  #illegal continuation of the sum\n",
    "(1+2\n",
    "             + 3) # perfectly OK even with spaces\n",
    "```\n",
    "  * A single backslash at the end of the line can also be used to indicate that a statement is still incomplete  \n",
    "```python\n",
    "1 + \\\n",
    "   2 + 3 # this is also OK\n",
    "```\n",
    "The jupyter notebook system for writting Python intersperses text (like this) with Python statements. Try typing something into the cell (box) below and press the 'Run' button above to execute it. We will discuss operators that can be used in such operations further below, but for numbers these are mostly fairly obvious."
   ]
  },
  {
   "cell_type": "code",
   "execution_count": 2,
   "metadata": {},
   "outputs": [
    {
     "data": {
      "text/plain": [
       "7"
      ]
     },
     "execution_count": 2,
     "metadata": {},
     "output_type": "execute_result"
    }
   ],
   "source": [
    "1 + 2 * 3"
   ]
  },
  {
   "cell_type": "markdown",
   "metadata": {},
   "source": [
    "Python has extensive help built in. You can execute `help()` for an overview or `help(x)` for any library, object or type `x`. Try using `help(\"topics\")` to get a list of help pages built into the help system."
   ]
  },
  {
   "cell_type": "code",
   "execution_count": 3,
   "metadata": {},
   "outputs": [
    {
     "name": "stdout",
     "output_type": "stream",
     "text": [
      "\n",
      "Here is a list of available topics.  Enter any topic name to get more help.\n",
      "\n",
      "ASSERTION           DELETION            LOOPING             SHIFTING\n",
      "ASSIGNMENT          DICTIONARIES        MAPPINGMETHODS      SLICINGS\n",
      "ATTRIBUTEMETHODS    DICTIONARYLITERALS  MAPPINGS            SPECIALATTRIBUTES\n",
      "ATTRIBUTES          DYNAMICFEATURES     METHODS             SPECIALIDENTIFIERS\n",
      "AUGMENTEDASSIGNMENT ELLIPSIS            MODULES             SPECIALMETHODS\n",
      "BASICMETHODS        EXCEPTIONS          NAMESPACES          STRINGMETHODS\n",
      "BINARY              EXECUTION           NONE                STRINGS\n",
      "BITWISE             EXPRESSIONS         NUMBERMETHODS       SUBSCRIPTS\n",
      "BOOLEAN             FLOAT               NUMBERS             TRACEBACKS\n",
      "CALLABLEMETHODS     FORMATTING          OBJECTS             TRUTHVALUE\n",
      "CALLS               FRAMEOBJECTS        OPERATORS           TUPLELITERALS\n",
      "CLASSES             FRAMES              PACKAGES            TUPLES\n",
      "CODEOBJECTS         FUNCTIONS           POWER               TYPEOBJECTS\n",
      "COMPARISON          IDENTIFIERS         PRECEDENCE          TYPES\n",
      "COMPLEX             IMPORTING           PRIVATENAMES        UNARY\n",
      "CONDITIONAL         INTEGER             RETURNING           UNICODE\n",
      "CONTEXTMANAGERS     LISTLITERALS        SCOPING             \n",
      "CONVERSIONS         LISTS               SEQUENCEMETHODS     \n",
      "DEBUGGING           LITERALS            SEQUENCES           \n",
      "\n"
     ]
    }
   ],
   "source": [
    "help(\"topics\")"
   ]
  },
  {
   "cell_type": "markdown",
   "metadata": {},
   "source": [
    "## Reserved Keywords\n",
    "Keywords are reserved words in Python. That means they cannot be used as ordinary identifiers like a variable, function, method or class name. They have a specific meaning and purpose within Python and cannot be used for anything other than that purpose.\n",
    "![reserved-keywords.png](./img/reserved-keywords.png)\n",
    "If using a keyword in a name cannot be avoided, then you can append a single trailing underscore. However, it is better to find a synonym for the keyword and use that instead.\n",
    "\n",
    "Here is a piece of code that lists all reserved keywords:\n",
    "```python\n",
    "import keyword\n",
    "keyword.kwlist\n",
    "```"
   ]
  },
  {
   "cell_type": "markdown",
   "metadata": {},
   "source": [
    "## The `print()` Statement\n",
    "![print+hello-world.png](./img/print+hello-world.png)\n",
    "\n",
    "We’ll cover functions in much more detail throughout the course, but for now, all we need to know about is the `print()` function. The `print()` function, as its name suggests, displays information on the screen. It is used in command line (or terminal) or scripts, which is what we'll be working with throughout this module. So, you're about to become very familiar with the `print()` function! Print statements are instrumental in troubleshooting, especially when your code is giving an output you do not expect. By placing print statements throughout your code you can see what values are at each point in the same way you did with JavaScript's `console.log()`. This helps debug the code by finding from where the unexpected result originates."
   ]
  },
  {
   "cell_type": "markdown",
   "metadata": {},
   "source": [
    "## Commenting the code\n",
    "Developers spend a lot of time writing code. So much time in fact that revisiting a piece of code that was written a couple of weeks ago may have little to no meaning to that developer, let alone any other developers that may be working on that same project. Code can get quite busy, and it can get unwieldy when people try to read it, whether it’s someone else's or if you come back to your code at a later stage. We can use code commenting, which will allow us to write human-readable explanations to our code. Comments will be ignored by the Python interpreter, meaning that we can add in as many comments as we need, without affecting the speed or performance of the program.\n",
    "\n",
    "We can write different types of comments. \n",
    "* We have single-line comments\n",
    "```python\n",
    "# this is a one-line comment\n",
    "```\n",
    "* and multiline comments. Multiline comments can take up as many lines as you require. The comment itself is put between three opening double quotations and three closing double quotations.\n",
    "```python\n",
    "\"\"\"\n",
    "This is  multi-line comment.\n",
    "We can spread this across as many lines as we need to\n",
    "and it won't impact our computer program at all!!!\n",
    "\"\"\"\n",
    "```\n",
    "\n",
    "Generally speaking, single-line comments are used to explain individual pieces of code, whereas the multi-line comments are used to describe a function, method, class, or module. Ideally, we would use a multiline comment on every function, method, class, or module. The Python name for this is a docstring.\n",
    "```python\n",
    "def add(a,b):\n",
    "    \"\"\"\n",
    "    Adds two numbers together\n",
    "    Returns the sum of parameter \"a\" and \"b\"\n",
    "    \"\"\"\n",
    "    result = a + b  # add the two parameters and store in variable \"result\"\n",
    "    return result\n",
    "```"
   ]
  },
  {
   "cell_type": "markdown",
   "metadata": {},
   "source": [
    "You can retrieve an object's docstring with the `__doc__` property"
   ]
  },
  {
   "cell_type": "code",
   "execution_count": 4,
   "metadata": {},
   "outputs": [
    {
     "data": {
      "text/plain": [
       "'returns n!'"
      ]
     },
     "execution_count": 4,
     "metadata": {},
     "output_type": "execute_result"
    }
   ],
   "source": [
    "def factorial(n):\n",
    "    \"\"\"returns n!\"\"\"\n",
    "    return 1 if n < 2 else n * factorial(n-1)\n",
    "\n",
    "factorial.__doc__"
   ]
  },
  {
   "cell_type": "markdown",
   "metadata": {},
   "source": [
    "## Code Indentation\n",
    "The use of indentation to define a block of code makes it very clear to read. In other programming languages indentation is purely for readability, but in Python, it is vital to the correct running of the program. The PEP8 standard is four spaces for indentation level. Python 3 will error if you mix spaces and tabs.\n",
    "![indentation.png](./img/indentation.png)\n",
    "The (recommended) maximum line length is 79 characters. This means that a line of code may have to be wrapped onto a continuation line. The continuation line indent cannot match the block indentation; otherwise, there will be an error. You can either add four further spaces to the continuation line indent or align with the opening delimiter on the preceding line.\n",
    "\n",
    "This is easier to see than to explain so here are the official PEP8 suggestions.\n",
    "```python\n",
    "# Correct:\n",
    "\n",
    "# It is aligned with the opening delimiter, e.g. the opening parentheses.\n",
    "foo = long_function_name(var_one, var_two,\n",
    "                         var_three, var_four)\n",
    "\n",
    "# Add four spaces (an extra level of indentation) to distinguish arguments from the rest.\n",
    "def long_function_name(\n",
    "        var_one, var_two, var_three,\n",
    "        var_four):\n",
    "    print(var_one)\n",
    "\n",
    "# Hanging indents should add a level.\n",
    "foo = long_function_name(\n",
    "    var_one, var_two,\n",
    "    var_three, var_four)\n",
    "```\n",
    "No arguments are allowed on the first line where hanging indentation is used."
   ]
  },
  {
   "cell_type": "markdown",
   "metadata": {},
   "source": [
    "## Breakpoints using `raise SystemExit()`\n",
    "![system-exit.png](./img/system-exit.png)\n",
    "Often when editing your code, you would like to stop the program at a specific point to see what state it is in at that time. Python gives an option of `raise SystemExit` to force it to stop at a particular point. `SystemExit`, when raised, runs the `exit()` function in Python. This means the code is exited safely. This is analogous to shutting down your desktop PC from the menu rather than switching off the power at the wall."
   ]
  },
  {
   "cell_type": "markdown",
   "metadata": {},
   "source": [
    "## Syntax Errors\n",
    "![syntax-error.png](./img/syntax-error.png)\n",
    "When learning Python, the most commonly seen error messages are **syntax errors**. These are also called parsing errors. The parser repeats the line where the error has been detected in the terminal. A caret `^` points to the earliest point in the line where the error occurs. The text after `SyntaxError` may also suggest a fix. The filename and line number are printed, so it is easier to find in an extensive program.\n",
    "\n",
    "In the runnable example, there is a syntax error. Can you identify what it is and how to fix it?\n",
    "```Python\n",
    "print 'Hello, World!'\n",
    "---------------------------------------------------------------------------\n",
    "File \"<ipython-input-175-5fea38df3ff9>\", line 1\n",
    "    print 'Hello, World!'\n",
    "          ^\n",
    "SyntaxError: Missing parentheses in call to 'print'. Did you mean print('Hello, World!')?\n",
    "```"
   ]
  },
  {
   "cell_type": "markdown",
   "metadata": {},
   "source": [
    "## Logic Errors - Bugs\n",
    "![bug.png](./img/bug.png)\n",
    "Logic errors are when the code gives a different output than you were expecting. These are the most difficult errors to fix. A computer does exactly what it is programmed to do. Therefore a logic error is a mistake or misunderstanding from the developer. If the syntax of the code is correct, then there will be no error posted in the terminal.\n",
    "\n",
    "Common logic errors include using the wrong variable name, incorrectly indenting blocks, wrong number types, incorrect operator precedence, wrong Boolean value or an out-by-one error. With an incorrect variable name, you may get a hint from the linter as there is an unused variable or a spelling mistake may give a runtime error if the variable does not exist.\n",
    "\n",
    "This is where neatly laying out your code to PEP8 standards helps the readability. Please don’t copy/paste large sections of code as it is easy to introduce an error.\n",
    "\n",
    "The simplest way to debug your code is to use `print` statements. Add `print` statements throughout the code to ensure you are getting the results you intended. Another way is to visualise the execution of the code in a debugger tool."
   ]
  },
  {
   "cell_type": "markdown",
   "metadata": {},
   "source": [
    "### Bugs\n",
    "Debugging is the process of identifying and fixing problems in computer software or hardware. In the context of this course, debugging will mean finding and fixing problems in your code. There are many ways to debug your code, tools that can help you do it, and every developer will have the debugging style that works for them. The important piece is that you know what debugging is and that you should always do it along the way when possible.\n",
    "\n",
    "A typical debugging process might look like the following:\n",
    "\n",
    "1. A bug is identified either by a user or by a developer during testing/development.\n",
    "2. The developer (if the bug was reported by a user) tries to reproduce the bug and verifies that it exists.\n",
    "3. The developer starts at the moment of user input, first verifying that the input is received correctly.\n",
    "4. The developer follows the code line by line, displaying output along the way until he or she identifies a problem in a function imported from an external library.\n",
    "5. The developer Googles some information about the problem or visits the external library's documentation to verify he or she is using the function properly.\n",
    "6. The developer identifies a mistake in the way they were utilizing the external library and makes the appropriate changes to the code.\n",
    "7. The developer tests the same input again verifies the code is functioning correctly and the rest of the application has not been affected and then deploys the change.\n",
    "\n",
    "The process of debugging is an iterative one. When you identify a problem, it's best to try to start at the very beginning: the moment that the input occurs. Whether it's a human input or a programmatic input doesn't matter; what's important is starting at the very beginning and then stepping through the code line by line. Along the way you might verify that variables have the correct values, functions are returning the proper results and so on. In some cases, this will lead you down a rabbit hole and expose other bugs and sometimes even fundamental underlying issues in the application. While sometimes it can be frustrating, you must remember that computers treat everything literally, and the computer is never wrong. It will always do exactly what you told it to do, even if that means executing a poorly written function by another developer and giving you an incorrect result! To the computer, it did exactly what it was instructed to do. It's up to you to track down the incorrect instructions that you or someone else has unintentionally given it."
   ]
  },
  {
   "cell_type": "markdown",
   "metadata": {},
   "source": [
    "### Debugging & Problem Solving Philosophy\n",
    "Good developers have a consistent, structured debugging process and a philosophy of asking questions and never assuming anything. You must understand that the computer will always do exactly what you tell it to do, in the most literal sense you can imagine. Sometimes this will throw you off and you will swear that you're not doing anything wrong, but let us assure you now that the computer is never wrong.\n",
    "\n",
    "In general, you should have a philosophy of always asking yourself questions about your code whenever it does something unexpected. Some questions you should get in the habit of asking yourself are:\n",
    "\n",
    "1. What did I expect to happen when the code was run?\n",
    "2. **Precisely** what happened when the code was run?\n",
    "3. Am I (or is the user) submitting the correct input?\n",
    "4. Do all the variables in use in the code have the correct values?\n",
    "5. Is the data I'm working with the correct data type?\n",
    "5. Are there any functions changing or mutating the data, the input, or the output before the final step of the code?\n",
    "6. What am I **literally** asking the computer to do, and is that actually what I want it to do?"
   ]
  },
  {
   "cell_type": "markdown",
   "metadata": {},
   "source": [
    "### Asking for help\n",
    "Speaking of questions, a huge part of solving problems when coding is asking others for help. Knowing how to ask good questions is important not only to get good answers but to maintaining a good reputation in the software development world. After all, no one wants to help someone who refuses to put in any effort to solve the problem themselves or ask a good question! When posting questions on forums, in Slack or Discord communities, or anywhere else, it's a good idea to always include the following:\n",
    "\n",
    "1. What you expected to happen\n",
    "2. What happened\n",
    "3. All relevant code that could be causing the problem\n",
    "4. Anything you've already tried in attempting to resolve the problem\n",
    "\n",
    "If you're asking a higher level or more philosophical question, such as brainstorming ideas about how to accomplish a task, make sure you are also clearly defining the requirements you have. Instead of asking \"How do I build a website?\", ask \"I've been searching for resources to learn how to build an E-commerce website and have come across X, Y, and Z. Which one of these would be the best to start with and are there any others that might also be useful?\" The latter shows that you have put in some effort, explains the specific type of website you want to build and asks about specific resources that others may have used and had opinions on, as well as asking for additional resources.\n",
    "\n",
    "A philosophy of asking questions about your code and knowing the proper terminology when searching for solutions will become vitally important. By doing this, you should get used to thinking in terms of how data is organized, what type of data it is (numbers, strings of text, true/false values, etc), and how the computer might be interpreting what you're instructing it to do. When asking questions, provide as much information as possible and treat your question as an opportunity to teach the reader about your code. After all, they've never seen a single line of it, and in trying to explain it to them, you just might solve your problem!"
   ]
  },
  {
   "cell_type": "markdown",
   "metadata": {},
   "source": [
    "## Variables & Values\n",
    "A name that is used to denote something or a value is called a variable. Variables are analogous to “boxes” that we can use to store, modify and reference values in a computer program."
   ]
  },
  {
   "cell_type": "markdown",
   "metadata": {},
   "source": [
    "### Declaring Variables\n",
    "![varable+assignment.png](./img/varable+assignment.png)\n",
    "Fortunately, computers are much more than just fancy calculators. Computers have a hardware component called RAM (Random Access Memory). RAM is a storage medium for computers. Unlike a hard drive, RAM is volatile, so any data stored in RAM will be lost after the computer has been shut down. RAM is used to store any data that is used by a computer program when it is running (also known as “being executed”). Not only do variables allow us to persist data that we may need for our program in memory, but it also allows us to provide meaningful names for the data that we’re storing. A variable acts as a placeholder in memory for a piece of data. The value of the data is stored in that placeholder. We can then use the name of that variable as a reference to that location in memory.\n",
    "\n",
    "Throughout an application, we can create as many variables as we need. However, there are a couple of rules that need to be followed when creating a variable. Variable names must start with a regular letter (not a number), and all further characters should be either letters or digits or underscores. There is an exception to this rule which is that instance variables should start with an underscore. Instance variables are defined within methods in a Class. This is something you will see in more advanced lessons."
   ]
  },
  {
   "cell_type": "markdown",
   "metadata": {},
   "source": [
    "Python comes with it’s standard for writing readable code called PEP8 (https://www.python.org/dev/peps/pep-0008/). This standard only acts as guidelines for how code should be written to make all code as readable to all Python developers. PEP8 recommends variable namimg conventions.\n",
    "![variable-naming-convention.png](./img/naming-convention.png)\n",
    "Python is quite forgiving when it comes to naming. However, there are suggested style rules that you should follow. Variable names should be lowercase. However Python will still work if you use capital letters in your variables. Variable names are case sensitive so take care not to write `my_var` as `my_Var` as it will be considered as a different variable. If variable name includes multiple words, you should use underscores as separators.\n",
    "\n",
    "Giving a variable a name that explains its purpose is encouraged. Where the meaning is obvious, you can use a single letter variable name. There is a convention where you prefix a global variable with an underscore if you are using it in a module imported into another module. There is no constant in Python unlike the const in JavaScript, so if you have a variable you do not want to be changed, then use capital letters to denote this. Generally, it is a bad idea to use lowercase `L`, uppercase `O` and uppercase `I` for single-character names as they are easily confused by eye with other characters.\n",
    "```python\n",
    "count = 0\n",
    "first_name = Brian\n",
    "greeting = \"Hello, World!\"\n",
    "PI = 3.14159\n",
    "```\n",
    "In Python, there is no concept of variable declaration. A variable comes into existence when it is assigned a value. If you try and use a variable name before it has a value assigned then you will get an error."
   ]
  },
  {
   "cell_type": "markdown",
   "metadata": {},
   "source": [
    "In python, variables can be declared and values can be assigned to it as follows,"
   ]
  },
  {
   "cell_type": "code",
   "execution_count": 5,
   "metadata": {},
   "outputs": [
    {
     "name": "stdout",
     "output_type": "stream",
     "text": [
      "7 Hey\n"
     ]
    }
   ],
   "source": [
    "x = 2          # anything after a '#' is a comment\n",
    "y = 5\n",
    "xy = 'Hey'\n",
    "print(x+y, xy) # not really necessary as the last value in a bit of code is displayed by default"
   ]
  },
  {
   "cell_type": "code",
   "execution_count": 6,
   "metadata": {},
   "outputs": [
    {
     "data": {
      "text/plain": [
       "[15, 15]"
      ]
     },
     "execution_count": 6,
     "metadata": {},
     "output_type": "execute_result"
    }
   ],
   "source": [
    "first_number = 10\n",
    "second_number = 5\n",
    "\n",
    "[first_number + second_number, 10 + 5]"
   ]
  },
  {
   "cell_type": "markdown",
   "metadata": {},
   "source": [
    "Both sets of addition give the same result. As you have assigned the values of `10` and `5` to the variables, you can do the same arithmetic operations to the variables as with the integers `10` and `5`. Pieces of code that need to be evaluated are known as **expressions**. Both these expressions are evaluated to give the same output of 15.\n",
    "\n",
    "It is possible to control the data type when declaring a variable by combining with the specific data type function. The first_number variable above will default to an integer. If you intended a floating-point number, then use."
   ]
  },
  {
   "cell_type": "code",
   "execution_count": 7,
   "metadata": {},
   "outputs": [],
   "source": [
    "first_number = float(10)"
   ]
  },
  {
   "cell_type": "markdown",
   "metadata": {},
   "source": [
    "We know that when we declare a variable called `my_number` and then print it out, it will print out the value stored in that variable. What happens when we declare a second variable called `my_number` and print out the value? "
   ]
  },
  {
   "cell_type": "code",
   "execution_count": 8,
   "metadata": {},
   "outputs": [
    {
     "name": "stdout",
     "output_type": "stream",
     "text": [
      "10\n"
     ]
    }
   ],
   "source": [
    "my_number = 5\n",
    "my_number = 10\n",
    "print(my_number)"
   ]
  },
  {
   "cell_type": "markdown",
   "metadata": {},
   "source": [
    "This time the output is `10`. This is called **variable reassignment**. We use the variable name of `my_variable` to reference the value stored in that same memory location and update it accordingly. Then by the time that we pass the variable to the `print` function the value of `my_variable` has been updated to the value of `10`. Therefore we can re-assign values to a variable as we choose.\n",
    "\n",
    "Multiple variables can be assigned with the same value."
   ]
  },
  {
   "cell_type": "code",
   "execution_count": 9,
   "metadata": {},
   "outputs": [
    {
     "name": "stdout",
     "output_type": "stream",
     "text": [
      "1 1\n"
     ]
    }
   ],
   "source": [
    "x = y = 1\n",
    "print(x,y)"
   ]
  },
  {
   "cell_type": "markdown",
   "metadata": {},
   "source": [
    "### Determining Data Type\n",
    "![data-types.png](./img/data-types.png)\n",
    "Python stores data in different types. A **data type** is an essential concept as different types can do different things. Perhaps the most basic data type in computing is boolean (`bool`) which has two built-in values of `True` or `False`. Text has the type of string (`str`). There are several numeric types such as integer (`int`), float and complex numbers. Any of these types can be stored in other data types. For example, you could hold a sequence in a list, type or range. You can also map data using the dictionary (`dict`) type. This is analogous to an English dictionary where you can look up a word and get a derivation. \n",
    "\n",
    "To ascertain the type of any object you can use the built-in `type()` function. This function will give you the type. However, if you want to run a check on the type, you can use `isinstance()` which will return `True` or `False`. In the example below both `my_var` and `2` are integers so `type()` will return `<class 'int'>` and `isinstance()` will return `True`."
   ]
  },
  {
   "cell_type": "code",
   "execution_count": 10,
   "metadata": {},
   "outputs": [
    {
     "data": {
      "text/plain": [
       "[int, int, True]"
      ]
     },
     "execution_count": 10,
     "metadata": {},
     "output_type": "execute_result"
    }
   ],
   "source": [
    "my_var = 2\n",
    "[type(my_var), type(2), isinstance(my_var, int)]"
   ]
  },
  {
   "cell_type": "markdown",
   "metadata": {},
   "source": [
    "### Integers, Floats & Decimals\n",
    "There are three distinct numeric types: **integer**s, **floating-point**, and **complex** numbers. "
   ]
  },
  {
   "cell_type": "markdown",
   "metadata": {},
   "source": [
    "The number type you are probably most familiar with is the integer or whole number. These are all the whole numbers on a number scale, including `0`. In computer programming, however, an integer is called an int for short. The other type of numbers that Python offers is a floating-point number, or float for short. A float is a number that is followed by a decimal point. For example, a float might look like `12.74`, whereas an int might be just `12` or `13`, depending on whether you choose to round up or not!\n",
    "\n",
    "The Python standard library includes the additional numeric types `fractions.Fraction`, for rationals, and `decimal.Decimal` for floating-point numbers with user-definable precision. You are quite likely to use decimal numbers as for example in cash transactions limited to 2 decimal places.\n",
    "\n",
    "The constructors `int()`, `float()` can be used to produce numbers of a specific type."
   ]
  },
  {
   "cell_type": "markdown",
   "metadata": {},
   "source": [
    "The reason that we need to differentiate between the two different types of numbers is so that Python can inform the computer of how much memory will need to be allocated to store that value because `int`s require more memory than `float`s. Thankfully Python will mostly work within the confines of these two types of numbers; unlike other languages such as Java or C#, which have small `int`s, `long int`s, `double`s and many more! Also, in a language like Java or C#, we would have to specify the type of variable that you wish to declare.\n",
    "\n",
    "For example, if you wanted to declare an `int` in C or Java you would write something like this:\n",
    "```C\n",
    "int my_number = 42;\n",
    "```\n",
    "We don’t need to do this in Python. The reason for this is that Python is what we call a dynamically typed language. Therefore we don’t have to specify the type because Python will make that determination for us at runtime (while the program is running), meaning that we can focus on writing code instead of making sure we get all of our types correct! This is often referred to as duck-typing. The philosophy here is: If it quacks, treat it as duck, otherwise, handle it differently. For example, if we have a variable that contains a number that doesn’t have a decimal point, treat it as an int; otherwise, if it does have a decimal point, treat it as a float. A language that requires us to specify the type of variable that we wish to declare is called a statically typed language. Java and C# are examples of this, but we’re not going to cover those here."
   ]
  },
  {
   "cell_type": "markdown",
   "metadata": {},
   "source": [
    "Complex numbers are something you might hazily remember from school maths lessons, and we will not go into any further detail here. Complex numbers that can be created with the `complex()`constructor, written as follows. Note that the brackets are required."
   ]
  },
  {
   "cell_type": "code",
   "execution_count": 11,
   "metadata": {},
   "outputs": [
    {
     "data": {
      "text/plain": [
       "(1+2j)"
      ]
     },
     "execution_count": 11,
     "metadata": {},
     "output_type": "execute_result"
    }
   ],
   "source": [
    "complex(1,2)\n",
    "(1.0+2j) # the same number as above"
   ]
  },
  {
   "cell_type": "markdown",
   "metadata": {},
   "source": [
    "### None\n",
    "![0+none.png](./img/0+none.png)\n",
    "`None` is a Python keyword that is used to define when there is **no value** at all for something. It is not the same a `0` or the boolean `False` or an empty string. Those do have values of `0`, `False` and `\"\"` respectively. Instead, `None` is a signal object used in Python to signify *empty* or *no value here*. As you saw earlier, a variable only comes into existence when you declare it. There are no empty variables in Python. Therefore if you have a variable, it has a value, and if you want to remove that value, you can reassign the variable to `None`."
   ]
  },
  {
   "cell_type": "markdown",
   "metadata": {},
   "source": [
    "![nonetype.png](./img/nonetype.png)\n",
    "`None` has the data type of `NoneType`, which is a built-in data type just like `int` or `float`. You can not create new instances of `None` or assign it a value as semantically; it only represents the absence of a value. `None` is immutable.\n",
    "\n",
    "How would you use None? Well, Python functions if you do not specify an explicit return statement will return `None`. That way, Python guarantees that a function will always return something which makes for simplified programming."
   ]
  },
  {
   "cell_type": "code",
   "execution_count": 12,
   "metadata": {},
   "outputs": [
    {
     "name": "stdout",
     "output_type": "stream",
     "text": [
      "None\n"
     ]
    }
   ],
   "source": [
    "def donothing():\n",
    "    b = 0\n",
    "\n",
    "print(donothing())"
   ]
  },
  {
   "cell_type": "markdown",
   "metadata": {},
   "source": [
    "As was mentioned in the first paragraph, `None` can be used if you have a variable with a value and you wish to remove it. `None` is a little like the concept of `null/undefined` in JavaScript. They are both objects that can be used to signal when something has an absence of a value."
   ]
  },
  {
   "cell_type": "code",
   "execution_count": 13,
   "metadata": {},
   "outputs": [
    {
     "name": "stdout",
     "output_type": "stream",
     "text": [
      "None\n"
     ]
    }
   ],
   "source": [
    "a = 1\n",
    "a = None\n",
    "print(a)"
   ]
  },
  {
   "cell_type": "markdown",
   "metadata": {},
   "source": [
    "You can determine the data type of `None` in the same way as you did in the previous unit. Also, you can use `None` as part of a comparison. `None` has no value so you cannot use the equality operators like `==` but you can use the identity operators like `is not`."
   ]
  },
  {
   "cell_type": "markdown",
   "metadata": {},
   "source": [
    "### String Variables\n",
    "![string.png](./img/string.png)\n",
    "We now know how to create different types of variables using numbers, but we can store string literals too. We do this in the same way that we create a variable with a number. In Python, anything contained inside quotation marks is treated as a string. We can use double quotes `\"` or single quotes `'`. A string can be made up of any Unicode characters. Unicode characters contain 143859 characters from modern and historical scripts, including symbol sets."
   ]
  },
  {
   "cell_type": "code",
   "execution_count": 14,
   "metadata": {},
   "outputs": [
    {
     "data": {
      "text/plain": [
       "'This is a string'"
      ]
     },
     "execution_count": 14,
     "metadata": {},
     "output_type": "execute_result"
    }
   ],
   "source": [
    "'This is a string'"
   ]
  },
  {
   "cell_type": "code",
   "execution_count": 15,
   "metadata": {},
   "outputs": [
    {
     "data": {
      "text/plain": [
       "\"It's another string\""
      ]
     },
     "execution_count": 15,
     "metadata": {},
     "output_type": "execute_result"
    }
   ],
   "source": [
    "\"It's another string\""
   ]
  },
  {
   "cell_type": "markdown",
   "metadata": {},
   "source": [
    "If you have a long piece of text on multiple lines, you can enclose it in three double quotes `\"\"\"` or three single quotes `'''` as a multiline string."
   ]
  },
  {
   "cell_type": "code",
   "execution_count": 16,
   "metadata": {},
   "outputs": [
    {
     "data": {
      "text/plain": [
       "\"Triple quotes (also with '''), allow strings to break over multiple lines.\\nAlternatively \\n is a newline character (\\t for tab, \\\\ is a single backslash)\""
      ]
     },
     "execution_count": 16,
     "metadata": {},
     "output_type": "execute_result"
    }
   ],
   "source": [
    "\"\"\"Triple quotes (also with '''), allow strings to break over multiple lines.\n",
    "Alternatively \\n is a newline character (\\t for tab, \\\\ is a single backslash)\"\"\""
   ]
  },
  {
   "cell_type": "markdown",
   "metadata": {},
   "source": [
    "Using double and single quotes to denote a string allows the developer to take into account the use of quotes in written language grammar. If a string uses a single quote, then you can use double quotes to wrap the string and vice versa."
   ]
  },
  {
   "cell_type": "markdown",
   "metadata": {},
   "source": [
    "### Converting Between Data Types\n",
    "![converting+between+data+types.png](./img/converting+between+data+types.png)\n",
    "Python provides us with built-in functions to convert from one data type to another. For example, `int()` converts any data type to an integer and `float()` converts and data type to a floating-point number. These functions are particularly useful with web development as anything coming from a frontend form, or a database will be a string. Therefore before doing any mathematical calculations, you will need to convert the string to a number of the appropriate type.\n",
    "\n",
    "Some of the more common type conversions are in the table below.\n",
    "\n",
    "|Function\t|What it converts\n",
    "|:-|:-|\n",
    "|int()\t|Converts to an integer\n",
    "|float()\t|Converts to a floating-point number\n",
    "|hex()\t|Converts a number to a hexadecimal string\n",
    "|oct()\t|Converts a number to a octal string\n",
    "|tuple()\t|Converts to a tuple\n",
    "|set()\t|Converts to a set\n",
    "|list()\t|Converts to a list\n",
    "|dict()\t|Converts a tuple into a dictionary\n",
    "|str()\t|Converts a number into a string"
   ]
  },
  {
   "cell_type": "markdown",
   "metadata": {},
   "source": [
    "## Operators"
   ]
  },
  {
   "cell_type": "markdown",
   "metadata": {},
   "source": [
    "### Basic Math With Arithmetic Operators\n",
    "You have already seen a few basic arithmetic operations used. Python has a similar syntax to JavaScript and other languages when it comes to arithmetic operations. In the image below, you can see the most commonly used arithmetic operators. We call these symbols operators, and on each side of the operator, we have operands. \n",
    "![arithmetic+operators.png](./img/arithmetic+operators.png)\n",
    "Operators perform operations on operands. For example, `6 * 7`. Here we are using the multiplication operator `*` on the operands `6` and `7`. \n",
    "\n",
    "You can also use the multiplication operator to repeat a string multiple times where one operand is the string, and the other is a number."
   ]
  },
  {
   "cell_type": "code",
   "execution_count": 17,
   "metadata": {},
   "outputs": [
    {
     "data": {
      "text/plain": [
       "'Hello World! Hello World! Hello World! Hello World! Hello World! '"
      ]
     },
     "execution_count": 17,
     "metadata": {},
     "output_type": "execute_result"
    }
   ],
   "source": [
    "\"Hello World! \" * 5"
   ]
  },
  {
   "cell_type": "markdown",
   "metadata": {},
   "source": [
    "The addition operator can be used to add (or join) strings together. This process is known as concatenation."
   ]
  },
  {
   "cell_type": "code",
   "execution_count": 18,
   "metadata": {},
   "outputs": [
    {
     "data": {
      "text/plain": [
       "'HelloWorld'"
      ]
     },
     "execution_count": 18,
     "metadata": {},
     "output_type": "execute_result"
    }
   ],
   "source": [
    "\"Hello\" + \"World\""
   ]
  },
  {
   "cell_type": "markdown",
   "metadata": {},
   "source": [
    "| Symbol | Task Performed |\n",
    "|----|---|\n",
    "| +  | Addition |\n",
    "| -  | Subtraction |\n",
    "| /  | Division |\n",
    "| //  | Integer division |\n",
    "| %  | Modulus (remainder) |\n",
    "| *  | Multiplication |\n",
    "| **  | Exponentiation (power) |\n",
    "\n",
    "As expected these operations generally promote to the most general type of any of the numbers involved i.e. `int` -> `float` -> `complex`."
   ]
  },
  {
   "cell_type": "code",
   "execution_count": 19,
   "metadata": {},
   "outputs": [
    {
     "data": {
      "text/plain": [
       "3.0"
      ]
     },
     "execution_count": 19,
     "metadata": {},
     "output_type": "execute_result"
    }
   ],
   "source": [
    "1+2.0"
   ]
  },
  {
   "cell_type": "code",
   "execution_count": 20,
   "metadata": {},
   "outputs": [
    {
     "data": {
      "text/plain": [
       "2"
      ]
     },
     "execution_count": 20,
     "metadata": {},
     "output_type": "execute_result"
    }
   ],
   "source": [
    "3-1"
   ]
  },
  {
   "cell_type": "code",
   "execution_count": 21,
   "metadata": {},
   "outputs": [
    {
     "data": {
      "text/plain": [
       "(6+0j)"
      ]
     },
     "execution_count": 21,
     "metadata": {},
     "output_type": "execute_result"
    }
   ],
   "source": [
    "2 * (3+0j) * 1.0"
   ]
  },
  {
   "cell_type": "markdown",
   "metadata": {},
   "source": [
    "#### Division `/`\n",
    "An important thing to note is that when we use the division operator, the result is always a float. Even if the division returns a whole number, it will be returned as a float."
   ]
  },
  {
   "cell_type": "code",
   "execution_count": 22,
   "metadata": {},
   "outputs": [
    {
     "data": {
      "text/plain": [
       "[0.75, 2.0]"
      ]
     },
     "execution_count": 22,
     "metadata": {},
     "output_type": "execute_result"
    }
   ],
   "source": [
    "[3/4, 4/2]"
   ]
  },
  {
   "cell_type": "markdown",
   "metadata": {},
   "source": [
    "#### Exponent `**`\n",
    "**Exponent** means *to the power of*. `6 ** 7` would be `6` to the power of `7`, which is the same as writing `6 * 6 * 6 * 6 * 6 * 6 * 6`. Similarly, `2 ** 3` would result in `8` as `2` multiplied by `2` is `4`, and `4` multiplied again by `2` is `8`."
   ]
  },
  {
   "cell_type": "markdown",
   "metadata": {},
   "source": [
    "Python natively allows (nearly) infinite length integers,"
   ]
  },
  {
   "cell_type": "code",
   "execution_count": 23,
   "metadata": {},
   "outputs": [
    {
     "data": {
      "text/plain": [
       "2617010996188399907017032528972038342491649416953000260240805955827972056685382434497090341496787032585738884786745286700473999847280664191731008874811751310888591786111994678208920175143911761181424495660877950654145066969036252669735483098936884016471326487403792787648506879212630637101259246005701084327338001"
      ]
     },
     "execution_count": 23,
     "metadata": {},
     "output_type": "execute_result"
    }
   ],
   "source": [
    "11**300"
   ]
  },
  {
   "cell_type": "markdown",
   "metadata": {},
   "source": [
    "while floating point numbers are double precision numbers (hence the `OverflowError`):\n",
    "```Python\n",
    "11.0**300\n",
    "\n",
    "---------------------------------------------------------------------------\n",
    "OverflowError                             Traceback (most recent call last)\n",
    "<ipython-input-17-b61ab01789ad> in <module>\n",
    "----> 1 11.0**300\n",
    "\n",
    "OverflowError: (34, 'Result too large')\n",
    "```"
   ]
  },
  {
   "cell_type": "markdown",
   "metadata": {},
   "source": [
    "#### Modulo `%`\n",
    "The modulo operator divides the first number by the second and returns the remainder. If we have `5 / 5`, the answer will be `1`, but if we were to use `5 % 5` then the answer would be `0` Similarly, if we had `18 % 7`, the answer would be `4` because `7` goes into `18` twice `(7 + 7 = 14)` with a remainder of `4`:  `(18 – 14 = 4)`\n",
    "\n",
    "A common use for the modulo operator is when we need to find out if numbers are odd or even. An even number is always divisible by `2` so `% 2` will always return `0` for even and `1` for odd. The modulo is also used when working with time if we wanted to convert minutes into hours and minutes. For example, we know that there are `60` minutes in an hour, so if we wanted to figure out how many minutes are leftover once we convert `10900` minutes into hours, we would use `10900 % 60`. The modulo returns an integer.\n",
    "\n",
    "[What is the result of % in Python?](https://stackoverflow.com/questions/4432208/what-is-the-result-of-in-python)"
   ]
  },
  {
   "cell_type": "code",
   "execution_count": 24,
   "metadata": {},
   "outputs": [
    {
     "data": {
      "text/plain": [
       "5"
      ]
     },
     "execution_count": 24,
     "metadata": {},
     "output_type": "execute_result"
    }
   ],
   "source": [
    "15%10"
   ]
  },
  {
   "cell_type": "markdown",
   "metadata": {},
   "source": [
    "#### Floor Division `//`\n",
    "In many languages (and older versions of python) `1/2 = 0` (truncated division). In Python 3 this behaviour is captured by a separate operator that rounds down: (ie `a // b` $=\\lfloor \\frac{a}{b}\\rfloor$)"
   ]
  },
  {
   "cell_type": "code",
   "execution_count": 25,
   "metadata": {},
   "outputs": [
    {
     "data": {
      "text/plain": [
       "0"
      ]
     },
     "execution_count": 25,
     "metadata": {},
     "output_type": "execute_result"
    }
   ],
   "source": [
    "1//2"
   ]
  },
  {
   "cell_type": "markdown",
   "metadata": {},
   "source": [
    "If we recall the division operator returns a `float`. What if we wanted to do some division that returns an integer instead? In that case, we would use the floor division operator. The floor division operator is // and it rounds the result down to the nearest whole number and returns it as an integer."
   ]
  },
  {
   "cell_type": "code",
   "execution_count": 26,
   "metadata": {},
   "outputs": [
    {
     "data": {
      "text/plain": [
       "2"
      ]
     },
     "execution_count": 26,
     "metadata": {},
     "output_type": "execute_result"
    }
   ],
   "source": [
    "8 // 3"
   ]
  },
  {
   "cell_type": "markdown",
   "metadata": {},
   "source": [
    "### Operator Precedence\n",
    "Remember to take into account operator precedence or the order of operations. These rules that govern which procedures to perform first in a given arithmetic expression have the acronym PEMDAS, which stands for parentheses, exponents, multiplication & division, addition & subtraction. You might also know this acronym as BIDMAS, BEDMAS or BODMAS, or by the common mnemonic Please Excuse My Dear Aunt Sally.\n",
    "\n",
    "Have a look at the following example and see if you can figure out why it gives an incorrect result. This code is expected to return a value of 2.5 for the mean of 2 and 3."
   ]
  },
  {
   "cell_type": "code",
   "execution_count": 27,
   "metadata": {},
   "outputs": [
    {
     "name": "stdout",
     "output_type": "stream",
     "text": [
      "The mean of x and y is 3.5\n"
     ]
    }
   ],
   "source": [
    "x = 2\n",
    "y = 3\n",
    "z = x + y / 2\n",
    "print(f'The mean of x and y is {z}')"
   ]
  },
  {
   "cell_type": "markdown",
   "metadata": {},
   "source": [
    "### Assignment operators\n",
    "Often when dealing with numbers in a program, you are less concerned with the historical values than with the current ones. An example would be a running total. Rather than doing arithmetic and then assigning the result to a new variable, it is often better to update the existing one. Updating can be done by combining arithmetic and assignment operators.\n",
    "![assignment+operators.png](./img/assignment+operators.png)\n",
    "\n",
    "The arithmetic operators can be combined with `=` assignment to modify a variable value. We can use these operators for some shorthand operations.\n",
    "\n",
    "The `+= `is used to increment a variable by adding a value and reassigning the result to the variable. The same syntax is used for subtraction, multiplication, division, exponent, modulo and floor division.\n",
    "\n",
    "For example:"
   ]
  },
  {
   "cell_type": "code",
   "execution_count": 28,
   "metadata": {},
   "outputs": [
    {
     "name": "stdout",
     "output_type": "stream",
     "text": [
      "x is 3\n",
      "x is 12\n",
      "x is 144\n"
     ]
    }
   ],
   "source": [
    "x = 1\n",
    "x += 2 # add 2 to x\n",
    "print(\"x is\",x)\n",
    "x <<= 2 # left shift by 2 (equivalent to x *= 4)\n",
    "print('x is',x)\n",
    "x **= 2 # x := x^2\n",
    "print('x is',x)"
   ]
  },
  {
   "cell_type": "markdown",
   "metadata": {},
   "source": [
    "### Comparing Values With Comparison Operators\n",
    "![comparison+operators.png](./img/comparison+operators.png)\n",
    "In coding, we often want to compare values. The most straightforward comparison is *equality*. In Python, as we have used `=` for assigning values `==` is used to check for equality. When comparing the values of objects, the type is not compared. For example, `2.0 == 2` is `True` even though one is an `int` and the other a `float` as the value is two. When referring to value, it is not just numeric values that are considered. A string value can be compared lexicographically using the numerical Unicode code points. A sequence such as a list or a tuple can be compared, but in this case, the type is important. `(1, 2)` is equal in value to `(1, 2)` but not to `[1, 2]`. When comparing value the output is `True` or `False`.\n",
    "\n",
    "| Symbol | Task Performed |\n",
    "|----| :--- |\n",
    "| == | True, if it is equal |\n",
    "| !=  | True, if not equal to |\n",
    "| < | less than |\n",
    "| > | greater than |\n",
    "| <=  | less than or equal to |\n",
    "| >=  | greater than or equal to |\n",
    "\n",
    "Note the difference between `==` (equality test) and `=` (assignment)\n",
    "\n",
    "As you can see from the image, you can check if something is not equal in value with the `!=` operator. There is no equivalent not greater than as of course that is covered by less than or equal to.\n",
    "\n",
    "If you compare the values of 2 ordered lists, then the first unequal element is the one that is compared.\n",
    "\n",
    "`[1,2,3] < [1,2,4]` compares as True and is the same comparison as `3 < 4`"
   ]
  },
  {
   "cell_type": "code",
   "execution_count": 29,
   "metadata": {},
   "outputs": [
    {
     "data": {
      "text/plain": [
       "True"
      ]
     },
     "execution_count": 29,
     "metadata": {},
     "output_type": "execute_result"
    }
   ],
   "source": [
    "z = 2\n",
    "z == 2"
   ]
  },
  {
   "cell_type": "code",
   "execution_count": 30,
   "metadata": {},
   "outputs": [
    {
     "data": {
      "text/plain": [
       "False"
      ]
     },
     "execution_count": 30,
     "metadata": {},
     "output_type": "execute_result"
    }
   ],
   "source": [
    "'a'<'A'"
   ]
  },
  {
   "cell_type": "code",
   "execution_count": 31,
   "metadata": {},
   "outputs": [
    {
     "data": {
      "text/plain": [
       "True"
      ]
     },
     "execution_count": 31,
     "metadata": {},
     "output_type": "execute_result"
    }
   ],
   "source": [
    "[1,2]<[1,2,3]"
   ]
  },
  {
   "cell_type": "markdown",
   "metadata": {},
   "source": [
    "Comparisons can also be chained in the mathematically obvious way. The following will work as expected in Python (but not in other languages like C/C++):"
   ]
  },
  {
   "cell_type": "code",
   "execution_count": 32,
   "metadata": {},
   "outputs": [
    {
     "data": {
      "text/plain": [
       "False"
      ]
     },
     "execution_count": 32,
     "metadata": {},
     "output_type": "execute_result"
    }
   ],
   "source": [
    "0.5 < z <= 1"
   ]
  },
  {
   "cell_type": "markdown",
   "metadata": {},
   "source": [
    "### Logical and Bitwise Operators\n",
    "If you want to combine multiple comparisons, then you need logical operators. This is useful when you have to meet more than one comparison in a program. Logical operators apply to the Boolean values of True and False.\n",
    "\n",
    "![logical+operators.png](./img/logical+operators.png)\n",
    "For the `and` operator, `True` is returned if all statements are `True`. For the `or` operator, `True` is returned if any statement is `True`. For the `not` operator, `True` is reversed to `False`.\n",
    "\n",
    "In the same way that arithmetic operators have precedence, so do logical operators. `not` will be evaluated first followed by `and` then `or`. "
   ]
  },
  {
   "cell_type": "markdown",
   "metadata": {},
   "source": [
    "|Operator|Meaning | \\| | Symbol | Task Performed |\n",
    "|----|--- | - |----|---|\n",
    "|`and`| Logical AND | \\| | &  | Bitwise AND |\n",
    "|`or` | Logical OR | \\| | $\\mid$  | Bitwise OR |\n",
    "|`not` | Not | \\| | ~  | Negate |\n",
    "| &nbsp;  |&nbsp;  |  \\| |  ^  | Exclusive OR |\n",
    "| &nbsp;|&nbsp; | \\| |  >>  | Right shift |\n",
    "| &nbsp;| &nbsp;| \\| |  <<  | Left shift |\n"
   ]
  },
  {
   "cell_type": "code",
   "execution_count": 33,
   "metadata": {},
   "outputs": [
    {
     "name": "stdout",
     "output_type": "stream",
     "text": [
      "a & b = 2 = 0b10\n",
      "a | b = 3 = 0b11\n",
      "a ^ b = 1 = 0b1\n",
      "b << a = 12 = 0b1100\n"
     ]
    }
   ],
   "source": [
    "a = 2 #binary: 10\n",
    "b = 3 #binary: 11\n",
    "print('a & b =',a & b,\"=\",bin(a&b))\n",
    "print('a | b =',a | b,\"=\",bin(a|b))\n",
    "print('a ^ b =',a ^ b,\"=\",bin(a^b))\n",
    "print('b << a =',b<<a,\"=\",bin(b<<a))"
   ]
  },
  {
   "cell_type": "code",
   "execution_count": 34,
   "metadata": {},
   "outputs": [
    {
     "name": "stdout",
     "output_type": "stream",
     "text": [
      "True == True\n"
     ]
    }
   ],
   "source": [
    "print( not (True and False), \"==\", not True or not False)"
   ]
  },
  {
   "cell_type": "markdown",
   "metadata": {},
   "source": [
    "### Identity Operators: Identity versus equality\n",
    "![is+is-not.png](./img/is+is-not.png)\n",
    "So far we have been checking if something is of equal value, type or `Boolean`. How do we check if something has a unique identity? For example, when we covered `None`, we learned that it is unique. There is only one `None` object in Python. Each object in Python does have a unique identifier. Not all equal values will have the same identifier."
   ]
  },
  {
   "cell_type": "markdown",
   "metadata": {},
   "source": [
    "Here we have created two variables and assigned the first to the second. If we check for value equality, then we will get `True` as we would expect."
   ]
  },
  {
   "cell_type": "code",
   "execution_count": 35,
   "metadata": {},
   "outputs": [
    {
     "data": {
      "text/plain": [
       "True"
      ]
     },
     "execution_count": 35,
     "metadata": {},
     "output_type": "execute_result"
    }
   ],
   "source": [
    "num = 1\n",
    "num_two = num\n",
    "num == num_two"
   ]
  },
  {
   "cell_type": "markdown",
   "metadata": {},
   "source": [
    "But are both variables the same object? We can check that by using the `id()` function. This will print out the unique identifier that in this case, will be the same for both variables. This identifier can be thought of as a locator to their place in the computer's memory."
   ]
  },
  {
   "cell_type": "code",
   "execution_count": 36,
   "metadata": {},
   "outputs": [
    {
     "data": {
      "text/plain": [
       "[140716920481568, 140716920481568]"
      ]
     },
     "execution_count": 36,
     "metadata": {},
     "output_type": "execute_result"
    }
   ],
   "source": [
    "[id(num), id(num_two)]"
   ]
  },
  {
   "cell_type": "markdown",
   "metadata": {},
   "source": [
    " To check for this identity, you can use the identity operator `is`"
   ]
  },
  {
   "cell_type": "code",
   "execution_count": 37,
   "metadata": {},
   "outputs": [
    {
     "data": {
      "text/plain": [
       "True"
      ]
     },
     "execution_count": 37,
     "metadata": {},
     "output_type": "execute_result"
    }
   ],
   "source": [
    "num is num_two"
   ]
  },
  {
   "cell_type": "markdown",
   "metadata": {},
   "source": [
    "In the following example, we check the equality of `1` and `True`. This resolves as `True` as a `Boolean` is represented as an integer `0` or `1` for `False` or `True`. However, if you check identity you will find it is `False`, as although the value is the same, the identifiers are not."
   ]
  },
  {
   "cell_type": "code",
   "execution_count": 38,
   "metadata": {},
   "outputs": [
    {
     "data": {
      "text/plain": [
       "[True, False]"
      ]
     },
     "execution_count": 38,
     "metadata": {},
     "output_type": "execute_result"
    }
   ],
   "source": [
    "num = 1\n",
    "bool = True\n",
    "[num == bool, num is bool]"
   ]
  },
  {
   "cell_type": "markdown",
   "metadata": {},
   "source": [
    "## Checking Containment with Containment Operators\n",
    "![containment.png](./img/containment.png)\n",
    "In coding, it is often useful to check whether a value exists within a sequence. The sequence can be a list or a range or a string. Just like in Javascript when you used the `includes` method, in Python, you can use the `in` keyword to do this. The `in` operator returns a `Boolean` value (`True` or `False`). The operator is a shorthand for calling an object’s `__contains__` method."
   ]
  },
  {
   "cell_type": "code",
   "execution_count": 39,
   "metadata": {},
   "outputs": [
    {
     "data": {
      "text/plain": [
       "True"
      ]
     },
     "execution_count": 39,
     "metadata": {},
     "output_type": "execute_result"
    }
   ],
   "source": [
    "'Program' in 'Programming'"
   ]
  },
  {
   "cell_type": "markdown",
   "metadata": {},
   "source": [
    "As with other operators, you can use the `not` keyword to check for absence."
   ]
  },
  {
   "cell_type": "code",
   "execution_count": 40,
   "metadata": {},
   "outputs": [
    {
     "data": {
      "text/plain": [
       "True"
      ]
     },
     "execution_count": 40,
     "metadata": {},
     "output_type": "execute_result"
    }
   ],
   "source": [
    "'sausage' not in ['spam', 'ham', 'egg']"
   ]
  },
  {
   "cell_type": "markdown",
   "metadata": {},
   "source": [
    "## Python Frameworks, Modules and Libraries\n",
    "![frameworks+modules+libraries.png](./img/frameworks+modules+libraries.png)\n",
    "The simplest way to use python is to type a single command or line of code into the python interactive shell. For example, if you type `1 + 1` into the shell and press return, then `2` will appear on the next line. This, of course, is useful to try out code but not if you want to create a programme. You can write your commands into a file in an editor and if you save it with a py suffix, then you can run all commands in the file using the python interpreter by typing\n",
    "```\n",
    "python3 myfirstprogram.py\n",
    "```\n",
    "if `myfirstprogram` is what you've named your file. This is considered as writing a script. If you take it one step further and write reusable python code, then you have written a module. A module is a set of lines of code that have been written for a purpose with the *don't repeat yourself (DRY)* philosophy in mind."
   ]
  },
  {
   "cell_type": "markdown",
   "metadata": {},
   "source": [
    "```Python\n",
    "def division(numerator, denominator):\n",
    "    result = numerator / denominator\n",
    "    return result\n",
    "```\n",
    "This is a very simple example of a function for carrying out division. If you saved this in a file named `divide.py` then you could consider it a **module**. In Python, you can import modules into other modules much like you did in JavaScript. Therefore if you had another module where a division was required you could import the `divide` module to prevent you having to repeat the code.\n",
    "```Python\n",
    "import divide\n",
    "\n",
    "divide.division(4, 2)\n",
    "```\n",
    "Here we can use the `division` function because we have imported the `divide` module. This is a handy shortcut. The file and the module have the same name, but you just drop the `.py` when referring to the module. If you have a collection of python modules in a single directory, you can refer to the directory as a **package**.\n",
    "\n",
    "In addition, Python is well known for its libraries. A **library** is code that has been written to be used in many applications with some common functionality. If for example, you created modules that covered all arithmetic functions, then you could have a collection of all those modules as packages and refer to it as a library. Python comes with many built-in libraries to cover the most common use cases. A library can be imported into any application where you need the functionality. It avoids you having to \"reinvent the wheel.\" As Python is open source, anyone can create a library if they have modules that answer a commonly found problem.\n",
    "\n",
    "A **framework** is a collection of packages or modules that allows a developer to write web applications. The framework deals with all the web protocols leaving you free to write the code specific to your web app. Most python frameworks are server-side technology. They provide support with activities such as receiving form parameters, dealing with cookies or handling session data. Frameworks that provide all the components to build a large web app are known as full-stack frameworks. They handle aspects such as authentication and databases. To use a Framework, you write code that conforms to the conventions of the framework and effectively delegate responsibility for the standard web app stuff allowing you to concentrate on your application logic. You plug your code **into the framework**. While code you use from a library does the opposite, it plugs into **your code**."
   ]
  },
  {
   "cell_type": "markdown",
   "metadata": {},
   "source": [
    "# Built-in Functions"
   ]
  },
  {
   "cell_type": "markdown",
   "metadata": {},
   "source": [
    "Python comes with a wide range of functions. However many of these are part of standard libraries like the `math` library rather than built-in."
   ]
  },
  {
   "cell_type": "markdown",
   "metadata": {},
   "source": [
    "## Converting values\n",
    "\n",
    "Conversion from hexadecimal to decimal is done by adding prefix **0x** to the hexadecimal value or vice versa by using built in `hex( )`, Octal to decimal by adding prefix **0** to the octal value or vice versa by using built in function `oct( )`."
   ]
  },
  {
   "cell_type": "code",
   "execution_count": 41,
   "metadata": {},
   "outputs": [
    {
     "data": {
      "text/plain": [
       "'0xab'"
      ]
     },
     "execution_count": 41,
     "metadata": {},
     "output_type": "execute_result"
    }
   ],
   "source": [
    "hex(171) # hexadecmial value as string"
   ]
  },
  {
   "cell_type": "code",
   "execution_count": 42,
   "metadata": {},
   "outputs": [
    {
     "data": {
      "text/plain": [
       "171"
      ]
     },
     "execution_count": 42,
     "metadata": {},
     "output_type": "execute_result"
    }
   ],
   "source": [
    "0xAB"
   ]
  },
  {
   "cell_type": "markdown",
   "metadata": {},
   "source": [
    "`int( )` converts a number to an integer. This can be a single floating point number, integer or a string. For strings the base can optionally be specified:"
   ]
  },
  {
   "cell_type": "code",
   "execution_count": 43,
   "metadata": {},
   "outputs": [
    {
     "name": "stdout",
     "output_type": "stream",
     "text": [
      "7 7 7\n"
     ]
    }
   ],
   "source": [
    "print(int(7.7), int('111',2),int('7'))"
   ]
  },
  {
   "cell_type": "markdown",
   "metadata": {},
   "source": [
    " Similarly, the function `str( )` can be used to convert almost anything to a string"
   ]
  },
  {
   "cell_type": "code",
   "execution_count": 44,
   "metadata": {},
   "outputs": [
    {
     "name": "stdout",
     "output_type": "stream",
     "text": [
      "True 1.2345678 -2\n"
     ]
    }
   ],
   "source": [
    "print(str(True),str(1.2345678),str(-2))"
   ]
  },
  {
   "cell_type": "markdown",
   "metadata": {},
   "source": [
    "## Mathematical functions\n",
    "Mathematical functions include the usual suspects like logarithms, trigonometric fuctions, the constant $\\pi$ and so on."
   ]
  },
  {
   "cell_type": "code",
   "execution_count": 45,
   "metadata": {},
   "outputs": [
    {
     "data": {
      "text/plain": [
       "1.0"
      ]
     },
     "execution_count": 45,
     "metadata": {},
     "output_type": "execute_result"
    }
   ],
   "source": [
    "import math\n",
    "math.sin(math.pi/2)\n",
    "from math import * # avoid having to put a math. in front of every mathematical function\n",
    "sin(pi/2) # equivalent to the statement above"
   ]
  },
  {
   "cell_type": "markdown",
   "metadata": {},
   "source": [
    "## Simplifying Arithmetic Operations"
   ]
  },
  {
   "cell_type": "markdown",
   "metadata": {},
   "source": [
    "`round( )` function rounds the input value to a specified number of places or to the nearest integer. "
   ]
  },
  {
   "cell_type": "code",
   "execution_count": 46,
   "metadata": {
    "scrolled": false
   },
   "outputs": [
    {
     "name": "stdout",
     "output_type": "stream",
     "text": [
      "6\n",
      "4.56\n"
     ]
    }
   ],
   "source": [
    "print( round(5.6231) )\n",
    "print( round(4.55892, 2) )"
   ]
  },
  {
   "cell_type": "markdown",
   "metadata": {},
   "source": [
    "`abs( )` provides the absolute value of any number (including the magnitude of a complex number)."
   ]
  },
  {
   "cell_type": "code",
   "execution_count": 47,
   "metadata": {},
   "outputs": [
    {
     "name": "stdout",
     "output_type": "stream",
     "text": [
      "|5+2i| = 5.385164807134504 \t |-5| = 5\n"
     ]
    }
   ],
   "source": [
    "c =complex('5+2j')\n",
    "print(\"|5+2i| =\", abs(c) , \"\\t |-5| =\", abs(-5) )"
   ]
  },
  {
   "cell_type": "markdown",
   "metadata": {},
   "source": [
    "`divmod(x,y)` outputs the quotient and the remainder in a tuple (you will be learning about tuples in the further chapters) in the format (quotient, remainder). "
   ]
  },
  {
   "cell_type": "code",
   "execution_count": 48,
   "metadata": {},
   "outputs": [
    {
     "data": {
      "text/plain": [
       "(4, 1)"
      ]
     },
     "execution_count": 48,
     "metadata": {},
     "output_type": "execute_result"
    }
   ],
   "source": [
    "divmod(9,2)"
   ]
  },
  {
   "cell_type": "markdown",
   "metadata": {},
   "source": [
    "## Accepting User Inputs"
   ]
  },
  {
   "cell_type": "markdown",
   "metadata": {},
   "source": [
    "`input(prompt)`,  prompts for and returns input as a string. A useful function to use in conjunction with this is `eval()` which takes a string and evaluates it as a python expression.\n",
    "\n",
    "*Note:* In notebooks it is often easier just to modify the code than to prompt for input."
   ]
  },
  {
   "cell_type": "code",
   "execution_count": 49,
   "metadata": {},
   "outputs": [
    {
     "name": "stdout",
     "output_type": "stream",
     "text": [
      "abc = 42\n",
      "42 = 42\n"
     ]
    }
   ],
   "source": [
    "abc =  input(\"abc = \")\n",
    "abcValue=eval(abc)\n",
    "print(abc,'=',abcValue)"
   ]
  },
  {
   "cell_type": "markdown",
   "metadata": {},
   "source": [
    "# 02 String manipulation\n",
    "## Working with strings\n",
    "\n",
    "Recall from the previous section that strings can be entered with single, double or triple quotes:\n",
    "\n",
    "```python\n",
    "  'All', \"of\", '''these''', \"\"\"are\n",
    "  valid strings\"\"\"\n",
    "```\n",
    "\n",
    "**Unicode:** Python supports unicode strings - however for the most part this will be ignored in here. If you are workign in an editor that supports unicode you can use non-ASCII characters in strings (or even for variable names). Alternatively typing something like `\"\\u00B3\"` will give you the string \"³\" (superscript-3).  \n",
    "\n",
    "## The Print Statement"
   ]
  },
  {
   "cell_type": "markdown",
   "metadata": {},
   "source": [
    "As seen previously, The `print()` function prints all of its arguments as strings, separated by spaces and follows by a linebreak:\n",
    "\n",
    "    - print(\"Hello World\")\n",
    "    - print(\"Hello\",'World')\n",
    "    - print(\"Hello\", <Variable>)\n",
    "\n",
    "Note that `print` is different in old versions of Python (2.7) where it was a statement and did not need parentheses around its arguments."
   ]
  },
  {
   "cell_type": "code",
   "execution_count": 50,
   "metadata": {},
   "outputs": [
    {
     "name": "stdout",
     "output_type": "stream",
     "text": [
      "Hello World\n"
     ]
    }
   ],
   "source": [
    "print(\"Hello\",\"World\")"
   ]
  },
  {
   "cell_type": "markdown",
   "metadata": {},
   "source": [
    "The print has some optional arguments to control where and how to print. This includes `sep` the separator (default space) and `end` (end charcter) and `file` to write to a file. When writing to a file, setting the argument `flush=True` may be useful to force the function to write the output immediately. Without this Python may buffer the output which helps to improve the speed for repeated calls to print(), but isn't helpful if you are, for example, wanting to see the output immediately during debugging)"
   ]
  },
  {
   "cell_type": "code",
   "execution_count": 51,
   "metadata": {},
   "outputs": [
    {
     "name": "stdout",
     "output_type": "stream",
     "text": [
      "Hello...World!!"
     ]
    }
   ],
   "source": [
    "print(\"Hello\",\"World\",sep='...',end='!!',flush=True)"
   ]
  },
  {
   "cell_type": "markdown",
   "metadata": {},
   "source": [
    "## String Formating\n",
    "\n",
    "There are lots of methods for formating and manipulating strings built into python. Some of these are illustrated here.\n",
    "\n",
    "String concatenation is the \"addition\" of two strings. Observe that while concatenating there will be no space between the strings."
   ]
  },
  {
   "cell_type": "code",
   "execution_count": 52,
   "metadata": {},
   "outputs": [
    {
     "name": "stdout",
     "output_type": "stream",
     "text": [
      "Hello World!\n"
     ]
    }
   ],
   "source": [
    "string1='World'\n",
    "string2='!'\n",
    "print('Hello' + \" \" + string1 + string2)"
   ]
  },
  {
   "cell_type": "markdown",
   "metadata": {},
   "source": [
    "The `%` operator is used to format a string inserting the value that comes after. It relies on the string containing a format specifier that identifies where to insert the value. The most common types of format specifiers are:\n",
    "\n",
    "    - %s -> string\n",
    "    - %d -> Integer\n",
    "    - %f -> Float\n",
    "    - %o -> Octal\n",
    "    - %x -> Hexadecimal\n",
    "    - %e -> exponential\n",
    "    \n",
    "These will be very familiar to anyone who has ever written a C or Java program and follow nearly exactly the same rules as the [`printf()`](https://en.wikipedia.org/wiki/Printf_format_string) function."
   ]
  },
  {
   "cell_type": "code",
   "execution_count": 53,
   "metadata": {},
   "outputs": [
    {
     "name": "stdout",
     "output_type": "stream",
     "text": [
      "Hello World\n",
      "Actual Number = 18\n",
      "Float of the number = 18.000000\n",
      "Octal equivalent of the number = 22\n",
      "Hexadecimal equivalent of the number = 12\n",
      "Exponential equivalent of the number = 1.800000e+01\n"
     ]
    }
   ],
   "source": [
    "print(\"Hello %s\" % string1)\n",
    "print(\"Actual Number = %d\" %18)\n",
    "print(\"Float of the number = %f\" %18)\n",
    "print(\"Octal equivalent of the number = %o\" %18)\n",
    "print(\"Hexadecimal equivalent of the number = %x\" %18)\n",
    "print(\"Exponential equivalent of the number = %e\" %18)"
   ]
  },
  {
   "cell_type": "markdown",
   "metadata": {},
   "source": [
    "When referring to multiple variables parentheses is used. Values are inserted in the order they appear in the parantheses (more on tuples in the next section)"
   ]
  },
  {
   "cell_type": "code",
   "execution_count": 54,
   "metadata": {},
   "outputs": [
    {
     "name": "stdout",
     "output_type": "stream",
     "text": [
      "Hello World !. This meaning of life is 42\n"
     ]
    }
   ],
   "source": [
    "print(\"Hello %s %s. This meaning of life is %d\" %(string1,string2,42))"
   ]
  },
  {
   "cell_type": "markdown",
   "metadata": {},
   "source": [
    "We can also specify the width of the field and the number of decimal places to be used. For example:"
   ]
  },
  {
   "cell_type": "code",
   "execution_count": 55,
   "metadata": {},
   "outputs": [
    {
     "name": "stdout",
     "output_type": "stream",
     "text": [
      "Print width 10: |         x|\n",
      "Print width 10: |x         |\n",
      "The number pi = 3.14 to 2 decimal places\n",
      "More space pi =       3.14\n",
      "Pad pi with 0 = 0000003.14\n"
     ]
    }
   ],
   "source": [
    "print('Print width 10: |%10s|'%'x')\n",
    "print('Print width 10: |%-10s|'%'x') # left justified\n",
    "print(\"The number pi = %.2f to 2 decimal places\"%3.1415)\n",
    "print(\"More space pi = %10.2f\"%3.1415)\n",
    "print(\"Pad pi with 0 = %010.2f\"%3.1415) # pad with zeros"
   ]
  },
  {
   "cell_type": "markdown",
   "metadata": {},
   "source": [
    "### The f-string\n",
    "![f-string.png](./img/f-string.png)\n",
    "The more advanced form of doing string formatting is by using what are called; f-strings.\n",
    "\n",
    "When formatting with f-strings, you would do the following:\n",
    "```Python\n",
    "f\"{variable}\"\n",
    "```\n",
    "It is also valid to use the capital letter `F`. The only consideration required to use f-strings is your version of python, which needs to be version 3.6 or above.\n",
    "\n",
    "In the previous lesson, string concatenation was done with the `+` symbol. Doing concatenation of strings and numbers you had to type convert the number to a string using the `str()` method in order to output it in a string. In the example below, you will see that when using the f-string formatting methods, you do not need to convert the number to a string as python converts it for you."
   ]
  },
  {
   "cell_type": "code",
   "execution_count": 56,
   "metadata": {},
   "outputs": [
    {
     "name": "stdout",
     "output_type": "stream",
     "text": [
      "Hello Peppa Pig, you are 42 years old\n"
     ]
    }
   ],
   "source": [
    "name = \"Peppa Pig\"\n",
    "age = 42\n",
    "# The Modern way of formatting a string\n",
    "print(f\"Hello {name}, you are {age} years old\")"
   ]
  },
  {
   "cell_type": "markdown",
   "metadata": {},
   "source": [
    "## String Methods\n",
    "String methods are built-in to Python, allowing you to work on strings. String methods return a new value. They do not change the original string.\n",
    "\n",
    "As you can see, there are many string methods, some more niche than others.\n",
    "\n",
    "|Method\t|Description\n",
    "|:-|:-|\n",
    "|`capitalize()`\t|Capitalizes the first character of the string\n",
    "|`center()`\t|Centers string\n",
    "|`count()`\t|Returns a count of times a specified value occurs in the string\n",
    "|`encode()`\t|Returns an encoded version of the string (use decode() to decode)\n",
    "|`endswith()`\t|Returns True if the string ends with a specified suffix\n",
    "|`expandtabs()`\t|Sets the tab size in spaces of the string\n",
    "|`find()`\t|Returns the lowest index position of where a specified character was found\n",
    "|`index()`\t|Searches for a specified value and returns the position of where it was found or an error if not found\n",
    "|`isalnum()`\t|Returns True if all characters are alphanumeric\n",
    "|`isalpha()`\t|Returns True if all characters are alphabetic\n",
    "|`isdigit()`\t|Returns True if all characters are digits\n",
    "|`islower()`\t|Returns True if all characters are lower case\n",
    "|`isspace()`\t|Returns True if all characters are whitespace\n",
    "|`istitle()`\t|Returns True if the string is titlecased\n",
    "|`isupper()`\t|Returns True if all characters in the string are upper case\n",
    "|`join()`\t|concatenates string\n",
    "|`ljust()`\t|Returns a left justified version of the string\n",
    "|`lower()`\t|Converts a string into lower case\n",
    "|`lstrip()`\t|Returns a left trim version of the string\n",
    "|`partition()`\t|Returns a tuple where the string is parted into two strings and the separator\n",
    "|`replace()`\t|Returns a string where a old value is replaced with a new value\n",
    "|`rfind()`\t|Searches highest index in the string for a specified value\n",
    "|`rindex()`\t|Same but with error if nothing found\n",
    "|`rjust()`\t|Returns a right justified version of the string\n",
    "|`rpartition()`\t|Returns a tuple where the string is parted into three parts\n",
    "|`rsplit()`\t|Splits the string at the specified separator, and returns a list\n",
    "|`rstrip()`\t|Returns a right trim version of the string\n",
    "|`split()`\t|Splits the string at the specified separator, and returns a list\n",
    "|`splitlines()`\t|Splits the string at line breaks and returns a list\n",
    "|`startswith()`\t|Returns true if the string starts with the specified value\n",
    "|`strip()`\t|Returns a trimmed version of the string\n",
    "|`swapcase()`\t|Swaps cases, lower case becomes upper case and vice versa\n",
    "|`title()`\t|Converts the first character of each word to upper case\n",
    "|`translate()`\t|Returns a translated string\n",
    "|`upper()`\t|Converts a string into uppercase\n",
    "|`zfill()`\t|Fills the string with a specified number of 0 values at the beginning"
   ]
  },
  {
   "cell_type": "markdown",
   "metadata": {},
   "source": [
    "#### Formatting\n",
    "Strings can be transformed by a variety of functions that are all methods on a string. That is they are called by putting the function name with a `.` after the string. They include:\n",
    "\n",
    "* Upper vs lower case: `upper()`, `lower()`, `captialize()`, `title()` and `swapcase()` with mostly the obvious meaning. Note that `capitalize` makes the first letter of the string a capital only, while `title` selects upper case for the first letter of every word.\n",
    "* Padding strings: `center(n)`, `ljust(n)` and `rjust(n)` each place the string into a longer string of length n  padded by spaces (centered, left-justified or right-justified respectively). `zfill(n)` works similarly but pads with leading zeros.\n",
    "* Stripping strings: Often we want to remove spaces, this is achived with the functions `strip()`, `lstrip()`, and `rstrip()` respectively to remove from spaces from the both end, just left or just the right respectively. An optional argument can be used to list a set of other characters to be removed."
   ]
  },
  {
   "cell_type": "code",
   "execution_count": 57,
   "metadata": {},
   "outputs": [
    {
     "name": "stdout",
     "output_type": "stream",
     "text": [
      "Hello world! vs Hello World!\n",
      "upper: 'HELLO WORLD!' lower: 'hello world!' and swapped: 'HEllO WorlD!'\n",
      "|         Hello World          |\n",
      "|lots of space|\n",
      "%s without leading/trailing d,h,L or ! = |%s| eLLo wOR\n",
      "Hello Class\n"
     ]
    }
   ],
   "source": [
    "s=\"heLLo wORLd!\"\n",
    "print(s.capitalize(),\"vs\",s.title())\n",
    "print(\"upper: '%s'\"%s.upper(),\"lower: '%s'\"%s.lower(),\"and swapped: '%s'\"%s.swapcase())\n",
    "print('|%s|' % \"Hello World\".center(30)) # center in 30 characters\n",
    "print('|%s|'% \"     lots of space             \".strip()) # remove leading and trailing whitespace\n",
    "print('%s without leading/trailing d,h,L or ! = |%s|',s.strip(\"dhL!\"))\n",
    "print(\"Hello World\".replace(\"World\",\"Class\"))"
   ]
  },
  {
   "cell_type": "markdown",
   "metadata": {},
   "source": [
    "#### Inspecting Strings\n",
    "There are also lost of ways to inspect or check strings. Examples of a few of these are given here:\n",
    "\n",
    "* Checking the start or end of a string: `startswith(\"string\")` and `endswith(\"string\")` checks if it starts/ends with the string given as argument\n",
    "* Capitalisation: There are boolean counterparts for all forms of capitalisation, such as `isupper()`, `islower()` and `istitle()`\n",
    "* Character type: does the string only contain the characters\n",
    "  * 0-9: `isdecimal()`. Note there is also `isnumeric()` and `isdigit()` which are effectively the same function except for certain unicode characters\n",
    "  * a-zA-Z: `isalpha()` or combined with digits: `isalnum()`\n",
    "  * non-control code: `isprintable()` accepts anything except '\\n' an other ASCII control codes\n",
    "  * \\t\\n \\r (white space characters): `isspace()`\n",
    "  * Suitable as variable name: `isidentifier()`\n",
    "* Find elements of string: `s.count(w)` finds the number of times w occurs in s, while `s.find(w)` and `s.rfind(w)` find the first and last position of the string w in s.\n"
   ]
  },
  {
   "cell_type": "code",
   "execution_count": 58,
   "metadata": {},
   "outputs": [
    {
     "name": "stdout",
     "output_type": "stream",
     "text": [
      "The length of 'Hello World' is 11 characters\n",
      "There are 3 'l's but only 1 World in Hello World\n",
      "\"el\" is at index 1 in Hello World\n"
     ]
    }
   ],
   "source": [
    "s=\"Hello World\"\n",
    "print(\"The length of '%s' is\"%s,len(s),\"characters\") # len() gives length\n",
    "s.startswith(\"Hello\") and s.endswith(\"World\") # check start/end\n",
    "# count strings\n",
    "print(\"There are %d 'l's but only %d World in %s\" % (s.count('l'),s.count('World'),s))\n",
    "print('\"el\" is at index',s.find('el'),\"in\",s) #index from 0 or -1"
   ]
  },
  {
   "cell_type": "markdown",
   "metadata": {},
   "source": [
    "## String comparison operations\n",
    "Strings can be compared in lexicographical order with the usual comparisons. In addition the `in` operator checks for substrings:"
   ]
  },
  {
   "cell_type": "code",
   "execution_count": 59,
   "metadata": {},
   "outputs": [
    {
     "data": {
      "text/plain": [
       "True"
      ]
     },
     "execution_count": 59,
     "metadata": {},
     "output_type": "execute_result"
    }
   ],
   "source": [
    "'abc' < 'bbc' <= 'bbc'"
   ]
  },
  {
   "cell_type": "code",
   "execution_count": 60,
   "metadata": {},
   "outputs": [
    {
     "data": {
      "text/plain": [
       "True"
      ]
     },
     "execution_count": 60,
     "metadata": {},
     "output_type": "execute_result"
    }
   ],
   "source": [
    "\"ABC\" in \"This is the ABC of Python\""
   ]
  },
  {
   "cell_type": "markdown",
   "metadata": {},
   "source": [
    "## Accessing parts of strings"
   ]
  },
  {
   "cell_type": "markdown",
   "metadata": {},
   "source": [
    "Strings can be indexed with square brackets. Indexing starts from zero in Python. And the `len()` function provides the length of a string"
   ]
  },
  {
   "cell_type": "code",
   "execution_count": 61,
   "metadata": {},
   "outputs": [
    {
     "name": "stdout",
     "output_type": "stream",
     "text": [
      "The string '123456789' string is 9 characters long\n",
      "First character of 123456789 is 1\n",
      "Last character of 123456789 is 9\n"
     ]
    }
   ],
   "source": [
    "s = '123456789'\n",
    "print(\"The string '%s' string is %d characters long\" % (s, len(s)) )\n",
    "print('First character of',s,'is',s[0])\n",
    "print('Last character of',s,'is',s[len(s)-1])"
   ]
  },
  {
   "cell_type": "markdown",
   "metadata": {},
   "source": [
    "Negative indices can be used to start counting from the back"
   ]
  },
  {
   "cell_type": "code",
   "execution_count": 62,
   "metadata": {},
   "outputs": [
    {
     "name": "stdout",
     "output_type": "stream",
     "text": [
      "First character of 123456789 is 1\n",
      "Last character of 123456789 is 9\n"
     ]
    }
   ],
   "source": [
    "print('First character of',s,'is',s[-len(s)])\n",
    "print('Last character of',s,'is',s[-1])"
   ]
  },
  {
   "cell_type": "markdown",
   "metadata": {},
   "source": [
    "Finally a substring (range of characters) an be specified as using $a:b$ to specify the characters at index $a,a+1,\\ldots,b-1$. Note that the last charcter is *not* included."
   ]
  },
  {
   "cell_type": "code",
   "execution_count": 63,
   "metadata": {},
   "outputs": [
    {
     "name": "stdout",
     "output_type": "stream",
     "text": [
      "First three characters 123\n",
      "Next three characters 456\n"
     ]
    }
   ],
   "source": [
    "print(\"First three characters\",s[0:3])\n",
    "print(\"Next three characters\",s[3:6])"
   ]
  },
  {
   "cell_type": "markdown",
   "metadata": {},
   "source": [
    "An empty beginning and end of the range denotes the beginning/end of the string:"
   ]
  },
  {
   "cell_type": "code",
   "execution_count": 64,
   "metadata": {},
   "outputs": [
    {
     "name": "stdout",
     "output_type": "stream",
     "text": [
      "First three characters 123\n",
      "Last three characters 789\n"
     ]
    }
   ],
   "source": [
    "print(\"First three characters\", s[:3])\n",
    "print(\"Last three characters\", s[-3:])"
   ]
  },
  {
   "cell_type": "markdown",
   "metadata": {},
   "source": [
    "#### Breaking apart strings\n",
    "When processing text, the ability to split strings appart is particularly useful. \n",
    "\n",
    "* `partition(separator)`: breaks a string into three parts based on a separator\n",
    "* `split()`: breaks string into words separated by white-space (optionally takes a separator as argument)\n",
    "* `join()`: joins the result of a split using string as separator"
   ]
  },
  {
   "cell_type": "code",
   "execution_count": 65,
   "metadata": {},
   "outputs": [
    {
     "name": "stdout",
     "output_type": "stream",
     "text": [
      "('one ', '->', ' two  ->  three')\n",
      "['one', '->', 'two', '->', 'three']\n",
      "['one', 'two ', ' three']\n",
      "one;two ; three\n"
     ]
    }
   ],
   "source": [
    "s = \"one -> two  ->  three\"\n",
    "print( s.partition(\"->\") )\n",
    "print( s.split() )\n",
    "print( s.split(\" -> \") )\n",
    "print( \";\".join( s.split(\" -> \") ) )"
   ]
  },
  {
   "cell_type": "markdown",
   "metadata": {},
   "source": [
    "## Strings are immutable\n",
    "\n",
    "It is important that strings are constant, immutable values in Python. While new strings can easily be created it is not possible to modify a string:"
   ]
  },
  {
   "cell_type": "code",
   "execution_count": 66,
   "metadata": {},
   "outputs": [
    {
     "name": "stdout",
     "output_type": "stream",
     "text": [
      "creating new string 01X345 OK\n",
      "01X345 still OK\n"
     ]
    }
   ],
   "source": [
    "s='012345'\n",
    "sX=s[:2]+'X'+s[3:] # this creates a new string with 2 replaced by X\n",
    "print(\"creating new string\",sX,\"OK\")\n",
    "sX=s.replace('2','X') # the same thing\n",
    "print(sX,\"still OK\")"
   ]
  },
  {
   "cell_type": "markdown",
   "metadata": {},
   "source": [
    "```Python\n",
    "s[2] = 'X' # an error!!!\n",
    "\n",
    "---------------------------------------------------------------------------\n",
    "TypeError                                 Traceback (most recent call last)\n",
    "<ipython-input-66-93bf77b20e7d> in <module>\n",
    "      4 sX=s.replace('2','X') # the same thing\n",
    "      5 print(sX,\"still OK\")\n",
    "----> 6 s[2] = 'X' # an error!!!\n",
    "\n",
    "TypeError: 'str' object does not support item assignment\n",
    "```"
   ]
  },
  {
   "cell_type": "markdown",
   "metadata": {
    "collapsed": true
   },
   "source": [
    "## Advanced string processing\n",
    "For more advanced string processing there are many libraries available in Python including for example:\n",
    "* **re** for regular expression based searching and splitting of strings\n",
    "* **html** for manipulating HTML format text\n",
    "* **textwrap** for reformatting ASCII text\n",
    "* ... and many more"
   ]
  },
  {
   "cell_type": "markdown",
   "metadata": {},
   "source": [
    "# 03 Control Flow Statements: Conditionals\n",
    "The key thing to note about Python's control flow statements and program structure is that it uses _indentation_ to mark blocks. Hence the amount of white space (space or tab characters) at the start of a line is very important. This generally helps to make code more readable but can catch out new users of python."
   ]
  },
  {
   "cell_type": "markdown",
   "metadata": {},
   "source": [
    "## Conditionals\n",
    "![if+else.png](./img/if+else.png)\n",
    "`if` statements in Python work in the same way as in JavaScript. There are, of course, some key differences in syntax.\n",
    "\n",
    "In Python, the condition to be evaluated is terminated with a colon and a new line. The conditional code to be run if `True` is indented by four spaces as opposed to the curly braces used in JavaScript.\n",
    "\n",
    "### `if`\n",
    "```python\n",
    "if some_condition:\n",
    "    code_block\n",
    "```\n",
    "Only execute the code if `some condition` is satisfied (`True`)"
   ]
  },
  {
   "cell_type": "code",
   "execution_count": 67,
   "metadata": {},
   "outputs": [
    {
     "name": "stdout",
     "output_type": "stream",
     "text": [
      "Hello\n"
     ]
    }
   ],
   "source": [
    "x = 12\n",
    "if x > 10:\n",
    "    print(\"Hello\")"
   ]
  },
  {
   "cell_type": "markdown",
   "metadata": {},
   "source": [
    "### `if`-`else`\n",
    "```Python\n",
    "if some_condition:\n",
    "    first_codeblock\n",
    "else:\n",
    "    second_codeblock\n",
    "```\n",
    "As above but if the condition is `False`, then execute the `second_codeblock`"
   ]
  },
  {
   "cell_type": "code",
   "execution_count": 68,
   "metadata": {},
   "outputs": [
    {
     "name": "stdout",
     "output_type": "stream",
     "text": [
      "world\n"
     ]
    }
   ],
   "source": [
    "x = 12\n",
    "if 10 < x < 11:\n",
    "    print(\"hello\")\n",
    "else:\n",
    "    print(\"world\")"
   ]
  },
  {
   "cell_type": "markdown",
   "metadata": {},
   "source": [
    "### `if`-`elif`-`else`\n",
    "![if+elif+else.png](./img/if+elif+else.png)\n",
    "```python\n",
    "if some_condition:  \n",
    "    algorithm\n",
    "elif some_condition:\n",
    "    algorithm\n",
    "else:\n",
    "    algorithm\n",
    "```\n",
    "    \n",
    "Any number of conditions can be chained to find which part we want to execute."
   ]
  },
  {
   "cell_type": "code",
   "execution_count": 69,
   "metadata": {},
   "outputs": [
    {
     "name": "stdout",
     "output_type": "stream",
     "text": [
      "x<y\n"
     ]
    }
   ],
   "source": [
    "x = 10\n",
    "y = 12\n",
    "if x > y:\n",
    "    print(\"x>y\")\n",
    "elif x < y:\n",
    "    print(\"x<y\")\n",
    "else:\n",
    "    print(\"x=y\")"
   ]
  },
  {
   "cell_type": "markdown",
   "metadata": {},
   "source": [
    "### Nested `if`-`else` statements\n",
    "`if` statement inside of an `if` statement or `if`-`elif` or `if`-`else` are called **nested `if` statements**.\n",
    "\n",
    "We can write an `if`-`elif`-`else` statement inside another `if`-`elif`-`else` statement which is called nesting conditions. Python relies on indentation to define scope so if you want to create a code block, then four-space indentation is used to determine the nesting.\n",
    "![nested+if+indentation.png](./img/nested+if+indentation.png)"
   ]
  },
  {
   "cell_type": "code",
   "execution_count": 70,
   "metadata": {},
   "outputs": [
    {
     "name": "stdout",
     "output_type": "stream",
     "text": [
      "Critical systems must be safely shut down before exiting the program\n"
     ]
    }
   ],
   "source": [
    "exit_program = True\n",
    "manual_override = False\n",
    "critical_systems_shutdown = False\n",
    "\n",
    "if not exit_program and not critical_systems_shutdown:\n",
    "    if manual_override:\n",
    "        print(\"Shutting system down manually\")\n",
    "    else:\n",
    "        print(\"This program will not exit just yet\")\n",
    "elif exit_program and critical_systems_shutdown is not True:\n",
    "    print(\"Critical systems must be safely shut down before exiting the program\")\n",
    "else:\n",
    "    print(\"This program will now be terminated...\")"
   ]
  },
  {
   "cell_type": "markdown",
   "metadata": {},
   "source": [
    "In the `if` statement, we have two conditions. We are checking to see if both `exit_program` and `critical_systems_shutdown` are `False`. If both are `False`, then inside our `if` block we write another check to see if `manual_override` is `True`. If `manual_override` is `True`, then we print out `Shutting system down manually`. else we print out `This program will not exit just yet`. Else if `exit_program` is `True`, but `critical_systems_shutdown` is `False`, then we print out `Critical systems must be safely shut down before exiting the program`. Else, if both `exit_program` and `critical_systems_shutdown` are `True`, then we exit the program by printing `This program will now be terminated…`"
   ]
  },
  {
   "cell_type": "markdown",
   "metadata": {},
   "source": [
    "### Ternary Operator\n",
    "![ternary+operator.png](./img/ternary+operator.png)\n",
    "In addition to using the `if`-`else` ladders that we have used in lessons up until now, Python also comes with a shorthand version of the `if`-`else` statements that is usually called the `if` expression. It is a **conditional expression** or **ternary operator**.\n",
    "\n",
    "The expression syntax is as follows:\n",
    "```Python\n",
    "<expression1> if <condition> else <expression2>\n",
    "```\n",
    "This first evaluates the `<condition>` rather than `<expression1>`. If `<condition>` is `True`, `<expression1>` is evaluated, and its value is returned; otherwise, `<expression2>` is evaluated, and its value is returned.\n",
    "\n",
    "Read the code below and try and work out whether the `if` condition will evaluate to `True` or `False`. Then try altering the value of `my_boolean` to `True` to see what changes."
   ]
  },
  {
   "cell_type": "code",
   "execution_count": 71,
   "metadata": {},
   "outputs": [
    {
     "name": "stdout",
     "output_type": "stream",
     "text": [
      "World\n"
     ]
    }
   ],
   "source": [
    "my_boolean = False\n",
    "my_string = \"Hello\" if my_boolean else \"World\"\n",
    "print(my_string)"
   ]
  },
  {
   "cell_type": "markdown",
   "metadata": {},
   "source": [
    "# 04 Control Flow Statements: Loops"
   ]
  },
  {
   "cell_type": "markdown",
   "metadata": {},
   "source": [
    "### `for` loop\n",
    "![for+loop.png](./img/for+loop.png)\n",
    "`for` loops allow us to iterate over a predefined set of data and will perform a task for each item in a given collection. A `for` loop can iterate over a sequence that is a list, tuple, dictionary, set or string. In a for loop, you do not require an indexing variable to be set. In the Checking Containment with Containment Operators unit, the `in` keyword was introduced to iterate over a sequence. This same keyword is used in a `for` loop. A `for` loop will run until every item in the sequence is iterated over.\n",
    "\n",
    "```python\n",
    "for item in collection:\n",
    "    code_block\n",
    "```\n",
    "How we build up a for loop is by first using the `for` keyword. After the `for` keyword we have `item`. `item` is a variable name. You can call this variable whatever you like (within the Python variable naming conventions), but usually, you use the singular of the sequence name you are iterating over. A `for` loop will continue until the last item is reached at which point the loop will be exited.\n",
    "    \n",
    "When looping over integers the `range()` function is useful which generates a range of integers:\n",
    "\n",
    "* range(n) =  0, 1, ..., n-1\n",
    "* range(m,n)= m, m+1, ..., n-1\n",
    "* range(m,n,s)= m, m+s, m+2s, ..., m + ((n-m-1)//s) * s\n",
    "\n",
    "In mathematical terms range `range(a,b)`$=[a,b)\\subset\\mathbb Z$"
   ]
  },
  {
   "cell_type": "code",
   "execution_count": 72,
   "metadata": {},
   "outputs": [
    {
     "name": "stdout",
     "output_type": "stream",
     "text": [
      "HTML\n",
      "CSS\n",
      "JavaScript\n"
     ]
    }
   ],
   "source": [
    "languages = [\"HTML\", \"CSS\", \"JavaScript\"]\n",
    "for language in languages:\n",
    "    print(language)"
   ]
  },
  {
   "cell_type": "markdown",
   "metadata": {},
   "source": [
    "In the runnable example `language` has been used as the sequence is named `languages`. This variable will act as a placeholder. After item, we have `in`. It is used in this instance to iterate through all values in the sequence. For each iteration of the `for` loop, Python will get the next item from the series and store it in the `language` variable so we can use it inside the `for` loop. Then inside the for loop we simply print out each item value of the sequence, starting at `HTML` and working up to `JavaScript`.\n",
    "\n",
    "Another example is iterating through the characters in a string. In this case, we have named the item variable `character` and have stepped through the characters in the string `Python`."
   ]
  },
  {
   "cell_type": "code",
   "execution_count": 73,
   "metadata": {},
   "outputs": [
    {
     "name": "stdout",
     "output_type": "stream",
     "text": [
      "P\n",
      "y\n",
      "t\n",
      "h\n",
      "o\n",
      "n\n"
     ]
    }
   ],
   "source": [
    "for character in \"Python\":\n",
    "    print(character)"
   ]
  },
  {
   "cell_type": "code",
   "execution_count": 74,
   "metadata": {},
   "outputs": [
    {
     "name": "stdout",
     "output_type": "stream",
     "text": [
      "total = 4\n"
     ]
    }
   ],
   "source": [
    "total=0\n",
    "for i,j in [(1,2),(3,1)]:\n",
    "    total += i**j\n",
    "print(\"total =\",total)"
   ]
  },
  {
   "cell_type": "markdown",
   "metadata": {},
   "source": [
    " It is also possible to iterate over a nested list illustrated below."
   ]
  },
  {
   "cell_type": "code",
   "execution_count": 75,
   "metadata": {},
   "outputs": [
    {
     "name": "stdout",
     "output_type": "stream",
     "text": [
      "[1, 2, 3]\n",
      "[4, 5, 6]\n",
      "[7, 8, 9]\n"
     ]
    }
   ],
   "source": [
    "list_of_lists = [[1, 2, 3], [4, 5, 6], [7, 8, 9]]\n",
    "for list1 in list_of_lists:\n",
    "        print(list1)"
   ]
  },
  {
   "cell_type": "markdown",
   "metadata": {},
   "source": [
    "A use case of a nested for loop in this case would be,"
   ]
  },
  {
   "cell_type": "code",
   "execution_count": 76,
   "metadata": {},
   "outputs": [
    {
     "name": "stdout",
     "output_type": "stream",
     "text": [
      "45\n"
     ]
    }
   ],
   "source": [
    "list_of_lists = [[1, 2, 3], [4, 5, 6], [7, 8, 9]]\n",
    "total=0\n",
    "for list1 in list_of_lists:\n",
    "    for x in list1:\n",
    "        total = total+x\n",
    "print(total)"
   ]
  },
  {
   "cell_type": "markdown",
   "metadata": {},
   "source": [
    "There are many helper functions that make **for** loops even more powerful and easy to use. For example `enumerate()`, `zip()`, `sorted()`, `reversed()`"
   ]
  },
  {
   "cell_type": "code",
   "execution_count": 77,
   "metadata": {},
   "outputs": [
    {
     "name": "stdout",
     "output_type": "stream",
     "text": [
      "reversed: \tc;b;a;"
     ]
    }
   ],
   "source": [
    "print(\"reversed: \\t\",end=\"\")\n",
    "for ch in reversed(\"abc\"):\n",
    "    print(ch,end=\";\")"
   ]
  },
  {
   "cell_type": "code",
   "execution_count": 78,
   "metadata": {},
   "outputs": [
    {
     "name": "stdout",
     "output_type": "stream",
     "text": [
      "enuemerated:\t0 = a; 1 = b; 2 = c; "
     ]
    }
   ],
   "source": [
    "print(\"enuemerated:\\t\",end=\"\")\n",
    "for i,ch in enumerate(\"abc\"):\n",
    "    print(i,\"=\",ch,end=\"; \")"
   ]
  },
  {
   "cell_type": "code",
   "execution_count": 79,
   "metadata": {},
   "outputs": [
    {
     "name": "stdout",
     "output_type": "stream",
     "text": [
      "zip'ed: \n",
      "a : x\n",
      "b : y\n",
      "c : z\n"
     ]
    }
   ],
   "source": [
    "print(\"zip'ed: \")\n",
    "for a,x in zip(\"abc\",\"xyz\"):\n",
    "    print(a,\":\",x)"
   ]
  },
  {
   "cell_type": "markdown",
   "metadata": {},
   "source": [
    "#### `range()`\n",
    "If you want to loop through code a specific number of times you can use the `range` function. The `range()` function will generate a sequence of integers. In passing through an argument of `5`, we’re saying that we wish for that sequence to be comprised of `5` numbers. Most programming languages, including Python, are zero-based. Therefore they start counting at `0` instead of `1`. When we use the range function to generate a sequence of `5` integers, it will create a series ranging from [`0`-`4`]. Those numbers are `0`, `1`, `2`, `3` and `4`. We use the `for` loop to iterate each of the numbers in this sequence.\n",
    "\n",
    "`range()` can take up to three arguments: range(start,stop,step)\n",
    "* Start - This is the first argument that `range()` accepts. It is an optional argument and will be given a default value of `0`.\n",
    "* Stop - This is the second argument. It is the number at which to stop our sequence. For `range()` to work, we need to provide a stop argument.\n",
    "* Step - This is the last argument that `range()` takes. It is also an optional argument. If we don’t provide one, Python will default to `1`. A negative value steps negatively.\n",
    "\n",
    "`for` loops allow us to iterate over a predefined set of data, iterating over collections of data and will perform a task for each item in a given collection. In this case, `range()` can be combined with `len()` to calculate the length of the collection dynamically. This is particularly useful when you do not know in advance how many items will be in the sequence."
   ]
  },
  {
   "cell_type": "code",
   "execution_count": 80,
   "metadata": {},
   "outputs": [
    {
     "name": "stdout",
     "output_type": "stream",
     "text": [
      "0 bacon\n",
      "1 sausage\n",
      "2 egg\n",
      "3 spam\n"
     ]
    }
   ],
   "source": [
    "foods = ['bacon', 'sausage', 'egg', 'spam']\n",
    "for ind in range(len(foods)):\n",
    "    # In this example only the index is iterated over not the value\n",
    "    print(ind, foods[ind])"
   ]
  },
  {
   "cell_type": "markdown",
   "metadata": {},
   "source": [
    "Have a look at the following example and see if you can figure out why it gives an incorrect result. This code is expected to return a value of 1,2,3,4,5, but it does not."
   ]
  },
  {
   "cell_type": "code",
   "execution_count": 81,
   "metadata": {},
   "outputs": [
    {
     "name": "stdout",
     "output_type": "stream",
     "text": [
      "1234"
     ]
    }
   ],
   "source": [
    "# Return integers from 1 through 5\n",
    "for i in range(1,5,1):\n",
    "    print(i, end='')"
   ]
  },
  {
   "cell_type": "markdown",
   "metadata": {},
   "source": [
    "This logical error is known as an out by one error."
   ]
  },
  {
   "cell_type": "markdown",
   "metadata": {},
   "source": [
    "### `while` loop\n",
    "`while` loops allow us to execute a block of code indefinitely. Indefinite running is an advantageous property but does have some pitfalls if misused. If you look at the image below you can see the loop will run, as long as the condition is `True`. Only if the condition is `False` will the loop end.\n",
    "![while+loop.png](./img/while+loop.png)\n",
    "\n",
    "**Syntax:**\n",
    "```python\n",
    "while some_condition:  \n",
    "    code_block\n",
    "```\n",
    "Repeatedly execute the `code_block` until the `some_condition` fails (or exit via a `break` statement as shown below)"
   ]
  },
  {
   "cell_type": "markdown",
   "metadata": {},
   "source": [
    "In the first example, we declare a variable called `countdown_number`; then we proceed to begin a countdown sequence. Then we have our `while` loop. We create this by starting with the `while` keyword, followed by a condition. In this case, the code inside the while loop will be executed so long as `countdown_number` is greater than or equal to `0`. Inside the `while` block, we print out the `countdown_number`, followed by the word `seconds`. Next, we subtract `1` from the `countdown_number`, meaning that with each iteration, the `countdown_number` gets closer to `0`. Once the countdown_number reaches `0`, on the last iteration the `countdown_number` will be set to `-1`. Since this value is not greater than or equal to `0`, the conditional expression of the while loop will evaluate to `False` and the `while` block will be skipped. After exiting the loop, we simply print out, `And We Have Lift Off!`\n",
    "\n",
    "NOTE: Be careful when constructing a `while` loop. If we’d forgotten to subtract one from the `countdown_number` at the end of each iteration, the loop would have run forever as the condition would always evaluate to `True`. This error is called an infinite loop."
   ]
  },
  {
   "cell_type": "code",
   "execution_count": 82,
   "metadata": {},
   "outputs": [
    {
     "name": "stdout",
     "output_type": "stream",
     "text": [
      "Initiating Countdown Sequence...\n",
      "Lift Off Will Commence In...\n",
      "3 seconds...\n",
      "2 seconds...\n",
      "1 seconds...\n",
      "0 seconds...\n",
      "And We Have Lift Off!\n"
     ]
    }
   ],
   "source": [
    "countdown_number = 3\n",
    "\n",
    "print(\"Initiating Countdown Sequence...\")\n",
    "print(\"Lift Off Will Commence In...\")\n",
    "\n",
    "while countdown_number >= 0:\n",
    "    print(f\"{countdown_number} seconds...\")\n",
    "    countdown_number -= 1\n",
    "\n",
    "print(\"And We Have Lift Off!\")"
   ]
  },
  {
   "cell_type": "markdown",
   "metadata": {},
   "source": [
    "In this second, the code will continue to run until the player declares they want to stop. Read the code to see if you can figure out how it works.\n",
    "```Python\n",
    "play_game = True\n",
    "while play_game:\n",
    "    continue_playing = input(\"Would you like to continue playing the game? y/n \")\n",
    "    if continue_playing.lower() == \"y\":\n",
    "        print(\"You have decided to continue playing the game.\")\n",
    "    elif continue_playing.lower() == \"n\":\n",
    "        print(\"Now closing the game...\")\n",
    "        play_game = False\n",
    "    else:\n",
    "        print(\"That is not a valid option. Please try again.\")\n",
    "print(\"Thanks for playing\")\n",
    "```\n",
    "Here we’ve declared a variable called `play_game` which is set to `True`. While play_game is `True`, we do the following. \n",
    "* First, we ask the user if they wish to continue playing the game. We indicate the answer should be yes or no (“y/n”).\n",
    "* We then store this value in a variable called `continue_playing`. \n",
    "* We then check to see if continue_playing is equal to “y”. \n",
    "* If it is, then we tell them that they’ve decided to continue playing.\n",
    "\n",
    ">NOTE: We’ve used the `.lower()` method, just in case a user uses an uppercase input. When working with uppercase and lowercase, it’s important to note that, while they are the same letter, they are not the same Unicode character.\n",
    "\n",
    "* If this is the case, then the `while` loop will begin its next cycle, and the user will be prompted again. \n",
    "* Else if `continue_playing` is equal to `n`, then we inform them that they’ve decided to quit the game, and we set the `play_game` variable to `False`. Now that the play_game variable is no longer `True`, the program will exit the loop and print out, `Thanks for playing.`\n",
    "* Lastly, if the user enters something other than `y` or `n`, then they’ll be informed that their decision was invalid and they need to try again."
   ]
  },
  {
   "cell_type": "markdown",
   "metadata": {},
   "source": [
    "### Controlling Iteration (break, continue & pass)\n",
    "In Python, we can break out of and continue running iterations in loops.\n",
    "![break+continue+pass.png](./img/break+continue+pass.png)\n",
    "### `break`\n",
    "The `break` keyword is used to abandon exection of a loop immediately,  it will stop executing the loop's code block. This statement can only be used in `for` and `while` loops."
   ]
  },
  {
   "cell_type": "code",
   "execution_count": 83,
   "metadata": {},
   "outputs": [
    {
     "name": "stdout",
     "output_type": "stream",
     "text": [
      "Number is  0\n",
      "Number is  1\n",
      "Number is  2\n",
      "Left the loop\n"
     ]
    }
   ],
   "source": [
    "for number in range(5):\n",
    "    if number == 3:\n",
    "        break    # break here\n",
    "    print(f'Number is  {number}')\n",
    "print('Left the loop')"
   ]
  },
  {
   "cell_type": "markdown",
   "metadata": {},
   "source": [
    "### `continue`\n",
    "The `continue` allows you to abandon the current iteration cycle and continue with the next iteration. Again this can only be used in a `while` or `for` loop. It is typically only used within an `if` statement (otherwise the remainder of the loop would never be executed)."
   ]
  },
  {
   "cell_type": "code",
   "execution_count": 84,
   "metadata": {},
   "outputs": [
    {
     "name": "stdout",
     "output_type": "stream",
     "text": [
      "Number is  0\n",
      "Number is  1\n",
      "Number is  2\n",
      "Number is  4\n",
      "Left the loop\n"
     ]
    }
   ],
   "source": [
    "for number in range(5):\n",
    "    if number == 3:\n",
    "        continue    # skip 3\n",
    "    print(f'Number is  {number}')\n",
    "print('Left the loop')"
   ]
  },
  {
   "cell_type": "markdown",
   "metadata": {},
   "source": [
    "### `pass`\n",
    "A `pass` statement disregards the condition, and the program carries on as though the condition statement was not there. The `pass` statement allows you to handle the condition without the loop being affected in any way. The loop will carry on as normal. In the image, you can see the flow of the code does not leave the loop but carries on. It is not ignored by the interpreter like a comment but it is not executed so results in **no operation**. The `pass` statement is frequently used when developing to allow code to run before you have fully figured out the logic you intend."
   ]
  },
  {
   "cell_type": "code",
   "execution_count": 85,
   "metadata": {},
   "outputs": [
    {
     "name": "stdout",
     "output_type": "stream",
     "text": [
      "Number is  0\n",
      "Number is  1\n",
      "Number is  2\n",
      "Number is  3\n",
      "Number is  4\n",
      "Left the loop\n"
     ]
    }
   ],
   "source": [
    "for number in range(5):\n",
    "    if number == 3:\n",
    "        pass    # disregard the if case\n",
    "    print(f'Number is  {number}')\n",
    "print('Left the loop')"
   ]
  },
  {
   "cell_type": "markdown",
   "metadata": {},
   "source": [
    "### `else` statement on loops\n",
    "Sometimes we want to know if a loop exited 'normally'. This can be achieved with an `else` statement in a loop which only executes if **there was no break**"
   ]
  },
  {
   "cell_type": "code",
   "execution_count": 86,
   "metadata": {},
   "outputs": [
    {
     "name": "stdout",
     "output_type": "stream",
     "text": [
      "count = 1\n",
      "count = 5\n",
      "count = 9\n",
      "Normal exit with 12\n"
     ]
    }
   ],
   "source": [
    "count = 0\n",
    "while count < 10:\n",
    "    count += 1\n",
    "    if count % 2 == 0: # even number\n",
    "        count += 2\n",
    "        continue\n",
    "    elif 5 < count < 9:\n",
    "        break # abnormal exit if we get here!\n",
    "    print(\"count =\",count)\n",
    "else: # while-else\n",
    "    print(\"Normal exit with\",count)"
   ]
  },
  {
   "cell_type": "markdown",
   "metadata": {},
   "source": [
    "### FizzBuzz\n",
    "print \"Fizz\" at each integer divisible by 2, print \"Buzz\" at each divisible by 3, else print the number."
   ]
  },
  {
   "cell_type": "code",
   "execution_count": 87,
   "metadata": {},
   "outputs": [
    {
     "name": "stdout",
     "output_type": "stream",
     "text": [
      "1\n",
      "Fizz\n",
      "Buzz\n",
      "Fizz\n",
      "5\n",
      "FizzBuzz\n",
      "7\n",
      "Fizz\n",
      "Buzz\n",
      "Fizz\n",
      "11\n"
     ]
    }
   ],
   "source": [
    "for i in range(1,12):\n",
    "    printed = False\n",
    "    if not i%2:\n",
    "        print('Fizz', end=\"\")\n",
    "        printed = True\n",
    "    if not i%3:\n",
    "        print('Buzz', end=\"\")\n",
    "        printed = True\n",
    "    print(\"\" if printed else i)"
   ]
  },
  {
   "cell_type": "markdown",
   "metadata": {},
   "source": [
    "### Nested Loops\n",
    "A Python loop can be nested within another Python loop. The program runs the first loop iteration, which then triggers the second loop which then runs to completion and returns to the outer loop.\n",
    "![nested-loops.png](./img/nested-loops.png)\n",
    "* In this example, we are looking for all prime numbers below `10`. A prime number is an integer greater than `1` that is divisible only by itself and by `1`. The outer loop stops when it reaches `10`. If you want to find prime numbers below `100`, for example, then change this to `while i < 100`.\n",
    "* The inner loop checks whether `i` meets the criteria of a prime number.\n",
    "* Both inner and outer loops have their counters `i` and `j` incremented by `1` each time they run. The `if` statement prints a result if a prime number is found. \n",
    "* The outer iteration starts with variable `i` with a value of `2` and is incremented by `1` after each run of the outer loop. \n",
    "* The inner loop starts with variable `j` with a value of `2` and is incremented by `1` after each run of the inner loop but only if `i` modulus `j` is `False`.\n",
    "\n",
    "Don't worry too much about the arithmetic. What is important here is the nested loops and their logic. If you step through the code, you will see that the inner loop sometimes runs more than once depending on the values of `i` and `j`. Only when the inner loop is completed its logic does the program return to the outer loop."
   ]
  },
  {
   "cell_type": "code",
   "execution_count": 88,
   "metadata": {},
   "outputs": [
    {
     "name": "stdout",
     "output_type": "stream",
     "text": [
      "2 is a prime number\n",
      "3 is a prime number\n",
      "5 is a prime number\n",
      "7 is a prime number\n"
     ]
    }
   ],
   "source": [
    "i = 2\n",
    "while i < 10:\n",
    "    j = 2\n",
    "    while j <= i/j:\n",
    "        if not i % j:\n",
    "            break\n",
    "        j += 1\n",
    "    else:\n",
    "        print(f'{i} is a prime number')\n",
    "    i += 1"
   ]
  },
  {
   "cell_type": "markdown",
   "metadata": {},
   "source": [
    "# Data structures\n",
    "So far we have only seen numbers and strings and how to write simple expressions involving these. In general writing programs is about managing more complex collections of such items which means think about *data structures* for storing the data and *algorithms* for manipulating them. This part of the tutorial and the next looks at the some of the powerful built-in data structures that are included in Python, namely `list`, `tuple`, `dict` and `set` data structures."
   ]
  },
  {
   "cell_type": "markdown",
   "metadata": {},
   "source": [
    "# 05 Data structures: Lists\n",
    "A `list` is one of the four collection data types. A `list` is a collection of items or elements that are ordered and is changeable. It can contain duplicate items. Those items can be of different types such as strings, integers, floats or even another list. As a list is ordered, you can use an index to find an element in the `list`. Lists are zero-indexed, so the first element has index `0`.\n",
    "![list-indexing.png](./img/list-indexing.png)\n",
    "When coding, you would choose a `list` data structure when you need an ordered sequence of items that you intend to be modified or appended. The `list` data type has methods to alter lists. We will cover these in the upcoming units.\n",
    "\n",
    "Lists are the most commonly used data structure. Think of it as a sequence of data that is enclosed in square brackets and data are separated by a comma. Each element of a list can be accessed the position of the element within the list.\n",
    "\n",
    "Lists are declared by just equating a variable to '[ ]' or list."
   ]
  },
  {
   "cell_type": "code",
   "execution_count": 89,
   "metadata": {},
   "outputs": [
    {
     "data": {
      "text/plain": [
       "list"
      ]
     },
     "execution_count": 89,
     "metadata": {},
     "output_type": "execute_result"
    }
   ],
   "source": [
    "a = []\n",
    "type(a)"
   ]
  },
  {
   "cell_type": "code",
   "execution_count": 90,
   "metadata": {},
   "outputs": [
    {
     "name": "stdout",
     "output_type": "stream",
     "text": [
      "apple\n",
      "orange\n",
      "banana\n",
      "pear\n",
      "plum\n"
     ]
    }
   ],
   "source": [
    "fruits = ['apple', 'orange', 'banana', 'pear', 'plum']\n",
    "# Print all fruits\n",
    "for fruit in fruits:\n",
    "    print(fruit)"
   ]
  },
  {
   "cell_type": "code",
   "execution_count": 91,
   "metadata": {},
   "outputs": [
    {
     "name": "stdout",
     "output_type": "stream",
     "text": [
      "orange\n"
     ]
    }
   ],
   "source": [
    "# Get an item located in a list\n",
    "second_item = fruits[1]\n",
    "print(second_item)"
   ]
  },
  {
   "cell_type": "code",
   "execution_count": 92,
   "metadata": {},
   "outputs": [
    {
     "name": "stdout",
     "output_type": "stream",
     "text": [
      "['apple', 'orange', 'banana', 'pear', 'plum', 'cherries']\n"
     ]
    }
   ],
   "source": [
    "# Add an item to the list\n",
    "fruits.append('cherries')\n",
    "print(fruits)"
   ]
  },
  {
   "cell_type": "code",
   "execution_count": 93,
   "metadata": {},
   "outputs": [
    {
     "name": "stdout",
     "output_type": "stream",
     "text": [
      "['cherries', 'plum', 'pear', 'banana', 'orange', 'apple']\n"
     ]
    }
   ],
   "source": [
    "# Reverse the list\n",
    "fruits.reverse()\n",
    "print(fruits)"
   ]
  },
  {
   "cell_type": "code",
   "execution_count": 94,
   "metadata": {},
   "outputs": [
    {
     "name": "stdout",
     "output_type": "stream",
     "text": [
      "['apple', 'banana', 'cherries', 'orange', 'pear', 'plum']\n"
     ]
    }
   ],
   "source": [
    "# Sort the list alphabetically (inplace):\n",
    "fruits.sort()\n",
    "print(fruits)"
   ]
  },
  {
   "cell_type": "markdown",
   "metadata": {},
   "source": [
    "### Indexing"
   ]
  },
  {
   "cell_type": "markdown",
   "metadata": {},
   "source": [
    "When working with lists, we don’t have to work with lists as a whole. We can access each item in a list using indexing. Every item in a list has an index, and we can use that index to target specific items, or to access groups of items in lists. These items are usually referred to as elements. Lists are zero-indexed, so\n",
    "* the first item has index `0`, \n",
    "* the second index `1` and so on.\n",
    "To use the third item in a list named `mylist` you would use square bracket notation `mylist[2]` to get its value. \n",
    "* The last item in a list has the index `-1`.\n",
    "* you can also access an element with reverse indexing: `mylist[-2]` gets the second last item of the list.\n",
    "\n",
    "If you attempt to use an index integer that does not exist in the list then you will get an `IndexError: string index out of range`. The index is also useful to get a subset of a string.\n",
    "\n",
    "The list `fruits`, which has six elements will have `apple` at index `0` and `plum` at index `5`. "
   ]
  },
  {
   "cell_type": "code",
   "execution_count": 95,
   "metadata": {},
   "outputs": [
    {
     "data": {
      "text/plain": [
       "['apple', 'plum']"
      ]
     },
     "execution_count": 95,
     "metadata": {},
     "output_type": "execute_result"
    }
   ],
   "source": [
    "[fruits[0], fruits[5]]"
   ]
  },
  {
   "cell_type": "markdown",
   "metadata": {},
   "source": [
    "Indexing can also be done in reverse order. That is the last element can be accessed first. Here, indexing starts from `-1`. Thus index value `-1` will be `plum` and index `-5` will be `banana`."
   ]
  },
  {
   "cell_type": "code",
   "execution_count": 96,
   "metadata": {},
   "outputs": [
    {
     "data": {
      "text/plain": [
       "['plum', 'banana']"
      ]
     },
     "execution_count": 96,
     "metadata": {},
     "output_type": "execute_result"
    }
   ],
   "source": [
    "[fruits[-1], fruits[-5]]"
   ]
  },
  {
   "cell_type": "markdown",
   "metadata": {},
   "source": [
    "As you might have already guessed, `fruits[0]` is the same as `fruits[-6]`, `fruits[1]` equals `fruits[-5]`. This concept can be extended towards lists with many more elements."
   ]
  },
  {
   "cell_type": "code",
   "execution_count": 97,
   "metadata": {},
   "outputs": [
    {
     "data": {
      "text/plain": [
       "['apple', 'apple']"
      ]
     },
     "execution_count": 97,
     "metadata": {},
     "output_type": "execute_result"
    }
   ],
   "source": [
    "[fruits[0], fruits[-6]]"
   ]
  },
  {
   "cell_type": "markdown",
   "metadata": {},
   "source": [
    "Here we have declared two lists `fruits` and `vegetables`. Each containing its own data. Now, these two lists can again be put into another list say `z` which will have it's data as two lists. This list inside a list is called as **nested lists** and is how an array would be declared which we will see later."
   ]
  },
  {
   "cell_type": "code",
   "execution_count": 98,
   "metadata": {},
   "outputs": [
    {
     "name": "stdout",
     "output_type": "stream",
     "text": [
      "[['apple', 'banana', 'cherries', 'orange', 'pear', 'plum'], ['carrot', 'potato', 'leek', 'onion', 'spinach']]\n"
     ]
    }
   ],
   "source": [
    "vegetables = ['carrot','potato','leek','onion','spinach']\n",
    "z  = [fruits, vegetables]\n",
    "print( z )"
   ]
  },
  {
   "cell_type": "markdown",
   "metadata": {},
   "source": [
    "Indexing in nested lists can be quite confusing if you do not understand how indexing works in python. So let us break it down and then arrive at a conclusion.\n",
    "\n",
    "Let us access the data 'apple' in the above nested list.\n",
    "First, at index 0 there is a list ['apple','orange'] and at index 1 there is another list ['carrot','potato']. Hence z[0] should give us the first list which contains 'apple' and 'orange'. From this list we can take the second element (index 1) to get 'orange'"
   ]
  },
  {
   "cell_type": "code",
   "execution_count": 99,
   "metadata": {},
   "outputs": [
    {
     "name": "stdout",
     "output_type": "stream",
     "text": [
      "banana\n"
     ]
    }
   ],
   "source": [
    "print(z[0][1])"
   ]
  },
  {
   "cell_type": "markdown",
   "metadata": {},
   "source": [
    "Lists do not have to be homogenous. Each element can be of a different type:"
   ]
  },
  {
   "cell_type": "code",
   "execution_count": 100,
   "metadata": {},
   "outputs": [
    {
     "data": {
      "text/plain": [
       "['this is a valid list', 2, 3.6, (1+2j), ['a', 'sublist']]"
      ]
     },
     "execution_count": 100,
     "metadata": {},
     "output_type": "execute_result"
    }
   ],
   "source": [
    "[\"this is a valid list\",2,3.6,(1+2j),[\"a\",\"sublist\"]]"
   ]
  },
  {
   "cell_type": "markdown",
   "metadata": {},
   "source": [
    "### Slicing\n",
    "![list-slicing.png](./img/list-slicing.png)\n",
    "Indexing was only limited to accessing a single element, Slicing on the other hand is accessing a sequence of data inside the list. In other words \"slicing\" the list. Slice notation with indexing is used to slice the list up. We can slice up lists to get subsets of a list. For example, if we wanted to get the first two items in a list, then we would use the following syntax `slice(2)` which creates a new list with only the first two elements of the existing list. This `slice` method can take three arguments: `slice(start, end, step)` which takes integer values of the `start`ing position, `end` position and `step` size."
   ]
  },
  {
   "cell_type": "code",
   "execution_count": 101,
   "metadata": {},
   "outputs": [
    {
     "data": {
      "text/plain": [
       "['banana', 'pear']"
      ]
     },
     "execution_count": 101,
     "metadata": {},
     "output_type": "execute_result"
    }
   ],
   "source": [
    "fruits = [\"apple\", \"banana\", \"peach\", \"pear\", \"plum\", \"orange\"]\n",
    "x = slice(1, 4, 2)\n",
    "fruits[x]"
   ]
  },
  {
   "cell_type": "markdown",
   "metadata": {},
   "source": [
    "However, when slicing lists, you can use a shortened `slice` notation rather than using the `slice` object each time. Behind the scenes `slice` is still being used. We will use the shortened slice notation in the upcoming examples. Observe the following notation provides the same result as the `slice(1,4,2)` before."
   ]
  },
  {
   "cell_type": "code",
   "execution_count": 102,
   "metadata": {},
   "outputs": [
    {
     "data": {
      "text/plain": [
       "['banana', 'pear']"
      ]
     },
     "execution_count": 102,
     "metadata": {},
     "output_type": "execute_result"
    }
   ],
   "source": [
    "fruits[1:4:2]"
   ]
  },
  {
   "cell_type": "markdown",
   "metadata": {},
   "source": [
    "In the for loop units, we used indexing with lists. Slicing also uses the index to identify where to slice. In the above example, we’ve added `[1:4:2]` to the end of our list name, which is called slice notation. It works like a combination of indexing and `range`.\n",
    "* First, we indicate the index at which we wish to start: `1` - second element.\n",
    "* Then after the colon `:`, we use the index at which we want to stop: `4` - fifth element. Similar to the range function, the stop value is the everything up to, but not including, that value. Here it will, therefore, consider everything up to index 4, except for index 4 itself.\n",
    "* Then we specified step size: `2`\n",
    "* so slicing starts at index 1, adds 2, slices element of index 3, adds 2, but 5 is not less than 4 - the stop index, so no furder element is sliced.\n",
    "\n",
    "If we wanted to start at the very beginning of a list, we could just say `[0:2]` or shorter `{:2]`. By not providing a start value, Python will just grab everything up to the (but not including) stop value. As the start default is index 0 you could, of course, just use slice(2) instead."
   ]
  },
  {
   "cell_type": "code",
   "execution_count": 103,
   "metadata": {},
   "outputs": [
    {
     "data": {
      "text/plain": [
       "['apple', 'banana']"
      ]
     },
     "execution_count": 103,
     "metadata": {},
     "output_type": "execute_result"
    }
   ],
   "source": [
    "fruits[:2]"
   ]
  },
  {
   "cell_type": "markdown",
   "metadata": {},
   "source": [
    "Similarly, if we set a start value and don’t specify a stop value, it will only get everything up to the end of the list. If we don’t provide a start or stop value, then it will just grab everything from the beginning, all the way to the end. We would do this if we wanted to create a copy of a list."
   ]
  },
  {
   "cell_type": "code",
   "execution_count": 104,
   "metadata": {},
   "outputs": [
    {
     "data": {
      "text/plain": [
       "['apple', 'banana', 'peach', 'pear', 'plum', 'orange']"
      ]
     },
     "execution_count": 104,
     "metadata": {},
     "output_type": "execute_result"
    }
   ],
   "source": [
    "fruits[:]"
   ]
  },
  {
   "cell_type": "markdown",
   "metadata": {},
   "source": [
    "The negative step will count from the end, so you can reverse the list using the `list[::-1]` notation. You can also use negative values for a start and stop if you want to index from the end of the list."
   ]
  },
  {
   "cell_type": "code",
   "execution_count": 105,
   "metadata": {},
   "outputs": [
    {
     "data": {
      "text/plain": [
       "['orange', 'plum', 'pear', 'peach', 'banana', 'apple']"
      ]
     },
     "execution_count": 105,
     "metadata": {},
     "output_type": "execute_result"
    }
   ],
   "source": [
    "fruits[::-1]"
   ]
  },
  {
   "cell_type": "markdown",
   "metadata": {},
   "source": [
    "### Built in List Methods\n",
    "The list object has many methods. Some modify the list like inserting, sorting or removing. Others return information about the items in the list. As a list can contain many data types, not all methods will work on all lists. You would not be able to sort the list `[None, 1, 'one']` as the types of the items are not comparable.\n",
    "\n",
    "|Method\t|Description|\n",
    "|:-|:-|\n",
    "|list.append(x)\t|Add an item to the end of the list.\n",
    "|list.extend(list)\t|Extend the list by appending another list.\n",
    "|list.insert(i, x)\t|nsert an item at a given position. The first argument is the index of the element before which to insert\n",
    "|list.remove(x)\t|Remove the first item from the list whose value is equal to x. It raises a ValueError if there is no such item.\n",
    "|list.pop(i)\t|Remove the item at the given position in the list, and return it. If no index is specified, a.pop() removes and returns the last item in the list.\n",
    "|list.clear()\t|Remove all items from the list.\n",
    "|list.index(x, start, end)\t|Return zero-based index in the list of the first item whose value is equal to x. Raises a ValueError if there is no such item.The optional arguments start and end are interpreted as in the slice notation.\n",
    "|list.count(x)\t|Return the number of times x appears in the list.\n",
    "|list.sort(key=None, reverse=False)\t|Sort the items of the list in place\n",
    "|list.reverse()\t|Reverse the elements of the list in place.\n",
    "|list.copy()\t|Return a copy of the list. Equivalent to `a[:]`\n",
    "\n",
    "Examples of list methods are in the runnable example below. Note that methods which alter the list (`reverse`, `append` and `sort`) return `None` when called. Other methods like `count`, `index` and `pop` return integers, indices and items respectively.\n",
    "\n",
    "Lists can be used to implement useful computing concepts such as a stack. A **stack** is where the last element added is the first element retrieved. To do this use `append()` to add a new item to the top of the stack. Use `pop()` to retrieve an item from the top of the stack."
   ]
  },
  {
   "cell_type": "markdown",
   "metadata": {},
   "source": [
    "`append`ing a list to a list would create a sublist:"
   ]
  },
  {
   "cell_type": "code",
   "execution_count": 106,
   "metadata": {},
   "outputs": [
    {
     "data": {
      "text/plain": [
       "['a', 'b', 'c', 'b', ['d', 'e']]"
      ]
     },
     "execution_count": 106,
     "metadata": {},
     "output_type": "execute_result"
    }
   ],
   "source": [
    "lst1=['a','b','c','b']\n",
    "lst2=['d','e']\n",
    "lst1.append(lst2)\n",
    "lst1"
   ]
  },
  {
   "cell_type": "markdown",
   "metadata": {},
   "source": [
    "If a nested list is not what is desired then the `extend( )` function can be used."
   ]
  },
  {
   "cell_type": "code",
   "execution_count": 107,
   "metadata": {},
   "outputs": [
    {
     "data": {
      "text/plain": [
       "['a', 'b', 'c', 'b', 'd', 'e']"
      ]
     },
     "execution_count": 107,
     "metadata": {},
     "output_type": "execute_result"
    }
   ],
   "source": [
    "lst1=['a','b','c','b']\n",
    "lst1.extend(lst2)\n",
    "lst1"
   ]
  },
  {
   "cell_type": "markdown",
   "metadata": {},
   "source": [
    "The same concatenation is achieved with the `+` operator"
   ]
  },
  {
   "cell_type": "code",
   "execution_count": 108,
   "metadata": {},
   "outputs": [
    {
     "data": {
      "text/plain": [
       "['a', 'b', 'c', 'b', 'Z']"
      ]
     },
     "execution_count": 108,
     "metadata": {},
     "output_type": "execute_result"
    }
   ],
   "source": [
    "['a','b','c','b'] + ['Z']"
   ]
  },
  {
   "cell_type": "markdown",
   "metadata": {},
   "source": [
    "If you want to replace one element with another element you simply assign the value to that particular index."
   ]
  },
  {
   "cell_type": "code",
   "execution_count": 109,
   "metadata": {},
   "outputs": [
    {
     "data": {
      "text/plain": [
       "['a', 'b', 'Python', 'b', 'd', 'e']"
      ]
     },
     "execution_count": 109,
     "metadata": {},
     "output_type": "execute_result"
    }
   ],
   "source": [
    "lst1[2] = 'Python'\n",
    "lst1"
   ]
  },
  {
   "cell_type": "markdown",
   "metadata": {},
   "source": [
    "`insert(x,y)` is used to insert an element `y` at a specified index value `x`. Note that `L.append(y)` is equivalent to `L.insert(len(L)+1,y)` - that is insertion right at the end of the list L. "
   ]
  },
  {
   "cell_type": "code",
   "execution_count": 110,
   "metadata": {},
   "outputs": [
    {
     "data": {
      "text/plain": [
       "['a', 'b', 'JavaScript', 'Python', 'b', 'd', 'e']"
      ]
     },
     "execution_count": 110,
     "metadata": {},
     "output_type": "execute_result"
    }
   ],
   "source": [
    "lst1.insert(2, 'JavaScript')\n",
    "lst1"
   ]
  },
  {
   "cell_type": "markdown",
   "metadata": {},
   "source": [
    "One can remove element by specifying the element itself using the `remove( )` function:"
   ]
  },
  {
   "cell_type": "code",
   "execution_count": 111,
   "metadata": {},
   "outputs": [
    {
     "data": {
      "text/plain": [
       "['a', 'b', 'Python', 'b', 'd', 'e']"
      ]
     },
     "execution_count": 111,
     "metadata": {},
     "output_type": "execute_result"
    }
   ],
   "source": [
    "lst1.remove('JavaScript')\n",
    "lst1"
   ]
  },
  {
   "cell_type": "markdown",
   "metadata": {},
   "source": [
    "Alternative to `remove` function but with using index value is `del`"
   ]
  },
  {
   "cell_type": "code",
   "execution_count": 112,
   "metadata": {},
   "outputs": [
    {
     "data": {
      "text/plain": [
       "['a', 'b', 'b', 'd', 'e']"
      ]
     },
     "execution_count": 112,
     "metadata": {},
     "output_type": "execute_result"
    }
   ],
   "source": [
    "del lst1[2]\n",
    "lst1"
   ]
  },
  {
   "cell_type": "markdown",
   "metadata": {},
   "source": [
    "`count( )` is used to count the number of a particular element that is present in the list. "
   ]
  },
  {
   "cell_type": "code",
   "execution_count": 113,
   "metadata": {},
   "outputs": [
    {
     "data": {
      "text/plain": [
       "2"
      ]
     },
     "execution_count": 113,
     "metadata": {},
     "output_type": "execute_result"
    }
   ],
   "source": [
    "['a', 'b', 'c', 'b'].count('b')"
   ]
  },
  {
   "cell_type": "markdown",
   "metadata": {},
   "source": [
    "`index( )` is used to find the index value of a particular element. Note that if there are multiple elements of the same value then the first index value of that element is returned."
   ]
  },
  {
   "cell_type": "code",
   "execution_count": 114,
   "metadata": {},
   "outputs": [
    {
     "data": {
      "text/plain": [
       "1"
      ]
     },
     "execution_count": 114,
     "metadata": {},
     "output_type": "execute_result"
    }
   ],
   "source": [
    "lst1.index('b')"
   ]
  },
  {
   "cell_type": "markdown",
   "metadata": {},
   "source": [
    "`pop( )` function return the last element in the list. This is similar to the operation of a stack. Hence lists can be used as stacks by using `append()` for push and `pop()` to remove the most recently added element."
   ]
  },
  {
   "cell_type": "code",
   "execution_count": 115,
   "metadata": {},
   "outputs": [
    {
     "data": {
      "text/plain": [
       "'b'"
      ]
     },
     "execution_count": 115,
     "metadata": {},
     "output_type": "execute_result"
    }
   ],
   "source": [
    "lst1=['a', 'b', 'c', 'b']\n",
    "lst1.pop()"
   ]
  },
  {
   "cell_type": "code",
   "execution_count": 116,
   "metadata": {},
   "outputs": [
    {
     "data": {
      "text/plain": [
       "['a', 'b', 'c']"
      ]
     },
     "execution_count": 116,
     "metadata": {},
     "output_type": "execute_result"
    }
   ],
   "source": [
    "lst1"
   ]
  },
  {
   "cell_type": "markdown",
   "metadata": {},
   "source": [
    "Index value can be specified to pop a certain element corresponding to that index value."
   ]
  },
  {
   "cell_type": "code",
   "execution_count": 117,
   "metadata": {},
   "outputs": [
    {
     "data": {
      "text/plain": [
       "'b'"
      ]
     },
     "execution_count": 117,
     "metadata": {},
     "output_type": "execute_result"
    }
   ],
   "source": [
    "lst1.pop(1)"
   ]
  },
  {
   "cell_type": "code",
   "execution_count": 118,
   "metadata": {},
   "outputs": [
    {
     "data": {
      "text/plain": [
       "['a', 'c']"
      ]
     },
     "execution_count": 118,
     "metadata": {},
     "output_type": "execute_result"
    }
   ],
   "source": [
    "lst1"
   ]
  },
  {
   "cell_type": "markdown",
   "metadata": {},
   "source": [
    "The entire elements present in the list can be reversed by using the `reverse()` function."
   ]
  },
  {
   "cell_type": "code",
   "execution_count": 119,
   "metadata": {},
   "outputs": [
    {
     "data": {
      "text/plain": [
       "['c', 'a']"
      ]
     },
     "execution_count": 119,
     "metadata": {},
     "output_type": "execute_result"
    }
   ],
   "source": [
    "lst1.reverse()\n",
    "lst1"
   ]
  },
  {
   "cell_type": "markdown",
   "metadata": {},
   "source": [
    "Python offers built in operation `sort( )` to arrange the elements in ascending order. Alternatively `sorted()` can be used to construct a copy of the list in sorted order"
   ]
  },
  {
   "cell_type": "code",
   "execution_count": 120,
   "metadata": {},
   "outputs": [
    {
     "name": "stdout",
     "output_type": "stream",
     "text": [
      "['a', 'c']\n"
     ]
    }
   ],
   "source": [
    "lst1.sort()\n",
    "print(lst1)"
   ]
  },
  {
   "cell_type": "code",
   "execution_count": 121,
   "metadata": {},
   "outputs": [
    {
     "data": {
      "text/plain": [
       "[1, 2, 3]"
      ]
     },
     "execution_count": 121,
     "metadata": {},
     "output_type": "execute_result"
    }
   ],
   "source": [
    "lst2=sorted([3,2,1]) # another way to sort\n",
    "lst2"
   ]
  },
  {
   "cell_type": "markdown",
   "metadata": {},
   "source": [
    "For descending order an optional keyword argument `reverse` is provided. Setting this to `True` would arrange the elements in descending order."
   ]
  },
  {
   "cell_type": "code",
   "execution_count": 122,
   "metadata": {},
   "outputs": [
    {
     "data": {
      "text/plain": [
       "[3, 2, 1]"
      ]
     },
     "execution_count": 122,
     "metadata": {},
     "output_type": "execute_result"
    }
   ],
   "source": [
    "lst2=sorted([3,1,2],reverse=True)\n",
    "lst2 # remember that `sorted` creates a copy of the list in sorted order"
   ]
  },
  {
   "cell_type": "markdown",
   "metadata": {},
   "source": [
    "Similarly for lists containing string elements, `sort( )` would sort the elements based on it's ASCII value in ascending and by specifying reverse=True in descending."
   ]
  },
  {
   "cell_type": "code",
   "execution_count": 123,
   "metadata": {},
   "outputs": [
    {
     "data": {
      "text/plain": [
       "['bacon', 'eggs', 'ham', 'spam']"
      ]
     },
     "execution_count": 123,
     "metadata": {},
     "output_type": "execute_result"
    }
   ],
   "source": [
    "menu = ['eggs', 'bacon', 'spam', 'ham']\n",
    "menu.sort()\n",
    "menu"
   ]
  },
  {
   "cell_type": "code",
   "execution_count": 124,
   "metadata": {},
   "outputs": [
    {
     "data": {
      "text/plain": [
       "['spam', 'ham', 'eggs', 'bacon']"
      ]
     },
     "execution_count": 124,
     "metadata": {},
     "output_type": "execute_result"
    }
   ],
   "source": [
    "menu.sort(reverse=True)\n",
    "menu"
   ]
  },
  {
   "cell_type": "markdown",
   "metadata": {},
   "source": [
    "To sort based on length `key=len` should be specified as shown:"
   ]
  },
  {
   "cell_type": "code",
   "execution_count": 125,
   "metadata": {},
   "outputs": [
    {
     "data": {
      "text/plain": [
       "['ham', 'spam', 'eggs', 'bacon']"
      ]
     },
     "execution_count": 125,
     "metadata": {},
     "output_type": "execute_result"
    }
   ],
   "source": [
    "menu.sort(key=len)\n",
    "menu"
   ]
  },
  {
   "cell_type": "markdown",
   "metadata": {},
   "source": [
    "### Built-in List functions"
   ]
  },
  {
   "cell_type": "markdown",
   "metadata": {},
   "source": [
    "To find the length of the list or the number of elements in a list, `len( )` is used."
   ]
  },
  {
   "cell_type": "code",
   "execution_count": 126,
   "metadata": {},
   "outputs": [
    {
     "data": {
      "text/plain": [
       "4"
      ]
     },
     "execution_count": 126,
     "metadata": {},
     "output_type": "execute_result"
    }
   ],
   "source": [
    "len(menu)"
   ]
  },
  {
   "cell_type": "markdown",
   "metadata": {},
   "source": [
    "If the list consists of all integer elements then `min( )` and `max( )` gives the minimum and maximum value in the list. Similarly `sum` is the sum"
   ]
  },
  {
   "cell_type": "code",
   "execution_count": 127,
   "metadata": {},
   "outputs": [
    {
     "name": "stdout",
     "output_type": "stream",
     "text": [
      "min = 2   max = 5   total = 14\n"
     ]
    }
   ],
   "source": [
    "nums=[2,3,4,5]\n",
    "print(\"min =\",min(nums),\"  max =\",max(nums),\"  total =\",sum(nums))"
   ]
  },
  {
   "cell_type": "markdown",
   "metadata": {},
   "source": [
    "Lists can be concatenated by adding them with `+`. The resultant list will contain all the elements of the lists that were added. The resultant list will not be a nested list."
   ]
  },
  {
   "cell_type": "code",
   "execution_count": 128,
   "metadata": {},
   "outputs": [
    {
     "data": {
      "text/plain": [
       "[1, 2, 3, 5, 4, 7]"
      ]
     },
     "execution_count": 128,
     "metadata": {},
     "output_type": "execute_result"
    }
   ],
   "source": [
    "[1,2,3] + [5,4,7]"
   ]
  },
  {
   "cell_type": "markdown",
   "metadata": {},
   "source": [
    "There might arise a requirement where you might need to check if a particular element is there in a predefined list. Consider the below list to check if `Fire` and `Metal` are present in the list names."
   ]
  },
  {
   "cell_type": "code",
   "execution_count": 129,
   "metadata": {},
   "outputs": [],
   "source": [
    "names = ['Earth','Air','Fire','Water']"
   ]
  },
  {
   "cell_type": "markdown",
   "metadata": {},
   "source": [
    "A conventional approach would be to use a `for` loop and iterate over the list and use the `if` condition. But in python you can use `a in b` concept which would return `True` if `a` is present in `b` and `False` if not."
   ]
  },
  {
   "cell_type": "code",
   "execution_count": 130,
   "metadata": {},
   "outputs": [
    {
     "data": {
      "text/plain": [
       "True"
      ]
     },
     "execution_count": 130,
     "metadata": {},
     "output_type": "execute_result"
    }
   ],
   "source": [
    "'Fire' in names"
   ]
  },
  {
   "cell_type": "code",
   "execution_count": 131,
   "metadata": {},
   "outputs": [
    {
     "data": {
      "text/plain": [
       "False"
      ]
     },
     "execution_count": 131,
     "metadata": {},
     "output_type": "execute_result"
    }
   ],
   "source": [
    "'Metal' in names"
   ]
  },
  {
   "cell_type": "markdown",
   "metadata": {},
   "source": [
    "In a list with string elements, `max( )` and `min( )` are still applicable and return the first/last element in lexicographical order. "
   ]
  },
  {
   "cell_type": "code",
   "execution_count": 132,
   "metadata": {},
   "outputs": [
    {
     "name": "stdout",
     "output_type": "stream",
     "text": [
      "max = z\n",
      "min = az\n"
     ]
    }
   ],
   "source": [
    "mlist = ['bzaa','ds','nc','az','z','klm']\n",
    "print(\"max =\",max(mlist))\n",
    "print(\"min =\",min(mlist))"
   ]
  },
  {
   "cell_type": "markdown",
   "metadata": {},
   "source": [
    "Here the first index of each element is considered and thus `z` has the highest ASCII value thus it is returned and minimum ASCII is `a`. But what if numbers are declared as strings?"
   ]
  },
  {
   "cell_type": "code",
   "execution_count": 133,
   "metadata": {},
   "outputs": [
    {
     "name": "stdout",
     "output_type": "stream",
     "text": [
      "max = 93\n",
      "min = 1000\n"
     ]
    }
   ],
   "source": [
    "nlist = ['5','24','93','1000']\n",
    "print(\"max =\",max(nlist))\n",
    "print('min =',min(nlist))"
   ]
  },
  {
   "cell_type": "markdown",
   "metadata": {},
   "source": [
    "Even if the numbers are declared in a string the first index of each element is considered and the maximum and minimum values are returned accordingly."
   ]
  },
  {
   "cell_type": "markdown",
   "metadata": {},
   "source": [
    "But if you want to find the `max( )` string element based on the length of the string then another parameter `key` can be used to specify the function to use for generating the value on which to sort. Hence finding the longest and shortest string in `mlist` can be doen using the `len` function:"
   ]
  },
  {
   "cell_type": "code",
   "execution_count": 134,
   "metadata": {},
   "outputs": [
    {
     "name": "stdout",
     "output_type": "stream",
     "text": [
      "longest = bzaa\n",
      "shortest = z\n"
     ]
    }
   ],
   "source": [
    "print('longest =',max(mlist, key=len))\n",
    "print('shortest =',min(mlist, key=len))"
   ]
  },
  {
   "cell_type": "markdown",
   "metadata": {},
   "source": [
    "Any other built-in or user defined function can be used.\n",
    "\n",
    "A string can be converted into a list by using the `list()` function,"
   ]
  },
  {
   "cell_type": "code",
   "execution_count": 135,
   "metadata": {},
   "outputs": [
    {
     "data": {
      "text/plain": [
       "['h', 'e', 'l', 'l', 'o', ' ', 'w', 'o', 'r', 'l', 'd', ' ', '!']"
      ]
     },
     "execution_count": 135,
     "metadata": {},
     "output_type": "execute_result"
    }
   ],
   "source": [
    "list('hello world !')"
   ]
  },
  {
   "cell_type": "markdown",
   "metadata": {},
   "source": [
    "or more usefully using the `split()` method, which breaks strings up based on spaces."
   ]
  },
  {
   "cell_type": "code",
   "execution_count": 136,
   "metadata": {},
   "outputs": [
    {
     "data": {
      "text/plain": [
       "['Hello', 'World', '!!']"
      ]
     },
     "execution_count": 136,
     "metadata": {},
     "output_type": "execute_result"
    }
   ],
   "source": [
    "'Hello   World !!'.split()"
   ]
  },
  {
   "cell_type": "markdown",
   "metadata": {},
   "source": [
    "### Copying a list"
   ]
  },
  {
   "cell_type": "markdown",
   "metadata": {},
   "source": [
    "Assignment of a list does not imply copying. It simply creates a second reference to the same list. Most of new python programmers get caught out by this initially. Consider the following,"
   ]
  },
  {
   "cell_type": "code",
   "execution_count": 137,
   "metadata": {},
   "outputs": [
    {
     "name": "stdout",
     "output_type": "stream",
     "text": [
      "[2, 1, 4, 3]\n"
     ]
    }
   ],
   "source": [
    "lista= [2,1,4,3]\n",
    "listb = lista\n",
    "print(listb)"
   ]
  },
  {
   "cell_type": "markdown",
   "metadata": {},
   "source": [
    "Here, We have declared a list, `lista = [2,1,4,3]`. This list is copied to `listb` by assigning its value. Now we perform some random operations on `lista`"
   ]
  },
  {
   "cell_type": "code",
   "execution_count": 138,
   "metadata": {},
   "outputs": [
    {
     "name": "stdout",
     "output_type": "stream",
     "text": [
      "A = [1, 2, 3, 9]\n",
      "B = [1, 2, 3, 9]\n"
     ]
    }
   ],
   "source": [
    "lista.sort()\n",
    "lista.pop()\n",
    "lista.append(9)\n",
    "print(\"A =\",lista)\n",
    "print(\"B =\",listb)"
   ]
  },
  {
   "cell_type": "markdown",
   "metadata": {},
   "source": [
    "`listb` has also changed though no operation has been performed on it. This is because in Python **assignment assigns references to the same object, rather than creating copies**. So how do fix this?\n",
    "\n",
    "If you recall, in slicing we had seen that `parentlist[a:b]` returns a list from parent list with start index a and end index b and if a and b is not mentioned then by default it considers the first and last element. We use the same concept here. By doing so, we are assigning the data of lista to listb as a variable."
   ]
  },
  {
   "cell_type": "code",
   "execution_count": 139,
   "metadata": {},
   "outputs": [
    {
     "name": "stdout",
     "output_type": "stream",
     "text": [
      "Starting with:\n",
      "A = [2, 1, 4, 3]\n",
      "B = [2, 1, 4, 3]\n",
      "Finnished with:\n",
      "A = [1, 2, 3, 9]\n",
      "B = [2, 1, 4, 3]\n"
     ]
    }
   ],
   "source": [
    "lista = [2,1,4,3]\n",
    "listb = lista[:] # make a copy by taking a slice from beginning to end\n",
    "print(\"Starting with:\")\n",
    "print(\"A =\",lista)\n",
    "print(\"B =\",listb)\n",
    "lista.sort()\n",
    "lista.pop()\n",
    "lista.append(9)\n",
    "print(\"Finnished with:\")\n",
    "print(\"A =\",lista)\n",
    "print(\"B =\",listb)"
   ]
  },
  {
   "cell_type": "markdown",
   "metadata": {},
   "source": [
    "## List Multiplication"
   ]
  },
  {
   "cell_type": "code",
   "execution_count": 140,
   "metadata": {},
   "outputs": [
    {
     "data": {
      "text/plain": [
       "['a', 1, 'a', 1, 'a', 1]"
      ]
     },
     "execution_count": 140,
     "metadata": {},
     "output_type": "execute_result"
    }
   ],
   "source": [
    "3 * ['a',1]"
   ]
  },
  {
   "cell_type": "code",
   "execution_count": 141,
   "metadata": {},
   "outputs": [
    {
     "data": {
      "text/plain": [
       "['a', 1, 'a', 1, 'a', 1, 'a', 1]"
      ]
     },
     "execution_count": 141,
     "metadata": {},
     "output_type": "execute_result"
    }
   ],
   "source": [
    "['a',1] * 4"
   ]
  },
  {
   "cell_type": "markdown",
   "metadata": {},
   "source": [
    "## List comprehension\n",
    "List comprehension (looping expression) is available in Python as a concise way to create a list (that also applies to Tuples, Sets and Dictionaries as we will see below). It is commonly used where you want to generate a list based on an operation or to create a new sub-list of an existing list.\n",
    "![list-comprehension.png](./img/list-comprehension.png)\n",
    "\n",
    "In general this takes the form of `[ <expression> for <variable> in <List> ]`. That is a new list constructed by taking each element of the given List in turn, assigning it to the variable and then evaluating the expression with this variable assignment."
   ]
  },
  {
   "cell_type": "markdown",
   "metadata": {},
   "source": [
    "Let's compare the list comprehension syntax with what you’ve seen before."
   ]
  },
  {
   "cell_type": "code",
   "execution_count": 142,
   "metadata": {},
   "outputs": [
    {
     "data": {
      "text/plain": [
       "[0, 1, 2, 3, 4, 5, 6, 7, 8, 9]"
      ]
     },
     "execution_count": 142,
     "metadata": {},
     "output_type": "execute_result"
    }
   ],
   "source": [
    "numbers = []\n",
    "for x in range(10):\n",
    "    numbers.append(x)\n",
    "numbers"
   ]
  },
  {
   "cell_type": "markdown",
   "metadata": {},
   "source": [
    "This same code could be written as a list comprehension."
   ]
  },
  {
   "cell_type": "code",
   "execution_count": 143,
   "metadata": {},
   "outputs": [
    {
     "data": {
      "text/plain": [
       "[0, 1, 2, 3, 4, 5, 6, 7, 8, 9]"
      ]
     },
     "execution_count": 143,
     "metadata": {},
     "output_type": "execute_result"
    }
   ],
   "source": [
    "[x for x in range(10)]"
   ]
  },
  {
   "cell_type": "markdown",
   "metadata": {},
   "source": [
    "This is a more straightforward cleaner way to write the list. The list comprehension can also include additional logic. Here's a much more complex example."
   ]
  },
  {
   "cell_type": "code",
   "execution_count": 144,
   "metadata": {},
   "outputs": [
    {
     "data": {
      "text/plain": [
       "[(1, 3), (1, 4), (2, 3), (2, 1), (2, 4), (3, 1), (3, 4)]"
      ]
     },
     "execution_count": 144,
     "metadata": {},
     "output_type": "execute_result"
    }
   ],
   "source": [
    "combination = []\n",
    "for x in [1,2,3]:\n",
    "    for y in [3,1,4]:\n",
    "        if x != y:\n",
    "            combination.append((x,y))\n",
    "combination"
   ]
  },
  {
   "cell_type": "markdown",
   "metadata": {},
   "source": [
    "The above code generates a list of tuples. This can be done in one line:"
   ]
  },
  {
   "cell_type": "code",
   "execution_count": 145,
   "metadata": {},
   "outputs": [
    {
     "data": {
      "text/plain": [
       "[(1, 3), (1, 4), (2, 3), (2, 1), (2, 4), (3, 1), (3, 4)]"
      ]
     },
     "execution_count": 145,
     "metadata": {},
     "output_type": "execute_result"
    }
   ],
   "source": [
    "[(x, y) for x in [1,2,3] for y in [3,1,4] if x != y]"
   ]
  },
  {
   "cell_type": "markdown",
   "metadata": {},
   "source": [
    "This creates a new list resulting from the evaluation of the expression taking the `for` and `if` clauses into consideration. It combines the elements of the two lists if they are not equal. Notice how the `for` and `if` clauses are in the same order in the two examples."
   ]
  },
  {
   "cell_type": "code",
   "execution_count": 146,
   "metadata": {},
   "outputs": [
    {
     "data": {
      "text/plain": [
       "[0, 1, 2, 3, 4, 5, 6, 7, 8, 9]"
      ]
     },
     "execution_count": 146,
     "metadata": {},
     "output_type": "execute_result"
    }
   ],
   "source": [
    "# every natural number\n",
    "[i for i in range(10)]"
   ]
  },
  {
   "cell_type": "code",
   "execution_count": 147,
   "metadata": {},
   "outputs": [
    {
     "data": {
      "text/plain": [
       "[0, 2, 4, 6, 8, 10]"
      ]
     },
     "execution_count": 147,
     "metadata": {},
     "output_type": "execute_result"
    }
   ],
   "source": [
    "# every second natural number\n",
    "[i for i in range(0,11,2)]"
   ]
  },
  {
   "cell_type": "code",
   "execution_count": 148,
   "metadata": {},
   "outputs": [
    {
     "data": {
      "text/plain": [
       "[0, 1, 4, 9, 16, 25, 36, 49]"
      ]
     },
     "execution_count": 148,
     "metadata": {},
     "output_type": "execute_result"
    }
   ],
   "source": [
    "# squared numbers\n",
    "[x**2 for x in range(0,8)]"
   ]
  },
  {
   "cell_type": "code",
   "execution_count": 149,
   "metadata": {},
   "outputs": [
    {
     "data": {
      "text/plain": [
       "[(0, 1), (1, 2), (2, 3), (3, 4), (4, 5)]"
      ]
     },
     "execution_count": 149,
     "metadata": {},
     "output_type": "execute_result"
    }
   ],
   "source": [
    "# list of Tupels of number pairs\n",
    "[((i,(i+1))) for i in range(5)]"
   ]
  },
  {
   "cell_type": "code",
   "execution_count": 150,
   "metadata": {},
   "outputs": [
    {
     "data": {
      "text/plain": [
       "['woohoo', 'woohoo', 'woohoo', 'woohoo', 'woohoo', 'woohoo', 'woohoo']"
      ]
     },
     "execution_count": 150,
     "metadata": {},
     "output_type": "execute_result"
    }
   ],
   "source": [
    "# repeat a string 7 times in a new list\n",
    "['woohoo' for i in range(7)]"
   ]
  },
  {
   "cell_type": "code",
   "execution_count": 151,
   "metadata": {},
   "outputs": [
    {
     "data": {
      "text/plain": [
       "['h', 'e', 'l', 'l', 'o', ' ', 'w', 'o', 'r', 'l', 'd']"
      ]
     },
     "execution_count": 151,
     "metadata": {},
     "output_type": "execute_result"
    }
   ],
   "source": [
    "# list of letters of a string\n",
    "[i for i in 'hello world']"
   ]
  },
  {
   "cell_type": "code",
   "execution_count": 152,
   "metadata": {},
   "outputs": [
    {
     "data": {
      "text/plain": [
       "[('A', 'D'),\n",
       " ('A', 'E'),\n",
       " ('A', 'F'),\n",
       " ('B', 'D'),\n",
       " ('B', 'E'),\n",
       " ('B', 'F'),\n",
       " ('C', 'D'),\n",
       " ('C', 'E'),\n",
       " ('C', 'F')]"
      ]
     },
     "execution_count": 152,
     "metadata": {},
     "output_type": "execute_result"
    }
   ],
   "source": [
    "# generate list of Tuples\n",
    "ab = 'ABCDEF'\n",
    "[(ab[i],ab[j]) for i in range(0,3) for j in range(3,6)]"
   ]
  },
  {
   "cell_type": "code",
   "execution_count": 153,
   "metadata": {},
   "outputs": [
    {
     "data": {
      "text/plain": [
       "[1, 4, 9]"
      ]
     },
     "execution_count": 153,
     "metadata": {},
     "output_type": "execute_result"
    }
   ],
   "source": [
    "[i**2 for i in [1,2,3]]"
   ]
  },
  {
   "cell_type": "markdown",
   "metadata": {},
   "source": [
    "As can be seen this constructs a new list by taking each element of the original `[1,2,3]` and squaring it. We can have multiple such implied loops to get for example:"
   ]
  },
  {
   "cell_type": "code",
   "execution_count": 154,
   "metadata": {},
   "outputs": [
    {
     "data": {
      "text/plain": [
       "[15, 17, 25, 27, 35, 37]"
      ]
     },
     "execution_count": 154,
     "metadata": {},
     "output_type": "execute_result"
    }
   ],
   "source": [
    "[10*i+j for i in [1,2,3] for j in [5,7]]"
   ]
  },
  {
   "cell_type": "markdown",
   "metadata": {},
   "source": [
    "Finally the looping can be filtered using an **if** expression with the **for** - **in** construct."
   ]
  },
  {
   "cell_type": "code",
   "execution_count": 155,
   "metadata": {},
   "outputs": [
    {
     "data": {
      "text/plain": [
       "[15, 17, 37]"
      ]
     },
     "execution_count": 155,
     "metadata": {},
     "output_type": "execute_result"
    }
   ],
   "source": [
    "[10*i+j for i in [1,2,3] if i%2==1 for j in [4,5,7] if j >= i+4] # keep odd i and  j larger than i+3 only"
   ]
  },
  {
   "cell_type": "markdown",
   "metadata": {},
   "source": [
    "## Nested Data Structures\n",
    "If we look at the list comprehensions in the last unit, we can use another list comprehension as the initial expression. \n",
    "![nested-data-structure.png](./img/nested-data-structure.png)\n",
    "This is called nesting.\n",
    "\n",
    "Let's look at the runnable example to see how this works if we start with a list of lists where there are three lists of length four. If we wanted to write code to transpose this into a list of lists where there are four lists of length three then we would need quite a complicated nested for loop."
   ]
  },
  {
   "cell_type": "code",
   "execution_count": 156,
   "metadata": {},
   "outputs": [
    {
     "name": "stdout",
     "output_type": "stream",
     "text": [
      "[11, 15, 19]\n",
      "[12, 16, 20]\n",
      "[13, 17, 21]\n",
      "[14, 18, 22]\n"
     ]
    }
   ],
   "source": [
    "matrix = [\n",
    "    [11, 12, 13, 14],\n",
    "    [15, 16, 17, 18],\n",
    "    [19, 20, 21, 22],]\n",
    "transposed = []\n",
    "for i in range(4):\n",
    "    transposed_row = []\n",
    "    for row in matrix:\n",
    "        transposed_row.append(row[i])\n",
    "    transposed.append(transposed_row)\n",
    "    print(transposed_row)"
   ]
  },
  {
   "cell_type": "markdown",
   "metadata": {},
   "source": [
    "This is quite a lot of code, but you can see there is an empty list outside the for loop but then another empty list nested within in the for loop. Each new list of 3 is created and then appended to the empty list."
   ]
  },
  {
   "cell_type": "code",
   "execution_count": 157,
   "metadata": {},
   "outputs": [
    {
     "data": {
      "text/plain": [
       "[[11, 15, 19], [12, 16, 20], [13, 17, 21], [14, 18, 22]]"
      ]
     },
     "execution_count": 157,
     "metadata": {},
     "output_type": "execute_result"
    }
   ],
   "source": [
    "[[row[i] for row in matrix] for i in range(4)]"
   ]
  },
  {
   "cell_type": "markdown",
   "metadata": {},
   "source": [
    "# 06 Data structures: Tuples\n",
    "![tuple.png](./img/tuple.png)\n",
    "Tuples are similar to lists but only big difference is the elements in a tuple cannot be changed. Tuples are the natural extension of ordered pairs, triplets etc in mathematics.\n",
    "\n",
    "It can contain duplicate items. Those items can be of different types such as strings, integers, floats or even another tuple.\n",
    "\n",
    "Creating a tuple is referred to as **packing**. So when you want to get the values back, it is referred to as **unpacking**. It is also possible to get a value with indexing.\n",
    "\n",
    "* A tuple can be created by separating values with commas between parentheses:"
   ]
  },
  {
   "cell_type": "code",
   "execution_count": 158,
   "metadata": {},
   "outputs": [
    {
     "data": {
      "text/plain": [
       "(1, 2, 3)"
      ]
     },
     "execution_count": 158,
     "metadata": {},
     "output_type": "execute_result"
    }
   ],
   "source": [
    "1,2,3"
   ]
  },
  {
   "cell_type": "markdown",
   "metadata": {},
   "source": [
    "* An empty tuple is created with empty parentheses: "
   ]
  },
  {
   "cell_type": "code",
   "execution_count": 159,
   "metadata": {},
   "outputs": [
    {
     "data": {
      "text/plain": [
       "()"
      ]
     },
     "execution_count": 159,
     "metadata": {},
     "output_type": "execute_result"
    }
   ],
   "source": [
    "() # empty, zero-length tuple"
   ]
  },
  {
   "cell_type": "markdown",
   "metadata": {},
   "source": [
    "* or with the `tuple( )` object constructor"
   ]
  },
  {
   "cell_type": "code",
   "execution_count": 160,
   "metadata": {},
   "outputs": [
    {
     "data": {
      "text/plain": [
       "()"
      ]
     },
     "execution_count": 160,
     "metadata": {},
     "output_type": "execute_result"
    }
   ],
   "source": [
    "tuple() # also, empty, zero-length tuple"
   ]
  },
  {
   "cell_type": "markdown",
   "metadata": {},
   "source": [
    "* A singleton tuple is one value with a trailing comma:"
   ]
  },
  {
   "cell_type": "code",
   "execution_count": 161,
   "metadata": {},
   "outputs": [
    {
     "data": {
      "text/plain": [
       "(42,)"
      ]
     },
     "execution_count": 161,
     "metadata": {},
     "output_type": "execute_result"
    }
   ],
   "source": [
    "42,"
   ]
  },
  {
   "cell_type": "markdown",
   "metadata": {},
   "source": [
    "So why choose a tuple over a list? As it is not changeable, it can be used where you have a constant set of values. Use one where you do not intend to change the data set. A tuple can be used as a dictionary key, unlike a list. Tuples are also more memory efficient.\n",
    "\n",
    "To show how this works consider the following code working with cartesian coordinates in the plane:"
   ]
  },
  {
   "cell_type": "code",
   "execution_count": 162,
   "metadata": {},
   "outputs": [
    {
     "name": "stdout",
     "output_type": "stream",
     "text": [
      "(1, 0, 0)\n",
      "<class 'tuple'>\n"
     ]
    }
   ],
   "source": [
    "origin = (0.0,0.0,0.0)\n",
    "x = origin\n",
    "# x[1] = 1 # can't do something like this as it would change the origin\n",
    "x = (1, 0, 0) # perfectly OK\n",
    "print(x)\n",
    "print(type(x))"
   ]
  },
  {
   "cell_type": "markdown",
   "metadata": {},
   "source": [
    "`21` when multiplied by `2` yields `42`, but when multiplied with a tuple the data is repeated twice."
   ]
  },
  {
   "cell_type": "code",
   "execution_count": 163,
   "metadata": {},
   "outputs": [
    {
     "data": {
      "text/plain": [
       "(21, 21)"
      ]
     },
     "execution_count": 163,
     "metadata": {},
     "output_type": "execute_result"
    }
   ],
   "source": [
    "2*(21,)"
   ]
  },
  {
   "cell_type": "markdown",
   "metadata": {},
   "source": [
    "Values can be assigned while declaring a tuple. It takes a list as input and converts it into a tuple:"
   ]
  },
  {
   "cell_type": "code",
   "execution_count": 164,
   "metadata": {},
   "outputs": [
    {
     "data": {
      "text/plain": [
       "(1, 2, 3)"
      ]
     },
     "execution_count": 164,
     "metadata": {},
     "output_type": "execute_result"
    }
   ],
   "source": [
    "tuple([1,2,3])"
   ]
  },
  {
   "cell_type": "markdown",
   "metadata": {},
   "source": [
    " it can take a string and convert it into a tuple:"
   ]
  },
  {
   "cell_type": "code",
   "execution_count": 165,
   "metadata": {
    "scrolled": true
   },
   "outputs": [
    {
     "data": {
      "text/plain": [
       "('H', 'e', 'l', 'l', 'o')"
      ]
     },
     "execution_count": 165,
     "metadata": {},
     "output_type": "execute_result"
    }
   ],
   "source": [
    "tuple('Hello')"
   ]
  },
  {
   "cell_type": "markdown",
   "metadata": {},
   "source": [
    "It follows the same indexing and slicing as Lists."
   ]
  },
  {
   "cell_type": "code",
   "execution_count": 166,
   "metadata": {},
   "outputs": [
    {
     "data": {
      "text/plain": [
       "7"
      ]
     },
     "execution_count": 166,
     "metadata": {},
     "output_type": "execute_result"
    }
   ],
   "source": [
    "(3,5,7)[2]"
   ]
  },
  {
   "cell_type": "code",
   "execution_count": 167,
   "metadata": {},
   "outputs": [
    {
     "data": {
      "text/plain": [
       "(5, 7)"
      ]
     },
     "execution_count": 167,
     "metadata": {},
     "output_type": "execute_result"
    }
   ],
   "source": [
    "(3,5,7)[1:3]"
   ]
  },
  {
   "cell_type": "markdown",
   "metadata": {},
   "source": [
    "### Mapping one tuple to another\n",
    "Tupples can be used as the left hand side of assignments and are matched to the correct right hand side elements - assuming they have the right length"
   ]
  },
  {
   "cell_type": "code",
   "execution_count": 168,
   "metadata": {},
   "outputs": [
    {
     "name": "stdout",
     "output_type": "stream",
     "text": [
      "alpha beta gamma\n"
     ]
    }
   ],
   "source": [
    "(a,b,c)= ('alpha','beta','gamma') # parentheses are optional\n",
    "a,b,c= 'alpha','beta','gamma' # The same as the above\n",
    "print(a,b,c)"
   ]
  },
  {
   "cell_type": "code",
   "execution_count": 169,
   "metadata": {},
   "outputs": [
    {
     "name": "stdout",
     "output_type": "stream",
     "text": [
      "Alpha Beta Gamma\n"
     ]
    }
   ],
   "source": [
    "a,b,c = ['Alpha','Beta','Gamma'] # can assign lists\n",
    "print(a,b,c)"
   ]
  },
  {
   "cell_type": "code",
   "execution_count": 170,
   "metadata": {},
   "outputs": [
    {
     "name": "stdout",
     "output_type": "stream",
     "text": [
      "this is ok\n"
     ]
    }
   ],
   "source": [
    "[a,b,c]=('this','is','ok') # even this is OK\n",
    "print(a,b,c)"
   ]
  },
  {
   "cell_type": "markdown",
   "metadata": {},
   "source": [
    "More complex nexted unpackings of values are also possible"
   ]
  },
  {
   "cell_type": "code",
   "execution_count": 171,
   "metadata": {},
   "outputs": [
    {
     "name": "stdout",
     "output_type": "stream",
     "text": [
      "1 2 3 4\n"
     ]
    }
   ],
   "source": [
    "(w,(x,y),z)=(1,(2,3),4)\n",
    "print(w,x,y,z)"
   ]
  },
  {
   "cell_type": "code",
   "execution_count": 172,
   "metadata": {},
   "outputs": [
    {
     "name": "stdout",
     "output_type": "stream",
     "text": [
      "1 (2, 3) 4\n"
     ]
    }
   ],
   "source": [
    "(w,xy,z)=(1,(2,3),4)\n",
    "print(w,xy,z) # notice that xy is now a tuple"
   ]
  },
  {
   "cell_type": "markdown",
   "metadata": {},
   "source": [
    "### Built In Tuple Methods"
   ]
  },
  {
   "cell_type": "markdown",
   "metadata": {},
   "source": [
    "`count()` function counts the number of specified element that is present in the tuple."
   ]
  },
  {
   "cell_type": "code",
   "execution_count": 173,
   "metadata": {},
   "outputs": [
    {
     "data": {
      "text/plain": [
       "3"
      ]
     },
     "execution_count": 173,
     "metadata": {},
     "output_type": "execute_result"
    }
   ],
   "source": [
    "d=tuple('a string with many \"a\"s')\n",
    "d.count('a')"
   ]
  },
  {
   "cell_type": "markdown",
   "metadata": {},
   "source": [
    "`index()` function returns the index of the specified element. If the elements are more than one then the index of the first element of that specified element is returned"
   ]
  },
  {
   "cell_type": "code",
   "execution_count": 174,
   "metadata": {},
   "outputs": [
    {
     "data": {
      "text/plain": [
       "0"
      ]
     },
     "execution_count": 174,
     "metadata": {},
     "output_type": "execute_result"
    }
   ],
   "source": [
    "d.index('a')"
   ]
  },
  {
   "cell_type": "markdown",
   "metadata": {},
   "source": [
    "Note that many of the other list functions such as `min()`, `max()`, `sum()` and `sorted()`, as well as the operator `in`, also work for tuples in the expected way."
   ]
  },
  {
   "cell_type": "markdown",
   "metadata": {},
   "source": [
    "# 07 Data structures: Dictionaries\n",
    "A dictionary is another useful Python data type. It is similar in concept to a dictionary of written language. If we want to know the meaning of 'immutable' in English for example, we would look it up in an English dictionary and get the derivation \"adjective: unchanging over time or unable to be changed.\"\n",
    "![dictionary.png](./img/dictionary.png)\n",
    "Dictionaries allow us to take things a step further when it comes to storing information in a collection. Dictionaries will enable us to use what are called key/value pairs. In the example above, 'immutable' is the key, and its derivation is the value. When using a dictionary in Python, we define our key/value pairs enclosed in curly braces `{ }`. After that, we use a string as our key or any other immutable data type. Then we use a colon to separate the key from the value, and then we have the value.\n",
    "\n",
    "Dictionaries are mappings between keys and items stored in the dictionaries. Alternatively one can think of dictionaries as sets in which something stored against every element of the set. They can be defined as follows:\n",
    "\n",
    "To define a dictionary, equate a variable to `{ }` or `dict()`"
   ]
  },
  {
   "cell_type": "code",
   "execution_count": 175,
   "metadata": {},
   "outputs": [
    {
     "name": "stdout",
     "output_type": "stream",
     "text": [
      "<class 'dict'>\n",
      "{'abc': 3, 4: 'A string'}\n"
     ]
    }
   ],
   "source": [
    "d = dict() # or equivalently d={}\n",
    "print(type(d))\n",
    "d['abc'] = 3\n",
    "d[4] = \"A string\"\n",
    "print(d)"
   ]
  },
  {
   "cell_type": "markdown",
   "metadata": {},
   "source": [
    "As can be guessed from the output above, Dictionaries can be defined by using the `{ key : value }` syntax. The following dictionary has three elements"
   ]
  },
  {
   "cell_type": "code",
   "execution_count": 176,
   "metadata": {},
   "outputs": [
    {
     "data": {
      "text/plain": [
       "3"
      ]
     },
     "execution_count": 176,
     "metadata": {},
     "output_type": "execute_result"
    }
   ],
   "source": [
    "d = { 1: 'One', 2 : 'Two', 100 : 'Hundred'}\n",
    "len(d)"
   ]
  },
  {
   "cell_type": "markdown",
   "metadata": {},
   "source": [
    "Now you are able to access `'One'` by the index value set at `1`"
   ]
  },
  {
   "cell_type": "code",
   "execution_count": 177,
   "metadata": {},
   "outputs": [
    {
     "name": "stdout",
     "output_type": "stream",
     "text": [
      "One\n"
     ]
    }
   ],
   "source": [
    "print(d[1])"
   ]
  },
  {
   "cell_type": "markdown",
   "metadata": {},
   "source": [
    "You would choose a dictionary as a data structure when you have values you want to associate with a key. For example, if you want to map a phone number to a name. A dictionary is very efficient to search as you have the key. Lists are on the other hand, much slower to search.\n",
    "\n",
    "In this case, we have a dictionary called user. This dictionary has four keys (username, first_name, last_name, and age). Each of these keys has a value associated with it `(“tombombadil”, “Tom”, “Bombadil”, 100)`.\n",
    "\n",
    "As you can see in the runnable example, you can access a value `100` by using the key `age` in square brackets. You can assign a new key/value pair with the same syntax for the key `home` and the assignment operator equals for the value `Withywindle, Middle-Earth` The same syntax with an existing key `age` changes the value `99`. To delete a key/value pair use `del` and the key. To list the keys in the dictionary, you can use `list()` or `sorted()` but if you just want to know if a key exists within the dictionary, use the `in` keyword."
   ]
  },
  {
   "cell_type": "code",
   "execution_count": 178,
   "metadata": {},
   "outputs": [
    {
     "name": "stdout",
     "output_type": "stream",
     "text": [
      "{'username': 'tombombadil', 'first_name': 'Tom', 'last_name': 'Bombadil', 'age': 100}\n",
      "100\n"
     ]
    }
   ],
   "source": [
    "user = {\n",
    "    \"username\": \"tombombadil\",\n",
    "    \"first_name\": \"Tom\",\n",
    "    \"last_name\": \"Bombadil\",\n",
    "    \"age\": 100\n",
    "}\n",
    "print(user)\n",
    "print(user['age'])"
   ]
  },
  {
   "cell_type": "code",
   "execution_count": 179,
   "metadata": {},
   "outputs": [
    {
     "name": "stdout",
     "output_type": "stream",
     "text": [
      "{'username': 'tombombadil', 'first_name': 'Tom', 'last_name': 'Bombadil', 'age': 99, 'home': 'Withywindle, Middle-Earth'}\n"
     ]
    }
   ],
   "source": [
    "user['home'] = 'Withywindle, Middle-Earth'\n",
    "user['age'] = 99\n",
    "print(user)"
   ]
  },
  {
   "cell_type": "code",
   "execution_count": 180,
   "metadata": {},
   "outputs": [
    {
     "name": "stdout",
     "output_type": "stream",
     "text": [
      "{'username': 'tombombadil', 'first_name': 'Tom', 'last_name': 'Bombadil', 'age': 99}\n"
     ]
    }
   ],
   "source": [
    "del user['home'] \n",
    "print(user)"
   ]
  },
  {
   "cell_type": "code",
   "execution_count": 181,
   "metadata": {},
   "outputs": [
    {
     "name": "stdout",
     "output_type": "stream",
     "text": [
      "['username', 'first_name', 'last_name', 'age']\n",
      "['age', 'first_name', 'last_name', 'username']\n",
      "{'username': 'tombombadil', 'first_name': 'Tom', 'last_name': 'Bombadil', 'age': 99}\n"
     ]
    }
   ],
   "source": [
    "print(list(user))\n",
    "print(sorted(user))\n",
    "print(user)"
   ]
  },
  {
   "cell_type": "code",
   "execution_count": 182,
   "metadata": {},
   "outputs": [
    {
     "name": "stdout",
     "output_type": "stream",
     "text": [
      "True\n"
     ]
    }
   ],
   "source": [
    "print('username' in user)"
   ]
  },
  {
   "cell_type": "markdown",
   "metadata": {},
   "source": [
    "There are a number of alternative ways for specifying a dictionary including as a list of `(key,value)` tuples.\n",
    "To illustrate this we will start with two lists and form a set of tuples from them using the **zip()** function\n",
    "Two lists which are related can be merged to form a dictionary."
   ]
  },
  {
   "cell_type": "code",
   "execution_count": 183,
   "metadata": {},
   "outputs": [
    {
     "data": {
      "text/plain": [
       "[('One', 1), ('Two', 2), ('Three', 3), ('Four', 4), ('Five', 5)]"
      ]
     },
     "execution_count": 183,
     "metadata": {},
     "output_type": "execute_result"
    }
   ],
   "source": [
    "names = ['One', 'Two', 'Three', 'Four', 'Five']\n",
    "numbers = [1, 2, 3, 4, 5]\n",
    "[ (name,number) for name,number in zip(names,numbers)] # create (name,number) pairs"
   ]
  },
  {
   "cell_type": "markdown",
   "metadata": {},
   "source": [
    "Now we can create a dictionary that maps the name to the number as follows."
   ]
  },
  {
   "cell_type": "code",
   "execution_count": 184,
   "metadata": {},
   "outputs": [
    {
     "name": "stdout",
     "output_type": "stream",
     "text": [
      "{'One': 1, 'Two': 2, 'Three': 3, 'Four': 4, 'Five': 5}\n"
     ]
    }
   ],
   "source": [
    "a1 = dict((name,number) for name,number in zip(names,numbers))\n",
    "print(a1)"
   ]
  },
  {
   "cell_type": "markdown",
   "metadata": {},
   "source": [
    "Note that the ordering for this dictionary is not based on the order in which elements are added but on its own ordering (based on hash index ordering). It is best never to assume an ordering when iterating over elements of a dictionary.\n",
    "\n",
    "**Note:** Any value used as a key must be _immutable_. That means that _tuples_ can be used as keys (because they can't be changed) but lists are not allowed. As an aside for more advanced readers, arbitrary objects can be used as keys -- but in this case the object reference (address) is used as a key, not the \"value\" of the object.\n",
    "\n",
    "The use of tuples as keys is very common and allows for a (sparse) matrix type data structure:"
   ]
  },
  {
   "cell_type": "code",
   "execution_count": 185,
   "metadata": {},
   "outputs": [
    {
     "name": "stdout",
     "output_type": "stream",
     "text": [
      "{(0, 1): 3.5, (2, 17): 0.1, (2, 2): 3.6}\n"
     ]
    }
   ],
   "source": [
    "matrix={ (0,1): 3.5, (2,17): 0.1}\n",
    "matrix[2,2] = matrix[0,1] + matrix[2,17]\n",
    "# matrix[2,2] is equivalent to matrix[ (2,2) ]\n",
    "print(matrix)"
   ]
  },
  {
   "cell_type": "markdown",
   "metadata": {},
   "source": [
    "Dictionary can also be built using the list comprehension style definition."
   ]
  },
  {
   "cell_type": "code",
   "execution_count": 186,
   "metadata": {},
   "outputs": [
    {
     "name": "stdout",
     "output_type": "stream",
     "text": [
      "{'One': 3, 'Two': 3, 'Three': 5, 'Four': 4, 'Five': 4}\n"
     ]
    }
   ],
   "source": [
    "a2 = { name : len(name) for name in names}\n",
    "print(a2)"
   ]
  },
  {
   "cell_type": "markdown",
   "metadata": {},
   "source": [
    "## Getting and Setting Dictionary Items\n",
    "A dictionary can be thought of as a mapping between indexes (known as keys) and values. Each key must be unique and unchanging as that key maps to a particular value. The value can be any type of object and can appear in the same dictionary multiple times. This association is called a key:value pair or an item. The order of a dictionary is not fixed. It does not have an index as a list has. Two people creating the same dictionary on different computers might get a different order of items. To get the value of a dictionary, you have to use the key.\n",
    "![dictionary-items.png](./img/dictionary-items.png)\n",
    "This time in the runnable example, we have created our dictionary with default values of empty strings. In this case, we have used the `dict()` function, which can create dictionaries from lists. The `fromkeys()` method is used to specify the keys list as the keys and a variable of an empty string as the values."
   ]
  },
  {
   "cell_type": "code",
   "execution_count": 187,
   "metadata": {},
   "outputs": [
    {
     "name": "stdout",
     "output_type": "stream",
     "text": [
      "{'username': '', 'first_name': '', 'last_name': '', 'age': ''}\n"
     ]
    }
   ],
   "source": [
    "keys = ['username', 'first_name', 'last_name', 'age']\n",
    "default_value = ''\n",
    "user = dict.fromkeys(keys, default_value)\n",
    "print(user)"
   ]
  },
  {
   "cell_type": "markdown",
   "metadata": {},
   "source": [
    "To set a value, you can use the items key in square bracket notation and the assignment operator with a value. The default values are all overridden with the new values."
   ]
  },
  {
   "cell_type": "code",
   "execution_count": 188,
   "metadata": {},
   "outputs": [
    {
     "name": "stdout",
     "output_type": "stream",
     "text": [
      "{'username': 'tombombadil', 'first_name': 'Tom', 'last_name': 'Bombadil', 'age': 100}\n"
     ]
    }
   ],
   "source": [
    "user['username'] = 'tombombadil'\n",
    "user['first_name'] = 'Tom'\n",
    "user['last_name'] = 'Bombadil'\n",
    "user['age'] = 100\n",
    "print(user)"
   ]
  },
  {
   "cell_type": "markdown",
   "metadata": {},
   "source": [
    "To get a value, you can use the same notation without the assignment. Here we have printed the age of `100`. However, if we attempted to get the value of a nonexistent key, then an error would occur. To avoid this you can use the `get()` method which will get the value if the key exists and return `None` if it does not. More methods will be covered in the next unit."
   ]
  },
  {
   "cell_type": "code",
   "execution_count": 189,
   "metadata": {},
   "outputs": [
    {
     "name": "stdout",
     "output_type": "stream",
     "text": [
      "100\n"
     ]
    }
   ],
   "source": [
    "print(user['age'])"
   ]
  },
  {
   "cell_type": "markdown",
   "metadata": {},
   "source": [
    "As key `home` returns `None` lets add a `key:value` pair. The same syntax is used as when we were setting the `username`, `first_name`, `last_name` and `age` values. As `home` key is new, it is added to the dictionary with its value. As the `age` key already exists, the value is changed from `100` to `99`. "
   ]
  },
  {
   "cell_type": "code",
   "execution_count": 190,
   "metadata": {},
   "outputs": [
    {
     "name": "stdout",
     "output_type": "stream",
     "text": [
      "doesn't exist\n",
      "{'username': 'tombombadil', 'first_name': 'Tom', 'last_name': 'Bombadil', 'age': 99, 'home': 'Withywindle, Middle-Earth'}\n"
     ]
    }
   ],
   "source": [
    "print(user.get('home', \"doesn't exist\"))\n",
    "user['home'] = 'Withywindle, Middle-Earth'\n",
    "user['age'] = 99\n",
    "print(user)"
   ]
  },
  {
   "cell_type": "markdown",
   "metadata": {},
   "source": [
    "If we delete a key the value is deleted with it."
   ]
  },
  {
   "cell_type": "code",
   "execution_count": 191,
   "metadata": {},
   "outputs": [
    {
     "name": "stdout",
     "output_type": "stream",
     "text": [
      "{'username': 'tombombadil', 'first_name': 'Tom', 'last_name': 'Bombadil', 'age': 99}\n"
     ]
    }
   ],
   "source": [
    "del user['home'] \n",
    "print(user)"
   ]
  },
  {
   "cell_type": "markdown",
   "metadata": {},
   "source": [
    "If we want to get a list of the keys only, you can use the `keys()` method and wrap that in a `list()` function. The same syntax but using `values` or `items` will get a list of the dictionary values or items instead."
   ]
  },
  {
   "cell_type": "code",
   "execution_count": 192,
   "metadata": {},
   "outputs": [
    {
     "name": "stdout",
     "output_type": "stream",
     "text": [
      "['username', 'first_name', 'last_name', 'age']\n",
      "['tombombadil', 'Tom', 'Bombadil', 99]\n",
      "dict_items([('username', 'tombombadil'), ('first_name', 'Tom'), ('last_name', 'Bombadil'), ('age', 99)])\n"
     ]
    }
   ],
   "source": [
    "print(list(user.keys()))\n",
    "print(list(user.values()))\n",
    "print(user.items())"
   ]
  },
  {
   "cell_type": "markdown",
   "metadata": {},
   "source": [
    "## Dictionary Methods\n",
    "The dictionary object has many methods. Some are used to create dictionaries, some to update them and some to get items from them. We used the `get(keyname, None)` method in the last unit as it returns `None` (or a specified default) instead of giving an error. If you wanted to merge two dictionaries, then the `update()` method could be used. However, in cases where both dictionaries have the same key, the values will be blindly overwritten. The `pop()` method is useful to remove a value when you know the key. To remove the last inserted item, then the `popitem()` method will do that. To remove all items, then the `clear()` method will do the job. Methods that alter the dictionary return None as default.\n",
    "\n",
    "|Method\t|Description|\n",
    "|:-|:-|\n",
    "|clear()\t|Removes all the elements from the dictionary\n",
    "|copy()\t|Returns a copy of the dictionary\n",
    "|fromkeys()\t|Returns a new dictionary with the specified keys and value\n",
    "|get(keyname, value)\t|Returns the value of the specified keyname. Used in the previous unit. Returns default None if the |keyname doesn't exist unless you override this default with a optional value.\n",
    "|items()\t|Returns a list containing a tuple for each key:value pair\n",
    "|keys()\t|Returns a list containing the dictionary's keys. Used in the previous unit.\n",
    "|pop()\t|Removes the element with the specified key\n",
    "|popitem()\t|Removes the last inserted key:value pair\n",
    "|setdefault()\t|Returns the value of the specified key. If the key does not exist: insert the key, with the specified value\n",
    "|update()\t|Updates the dictionary with the specified key:value pairs\n",
    "|values()\t|Returns a list of all the values in the dictionary. Used in the previous unit.\n",
    "\n",
    ">Note that methods which alter the dictionary `clear()` and `update()` return `None` when printed. Methods that do not return any value return `None` as default in Python. Other methods like `items()`, `get()` and `popitem()` return items."
   ]
  },
  {
   "cell_type": "code",
   "execution_count": 193,
   "metadata": {},
   "outputs": [
    {
     "name": "stdout",
     "output_type": "stream",
     "text": [
      "{'username': 'tombombadil', 'first_name': 'Tom', 'last_name': 'Bombadil', 'age': 100}\n",
      "dict_items([('username', 'tombombadil'), ('first_name', 'Tom'), ('last_name', 'Bombadil'), ('age', 100)])\n"
     ]
    }
   ],
   "source": [
    "user = {\n",
    "    \"username\": \"tombombadil\",\n",
    "    \"first_name\": \"Tom\",\n",
    "    \"last_name\": \"Bombadil\",\n",
    "    \"age\": 100\n",
    "}\n",
    "print(user)\n",
    "print(user.items())"
   ]
  },
  {
   "cell_type": "markdown",
   "metadata": {},
   "source": [
    "In the `get()` method for `age`, an optional value of `0` has been included so that will be returned rather than `None` if no `age` value is in the dictionary. "
   ]
  },
  {
   "cell_type": "code",
   "execution_count": 194,
   "metadata": {},
   "outputs": [
    {
     "name": "stdout",
     "output_type": "stream",
     "text": [
      "100\n"
     ]
    }
   ],
   "source": [
    "print(user.get('age', 0))"
   ]
  },
  {
   "cell_type": "markdown",
   "metadata": {},
   "source": [
    "The `update()` takes another dictionary and adds it to the existing one. If the key had already existed in the user dictionary, then its value would have been overwritten. "
   ]
  },
  {
   "cell_type": "code",
   "execution_count": 195,
   "metadata": {},
   "outputs": [
    {
     "name": "stdout",
     "output_type": "stream",
     "text": [
      "{'username': 'tombombadil', 'first_name': 'Tom', 'last_name': 'Bombadil', 'age': 100, 'home': 'Withywindle, Middle-Earth'}\n"
     ]
    }
   ],
   "source": [
    "user.update({'home': 'Withywindle, Middle-Earth'})\n",
    "print(user)"
   ]
  },
  {
   "cell_type": "markdown",
   "metadata": {},
   "source": [
    "The `popitem()` in this case, removes the `home` key and its associated value as they were the last to be added. "
   ]
  },
  {
   "cell_type": "code",
   "execution_count": 196,
   "metadata": {},
   "outputs": [
    {
     "name": "stdout",
     "output_type": "stream",
     "text": [
      "('home', 'Withywindle, Middle-Earth')\n",
      "{'username': 'tombombadil', 'first_name': 'Tom', 'last_name': 'Bombadil', 'age': 100}\n"
     ]
    }
   ],
   "source": [
    "print(user.popitem())\n",
    "print(user)"
   ]
  },
  {
   "cell_type": "markdown",
   "metadata": {},
   "source": [
    "The `clear()` method removes all `key:value` pairs from the dictionary leaving an empty dictionary."
   ]
  },
  {
   "cell_type": "code",
   "execution_count": 197,
   "metadata": {},
   "outputs": [
    {
     "name": "stdout",
     "output_type": "stream",
     "text": [
      "{}\n"
     ]
    }
   ],
   "source": [
    "user.clear()\n",
    "print(user)"
   ]
  },
  {
   "cell_type": "markdown",
   "metadata": {},
   "source": [
    "### Built-in Functions"
   ]
  },
  {
   "cell_type": "markdown",
   "metadata": {},
   "source": [
    "The `len()` function and `in` operator have the obvious meaning:"
   ]
  },
  {
   "cell_type": "code",
   "execution_count": 198,
   "metadata": {},
   "outputs": [
    {
     "name": "stdout",
     "output_type": "stream",
     "text": [
      "a1 has 5 elements\n",
      "One is in a1 True but not 2: False\n"
     ]
    }
   ],
   "source": [
    "print(\"a1 has\",len(a1),\"elements\")\n",
    "print(\"One is in a1\",'One' in a1,\"but not 2:\", 2 in a1) # 'in' checks keys only"
   ]
  },
  {
   "cell_type": "markdown",
   "metadata": {},
   "source": [
    "The `clear( )` function is used to erase all elements."
   ]
  },
  {
   "cell_type": "code",
   "execution_count": 199,
   "metadata": {},
   "outputs": [
    {
     "name": "stdout",
     "output_type": "stream",
     "text": [
      "{}\n"
     ]
    }
   ],
   "source": [
    "a2.clear()\n",
    "print(a2)"
   ]
  },
  {
   "cell_type": "markdown",
   "metadata": {},
   "source": [
    "The `values( )` function returns a list with all the assigned values in the dictionary. (Acutally not quit a list, but something that we can iterate over just like a list to construct a list, tuple or any other collection):"
   ]
  },
  {
   "cell_type": "code",
   "execution_count": 200,
   "metadata": {},
   "outputs": [
    {
     "data": {
      "text/plain": [
       "[1, 2, 3, 4, 5]"
      ]
     },
     "execution_count": 200,
     "metadata": {},
     "output_type": "execute_result"
    }
   ],
   "source": [
    "[ v for v in a1.values() ]"
   ]
  },
  {
   "cell_type": "markdown",
   "metadata": {},
   "source": [
    "`keys( )` function returns all the index or the keys to which contains the values that it was assigned to."
   ]
  },
  {
   "cell_type": "code",
   "execution_count": 201,
   "metadata": {},
   "outputs": [
    {
     "data": {
      "text/plain": [
       "{'Five', 'Four', 'One', 'Three', 'Two'}"
      ]
     },
     "execution_count": 201,
     "metadata": {},
     "output_type": "execute_result"
    }
   ],
   "source": [
    "{ k for k in a1.keys() }"
   ]
  },
  {
   "cell_type": "markdown",
   "metadata": {},
   "source": [
    "`items( )` is returns a list containing both the list but each element in the dictionary is inside a tuple. This is same as the result that was obtained when zip function was used - except that the ordering may be 'shuffled' by the dictionary."
   ]
  },
  {
   "cell_type": "code",
   "execution_count": 202,
   "metadata": {},
   "outputs": [
    {
     "data": {
      "text/plain": [
       "'One = 1,  Two = 2,  Three = 3,  Four = 4,  Five = 5'"
      ]
     },
     "execution_count": 202,
     "metadata": {},
     "output_type": "execute_result"
    }
   ],
   "source": [
    "\",  \".join( \"%s = %d\" % (name,val) for name,val in a1.items())"
   ]
  },
  {
   "cell_type": "markdown",
   "metadata": {},
   "source": [
    "The `pop( )` function is used to get the remove that particular element and this removed element can be assigned to a new variable. But remember only the value is stored and not the key. Because the is just a index value."
   ]
  },
  {
   "cell_type": "code",
   "execution_count": 203,
   "metadata": {},
   "outputs": [
    {
     "name": "stdout",
     "output_type": "stream",
     "text": [
      "{'One': 1, 'Two': 2, 'Three': 3, 'Five': 5}\n",
      "Removed 4\n"
     ]
    }
   ],
   "source": [
    "val = a1.pop('Four')\n",
    "print(a1)\n",
    "print(\"Removed\",val)"
   ]
  },
  {
   "cell_type": "markdown",
   "metadata": {},
   "source": [
    "## Iterating over Dictionaries\n",
    "In the `for`-loops unit, we saw how to iterate over strings and lists. The simplest case is to use the `in` keyword to iterate through the string or list. We also looked at using integers as indexes for the list. This could be done using `range()` and `len()`.\n",
    "\n",
    "Dictionaries are more complicated due to the `key: value` structure. You can use the keyword `in` for dictionaries but what will be returned is just the key. You could, of course, return the value using the square bracket notation. However, there is a better way to iterate over a dictionary. If we needed access to both, `key`s, and `values`, we’d have to use a dictionary method called `.items()`\n",
    "\n",
    "In the followin example, we define two new variables in our `for` loop, `key` and `value`. These variables don’t need to be called `key` and `value`, but as the first variable will be the key and the second variable will the value, it’s considered to be a good convention. Then after that, we just print out the `key` and the `value`, with some nice formatting to denote each key/value with which we’re working."
   ]
  },
  {
   "cell_type": "code",
   "execution_count": 204,
   "metadata": {},
   "outputs": [
    {
     "name": "stdout",
     "output_type": "stream",
     "text": [
      "Key: username\n",
      "Value: tombombadil\n",
      "------------------\n",
      "Key: first_name\n",
      "Value: Tom\n",
      "------------------\n",
      "Key: last_name\n",
      "Value: Bombadil\n",
      "------------------\n",
      "Key: age\n",
      "Value: 100\n",
      "------------------\n"
     ]
    }
   ],
   "source": [
    "user = {\n",
    "    \"username\": \"tombombadil\",\n",
    "    \"first_name\": \"Tom\",\n",
    "    \"last_name\": \"Bombadil\",\n",
    "    \"age\": 100\n",
    "}\n",
    "\n",
    "for key, value in user.items():\n",
    "    print(f\"Key: {key}\")\n",
    "    print(f\"Value: {value}\")\n",
    "    print(\"------------------\")"
   ]
  },
  {
   "cell_type": "markdown",
   "metadata": {},
   "source": [
    "## Dictionary comprehension\n",
    "Dictionary comprehensions are just like list comprehensions.\n",
    "![dictionary-comprehension.png](./img/dictionary-comprehension.png)\n",
    "The difference in the syntax is that curly rather than square brackets are used. Also, before the for keyword you need to include the key and value separated with a colon.\n",
    "\n",
    "Let's compare the dict comprehension syntax with what you’ve seen before."
   ]
  },
  {
   "cell_type": "code",
   "execution_count": 205,
   "metadata": {},
   "outputs": [
    {
     "data": {
      "text/plain": [
       "{2: 4, 4: 16, 6: 36}"
      ]
     },
     "execution_count": 205,
     "metadata": {},
     "output_type": "execute_result"
    }
   ],
   "source": [
    "squares = {}\n",
    "for x in (2, 4, 6):\n",
    "    squares[x] = x**2\n",
    "squares"
   ]
  },
  {
   "cell_type": "markdown",
   "metadata": {},
   "source": [
    "This same code could be written as a dictionary comprehension."
   ]
  },
  {
   "cell_type": "code",
   "execution_count": 206,
   "metadata": {},
   "outputs": [
    {
     "data": {
      "text/plain": [
       "{2: 4, 4: 16, 6: 36}"
      ]
     },
     "execution_count": 206,
     "metadata": {},
     "output_type": "execute_result"
    }
   ],
   "source": [
    "{x: x**2 for x in (2, 4, 6)}"
   ]
  },
  {
   "cell_type": "code",
   "execution_count": 207,
   "metadata": {},
   "outputs": [
    {
     "data": {
      "text/plain": [
       "{'apple': 5, 'mango': 5, 'banana': 6, 'cherry': 6}"
      ]
     },
     "execution_count": 207,
     "metadata": {},
     "output_type": "execute_result"
    }
   ],
   "source": [
    "{fruit:len(fruit) for fruit in ['apple', 'mango', 'banana','cherry']}"
   ]
  },
  {
   "cell_type": "code",
   "execution_count": 208,
   "metadata": {},
   "outputs": [
    {
     "data": {
      "text/plain": [
       "{0: '', 1: '*', 2: '**', 3: '***', 4: '****'}"
      ]
     },
     "execution_count": 208,
     "metadata": {},
     "output_type": "execute_result"
    }
   ],
   "source": [
    "{i:(i*'*') for i in range(0,5)}"
   ]
  },
  {
   "cell_type": "code",
   "execution_count": 209,
   "metadata": {},
   "outputs": [
    {
     "data": {
      "text/plain": [
       "{0: True,\n",
       " 1: False,\n",
       " 2: True,\n",
       " 3: False,\n",
       " 4: True,\n",
       " 5: False,\n",
       " 6: True,\n",
       " 7: False,\n",
       " 8: True,\n",
       " 9: False}"
      ]
     },
     "execution_count": 209,
     "metadata": {},
     "output_type": "execute_result"
    }
   ],
   "source": [
    "{i:(True if i%2==0 else False) for i in range(10)}"
   ]
  },
  {
   "cell_type": "code",
   "execution_count": 210,
   "metadata": {},
   "outputs": [
    {
     "data": {
      "text/plain": [
       "{(0, 0): True,\n",
       " (0, 1): False,\n",
       " (0, 2): False,\n",
       " (0, 3): False,\n",
       " (1, 0): False,\n",
       " (1, 1): True,\n",
       " (1, 2): False,\n",
       " (1, 3): False,\n",
       " (2, 0): False,\n",
       " (2, 1): False,\n",
       " (2, 2): True,\n",
       " (2, 3): False,\n",
       " (3, 0): False,\n",
       " (3, 1): False,\n",
       " (3, 2): False,\n",
       " (3, 3): True}"
      ]
     },
     "execution_count": 210,
     "metadata": {},
     "output_type": "execute_result"
    }
   ],
   "source": [
    "{(i,j): (True if i==j else False) for i in range(4) for j in range(4)}"
   ]
  },
  {
   "cell_type": "markdown",
   "metadata": {},
   "source": [
    "## Nested Dictionaries\n",
    "In the followinge example, we see the type of nesting dictionary structure you might find in a database. To access the nested dictionary, you string together the commands you would normally use. Therefore `payroll['emp1']['name']` goes down one level to get the name of the first employee. The `get()` method can also be used; `payroll['emp1'].get('Wage')` as in this case to get the first employee's wage. We can add and delete values as before using their keys. To print this data out in an easily readable fashion, it is best to use a nested loop. The first loop gets the `key`-`value` pairs and prints the `key`. The nested loop gets the `key`-`value` pairs from the nested dictionary and prints both."
   ]
  },
  {
   "cell_type": "code",
   "execution_count": 211,
   "metadata": {},
   "outputs": [
    {
     "name": "stdout",
     "output_type": "stream",
     "text": [
      "{'emp1': {'name': 'Precious', 'job': 'Mgr', 'Wage': 50000}, 'emp2': {'name': 'Kim', 'job': 'Dev', 'Wage': 60000}, 'emp3': {'name': 'Sam', 'job': 'Dev', 'Wage': 70000}}\n"
     ]
    }
   ],
   "source": [
    "payroll = {'emp1': {'name': 'Precious', 'job': 'Mgr', 'Wage': 50000},\n",
    "     'emp2': {'name': 'Kim', 'job': 'Dev', 'Wage': 60000},\n",
    "     'emp3': {'name': 'Sam', 'job': 'Dev', 'Wage': 70000}}\n",
    "print(payroll)"
   ]
  },
  {
   "cell_type": "code",
   "execution_count": 212,
   "metadata": {},
   "outputs": [
    {
     "name": "stdout",
     "output_type": "stream",
     "text": [
      "Precious\n",
      "None\n",
      "50000\n",
      "{'emp1': {'name': 'Precious', 'job': 'Mgr', 'Wage': 50000}, 'emp2': {'name': 'Kim', 'job': 'Dev', 'Wage': 60000}, 'emp3': {'name': 'Sam', 'job': 'Dev', 'Wage': 70000}, 'emp4': {'name': 'Max', 'job': 'Admin', 'Wage': 30000}}\n"
     ]
    }
   ],
   "source": [
    "print(payroll['emp1']['name'])\n",
    "print(payroll['emp1'].get('salary'))\n",
    "print(payroll['emp1'].get('Wage'))\n",
    "payroll['emp4'] = {'name': 'Max', 'job': 'Admin', 'Wage': 30000}\n",
    "print(payroll)\n",
    "del payroll['emp3']"
   ]
  },
  {
   "cell_type": "code",
   "execution_count": 213,
   "metadata": {},
   "outputs": [
    {
     "name": "stdout",
     "output_type": "stream",
     "text": [
      "Employee ID: emp1\n",
      "name : Precious\n",
      "job : Mgr\n",
      "Wage : 50000\n",
      "\n",
      "Employee ID: emp2\n",
      "name : Kim\n",
      "job : Dev\n",
      "Wage : 60000\n",
      "\n",
      "Employee ID: emp4\n",
      "name : Max\n",
      "job : Admin\n",
      "Wage : 30000\n",
      "\n"
     ]
    }
   ],
   "source": [
    "for id, info in payroll.items():\n",
    "    print(f'Employee ID: {id}')\n",
    "    for key in info:\n",
    "        print(f'{key} : {info[key]}')\n",
    "    print()"
   ]
  },
  {
   "cell_type": "markdown",
   "metadata": {
    "collapsed": true
   },
   "source": [
    "# When to use Dictionaries vs Lists\n",
    "\n",
    "The choice of whether to store data in a list or dictionary (or set) may seem a bit arbitrary at times. Here is a brief summary of some of the pros and cons of these:\n",
    "\n",
    "* Finding elements in a set vs a list:  `x in C` is valid whether the collection `C` is a list, set or dictonary. However computationally for large collections this is much slower with lists than sets or dictionaries. On the other hand if all items are indexed by an integer than `x[45672]` is much faster to look up if x is a list than if it is a dictionary.\n",
    "* If all your items are indexed by integers but with some indices unused you could use lists and assign some dummy value (e.g. \"\") whenever there is no corresponding item. For very sparse collections this could consume significant additional memory compared to a dictionary. On the other hand if most values are present, then storing the indices explicitly (as is done in a dictionary) could consume significant additional memory compared to the list representation.\n",
    "\n"
   ]
  },
  {
   "cell_type": "code",
   "execution_count": 214,
   "metadata": {},
   "outputs": [
    {
     "data": {
      "text/plain": [
       "2.3167801000000168"
      ]
     },
     "execution_count": 214,
     "metadata": {},
     "output_type": "execute_result"
    }
   ],
   "source": [
    "from timeit import timeit\n",
    "bigList = [i for i in range(0,100000)]\n",
    "bigSet = set(bigList)\n",
    "# how long to find the last number out of 10,000 items?\n",
    "timeit(lambda: 99999 in bigList, number=1000) # run command 1000 times"
   ]
  },
  {
   "cell_type": "code",
   "execution_count": 215,
   "metadata": {},
   "outputs": [
    {
     "data": {
      "text/plain": [
       "0.0004320999999549713"
      ]
     },
     "execution_count": 215,
     "metadata": {},
     "output_type": "execute_result"
    }
   ],
   "source": [
    "timeit(lambda: 99999 in bigSet, number=1000) # run command 1000 times"
   ]
  },
  {
   "cell_type": "markdown",
   "metadata": {},
   "source": [
    "# 08 Data structures: Sets\n",
    "A set is another useful Python data type. It is a mathematical concept of a collection of items with no duplicates.\n",
    "![set.png](./img/set.png)\n",
    "It also uses curly brackets, but commas separate items in the collection. However, this means that to create an empty set; you have to use the method `set()` as `{}` would create an empty dictionary. Also `set([sequence])` can be executed to declare a set with elements. Note that unlike lists, the elements of a set are not in a sequence and cannot be accessed by an index. You can use the `in` keyword to see if an item is in a set."
   ]
  },
  {
   "cell_type": "markdown",
   "metadata": {},
   "source": [
    "Sets are mainly used to eliminate repeated numbers in a sequence/list. It is also used to perform some standard set operations. A set is a useful data structure if you want to forbid duplicates in your data. Also, like a dictionary, it is very quick to check if a value is there. A use case would be to get all the unique words in a document.\n",
    "\n",
    "In the first runnable example, we have added multiple identical items to the set. However, when we print the set, the duplicates have been removed. You cannot change the items in a set, but you can add an additional single item with add() or add new multiple items as a list with update(). To remove an item use discard() rather than remove() as it will error where the item does not exist. Sets are unordered so using pop() is not recommended as you will not necessarily know which 'last item' will be removed except by the return value."
   ]
  },
  {
   "cell_type": "code",
   "execution_count": 216,
   "metadata": {},
   "outputs": [
    {
     "name": "stdout",
     "output_type": "stream",
     "text": [
      "{'bacon', 'spam', 'egg'}\n",
      "True\n",
      "{'bacon', 'spam', 'sausage', 'egg'}\n",
      "{'spam', 'egg', 'aubergines', 'sausage', 'shallots', 'bacon', 'truffle pate', 'Lobster Thermidor', 'crevettes'}\n",
      "{'spam', 'egg', 'sausage', 'shallots', 'bacon', 'truffle pate', 'Lobster Thermidor', 'crevettes'}\n"
     ]
    }
   ],
   "source": [
    "breakfast = {'bacon', 'egg', 'spam', 'spam', 'spam', 'spam', 'spam'}\n",
    "print(breakfast)\n",
    "print('egg' in breakfast)\n",
    "breakfast.add('sausage')\n",
    "print(breakfast)\n",
    "breakfast.update(['Lobster Thermidor', 'truffle pate', 'crevettes', 'shallots','aubergines'])\n",
    "print(breakfast)\n",
    "breakfast.discard('aubergines')\n",
    "print(breakfast)"
   ]
  },
  {
   "cell_type": "code",
   "execution_count": 217,
   "metadata": {},
   "outputs": [
    {
     "name": "stdout",
     "output_type": "stream",
     "text": [
      "<class 'set'>\n"
     ]
    }
   ],
   "source": [
    "set1 = set()\n",
    "print(type(set1))"
   ]
  },
  {
   "cell_type": "code",
   "execution_count": 218,
   "metadata": {},
   "outputs": [
    {
     "name": "stdout",
     "output_type": "stream",
     "text": [
      "{1, 2, 3, 4}\n"
     ]
    }
   ],
   "source": [
    "set0 = set([1,2,2,3,3,4])\n",
    "set0 = {3,3,4,1,2,2} # equivalent to the above\n",
    "print(set0) # order is not preserved"
   ]
  },
  {
   "cell_type": "markdown",
   "metadata": {},
   "source": [
    "elements 2,3 which are repeated twice are seen only once. Thus in a set each element is distinct.\n",
    "\n",
    "However be warned that **{}** is **NOT** a set, but a dictionary (see next chapter of this tutorial)"
   ]
  },
  {
   "cell_type": "code",
   "execution_count": 219,
   "metadata": {},
   "outputs": [
    {
     "data": {
      "text/plain": [
       "dict"
      ]
     },
     "execution_count": 219,
     "metadata": {},
     "output_type": "execute_result"
    }
   ],
   "source": [
    "type({})"
   ]
  },
  {
   "cell_type": "markdown",
   "metadata": {},
   "source": [
    "## Iterating over Sets\n",
    "Here is how you would iterate over a `set`. It is much like for a `list`. However, remember that the order may not remain static. You could also use `range()` and `len()` to get index values."
   ]
  },
  {
   "cell_type": "code",
   "execution_count": 220,
   "metadata": {},
   "outputs": [
    {
     "name": "stdout",
     "output_type": "stream",
     "text": [
      "south\n",
      "west\n",
      "north\n",
      "east\n",
      "\n",
      "south\n",
      "west\n",
      "north\n",
      "northwest\n",
      "east\n"
     ]
    }
   ],
   "source": [
    "# Create a set\n",
    "directions = set(['north', 'south', 'east', 'west'])\n",
    "# Print its members\n",
    "for direction in directions:\n",
    "    print(direction)\n",
    "\n",
    "# Add an item to the set:\n",
    "directions.add('northwest')\n",
    "\n",
    "print()\n",
    "# Print the members again\n",
    "# Notice the order cannot be relied upon!\n",
    "for direction in directions:\n",
    "    print(direction)"
   ]
  },
  {
   "cell_type": "markdown",
   "metadata": {},
   "source": [
    "## Set Operators\n",
    "Sets have mathematical operations like union, intersection, difference, and symmetric difference. A union is all values that are in either set or both. The intersection is the values that are in both sets. The difference is the values that are in the first set but not the second. The symmetric difference is all values that are in one of the sets but not both of them."
   ]
  },
  {
   "cell_type": "code",
   "execution_count": 221,
   "metadata": {},
   "outputs": [
    {
     "name": "stdout",
     "output_type": "stream",
     "text": [
      "The unique letters in hello are: {'H', 'e', 'o', 'l'}\n",
      "The letters in hello or world or both are: {'H', 'W', 'o', 'l', 'd', 'e', 'r'}\n",
      "The letters in both hello and world are: {'o', 'l'}\n",
      "The letters in hello but not world are: {'H', 'e'}\n",
      "The letters in hello and world but not both are: {'H', 'W', 'd', 'e', 'r'}\n"
     ]
    }
   ],
   "source": [
    "hello = set(\"Hello\")\n",
    "world = set(\"World\")\n",
    "print(f\"The unique letters in hello are: {hello}\")\n",
    "print(f\"The letters in hello or world or both are: {hello|world}\") # | is the symbol for union\n",
    "print(f\"The letters in both hello and world are: {hello&world}\") # & is the symbol for intersection\n",
    "print(f\"The letters in hello but not world are: {hello-world}\") # - is the symbol for difference\n",
    "print(f\"The letters in hello and world but not both are: {hello^world}\") # ^ is the symbol for symmetric difference"
   ]
  },
  {
   "cell_type": "markdown",
   "metadata": {},
   "source": [
    "#### Built-in Functions"
   ]
  },
  {
   "cell_type": "code",
   "execution_count": 222,
   "metadata": {},
   "outputs": [],
   "source": [
    "set1 = set([1,2,3])"
   ]
  },
  {
   "cell_type": "code",
   "execution_count": 223,
   "metadata": {},
   "outputs": [],
   "source": [
    "set2 = set([2,3,4,5])"
   ]
  },
  {
   "cell_type": "markdown",
   "metadata": {},
   "source": [
    "`union( )` function returns a set which contains all the elements of both the sets without repition."
   ]
  },
  {
   "cell_type": "code",
   "execution_count": 224,
   "metadata": {},
   "outputs": [
    {
     "data": {
      "text/plain": [
       "{1, 2, 3, 4, 5}"
      ]
     },
     "execution_count": 224,
     "metadata": {},
     "output_type": "execute_result"
    }
   ],
   "source": [
    "set1.union(set2)"
   ]
  },
  {
   "cell_type": "markdown",
   "metadata": {},
   "source": [
    "`add( )` will add a particular element into the set. Note that the index of the newly added element is arbitrary and can be placed anywhere not neccessarily in the end."
   ]
  },
  {
   "cell_type": "code",
   "execution_count": 225,
   "metadata": {},
   "outputs": [
    {
     "data": {
      "text/plain": [
       "{0, 1, 2, 3}"
      ]
     },
     "execution_count": 225,
     "metadata": {},
     "output_type": "execute_result"
    }
   ],
   "source": [
    "set1.add(0)\n",
    "set1"
   ]
  },
  {
   "cell_type": "markdown",
   "metadata": {},
   "source": [
    "`intersection( )` function outputs a set which contains all the elements that are in both sets."
   ]
  },
  {
   "cell_type": "code",
   "execution_count": 226,
   "metadata": {},
   "outputs": [
    {
     "data": {
      "text/plain": [
       "{2, 3}"
      ]
     },
     "execution_count": 226,
     "metadata": {},
     "output_type": "execute_result"
    }
   ],
   "source": [
    "set1.intersection(set2)"
   ]
  },
  {
   "cell_type": "markdown",
   "metadata": {},
   "source": [
    "`difference( )` function ouptuts a set which contains elements that are in set1 and not in set2."
   ]
  },
  {
   "cell_type": "code",
   "execution_count": 227,
   "metadata": {},
   "outputs": [
    {
     "data": {
      "text/plain": [
       "{0, 1}"
      ]
     },
     "execution_count": 227,
     "metadata": {},
     "output_type": "execute_result"
    }
   ],
   "source": [
    "set1.difference(set2)"
   ]
  },
  {
   "cell_type": "markdown",
   "metadata": {},
   "source": [
    "`symmetric_difference( )` function computes the set of elements that are in exactly one of the two given sets."
   ]
  },
  {
   "cell_type": "code",
   "execution_count": 228,
   "metadata": {},
   "outputs": [
    {
     "data": {
      "text/plain": [
       "{0, 1, 4, 5}"
      ]
     },
     "execution_count": 228,
     "metadata": {},
     "output_type": "execute_result"
    }
   ],
   "source": [
    "set2.symmetric_difference(set1)"
   ]
  },
  {
   "cell_type": "markdown",
   "metadata": {},
   "source": [
    "`issubset( ), isdisjoint( ), issuperset( )` are used to check if the set1 is a subset, disjoint or superset of set2respectively."
   ]
  },
  {
   "cell_type": "code",
   "execution_count": 229,
   "metadata": {},
   "outputs": [
    {
     "name": "stdout",
     "output_type": "stream",
     "text": [
      "False\n",
      "False\n",
      "False\n"
     ]
    }
   ],
   "source": [
    "print( set1.issubset(set2) )\n",
    "print( set1.isdisjoint(set2) )\n",
    "print( set1.issuperset(set2) )"
   ]
  },
  {
   "cell_type": "markdown",
   "metadata": {},
   "source": [
    "`pop( )` is used to remove an arbitrary element in the set"
   ]
  },
  {
   "cell_type": "code",
   "execution_count": 230,
   "metadata": {},
   "outputs": [
    {
     "name": "stdout",
     "output_type": "stream",
     "text": [
      "{1, 2, 3}\n"
     ]
    }
   ],
   "source": [
    "set1.pop()\n",
    "print(set1)"
   ]
  },
  {
   "cell_type": "markdown",
   "metadata": {},
   "source": [
    "`remove( )` function deletes the specified element from the set."
   ]
  },
  {
   "cell_type": "code",
   "execution_count": 231,
   "metadata": {},
   "outputs": [
    {
     "data": {
      "text/plain": [
       "{1, 3}"
      ]
     },
     "execution_count": 231,
     "metadata": {},
     "output_type": "execute_result"
    }
   ],
   "source": [
    "set1.remove(2)\n",
    "set1"
   ]
  },
  {
   "cell_type": "markdown",
   "metadata": {},
   "source": [
    "`clear( )` is used to clear all the elements and make that set an empty set."
   ]
  },
  {
   "cell_type": "code",
   "execution_count": 232,
   "metadata": {},
   "outputs": [
    {
     "data": {
      "text/plain": [
       "set()"
      ]
     },
     "execution_count": 232,
     "metadata": {},
     "output_type": "execute_result"
    }
   ],
   "source": [
    "set1.clear()\n",
    "set1"
   ]
  },
  {
   "cell_type": "markdown",
   "metadata": {},
   "source": [
    "### Empty means false\n",
    "In python an empty data structure is always equivalent to `False`"
   ]
  },
  {
   "cell_type": "code",
   "execution_count": 233,
   "metadata": {},
   "outputs": [
    {
     "data": {
      "text/plain": [
       "True"
      ]
     },
     "execution_count": 233,
     "metadata": {},
     "output_type": "execute_result"
    }
   ],
   "source": [
    "not \"\" and not set() and not [] and not {}"
   ]
  },
  {
   "cell_type": "code",
   "execution_count": 234,
   "metadata": {},
   "outputs": [
    {
     "data": {
      "text/plain": [
       "[]"
      ]
     },
     "execution_count": 234,
     "metadata": {},
     "output_type": "execute_result"
    }
   ],
   "source": [
    "\"\" or [] # returns the last \"False\" value"
   ]
  },
  {
   "cell_type": "code",
   "execution_count": 235,
   "metadata": {},
   "outputs": [
    {
     "data": {
      "text/plain": [
       "{1, 2}"
      ]
     },
     "execution_count": 235,
     "metadata": {},
     "output_type": "execute_result"
    }
   ],
   "source": [
    "{1,2} or \"\""
   ]
  },
  {
   "cell_type": "markdown",
   "metadata": {},
   "source": [
    "### Strings as collections"
   ]
  },
  {
   "cell_type": "markdown",
   "metadata": {},
   "source": [
    "Strings have already been discussed in Chapter 02, but can also be treated as collections similar to lists and tuples.\n",
    "For example"
   ]
  },
  {
   "cell_type": "code",
   "execution_count": 236,
   "metadata": {},
   "outputs": [
    {
     "name": "stdout",
     "output_type": "stream",
     "text": [
      "['h', 'e', 'a', 'j', 'a', 'h', 'a', 'l', 'i', 's', 'b', 'e', 'a', 'u', 't', 'i', 'f', 'u', 'l']\n",
      "Words are: ['The', 'Taj', 'Mahal', 'is', 'beautiful']\n",
      "The--Taj--Mahal--is--beautiful\n"
     ]
    },
    {
     "data": {
      "text/plain": [
       "'The Taj Mahal Is Beautiful'"
      ]
     },
     "execution_count": 236,
     "metadata": {},
     "output_type": "execute_result"
    }
   ],
   "source": [
    "S = 'The Taj Mahal is beautiful'\n",
    "print([x for x in S if x.islower()]) # list of lower case charactes\n",
    "words=S.split() # list of words\n",
    "print(\"Words are:\",words)\n",
    "print(\"--\".join(words)) # hyphenated \n",
    "\" \".join(w.capitalize() for w in words) # capitalise words"
   ]
  },
  {
   "cell_type": "markdown",
   "metadata": {},
   "source": [
    "String Indexing and Slicing are similar to Lists which was explained in detail earlier."
   ]
  },
  {
   "cell_type": "code",
   "execution_count": 237,
   "metadata": {},
   "outputs": [
    {
     "name": "stdout",
     "output_type": "stream",
     "text": [
      "T\n",
      "Taj Mahal is beautiful\n"
     ]
    }
   ],
   "source": [
    "print(S[4])\n",
    "print(S[4:])"
   ]
  },
  {
   "cell_type": "markdown",
   "metadata": {},
   "source": [
    "# 09 Functions\n",
    "![function.png](./img/function.png)\n",
    "Up until now we’ve been writing little pieces of code and haven’t been concerned about the structure or readability of our application. What I mean by this is that all the code we’ve written so far has been at the top level of our Python files. There once was a time when applications were written in this fashion, but the sheer amount of what makes up the basis of an application would become unwieldy very quickly. Thankfully there are specific constructs that we can use to help improve this. Functions allow us to write a chunk of code that we can invoke whenever we choose.\n",
    "\n",
    "We’ve already used functions at this point, like `print()`. This is a function that Python provides for us, so we don’t have to write all of the logic to perform the task ourselves. Not only does this mean that we can reuse the same pieces of code, but also helps to improve the readability of the code. For example, `print()` would be quite difficult to implement if we had to write out the logic every time that we wanted to print something out to the console. It would be much more beneficial if we could just write the code once and then use it again and again. Not only that, but the word `print` is much easier to read and understand than the code would be if we were to write out all of that code ourselves. Let’s take a look at how we can create some functions."
   ]
  },
  {
   "cell_type": "code",
   "execution_count": 238,
   "metadata": {},
   "outputs": [
    {
     "name": "stdout",
     "output_type": "stream",
     "text": [
      "Hello Jack.\n",
      "Jack, how are you?\n"
     ]
    }
   ],
   "source": [
    "print(\"Hello Jack.\")\n",
    "print(\"Jack, how are you?\")"
   ]
  },
  {
   "cell_type": "markdown",
   "metadata": {},
   "source": [
    "Instead of writing the above two statements every single time it can be replaced by defining a function which would do the job in just one line. \n",
    "\n",
    "Defining function `print_message()`:"
   ]
  },
  {
   "cell_type": "code",
   "execution_count": 239,
   "metadata": {},
   "outputs": [
    {
     "name": "stdout",
     "output_type": "stream",
     "text": [
      "Hello Jack.\n",
      "Jack, how are you?\n"
     ]
    }
   ],
   "source": [
    "def print_message():\n",
    "    print(\"Hello Jack.\")\n",
    "    print(\"Jack, how are you?\")\n",
    "    \n",
    "print_message() # execute the function"
   ]
  },
  {
   "cell_type": "markdown",
   "metadata": {},
   "source": [
    "The editor highlights the code with color to show the purpose of each section.\n",
    "\n",
    "`def`: This is the keyword that we use to tell Python that we are creating a function definition. Note that the editor colors the keywords green.\n",
    "\n",
    "`print_message`: This is the name that we’ve decided to give our function. Be sure to give your functions meaningful names so that when other people try to use your code, they’ll able to make sense of what the function does without having to read the code in the function. Editor colors the function name blue.\n",
    "\n",
    "`()`: The parentheses denote the parameters that a function takes. In this example, we don’t have any parameters yet, but we’ll start adding some in future lessons.\n",
    "\n",
    "After all of this, we have the code inside of our function. The code inside the function is the actual logic that we wish to perform. It is indented by four spaces to show that this code is in the function. In this instance, we just print out Hello World, which is colored red by the editor as it's a string. As you can see we are calling the `print()` function (also colored green) from within our `print_message` function. Functions can call functions. Lastly, on line 4 we invoke that function which works in the same way that we used `print()`, only this time we don’t have arguments to pass as the function doesn’t take any parameters. It is not indented to show it is not in the function.\n",
    "\n",
    "If you remove the code from line 4 and rerun the code to see what happens. Nothing, right? That’s because just defining the function doesn’t do anything until we invoke or call it."
   ]
  },
  {
   "cell_type": "markdown",
   "metadata": {},
   "source": [
    "Functions can represent mathematical functions. More importantly, in programmming functions are a mechansim to allow code to be re-used so that complex programs can be built up out of simpler parts. \n",
    "\n",
    "**Important:** *Starting to write a python program by just writing a few lines of code and testing as you go is great -- but a common beginner mistake is to keep doing this. You do not want to have a program that consists of 20,000 lines in one long file/notebook. Think of functions like paragraphs in writing English. Whenever you start a new idea, start a new function. This makes your code much more readable, easier to debug and ultimately to re-use parts of the code in ways that may not have been anticipated when initially started writing.*"
   ]
  },
  {
   "cell_type": "markdown",
   "metadata": {},
   "source": [
    "This is the basic syntax of a function\n",
    "\n",
    "```python\n",
    "def funcname(arg1, arg2,... argN):\n",
    "    ''' Document String'''\n",
    "    statements\n",
    "    return value\n",
    "```"
   ]
  },
  {
   "cell_type": "markdown",
   "metadata": {},
   "source": [
    "Read the above syntax as, A function by name `funcname` is defined, which accepts arguements `arg1`,`arg2`,`....`,`argN`. The function is documented with `'''Document String'''`. The function after executing the statements returns a `value`.\n",
    "\n",
    "Return values are optional (by default every function returns `None` (a special object that is equivalent to `False` ) if no return statement is executed"
   ]
  },
  {
   "cell_type": "markdown",
   "metadata": {},
   "source": [
    "`print_message()` just prints the message every time to a single person. We can make our function `print_message()` to accept arguments which will store the name and then prints its message to that name. To do so, add a argument within the function as shown."
   ]
  },
  {
   "cell_type": "code",
   "execution_count": 240,
   "metadata": {},
   "outputs": [],
   "source": [
    "def print_message(username):\n",
    "    print(\"Hello %s.\" % username)\n",
    "    print(username + ',' ,\"how are you?\")"
   ]
  },
  {
   "cell_type": "code",
   "execution_count": 241,
   "metadata": {},
   "outputs": [],
   "source": [
    "name1 = 'Sally' # or use input('Please enter your name : ')"
   ]
  },
  {
   "cell_type": "markdown",
   "metadata": {},
   "source": [
    " So we pass this variable to the function `firstfunc()` as the variable username because that is the variable that is defined for this function. i.e name1 is passed as username."
   ]
  },
  {
   "cell_type": "code",
   "execution_count": 242,
   "metadata": {},
   "outputs": [
    {
     "name": "stdout",
     "output_type": "stream",
     "text": [
      "Hello Sally.\n",
      "Sally, how are you?\n"
     ]
    }
   ],
   "source": [
    "print_message(name1)"
   ]
  },
  {
   "cell_type": "markdown",
   "metadata": {},
   "source": [
    "## Naming conventions\n",
    "The same rules for naming variables also apply to functions. When naming a function, try and give it a name that provides the reader with an idea of the purpose of the function.\n",
    "\n",
    "A function within a class is known as a **method**. A method has the same naming conventions as a class. If you have a method in a class you don't wish to be public, then start its name with an underscore `_`. This is just a convention for saying \"Please don't touch\" to other developers who are working on your code.\n",
    "\n",
    "If you use a double underscore prefix `__` (dunder) for an attribute in a method, then the attribute name will be altered, so it cannot be accessed by the regular methods. The attribute name is *mangled*."
   ]
  },
  {
   "cell_type": "markdown",
   "metadata": {},
   "source": [
    "## Calling a function\n",
    "A function is a block of code that only runs when it is called. Calling a function is executing the code. When you defined a function, you used the `def` keyword but to call it you simply use the function name followed by parentheses. You can pass information into the function as arguments inside the parentheses separated by commas. A parameter is the variable listed in the parentheses when the function is defined, and the argument is the value you pass into the function parentheses when it is called. You have to supply the same number of arguments as there are parameters. A function can be called by another function or even by itself. Python functions must be declared and defined before they are called.\n",
    "![function+call.png](./img/function+call.png)\n",
    "In the image the code runs in this order\n",
    "1. Line 5 calls the function\n",
    "2. Lines 1, 2 and 3 run in order\n",
    "3. Line 6 runs last"
   ]
  },
  {
   "cell_type": "markdown",
   "metadata": {},
   "source": [
    "In the below example, we have two functions, each with one parameter. We call the `get_user_input function `twice with a different string each time. As you can see we have assigned the function call to a variable so that the variable will now contain the result of that function call. Then we can use that variable in an f-string when calling the `print_out_to_console` function. This shows the benefit of using functions. Here the function is being used to abstract areas of code. What we mean by abstraction is reducing complexity of code. It can be thought of like the \"Don't repeat yourself\" (DRY) principle. Note than both functions, in this case, are themselves calling other functions.\n",
    "```python\n",
    "# 2. This function runs for the name and age function calls\n",
    "def get_user_input(prompt):\n",
    "    return input(prompt)\n",
    "\n",
    "# 4. This function runs twice\n",
    "def print_out_to_console(value_to_be_printed):\n",
    "    print(value_to_be_printed)\n",
    "\n",
    "# 1. name and age are the first two function calls to run sequentially\n",
    "name = get_user_input(\"Input your name:\")\n",
    "age = get_user_input(\"Input your age:\")\n",
    "\n",
    "# 3. Then function calls run sequentially\n",
    "print_out_to_console(f\"Your name is {name}\")\n",
    "print_out_to_console(f\"You are {age} years old\")\n",
    "```"
   ]
  },
  {
   "cell_type": "markdown",
   "metadata": {},
   "source": [
    "## Return Statement"
   ]
  },
  {
   "cell_type": "markdown",
   "metadata": {},
   "source": [
    "When the function results in some value and that value has to be stored in a variable or needs to be sent back or returned for further operation to the main algorithm, a return statement is used."
   ]
  },
  {
   "cell_type": "code",
   "execution_count": 243,
   "metadata": {},
   "outputs": [],
   "source": [
    "def times(x,y):\n",
    "    z = x*y\n",
    "    return z\n",
    "    z = 17 # this statement is never executed"
   ]
  },
  {
   "cell_type": "markdown",
   "metadata": {},
   "source": [
    "The above defined `times( )` function accepts two arguements and return the variable z which contains the result of the product of the two arguements"
   ]
  },
  {
   "cell_type": "code",
   "execution_count": 244,
   "metadata": {},
   "outputs": [
    {
     "name": "stdout",
     "output_type": "stream",
     "text": [
      "20\n"
     ]
    }
   ],
   "source": [
    "c = times(4,5)\n",
    "print(c)"
   ]
  },
  {
   "cell_type": "markdown",
   "metadata": {},
   "source": [
    "The z value is stored in variable c and can be used for further operations."
   ]
  },
  {
   "cell_type": "markdown",
   "metadata": {},
   "source": [
    "Instead of declaring another variable the entire statement itself can be used in the return statement as shown."
   ]
  },
  {
   "cell_type": "code",
   "execution_count": 245,
   "metadata": {},
   "outputs": [],
   "source": [
    "def times(x,y):\n",
    "    '''This multiplies the two input arguments'''\n",
    "    return x*y"
   ]
  },
  {
   "cell_type": "code",
   "execution_count": 246,
   "metadata": {},
   "outputs": [
    {
     "name": "stdout",
     "output_type": "stream",
     "text": [
      "20\n"
     ]
    }
   ],
   "source": [
    "c = times(4,5)\n",
    "print(c)"
   ]
  },
  {
   "cell_type": "markdown",
   "metadata": {},
   "source": [
    "Since the `times()` is now defined, we can document it as shown above. This document is returned whenever `times()` function is called under `help()` function."
   ]
  },
  {
   "cell_type": "code",
   "execution_count": 247,
   "metadata": {},
   "outputs": [
    {
     "name": "stdout",
     "output_type": "stream",
     "text": [
      "Help on function times in module __main__:\n",
      "\n",
      "times(x, y)\n",
      "    This multiplies the two input arguments\n",
      "\n"
     ]
    }
   ],
   "source": [
    "help(times)"
   ]
  },
  {
   "cell_type": "markdown",
   "metadata": {},
   "source": [
    "Multiple variable can also be returned as a tuple. However this tends not to be very readable when returning many value, and can easily introduce errors when the order of return values is interpreted incorrectly."
   ]
  },
  {
   "cell_type": "code",
   "execution_count": 248,
   "metadata": {},
   "outputs": [],
   "source": [
    "eglist = [10,50,30,12,6,8,100]"
   ]
  },
  {
   "cell_type": "code",
   "execution_count": 249,
   "metadata": {},
   "outputs": [],
   "source": [
    "def egfunc(eglist):\n",
    "    highest = max(eglist)\n",
    "    lowest = min(eglist)\n",
    "    first = eglist[0]\n",
    "    last = eglist[-1]\n",
    "    return highest,lowest,first,last"
   ]
  },
  {
   "cell_type": "markdown",
   "metadata": {},
   "source": [
    "If the function is just called without any variable for it to be assigned to, the result is returned inside a tuple. But if the variables are mentioned then the result is assigned to the variable in a particular order which is declared in the return statement."
   ]
  },
  {
   "cell_type": "code",
   "execution_count": 250,
   "metadata": {},
   "outputs": [
    {
     "data": {
      "text/plain": [
       "(100, 6, 10, 100)"
      ]
     },
     "execution_count": 250,
     "metadata": {},
     "output_type": "execute_result"
    }
   ],
   "source": [
    "egfunc(eglist)"
   ]
  },
  {
   "cell_type": "code",
   "execution_count": 251,
   "metadata": {},
   "outputs": [
    {
     "name": "stdout",
     "output_type": "stream",
     "text": [
      " a = 100  b = 6  c = 10  d = 100\n"
     ]
    }
   ],
   "source": [
    "a,b,c,d = egfunc(eglist)\n",
    "print(' a =',a,' b =',b,' c =',c,' d =',d)"
   ]
  },
  {
   "cell_type": "markdown",
   "metadata": {},
   "source": [
    "## Default arguments"
   ]
  },
  {
   "cell_type": "markdown",
   "metadata": {},
   "source": [
    "When an argument of a function is common in majority of the cases this can be specified with a default value. This is also called an implicit argument."
   ]
  },
  {
   "cell_type": "code",
   "execution_count": 252,
   "metadata": {},
   "outputs": [],
   "source": [
    "def implicitadd(x,y=3,z=0):\n",
    "    print(\"%d + %d + %d = %d\"%(x,y,z,x+y+z))\n",
    "    return x+y+z"
   ]
  },
  {
   "cell_type": "markdown",
   "metadata": {},
   "source": [
    "`implicitadd( )` is a function accepts up to three arguments but most of the times the first argument needs to be added just by 3. Hence the second argument is assigned the value 3 and the third argument is zero. Here the last two arguments are default arguments."
   ]
  },
  {
   "cell_type": "markdown",
   "metadata": {},
   "source": [
    "Now if the second argument is not defined when calling the `implicitadd( )` function then it considered as 3."
   ]
  },
  {
   "cell_type": "code",
   "execution_count": 253,
   "metadata": {},
   "outputs": [
    {
     "name": "stdout",
     "output_type": "stream",
     "text": [
      "4 + 3 + 0 = 7\n"
     ]
    },
    {
     "data": {
      "text/plain": [
       "7"
      ]
     },
     "execution_count": 253,
     "metadata": {},
     "output_type": "execute_result"
    }
   ],
   "source": [
    "implicitadd(4)"
   ]
  },
  {
   "cell_type": "markdown",
   "metadata": {},
   "source": [
    "However we can call the same function with two or three arguments. A useful feature is to explicitly name the argument values being passed into the function. This gives great flexibility in how to call a function with optional arguments. All off the following are valid:"
   ]
  },
  {
   "cell_type": "code",
   "execution_count": 254,
   "metadata": {},
   "outputs": [
    {
     "name": "stdout",
     "output_type": "stream",
     "text": [
      "4 + 4 + 0 = 8\n",
      "4 + 5 + 6 = 15\n",
      "4 + 3 + 7 = 14\n",
      "2 + 1 + 9 = 12\n",
      "1 + 3 + 0 = 4\n"
     ]
    },
    {
     "data": {
      "text/plain": [
       "4"
      ]
     },
     "execution_count": 254,
     "metadata": {},
     "output_type": "execute_result"
    }
   ],
   "source": [
    "implicitadd(4,4)\n",
    "implicitadd(4,5,6)\n",
    "implicitadd(4,z=7)\n",
    "implicitadd(2,y=1,z=9)\n",
    "implicitadd(x=1)"
   ]
  },
  {
   "cell_type": "markdown",
   "metadata": {},
   "source": [
    "## Any number of arguments"
   ]
  },
  {
   "cell_type": "markdown",
   "metadata": {},
   "source": [
    "If the number of arguments that is to be accepted by a function is not known then a asterisk symbol is used before the name of the argument to hold the remainder of the arguments. The following function requires at least one argument but can have many more."
   ]
  },
  {
   "cell_type": "code",
   "execution_count": 255,
   "metadata": {},
   "outputs": [],
   "source": [
    "def add_n(first,*args):\n",
    "    \"return the sum of one or more numbers\"\n",
    "    reslist = [first] + [value for value in args]\n",
    "    print(reslist)\n",
    "    return sum(reslist)"
   ]
  },
  {
   "cell_type": "markdown",
   "metadata": {},
   "source": [
    "The above function defines a list of all of the arguments, prints the list and returns the sum of all of the arguments."
   ]
  },
  {
   "cell_type": "code",
   "execution_count": 256,
   "metadata": {},
   "outputs": [
    {
     "name": "stdout",
     "output_type": "stream",
     "text": [
      "[1, 2, 3, 4, 5]\n"
     ]
    },
    {
     "data": {
      "text/plain": [
       "15"
      ]
     },
     "execution_count": 256,
     "metadata": {},
     "output_type": "execute_result"
    }
   ],
   "source": [
    "add_n(1,2,3,4,5)"
   ]
  },
  {
   "cell_type": "code",
   "execution_count": 257,
   "metadata": {},
   "outputs": [
    {
     "name": "stdout",
     "output_type": "stream",
     "text": [
      "[6.5]\n"
     ]
    },
    {
     "data": {
      "text/plain": [
       "6.5"
      ]
     },
     "execution_count": 257,
     "metadata": {},
     "output_type": "execute_result"
    }
   ],
   "source": [
    "add_n(6.5)"
   ]
  },
  {
   "cell_type": "markdown",
   "metadata": {},
   "source": [
    "Arbitrary numbers of named arguments can also be accepted using `**`. When the function is called all of the additional named arguments are provided in a dictionary "
   ]
  },
  {
   "cell_type": "code",
   "execution_count": 258,
   "metadata": {},
   "outputs": [
    {
     "name": "stdout",
     "output_type": "stream",
     "text": [
      "x=12  animal=mouse  z=(1+2j)\n"
     ]
    }
   ],
   "source": [
    "def namedArgs(**names):\n",
    "    'print the named arguments'\n",
    "    # names is a dictionary of keyword : value\n",
    "    print(\"  \".join(name+\"=\"+str(value) \n",
    "                    for name,value in names.items()))\n",
    "\n",
    "namedArgs(x=3*4,animal='mouse',z=(1+2j))"
   ]
  },
  {
   "cell_type": "markdown",
   "metadata": {},
   "source": [
    "##  Variable Scope\n",
    "**Scope** when referring to variables means where within the program can that variable be accessed. \n",
    "* The broadest scope is *built-in* which are the variables that come with the Python coding language. You don't need to declare or import these variables as they are available to you throughout Python. \n",
    "* If you declare a variable in your program and it is not within any functions, then it is a *global* variable. A global variable is available to use anywhere in the program.\n",
    "* However, if you declare a variable inside a function, then it is only available for use within that function. Therefore it is known as *local* scope.\n",
    "* You can create functions inside functions, so a local scope variable in a parent function is also available in the child function. If you use the variable from the parent function in the child function, then the scope is neither local nor global. A Python variable scope that is neither local nor global is referred to as *nonlocal*. This is called the *enclosing* scope.\n",
    "![scope.png](./img/scope.png)\n",
    "\n",
    "If a variable is needed throughout the program, then declaring it at the top outside any functions will make it global. However, declaring variables as global when they are not required everywhere in a program is bad practice. Consider local scope instead.\n",
    "\n",
    "Declaring your variables inside the functions in which they will be used is good practice. However, you will run into issues with the local scope if you need to use a variable in nested functions. In Python, a variable is considered local by default."
   ]
  },
  {
   "cell_type": "code",
   "execution_count": 259,
   "metadata": {},
   "outputs": [
    {
     "name": "stdout",
     "output_type": "stream",
     "text": [
      "Inside secondfunc x = 2\n",
      "Outside x = 1\n",
      "Global x = 0\n"
     ]
    }
   ],
   "source": [
    "def firstfunc():\n",
    "    x=1\n",
    "    def secondfunc():\n",
    "        x=2\n",
    "        print(\"Inside secondfunc x =\", x) \n",
    "    secondfunc()\n",
    "    print(\"Outside x =\", x)\n",
    "\n",
    "x=0\n",
    "firstfunc()\n",
    "print(\"Global x =\",x)"
   ]
  },
  {
   "cell_type": "markdown",
   "metadata": {},
   "source": [
    "## Scope keywords\n",
    "![scope-keywords.png](./img/scope-keywords.png)\n",
    "Python deals regards variables as local, if not otherwise declared. This will cause problems, for example, if you access a variable declared outside a function (global) within a function and try and reassign its value. If you then access the global variable outside the function, it will still have its original value rather than the new one reassigned within the function. One workaround would be to return the variable from the function so now it's reassigned value is available outside the function. However, there is a better option, and that is to use keywords to state which scope is to be used unambiguously.\n",
    "\n",
    "### `global`\n",
    "In the first example below, you will see that the `can_access` variable retains `False` in the global scope despite being reassigned to `True` in the `update_access` function."
   ]
  },
  {
   "cell_type": "code",
   "execution_count": 260,
   "metadata": {},
   "outputs": [
    {
     "name": "stdout",
     "output_type": "stream",
     "text": [
      "False\n"
     ]
    }
   ],
   "source": [
    "can_access = False\n",
    "def update_access():\n",
    "    can_access = True\n",
    "\n",
    "update_access()\n",
    "print(can_access) # will still print out False"
   ]
  },
  {
   "cell_type": "markdown",
   "metadata": {},
   "source": [
    "In this second example you will see that the global variable `can_access` changes to `True` in the global scope despite changed only inside of the function. This is because the `global` keyword has been used."
   ]
  },
  {
   "cell_type": "code",
   "execution_count": 261,
   "metadata": {},
   "outputs": [
    {
     "name": "stdout",
     "output_type": "stream",
     "text": [
      "True\n"
     ]
    }
   ],
   "source": [
    "can_access = False\n",
    "def update_access():\n",
    "    global can_access\n",
    "    can_access = True\n",
    "\n",
    "update_access()\n",
    "print(can_access) # will still print out False"
   ]
  },
  {
   "cell_type": "markdown",
   "metadata": {},
   "source": [
    "### `local`\n",
    "In the nested function example below you can see that variable `my_age` is local to the `which_scope` function. To update the same `my_age` variable from inside of `inner_scope` function, we have to use the `nonlocal` keyword. Without the `nonlocal` declaration the execution would throw error\n",
    "```python\n",
    "    UnboundLocalError: local variable 'my_age' referenced before assignment\n",
    "```"
   ]
  },
  {
   "cell_type": "code",
   "execution_count": 262,
   "metadata": {},
   "outputs": [
    {
     "name": "stdout",
     "output_type": "stream",
     "text": [
      "50\n"
     ]
    }
   ],
   "source": [
    "def which_scope():\n",
    "    my_age = 49 # local variable my_age\n",
    "    def inner_scope():\n",
    "        nonlocal my_age\n",
    "        my_age += 1 # Issue when we try to run this line.\n",
    "        print(my_age)\n",
    "    inner_scope()\n",
    "\n",
    "which_scope()"
   ]
  },
  {
   "cell_type": "markdown",
   "metadata": {},
   "source": [
    "## Lambda functions\n",
    "There is another type of function in Python known as **Lambda**. A lambda function is a small *anonymous* function. It can take any number of arguments but only has one expression. Lambda functions comes very handy when operating with lists. These function are defined by the keyword lambda followed by the variables, a colon and the expression.\n",
    "\n",
    "As you can see the function has no name (hence anonymous) so we have assigned it to the variable `add`."
   ]
  },
  {
   "cell_type": "code",
   "execution_count": 263,
   "metadata": {},
   "outputs": [
    {
     "name": "stdout",
     "output_type": "stream",
     "text": [
      "17\n"
     ]
    }
   ],
   "source": [
    "add = lambda a, b : a + b\n",
    "print(add(5, 12))"
   ]
  },
  {
   "cell_type": "markdown",
   "metadata": {},
   "source": [
    "### Composing functions"
   ]
  },
  {
   "cell_type": "markdown",
   "metadata": {},
   "source": [
    "Lambda functions can also be used to compose functions"
   ]
  },
  {
   "cell_type": "code",
   "execution_count": 264,
   "metadata": {},
   "outputs": [
    {
     "name": "stdout",
     "output_type": "stream",
     "text": [
      "doublesquare is a <class 'function'>\n"
     ]
    },
    {
     "data": {
      "text/plain": [
       "18"
      ]
     },
     "execution_count": 264,
     "metadata": {},
     "output_type": "execute_result"
    }
   ],
   "source": [
    "def double(x):\n",
    "    return 2*x\n",
    "def square(x):\n",
    "    return x*x\n",
    "def f_of_g(f,g):\n",
    "    \"Compose two functions of a single variable\"\n",
    "    return lambda x : f(g(x))\n",
    "\n",
    "doublesquare= f_of_g(double,square)\n",
    "print(\"doublesquare is a\",type(doublesquare))\n",
    "doublesquare(3)"
   ]
  },
  {
   "cell_type": "markdown",
   "metadata": {
    "collapsed": true
   },
   "source": [
    "### Functions are objects\n",
    "One thing you may have noticed in the calling functions example is that functions are passed around to other functions. This is possible in Python as a function is itself an object. A function object can be referred to in the same way as a string object. You can assign a function to a variable or even store it in a data structure. A function can be passed into another function or even to itself.\n",
    "\n",
    "Below we have a list of numbers. We use the list method `pop` on `numbers` but assign it to the variable `remove`. By merely adding parentheses to the variable, we can use the `pop` method. We have assigned the method to the variable. "
   ]
  },
  {
   "cell_type": "code",
   "execution_count": 265,
   "metadata": {},
   "outputs": [
    {
     "name": "stdout",
     "output_type": "stream",
     "text": [
      "67\n",
      "4\n"
     ]
    }
   ],
   "source": [
    "numbers = [4, 7, 12, 33, 13, 67]\n",
    "remove = numbers.pop\n",
    "print(remove())\n",
    "print(remove(0))"
   ]
  },
  {
   "cell_type": "markdown",
   "metadata": {},
   "source": [
    "Then we create another list and a function that returns `True` if the integer is divisible by three. We then pass both the function and the list to a built-in function called `filter()` which returns only the values that are `True`. We have converted to a list so we can print out the list of filtered values."
   ]
  },
  {
   "cell_type": "code",
   "execution_count": 266,
   "metadata": {},
   "outputs": [
    {
     "data": {
      "text/plain": [
       "[3, 6]"
      ]
     },
     "execution_count": 266,
     "metadata": {},
     "output_type": "execute_result"
    }
   ],
   "source": [
    "numbers = [1, 2, 3, 4, 5, 6]\n",
    "def is_mult_of_three(n):\n",
    "    return n % 3 == 0\n",
    "    \n",
    "list(filter(is_mult_of_three, numbers))"
   ]
  },
  {
   "cell_type": "markdown",
   "metadata": {},
   "source": [
    "The other example creates function `pass_function`, where the first parameter is a function:"
   ]
  },
  {
   "cell_type": "code",
   "execution_count": 267,
   "metadata": {},
   "outputs": [
    {
     "name": "stdout",
     "output_type": "stream",
     "text": [
      "This function takes another function as an argument\n",
      "The arguments are {'f': 'spam'}\n"
     ]
    }
   ],
   "source": [
    "def pass_function(function_name, **args):\n",
    "    \"\"\"Takes a function as an argument\n",
    "    Passes the argument 'l' to the function passed in \n",
    "    \"\"\"\n",
    "    print(\"This function takes another function as an argument\")\n",
    "    function_name(f=args['l'])\n",
    "\n",
    "def print_arguments( **args ):\n",
    "    \"\"\"Prints the arguments\"\"\"\n",
    "    print(f'The arguments are {args}')\n",
    "    \n",
    "pass_function(print_arguments, l='spam')"
   ]
  },
  {
   "cell_type": "markdown",
   "metadata": {},
   "source": [
    "### Decorators\n",
    "A decorator is a way in Python to add new functionality to an existing function without modifying its structure. This is useful as you do not need to create new functionality in your code if a decorator already exists for that purpose. A decorator is said to wrap a function to modify its behaviour. Python has something called the “pie syntax” to make decorator use simpler. The `@` symbol is used to prefix the decorator name.\n",
    "![decorator.png](./img/decorator.png)\n",
    "\n",
    "Here is a very simple decorator. It modifies the function `say_hello` by printing a string before it is called and after it is called. The decorator is modifying the behaviour of the function. It wraps the function and extends the behaviour of the wrapped function without modifying the function permanently."
   ]
  },
  {
   "cell_type": "code",
   "execution_count": 268,
   "metadata": {},
   "outputs": [
    {
     "name": "stdout",
     "output_type": "stream",
     "text": [
      "The function has not been called yet. Let's call it.\n",
      "Hello, world!\n",
      "The function was called and has returned a result.\n"
     ]
    }
   ],
   "source": [
    "def my_decorator(func):\n",
    "    def wrapper():\n",
    "        print(\"The function has not been called yet. Let's call it.\")\n",
    "        func()\n",
    "        print(\"The function was called and has returned a result.\")\n",
    "    # returns the wrapper function itself!\n",
    "    return wrapper\n",
    "\n",
    "@my_decorator\n",
    "def say_hello():\n",
    "    print(\"Hello, world!\")\n",
    "    \n",
    "say_hello()"
   ]
  },
  {
   "cell_type": "markdown",
   "metadata": {},
   "source": [
    "Try `@my_decorator` again on a different function:"
   ]
  },
  {
   "cell_type": "code",
   "execution_count": 269,
   "metadata": {},
   "outputs": [
    {
     "name": "stdout",
     "output_type": "stream",
     "text": [
      "The function has not been called yet. Let's call it.\n",
      "Greetings!\n",
      "The function was called and has returned a result.\n"
     ]
    }
   ],
   "source": [
    "@my_decorator\n",
    "def greet():\n",
    "    print(\"Greetings!\")\n",
    "    \n",
    "greet()"
   ]
  },
  {
   "cell_type": "markdown",
   "metadata": {},
   "source": [
    "Now let's look at a real-world example of using a decorator. We have a decorator that defines what units you want to display your function results in. It is demonstrated with a function to calculate area. The decorator is then used to say that on this occasion you want the result in meters squared. By changing the argument in the decorator, you can change this to acres, for example, without altering the function. This same decorator could be used for any function that outputs a value with units."
   ]
  },
  {
   "cell_type": "code",
   "execution_count": 270,
   "metadata": {},
   "outputs": [
    {
     "name": "stdout",
     "output_type": "stream",
     "text": [
      "The area is 15m^2\n"
     ]
    }
   ],
   "source": [
    "def define_units(unit):\n",
    "    \"\"\"Define the units\"\"\"\n",
    "    def decorator_define_units(func):\n",
    "        func.unit = unit\n",
    "        return func\n",
    "    return decorator_define_units\n",
    "\n",
    "@define_units('m^2')\n",
    "def area(length, width):\n",
    "    \"\"\"Calculate area of rectangle or parallelogram\"\"\"\n",
    "    return length * width\n",
    "\n",
    "# The unit defined in the decorator can be used with dot notation\n",
    "# In this case the function are units can be used as area.unit\n",
    "print(f'The area is {area(3,5)}{area.unit}')"
   ]
  },
  {
   "cell_type": "markdown",
   "metadata": {},
   "source": [
    "Decorate the `adder()` and subtractor functions so that the result of the `adder` function is multiplied by `2` and the result of the `subtract` function is multiplied by `3`."
   ]
  },
  {
   "cell_type": "code",
   "execution_count": 271,
   "metadata": {},
   "outputs": [
    {
     "name": "stdout",
     "output_type": "stream",
     "text": [
      "10\n",
      "-3\n"
     ]
    }
   ],
   "source": [
    "def multiply(by = None):\n",
    "    def multiply_real_decorator(function):\n",
    "        def wrapper(*args,**kwargs):\n",
    "            return by * function(*args,**kwargs)\n",
    "        return wrapper\n",
    "    return multiply_real_decorator\n",
    "\n",
    "@multiply(by = 2)\n",
    "def adder(a,b):\n",
    "    return a + b\n",
    "\n",
    "@multiply(by = 3)\n",
    "def subtractor(a,b):\n",
    "    return a - b\n",
    "\n",
    "print(adder(2,3))\n",
    "print(subtractor(2,3))"
   ]
  },
  {
   "cell_type": "markdown",
   "metadata": {},
   "source": [
    "# 10 Classes\n",
    "Python is known as an object-oriented language, which means it has first-class support for classes. Unlike some other languages, for instance, Java, you’re not forced to use classes, as you can see by the fact that we haven’t used classes in any of the other units. Python is also known as mixed-paradigm language in that you can use either a functional or object-orientated style. Classes are a good way of combining data and methods and are useful when dealing with hierarchies. They are generally used to model more complex data types which can’t be modelled using Python’s built-in data structures such as lists and dicts.\n",
    "![car-class.png](./img/car-class.png)\n",
    "\n",
    "We define a class by using the `class` keyword followed by the name. Like functions, a class does not do anything until it is executed. Scope also applies to classes so global and nonlocal scope have to be taken into consideration. A class name should start with a capital letter and should have a docstring. Classes can contain functions and other statements."
   ]
  },
  {
   "cell_type": "code",
   "execution_count": 272,
   "metadata": {},
   "outputs": [],
   "source": [
    "class HelloWorld:\n",
    "    \"\"\"A simple example class\"\"\"\n",
    "    i = 12345\n",
    "\n",
    "    def f(self):\n",
    "        return 'Hello, world!'"
   ]
  },
  {
   "cell_type": "markdown",
   "metadata": {},
   "source": [
    "## The `__init__()` Method\n",
    "The first thing to note is that a function within a class is known as a **method**. A particular type of method that runs when an instance of the class is created is an initializer. The `__init__` method is known as a **dunder**, double-underscore or magic method, and these tend to be used on classes mainly. They use double underscores so as not to conflict with your own defined classes.\n",
    "\n",
    "An `__init__()` method on its own would simply create an empty class object. However, an `__init__()` method can take arguments. The first parameter should always be the `self` object:\n",
    "```python\n",
    "class MyClass:\n",
    "    def __init__(self, ...):\n",
    "    ...\n",
    "```\n",
    "One of the advantages of object-orientated programming is the ability to model the real world in code. If you were writing software to use in a car factory or dealership, you could use a class to create an object `Car` that has the same properties and attributes as a real car. In the runnable example, we have initialized a `Car` object with attributes `Green`, `Ford`, `Mustang` and `Gasoline`. Note the use of the `self` keyword."
   ]
  },
  {
   "cell_type": "code",
   "execution_count": 273,
   "metadata": {},
   "outputs": [],
   "source": [
    "class Car:\n",
    "    def __init__(self, color, make, model, fueltype):\n",
    "        self.color = color\n",
    "        self.make = make\n",
    "        self.model = model\n",
    "        self.fueltype = fueltype\n",
    "\n",
    "bullitt = Car('Green', 'Ford', 'Mustang', 'Gasoline')"
   ]
  },
  {
   "cell_type": "markdown",
   "metadata": {},
   "source": [
    "## The `self` keyword\n",
    "The `self` keyword associates functions and properties with a class. It also holds references to data and behaviour of particular instances of a class. It’s customary to use `self` to refer to the class instance, but in fact, any variable could be used. It must be the first parameter of any function in the class. Python simply uses `self` to state to what instance to assign an instance attribute. In the previous unit, we created an object `bullitt` with color of `Green`. The `self` keyword is used to confirm that the argument `Green` for the object instance `bullitt` is a reference to the `color` attribute of the class `Car`.\n",
    "\n",
    "This example of a class `Bird` has properties of `name` and `call`. A method to describe the bird is included in the class."
   ]
  },
  {
   "cell_type": "code",
   "execution_count": 274,
   "metadata": {},
   "outputs": [
    {
     "name": "stdout",
     "output_type": "stream",
     "text": [
      "A(n) Owl goes Twit Twoo!\n"
     ]
    }
   ],
   "source": [
    "class Bird:\n",
    "   \"\"\" Bird class \"\"\"\n",
    "   def __init__(self, kind, call):\n",
    "      #properties\n",
    "       self.kind = kind\n",
    "       self.call = call\n",
    "\n",
    "   #behaviour\n",
    "   def description(self):\n",
    "       \"\"\" describe the bird \"\"\"\n",
    "       return f\"A(n) {self.kind} goes {self.call}\" \n",
    "       \n",
    "owl = Bird('Owl', 'Twit Twoo!')\n",
    "print(owl.description())"
   ]
  },
  {
   "cell_type": "markdown",
   "metadata": {},
   "source": [
    "## Creating Class Instances\n",
    "You can create multiple instances of a class. An instance is an individual object of the class in memory. It exists live in RAM until the point it is removed.\n",
    "\n",
    "Let's return to the `Bird` class. When you create an instance of the class, it is the initializer code that runs. This is the `__init__` method. This method assigns the values to the object properties. The `self` keyword is a reference to the current instance of the class and is used to access variables that belong to the class. To create an instance of the class, you need to provide the same quantity of values as there are properties (in this case two). Once you have an instance of that class, you can access the variables and methods using the dot notation."
   ]
  },
  {
   "cell_type": "code",
   "execution_count": 275,
   "metadata": {},
   "outputs": [
    {
     "data": {
      "text/plain": [
       "'Parrr!'"
      ]
     },
     "execution_count": 275,
     "metadata": {},
     "output_type": "execute_result"
    }
   ],
   "source": [
    "parrot = Bird('Parrot', 'Parrr!')\n",
    "parrot.call"
   ]
  },
  {
   "cell_type": "code",
   "execution_count": 276,
   "metadata": {},
   "outputs": [
    {
     "data": {
      "text/plain": [
       "'A(n) Crow goes Caaaw!'"
      ]
     },
     "execution_count": 276,
     "metadata": {},
     "output_type": "execute_result"
    }
   ],
   "source": [
    "crow = Bird('Crow', 'Caaaw!')\n",
    "crow.description()"
   ]
  },
  {
   "cell_type": "code",
   "execution_count": 277,
   "metadata": {},
   "outputs": [
    {
     "data": {
      "text/plain": [
       "'A(n) Crow goes screech'"
      ]
     },
     "execution_count": 277,
     "metadata": {},
     "output_type": "execute_result"
    }
   ],
   "source": [
    "crow.call = 'screech'\n",
    "crow.description()"
   ]
  },
  {
   "cell_type": "code",
   "execution_count": 278,
   "metadata": {},
   "outputs": [],
   "source": [
    "del crow.call"
   ]
  },
  {
   "cell_type": "markdown",
   "metadata": {},
   "source": [
    "* The dot notation can also be used to modify the properties of objects with the use of the assignment operator.\n",
    "* The `del` keyword can be used to delete a property or an object. Try creating and editing other instances of the `Bird` class."
   ]
  },
  {
   "cell_type": "markdown",
   "metadata": {},
   "source": [
    "## Class Properties & Attributes\n",
    "A class can contain data. If you create a Python variable within the class, it is known as a class attribute. As it is created outside the constructor function, it is shared between all objects of this class. However, if you create a Python variable within the constructor function, it is known as an instance attribute. An instance attribute is only accessible from the scope of an object instantiated from the class.\n",
    "\n",
    "When we access these attributes from the class or from the object, they are referred to as properties. A class attribute can be accessed as a class property or an instance property. If you try and access an instance attribute as a class property, then you will raise an `AttributeError`.\n",
    "![class-properties.png](./img/class-properties.png)"
   ]
  },
  {
   "cell_type": "markdown",
   "metadata": {},
   "source": [
    "In the runnable example, there is both a class attribute of `definition` and two instance attributes of `kind` and `call`. The `owl` object instantiated from the `Bird` class is able to access the class and instance properties with dot notation. The `Bird` class, however, can only access the class property. Trying to access `call` gives the following error; `AttributeError: type object 'Bird' has no attribute 'call'`"
   ]
  },
  {
   "cell_type": "code",
   "execution_count": 279,
   "metadata": {},
   "outputs": [
    {
     "name": "stdout",
     "output_type": "stream",
     "text": [
      "A(n) Owl goes Twit Twoo!\n",
      "a warm-blooded egg-laying vertebrate animal distinguished by the possession of feathers, wings, a beak, and typically by being able to fly.\n",
      "Twit Twoo!\n"
     ]
    }
   ],
   "source": [
    "class Bird:\n",
    "    \"\"\"  Bird class  \"\"\"\n",
    "    # class attribute\n",
    "    definition = \"a warm-blooded egg-laying vertebrate animal distinguished by the possession of feathers, wings, a beak, and typically by being able to fly.\"\n",
    "\n",
    "    def __init__(self, kind, call):\n",
    "        self.kind = kind   # instance attribute\n",
    "        self.call = call   # instance attribute\n",
    "\n",
    "    def description(self):\n",
    "        \"\"\"  describe the bird  \"\"\"\n",
    "        return f\"A(n) {self.kind} goes {self.call}\" \n",
    "       \n",
    "owl = Bird('Owl', 'Twit Twoo!')\n",
    "print(owl.description())# class method called trough instance\n",
    "print(owl.definition)   # this is class property accessed through instance\n",
    "print(owl.call)         # this is instance property"
   ]
  },
  {
   "cell_type": "markdown",
   "metadata": {},
   "source": [
    "```python\n",
    "print(Bird.definition) # this is class property accessed through class\n",
    "a warm-blooded egg-laying vertebrate animal distinguished by the possession of feathers, wings, a beak, and typically by being able to fly.\n",
    "\n",
    "print(Bird.call)       # instance property through class, doesn't even make sense\n",
    "---------------------------------------------------------------------------\n",
    "AttributeError                            Traceback (most recent call last)\n",
    "<ipython-input-1-10e9d506640f> in <module>\n",
    "---> print(Bird.call)\n",
    "\n",
    "AttributeError: type object 'Bird' has no attribute 'call'\n",
    "```"
   ]
  },
  {
   "cell_type": "markdown",
   "metadata": {},
   "source": [
    "### Methods\n",
    "A method is a function that is within a class or object. When you have seen the term method used in the lessons so far it has concerned the built-in methods such as `append()` for a `list`. You can create your methods within your classes. When you create an instance of that class, then you can call the method using dot notation. In the class instance unit, we used the description method on the object `owl`, which was instantiated from the `Bird` class. This is referred to as invoking the `description()` method. Not all methods in a class need to be public. If you want to indicate to other developers that a method is private, then prefix the method name with an underscore. A private method is one that cannot be accessed except within the class. We will use private methods in an upcoming unit.\n",
    "![class+method.png](./img/class+method.png)"
   ]
  },
  {
   "cell_type": "markdown",
   "metadata": {},
   "source": [
    "### Subclassing and Inheritance\n",
    "Subclassing is a useful way of creating a specialised version of a class with its methods but re-using existing methods and properties of the parent (or base) class. \n",
    "![subclass+inheritance.png](./img/subclass+inheritance.png)\n",
    "\n",
    "* To subclass/inherit from a superclass/parent, add the name of the parent class inside parentheses as part of the subclass name. \n",
    "```python\n",
    "class SubClass(SuperClass):\n",
    "```\n",
    "* To call a method on the parent class, precede the parent method name with the parent class name and a period. (see 3rd line below)\n",
    "```python\n",
    "class SubClass(SuperClass):\n",
    "    def __init__(self):\n",
    "        SuperClass.__init__(self, 'foo')\n",
    "```\n",
    "\n",
    "In the example we create a `Parrot` class which subclasses the `Bird` class created in previous units. We use the existing methods on the parent/base class, and we don’t have to supply the `kind` or `call` attributes, because that’s inherited into the `Parrot` class. We can add specialized behaviour such as the additional property of `color`."
   ]
  },
  {
   "cell_type": "code",
   "execution_count": 280,
   "metadata": {},
   "outputs": [
    {
     "name": "stdout",
     "output_type": "stream",
     "text": [
      "blue\n",
      "A Parrot goes Kah! and is a warm-blooded egg-laying vertebrate animal distinguished by the possession of feathers, wings, a beak, and typically by being able to fly.\n"
     ]
    }
   ],
   "source": [
    "class Bird:\n",
    "    \"\"\"  Bird class  \"\"\"\n",
    "    # class attribute\n",
    "    definition = \"a warm-blooded egg-laying vertebrate animal distinguished by the possession of feathers, wings, a beak, and typically by being able to fly.\"\n",
    "\n",
    "    def __init__(self, kind, call):\n",
    "        self.kind = kind  # instance attribute\n",
    "        self.call = call  # instance attribute\n",
    "\n",
    "    def description(self):\n",
    "        \"\"\"  describe the bird  \"\"\"\n",
    "        return f\"A {self.kind} goes {self.call} and is {self.definition}\"\n",
    "\n",
    "class Parrot(Bird):\n",
    "    def __init__(self, color):\n",
    "        Bird.__init__(self, 'Parrot', 'Kah!') # call the parent's init method\n",
    "        self.color = color  # subclass attribute, eadditional to the inherited attributes\n",
    "\n",
    "parrot = Parrot('blue')\n",
    "print(parrot.color)\n",
    "print(parrot.description())"
   ]
  },
  {
   "cell_type": "markdown",
   "metadata": {},
   "source": [
    "We created a subclass that inherited from a parent class. This inheritance relationship states that a `Parrot` is a `Bird`. It means you do not have to duplicate all the properties of a `Bird` when you create a subclass. Anywhere in your code that you used a `Bird` object, you can now use a `Parrot` one."
   ]
  },
  {
   "cell_type": "markdown",
   "metadata": {},
   "source": [
    "### Mixins\n",
    "A **mixin** is a class that provides methods to other classes but is not itself a parent class. You cannot create a subclass of a mixin. If you find yourself creating methods in your subclasses that are very similar, then this is an opportunity to move that method into a mixin.\n",
    "![class+mixin.png](./img/class+mixin.png)\n",
    "The purpose of a mixin is to reduce the amount of unnecessary duplication of code. If you have a piece of logic that is frequently repeated in the subclasses, then move it to a mixin.\n",
    "\n",
    "Here we have a superclass with a method that returns `x` and two subclasses with methods that return `y` and `z` respectively as a tuple including the inherited `x` from their parent class. However, both subclasses also use a mixin which unpacks a tuple and returns the values in a string with some formatting. The mixin has no `__init__` so cannot be a superclass. It is just a class containing a method that you can use in any other class in your program."
   ]
  },
  {
   "cell_type": "code",
   "execution_count": 281,
   "metadata": {},
   "outputs": [
    {
     "name": "stdout",
     "output_type": "stream",
     "text": [
      "Hello, World!\n",
      "Hello, WorldWorld!\n"
     ]
    }
   ],
   "source": [
    "class SuperClass:\n",
    "    \"\"\"This is the base or parent class\"\"\"\n",
    "    def __init__(self, x):\n",
    "        self.x = x\n",
    "    def result(self):\n",
    "        \"\"\"Method returns a variable x\"\"\"\n",
    "        return self.x\n",
    "\n",
    "class Mixin:\n",
    "    \"\"\"This mixin can be used with any class\"\"\"\n",
    "    def prettify_string(self, a):\n",
    "        \"\"\"Method that returns a string containing variables c and d\"\"\"\n",
    "        c, d = a # Unpacks the tuple a into variables c and d\n",
    "        return f'{c}, {d}!'\n",
    "\n",
    "class SubClass1(Mixin, SuperClass):\n",
    "    def __init__(self, x, y):\n",
    "        \"\"\"Inherits x from SuperClass and extends with variable y\"\"\"\n",
    "        SuperClass.__init__(self, x)\n",
    "        self.y = y\n",
    "    def result1(self):\n",
    "        \"\"\"Returns a tuple of x and y\"\"\"\n",
    "        return self.x, self.y\n",
    "    \n",
    "class SubClass2(Mixin, SuperClass):\n",
    "    def __init__(self, x, z):\n",
    "        \"\"\"Inherits x from SuperClass and extends with variable z\"\"\"\n",
    "        SuperClass.__init__(self, x)\n",
    "        self.z = z\n",
    "    def result2(self):\n",
    "        \"\"\"Returns a tuple of x and z\"\"\"\n",
    "        return self.x, 2 * self.z\n",
    "\n",
    "hello = SubClass1('Hello', 'World')\n",
    "world = SubClass2('Hello', 'World')\n",
    "\n",
    "print(hello.prettify_string(hello.result1()))\n",
    "print(world.prettify_string(world.result2()))"
   ]
  },
  {
   "cell_type": "markdown",
   "metadata": {},
   "source": [
    "In the below example, we create a simple Human Resources application. The first class is `Employee` which is the base class. It takes the necessary information about the employees and increments the employee number for each new employee added to the system. Then we have a mixin class `HolidayMixin`. This is just a piece of logic to calculate the extra holidays you accrue the longer you work for the company. You cannot create an instance of this class. As a mixin, it just contains a method to return the number of holidays a particular employee is due. It bases this on the number of years of service.\n",
    "\n",
    "The next class is `DirectDeveloper`. This subclasses `Employe`e but takes an additional parameter of `prog_language`, allowing you to specify which programming language this developer uses. There is a method here to calculate the `salary` and give a `bonus` to Python developers as they are most in demand. The details method inherits from the `Employee` class and adds additional information about the programming language.\n",
    "\n",
    "We have instantiated two developers here, one Python and one PHP. See how their details differ. Also, we use the method from the mixin to see how much annual leave they have accrued. You can also call the method to see their salary. Try adding some other developers and see the employee numbers increase. Try different programming languages and years of service to see how the salary or holiday benefits change."
   ]
  },
  {
   "cell_type": "code",
   "execution_count": 282,
   "metadata": {},
   "outputs": [
    {
     "name": "stdout",
     "output_type": "stream",
     "text": [
      "Name: Eric Praline\n",
      " Years Worked: 2\n",
      " Employee Number: 1\n",
      "Programming Language: python\n",
      "Holidays: 21\n",
      "$33000.0\n",
      "Name: Luigi Vercotti\n",
      " Years Worked: 10\n",
      " Employee Number: 2\n",
      "Programming Language: php\n",
      "Holidays: 23\n",
      "$30000\n"
     ]
    }
   ],
   "source": [
    "class Employee:\n",
    "    \"\"\"\n",
    "    Base class for employees\n",
    "    \"\"\"\n",
    "    # class attribute\n",
    "    employee_no = 0\n",
    "\n",
    "    def __init__(self, name, no_of_years):\n",
    "        # instance attribute\n",
    "        self.name = name\n",
    "        self.no_of_years = no_of_years\n",
    "        Employee.employee_no += 1\n",
    "        self.employee_no = Employee.employee_no\n",
    "\n",
    "    def details(self):\n",
    "        \"\"\"\n",
    "        Method to return employee details as a string\n",
    "        \"\"\"\n",
    "        return f\"Name: {self.name}\\n Years Worked: {self.no_of_years}\\n Employee Number: {self.employee_no}\\n\"\n",
    "\n",
    "\n",
    "class HolidayMixin:\n",
    "    \"\"\"\n",
    "    Mixin to calculate holiday entitlement by years of service.\n",
    "    Note that a mixin has no __init__ as you cannot create an instance of a mixin\n",
    "    \"\"\"\n",
    "    def calculate_holidays(self, no_of_years):\n",
    "        \"\"\"\n",
    "        Method that returns holidays as an integer if given no of years of service\n",
    "        \"\"\"\n",
    "        BASE_HOLIDAY = 20\n",
    "        bonus = 0\n",
    "        holidays = BASE_HOLIDAY\n",
    "        if no_of_years < 3:\n",
    "            bonus = holidays + 1\n",
    "        elif no_of_years <= 5:\n",
    "            bonus = holidays + 2\n",
    "        elif no_of_years > 5:\n",
    "            bonus = holidays + 3\n",
    "        return f'Holidays: {bonus}'\n",
    "\n",
    "\n",
    "class DirectDeveloper(HolidayMixin, Employee):\n",
    "    \"\"\"\n",
    "    Class for direct developer employee inheriting from \n",
    "    Employee class but also inheriting from HolidayMixin\n",
    "    \"\"\"\n",
    "    def __init__(self, name, no_of_years, prog_lang):\n",
    "        self.prog_language = prog_lang\n",
    "        Employee.__init__(self, name, no_of_years)\n",
    "\n",
    "    def calculate_salary(self):\n",
    "        \"\"\"\n",
    "        Returns salary plus bonus as an integer\n",
    "        \"\"\"\n",
    "        base = 30000\n",
    "        if self.prog_language.lower() == 'python':\n",
    "            bonus = base * 0.10\n",
    "        else:\n",
    "            bonus = 0\n",
    "        return base + bonus\n",
    "\n",
    "    def get_details(self):\n",
    "        \"\"\"\n",
    "        Method to return direct developer details as a string\n",
    "        Uses details() method inherited from Employee super class\n",
    "        \"\"\"\n",
    "        return Employee.details(self) + f'Programming Language: {self.prog_language}'\n",
    "\n",
    "\n",
    "eric = DirectDeveloper(\"Eric Praline\", 2, \"python\")\n",
    "\n",
    "# Prints out all the attributes of your eric instance using get_details method from DirectDeveloper\n",
    "# If you use the details method from Employee then the Programming Language will not print\n",
    "print(eric.get_details())\n",
    "# The mixin method is usable for instance eric\n",
    "print(eric.calculate_holidays(eric.no_of_years))\n",
    "# Uses the calculate_salary method from DirectDeveloper\n",
    "print(f'${eric.calculate_salary()}')\n",
    "\n",
    "luigi = DirectDeveloper(\"Luigi Vercotti\", 10, \"php\")\n",
    "print(luigi.get_details())\n",
    "print(luigi.calculate_holidays(luigi.no_of_years))\n",
    "print(f'${luigi.calculate_salary()}')"
   ]
  },
  {
   "cell_type": "markdown",
   "metadata": {},
   "source": [
    "### Class compositions\n",
    "\n",
    "In object-orientated programming, two significant concepts are **inheritance** and **composition**.\n",
    "\n",
    "Inheritance is what we have used up until now in this lesson. For example, a subclass `Parrot` inherits from a `Bird` class. The inheritance relationship, in this case, is that a `Parrot` is a `Bird`.\n",
    "\n",
    "Composition is where one class contains the object of another class. In this case, we could have a `Bird` class and a `Tail` class. The composition relationship here would be that a `Parrot` has a tail so would inherit from both `Bird `and `Tail`. However, a `Kiwi` does not have a tail, so would only inherit from `Bird`. That way, you can have a `Duck` and a `Parrot` class that reuse `Tail` but are themselves not derived from each other. A `Parrot` is not a `Duck`, but both of them have a `Tail`.\n",
    "\n",
    "The purpose of both mixin and composite is to reduce the amount of unnecessary duplication of code. With the `Bird` example, you can have many bird subclasses, but if some of them share certain properties, then there is the opportunity to move them into a class with a composite relationship. You could, for example, reuse the `Tail` class in another program where you have a `Reptile` base class."
   ]
  },
  {
   "cell_type": "markdown",
   "metadata": {},
   "source": [
    "In this example, `Electric` inherits from `Vehicle`. Therefore the `tesla` object is a `Vehicle`. However, `InternalCombustion` class has a composition relationship with `Engine`. The `volkswagen` has an engine, but it is not an engine. The `Engine` class could be reused for a `PowerBoat` class without `PowerBoat` and `InternalCombustion` being derived from one another."
   ]
  },
  {
   "cell_type": "code",
   "execution_count": 283,
   "metadata": {},
   "outputs": [],
   "source": [
    "class Vehicle:\n",
    "    def __init__(self, make, model):\n",
    "        self.make = make\n",
    "        self.model = model\n",
    "\n",
    "class Engine:\n",
    "    def __init__(self, capacity, fuel):\n",
    "        self.capacity = capacity\n",
    "        self.fuel = fuel\n",
    "    \n",
    "class InternalCombustion(Vehicle, Engine):\n",
    "    def __init__(self, make, model, capacity, fuel):\n",
    "        Vehicle.__init__(self, make, model)\n",
    "        Engine.__init__(self, capacity, fuel)\n",
    "        \n",
    "class Electric(Vehicle):\n",
    "    def __init__(self, make, model):\n",
    "        Vehicle.__init__(self, make, model)\n",
    "        \n",
    "volkswagen = InternalCombustion(\"Volkswagen\", \"Golf\", 1.7, \"Diesel\")\n",
    "tesla = Electric(\"Tesla\", \"X\")"
   ]
  },
  {
   "cell_type": "markdown",
   "metadata": {},
   "source": [
    "In the following example, we extend our simple Human Resources application. The first additional class is `ExternalContract` for employees who are not direct employees of the company but are contract employees. This has an instance attribute to take the cost of the contract and a method that returns that added to the employee salary.\n",
    "\n",
    "Finally, we have the `ContractDeveloper` class. This is for developers who are not direct employees. This has a composition relationship with `ExternalContract`. A contract developer has an external contract. A direct developer does not. You can reuse this `ExternalContract` for any other job class you create. Here we have also included the `HolidayMixin`. This class uses composition and mixin. The method details for `ContractDeveloper` inherits from `Employee` but also provides for the cost of the contract.\n",
    "\n",
    "We have instantiated two developers here, one direct and one contract. See how their details differ. Also, we use the method from the mixin to see how much annual leave they have accrued. For the direct developer, you can also call the method to see their salary."
   ]
  },
  {
   "cell_type": "code",
   "execution_count": 284,
   "metadata": {},
   "outputs": [
    {
     "name": "stdout",
     "output_type": "stream",
     "text": [
      "First Name: Eric\n",
      " Surname: Praline\n",
      " Years Worked: 2\n",
      " Employee Number: 1\n",
      "Programming Language: python\n",
      "Holidays: 21\n",
      "$33000.0\n",
      "First Name: Luigi\n",
      " Surname: Vercotti\n",
      " Years Worked: 10\n",
      " Employee Number: 2\n",
      "Programming Language: python\n",
      " Contract cost: 130000\n",
      "Holidays: 23\n"
     ]
    }
   ],
   "source": [
    "class Employee:\n",
    "    \"\"\"\n",
    "    Base class for employees\n",
    "    \"\"\"\n",
    "    # class attribute\n",
    "    employee_no = 0\n",
    "\n",
    "    def __init__(self, fname, sname, no_of_years):\n",
    "        # instance attribute\n",
    "        self.fname = fname\n",
    "        self.sname = sname\n",
    "        self.no_of_years = no_of_years\n",
    "        Employee.employee_no +=1\n",
    "        self.employee_no = Employee.employee_no\n",
    "\n",
    "    def details(self):\n",
    "        \"\"\"\n",
    "        Method to return employee details as a string\n",
    "        \"\"\"\n",
    "        return f\"First Name: {self.fname}\\n Surname: {self.sname}\\n Years Worked: {self.no_of_years}\\n Employee Number: {self.employee_no}\\n\"\n",
    "\n",
    "class ExternalContract:\n",
    "    \"\"\"\n",
    "    Class for contract employees\n",
    "    \"\"\"\n",
    "\n",
    "    def __init__(self, contract_cost):\n",
    "        self.contract_cost = contract_cost\n",
    "\n",
    "    def cost(self):\n",
    "        \"\"\"\n",
    "        Returns the contract cost added to the salary\n",
    "        \"\"\"\n",
    "        return self.contract_cost + 30000\n",
    "\n",
    "\n",
    "class HolidayMixin:\n",
    "    \"\"\"\n",
    "    Mixin to calculate holiday entitlement by years of service.\n",
    "    \"\"\"\n",
    "    def calculate_holidays(self, no_of_years):\n",
    "        \"\"\"\n",
    "        Returns holidays as an integer\n",
    "        \"\"\"\n",
    "        BASE_HOLIDAY = 20\n",
    "        bonus = 0\n",
    "        holidays = BASE_HOLIDAY\n",
    "        if self.no_of_years < 3:\n",
    "            bonus = holidays + 1\n",
    "        elif self.no_of_years <= 5:\n",
    "            bonus = holidays + 2\n",
    "        elif self.no_of_years > 5:\n",
    "            bonus = holidays + 3\n",
    "        return f'Holidays: {bonus}'\n",
    "\n",
    "\n",
    "class DirectDeveloper(HolidayMixin, Employee):\n",
    "    \"\"\"\n",
    "    Class for direct developer employee inheriting from \n",
    "    Employee class. \n",
    "    \"\"\"\n",
    "    def __init__(self, fname, sname, no_of_years, prog_lang):\n",
    "        self.prog_language = prog_lang\n",
    "        Employee.__init__(self, fname, sname, no_of_years)\n",
    "\n",
    "    def calculate_salary(self):\n",
    "        \"\"\"\n",
    "        Returns salary plus bonus as an integer\n",
    "        \"\"\"\n",
    "        base = 30000\n",
    "        if self.prog_language.lower() == 'python':\n",
    "            bonus = base * 0.10\n",
    "        else:\n",
    "            bonus = 0\n",
    "        return base + bonus\n",
    "\n",
    "    def details(self):\n",
    "        \"\"\"\n",
    "        Method to return direct developer details as a string\n",
    "        \"\"\"\n",
    "        return Employee.details(self) + f'Programming Language: {self.prog_language}'\n",
    "\n",
    "\n",
    "class ContractDeveloper(HolidayMixin, Employee, ExternalContract):\n",
    "    \"\"\"\n",
    "    Class is subclass of Employee, composition relationship\n",
    "    with ExternalContract and using HolidayMixin\n",
    "    \"\"\"\n",
    "    def __init__(self, fname, sname, no_of_years, prog_language, contract_cost):\n",
    "        self.prog_language = prog_language\n",
    "        self.contract_cost = contract_cost\n",
    "        Employee.__init__(self, fname, sname, no_of_years)   \n",
    "\n",
    "    def details(self):\n",
    "        \"\"\"\n",
    "        Returns inherited details plus contract cost\n",
    "        \"\"\"\n",
    "        return Employee.details(self) + f'Programming Language: {self.prog_language}\\n Contract cost: {ExternalContract.cost(self)}'\n",
    "\n",
    "\n",
    "dev = DirectDeveloper(\"Eric\", \"Praline\", 2, \"python\")\n",
    "# There is no composition relationship here. A DirectDeveloper is an Employee\n",
    "print(dev.details())\n",
    "print(dev.calculate_holidays(dev.no_of_years))\n",
    "print(f'${dev.calculate_salary()}')\n",
    "\n",
    "contractor = ContractDeveloper(\"Luigi\", \"Vercotti\", 10, \"python\", 100000)\n",
    "# When the contractor details are printed the Contract cost is obtained from ExternalContract class\n",
    "# There is a composition relationship as contractor has an ExternalContract\n",
    "# However, an external contract is not an employee\n",
    "# ExternalContract is an object that could be reused by many other objects. \n",
    "print(contractor.details())\n",
    "# The mixin can also be used\n",
    "print(contractor.calculate_holidays(contractor.no_of_years))"
   ]
  },
  {
   "cell_type": "markdown",
   "metadata": {},
   "source": [
    "### Superclassing: Accessing the Parent\n",
    "We have already looked at how to inherit properties from one class to another. The class that inherits is the subclass. Therefore, if you refer to the class, it is inheriting from the superclass. Up till now in this lesson when referring to the superclass in a subclass, we have explicitly used the superclass name in front of the inherited attributes or properties. To improve the maintainability of your code, use the `super()` function in place of the superclass name. Therefore, if you ever change the superclass you only then need to change the argument in the subclass definition not everywhere else in the code. See line 3 below, the reference to superclass `SuperClass` is replaced with the function `super()` in the subclass `SubClass`:\n",
    "```python\n",
    "class SubClass(SuperClass):\n",
    "    def __init__(self, height):\n",
    "        super().__init__(height, height)\n",
    "```\n",
    "\n",
    "Let's look at a simple example. When we look at simple shapes, you can see that a square is a special type of rectangle where the width and height are the same. How would you show this relationship in object-orientated programming?"
   ]
  },
  {
   "cell_type": "code",
   "execution_count": 285,
   "metadata": {},
   "outputs": [],
   "source": [
    "class Rectangle:\n",
    "    def __init__(self, height, width):\n",
    "        self.height = height\n",
    "        self.width = width\n",
    "\n",
    "    def area(self):\n",
    "        return self.height * self.width\n",
    "\n",
    "    def perimeter(self):\n",
    "        return 2 * (self.height + self.width)\n",
    "\n",
    "\n",
    "class Square(Rectangle):\n",
    "    def __init__(self, height):\n",
    "        super().__init__(height, height)  # here we use the super() instead of Rectangle"
   ]
  },
  {
   "cell_type": "markdown",
   "metadata": {},
   "source": [
    "### Passing methods around\n",
    "One thing you may have noticed in the examples is that methods are passed around from superclass or mixin to subclass. This is possible in Python as a method is itself an object. Methods are functions within a class so in the same way functions are passed around so are methods.\n",
    "\n",
    "If we return to the `Parrot` example, we see that we can use the `description` method belonging to the `Bird` class with an instance of the `Parrot` class. The method has been passed from the superclass to the subclass and is available for use by an object instantiated from the subclass."
   ]
  },
  {
   "cell_type": "code",
   "execution_count": 286,
   "metadata": {},
   "outputs": [
    {
     "name": "stdout",
     "output_type": "stream",
     "text": [
      "blue\n",
      "A Parrot goes Kah! and is a warm-blooded egg-laying vertebrate animal distinguished by the possession of feathers, wings, a beak, and typically by being able to fly.\n"
     ]
    }
   ],
   "source": [
    "class Bird:\n",
    "    \"\"\" Bird class  \"\"\"\n",
    "    # class attribute\n",
    "    definition = \"a warm-blooded egg-laying vertebrate animal distinguished by the possession of feathers, wings, a beak, and typically by being able to fly.\"\n",
    "\n",
    "    def __init__(self, kind, call):\n",
    "        self.kind = kind  # instance attribute\n",
    "        self.call = call  # instance attribute\n",
    "\n",
    "    def description(self):\n",
    "        \"\"\"  describe the bird \"\"\"\n",
    "        return f\"A {self.kind} goes {self.call} and is {self.definition}\" \n",
    "\n",
    "class Parrot(Bird):\n",
    "    def __init__(self, color):\n",
    "        Bird.__init__(self, 'Parrot', 'Kah!')\n",
    "        self.color = color\n",
    "\n",
    "\n",
    "parrot = Parrot('blue')\n",
    "print(parrot.color)\n",
    "print(parrot.description())  #this is originally the Bird class's method, inherited into Parrot"
   ]
  },
  {
   "cell_type": "markdown",
   "metadata": {},
   "source": [
    "### Decorators in OOP\n",
    "A decorator is a way in Python to add new functionality to an existing method without modifying its structure. This is useful as you do not need to create new functionality in your code if a decorator already exists for that purpose."
   ]
  },
  {
   "cell_type": "markdown",
   "metadata": {},
   "source": [
    "Now let's look at a real-world example of using a decorator. If we return to `Bird` objects again, we have an instance variable called `fowl_types` with information about the species. We don’t want to accidentally corrupt this information. Classes should only share what data is needed. This is known as **Encapsulation and Separation of Concerns**. To mark `fowl_types` as private and only available to other methods in the class, we have prefixed the name with a `__` dunder. Now we cannot access it but the new method within the class named `fowl_type()` can. The `return` in the `description` method now uses that method to display the information on fowl type. However, for this to work, we need to give read-only access. A built-in decorator already exists in Python for that purpose. Therefore we can wrap the `fowl_type()` method in a `@property` decorator. Try removing it to see what happens."
   ]
  },
  {
   "cell_type": "code",
   "execution_count": 287,
   "metadata": {},
   "outputs": [
    {
     "name": "stdout",
     "output_type": "stream",
     "text": [
      "A Swan goes honk \n",
      "Some interesting facts about the Swan : A Swan is of type Waterfowl. Waterfowl is an order of birds that comprises about 180 living species in three families: Anhimidae (the screamers), Anseranatidae (the magpie goose), and Anatidae,the largest family, which  includes over 170 species of waterfowl, among them the ducks, geese, and swans.\n",
      "Waterfowl is an order of birds that comprises about 180 living species in three families: Anhimidae (the screamers), Anseranatidae (the magpie goose), and Anatidae,the largest family, which  includes over 170 species of waterfowl, among them the ducks, geese, and swans.\n"
     ]
    }
   ],
   "source": [
    "class Bird(object):\n",
    "    \"\"\"  Bird superclass  \"\"\"\n",
    "    def __init__(self, kind, call):\n",
    "        self.kind = kind  # instance attribute\n",
    "        self.call = call  # instance attribute\n",
    "\n",
    "    def description(self):\n",
    "        \"\"\"  Returns description string including instance attributes  \"\"\"\n",
    "        return f'A {self.kind} goes {self.call}'\n",
    "\n",
    "class Fowl(Bird):\n",
    "    \"\"\"  Subclass of the superclass Bird  \"\"\"\n",
    "    def __init__(self, kind, call, category):\n",
    "        self.__fowl_types = {'landfowl': 'Landfowl is an order of heavy-bodied ground-feeding birds that includes turkey, grouse, chicken, New World quail and Old World quail, ptarmigan, partridge, pheasant, junglefowl and the Cracidae',\n",
    "                            'waterfowl': 'Waterfowl is an order of birds that comprises about 180 living species in three families: Anhimidae (the screamers), Anseranatidae (the magpie goose), and Anatidae,the largest family, which  includes over 170 species of waterfowl, among them the ducks, geese, and swans.'}\n",
    "        self.category = category\n",
    "        super().__init__(kind, call) # Uses super() function to state kind, call from superclass Bird\n",
    "\n",
    "    @property # make a Read-Only property out of a method\n",
    "    def fowl_type(self):\n",
    "        return self.__fowl_types[self.category.lower()]\n",
    "\n",
    "    def description(self):\n",
    "        \"\"\" Returns string from superclass description method and appends a string to include additional information \"\"\"\n",
    "        return f'{super().description()} \\nSome interesting facts about the {self.kind} : A {self.kind} is of type {self.category}. {self.fowl_type}'\n",
    "\n",
    "mute = Fowl('Swan', 'honk', 'Waterfowl')\n",
    "print(mute.description())\n",
    "print(mute.fowl_type) # <= the decorator makes it possible to treat the function as a property"
   ]
  },
  {
   "cell_type": "markdown",
   "metadata": {},
   "source": [
    "# 11 Input & Output Operations\n",
    "In this unit, we're going to have a look at file input and output or I/O for short. Data that is taken from the user for example from a keyboard can be written to file. Data in a file can be read and output to the screen.\n",
    "![input+output.png](./img/input+output.png)\n",
    "Most programs store data in memory while they're running. Choosing the correct data structure can make all the difference in the performance of an application. A skilled developer knows how to use and combine smaller data structures into more substantial and more elaborate models in memory. But as great as these models are, anything held in RAM, or Random Access Memory, is volatile. That means that when the program shuts down, either by deliberately exiting or as a result of a crash, then the data is lost.\n",
    "\n",
    "Also, as data gets more and more elaborate, some programs just can't store all of the information they work with, in the memory at the same time. Now, this is changing. Memory capacities are growing, and the cost is continuing to fall. Still, to be safe, a persistent store of data on a non-volatile hard drive, solid-state drive, flash memory or some other storage device will continue to be a part of computing for the foreseeable future.\n",
    "\n",
    "In this module, we're going to have a look at how to store data on a disk using files. You'll already be very familiar with files from your operating system, and there are other ways of storing data, for example in a database, but this is beyond the scope of the current lesson. Even that usually just amounts to storing data in files and accessing them in a certain way."
   ]
  },
  {
   "cell_type": "markdown",
   "metadata": {},
   "source": [
    "## Reading Data From a User\n",
    "When working with computers, we use what is called an interface to interact with the computer. We’re all familiar with working with Graphical User Interface (GUI). The GUI is where we execute applications from our Desktop, opening folders from My Computer, creating Documents in Microsoft Office, and browsing the web with Chrome or Firefox. While we’re working with Python, and providing output to a user, we’re using the Command Line Interface or CLI. This interface is text-based, as opposed to the graphics-based interface we’re all used to seeing, but just remember that all we’re doing is taking input and outputting information to the user.\n",
    "![input-from-user.png](./img/input-from-user.png)\n",
    "With that in mind, let’s take a look at how we can receive some input from a user. For this, we’ll need to use the input function. The input function takes a string as an argument. This is the prompt the user will see. The input function stops the running of the program and waits for the user to enter data in the command line and press return. Whatever the user inputs is converted to a string. Therefore if you need it as a number, you need to convert it."
   ]
  },
  {
   "cell_type": "markdown",
   "metadata": {},
   "source": [
    "```python\n",
    "username = input(\"Type in your name and press return: \")\n",
    "# The programme will remain stopped until you respond to this prompt with some text and press the return key\n",
    "# As the value type that is received from an input is a string\n",
    "# We need to convert it to a number to be able to use it on line 6\n",
    "# We can do this by wrapping the input inside the int() method\n",
    "age = int(input(\"Please enter your age: \"))\n",
    "\n",
    "days = 365 * age\n",
    "# days is a number\n",
    "# To concatenate it to the string we have to convert it to a String\n",
    "# Notice below we do this like: str(days)\n",
    "print(\"Hello \" + username + \", you have been alive for at least \" + str(days) + \" days\")\n",
    "```"
   ]
  },
  {
   "cell_type": "markdown",
   "metadata": {},
   "source": [
    "## Returning data to a user\n",
    "In a command-line Python, program output can be given in several ways. One example is simple statements. An expression statement can be used to compute and write a value. You will also have seen statements in the terminal when an error occurs. These are assertion and raise statements. We will see more of those in the upcoming error handling units. In the IO unit, you saw that output could also write to a file. We will cover this in more detail in an upcoming unit. The most frequently used output you have seen is the print function. This allows you to output data in a human-readable format.\n",
    "\n",
    "Let’s look at fancier ways to format our output. The most basic output is a statement. In this case, we have a simple one-line expression `10 + 20` which is assigned to a variable `i`. When we print this to the console it is considered to be a statement."
   ]
  },
  {
   "cell_type": "code",
   "execution_count": 288,
   "metadata": {},
   "outputs": [
    {
     "name": "stdout",
     "output_type": "stream",
     "text": [
      "30\n"
     ]
    }
   ],
   "source": [
    "i = 10 + 20\n",
    "print(i)"
   ]
  },
  {
   "cell_type": "markdown",
   "metadata": {},
   "source": [
    "Formatted string literals are a way to improve the human readability of the output. We have assigned a string to variable `language` and an integer to variable `version`. With string literals, we can pass these values directly to the print statement with no need to convert data types."
   ]
  },
  {
   "cell_type": "code",
   "execution_count": 289,
   "metadata": {},
   "outputs": [
    {
     "data": {
      "text/plain": [
       "'We are using Python3'"
      ]
     },
     "execution_count": 289,
     "metadata": {},
     "output_type": "execute_result"
    }
   ],
   "source": [
    "language = \"Python\"\n",
    "version = 3\n",
    "f'We are using {language}{version}'"
   ]
  },
  {
   "cell_type": "markdown",
   "metadata": {},
   "source": [
    "This can also be done with expressions. The value of `pi` from the `math` library is expressed within the `print` statement. A format specifier can be included after the colon. In this case, the value is rounded to two significant digits. If instead of a format specifier an integer is placed after the colon, the field will be set to a minimum character value equal to the integer value. Here we have chosen `25` to take into account the longest string."
   ]
  },
  {
   "cell_type": "code",
   "execution_count": 290,
   "metadata": {},
   "outputs": [
    {
     "data": {
      "text/plain": [
       "'The value of pi to 2 decimal places is 3.14'"
      ]
     },
     "execution_count": 290,
     "metadata": {},
     "output_type": "execute_result"
    }
   ],
   "source": [
    "import math\n",
    "# Here the format specifier .2f is used to truncate at 2 decimal places\n",
    "f'The value of pi to 2 decimal places is {math.pi:.2f}'"
   ]
  },
  {
   "cell_type": "markdown",
   "metadata": {},
   "source": [
    "When including a non-keyboard character such as the pound sterling, it can be done by using the `chr()` and the Unicode value (`163` in this case)."
   ]
  },
  {
   "cell_type": "code",
   "execution_count": 291,
   "metadata": {},
   "outputs": [
    {
     "name": "stdout",
     "output_type": "stream",
     "text": [
      "Egg & Spam                - £    1\n",
      "Egg, Bacon & Spam         - £  1.5\n",
      "Egg, Bacon Sausage & Spam - £    2\n"
     ]
    }
   ],
   "source": [
    "# The currency symbol for pounds sterling has Unicode character number 163\n",
    "pound = chr(163)\n",
    "tabulate = {'Egg & Spam': 1, 'Egg, Bacon & Spam': 1.5, 'Egg, Bacon Sausage & Spam': 2, }\n",
    "# Loops over a dictionary of menu items as keys and prices as values\n",
    "for item, price in tabulate.items():\n",
    "    # The format specifiers here denote a minimum width of 25 and 5 characters\n",
    "    print(f'{item:25} - {pound}{price:5}')"
   ]
  },
  {
   "cell_type": "markdown",
   "metadata": {},
   "source": [
    "The following example includes expressions within the formatted string literals. Additionally, the newline `\\n` is used to add a new line after the second print statement. This also helps make the output easier to read."
   ]
  },
  {
   "cell_type": "code",
   "execution_count": 292,
   "metadata": {},
   "outputs": [
    {
     "name": "stdout",
     "output_type": "stream",
     "text": [
      "3 bottle(s) of beer on the wall. 3 bottle(s) of beer\n",
      "Take one down, pass it around. 2 bottle(s) of beer on the wall\n",
      "\n",
      "2 bottle(s) of beer on the wall. 2 bottle(s) of beer\n",
      "Take one down, pass it around. 1 bottle(s) of beer on the wall\n",
      "\n",
      "1 bottle(s) of beer on the wall. 1 bottle(s) of beer\n",
      "Take one down, pass it around. 0 bottle(s) of beer on the wall\n",
      "\n"
     ]
    }
   ],
   "source": [
    "for number in range(3, 0, -1):\n",
    "    print(f\"{number} bottle(s) of beer on the wall. {number} bottle(s) of beer\")\n",
    "    print(f\"Take one down, pass it around. {number-1} bottle(s) of beer on the wall\\n\")"
   ]
  },
  {
   "cell_type": "markdown",
   "metadata": {},
   "source": [
    "## Reading Data From a File\n",
    "![read-file.png](./img/read-file.png)\n",
    "The most uncomplicated persistent storage is a text file. You can save lines of text in the file then use python `io` to open the file and read the contents. There are several methods to do this. You can use `readlines()` which reads all the lines into a list, `readline()` which reads one line at a time, `read()` which reads the entire file or `seek()` which moves to a particular point in a file.\n",
    "\n",
    "It’s important to understand that when you open a file, you are reading or writing to a particular position within the file. If you use `readline` to read a line, your location within the file is advanced by a line. The next time you read a line, the line will be read from the end of the last line. It’s also important to understand that files don’t have lines. A file is just one long sequence of bytes (the computer’s way to store characters), but when Python sees a line separator such as `\\n`, it interprets that as marking the break between two lines."
   ]
  },
  {
   "cell_type": "markdown",
   "metadata": {},
   "source": [
    "In the example, the code opens the file, reads the lines it contains into a variable called `lines`. When printed out, we see that it's a list of strings. The `'r'` means that the file is opened as read-only. We can also see that each line contains the newline character `\\n`. This makes sense because the file `data.txt` contains four separate lines. What is interesting is that the `readlines` method splits the data read from the files at those newline characters, to create a line of strings. Modify the program slightly and use the `read` method instead of `readlines`. All of the data will be read into a single string, including the newline characters. When the string is printed to the console now, it just appears as text, not a list of strings. The newline characters cause the string to be displayed over several lines."
   ]
  },
  {
   "cell_type": "raw",
   "metadata": {
    "raw_mimetype": "TEXT"
   },
   "source": [
    "This is the first line\n",
    "And this is the second\n",
    "Here is the third line\n",
    "And here the fourth"
   ]
  },
  {
   "cell_type": "code",
   "execution_count": 293,
   "metadata": {},
   "outputs": [
    {
     "name": "stdout",
     "output_type": "stream",
     "text": [
      "['This is the first line\\n', 'And this is the second\\n', 'Here is the third line\\n', 'And here the fourth']\n"
     ]
    }
   ],
   "source": [
    "f = open('./img/fourlines.txt', 'r')\n",
    "lines = f.readlines()\n",
    "f.close()\n",
    "print(lines)"
   ]
  },
  {
   "cell_type": "markdown",
   "metadata": {},
   "source": [
    "A straightforward, practical thing we can do with text files is to count the occurrences of words. Here's a runnable example. It uses two standard libraries, `re` and `collections`. The `re` library will allow us to identify the words in the file using **regular expressions**, and the `collections` library allows us to count occurrences of words. Notice that the entire contents of the file are read into a single variable called `text`, and the `findall` method is then used to parse that string and find words. A full discussion of regular expressions is beyond the scope of this lesson; however, the findall method ensures that all occurrences of the pattern are found. The pattern for a word is `\\w+`. The `\\w` denotes *not whitespace*. The `+` denotes *one or more*. So, every occurrence of one or more characters that are not whitespace will be considered a word. It's not perfect, it may get some false positives, but it's fine for our purposes. The `Counter` method of collections will count how many occurrences there are of each word. The `most_common` method will limit the results to the top 10 words. When this is printed, we get a list of tuples where each tuple contains a word and a number of occurrences."
   ]
  },
  {
   "cell_type": "code",
   "execution_count": 294,
   "metadata": {},
   "outputs": [
    {
     "name": "stdout",
     "output_type": "stream",
     "text": [
      "[('the', 28), ('to', 21), ('i', 15), ('a', 13), ('and', 12), ('he', 12), ('of', 11), ('her', 11), ('you', 11), ('be', 10)]\n"
     ]
    }
   ],
   "source": [
    "import re\n",
    "import collections\n",
    "\n",
    "text = open('./img/book.txt', 'r').read().lower()\n",
    "words = re.findall('\\w+', text)\n",
    "print(collections.Counter(words).most_common(10))"
   ]
  },
  {
   "cell_type": "markdown",
   "metadata": {},
   "source": [
    "## Writing Data to a File\n",
    "To write to a file, we change the second argument in the file `open` command from `'r'` to either `'w'` for write or `'a'` for append. These are known as **file modes**, and they are listed in the image below. If you open a file in write mode, you can write some content to it. If the file does not exist, it will be created.\n",
    "![file-open-modes.png](./img/file-open-modes.png)"
   ]
  },
  {
   "cell_type": "markdown",
   "metadata": {},
   "source": [
    "In the runnable example below, a `newfile.txt` will be created containing `Hello!`. If you change the content to be written from `Hello!` to `World` and rerun the program, it overwrites the content of the file rather than appending the new content. By changing the file mode to `a` for append, the new content will be appended to the end of the text file. There is no newline between the words, and they all appear on the same line. If you use the append method, the text you write is simply appended onto the existing text. You can include newline characters `\\n` if you want line breaks. The file will include the newline characters. Using `\\n` in the middle of the string will split the words, for example, `Hello` and `World` over two lines. Using `\\n` at the end of the string will mean that each run of the program writes to a new line."
   ]
  },
  {
   "cell_type": "code",
   "execution_count": 295,
   "metadata": {},
   "outputs": [],
   "source": [
    "f = open('./img/newfile.txt', 'w')\n",
    "f.write('Hello!')\n",
    "f.close()"
   ]
  },
  {
   "cell_type": "raw",
   "metadata": {
    "raw_mimetype": "text"
   },
   "source": [
    "Hello!"
   ]
  },
  {
   "cell_type": "markdown",
   "metadata": {},
   "source": [
    " A list of strings can be written to a file, with the `writelines` method analogous to the `readlines` method in the last unit. It won't, however, include newline characters. To write lines on separate lines, you can join the strings into a single string, inserting newline characters between them, and use the `write` method to write the string. This is shown in the second example."
   ]
  },
  {
   "cell_type": "code",
   "execution_count": 296,
   "metadata": {},
   "outputs": [],
   "source": [
    "f = open('./img/newfile.txt', 'a')\n",
    "lines = ['Hello','World','Welcome','To','File IO']\n",
    "text = '\\n'.join(lines)\n",
    "f.writelines(text)\n",
    "f.close()"
   ]
  },
  {
   "cell_type": "raw",
   "metadata": {
    "raw_mimetype": "text"
   },
   "source": [
    "Hello!Hello\n",
    "World\n",
    "Welcome\n",
    "To\n",
    "File IO"
   ]
  },
  {
   "cell_type": "markdown",
   "metadata": {},
   "source": [
    "## Reading Data From the Web\n",
    "In this unit, we will explore various options for interacting with and gathering data from the internet through Python. Python is a backend language. Unlike JavaScript which runs in a browser, Python runs on a server. It is necessary to get data from a website before any work on it commences. Data on a website is intended for human readers. It isn't always formatted in a way that is helpful to programmers. But, with a bit of work, you can usually extract the data you need from a page. Automated data collection from websites is known as web scraping. Some websites limit or even entirely forbid users from scraping their data with automated tools. Websites do so because of two related reasons; Making many repeated requests to a website's server may use up bandwidth, slowing down the website for other users and potentially overloading the server such that the website stops responding entirely. Scraping of a website’s information might go against that site’s business model. Many websites might rely solely on ads for their hosting costs, and such sites may choose only to allow users to access their data if they also watch the ads while doing so. You should always check a website's acceptable use policy before scraping its data to see if accessing the website by using automated tools is a violation of its terms of use. In this unit, we will explore interacting with and gathering data from the internet through Python.\n",
    "![read-web.png](./img/read-web.png)"
   ]
  },
  {
   "cell_type": "markdown",
   "metadata": {},
   "source": [
    "A common use case for reading data from the web is a **web crawler** or **spider**. These are used by web search engines to index the web or copy pages for quicker serving. Another use case is for comparison websites. You might want to scrape websites for price data.\n",
    "\n",
    "In the runnable example, we import the library `requests_html`. This library allows you to parse HTML to obtain data within it. Firstly you instantiate the class `HTMLsession` and assign it to variable `session.` You can use the method `get` and pass it a URL as an argument. This links to the URL in the same way a browser does so, in this case, it will return a `200` if the site is available.\n",
    "\n",
    "Further methods are then used to get the HTML code and then find a specific id within the code. In this case, the id for the main heading has been used. The `print` statements show the heading text and the HTML code."
   ]
  },
  {
   "cell_type": "code",
   "execution_count": 297,
   "metadata": {},
   "outputs": [
    {
     "name": "stdout",
     "output_type": "stream",
     "text": [
      "Web scraping\n",
      "<h1 id=\"firstHeading\" class=\"firstHeading\">Web scraping</h1>\n"
     ]
    }
   ],
   "source": [
    "from requests_html import HTMLSession\n",
    "\n",
    "session = HTMLSession()\n",
    "# Makes a GET request to Wikipedia Web Scraping page\n",
    "r = session.get('https://en.wikipedia.org/wiki/Web_scraping')\n",
    "# Selects the heading element with ID firstHeading\n",
    "# The optional first=True avoids a list being returned\n",
    "heading = r.html.find('#firstHeading', first=True)\n",
    "# Grabs the text from that h1\n",
    "# Without first=True you would then have to use heading[0].text\n",
    "print(heading.text)\n",
    "# prints the inner HTML content for that h1 element\n",
    "print(heading.html)"
   ]
  },
  {
   "cell_type": "markdown",
   "metadata": {},
   "source": [
    "#### Additional Perspectives From People We Like\n",
    "* [Requests-HTML library docs](https://requests.readthedocs.io/projects/requests-html/en/latest/)"
   ]
  },
  {
   "cell_type": "markdown",
   "metadata": {},
   "source": [
    "## Sending Data to the Web\n",
    "When using Python in a web application, you will typically use a framework to connect the Python server to the frontend HTML. Popular frameworks are Flask and Django. In a framework, you can have a basic HTML template and then inject in content from your Python code. This reduces the number of HTML pages you need to create, which is a significant saving in a large web app.\n",
    "![web-server.png](./img/web-server.png)\n",
    "A web server hosts the files required for your website. It can read data from the browser and write data to the browser using HTTP protocols. You can also manipulate the data in your web server. A common use case would be to generate HTML files from a base template to reduce duplicate code."
   ]
  },
  {
   "cell_type": "markdown",
   "metadata": {},
   "source": [
    "In the runnable example, we have created a simple Python web server. It uses the `SimpleHTTPRequestHandler` class imported from the `http.server` package in Python. This serves files in the current directory to the web through port `8000`. This port is one that is generally available for accessing the web from a computer."
   ]
  },
  {
   "cell_type": "markdown",
   "metadata": {},
   "source": [
    "We have a `template.html` file with boilerplate HTML. However, where you would normally have text for the title, heading, section and footer, we instead have placeholders. These placeholders are a variable enclosed in curly brackets. The curly braces are simply used to denote that this is not regular text."
   ]
  },
  {
   "cell_type": "markdown",
   "metadata": {
    "raw_mimetype": "text/html"
   },
   "source": [
    "`template.html`\n",
    "```HTML\n",
    "<!DOCTYPE html>\n",
    "<html lang=\"en\">\n",
    "<head>\n",
    "    <meta charset=\"UTF-8\">\n",
    "    <title>{title}</title>\n",
    "</head>\n",
    "<body>\n",
    "    <nav><a href=\"{link}.html\">{link}</a></nav>\n",
    "    <h1>{heading}</h1>\n",
    "\n",
    "    <section>{body}</section>\n",
    "<hr>\n",
    "<footer>{footer}</footer>\n",
    "</body>\n",
    "</html>\n",
    "```"
   ]
  },
  {
   "cell_type": "markdown",
   "metadata": {},
   "source": [
    "In the Python code, there is a dictionary of dictionaries named `replacements`. This contains all the content you need to create multiple HTML pages based on the template. In this case, only an index and contact page are shown, but you could add as many as you like. The placeholder variable in curly braces is used as the `key` where the `value` is the content as a string. As before, trying to open the non-existent `index.html` and `contact.html` files as write will create them as blank documents. Then we `open` the `template.html` file twice as `newindex` and `newcontact`. Then we can iterate over the nested dictionary and use the `replace` string method to replace the placeholder curly braces variable with the text value in the `index` and `contact` dictionaries. As always remember to close all the open files. When you run the code the `index.html` file is served on port `8000`."
   ]
  },
  {
   "cell_type": "code",
   "execution_count": 298,
   "metadata": {},
   "outputs": [
    {
     "name": "stdout",
     "output_type": "stream",
     "text": [
      "serving at port 5500\n",
      "access the generated web page through this link: http://localhost:5500\n"
     ]
    }
   ],
   "source": [
    "import http.server\n",
    "import socketserver\n",
    "\n",
    "PORT=5500 # A port is a communication endpoint where a computer can link to a network\n",
    "\n",
    "replacements = {\n",
    "    'index.html': {'template': './img/template.html',   '{link}': 'contact', \n",
    "                   '{title}': 'Landing Page',           '{heading}': 'Welcome',\n",
    "                   '{body}': 'This is my cool website', '{footer}': 'Made with a framework'},\n",
    "    'contact.html': {'template': './img/template.html', '{link}': 'index',\n",
    "                     '{title}': 'Contact Me',           '{heading}': 'Get In Touch',\n",
    "                     '{body}': 'me@example.com',        '{footer}': 'Made with a framework'},\n",
    "}\n",
    "\n",
    "index = open('index.html', 'w')\n",
    "contact = open('contact.html', 'w')\n",
    "newindex = open(replacements['index.html']['template'], 'r')\n",
    "newcontact = open(replacements['contact.html']['template'], 'r')\n",
    "\n",
    "# This outer loop iterates through each line in newindex\n",
    "for line in newindex:\n",
    "    # This inner loop iterates through the key:value pairs in the items of the replacements['index.html'] dictionary \n",
    "    for src, target in replacements['index.html'].items():\n",
    "        # Here we replace the key with the value\n",
    "        line = line.replace(src, target)\n",
    "    index.write(line)\n",
    "\n",
    "for line in newcontact:\n",
    "    for src, target in replacements['contact.html'].items():\n",
    "        line = line.replace(src, target)\n",
    "    contact.write(line)\n",
    "\n",
    "index.close()\n",
    "contact.close()\n",
    "newindex.close()\n",
    "newcontact.close()\n",
    "\n",
    "# The code below serves html files relative to the current directory\n",
    "# The port number is the PORT constant value set at the top of the file\n",
    "Handler = http.server.SimpleHTTPRequestHandler\n",
    "\n",
    "with socketserver.TCPServer((\"\", PORT), Handler) as httpd:\n",
    "    print(\"serving at port\", PORT)\n",
    "    print(f\"access the generated web page through this link: http://localhost:{PORT}\")\n",
    "    # uncomment the following line to make it work\n",
    "    #httpd.serve_forever()\n"
   ]
  },
  {
   "cell_type": "markdown",
   "metadata": {},
   "source": [
    "#### Additional Perspectives From People We Like\n",
    "* [What is a Web Server?](https://developer.mozilla.org/en-US/docs/Learn/Common_questions/What_is_a_web_server)"
   ]
  },
  {
   "cell_type": "markdown",
   "metadata": {},
   "source": [
    "# 12 Catching Exceptions"
   ]
  },
  {
   "cell_type": "markdown",
   "metadata": {},
   "source": [
    "## Runtime Errors\n",
    "Python error messages are called **exceptions**. When an error occurs, an exception is raised. All exceptions are instances of a class `BaseException`. The exceptions can be generated either by the interpreter while running the code or by functions in the code. As a developer, you can raise these exceptions to deal with errors caused by incorrect user input, for example. There are many specific exceptions in Python; for example, `ZeroDivisionError` raised when the second argument of a division or modulo operation is zero. However, if an error does not fall into one of these specific categories, a `RuntimeError` will be raised. The associated string will explain what has gone wrong.\n",
    "![runtime-errors.png](./img/runtime-errors.png)"
   ]
  },
  {
   "cell_type": "markdown",
   "metadata": {},
   "source": [
    "The example will print text to the terminal if `1` or `2` is entered. However, what happens if a user enters another number or a string instead? In the `else`, we have used the keyword `raise` to raise a `RuntimeError` exception if this happens. A `RuntimeError` is posted in the terminal, but it is not particularly informative. Also, our program has still crashed. In the next units, we see how to handle these errors without crashing the program and how to get a more informative error message.\n",
    "```python\n",
    "def choices(n):\n",
    "    if n == 1:\n",
    "        print(\"First item chosen\")\n",
    "    elif n == 2:\n",
    "        print(\"Second item chosen\")\n",
    "    else:\n",
    "        raise RuntimeError\n",
    "\n",
    "choices(3)\n",
    "\n",
    "---------------------------------------------------------------------------\n",
    "RuntimeError                              Traceback (most recent call last)\n",
    "<ipython-input-238-5dc413041e05> in <module>\n",
    "      7         raise RuntimeError\n",
    "      8 \n",
    "----> 9 choices(3)\n",
    "\n",
    "<ipython-input-238-5dc413041e05> in choices(n)\n",
    "      5         print(\"Second item chosen\")\n",
    "      6     else:\n",
    "----> 7         raise RuntimeError\n",
    "      8 \n",
    "      9 choices(3)\n",
    "\n",
    "RuntimeError: \n",
    "```"
   ]
  },
  {
   "cell_type": "markdown",
   "metadata": {},
   "source": [
    "## Try statement\n",
    "In the previous unit, we saw that we could `raise` an error when a user does something unexpected. However, the program still crashed. It is better to catch and handle these exceptions in such a way that your application continues to run.\n",
    "\n",
    "Python has a `try` block in which you put code where you anticipate an error could occur. Often this is where you foresee an issue caused by a users input or corrupt data in a file. The program runs any code after the `try` statement in the usual manner. However, if an error occurs rather than `raise` an exception in the terminal, it runs code in a following `except` block. After the `except` statement, you write the code for what you want to do in cases where an error occurs. If this is user input, it might just be a message to the user that the data was invalid and please try again. If it is data from a file, then you might just skip the bad data points and carry on. \n",
    "![try+except.png](./img/try+except.png)\n",
    "In summary, the `try` block allows you to test a code block for errors. The `except` block enables you to handle the errors."
   ]
  },
  {
   "cell_type": "markdown",
   "metadata": {},
   "source": [
    "In the following example, we have asked the user for a number. This code block is wrapped in a `try` block and runs exactly as though the `try` block was not there as long as the user enters numbers. However, if the user enters a letter, for example, there is an error, and the `except` block code is run. In this case, we just print `Not a number`, but crucially the code keeps running and asks the user for input again. The error is caught and handled.\n",
    "```python\n",
    "while True:\n",
    "    try:\n",
    "        x = int(input('Enter a number.'))\n",
    "        print(f'Number is {x}')\n",
    "    except:\n",
    "        print('Not a number')\n",
    "```"
   ]
  },
  {
   "cell_type": "markdown",
   "metadata": {},
   "source": [
    "If we return to the previous example, we have added `ValueError` to the `except` statement. This is one of the built-in exceptions in Python. It is more specific than `RuntimeError`, and we have used it as we know in this case, an inappropriate value input causes an error. If you run the code now, you will see the `exception` is raised, and the `except` code block is run.\n",
    "\n",
    "```python\n",
    "while True:\n",
    "    try:\n",
    "        x = int(input('Enter a number: '))\n",
    "        if not x:\n",
    "            break\n",
    "        print(f'Number is {x}')\n",
    "    except ValueError:                  # more specific\n",
    "        print('Not a number')\n",
    "\n",
    "-------------------------------------------------------\n",
    "Enter a number: quit\n",
    "Not a number\n",
    "Enter a number: 42\n",
    "Number is 42\n",
    "Enter a number: 0\n",
    "```"
   ]
  },
  {
   "cell_type": "markdown",
   "metadata": {},
   "source": [
    "In some cases, you may anticipate more than one type of error. Multiple specific exceptions can be included in one except block if they are added to a tuple in the except statement.\n",
    "```python\n",
    "while True:\n",
    "    try:\n",
    "        a = int(input(\"Please enter an integer as the numerator: \"))\n",
    "        b = int(input(\"Please enter an integer as the denominator: \"))\n",
    "        print(a / b)\n",
    "    except (ZeroDivisionError, ValueError):\n",
    "        print('An error has occurred')\n",
    "```"
   ]
  },
  {
   "cell_type": "markdown",
   "metadata": {},
   "source": [
    "Python allows you to have multiple `except` statements. In the runnable example, we have three `except` blocks. If more than one is valid, the first exception raised is the one you’ll see. Here we check for division by zero and an inappropriate value entered. Try both to see what happens. If another error occurs that the first two except blocks don’t catch then the third block catches it. To test this, you can provoke an error by trying `ctrl`-`c` in the terminal.\n",
    "```python\n",
    "while True:\n",
    "    try:\n",
    "        a = int(input(\"Please enter an integer as the numerator:   \"))\n",
    "        if not a:\n",
    "            break\n",
    "        b = int(input(\"Please enter an integer as the denominator: \"))\n",
    "        print(a / b)\n",
    "    except ZeroDivisionError:\n",
    "        print(\"Please enter a valid denominator.\")\n",
    "    except ValueError:\n",
    "        print(\"Both values have to be integers.\")\n",
    "    except:\n",
    "        print('Another error has occurred')\n",
    "        \n",
    "-------------------------------------------------------------------\n",
    "Please enter an integer as the numerator:   42\n",
    "Please enter an integer as the denominator: 6\n",
    "7.0\n",
    "Please enter an integer as the numerator:   1\n",
    "Please enter an integer as the denominator: 0\n",
    "Please enter a valid denominator.\n",
    "Please enter an integer as the numerator:   13\n",
    "Please enter an integer as the denominator: Thirteen\n",
    "Both values have to be integers.\n",
    "Please enter an integer as the numerator: Another error has occurred\n",
    "```"
   ]
  },
  {
   "cell_type": "markdown",
   "metadata": {},
   "source": [
    "### Catching specific errors\n",
    "In addition to the basic `RuntimeError`, you have seen the use of `ValueError` and `ZeroDivisionError`. These are more specific exceptions provided by Python. When writing your code, it is essential to think about what possible errors might happen and how to handle them. It is a good idea to test your code as you go. What happens when you enter incorrect values for your function arguments, for example? Using more specific exceptions can make it quicker to debug what has gone wrong with your code. When you raise an exception, you can include a string of text to provide information pertinent to your code.\n",
    "\n",
    "#### Additional Perspectives From People We Like\n",
    "If you would like to see a complete list of the built-in Python exceptions then the official documentation is here: [Built-in Exceptions](https://docs.python.org/3/library/exceptions.html)"
   ]
  },
  {
   "cell_type": "markdown",
   "metadata": {},
   "source": [
    "## Catching Generic Errors With `as`\n",
    "The built-in exceptions contain information about the error. Up till now, we have just displayed the exception in the terminal. The exception object includes the error message and also additional arguments.\n",
    "\n",
    "In this example, we have passed the `UnicodeError` exception to a variable `e`. Then we have access to the various attributes."
   ]
  },
  {
   "cell_type": "code",
   "execution_count": 299,
   "metadata": {},
   "outputs": [
    {
     "name": "stdout",
     "output_type": "stream",
     "text": [
      "The name Stéfan has a character at position 2 that cannot be encoded in ascii due to ordinal not in range(128)\n"
     ]
    },
    {
     "data": {
      "text/plain": [
       "'Stéfan'"
      ]
     },
     "execution_count": 299,
     "metadata": {},
     "output_type": "execute_result"
    }
   ],
   "source": [
    "def encode_name(name):\n",
    "    try:\n",
    "        name = name.encode('ascii')\n",
    "    except UnicodeError as e:\n",
    "        print(f'The name {e.object} has a character at position {e.start}',\n",
    "              f'that cannot be encoded in {e.encoding} due to {e.reason}')\n",
    "    return name\n",
    "    \n",
    "encode_name('Stéfan')"
   ]
  },
  {
   "cell_type": "markdown",
   "metadata": {},
   "source": [
    "In the example below there is no file `data.txt`, so the `except` block runs. The exception `OSError` is passed to variable `e`, so we have access to the arguments. The `OSError` exception is for operating system errors such as `file not found.` Then we pass the arguments to a tuple with variable names `errno` and `strerror`. These are the numeric error code and corresponding error message respectively. We could also have used the `filename` argument, for example."
   ]
  },
  {
   "cell_type": "code",
   "execution_count": 300,
   "metadata": {},
   "outputs": [
    {
     "name": "stdout",
     "output_type": "stream",
     "text": [
      "An I/O error occured. #2: No such file or directory.\n"
     ]
    }
   ],
   "source": [
    "try:\n",
    "    f = open('neverland.txt')\n",
    "    s = f.readline()\n",
    "except OSError as e:\n",
    "    errno, strerror = e.args\n",
    "    print(f\"An I/O error occured. #{errno}: {strerror}.\")"
   ]
  },
  {
   "cell_type": "markdown",
   "metadata": {},
   "source": [
    "## `else` and `finally` Clauses\n",
    "The `try`-`except` has an optional `else` clause. This is placed after all of the `except` clauses and deals with any code that must be executed in the case where the `try` clause does not raise an `exception`. \n",
    "![try+except+else+finally.png](./img/try+except+else+finally.png)\n",
    "The code placed in the `try` block should only be the code where you are anticipating the exception. Any other code that should run along with it should be placed in the `else`block.\n",
    "\n",
    "There is an additional optional clause `finally`, which is the last clause to run. It runs whether or not an exception has been raised. It is intended for any ‘clean-up’ code that must run regardless of whether an exception was caught or not."
   ]
  },
  {
   "cell_type": "markdown",
   "metadata": {},
   "source": [
    "In the example, we have a function that opens a text file, counts the lines and prints the opening line of the file.\n",
    "* The `try` block catches if a file does not exist and the `except` block deals with the error so that the program does not crash.\n",
    "* The `else` block deals with the code that should run in the case of no error (the file exists). \n",
    "* The `finally` block runs whether or not the file exists. Here it just lets the user know that the function has complete. Note that it runs after the `try`, `except` and `else` blocks."
   ]
  },
  {
   "cell_type": "code",
   "execution_count": 301,
   "metadata": {},
   "outputs": [
    {
     "name": "stdout",
     "output_type": "stream",
     "text": [
      "./img/gulliver.txt is 14 lines long.\n",
      "The opening line of ./img/gulliver.txt is 'My father had a small estate in Nottinghamshire; I was the third of five\n",
      "'\n",
      "Finished with ./img/gulliver.txt.\n",
      "\n",
      "An I/O error occured. #2: No such file or directory.\n",
      "Finished with ./img/swift.txt.\n"
     ]
    }
   ],
   "source": [
    "def linecount(filename):\n",
    "    \"\"\"\n",
    "    Counts the lines in a text file.\n",
    "    Prints the opening line of a text file. \n",
    "    \"\"\"\n",
    "    try:\n",
    "        f = open(filename, 'r')\n",
    "        s = f.readlines()\n",
    "    except OSError as e:\n",
    "        # OSError exception is used as it deals with system errors such as I/O errors\n",
    "        # OSError returns an error code (errno) and message (strerror)\n",
    "        errno, strerror = e.args\n",
    "        print(f\"An I/O error occured. #{errno}: {strerror}.\")\n",
    "    else:\n",
    "        # This is the code that does the line counting\n",
    "        print(f'{filename} is {len(s)} lines long.')\n",
    "        print(f\"The opening line of {filename} is '{s[0]}'\")\n",
    "        f.close()\n",
    "    finally:\n",
    "        # This will print whether the line count has been successful or not\n",
    "        print(f'Finished with {filename}.')\n",
    "    \n",
    "linecount('./img/gulliver.txt')\n",
    "print()\n",
    "linecount('./img/swift.txt')"
   ]
  },
  {
   "cell_type": "markdown",
   "metadata": {},
   "source": [
    "As you are already aware when using IO, you always should close the file when you are finished working on it. As this is such an important issue, Python has included a `with` statement to deal with it. Behind the scenes, it is in effect a type of `try`-`finally` statement.\n",
    "```python\n",
    "f = open(filename)\n",
    "try:\n",
    "    # My Code\n",
    "finally:\n",
    "    f.close()\n",
    "```\n",
    "In reality, what is happening is that special methods `__enter__` and `__exit__` are used.\n",
    "```python\n",
    "f = open()\n",
    "f.__enter__()\n",
    "try:\n",
    "    # My Code\n",
    "finally:\n",
    "    f.__exit__()\n",
    "```\n",
    "\n",
    "You do not need to type any of this code. Just use the `with` statement as follows.\n",
    "```python\n",
    "with open(filename) as f:\n",
    "       #My Code\n",
    "```\n",
    "As you can see we have refactored the code to use this syntax. No explicit file close statement is required."
   ]
  },
  {
   "cell_type": "code",
   "execution_count": 302,
   "metadata": {},
   "outputs": [
    {
     "name": "stdout",
     "output_type": "stream",
     "text": [
      "An I/O error occured. #2: No such file or directory.\n",
      "Finished with gulliver.txt.\n",
      "\n",
      "An I/O error occured. #2: No such file or directory.\n",
      "Finished with swift.txt.\n"
     ]
    }
   ],
   "source": [
    "def linecount(filename):\n",
    "    \"\"\"\n",
    "    Counts the lines in a text file.\n",
    "    Prints the opening line of a text file. \n",
    "    \"\"\"\n",
    "    try:\n",
    "        with open(filename, 'r') as f:\n",
    "            s = f.readlines()\n",
    "    except OSError as e:\n",
    "        errno, strerror = e.args\n",
    "        print(f\"An I/O error occured. #{errno}: {strerror}.\")\n",
    "    else:\n",
    "        print(f'{filename} is {len(s)} line long.')\n",
    "        print(f\"The opening line of {filename} is '{s[0]}'\")\n",
    "    finally:\n",
    "        print(f'Finished with {filename}.')\n",
    "        \n",
    "linecount('gulliver.txt')\n",
    "print()\n",
    "linecount('swift.txt')"
   ]
  },
  {
   "cell_type": "markdown",
   "metadata": {},
   "source": [
    "### Raising Exception\n",
    "In the last example, we handled the error by telling the user that they had not entered a number. No `exception`, however, was raised so there is no record of the error. As a developer, you might want to record the incidence of this error, so perhaps you can improve your UX. In a case where it is not user data entry but a file, you might want to record how many data points are bad. To do this, you can `raise` an `exception` in the `except` block.\n",
    "\n",
    "A specific `exception` can be raised anywhere in your code to handle errors. In the runnable example, we have a `try` block which counts down from `5` to `-5` but raises an `exception` for negative numbers. At the point this `exception` is raised the `except` block is run, where a list is looped through and another `exception` is raised if a non-integer value is seen. Note that both exceptions include custom text. In the except a `TypeError` has been raised as we are explicitly checking for type."
   ]
  },
  {
   "cell_type": "markdown",
   "metadata": {},
   "source": [
    "```python\n",
    "try:\n",
    "    for i in range(5, -5, -1):\n",
    "        if i < 0:\n",
    "            raise Exception('Integers must be positive.')\n",
    "        else:\n",
    "            print(i, end=\" \")\n",
    "\n",
    "except Exception as e:\n",
    "    print(\"Aborted: \", e)\n",
    "    x = [1, 2, 3,\"hello\"]\n",
    "\n",
    "    for item in x:\n",
    "        if not type(item) is int:\n",
    "            raise TypeError(\"Only integers are allowed\")\n",
    "        else:\n",
    "            print(item, end=\" \")\n",
    "```"
   ]
  },
  {
   "cell_type": "markdown",
   "metadata": {},
   "source": [
    "    5 4 3 2 1 0 Aborted:  Integers must be positive.\n",
    "    1 2 3 \n",
    "```java\n",
    "---------------------------------------------------------------------------\n",
    "Exception                                 Traceback (most recent call last)\n",
    "<ipython-input-253-773ad3fa2a09> in <module>\n",
    "      3         if i < 0:\n",
    "----> 4             raise Exception('Integers must be positive.')\n",
    "      5         else:\n",
    "\n",
    "Exception: Integers must be positive.\n",
    "\n",
    "During handling of the above exception, another exception occurred:\n",
    "\n",
    "TypeError                                 Traceback (most recent call last)\n",
    "<ipython-input-253-773ad3fa2a09> in <module>\n",
    "     12     for item in x:\n",
    "     13         if not type(item) is int:\n",
    "---> 14             raise TypeError(\"Only integers are allowed\")\n",
    "     15         else:\n",
    "     16             print(item, end=\" \")\n",
    "\n",
    "TypeError: Only integers are allowed\n",
    "```"
   ]
  },
  {
   "cell_type": "markdown",
   "metadata": {},
   "source": [
    "Apart from dealing with system errors, `try`-`raise`-`except` also alows aborting from somewhere deep down in nested execution. "
   ]
  },
  {
   "cell_type": "code",
   "execution_count": 303,
   "metadata": {},
   "outputs": [
    {
     "name": "stdout",
     "output_type": "stream",
     "text": [
      "Looping\n",
      "Looping\n",
      "Looping\n",
      "Looping\n",
      "Caught exception: abort\n",
      "All done\n"
     ]
    }
   ],
   "source": [
    "try:\n",
    "    count=0\n",
    "    while True:\n",
    "        while True:\n",
    "            while True:\n",
    "                print(\"Looping\")\n",
    "                count = count + 1\n",
    "                if count > 3:\n",
    "                    raise Exception(\"abort\") # exit every loop or function\n",
    "                if count > 4:\n",
    "                    raise StopIteration(\"I'm bored\") # built in exception type\n",
    "except StopIteration as e:\n",
    "    print(\"Stopped iteration:\",e)\n",
    "except Exception as e: # this is where we go when an exception is raised\n",
    "    print(\"Caught exception:\",e)\n",
    "finally:\n",
    "    print(\"All done\")"
   ]
  },
  {
   "cell_type": "markdown",
   "metadata": {},
   "source": [
    "This can also be useful to handle unexpected system errors more gracefully:"
   ]
  },
  {
   "cell_type": "code",
   "execution_count": 304,
   "metadata": {},
   "outputs": [
    {
     "name": "stdout",
     "output_type": "stream",
     "text": [
      "Cannot calculate inverse because: float division by zero\n"
     ]
    }
   ],
   "source": [
    "try:\n",
    "    for i in [2,1.5,0.0,3]:\n",
    "        inverse = 1.0/i\n",
    "except Exception as e: # no matter what exception\n",
    "    print(\"Cannot calculate inverse because:\", e)"
   ]
  },
  {
   "cell_type": "markdown",
   "metadata": {},
   "source": [
    "# 13 Built-in Functions & Tools\n",
    "## The import statement\n",
    "When you create a Python program, you might split your code up into different files. These files are known as modules. We touched on this in the Frameworks, Modules And Libraries unit. Python allows you to import entire modules or individual functions, classes or variables into other modules.\n",
    "\n",
    "Python has built-in modules that we can import from as well. We do this with the `import` statement.\n",
    "![import.png](./img/import.png)"
   ]
  },
  {
   "cell_type": "markdown",
   "metadata": {},
   "source": [
    "In the example, we have a `division` function in a `divide.py` module. In `main.py`, we have imported the `division` function from the `divide.py` module, which allows us to use the `division` function using the `division()` syntax directly. However, we do not have access to the `mod` function unless we also add a `from divide import mod` statement in `main.py`.\n",
    "\n",
    "To avoid this, we could have used `import divide` to import the whole module and then used `divide.division()` or `divide.mod()` directly."
   ]
  },
  {
   "cell_type": "markdown",
   "metadata": {
    "raw_mimetype": "text/x-python"
   },
   "source": [
    "`divide.py`\n",
    "```python\n",
    "def division(numerator, denominator):\n",
    "    result = numerator / denominator\n",
    "    return result\n",
    "\n",
    "def mod(numerator, denominator):\n",
    "    result = numerator % denominator\n",
    "    return result\n",
    "```\n",
    "\n",
    "`main.py`\n",
    "```python\n",
    "from divide import division\n",
    "\n",
    "print(division(4, 2))\n",
    "```"
   ]
  },
  {
   "cell_type": "markdown",
   "metadata": {},
   "source": [
    "## Math Module\n",
    "Python has a plethora of built-in libraries for everyday tasks. One of the most useful is `Math`. If you need to do a calculation in your code, then it is a good idea to `import` from this library, rather than reinventing the wheel. As math is a built-in library it comes with Python, and there is no need to install it separately.\n",
    "\n",
    "Most frequently used elements from `Math` module:\n",
    "\n",
    "|Method\t|Description|\n",
    "|:-|:-|\n",
    "|ceil()\t|Rounds a number up to the nearest integer\n",
    "|comb()\t|Returns the number of ways to choose k items from n items without repetition and order\n",
    "|dist()\t|Returns the Euclidean distance between two points (p and q), where p and q are the coordinates of that point\n",
    "|exp()\t|Returns E raised to the power of x\n",
    "|fabs()\t|Returns the absolute value of a number\n",
    "|factorial()\t|Returns the factorial of a number\n",
    "|floor()\t|Rounds a number down to the nearest integer\n",
    "|fmod()\t|Returns the remainder of x/y\n",
    "|fsum()\t|Returns the sum of all items in any iterable (tuples, arrays, lists, etc.)\n",
    "|isnan()\t|Checks whether a value is NaN (not a number) or not\n",
    "|perm()\t|Returns the number of ways to choose k items from n items with order and without repetition\n",
    "|pow()\t|Returns the value of x to the power of y\n",
    "|prod()\t|Returns the product of all the elements in an iterable\n",
    "|remainder()\t|Returns the closest value that can make numerator completely divisible by the denominator\n",
    "|sqrt()\t|Returns the square root of a number\n",
    "|trunc()\t|Returns the truncated integer parts of a number"
   ]
  },
  {
   "cell_type": "markdown",
   "metadata": {},
   "source": [
    "Math Constants\n",
    "\n",
    "|Constant\t|Description|\n",
    "|:-|:-|\n",
    "|e\t|Returns Euler's number (2.7182...)\n",
    "|inf\t|Returns a floating-point positive infinity\n",
    "|nan\t|Returns a floating-point NaN (Not a Number) value\n",
    "|pi\t|Returns PI (3.1415...)\n",
    "|tau\t|Returns tau (6.2831...)"
   ]
  },
  {
   "cell_type": "code",
   "execution_count": 305,
   "metadata": {},
   "outputs": [
    {
     "name": "stdout",
     "output_type": "stream",
     "text": [
      "3.141592653589793\n",
      "2.0\n"
     ]
    }
   ],
   "source": [
    "import math\n",
    "\n",
    "print(math.pi)\n",
    "\n",
    "print(math.sqrt(4))"
   ]
  },
  {
   "cell_type": "markdown",
   "metadata": {},
   "source": [
    "#### Additional Perspectives From People We Like\n",
    "A full list of the mathematical functions available can be found in the [official python documentation](https://docs.python.org/3/library/math.html)."
   ]
  },
  {
   "cell_type": "markdown",
   "metadata": {},
   "source": [
    "## DateTime Module\n",
    "Dates and times can be tricky to work with, when coding. This is due to the differences in how a user may input a date. Also, you have to take into account whether the program has access to timezone information and what operating system is used by the computer on which you are running the program. There is no date data type in Python. The built-in datetime library allows you to manipulate dates and times.\n",
    "![datetime.png](./img/datetime.png)"
   ]
  },
  {
   "cell_type": "markdown",
   "metadata": {},
   "source": [
    "In the example, we have displayed the local current date and time where this code is running. The date contains a year, month, day, hour, minute, second and microsecond. The library contains methods to access that data. We have obtained the year and printed it to the console. A common usage of the `datetime` library is to get a readable string from the `datetime` object. There is a method called `strftime()` that takes a parameter format to return the string as you would like to display it to your user. In the first part of the runnable example we have shown the day of the week.\n",
    "\n",
    "We can also access date information with python using `datetime` instance methods such as `date()` and `time()`. You can see these in action in the second part of the example below."
   ]
  },
  {
   "cell_type": "code",
   "execution_count": 306,
   "metadata": {},
   "outputs": [
    {
     "name": "stdout",
     "output_type": "stream",
     "text": [
      "2021-04-23 09:22:30.041620\n"
     ]
    }
   ],
   "source": [
    "from datetime import datetime\n",
    "\n",
    "x = datetime.now()\n",
    "print(x)"
   ]
  },
  {
   "cell_type": "code",
   "execution_count": 307,
   "metadata": {},
   "outputs": [
    {
     "data": {
      "text/plain": [
       "2021"
      ]
     },
     "execution_count": 307,
     "metadata": {},
     "output_type": "execute_result"
    }
   ],
   "source": [
    "x.year"
   ]
  },
  {
   "cell_type": "code",
   "execution_count": 308,
   "metadata": {},
   "outputs": [
    {
     "data": {
      "text/plain": [
       "'Friday'"
      ]
     },
     "execution_count": 308,
     "metadata": {},
     "output_type": "execute_result"
    }
   ],
   "source": [
    "x.strftime(\"%A\")"
   ]
  },
  {
   "cell_type": "code",
   "execution_count": 309,
   "metadata": {},
   "outputs": [
    {
     "data": {
      "text/plain": [
       "'2021-04-23'"
      ]
     },
     "execution_count": 309,
     "metadata": {},
     "output_type": "execute_result"
    }
   ],
   "source": [
    "str(datetime.now().date())"
   ]
  },
  {
   "cell_type": "code",
   "execution_count": 310,
   "metadata": {},
   "outputs": [
    {
     "data": {
      "text/plain": [
       "'09:22:30.110629'"
      ]
     },
     "execution_count": 310,
     "metadata": {},
     "output_type": "execute_result"
    }
   ],
   "source": [
    "str(datetime.now().time())"
   ]
  },
  {
   "cell_type": "markdown",
   "metadata": {},
   "source": [
    "#### Additional Perspectives From People We Like\n",
    "There are a large number of date and time objects as well as methods that can be applied to them. You can find a comprehensive list of them on the [official Python documentation](https://docs.python.org/3/library/datetime.html)."
   ]
  },
  {
   "cell_type": "markdown",
   "metadata": {},
   "source": [
    "## OS Library\n",
    "The `os` library provides a way of using the operating system (os) functionality. The operating system is the software that interfaces between the hardware and user on a computer. Common operating systems would be Windows, macOS, Linux or iOS. \n",
    "![os.png](./img/os.png)\n",
    "A frequent use for this would be accessing the environment variables. Every computer has a set of environment variables listing information on how the machine is set up. Examples of this would be the directory structure of the home directory or the computers users profile."
   ]
  },
  {
   "cell_type": "markdown",
   "metadata": {},
   "source": [
    "In the runnable example, we use the get current working directory function `getcwd()` to find the directory in which the python file is located."
   ]
  },
  {
   "cell_type": "code",
   "execution_count": 311,
   "metadata": {},
   "outputs": [
    {
     "name": "stdout",
     "output_type": "stream",
     "text": [
      "C:\\Users\\ruszk\\Google Drive\\Learning\\Python\n"
     ]
    }
   ],
   "source": [
    "import os\n",
    "print(os.getcwd())"
   ]
  },
  {
   "cell_type": "markdown",
   "metadata": {},
   "source": [
    "We can also list the files or directories with `listdir()` within a directory."
   ]
  },
  {
   "cell_type": "code",
   "execution_count": 312,
   "metadata": {},
   "outputs": [
    {
     "name": "stdout",
     "output_type": "stream",
     "text": [
      "['0+none.png', 'animal-class.png', 'arithmetic+operators.png', 'assignment+operators.png', 'book.txt', 'break+continue+pass.png', 'bug.png', 'car-class.png', 'class+method.png', 'class+mixin.png', 'class-properties.png', 'comparison+operators.png', 'containment.png', 'converting+between+data+types.png', 'data-types.png', 'datetime.png', 'decorator.png', 'dictionary-comprehension.png', 'dictionary-items.png', 'dictionary.png', 'errors.txt', 'f-string.png', 'file-open-modes.png', 'flask+about-1.png', 'flask+hello-world+tags.png', 'flask+hello-world.png', 'flask+home-1.png', 'flask-for+loop.png', 'flask-form-after.png', 'flask-form-before.png', 'flask-usage.png', 'for+loop.png', 'fourlines.txt', 'frameworks+modules+libraries.png', 'function+call.png', 'function+parameter+return.png', 'function.png', 'gulliver.txt', 'ide.png', 'if+elif+else.png', 'if+else.png', 'import.png', 'indentation.png', 'input+output.png', 'input-from-user.png', 'is+is-not.png', 'list-comprehension.png', 'list-indexing.png', 'list-slicing.png', 'logical+operators.png', 'naming-convention.png', 'nested+if+indentation.png', 'nested-data-structure.png', 'nested-loops.png', 'newfile.txt', 'nonetype.png', 'os-path.png', 'os.png', 'print+hello-world.png', 'random.png', 'read-file.png', 'read-web.png', 'reserved-keywords.png', 'runtime-errors.png', 'scope-keywords.png', 'scope.png', 'set.png', 'splat+args+kwargs.png', 'sqlite+chinook-closed.png', 'sqlite+chinook-open-db.png', 'sqlite+chinook-opened.png', 'sqlite+chinook-schema.png', 'sqlite+chinook-tables.png', 'sqlite+chinook-terminal.png', 'sqlite+path.png', 'string.png', 'subclass+inheritance.png', 'syntax-error.png', 'sys-files.png', 'system-exit.png', 'template.html', 'ternary+operator.png', 'try+except+else+finally.png', 'try+except.png', 'tuple.png', 'varable+assignment.png', 'web-server.png', 'while+loop.png']\n"
     ]
    }
   ],
   "source": [
    "print(os.listdir('./img/'))"
   ]
  },
  {
   "cell_type": "markdown",
   "metadata": {},
   "source": [
    "#### Additional Perspectives From People We Like\n",
    "There are a great number of commands from the operating system that you can run from the python code. For a comprehensive list of commands in the `os` library check out the [official python documentation](https://docs.python.org/3/library/os.html)."
   ]
  },
  {
   "cell_type": "markdown",
   "metadata": {},
   "source": [
    "### `os.path` Module\n",
    "Within the `os` library, there is a module named `path`. This allows you to manipulate the pathnames on the operating system of the computer on which you are running the code. This is useful when saving data to the local operating system. If you remember back to the CSS Essentials lessons, getting the correct relative or absolute pathname was vital in linking files. The `os.path()` methods allow you to dynamically create path names so you can connect to files on the operating system and save files where you intend to.\n",
    "![os-path.png](./img/os-path.png)"
   ]
  },
  {
   "cell_type": "markdown",
   "metadata": {},
   "source": [
    "In the example, we have taken the absolute path and joined it with the current working directory. This uses the `join()` method of the `path` module. There is also a `split()` method allowing you to split a path. In this case, we have split the filename from the pathname and assigned them to a tuple. The `splitext()` method allows you to split the module name from its file extension."
   ]
  },
  {
   "cell_type": "code",
   "execution_count": 313,
   "metadata": {},
   "outputs": [
    {
     "name": "stdout",
     "output_type": "stream",
     "text": [
      "/home/runner/os\n",
      "The directory path is /home/runner/os\n",
      "The filename is main.py\n",
      "The module is main\n",
      "Its file suffix is .py\n"
     ]
    }
   ],
   "source": [
    "import os\n",
    "# This is how you would join two paths in your code\n",
    "print(os.path.join('/home/runner/', 'os'))\n",
    "\n",
    "path = \"/home/runner/os/main.py\"\n",
    "# Splits the path into a pair (head, tail) where the tail is the end of the pathname\n",
    "# The tail is after the / and the head is the pathname up to that point \n",
    "(dirname, filename) = os.path.split(path)\n",
    "print(f'The directory path is {dirname}')\n",
    "print(f'The filename is {filename}')\n",
    "# Splits the filename into a pair (root, ext)\n",
    "# The root is before the dot and the ext contains the dot with the suffix after it\n",
    "(module, extension) = os.path.splitext(filename)\n",
    "print(f'The module is {module}')\n",
    "print(f'Its file suffix is {extension}')"
   ]
  },
  {
   "cell_type": "markdown",
   "metadata": {},
   "source": [
    "#### Additional Perspectives From People We Like\n",
    "There are many more methods in `os.path` which can be found in the [official python documentation](https://docs.python.org/3/library/os.path.html)."
   ]
  },
  {
   "cell_type": "markdown",
   "metadata": {},
   "source": [
    "## `sys` Library\n",
    "Python has an inbuilt interpreter. Python code does not need to be compiled. We can try out code in the Python interpreter. The `sys` library provides us with information about the constants, functions and methods of the interpreter. Up till now, we have seen the output of our code and errors in the terminal. This is the standard output for a command-line program. The `sys` library allows us to change that default location. For example, you could send error messages to a text file.\n",
    "![sys-files.png](./img/sys-files.png)\n",
    "In the image, you can see file objects in the `sys` library. The `stdin` object is interactive input. The `stdout` object is the print or expression outputs that go to the terminal. The `stderr` object is any error messages."
   ]
  },
  {
   "cell_type": "code",
   "execution_count": 314,
   "metadata": {},
   "outputs": [
    {
     "data": {
      "text/plain": [
       "3000"
      ]
     },
     "execution_count": 314,
     "metadata": {},
     "output_type": "execute_result"
    }
   ],
   "source": [
    "import sys\n",
    "sys.getrecursionlimit()"
   ]
  },
  {
   "cell_type": "code",
   "execution_count": 315,
   "metadata": {},
   "outputs": [
    {
     "data": {
      "text/plain": [
       "'3.8.5 (default, Sep  3 2020, 21:29:08) [MSC v.1916 64 bit (AMD64)]'"
      ]
     },
     "execution_count": 315,
     "metadata": {},
     "output_type": "execute_result"
    }
   ],
   "source": [
    "sys.version"
   ]
  },
  {
   "cell_type": "code",
   "execution_count": 316,
   "metadata": {},
   "outputs": [
    {
     "data": {
      "text/plain": [
       "'win32'"
      ]
     },
     "execution_count": 316,
     "metadata": {},
     "output_type": "execute_result"
    }
   ],
   "source": [
    "sys.platform"
   ]
  },
  {
   "cell_type": "code",
   "execution_count": 317,
   "metadata": {},
   "outputs": [
    {
     "data": {
      "text/plain": [
       "['C:\\\\Users\\\\ruszk\\\\Google Drive\\\\Learning\\\\Python',\n",
       " 'C:\\\\ProgramData\\\\Anaconda3\\\\python38.zip',\n",
       " 'C:\\\\ProgramData\\\\Anaconda3\\\\DLLs',\n",
       " 'C:\\\\ProgramData\\\\Anaconda3\\\\lib',\n",
       " 'C:\\\\ProgramData\\\\Anaconda3',\n",
       " '',\n",
       " 'C:\\\\Users\\\\ruszk\\\\AppData\\\\Roaming\\\\Python\\\\Python38\\\\site-packages',\n",
       " 'C:\\\\ProgramData\\\\Anaconda3\\\\lib\\\\site-packages',\n",
       " 'C:\\\\ProgramData\\\\Anaconda3\\\\lib\\\\site-packages\\\\win32',\n",
       " 'C:\\\\ProgramData\\\\Anaconda3\\\\lib\\\\site-packages\\\\win32\\\\lib',\n",
       " 'C:\\\\ProgramData\\\\Anaconda3\\\\lib\\\\site-packages\\\\Pythonwin',\n",
       " 'C:\\\\ProgramData\\\\Anaconda3\\\\lib\\\\site-packages\\\\IPython\\\\extensions',\n",
       " 'C:\\\\Users\\\\ruszk\\\\.ipython']"
      ]
     },
     "execution_count": 317,
     "metadata": {},
     "output_type": "execute_result"
    }
   ],
   "source": [
    "sys.path"
   ]
  },
  {
   "cell_type": "markdown",
   "metadata": {},
   "source": [
    "In the runnable example, we use the `sys.stderr` to redirect the standard error stream from the terminal to a text file. We then provoke an error message by dividing by zero. If you run the code, you will see the error message saved to an `errors.txt` file. In the loops lessons, you were warned to avoid infinite loops as this will crash your computer. In reality, there is an upper limit set for the depth of the Python stack. You will receive an error message well below infinity! This value is settable, and you can find what value runnable example has set.\n",
    "```python\n",
    "import sys\n",
    "\n",
    "save_standard_error = sys.stderr\n",
    "with open(\"errors.txt\",\"w\") as error_file:\n",
    "    sys.stderr = error_file\n",
    "\n",
    "    x = 10 / 0\n",
    "\n",
    "    # return to normal:\n",
    "    sys.stderr = save_standard_error\n",
    "```\n",
    "`errors.txt`\n",
    "```python\n",
    "Traceback (most recent call last):\n",
    "  File \"main.py\", line 6, in <module>\n",
    "    x = 10 / 0\n",
    "ZeroDivisionError: division by zero\n",
    "```"
   ]
  },
  {
   "cell_type": "markdown",
   "metadata": {},
   "source": [
    "#### Additional Perspectives From People We Like\n",
    "All the additional available sys data can be seen at the [official Python documentation](https://docs.python.org/3.0/library/sys.html)."
   ]
  },
  {
   "cell_type": "markdown",
   "metadata": {},
   "source": [
    "## `random` Library\n",
    "An everyday computing problem is making a random choice. Computers are not good at being random. The random library generates pseudo-random numbers that are suitable for most purposes. You can use these for games or simple statistical checks.\n",
    "![random.png](./img/random.png)\n",
    "\n",
    "In the runnable example, you can see how you would generate a random float, integer or choice. You can also shuffle existing data structures."
   ]
  },
  {
   "cell_type": "code",
   "execution_count": 318,
   "metadata": {},
   "outputs": [
    {
     "name": "stdout",
     "output_type": "stream",
     "text": [
      "A random float between 0 & 1.0: 0.4913461104112826\n",
      "A random int between 0 & 10: 9\n",
      "A random choice from a list: paper\n",
      "['spades', 'hearts', 'clubs', 'diamonds']\n"
     ]
    }
   ],
   "source": [
    "import random\n",
    "\n",
    "print(f'A random float between 0 & 1.0: {random.random()}')\n",
    "print(f'A random int between 0 & 10: {random.randrange(11)}')\n",
    "print('A random choice from a list: ' + random.choice(['paper', 'scissors', 'rock']))\n",
    "deck = ['hearts', 'diamonds', 'spades', 'clubs']\n",
    "random.shuffle(deck)\n",
    "print(deck)"
   ]
  },
  {
   "cell_type": "markdown",
   "metadata": {},
   "source": [
    "#### Additional Perspectives From People We Like\n",
    "All the additional available random methods can be seen at the [official Python documentation](https://docs.python.org/3/library/random.html)."
   ]
  },
  {
   "cell_type": "markdown",
   "metadata": {},
   "source": [
    "## Third party Libraries\n",
    "In addition to the built-in libraries, as Python is open source, anyone can create software and share it with the community. A library is a collection of modules that have some common functionality. There is a Python Package Index (pypi.org) where these open source projects are shared.\n",
    "![frameworks+modules+libraries.png](./img/frameworks+modules+libraries.png)"
   ]
  },
  {
   "cell_type": "markdown",
   "metadata": {},
   "source": [
    "In the example, we are using a third-party library named `numpy`. It is a widely used library for scientific computing. We can give the package name an alias (`np` in this case), so we don’t have to type it out each time. Numpy extends the abilities of Python into scientific computing. Here we are creating a simple one-dimensional array. If you were trying this on your computer, you would have to install `numpy` locally as it is a third-party library rather than a built-in library installed with Python."
   ]
  },
  {
   "cell_type": "code",
   "execution_count": 319,
   "metadata": {},
   "outputs": [
    {
     "name": "stdout",
     "output_type": "stream",
     "text": [
      "[1 2 3]\n"
     ]
    }
   ],
   "source": [
    "import numpy as np \n",
    "a = np.array([1, 2, 3])\n",
    "print(a)"
   ]
  },
  {
   "cell_type": "code",
   "execution_count": 320,
   "metadata": {},
   "outputs": [
    {
     "name": "stdout",
     "output_type": "stream",
     "text": [
      "2020-07-03 23:27:51\n"
     ]
    }
   ],
   "source": [
    "from dateutil import parser \n",
    "log_line = 'INFO 2020-07-03T23:27:51 Shutdown complete.'\n",
    "timestamp = parser.parse(log_line, fuzzy=True)\n",
    "print(timestamp)"
   ]
  },
  {
   "cell_type": "markdown",
   "metadata": {},
   "source": [
    "# 14 Scientific Python\n",
    "\n",
    "Scientific python refers to a large collection of libraries that can be used with python for a range of numerical and scientific computing tasks. Most of these already come with the Anaconda distribution, but if you have only installed the basic python distribution you may need to add the additional libraries (see [scipy](https://www.scipy.org/)).\n",
    "\n",
    "Here we just scratch the surface of what is available. This should be enough to get you started with some of the most commonly used modules, but for any specific project that you have, it is worth doing some searching online to see what is already availalbe as part of the this ecosystem."
   ]
  },
  {
   "cell_type": "markdown",
   "metadata": {},
   "source": [
    "### Matrices\n",
    "Dealing with vectors and matrices efficiently requires the **numpy** library. For the sake of brevity we will import this with a shorter name:"
   ]
  },
  {
   "cell_type": "code",
   "execution_count": 321,
   "metadata": {},
   "outputs": [],
   "source": [
    "import numpy as np"
   ]
  },
  {
   "cell_type": "markdown",
   "metadata": {
    "collapsed": true
   },
   "source": [
    "The numpy supports arrays and matrices with many of the features that would be familiar to matlab users. See here quick summary of [numpy for matlab users](https://docs.scipy.org/doc/numpy-dev/user/numpy-for-matlab-users.html).\n",
    "\n",
    "Appart from the convenience, the numpy methods are also much faster at performing operations on matrices or arrays than performing arithmetic with numbers stored in lists. \n"
   ]
  },
  {
   "cell_type": "code",
   "execution_count": 322,
   "metadata": {},
   "outputs": [
    {
     "data": {
      "text/plain": [
       "array([ 3,  6,  9, 12, 15])"
      ]
     },
     "execution_count": 322,
     "metadata": {},
     "output_type": "execute_result"
    }
   ],
   "source": [
    "x = np.array([1,2,3,4,5])\n",
    "y = np.array([2*i for i in x])\n",
    "x+y # element wise addition"
   ]
  },
  {
   "cell_type": "code",
   "execution_count": 323,
   "metadata": {},
   "outputs": [
    {
     "data": {
      "text/plain": [
       "array([[2, 4],\n",
       "       [6, 8]])"
      ]
     },
     "execution_count": 323,
     "metadata": {},
     "output_type": "execute_result"
    }
   ],
   "source": [
    "X = x[:4].reshape(2,2) # turn into a matrix/table\n",
    "2*X # multiply by a scalar"
   ]
  },
  {
   "cell_type": "markdown",
   "metadata": {},
   "source": [
    "However watch out: array is not quite a matrix. For proper matrix operations you need to use the matrix type. Unlike **array**s that can have any number of dimensions, matrices are limited to 2 dimension. However matrix multiplication does what you would expect from a linear algebra point of view, rather than an element-wise multiplication:"
   ]
  },
  {
   "cell_type": "code",
   "execution_count": 324,
   "metadata": {},
   "outputs": [
    {
     "name": "stdout",
     "output_type": "stream",
     "text": [
      "X=Y=\n",
      " [[1 2]\n",
      " [3 4]]\n",
      "array X*X=\n",
      " [[ 1  4]\n",
      " [ 9 16]] \n",
      "matrix Y*Y=\n",
      " [[ 7 10]\n",
      " [15 22]]\n"
     ]
    }
   ],
   "source": [
    "Y = np.matrix(X)\n",
    "print(\"X=Y=\\n\",Y)\n",
    "print(\"array X*X=\\n\",X*X,'\\nmatrix Y*Y=\\n',Y*Y)"
   ]
  },
  {
   "cell_type": "markdown",
   "metadata": {},
   "source": [
    "Much more information on how to use numpy is available at [quick start tutorial](https://docs.scipy.org/doc/numpy-dev/user/quickstart.html)"
   ]
  },
  {
   "cell_type": "markdown",
   "metadata": {},
   "source": [
    "### Plotting\n",
    "There are lots of configuration options for the **matplotlib** library that we are using here. For more information see [http://matplotlib.org/users/beginner.html]\n",
    "\n",
    "To get started we need the import the required libraries."
   ]
  },
  {
   "cell_type": "code",
   "execution_count": 325,
   "metadata": {},
   "outputs": [],
   "source": [
    "import numpy as np\n",
    "import matplotlib.pyplot as plt"
   ]
  },
  {
   "cell_type": "markdown",
   "metadata": {},
   "source": [
    "Now we can try something simple. The most basic plot command simply takes a list of numbers to be plotted at integer positions. "
   ]
  },
  {
   "cell_type": "code",
   "execution_count": 326,
   "metadata": {},
   "outputs": [
    {
     "data": {
      "image/png": "[encoded data removed]",
      "text/plain": [
       "<Figure size 432x288 with 1 Axes>"
      ]
     },
     "metadata": {
      "needs_background": "light"
     },
     "output_type": "display_data"
    }
   ],
   "source": [
    "plt.plot([1,4,2,3])\n",
    "plt.ylabel('some numbers')\n",
    "plt.show() # optional"
   ]
  },
  {
   "cell_type": "markdown",
   "metadata": {},
   "source": [
    "**Aside:** In this notebook the examples use the `pyplot` module which by default has a single global `Figure` and associated `Axes` object. This can be convenient but gets confusing if you want to create a whole series of plots. For such more advanced use you would want to do something like:\n",
    "```python\n",
    "fig, ax = plt.subplots(figsize=(8, 8))\n",
    "```\n",
    "Then replace commands like `plt.plot` with `fig.plot` to crate a plot for this specific figure object. You can get access to the \"global\" figure object with `plt.gcf()` (get current figure function) and similarly `plt.gca()` gets the axes object.\n",
    "\n",
    "#### Alternative plot types\n",
    "As a slightly more complicated example, here is some CSV format data that we parse and plot as points (scatter plot). In this version of the plot command the x and y coordinates are given as separate lists followed by a formatting string \"r*\" (red asterix symbols)"
   ]
  },
  {
   "cell_type": "code",
   "execution_count": 327,
   "metadata": {},
   "outputs": [
    {
     "data": {
      "image/png": "[encoded data removed]",
      "text/plain": [
       "<Figure size 432x288 with 1 Axes>"
      ]
     },
     "metadata": {
      "needs_background": "light"
     },
     "output_type": "display_data"
    }
   ],
   "source": [
    "data=\"\"\"\n",
    "4,1\n",
    "2,5\n",
    "9,2\n",
    "6,3\n",
    "6,7\n",
    "8,4\n",
    "\"\"\"\n",
    "# crude parsing of CSV data - use csv module for reading csv files\n",
    "xy = [ [float(i) for i in line.strip().split(\",\")]\n",
    "      for line in data.split()]\n",
    "x = [ pt[0] for pt in xy]\n",
    "y = [ pt[1] for pt in xy]\n",
    "plt.plot(x,y,\"r*\")\n",
    "plt.show()"
   ]
  },
  {
   "cell_type": "code",
   "execution_count": 328,
   "metadata": {},
   "outputs": [
    {
     "data": {
      "image/png": "[encoded data removed]",
      "text/plain": [
       "<Figure size 432x288 with 1 Axes>"
      ]
     },
     "metadata": {
      "needs_background": "light"
     },
     "output_type": "display_data"
    }
   ],
   "source": [
    "# A slightly more complicated plot with the help of numpy\n",
    "X = np.linspace(-np.pi, np.pi, 256, endpoint=True)\n",
    "C, S = np.cos(X), np.sin(X)  # create arrays of function values for each X value\n",
    "\n",
    "plt.plot(X, C)\n",
    "plt.plot(X, S)\n",
    "\n",
    "plt.show()"
   ]
  },
  {
   "cell_type": "markdown",
   "metadata": {
    "collapsed": true
   },
   "source": [
    "Annotating plots can be done with methods like **text()** to place a label and **annotate()**. For example:"
   ]
  },
  {
   "cell_type": "code",
   "execution_count": 329,
   "metadata": {},
   "outputs": [
    {
     "data": {
      "image/png": "[encoded data removed]",
      "text/plain": [
       "<Figure size 432x288 with 1 Axes>"
      ]
     },
     "metadata": {
      "needs_background": "light"
     },
     "output_type": "display_data"
    }
   ],
   "source": [
    "t = np.arange(0.0, 5.0, 0.01)\n",
    "line, = plt.plot(t, np.cos(2*np.pi*t), lw=2)\n",
    "plt.annotate('local max', xy=(2, 1), xytext=(3, 1.5),\n",
    "            arrowprops=dict(facecolor='black', shrink=0.05),\n",
    "            )\n",
    "# text can include basic LaTeX commands - but need to mark\n",
    "# string as raw (r\"\") or escape '\\' (by using '\\\\')\n",
    "plt.text(1,-1.5,r\"Graph of $cos(2\\pi x)$\") \n",
    "plt.ylim(-2,2)\n",
    "plt.show()"
   ]
  },
  {
   "cell_type": "markdown",
   "metadata": {},
   "source": [
    "Here is an example of how to create a basic surface contour plot.\n",
    "    "
   ]
  },
  {
   "cell_type": "code",
   "execution_count": 330,
   "metadata": {},
   "outputs": [
    {
     "data": {
      "image/png": "[encoded data removed]",
      "text/plain": [
       "<Figure size 432x288 with 1 Axes>"
      ]
     },
     "metadata": {
      "needs_background": "light"
     },
     "output_type": "display_data"
    }
   ],
   "source": [
    "from scipy.stats import * # for multivariate_normal to define our surface\n",
    "delta = 0.025\n",
    "x = np.arange(-3.0, 3.0, delta)\n",
    "y = np.arange(-2.0, 2.0, delta)\n",
    "X, Y = np.meshgrid(x, y) # define mesh of points\n",
    "pos = np.empty(X.shape + (2,))\n",
    "pos[:, :, 0] = X; pos[:, :, 1] = Y\n",
    "rv1 = multivariate_normal([0, 0], [[1.0, 0.0], [0.0, 1.0]])\n",
    "rv2 = multivariate_normal([1, 1], [[1.5, 0.0], [0.0, 0.5]])\n",
    "#Z1 = bivariate_normal(X, Y, 1.0, 1.0, 0.0, 0.0)\n",
    "#Z2 = bivariate_normal(X, Y, 1.5, 0.5, 1, 1)\n",
    "Z1 = rv1.pdf(pos)\n",
    "Z2 = rv2.pdf(pos)\n",
    "Z = 10.0 * (Z2 - Z1) # difference of Gaussians\n",
    "\n",
    "# Create a simple contour plot with labels using default colors.  The\n",
    "# inline argument to clabel will control whether the labels are draw\n",
    "# over the line segments of the contour, removing the lines beneath\n",
    "# the label\n",
    "plt.figure()\n",
    "CS = plt.contour(X, Y, Z)\n",
    "plt.clabel(CS, inline=1, fontsize=10)\n",
    "plt.title('Simplest default with labels')\n",
    "plt.show()"
   ]
  },
  {
   "cell_type": "markdown",
   "metadata": {
    "collapsed": true
   },
   "source": [
    "#### Saving Plots\n",
    "If you want to use your plot in a paper or similar there a few differnt options:\n",
    "\n",
    "1. You can copy and paste the picture out of the browser window if you are using notebooks\n",
    "2. You can specifically save the picture to a file in a range of formats simply using the `savefig()` method on plots. The format is guessed based on the filename extension\n"
   ]
  },
  {
   "cell_type": "code",
   "execution_count": 331,
   "metadata": {},
   "outputs": [
    {
     "data": {
      "text/plain": [
       "Text(0.5, 1.0, 'Simplest default with labels')"
      ]
     },
     "execution_count": 331,
     "metadata": {},
     "output_type": "execute_result"
    },
    {
     "data": {
      "image/png": "[encoded data removed]",
      "text/plain": [
       "<Figure size 432x288 with 1 Axes>"
      ]
     },
     "metadata": {
      "needs_background": "light"
     },
     "output_type": "display_data"
    }
   ],
   "source": [
    "CS = plt.contour(X, Y, Z)\n",
    "plt.clabel(CS, inline=1, fontsize=10)\n",
    "plt.title('Simplest default with labels')\n",
    "# uncomment the following lines to make it work\n",
    "#plt.savefig(\"surface_ex.png\")\n",
    "#plt.savefig(\"surface_ex.pdf\")"
   ]
  },
  {
   "cell_type": "markdown",
   "metadata": {},
   "source": [
    "Look in the directory containing this notebook and you should find 2 files: `surface_ex.png` and `surface_ex.pdf` that you can download.\n",
    "\n",
    "The complete list of filetypes supported by matplotlib is:"
   ]
  },
  {
   "cell_type": "code",
   "execution_count": 332,
   "metadata": {},
   "outputs": [
    {
     "name": "stdout",
     "output_type": "stream",
     "text": [
      "eps: \tEncapsulated Postscript\n",
      "jpg: \tJoint Photographic Experts Group\n",
      "jpeg: \tJoint Photographic Experts Group\n",
      "pdf: \tPortable Document Format\n",
      "pgf: \tPGF code for LaTeX\n",
      "png: \tPortable Network Graphics\n",
      "ps: \tPostscript\n",
      "raw: \tRaw RGBA bitmap\n",
      "rgba: \tRaw RGBA bitmap\n",
      "svg: \tScalable Vector Graphics\n",
      "svgz: \tScalable Vector Graphics\n",
      "tif: \tTagged Image File Format\n",
      "tiff: \tTagged Image File Format\n"
     ]
    },
    {
     "data": {
      "text/plain": [
       "<Figure size 432x288 with 0 Axes>"
      ]
     },
     "metadata": {},
     "output_type": "display_data"
    }
   ],
   "source": [
    "for ext,description in plt.gcf().canvas.get_supported_filetypes().items():\n",
    "    print(\"%s: \\t%s\" % (ext,description))"
   ]
  },
  {
   "cell_type": "code",
   "execution_count": null,
   "metadata": {},
   "outputs": [],
   "source": []
  }
 ],
 "metadata": {
  "celltoolbar": "Raw Cell Format",
  "kernelspec": {
   "display_name": "Python 3",
   "language": "python",
   "name": "python3"
  },
  "language_info": {
   "codemirror_mode": {
    "name": "ipython",
    "version": 3
   },
   "file_extension": ".py",
   "mimetype": "text/x-python",
   "name": "python",
   "nbconvert_exporter": "python",
   "pygments_lexer": "ipython3",
   "version": "3.8.5"
  }
 },
 "nbformat": 4,
 "nbformat_minor": 2
}
