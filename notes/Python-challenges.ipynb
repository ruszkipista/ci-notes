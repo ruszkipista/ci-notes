{
 "cells": [
  {
   "cell_type": "code",
   "execution_count": 1,
   "metadata": {},
   "outputs": [
    {
     "data": {
      "text/plain": [
       "[True, True, True]"
      ]
     },
     "execution_count": 1,
     "metadata": {},
     "output_type": "execute_result"
    }
   ],
   "source": [
    "a=True;b=False\n",
    "[a==(not b), not a==b, not (a==b)]"
   ]
  },
  {
   "cell_type": "code",
   "execution_count": 2,
   "metadata": {},
   "outputs": [
    {
     "data": {
      "text/plain": [
       "'ca'"
      ]
     },
     "execution_count": 2,
     "metadata": {},
     "output_type": "execute_result"
    }
   ],
   "source": [
    "def baseConversion(n, x):\n",
    "    return f'{int(n,x):x}'\n",
    "    return \"{0:x}\".format(int(n,x))\n",
    "    return format(int(n,x), 'x')\n",
    "    return hex(int(n, x))[2:]\n",
    "\n",
    "baseConversion(\"1302\",5) # expected \"ca\""
   ]
  },
  {
   "cell_type": "code",
   "execution_count": 3,
   "metadata": {},
   "outputs": [
    {
     "data": {
      "text/plain": [
       "5"
      ]
     },
     "execution_count": 3,
     "metadata": {},
     "output_type": "execute_result"
    }
   ],
   "source": [
    "def mexFunction(s, upperBound):\n",
    "    found = -1\n",
    "    for i in range(upperBound):\n",
    "        if not i in s:\n",
    "            found = i\n",
    "            break\n",
    "    else:\n",
    "        found = upperBound\n",
    "\n",
    "    return found\n",
    "\n",
    "mexFunction([0, 4, 2, 3, 1, 7], 10) # expected 5"
   ]
  },
  {
   "cell_type": "markdown",
   "metadata": {},
   "source": [
    "## Array: listBeautifier\n",
    "Let's call a list beautiful if its first element is equal to its last element, or if a list is empty. Given a list a, your task is to chop off its first and its last element until it becomes beautiful. Implement a function that will make the given a beautiful as described, and return the resulting list as an answer.\n",
    "\n",
    "Hint: one of the features introduced in Python 3 called extended unpacking could help [here](https://www.python.org/dev/peps/pep-3132/)."
   ]
  },
  {
   "cell_type": "code",
   "execution_count": 4,
   "metadata": {},
   "outputs": [
    {
     "data": {
      "text/plain": [
       "[4, 38, 4]"
      ]
     },
     "execution_count": 4,
     "metadata": {},
     "output_type": "execute_result"
    }
   ],
   "source": [
    "def listBeautifier(a):\n",
    "    res = a[:]\n",
    "    while res and res[0] != res[-1]:\n",
    "        _, *res, _ = res\n",
    "    return res\n",
    "\n",
    "listBeautifier([3, 4, 2, 4, 38, 4, 5, 3, 2]) # expected [4, 38, 4]"
   ]
  },
  {
   "cell_type": "markdown",
   "metadata": {},
   "source": [
    "## String: catWalk\n",
    "Implement a function that will replace all multiple space characters in the given line of your code with single ones. In addition, all leading and trailing whitespaces should be removed."
   ]
  },
  {
   "cell_type": "code",
   "execution_count": 5,
   "metadata": {},
   "outputs": [
    {
     "data": {
      "text/plain": [
       "'def m e gaDifficu ltFun ction(x):'"
      ]
     },
     "execution_count": 5,
     "metadata": {},
     "output_type": "execute_result"
    }
   ],
   "source": [
    "def catWalk(code):\n",
    "    return \" \".join(code.split())\n",
    "catWalk(\"def      m   e  gaDifficu     ltFun        ction(x):\")"
   ]
  },
  {
   "cell_type": "markdown",
   "metadata": {},
   "source": [
    "## String: feedbackReview\n",
    "Implement a function that, given a feedback and the size of the screen, splits the feedback into lines so that:\n",
    "\n",
    "* each token (i.e. sequence of non-whitespace characters) belongs to one of the lines entirely;\n",
    "* each line is at most size characters long;\n",
    "* no line has trailing or leading spaces;\n",
    "* each line should have the maximum possible length, assuming that all lines before it were also the longest possible.\n",
    "\n",
    "**Example**\n",
    "\n",
    "For `feedback = \"This is an example feedback\"` and `size = 8`, the output should be\n",
    "```\n",
    "feedbackReview(feedback, size) = [\"This is\", \n",
    "                                  \"an\", \n",
    "                                  \"example\", \n",
    "                                  \"feedback\"]\n",
    "```"
   ]
  },
  {
   "cell_type": "code",
   "execution_count": 6,
   "metadata": {},
   "outputs": [
    {
     "data": {
      "text/plain": [
       "['This is', 'an', 'example', 'feedback']"
      ]
     },
     "execution_count": 6,
     "metadata": {},
     "output_type": "execute_result"
    }
   ],
   "source": [
    "import textwrap\n",
    "def feedbackReview(feedback, size):\n",
    "    return textwrap.wrap(feedback, size)\n",
    "\n",
    "feedbackReview('This is an example feedback', 8) # expected ['This is', 'an', 'example', 'feedback']"
   ]
  },
  {
   "cell_type": "markdown",
   "metadata": {},
   "source": [
    "## String: isWordPalindrome\n",
    "Given a word, check whether it is a palindrome or not. A string is considered to be a palindrome if it reads the same in both directions."
   ]
  },
  {
   "cell_type": "code",
   "execution_count": 7,
   "metadata": {},
   "outputs": [
    {
     "data": {
      "text/plain": [
       "True"
      ]
     },
     "execution_count": 7,
     "metadata": {},
     "output_type": "execute_result"
    }
   ],
   "source": [
    "def isWordPalindrome(word):\n",
    "    return word == word[::-1]\n",
    "\n",
    "isWordPalindrome(\"aibohphobia\")  # expected True"
   ]
  },
  {
   "cell_type": "markdown",
   "metadata": {},
   "source": [
    "## String: permutationCipher\n",
    "Here's how *permutation cipher* works: the key to it consists of all the letters of the alphabet written up in some order. All occurrences of letter `a` in the encrypted text are substituted with the first letter of the key, all occurrences of letter `b` are replaced with the second letter from the key, and so on, up to letter 'z' replaced with the last symbol of the `key`.\n",
    "\n",
    "Given the `password` you always use, your task is to encrypt it using the permutation cipher with the given `key`."
   ]
  },
  {
   "cell_type": "code",
   "execution_count": 8,
   "metadata": {},
   "outputs": [
    {
     "data": {
      "text/plain": [
       "'hzlsgdadrs'"
      ]
     },
     "execution_count": 8,
     "metadata": {},
     "output_type": "execute_result"
    }
   ],
   "source": [
    "def permutationCipher(password, key):\n",
    "    table = str.maketrans('abcdefghijklmnopqrstuvwxyz', key)\n",
    "    return password.translate(table)\n",
    "\n",
    "permutationCipher('iamthebest', 'zabcdefghijklmnopqrstuvwxy') # expected "
   ]
  },
  {
   "cell_type": "markdown",
   "metadata": {},
   "source": [
    "## String: competitiveEating\n",
    "The World Wide Competitive Eating tournament is going to be held in your town, and you're the one who is responsible for keeping track of time. For the great finale, a large billboard of the given `width` will be installed on the main square, where the time of possibly new world record will be shown.\n",
    "\n",
    "The track of time will be kept by a float number. It will be displayed on the board with the set `precision` precision with center alignment, and it is guaranteed that it will fit in the screen. Your task is to test the billboard. Given the time `t`, the `width` of the screen and the `precision` with which the time should be displayed, return a string that should be shown on the billboard.\n",
    "\n",
    "**Example**\n",
    "\n",
    "For `t = 3.1415`, `width = 10`, and `precision = 2` the output should be `\"   3.14   \"`"
   ]
  },
  {
   "cell_type": "code",
   "execution_count": 14,
   "metadata": {},
   "outputs": [
    {
     "data": {
      "text/plain": [
       "'   3.14   '"
      ]
     },
     "execution_count": 14,
     "metadata": {},
     "output_type": "execute_result"
    }
   ],
   "source": [
    "def competitiveEating(t, width, precision):\n",
    "    return f'{t:^{width}.{precision}f}'\n",
    "\n",
    "competitiveEating(3.1415, 10, 2)  # expected \"   3.14   \""
   ]
  },
  {
   "cell_type": "markdown",
   "metadata": {},
   "source": [
    "## RegEx:\n",
    "implement a function that will turn the old-style syntax into a new one. Implement a function that will turn the old-style string formating s into a new one so that the following two strings have the same meaning:\n",
    "\n",
    "    s % (*args)\n",
    "    s.format(*args)\n",
    "\n",
    "**Example**\n",
    "\n",
    "For `s = \"We expect the %f%% growth this week\"`, the output should be `newStyleFormatting(s) = \"We expect the {}% growth this week\"`"
   ]
  },
  {
   "cell_type": "code",
   "execution_count": 3,
   "metadata": {},
   "outputs": [
    {
     "data": {
      "text/plain": [
       "'We expect the {}% growth this week'"
      ]
     },
     "execution_count": 3,
     "metadata": {},
     "output_type": "execute_result"
    }
   ],
   "source": [
    "import re\n",
    "def newStyleFormatting(s):\n",
    "    return '%'.join(re.sub('%\\w', '{}', part) for part in s.split('%%'))\n",
    "\n",
    "newStyleFormatting(\"We expect the %f%% growth this week\")\n",
    "# expected \"We expect the {}% growth this week\""
   ]
  },
  {
   "cell_type": "code",
   "execution_count": 4,
   "metadata": {},
   "outputs": [
    {
     "data": {
      "text/plain": [
       "'{}{}%-growth in products is expected quite soon'"
      ]
     },
     "execution_count": 4,
     "metadata": {},
     "output_type": "execute_result"
    }
   ],
   "source": [
    "def newStyleFormatting(s):\n",
    "    a = re.sub('%%', '{%}', s)\n",
    "    b = re.sub('%[dfFgeEGnnxXodcbs]', '{}', a)\n",
    "    return re.sub('{%}','%',b)\n",
    "\n",
    "newStyleFormatting(\"%d%d%%-growth in products is expected quite soon\")\n",
    "# expected \"{}{}%-growth in products is expected quite soon\""
   ]
  },
  {
   "cell_type": "markdown",
   "metadata": {},
   "source": [
    "## String/RegEx: getCommit\n",
    "The Abanamama Version System (AVS) is a software versioning and revision control system used in highly secure environments. In this system, each commit is assigned a unique name, the first part of which consists of the username encrypted in the base-4 system using symbols `0`, `?`, `+`, and `!`, and the second part consists of symbols of English alphabet.\n",
    "\n",
    "Given such commit, your task is go remove the username part from it and return the second part as an answer.\n",
    "\n",
    "**Example**\n",
    "\n",
    "For `commit = \"0??+0+!!someCommIdhsSt\"`, the output should be `getCommit(commit) = \"someCommIdhsSt\"`"
   ]
  },
  {
   "cell_type": "code",
   "execution_count": 9,
   "metadata": {},
   "outputs": [
    {
     "data": {
      "text/plain": [
       "'someCommIdhsSt'"
      ]
     },
     "execution_count": 9,
     "metadata": {},
     "output_type": "execute_result"
    }
   ],
   "source": [
    "import re\n",
    "def getCommit(commit):\n",
    "    return re.sub(r'^[0?+!]+', '', commit)\n",
    "\n",
    "getCommit(\"0??+0+!!someCommIdhsSt\") # expected \"someCommIdhsSt\""
   ]
  },
  {
   "cell_type": "code",
   "execution_count": 8,
   "metadata": {},
   "outputs": [
    {
     "data": {
      "text/plain": [
       "'empThddsEldfeojLEJlfdk'"
      ]
     },
     "execution_count": 8,
     "metadata": {},
     "output_type": "execute_result"
    }
   ],
   "source": [
    "def getCommit(commit):\n",
    "    return commit.lstrip('0?+!')  # The lstrip() method removes any set of leading characters\n",
    "\n",
    "getCommit(\"!0?!++?empThddsEldfeojLEJlfdk\") # expected \"empThddsEldfeojLEJlfdk\""
   ]
  },
  {
   "cell_type": "markdown",
   "metadata": {},
   "source": [
    "### Number: leastCommonDenominator\n",
    "For the given list of denominators, find the least common denominator by finding their LCM."
   ]
  },
  {
   "cell_type": "code",
   "execution_count": 8,
   "metadata": {},
   "outputs": [
    {
     "data": {
      "text/plain": [
       "60"
      ]
     },
     "execution_count": 8,
     "metadata": {},
     "output_type": "execute_result"
    }
   ],
   "source": [
    "from math import gcd\n",
    "from functools import reduce\n",
    "\n",
    "def leastCommonDenominator(denominators):\n",
    "    return reduce(lambda a,b: a*b//gcd(a,b), denominators)\n",
    "\n",
    "leastCommonDenominator([2, 3, 4, 5, 6])  # expected 60"
   ]
  },
  {
   "cell_type": "markdown",
   "metadata": {},
   "source": [
    "### Set: correctScholarships\n",
    "For the upcoming academic year the Coolcoders University should decide which students will get the scholarships. Scholarships are considered to be correctly distributed if all best students have it, but not all students in the university do. Obviously, only university students should be able to get a scholarship, i.e. there should be no outsiders in the list of the students that will get a scholarships.\n",
    "\n",
    "You are given lists of unique student ids `bestStudents`, `scholarships` and `allStudents`, representing ids of the best students, students that will get a scholarship and all the students in the university, respectively. Return `True` if the scholarships are correctly distributed and `False` otherwise.\n",
    "\n",
    "**Example**\n",
    "\n",
    "For `bestStudents = [3, 5]`, `scholarships = [3, 5, 7]`, and `allStudents = [1, 2, 3, 4, 5, 6, 7]`, the output should be\n",
    "`True`\n",
    "\n",
    "For `bestStudents = [3, 5]`, `scholarships = [3, 5]`, and `allStudents = [3, 5]`, the output should be `False`\n",
    "\n",
    "All students get a scholarship, which is not correct.\n",
    "\n",
    "For `bestStudents = [3]`, `scholarships = [1, 3, 5]`, and `allStudents = [1, 2, 3]`, the output should be `False`\n",
    "\n",
    "There's no student with id `5`, yet somehow he managed to get a scholarship."
   ]
  },
  {
   "cell_type": "code",
   "execution_count": 20,
   "metadata": {},
   "outputs": [
    {
     "data": {
      "text/plain": [
       "False"
      ]
     },
     "execution_count": 20,
     "metadata": {},
     "output_type": "execute_result"
    }
   ],
   "source": [
    "def correctScholarships(bestStudents, scholarships, allStudents):\n",
    "    return set(bestStudents).issubset(scholarships) and \\\n",
    "           set(scholarships).issubset(allStudents) and  \\\n",
    "           set(allStudents).difference(scholarships) != set()\n",
    "\n",
    "correctScholarships([3, 5],[3, 5],[3, 5])"
   ]
  },
  {
   "cell_type": "code",
   "execution_count": 21,
   "metadata": {},
   "outputs": [
    {
     "data": {
      "text/plain": [
       "True"
      ]
     },
     "execution_count": 21,
     "metadata": {},
     "output_type": "execute_result"
    }
   ],
   "source": [
    "def correctScholarships(bestStudents, scholarships, allStudents):\n",
    "    return set(bestStudents) <= set(scholarships) < set(allStudents)\n",
    "\n",
    "correctScholarships([3, 5],[3, 5, 7],[1, 2, 3, 4, 5, 6, 7])"
   ]
  },
  {
   "cell_type": "markdown",
   "metadata": {},
   "source": [
    "## String: diamond\n",
    "Write a function that prints a Diamond to the console by returning a single string, using the asterisk `*` character as the printable character.\n",
    "Remove trailing spaces and finish every line with a `\\n`.\n",
    "Return `None` if the input is an *even* number or *negative*.\n",
    "\n",
    "A diamond with input 9 would look like:\n",
    "```bash\n",
    "    *\n",
    "   ***\n",
    "  *****\n",
    " *******\n",
    "*********\n",
    " *******\n",
    "  *****\n",
    "   ***\n",
    "    *\n",
    "```"
   ]
  },
  {
   "cell_type": "code",
   "execution_count": 16,
   "metadata": {},
   "outputs": [
    {
     "name": "stdout",
     "output_type": "stream",
     "text": [
      " *\n",
      "***\n",
      " *\n",
      "\n",
      "  *\n",
      " ***\n",
      "*****\n",
      " ***\n",
      "  *\n",
      "\n",
      "    *\n",
      "   ***\n",
      "  *****\n",
      " *******\n",
      "*********\n",
      " *******\n",
      "  *****\n",
      "   ***\n",
      "    *\n",
      "\n",
      "None\n"
     ]
    }
   ],
   "source": [
    "def diamond(n, block='*'):\n",
    "    if n<0 or n%2==0:\n",
    "        return None\n",
    "    d = block*n+'\\n';\n",
    "    for i in range(n-2,0,-2):\n",
    "        a = (block*i).center(n).rstrip()+'\\n';\n",
    "        d = a + d + a\n",
    "    return d\n",
    "\n",
    "for i in [3,5,9,10]:\n",
    "    print(diamond(i))"
   ]
  },
  {
   "cell_type": "markdown",
   "metadata": {},
   "source": [
    "## Set: anagram_checker\n",
    "Return a boolean indicating if both arguments are anagrams of each other"
   ]
  },
  {
   "cell_type": "code",
   "execution_count": 4,
   "metadata": {},
   "outputs": [
    {
     "data": {
      "text/plain": [
       "True"
      ]
     },
     "execution_count": 4,
     "metadata": {},
     "output_type": "execute_result"
    }
   ],
   "source": [
    "def anagram_checker(x1 = 'listen' , x2 = 'silent'):\n",
    "    return set(x1) == set(x2)\n",
    "\n",
    "anagram_checker() # expected True"
   ]
  },
  {
   "cell_type": "markdown",
   "metadata": {},
   "source": [
    "## Dict: flipped_dictionary\n",
    "Flip A Dictionary: Return a dictionary of reversed key value pairs"
   ]
  },
  {
   "cell_type": "code",
   "execution_count": 6,
   "metadata": {},
   "outputs": [
    {
     "data": {
      "text/plain": [
       "{1: 'a', 2: 'b', 3: 'c'}"
      ]
     },
     "execution_count": 6,
     "metadata": {},
     "output_type": "execute_result"
    }
   ],
   "source": [
    "def flipped_dictionary(d = {'a':1, 'b':2, 'c':3}):\n",
    "    return {v:k for k,v in d.items()}\n",
    "\n",
    "flipped_dictionary() # expected {1: ‘a’, 2: ‘b’, 3: ‘c’}"
   ]
  },
  {
   "cell_type": "code",
   "execution_count": 15,
   "metadata": {},
   "outputs": [
    {
     "data": {
      "text/plain": [
       "['$1', '$18087791.41', '$0.25', '$4521947.8525']"
      ]
     },
     "execution_count": 15,
     "metadata": {},
     "output_type": "execute_result"
    }
   ],
   "source": [
    "import re\n",
    "def extract_dollars(text):\n",
    "    return re.findall('\\$[\\d]+\\.?\\d*',text)\n",
    "\n",
    "input = \"If you invested $1 in the year 1801, you would have $18087791.41 today. This is a 7.967% return on investment. But if you invested only $0.25 in 1801, you would end up with $4521947.8525.\"\n",
    "extract_dollars(input) # expected [‘$1’, ‘$18087791.41’, ‘$0.25’, ‘$4521947.8525’]"
   ]
  },
  {
   "cell_type": "markdown",
   "metadata": {},
   "source": [
    "## Number: fibonacci\n",
    "Return a list of size n calculatng the fibonacci series ascending"
   ]
  },
  {
   "cell_type": "code",
   "execution_count": 23,
   "metadata": {},
   "outputs": [
    {
     "data": {
      "text/plain": [
       "[0, 1, 1, 2, 3, 5, 8, 13, 21, 34]"
      ]
     },
     "execution_count": 23,
     "metadata": {},
     "output_type": "execute_result"
    }
   ],
   "source": [
    "from functools import reduce\n",
    "def fibonacci(n = 10):\n",
    "    return [0] if n==1 else [0,1] if n==2 else fibonacci(n-1)+[sum(fibonacci(n-1)[-2:])]\n",
    "\n",
    "fibonacci()    # expected [0, 1, 1, 2, 3, 5, 8, 13, 21, 34]"
   ]
  },
  {
   "cell_type": "code",
   "execution_count": 32,
   "metadata": {},
   "outputs": [
    {
     "data": {
      "text/plain": [
       "[0, 1, 1, 2, 3, 5, 8, 13, 21, 34]"
      ]
     },
     "execution_count": 32,
     "metadata": {},
     "output_type": "execute_result"
    }
   ],
   "source": [
    "from functools import reduce\n",
    "def fibonacci(n = 10):\n",
    "    return reduce(lambda x, _: x + [x[-2] + x[-1]], [0] * (n-2), [0, 1])\n",
    "\n",
    "fibonacci()    # expected [0, 1, 1, 2, 3, 5, 8, 13, 21, 34]"
   ]
  },
  {
   "cell_type": "markdown",
   "metadata": {},
   "source": [
    "## String: password_generator\n",
    "Given a string and length `n`, generate and return a random password picked from characters in the string"
   ]
  },
  {
   "cell_type": "code",
   "execution_count": 31,
   "metadata": {},
   "outputs": [
    {
     "data": {
      "text/plain": [
       "'t8ft-1(hrtd(ym('"
      ]
     },
     "execution_count": 31,
     "metadata": {},
     "output_type": "execute_result"
    }
   ],
   "source": [
    "from random import choice\n",
    "def password_generator(chars = 'abcdefghijklmnopqrstuvwxyz0123456789%^*(-_=+)', n = 15):\n",
    "    return \"\".join([choice(chars) for i in range(n)])\n",
    "\n",
    "password_generator() # expected -z%po4-g8j*oifg"
   ]
  },
  {
   "cell_type": "code",
   "execution_count": null,
   "metadata": {},
   "outputs": [],
   "source": []
  }
 ],
 "metadata": {
  "kernelspec": {
   "display_name": "Python 3",
   "language": "python",
   "name": "python3"
  },
  "language_info": {
   "codemirror_mode": {
    "name": "ipython",
    "version": 3
   },
   "file_extension": ".py",
   "mimetype": "text/x-python",
   "name": "python",
   "nbconvert_exporter": "python",
   "pygments_lexer": "ipython3",
   "version": "3.8.5"
  }
 },
 "nbformat": 4,
 "nbformat_minor": 4
}
